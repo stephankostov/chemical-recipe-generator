{
 "cells": [
  {
   "cell_type": "raw",
   "metadata": {},
   "source": [
    "---\n",
    "output-file: 01-recipes-db.html\n",
    "title: Setup\n",
    "\n",
    "---\n",
    "\n"
   ]
  },
  {
   "cell_type": "markdown",
   "metadata": {},
   "source": [
    "# Introduction"
   ]
  },
  {
   "cell_type": "markdown",
   "metadata": {},
   "source": [
    "Through a quick overview/exploration of the existing online datasets, one was selected as the unanimous best. It's well organised, and contains the most data from the most amount of sources."
   ]
  },
  {
   "cell_type": "markdown",
   "metadata": {},
   "source": [
    "## Chapter Objective"
   ]
  },
  {
   "cell_type": "markdown",
   "metadata": {},
   "source": [
    "### Primary \n",
    "\n",
    "To organise the dataset with its ingredients as elements of the dataset. \n",
    "\n",
    "### Secondary\n",
    "\n",
    "Preprocess this dataset so it can be used in the following chapters."
   ]
  },
  {
   "cell_type": "markdown",
   "metadata": {},
   "source": [
    "# Setup "
   ]
  },
  {
   "cell_type": "code",
   "execution_count": 1,
   "metadata": {
    "execution": {
     "iopub.execute_input": "2024-02-11T11:19:40.750626Z",
     "iopub.status.busy": "2024-02-11T11:19:40.750227Z",
     "iopub.status.idle": "2024-02-11T11:19:40.756132Z",
     "shell.execute_reply": "2024-02-11T11:19:40.755243Z"
    }
   },
   "outputs": [],
   "source": [
    "#| default_exp recipes.create"
   ]
  },
  {
   "cell_type": "code",
   "execution_count": 2,
   "metadata": {
    "execution": {
     "iopub.execute_input": "2024-02-11T11:19:40.760419Z",
     "iopub.status.busy": "2024-02-11T11:19:40.760072Z",
     "iopub.status.idle": "2024-02-11T11:19:40.781714Z",
     "shell.execute_reply": "2024-02-11T11:19:40.780793Z"
    }
   },
   "outputs": [],
   "source": [
    "#| export\n",
    "from pyprojroot import here\n",
    "root = here()\n",
    "import sys\n",
    "sys.path.append(str(root))"
   ]
  },
  {
   "cell_type": "code",
   "execution_count": 3,
   "metadata": {
    "execution": {
     "iopub.execute_input": "2024-02-11T11:19:40.786146Z",
     "iopub.status.busy": "2024-02-11T11:19:40.785680Z",
     "iopub.status.idle": "2024-02-11T11:19:43.358901Z",
     "shell.execute_reply": "2024-02-11T11:19:43.358572Z"
    }
   },
   "outputs": [],
   "source": [
    "#| export\n",
    "import pandas as pd\n",
    "import numpy as np\n",
    "\n",
    "import nltk\n",
    "import spacy\n",
    "from spacy.matcher import Matcher\n",
    "from spacy.util import filter_spans\n",
    "\n",
    "import json\n",
    "from itertools import groupby\n",
    "import re\n",
    "import string\n",
    "import time\n",
    "\n",
    "from ast import literal_eval\n",
    "\n",
    "from tqdm import tqdm\n",
    "tqdm.pandas()\n",
    "\n",
    "from food_database.utils.utils import *\n",
    "\n",
    "from parse_ingredients import parse_ingredient as parse_ingredient_rgx\n",
    "from ingredient_parser import parse_ingredient as parse_ingredient_nlp\n",
    "\n",
    "import dask.dataframe as dd\n",
    "from dask.distributed import Client, LocalCluster\n",
    "import multiprocessing as mp\n",
    "\n",
    "from food_database.utils.parallel import *\n",
    "\n",
    "from pathlib import Path\n",
    "\n",
    "from sacremoses import MosesTokenizer, MosesDetokenizer\n",
    "mt, md = MosesTokenizer(lang='en'), MosesDetokenizer(lang='en')"
   ]
  },
  {
   "cell_type": "code",
   "execution_count": 4,
   "metadata": {
    "execution": {
     "iopub.execute_input": "2024-02-11T11:19:43.360399Z",
     "iopub.status.busy": "2024-02-11T11:19:43.360340Z",
     "iopub.status.idle": "2024-02-11T11:19:43.361914Z",
     "shell.execute_reply": "2024-02-11T11:19:43.361746Z"
    }
   },
   "outputs": [],
   "source": [
    "pd.options.mode.chained_assignment = None  # default='warn'"
   ]
  },
  {
   "cell_type": "code",
   "execution_count": 5,
   "metadata": {
    "execution": {
     "iopub.execute_input": "2024-02-11T11:19:43.362936Z",
     "iopub.status.busy": "2024-02-11T11:19:43.362862Z",
     "iopub.status.idle": "2024-02-11T11:19:43.364355Z",
     "shell.execute_reply": "2024-02-11T11:19:43.364184Z"
    }
   },
   "outputs": [],
   "source": [
    "#| export\n",
    "with open(f'{root}/data/globals/unit_conversions.json') as f:\n",
    "    unit_list = json.load(f)"
   ]
  },
  {
   "cell_type": "markdown",
   "metadata": {},
   "source": [
    "# Recipes DF"
   ]
  },
  {
   "cell_type": "code",
   "execution_count": 6,
   "metadata": {
    "execution": {
     "iopub.execute_input": "2024-02-11T11:19:43.365395Z",
     "iopub.status.busy": "2024-02-11T11:19:43.365320Z",
     "iopub.status.idle": "2024-02-11T11:19:55.330695Z",
     "shell.execute_reply": "2024-02-11T11:19:55.330481Z"
    }
   },
   "outputs": [
    {
     "data": {
      "text/html": [
       "<div>\n",
       "<style scoped>\n",
       "    .dataframe tbody tr th:only-of-type {\n",
       "        vertical-align: middle;\n",
       "    }\n",
       "\n",
       "    .dataframe tbody tr th {\n",
       "        vertical-align: top;\n",
       "    }\n",
       "\n",
       "    .dataframe thead th {\n",
       "        text-align: right;\n",
       "    }\n",
       "</style>\n",
       "<table border=\"1\" class=\"dataframe\">\n",
       "  <thead>\n",
       "    <tr style=\"text-align: right;\">\n",
       "      <th></th>\n",
       "      <th>title</th>\n",
       "      <th>ingredients</th>\n",
       "      <th>directions</th>\n",
       "      <th>link</th>\n",
       "      <th>source</th>\n",
       "      <th>NER</th>\n",
       "    </tr>\n",
       "  </thead>\n",
       "  <tbody>\n",
       "    <tr>\n",
       "      <th>0</th>\n",
       "      <td>No-Bake Nut Cookies</td>\n",
       "      <td>[\"1 c. firmly packed brown sugar\", \"1/2 c. eva...</td>\n",
       "      <td>[\"In a heavy 2-quart saucepan, mix brown sugar...</td>\n",
       "      <td>www.cookbooks.com/Recipe-Details.aspx?id=44874</td>\n",
       "      <td>Gathered</td>\n",
       "      <td>[\"brown sugar\", \"milk\", \"vanilla\", \"nuts\", \"bu...</td>\n",
       "    </tr>\n",
       "    <tr>\n",
       "      <th>1</th>\n",
       "      <td>Jewell Ball'S Chicken</td>\n",
       "      <td>[\"1 small jar chipped beef, cut up\", \"4 boned ...</td>\n",
       "      <td>[\"Place chipped beef on bottom of baking dish....</td>\n",
       "      <td>www.cookbooks.com/Recipe-Details.aspx?id=699419</td>\n",
       "      <td>Gathered</td>\n",
       "      <td>[\"beef\", \"chicken breasts\", \"cream of mushroom...</td>\n",
       "    </tr>\n",
       "    <tr>\n",
       "      <th>2</th>\n",
       "      <td>Creamy Corn</td>\n",
       "      <td>[\"2 (16 oz.) pkg. frozen corn\", \"1 (8 oz.) pkg...</td>\n",
       "      <td>[\"In a slow cooker, combine all ingredients. C...</td>\n",
       "      <td>www.cookbooks.com/Recipe-Details.aspx?id=10570</td>\n",
       "      <td>Gathered</td>\n",
       "      <td>[\"frozen corn\", \"cream cheese\", \"butter\", \"gar...</td>\n",
       "    </tr>\n",
       "    <tr>\n",
       "      <th>3</th>\n",
       "      <td>Chicken Funny</td>\n",
       "      <td>[\"1 large whole chicken\", \"2 (10 1/2 oz.) cans...</td>\n",
       "      <td>[\"Boil and debone chicken.\", \"Put bite size pi...</td>\n",
       "      <td>www.cookbooks.com/Recipe-Details.aspx?id=897570</td>\n",
       "      <td>Gathered</td>\n",
       "      <td>[\"chicken\", \"chicken gravy\", \"cream of mushroo...</td>\n",
       "    </tr>\n",
       "    <tr>\n",
       "      <th>4</th>\n",
       "      <td>Reeses Cups(Candy)</td>\n",
       "      <td>[\"1 c. peanut butter\", \"3/4 c. graham cracker ...</td>\n",
       "      <td>[\"Combine first four ingredients and press in ...</td>\n",
       "      <td>www.cookbooks.com/Recipe-Details.aspx?id=659239</td>\n",
       "      <td>Gathered</td>\n",
       "      <td>[\"peanut butter\", \"graham cracker crumbs\", \"bu...</td>\n",
       "    </tr>\n",
       "    <tr>\n",
       "      <th>...</th>\n",
       "      <td>...</td>\n",
       "      <td>...</td>\n",
       "      <td>...</td>\n",
       "      <td>...</td>\n",
       "      <td>...</td>\n",
       "      <td>...</td>\n",
       "    </tr>\n",
       "    <tr>\n",
       "      <th>2231137</th>\n",
       "      <td>Sunny's Fake Crepes</td>\n",
       "      <td>[\"1/2 cup chocolate hazelnut spread (recommend...</td>\n",
       "      <td>[\"Spread hazelnut spread on 1 side of each tor...</td>\n",
       "      <td>www.foodnetwork.com/recipes/sunny-anderson/sun...</td>\n",
       "      <td>Recipes1M</td>\n",
       "      <td>[\"chocolate hazelnut spread\", \"tortillas\", \"bu...</td>\n",
       "    </tr>\n",
       "    <tr>\n",
       "      <th>2231138</th>\n",
       "      <td>Devil Eggs</td>\n",
       "      <td>[\"1 dozen eggs\", \"1 paprika\", \"1 salt and pepp...</td>\n",
       "      <td>[\"Boil eggs on medium for 30mins.\", \"Then cool...</td>\n",
       "      <td>cookpad.com/us/recipes/355411-devil-eggs</td>\n",
       "      <td>Recipes1M</td>\n",
       "      <td>[\"eggs\", \"paprika\", \"salt\", \"choice\", \"miracle...</td>\n",
       "    </tr>\n",
       "    <tr>\n",
       "      <th>2231139</th>\n",
       "      <td>Extremely Easy and Quick - Namul Daikon Salad</td>\n",
       "      <td>[\"150 grams Daikon radish\", \"1 tbsp Sesame oil...</td>\n",
       "      <td>[\"Julienne the daikon and squeeze out the exce...</td>\n",
       "      <td>cookpad.com/us/recipes/153324-extremely-easy-a...</td>\n",
       "      <td>Recipes1M</td>\n",
       "      <td>[\"radish\", \"Sesame oil\", \"White sesame seeds\",...</td>\n",
       "    </tr>\n",
       "    <tr>\n",
       "      <th>2231140</th>\n",
       "      <td>Pan-Roasted Pork Chops With Apple Fritters</td>\n",
       "      <td>[\"1 cup apple cider\", \"6 tablespoons sugar\", \"...</td>\n",
       "      <td>[\"In a large bowl, mix the apple cider with 4 ...</td>\n",
       "      <td>cooking.nytimes.com/recipes/1015164</td>\n",
       "      <td>Recipes1M</td>\n",
       "      <td>[\"apple cider\", \"sugar\", \"kosher salt\", \"bay l...</td>\n",
       "    </tr>\n",
       "    <tr>\n",
       "      <th>2231141</th>\n",
       "      <td>Polpette in Spicy Tomato Sauce</td>\n",
       "      <td>[\"1 pound ground veal\", \"1/2 pound sweet Itali...</td>\n",
       "      <td>[\"Preheat the oven to 350.\", \"In a bowl, mix t...</td>\n",
       "      <td>www.foodandwine.com/recipes/polpette-spicy-tom...</td>\n",
       "      <td>Recipes1M</td>\n",
       "      <td>[\"ground veal\", \"sausage\", \"bread crumbs\", \"mi...</td>\n",
       "    </tr>\n",
       "  </tbody>\n",
       "</table>\n",
       "<p>2231142 rows × 6 columns</p>\n",
       "</div>"
      ],
      "text/plain": [
       "                                                 title  \\\n",
       "0                                  No-Bake Nut Cookies   \n",
       "1                                Jewell Ball'S Chicken   \n",
       "2                                          Creamy Corn   \n",
       "3                                        Chicken Funny   \n",
       "4                                 Reeses Cups(Candy)     \n",
       "...                                                ...   \n",
       "2231137                            Sunny's Fake Crepes   \n",
       "2231138                                     Devil Eggs   \n",
       "2231139  Extremely Easy and Quick - Namul Daikon Salad   \n",
       "2231140     Pan-Roasted Pork Chops With Apple Fritters   \n",
       "2231141                 Polpette in Spicy Tomato Sauce   \n",
       "\n",
       "                                               ingredients  \\\n",
       "0        [\"1 c. firmly packed brown sugar\", \"1/2 c. eva...   \n",
       "1        [\"1 small jar chipped beef, cut up\", \"4 boned ...   \n",
       "2        [\"2 (16 oz.) pkg. frozen corn\", \"1 (8 oz.) pkg...   \n",
       "3        [\"1 large whole chicken\", \"2 (10 1/2 oz.) cans...   \n",
       "4        [\"1 c. peanut butter\", \"3/4 c. graham cracker ...   \n",
       "...                                                    ...   \n",
       "2231137  [\"1/2 cup chocolate hazelnut spread (recommend...   \n",
       "2231138  [\"1 dozen eggs\", \"1 paprika\", \"1 salt and pepp...   \n",
       "2231139  [\"150 grams Daikon radish\", \"1 tbsp Sesame oil...   \n",
       "2231140  [\"1 cup apple cider\", \"6 tablespoons sugar\", \"...   \n",
       "2231141  [\"1 pound ground veal\", \"1/2 pound sweet Itali...   \n",
       "\n",
       "                                                directions  \\\n",
       "0        [\"In a heavy 2-quart saucepan, mix brown sugar...   \n",
       "1        [\"Place chipped beef on bottom of baking dish....   \n",
       "2        [\"In a slow cooker, combine all ingredients. C...   \n",
       "3        [\"Boil and debone chicken.\", \"Put bite size pi...   \n",
       "4        [\"Combine first four ingredients and press in ...   \n",
       "...                                                    ...   \n",
       "2231137  [\"Spread hazelnut spread on 1 side of each tor...   \n",
       "2231138  [\"Boil eggs on medium for 30mins.\", \"Then cool...   \n",
       "2231139  [\"Julienne the daikon and squeeze out the exce...   \n",
       "2231140  [\"In a large bowl, mix the apple cider with 4 ...   \n",
       "2231141  [\"Preheat the oven to 350.\", \"In a bowl, mix t...   \n",
       "\n",
       "                                                      link     source  \\\n",
       "0           www.cookbooks.com/Recipe-Details.aspx?id=44874   Gathered   \n",
       "1          www.cookbooks.com/Recipe-Details.aspx?id=699419   Gathered   \n",
       "2           www.cookbooks.com/Recipe-Details.aspx?id=10570   Gathered   \n",
       "3          www.cookbooks.com/Recipe-Details.aspx?id=897570   Gathered   \n",
       "4          www.cookbooks.com/Recipe-Details.aspx?id=659239   Gathered   \n",
       "...                                                    ...        ...   \n",
       "2231137  www.foodnetwork.com/recipes/sunny-anderson/sun...  Recipes1M   \n",
       "2231138           cookpad.com/us/recipes/355411-devil-eggs  Recipes1M   \n",
       "2231139  cookpad.com/us/recipes/153324-extremely-easy-a...  Recipes1M   \n",
       "2231140                cooking.nytimes.com/recipes/1015164  Recipes1M   \n",
       "2231141  www.foodandwine.com/recipes/polpette-spicy-tom...  Recipes1M   \n",
       "\n",
       "                                                       NER  \n",
       "0        [\"brown sugar\", \"milk\", \"vanilla\", \"nuts\", \"bu...  \n",
       "1        [\"beef\", \"chicken breasts\", \"cream of mushroom...  \n",
       "2        [\"frozen corn\", \"cream cheese\", \"butter\", \"gar...  \n",
       "3        [\"chicken\", \"chicken gravy\", \"cream of mushroo...  \n",
       "4        [\"peanut butter\", \"graham cracker crumbs\", \"bu...  \n",
       "...                                                    ...  \n",
       "2231137  [\"chocolate hazelnut spread\", \"tortillas\", \"bu...  \n",
       "2231138  [\"eggs\", \"paprika\", \"salt\", \"choice\", \"miracle...  \n",
       "2231139  [\"radish\", \"Sesame oil\", \"White sesame seeds\",...  \n",
       "2231140  [\"apple cider\", \"sugar\", \"kosher salt\", \"bay l...  \n",
       "2231141  [\"ground veal\", \"sausage\", \"bread crumbs\", \"mi...  \n",
       "\n",
       "[2231142 rows x 6 columns]"
      ]
     },
     "execution_count": 6,
     "metadata": {},
     "output_type": "execute_result"
    }
   ],
   "source": [
    "recipes_df = pd.read_csv('../data/datasets/recipe/recipes_nlg/full_dataset.csv')\n",
    "recipes_df = recipes_df.drop('Unnamed: 0', axis=1)\n",
    "recipes_df"
   ]
  },
  {
   "cell_type": "code",
   "execution_count": 7,
   "metadata": {
    "execution": {
     "iopub.execute_input": "2024-02-11T11:19:55.345705Z",
     "iopub.status.busy": "2024-02-11T11:19:55.345632Z",
     "iopub.status.idle": "2024-02-11T11:19:55.475362Z",
     "shell.execute_reply": "2024-02-11T11:19:55.474947Z"
    }
   },
   "outputs": [],
   "source": [
    "recipes_df = recipes_df.astype({'title': 'string', 'link': 'string', 'source': 'string'})"
   ]
  },
  {
   "cell_type": "code",
   "execution_count": 8,
   "metadata": {
    "execution": {
     "iopub.execute_input": "2024-02-11T11:19:55.476927Z",
     "iopub.status.busy": "2024-02-11T11:19:55.476861Z",
     "iopub.status.idle": "2024-02-11T11:19:55.489748Z",
     "shell.execute_reply": "2024-02-11T11:19:55.489550Z"
    }
   },
   "outputs": [
    {
     "name": "stdout",
     "output_type": "stream",
     "text": [
      "<class 'pandas.core.frame.DataFrame'>\n",
      "RangeIndex: 2231142 entries, 0 to 2231141\n",
      "Data columns (total 6 columns):\n",
      " #   Column       Dtype \n",
      "---  ------       ----- \n",
      " 0   title        string\n",
      " 1   ingredients  object\n",
      " 2   directions   object\n",
      " 3   link         string\n",
      " 4   source       string\n",
      " 5   NER          object\n",
      "dtypes: object(3), string(3)\n",
      "memory usage: 102.1+ MB\n"
     ]
    }
   ],
   "source": [
    "recipes_df.info()"
   ]
  },
  {
   "cell_type": "markdown",
   "metadata": {},
   "source": [
    "## Initial Exploration"
   ]
  },
  {
   "cell_type": "markdown",
   "metadata": {},
   "source": [
    "A brief exploration to understand the dataset."
   ]
  },
  {
   "cell_type": "markdown",
   "metadata": {},
   "source": [
    "### Sources"
   ]
  },
  {
   "cell_type": "code",
   "execution_count": 9,
   "metadata": {
    "execution": {
     "iopub.execute_input": "2024-02-11T11:19:55.490985Z",
     "iopub.status.busy": "2024-02-11T11:19:55.490926Z",
     "iopub.status.idle": "2024-02-11T11:19:55.493393Z",
     "shell.execute_reply": "2024-02-11T11:19:55.493230Z"
    }
   },
   "outputs": [
    {
     "data": {
      "text/plain": [
       "0     www.cookbooks.com/Recipe-Details.aspx?id=44874\n",
       "1    www.cookbooks.com/Recipe-Details.aspx?id=699419\n",
       "2     www.cookbooks.com/Recipe-Details.aspx?id=10570\n",
       "3    www.cookbooks.com/Recipe-Details.aspx?id=897570\n",
       "4    www.cookbooks.com/Recipe-Details.aspx?id=659239\n",
       "Name: link, dtype: string"
      ]
     },
     "execution_count": 9,
     "metadata": {},
     "output_type": "execute_result"
    }
   ],
   "source": [
    "recipes_df['link'].head()"
   ]
  },
  {
   "cell_type": "code",
   "execution_count": 10,
   "metadata": {
    "execution": {
     "iopub.execute_input": "2024-02-11T11:19:55.494399Z",
     "iopub.status.busy": "2024-02-11T11:19:55.494324Z",
     "iopub.status.idle": "2024-02-11T11:19:55.496510Z",
     "shell.execute_reply": "2024-02-11T11:19:55.496344Z"
    }
   },
   "outputs": [
    {
     "data": {
      "text/plain": [
       "'cookbooks.com'"
      ]
     },
     "execution_count": 10,
     "metadata": {},
     "output_type": "execute_result"
    }
   ],
   "source": [
    "def get_base_url(url):\n",
    "    base_url = re.search(r'^.+?[^\\/:](?=[?\\/]|$)', url).group(0)\n",
    "    base_url = base_url.replace('www.', '')\n",
    "    return base_url\n",
    "\n",
    "get_base_url(recipes_df['link'].iloc[0])"
   ]
  },
  {
   "cell_type": "code",
   "execution_count": 11,
   "metadata": {
    "execution": {
     "iopub.execute_input": "2024-02-11T11:19:55.497333Z",
     "iopub.status.busy": "2024-02-11T11:19:55.497283Z",
     "iopub.status.idle": "2024-02-11T11:19:57.147179Z",
     "shell.execute_reply": "2024-02-11T11:19:57.146904Z"
    }
   },
   "outputs": [
    {
     "data": {
      "text/plain": [
       "link\n",
       "cookbooks.com          896341\n",
       "food.com               499616\n",
       "epicurious.com         129444\n",
       "tastykitchen.com        78768\n",
       "myrecipes.com           64895\n",
       "allrecipes.com          64602\n",
       "cookpad.com             61020\n",
       "cookeatshare.com        59307\n",
       "yummly.com              51963\n",
       "tasteofhome.com         51594\n",
       "foodnetwork.com         49443\n",
       "food52.com              48501\n",
       "kraftrecipes.com        42010\n",
       "recipeland.com          24418\n",
       "recipes-plus.com        20524\n",
       "cooking.nytimes.com     16367\n",
       "foodandwine.com         15436\n",
       "seriouseats.com         12632\n",
       "foodgeeks.com            8963\n",
       "cookstr.com              8797\n",
       "online-cookbook.com      5691\n",
       "chowhound.com            5671\n",
       "vegetariantimes.com      4578\n",
       "delish.com               3880\n",
       "landolakes.com           2492\n",
       "foodrepublic.com         2259\n",
       "lovefood.com             1930\n",
       "Name: count, dtype: int64"
      ]
     },
     "execution_count": 11,
     "metadata": {},
     "output_type": "execute_result"
    }
   ],
   "source": [
    "recipes_df['link'].apply(get_base_url).value_counts()"
   ]
  },
  {
   "cell_type": "markdown",
   "metadata": {},
   "source": [
    "## Sampling DF"
   ]
  },
  {
   "cell_type": "markdown",
   "metadata": {},
   "source": [
    "A large dataset, we want a small sample to be able to work with quickly during exploration."
   ]
  },
  {
   "cell_type": "code",
   "execution_count": 12,
   "metadata": {
    "execution": {
     "iopub.execute_input": "2024-02-11T11:19:57.148445Z",
     "iopub.status.busy": "2024-02-11T11:19:57.148384Z",
     "iopub.status.idle": "2024-02-11T11:19:57.564481Z",
     "shell.execute_reply": "2024-02-11T11:19:57.564195Z"
    }
   },
   "outputs": [
    {
     "data": {
      "text/plain": [
       "(300, 7437.14)"
      ]
     },
     "execution_count": 12,
     "metadata": {},
     "output_type": "execute_result"
    }
   ],
   "source": [
    "recipes_df_full = recipes_df.copy()\n",
    "recipes_df = recipes_df_full.sample(300, ignore_index=False, random_state=777)\n",
    "recipes_df.shape[0], recipes_df_full.shape[0]/recipes_df.shape[0]"
   ]
  },
  {
   "cell_type": "code",
   "execution_count": 13,
   "metadata": {
    "execution": {
     "iopub.execute_input": "2024-02-11T11:19:57.565654Z",
     "iopub.status.busy": "2024-02-11T11:19:57.565595Z",
     "iopub.status.idle": "2024-02-11T11:19:57.567923Z",
     "shell.execute_reply": "2024-02-11T11:19:57.567734Z"
    }
   },
   "outputs": [],
   "source": [
    "# adding tracked recipes\n",
    "recipes_df = pd.concat([recipes_df, recipes_df_full.loc[[2006319, 931097]]], axis=0)"
   ]
  },
  {
   "cell_type": "code",
   "execution_count": 14,
   "metadata": {
    "execution": {
     "iopub.execute_input": "2024-02-11T11:19:57.568978Z",
     "iopub.status.busy": "2024-02-11T11:19:57.568899Z",
     "iopub.status.idle": "2024-02-11T11:19:57.582631Z",
     "shell.execute_reply": "2024-02-11T11:19:57.582404Z"
    }
   },
   "outputs": [],
   "source": [
    "recipes_df.to_feather('../data/local/recipe/partial/recipe/0.feather')"
   ]
  },
  {
   "cell_type": "markdown",
   "metadata": {},
   "source": [
    "# Ingredients DF"
   ]
  },
  {
   "cell_type": "markdown",
   "metadata": {},
   "source": [
    "Since we will be working with each individial ingredient, we want to explode each ingredient as its own row, which we could tie to its recipe through a MultiIndex."
   ]
  },
  {
   "cell_type": "code",
   "execution_count": 15,
   "metadata": {
    "execution": {
     "iopub.execute_input": "2024-02-11T11:19:57.583930Z",
     "iopub.status.busy": "2024-02-11T11:19:57.583838Z",
     "iopub.status.idle": "2024-02-11T11:19:57.588093Z",
     "shell.execute_reply": "2024-02-11T11:19:57.587901Z"
    }
   },
   "outputs": [],
   "source": [
    "# read_csv reads lists as strings -> convering them to lists beforehand\n",
    "recipes_df['ingredients'] = recipes_df['ingredients'].apply(lambda x: literal_eval(x))"
   ]
  },
  {
   "cell_type": "code",
   "execution_count": 16,
   "metadata": {
    "execution": {
     "iopub.execute_input": "2024-02-11T11:19:57.589018Z",
     "iopub.status.busy": "2024-02-11T11:19:57.588927Z",
     "iopub.status.idle": "2024-02-11T11:19:57.597811Z",
     "shell.execute_reply": "2024-02-11T11:19:57.597600Z"
    }
   },
   "outputs": [
    {
     "data": {
      "text/html": [
       "<div>\n",
       "<style scoped>\n",
       "    .dataframe tbody tr th:only-of-type {\n",
       "        vertical-align: middle;\n",
       "    }\n",
       "\n",
       "    .dataframe tbody tr th {\n",
       "        vertical-align: top;\n",
       "    }\n",
       "\n",
       "    .dataframe thead th {\n",
       "        text-align: right;\n",
       "    }\n",
       "</style>\n",
       "<table border=\"1\" class=\"dataframe\">\n",
       "  <thead>\n",
       "    <tr style=\"text-align: right;\">\n",
       "      <th></th>\n",
       "      <th>title</th>\n",
       "      <th>ingredients</th>\n",
       "      <th>directions</th>\n",
       "      <th>link</th>\n",
       "      <th>source</th>\n",
       "      <th>NER</th>\n",
       "    </tr>\n",
       "  </thead>\n",
       "  <tbody>\n",
       "    <tr>\n",
       "      <th>1746116</th>\n",
       "      <td>Turtle Thumbprints</td>\n",
       "      <td>2/3 cup Land O Lakes Butter, softened</td>\n",
       "      <td>[\"Combine butter, sugar, egg yolks and vanilla...</td>\n",
       "      <td>www.landolakes.com/recipe/1086/turtle-thumbprints</td>\n",
       "      <td>Recipes1M</td>\n",
       "      <td>[\"Butter\", \"sugar\", \"Eggs\", \"vanilla\", \"flour\"...</td>\n",
       "    </tr>\n",
       "    <tr>\n",
       "      <th>1746116</th>\n",
       "      <td>Turtle Thumbprints</td>\n",
       "      <td>1/2 cup sugar</td>\n",
       "      <td>[\"Combine butter, sugar, egg yolks and vanilla...</td>\n",
       "      <td>www.landolakes.com/recipe/1086/turtle-thumbprints</td>\n",
       "      <td>Recipes1M</td>\n",
       "      <td>[\"Butter\", \"sugar\", \"Eggs\", \"vanilla\", \"flour\"...</td>\n",
       "    </tr>\n",
       "    <tr>\n",
       "      <th>1746116</th>\n",
       "      <td>Turtle Thumbprints</td>\n",
       "      <td>2 Land O Lakes Eggs (yolks only)</td>\n",
       "      <td>[\"Combine butter, sugar, egg yolks and vanilla...</td>\n",
       "      <td>www.landolakes.com/recipe/1086/turtle-thumbprints</td>\n",
       "      <td>Recipes1M</td>\n",
       "      <td>[\"Butter\", \"sugar\", \"Eggs\", \"vanilla\", \"flour\"...</td>\n",
       "    </tr>\n",
       "    <tr>\n",
       "      <th>1746116</th>\n",
       "      <td>Turtle Thumbprints</td>\n",
       "      <td>1 teaspoon vanilla</td>\n",
       "      <td>[\"Combine butter, sugar, egg yolks and vanilla...</td>\n",
       "      <td>www.landolakes.com/recipe/1086/turtle-thumbprints</td>\n",
       "      <td>Recipes1M</td>\n",
       "      <td>[\"Butter\", \"sugar\", \"Eggs\", \"vanilla\", \"flour\"...</td>\n",
       "    </tr>\n",
       "    <tr>\n",
       "      <th>1746116</th>\n",
       "      <td>Turtle Thumbprints</td>\n",
       "      <td>1 1/2 cups all-purpose flour</td>\n",
       "      <td>[\"Combine butter, sugar, egg yolks and vanilla...</td>\n",
       "      <td>www.landolakes.com/recipe/1086/turtle-thumbprints</td>\n",
       "      <td>Recipes1M</td>\n",
       "      <td>[\"Butter\", \"sugar\", \"Eggs\", \"vanilla\", \"flour\"...</td>\n",
       "    </tr>\n",
       "    <tr>\n",
       "      <th>...</th>\n",
       "      <td>...</td>\n",
       "      <td>...</td>\n",
       "      <td>...</td>\n",
       "      <td>...</td>\n",
       "      <td>...</td>\n",
       "      <td>...</td>\n",
       "    </tr>\n",
       "    <tr>\n",
       "      <th>931097</th>\n",
       "      <td>Pineapple Spiced Chicken And Rice</td>\n",
       "      <td>1/4 cup chopped red bell pepper</td>\n",
       "      <td>[\"Drain pineapple; reserve 1 tablespoon juice....</td>\n",
       "      <td>www.allrecipes.com/recipe/232611/pineapple-spi...</td>\n",
       "      <td>Gathered</td>\n",
       "      <td>[\"Pineapple\", \"garlic\", \"ground thyme\", \"groun...</td>\n",
       "    </tr>\n",
       "    <tr>\n",
       "      <th>931097</th>\n",
       "      <td>Pineapple Spiced Chicken And Rice</td>\n",
       "      <td>1 cup Jasmine rice</td>\n",
       "      <td>[\"Drain pineapple; reserve 1 tablespoon juice....</td>\n",
       "      <td>www.allrecipes.com/recipe/232611/pineapple-spi...</td>\n",
       "      <td>Gathered</td>\n",
       "      <td>[\"Pineapple\", \"garlic\", \"ground thyme\", \"groun...</td>\n",
       "    </tr>\n",
       "    <tr>\n",
       "      <th>931097</th>\n",
       "      <td>Pineapple Spiced Chicken And Rice</td>\n",
       "      <td>1 1/2 cups reduced-sodium chicken broth</td>\n",
       "      <td>[\"Drain pineapple; reserve 1 tablespoon juice....</td>\n",
       "      <td>www.allrecipes.com/recipe/232611/pineapple-spi...</td>\n",
       "      <td>Gathered</td>\n",
       "      <td>[\"Pineapple\", \"garlic\", \"ground thyme\", \"groun...</td>\n",
       "    </tr>\n",
       "    <tr>\n",
       "      <th>931097</th>\n",
       "      <td>Pineapple Spiced Chicken And Rice</td>\n",
       "      <td>1 tablespoon chopped fresh basil</td>\n",
       "      <td>[\"Drain pineapple; reserve 1 tablespoon juice....</td>\n",
       "      <td>www.allrecipes.com/recipe/232611/pineapple-spi...</td>\n",
       "      <td>Gathered</td>\n",
       "      <td>[\"Pineapple\", \"garlic\", \"ground thyme\", \"groun...</td>\n",
       "    </tr>\n",
       "    <tr>\n",
       "      <th>931097</th>\n",
       "      <td>Pineapple Spiced Chicken And Rice</td>\n",
       "      <td>Salt and ground pepper to taste</td>\n",
       "      <td>[\"Drain pineapple; reserve 1 tablespoon juice....</td>\n",
       "      <td>www.allrecipes.com/recipe/232611/pineapple-spi...</td>\n",
       "      <td>Gathered</td>\n",
       "      <td>[\"Pineapple\", \"garlic\", \"ground thyme\", \"groun...</td>\n",
       "    </tr>\n",
       "  </tbody>\n",
       "</table>\n",
       "<p>2511 rows × 6 columns</p>\n",
       "</div>"
      ],
      "text/plain": [
       "                                     title  \\\n",
       "1746116                 Turtle Thumbprints   \n",
       "1746116                 Turtle Thumbprints   \n",
       "1746116                 Turtle Thumbprints   \n",
       "1746116                 Turtle Thumbprints   \n",
       "1746116                 Turtle Thumbprints   \n",
       "...                                    ...   \n",
       "931097   Pineapple Spiced Chicken And Rice   \n",
       "931097   Pineapple Spiced Chicken And Rice   \n",
       "931097   Pineapple Spiced Chicken And Rice   \n",
       "931097   Pineapple Spiced Chicken And Rice   \n",
       "931097   Pineapple Spiced Chicken And Rice   \n",
       "\n",
       "                                     ingredients  \\\n",
       "1746116    2/3 cup Land O Lakes Butter, softened   \n",
       "1746116                            1/2 cup sugar   \n",
       "1746116         2 Land O Lakes Eggs (yolks only)   \n",
       "1746116                       1 teaspoon vanilla   \n",
       "1746116             1 1/2 cups all-purpose flour   \n",
       "...                                          ...   \n",
       "931097           1/4 cup chopped red bell pepper   \n",
       "931097                        1 cup Jasmine rice   \n",
       "931097   1 1/2 cups reduced-sodium chicken broth   \n",
       "931097          1 tablespoon chopped fresh basil   \n",
       "931097           Salt and ground pepper to taste   \n",
       "\n",
       "                                                directions  \\\n",
       "1746116  [\"Combine butter, sugar, egg yolks and vanilla...   \n",
       "1746116  [\"Combine butter, sugar, egg yolks and vanilla...   \n",
       "1746116  [\"Combine butter, sugar, egg yolks and vanilla...   \n",
       "1746116  [\"Combine butter, sugar, egg yolks and vanilla...   \n",
       "1746116  [\"Combine butter, sugar, egg yolks and vanilla...   \n",
       "...                                                    ...   \n",
       "931097   [\"Drain pineapple; reserve 1 tablespoon juice....   \n",
       "931097   [\"Drain pineapple; reserve 1 tablespoon juice....   \n",
       "931097   [\"Drain pineapple; reserve 1 tablespoon juice....   \n",
       "931097   [\"Drain pineapple; reserve 1 tablespoon juice....   \n",
       "931097   [\"Drain pineapple; reserve 1 tablespoon juice....   \n",
       "\n",
       "                                                      link     source  \\\n",
       "1746116  www.landolakes.com/recipe/1086/turtle-thumbprints  Recipes1M   \n",
       "1746116  www.landolakes.com/recipe/1086/turtle-thumbprints  Recipes1M   \n",
       "1746116  www.landolakes.com/recipe/1086/turtle-thumbprints  Recipes1M   \n",
       "1746116  www.landolakes.com/recipe/1086/turtle-thumbprints  Recipes1M   \n",
       "1746116  www.landolakes.com/recipe/1086/turtle-thumbprints  Recipes1M   \n",
       "...                                                    ...        ...   \n",
       "931097   www.allrecipes.com/recipe/232611/pineapple-spi...   Gathered   \n",
       "931097   www.allrecipes.com/recipe/232611/pineapple-spi...   Gathered   \n",
       "931097   www.allrecipes.com/recipe/232611/pineapple-spi...   Gathered   \n",
       "931097   www.allrecipes.com/recipe/232611/pineapple-spi...   Gathered   \n",
       "931097   www.allrecipes.com/recipe/232611/pineapple-spi...   Gathered   \n",
       "\n",
       "                                                       NER  \n",
       "1746116  [\"Butter\", \"sugar\", \"Eggs\", \"vanilla\", \"flour\"...  \n",
       "1746116  [\"Butter\", \"sugar\", \"Eggs\", \"vanilla\", \"flour\"...  \n",
       "1746116  [\"Butter\", \"sugar\", \"Eggs\", \"vanilla\", \"flour\"...  \n",
       "1746116  [\"Butter\", \"sugar\", \"Eggs\", \"vanilla\", \"flour\"...  \n",
       "1746116  [\"Butter\", \"sugar\", \"Eggs\", \"vanilla\", \"flour\"...  \n",
       "...                                                    ...  \n",
       "931097   [\"Pineapple\", \"garlic\", \"ground thyme\", \"groun...  \n",
       "931097   [\"Pineapple\", \"garlic\", \"ground thyme\", \"groun...  \n",
       "931097   [\"Pineapple\", \"garlic\", \"ground thyme\", \"groun...  \n",
       "931097   [\"Pineapple\", \"garlic\", \"ground thyme\", \"groun...  \n",
       "931097   [\"Pineapple\", \"garlic\", \"ground thyme\", \"groun...  \n",
       "\n",
       "[2511 rows x 6 columns]"
      ]
     },
     "execution_count": 16,
     "metadata": {},
     "output_type": "execute_result"
    }
   ],
   "source": [
    "ingredients_df = recipes_df.explode('ingredients')\n",
    "ingredients_df"
   ]
  },
  {
   "cell_type": "code",
   "execution_count": 17,
   "metadata": {
    "execution": {
     "iopub.execute_input": "2024-02-11T11:19:57.598949Z",
     "iopub.status.busy": "2024-02-11T11:19:57.598852Z",
     "iopub.status.idle": "2024-02-11T11:19:57.604760Z",
     "shell.execute_reply": "2024-02-11T11:19:57.604584Z"
    }
   },
   "outputs": [
    {
     "data": {
      "text/html": [
       "<div>\n",
       "<style scoped>\n",
       "    .dataframe tbody tr th:only-of-type {\n",
       "        vertical-align: middle;\n",
       "    }\n",
       "\n",
       "    .dataframe tbody tr th {\n",
       "        vertical-align: top;\n",
       "    }\n",
       "\n",
       "    .dataframe thead th {\n",
       "        text-align: right;\n",
       "    }\n",
       "</style>\n",
       "<table border=\"1\" class=\"dataframe\">\n",
       "  <thead>\n",
       "    <tr style=\"text-align: right;\">\n",
       "      <th></th>\n",
       "      <th></th>\n",
       "      <th>title</th>\n",
       "      <th>ingredients</th>\n",
       "      <th>directions</th>\n",
       "      <th>link</th>\n",
       "      <th>source</th>\n",
       "      <th>NER</th>\n",
       "    </tr>\n",
       "    <tr>\n",
       "      <th>recipe</th>\n",
       "      <th>ingredient</th>\n",
       "      <th></th>\n",
       "      <th></th>\n",
       "      <th></th>\n",
       "      <th></th>\n",
       "      <th></th>\n",
       "      <th></th>\n",
       "    </tr>\n",
       "  </thead>\n",
       "  <tbody>\n",
       "    <tr>\n",
       "      <th rowspan=\"5\" valign=\"top\">1746116</th>\n",
       "      <th>0</th>\n",
       "      <td>Turtle Thumbprints</td>\n",
       "      <td>2/3 cup Land O Lakes Butter, softened</td>\n",
       "      <td>[\"Combine butter, sugar, egg yolks and vanilla...</td>\n",
       "      <td>www.landolakes.com/recipe/1086/turtle-thumbprints</td>\n",
       "      <td>Recipes1M</td>\n",
       "      <td>[\"Butter\", \"sugar\", \"Eggs\", \"vanilla\", \"flour\"...</td>\n",
       "    </tr>\n",
       "    <tr>\n",
       "      <th>1</th>\n",
       "      <td>Turtle Thumbprints</td>\n",
       "      <td>1/2 cup sugar</td>\n",
       "      <td>[\"Combine butter, sugar, egg yolks and vanilla...</td>\n",
       "      <td>www.landolakes.com/recipe/1086/turtle-thumbprints</td>\n",
       "      <td>Recipes1M</td>\n",
       "      <td>[\"Butter\", \"sugar\", \"Eggs\", \"vanilla\", \"flour\"...</td>\n",
       "    </tr>\n",
       "    <tr>\n",
       "      <th>2</th>\n",
       "      <td>Turtle Thumbprints</td>\n",
       "      <td>2 Land O Lakes Eggs (yolks only)</td>\n",
       "      <td>[\"Combine butter, sugar, egg yolks and vanilla...</td>\n",
       "      <td>www.landolakes.com/recipe/1086/turtle-thumbprints</td>\n",
       "      <td>Recipes1M</td>\n",
       "      <td>[\"Butter\", \"sugar\", \"Eggs\", \"vanilla\", \"flour\"...</td>\n",
       "    </tr>\n",
       "    <tr>\n",
       "      <th>3</th>\n",
       "      <td>Turtle Thumbprints</td>\n",
       "      <td>1 teaspoon vanilla</td>\n",
       "      <td>[\"Combine butter, sugar, egg yolks and vanilla...</td>\n",
       "      <td>www.landolakes.com/recipe/1086/turtle-thumbprints</td>\n",
       "      <td>Recipes1M</td>\n",
       "      <td>[\"Butter\", \"sugar\", \"Eggs\", \"vanilla\", \"flour\"...</td>\n",
       "    </tr>\n",
       "    <tr>\n",
       "      <th>4</th>\n",
       "      <td>Turtle Thumbprints</td>\n",
       "      <td>1 1/2 cups all-purpose flour</td>\n",
       "      <td>[\"Combine butter, sugar, egg yolks and vanilla...</td>\n",
       "      <td>www.landolakes.com/recipe/1086/turtle-thumbprints</td>\n",
       "      <td>Recipes1M</td>\n",
       "      <td>[\"Butter\", \"sugar\", \"Eggs\", \"vanilla\", \"flour\"...</td>\n",
       "    </tr>\n",
       "  </tbody>\n",
       "</table>\n",
       "</div>"
      ],
      "text/plain": [
       "                                 title                            ingredients  \\\n",
       "recipe  ingredient                                                              \n",
       "1746116 0           Turtle Thumbprints  2/3 cup Land O Lakes Butter, softened   \n",
       "        1           Turtle Thumbprints                          1/2 cup sugar   \n",
       "        2           Turtle Thumbprints       2 Land O Lakes Eggs (yolks only)   \n",
       "        3           Turtle Thumbprints                     1 teaspoon vanilla   \n",
       "        4           Turtle Thumbprints           1 1/2 cups all-purpose flour   \n",
       "\n",
       "                                                           directions  \\\n",
       "recipe  ingredient                                                      \n",
       "1746116 0           [\"Combine butter, sugar, egg yolks and vanilla...   \n",
       "        1           [\"Combine butter, sugar, egg yolks and vanilla...   \n",
       "        2           [\"Combine butter, sugar, egg yolks and vanilla...   \n",
       "        3           [\"Combine butter, sugar, egg yolks and vanilla...   \n",
       "        4           [\"Combine butter, sugar, egg yolks and vanilla...   \n",
       "\n",
       "                                                                 link  \\\n",
       "recipe  ingredient                                                      \n",
       "1746116 0           www.landolakes.com/recipe/1086/turtle-thumbprints   \n",
       "        1           www.landolakes.com/recipe/1086/turtle-thumbprints   \n",
       "        2           www.landolakes.com/recipe/1086/turtle-thumbprints   \n",
       "        3           www.landolakes.com/recipe/1086/turtle-thumbprints   \n",
       "        4           www.landolakes.com/recipe/1086/turtle-thumbprints   \n",
       "\n",
       "                       source  \\\n",
       "recipe  ingredient              \n",
       "1746116 0           Recipes1M   \n",
       "        1           Recipes1M   \n",
       "        2           Recipes1M   \n",
       "        3           Recipes1M   \n",
       "        4           Recipes1M   \n",
       "\n",
       "                                                                  NER  \n",
       "recipe  ingredient                                                     \n",
       "1746116 0           [\"Butter\", \"sugar\", \"Eggs\", \"vanilla\", \"flour\"...  \n",
       "        1           [\"Butter\", \"sugar\", \"Eggs\", \"vanilla\", \"flour\"...  \n",
       "        2           [\"Butter\", \"sugar\", \"Eggs\", \"vanilla\", \"flour\"...  \n",
       "        3           [\"Butter\", \"sugar\", \"Eggs\", \"vanilla\", \"flour\"...  \n",
       "        4           [\"Butter\", \"sugar\", \"Eggs\", \"vanilla\", \"flour\"...  "
      ]
     },
     "execution_count": 17,
     "metadata": {},
     "output_type": "execute_result"
    }
   ],
   "source": [
    "# setting indices for the ingredients in each recipe (multiindex)\n",
    "ingredients_df['ingredient'] = ingredients_df.groupby(ingredients_df.index).cumcount()\n",
    "ingredients_df = ingredients_df.set_index([ingredients_df.index, 'ingredient'])\n",
    "ingredients_df.index = ingredients_df.index.set_names(['recipe', 'ingredient'])\n",
    "ingredients_df.head()"
   ]
  },
  {
   "cell_type": "code",
   "execution_count": 18,
   "metadata": {
    "execution": {
     "iopub.execute_input": "2024-02-11T11:19:57.605671Z",
     "iopub.status.busy": "2024-02-11T11:19:57.605593Z",
     "iopub.status.idle": "2024-02-11T11:19:57.609685Z",
     "shell.execute_reply": "2024-02-11T11:19:57.609518Z"
    }
   },
   "outputs": [
    {
     "data": {
      "text/html": [
       "<div>\n",
       "<style scoped>\n",
       "    .dataframe tbody tr th:only-of-type {\n",
       "        vertical-align: middle;\n",
       "    }\n",
       "\n",
       "    .dataframe tbody tr th {\n",
       "        vertical-align: top;\n",
       "    }\n",
       "\n",
       "    .dataframe thead th {\n",
       "        text-align: right;\n",
       "    }\n",
       "</style>\n",
       "<table border=\"1\" class=\"dataframe\">\n",
       "  <thead>\n",
       "    <tr style=\"text-align: right;\">\n",
       "      <th></th>\n",
       "      <th></th>\n",
       "      <th>ingredient_string</th>\n",
       "      <th>NER</th>\n",
       "    </tr>\n",
       "    <tr>\n",
       "      <th>recipe</th>\n",
       "      <th>ingredient</th>\n",
       "      <th></th>\n",
       "      <th></th>\n",
       "    </tr>\n",
       "  </thead>\n",
       "  <tbody>\n",
       "    <tr>\n",
       "      <th rowspan=\"5\" valign=\"top\">1746116</th>\n",
       "      <th>0</th>\n",
       "      <td>2/3 cup Land O Lakes Butter, softened</td>\n",
       "      <td>[\"Butter\", \"sugar\", \"Eggs\", \"vanilla\", \"flour\"...</td>\n",
       "    </tr>\n",
       "    <tr>\n",
       "      <th>1</th>\n",
       "      <td>1/2 cup sugar</td>\n",
       "      <td>[\"Butter\", \"sugar\", \"Eggs\", \"vanilla\", \"flour\"...</td>\n",
       "    </tr>\n",
       "    <tr>\n",
       "      <th>2</th>\n",
       "      <td>2 Land O Lakes Eggs (yolks only)</td>\n",
       "      <td>[\"Butter\", \"sugar\", \"Eggs\", \"vanilla\", \"flour\"...</td>\n",
       "    </tr>\n",
       "    <tr>\n",
       "      <th>3</th>\n",
       "      <td>1 teaspoon vanilla</td>\n",
       "      <td>[\"Butter\", \"sugar\", \"Eggs\", \"vanilla\", \"flour\"...</td>\n",
       "    </tr>\n",
       "    <tr>\n",
       "      <th>4</th>\n",
       "      <td>1 1/2 cups all-purpose flour</td>\n",
       "      <td>[\"Butter\", \"sugar\", \"Eggs\", \"vanilla\", \"flour\"...</td>\n",
       "    </tr>\n",
       "    <tr>\n",
       "      <th>...</th>\n",
       "      <th>...</th>\n",
       "      <td>...</td>\n",
       "      <td>...</td>\n",
       "    </tr>\n",
       "    <tr>\n",
       "      <th rowspan=\"5\" valign=\"top\">931097</th>\n",
       "      <th>10</th>\n",
       "      <td>1/4 cup chopped red bell pepper</td>\n",
       "      <td>[\"Pineapple\", \"garlic\", \"ground thyme\", \"groun...</td>\n",
       "    </tr>\n",
       "    <tr>\n",
       "      <th>11</th>\n",
       "      <td>1 cup Jasmine rice</td>\n",
       "      <td>[\"Pineapple\", \"garlic\", \"ground thyme\", \"groun...</td>\n",
       "    </tr>\n",
       "    <tr>\n",
       "      <th>12</th>\n",
       "      <td>1 1/2 cups reduced-sodium chicken broth</td>\n",
       "      <td>[\"Pineapple\", \"garlic\", \"ground thyme\", \"groun...</td>\n",
       "    </tr>\n",
       "    <tr>\n",
       "      <th>13</th>\n",
       "      <td>1 tablespoon chopped fresh basil</td>\n",
       "      <td>[\"Pineapple\", \"garlic\", \"ground thyme\", \"groun...</td>\n",
       "    </tr>\n",
       "    <tr>\n",
       "      <th>14</th>\n",
       "      <td>Salt and ground pepper to taste</td>\n",
       "      <td>[\"Pineapple\", \"garlic\", \"ground thyme\", \"groun...</td>\n",
       "    </tr>\n",
       "  </tbody>\n",
       "</table>\n",
       "<p>2511 rows × 2 columns</p>\n",
       "</div>"
      ],
      "text/plain": [
       "                                          ingredient_string  \\\n",
       "recipe  ingredient                                            \n",
       "1746116 0             2/3 cup Land O Lakes Butter, softened   \n",
       "        1                                     1/2 cup sugar   \n",
       "        2                  2 Land O Lakes Eggs (yolks only)   \n",
       "        3                                1 teaspoon vanilla   \n",
       "        4                      1 1/2 cups all-purpose flour   \n",
       "...                                                     ...   \n",
       "931097  10                  1/4 cup chopped red bell pepper   \n",
       "        11                               1 cup Jasmine rice   \n",
       "        12          1 1/2 cups reduced-sodium chicken broth   \n",
       "        13                 1 tablespoon chopped fresh basil   \n",
       "        14                  Salt and ground pepper to taste   \n",
       "\n",
       "                                                                  NER  \n",
       "recipe  ingredient                                                     \n",
       "1746116 0           [\"Butter\", \"sugar\", \"Eggs\", \"vanilla\", \"flour\"...  \n",
       "        1           [\"Butter\", \"sugar\", \"Eggs\", \"vanilla\", \"flour\"...  \n",
       "        2           [\"Butter\", \"sugar\", \"Eggs\", \"vanilla\", \"flour\"...  \n",
       "        3           [\"Butter\", \"sugar\", \"Eggs\", \"vanilla\", \"flour\"...  \n",
       "        4           [\"Butter\", \"sugar\", \"Eggs\", \"vanilla\", \"flour\"...  \n",
       "...                                                               ...  \n",
       "931097  10          [\"Pineapple\", \"garlic\", \"ground thyme\", \"groun...  \n",
       "        11          [\"Pineapple\", \"garlic\", \"ground thyme\", \"groun...  \n",
       "        12          [\"Pineapple\", \"garlic\", \"ground thyme\", \"groun...  \n",
       "        13          [\"Pineapple\", \"garlic\", \"ground thyme\", \"groun...  \n",
       "        14          [\"Pineapple\", \"garlic\", \"ground thyme\", \"groun...  \n",
       "\n",
       "[2511 rows x 2 columns]"
      ]
     },
     "execution_count": 18,
     "metadata": {},
     "output_type": "execute_result"
    }
   ],
   "source": [
    "# selecting columns\n",
    "ingredients_df = ingredients_df.drop(columns=['title', 'directions', 'link', 'source'])\n",
    "ingredients_df.rename(columns={'ingredients':'ingredient_string'}, inplace=True)\n",
    "ingredients_df"
   ]
  },
  {
   "cell_type": "markdown",
   "metadata": {},
   "source": [
    "# Preprocessing (1)"
   ]
  },
  {
   "cell_type": "markdown",
   "metadata": {},
   "source": [
    "Now that we have the ingredients dataframe, we want to preprocess it so it for use in the following chapters."
   ]
  },
  {
   "cell_type": "markdown",
   "metadata": {},
   "source": [
    "## Parsing Information"
   ]
  },
  {
   "cell_type": "markdown",
   "metadata": {},
   "source": [
    "### Name, Quantity, Unit Parsing"
   ]
  },
  {
   "cell_type": "markdown",
   "metadata": {},
   "source": [
    "We need to extract two things from the ingredient strings: \n",
    "\n",
    "1. Name\n",
    "2. Quantity\n",
    "\n",
    "These are written in the form of a string, so to parse this information we need to use NLP, specficially Named Entity Recognition (NER). \n",
    "\n",
    "\n",
    "Here we could train our own model to do precisely what we want, however this would require a bit of work. We'd need to manually create example parses from a dataset, and figure out how training a model in SpaCy works (~5hr work).\n",
    "\n",
    "Let's first try the existing libraries to see what we can gain from it."
   ]
  },
  {
   "cell_type": "markdown",
   "metadata": {},
   "source": [
    "### Research"
   ]
  },
  {
   "cell_type": "markdown",
   "metadata": {},
   "source": [
    "\n",
    "- https://github.com/Glorf/recipenlg (datasets thesis explains how they extracted their ingredients in the 'NER' column)\n",
    "- https://deepgram.com/learn/turning-recipes-into-data-with-named-entity-recognition (good example on training SpaCy)\n",
    "- https://ingredient-parser.readthedocs.io/en/latest/index.html (python SpaCy library)\n",
    "- https://archive.nytimes.com/open.blogs.nytimes.com/2015/04/09/extracting-structured-data-from-recipes-using-conditional-random-fields/ (2015 article how NyTimes' recipe search functionality was created)\n",
    "    - https://github.com/mtlynch/ingredient-phrase-tagger (open source code extracted from it)"
   ]
  },
  {
   "cell_type": "markdown",
   "metadata": {},
   "source": [
    "These methods all use an NLP method called Named Entity Recognition (NER).\n",
    "\n",
    "We could train our own NER model, but first lets take a look at the existing models to see if they're fit for our purposes."
   ]
  },
  {
   "cell_type": "code",
   "execution_count": 19,
   "metadata": {
    "execution": {
     "iopub.execute_input": "2024-02-11T11:19:57.610736Z",
     "iopub.status.busy": "2024-02-11T11:19:57.610679Z",
     "iopub.status.idle": "2024-02-11T11:19:57.613228Z",
     "shell.execute_reply": "2024-02-11T11:19:57.613059Z"
    }
   },
   "outputs": [
    {
     "data": {
      "text/plain": [
       "('2/3 cup Land O Lakes Butter, softened',\n",
       " ingredient\n",
       " 0              2/3 cup Land O Lakes Butter, softened\n",
       " 1                                      1/2 cup sugar\n",
       " 2                   2 Land O Lakes Eggs (yolks only)\n",
       " 3                                 1 teaspoon vanilla\n",
       " 4                       1 1/2 cups all-purpose flour\n",
       " 5                             20 caramels, unwrapped\n",
       " 6    2 tablespoons Land O Lakes Heavy Whipping Cream\n",
       " 7                                    48 pecan halves\n",
       " 8            1/2 cup real semi-sweet chocolate chips\n",
       " 9                             2 teaspoons shortening\n",
       " Name: ingredient_string, dtype: object)"
      ]
     },
     "execution_count": 19,
     "metadata": {},
     "output_type": "execute_result"
    }
   ],
   "source": [
    "recipe = ingredients_df.loc[ingredients_df.first_valid_index()[0]]['ingredient_string']\n",
    "ingredient = recipe.loc[0]\n",
    "ingredient, recipe"
   ]
  },
  {
   "cell_type": "markdown",
   "metadata": {},
   "source": [
    "### Existing Libraries"
   ]
  },
  {
   "cell_type": "markdown",
   "metadata": {},
   "source": [
    "#### RegEx"
   ]
  },
  {
   "cell_type": "markdown",
   "metadata": {},
   "source": [
    "RegEx would be the simplest method of doing this, however I'm expecting it not to be able to deal with more complex strings of text."
   ]
  },
  {
   "cell_type": "code",
   "execution_count": 20,
   "metadata": {
    "execution": {
     "iopub.execute_input": "2024-02-11T11:19:57.614178Z",
     "iopub.status.busy": "2024-02-11T11:19:57.614075Z",
     "iopub.status.idle": "2024-02-11T11:19:57.734924Z",
     "shell.execute_reply": "2024-02-11T11:19:57.734642Z"
    }
   },
   "outputs": [
    {
     "name": "stderr",
     "output_type": "stream",
     "text": [
      "[nltk_data] Downloading package averaged_perceptron_tagger to\n",
      "[nltk_data]     /home/steph/nltk_data...\n",
      "[nltk_data]   Package averaged_perceptron_tagger is already up-to-\n",
      "[nltk_data]       date!\n"
     ]
    },
    {
     "data": {
      "text/plain": [
       "True"
      ]
     },
     "execution_count": 20,
     "metadata": {},
     "output_type": "execute_result"
    }
   ],
   "source": [
    "nltk.download('averaged_perceptron_tagger')"
   ]
  },
  {
   "cell_type": "code",
   "execution_count": 21,
   "metadata": {
    "execution": {
     "iopub.execute_input": "2024-02-11T11:19:57.736144Z",
     "iopub.status.busy": "2024-02-11T11:19:57.736057Z",
     "iopub.status.idle": "2024-02-11T11:19:57.737941Z",
     "shell.execute_reply": "2024-02-11T11:19:57.737776Z"
    }
   },
   "outputs": [
    {
     "data": {
      "text/plain": [
       "Ingredient(name='Land O Lakes Butter', quantity=2.5, unit='cup', comment='softened', original_string='2/3 cup Land O Lakes Butter, softened')"
      ]
     },
     "execution_count": 21,
     "metadata": {},
     "output_type": "execute_result"
    }
   ],
   "source": [
    "parsed_ingredient_rgx = parse_ingredient_rgx(ingredient)\n",
    "parsed_ingredient_rgx"
   ]
  },
  {
   "cell_type": "code",
   "execution_count": 22,
   "metadata": {
    "execution": {
     "iopub.execute_input": "2024-02-11T11:19:57.739096Z",
     "iopub.status.busy": "2024-02-11T11:19:57.738995Z",
     "iopub.status.idle": "2024-02-11T11:19:57.740899Z",
     "shell.execute_reply": "2024-02-11T11:19:57.740732Z"
    }
   },
   "outputs": [
    {
     "data": {
      "text/plain": [
       "[Ingredient(name='Land O Lakes Butter', quantity=2.5, unit='cup', comment='softened', original_string='2/3 cup Land O Lakes Butter, softened'),\n",
       " Ingredient(name='sugar', quantity=1.5, unit='cup', comment='', original_string='1/2 cup sugar'),\n",
       " Ingredient(name='Land O Lakes Eggs', quantity=2.0, unit='', comment='(yolks only)', original_string='2 Land O Lakes Eggs (yolks only)'),\n",
       " Ingredient(name='vanilla', quantity=1.0, unit='tsp', comment='', original_string='1 teaspoon vanilla'),\n",
       " Ingredient(name='all-purpose flour', quantity=1.5, unit='cup', comment='', original_string='1 1/2 cups all-purpose flour'),\n",
       " Ingredient(name='caramels', quantity=20.0, unit='', comment='unwrapped', original_string='20 caramels'),\n",
       " Ingredient(name='Land O Lakes Heavy Whipping Cream', quantity=2.0, unit='tbsp', comment='', original_string='2 tablespoons Land O Lakes Heavy Whipping Cream'),\n",
       " Ingredient(name='pecan halves', quantity=48.0, unit='', comment='', original_string='48 pecan halves'),\n",
       " Ingredient(name='real semi-sweet chocolate chips', quantity=1.5, unit='cup', comment='', original_string='1/2 cup real semi-sweet chocolate chips'),\n",
       " Ingredient(name='shortening', quantity=2.0, unit='tsp', comment='', original_string='2 teaspoons shortening')]"
      ]
     },
     "execution_count": 22,
     "metadata": {},
     "output_type": "execute_result"
    }
   ],
   "source": [
    "[parse_ingredient_rgx(ingredient) for ingredient in recipe]"
   ]
  },
  {
   "cell_type": "markdown",
   "metadata": {},
   "source": [
    "It's pretty good, but even in these six ingredients we can spot errors. It can't convert fraction numbers (2/3 : 2.5)."
   ]
  },
  {
   "cell_type": "markdown",
   "metadata": {},
   "source": [
    "#### NLP"
   ]
  },
  {
   "cell_type": "markdown",
   "metadata": {},
   "source": [
    "This is a [pretrained SpaCy NER model](https://ingredient-parser.readthedocs.io/en/latest/index.html) for the exact problemset. Let's see how this performs:"
   ]
  },
  {
   "cell_type": "code",
   "execution_count": 23,
   "metadata": {
    "execution": {
     "iopub.execute_input": "2024-02-11T11:19:57.742143Z",
     "iopub.status.busy": "2024-02-11T11:19:57.742043Z",
     "iopub.status.idle": "2024-02-11T11:19:57.776647Z",
     "shell.execute_reply": "2024-02-11T11:19:57.776460Z"
    }
   },
   "outputs": [
    {
     "data": {
      "text/plain": [
       "ParsedIngredient(name=IngredientText(text='Land O Lakes Butter', confidence=0.989295), amount=[IngredientAmount(quantity='0.667', unit='cups', confidence=0.99965, APPROXIMATE=False, SINGULAR=False)], preparation=IngredientText(text='softened', confidence=0.989225), comment=None, other=None, sentence='2/3 cup Land O Lakes Butter, softened')"
      ]
     },
     "execution_count": 23,
     "metadata": {},
     "output_type": "execute_result"
    }
   ],
   "source": [
    "parsed_ingredient_nlp = parse_ingredient_nlp(ingredient)\n",
    "parsed_ingredient_nlp"
   ]
  },
  {
   "cell_type": "code",
   "execution_count": 24,
   "metadata": {
    "execution": {
     "iopub.execute_input": "2024-02-11T11:19:57.777849Z",
     "iopub.status.busy": "2024-02-11T11:19:57.777753Z",
     "iopub.status.idle": "2024-02-11T11:19:57.783579Z",
     "shell.execute_reply": "2024-02-11T11:19:57.783403Z"
    }
   },
   "outputs": [
    {
     "data": {
      "text/plain": [
       "[ParsedIngredient(name=IngredientText(text='Land O Lakes Butter', confidence=0.989295), amount=[IngredientAmount(quantity='0.667', unit='cups', confidence=0.99965, APPROXIMATE=False, SINGULAR=False)], preparation=IngredientText(text='softened', confidence=0.989225), comment=None, other=None, sentence='2/3 cup Land O Lakes Butter, softened'),\n",
       " ParsedIngredient(name=IngredientText(text='sugar', confidence=0.991945), amount=[IngredientAmount(quantity='0.5', unit='cups', confidence=0.998894, APPROXIMATE=False, SINGULAR=False)], preparation=None, comment=None, other=None, sentence='1/2 cup sugar'),\n",
       " ParsedIngredient(name=IngredientText(text='Land O Lakes Eggs', confidence=0.962857), amount=[IngredientAmount(quantity='2', unit='', confidence=0.994399, APPROXIMATE=False, SINGULAR=False)], preparation=None, comment=IngredientText(text='(yolks only)', confidence=0.984288), other=None, sentence='2 Land O Lakes Eggs (yolks only)'),\n",
       " ParsedIngredient(name=IngredientText(text='vanilla', confidence=0.983156), amount=[IngredientAmount(quantity='1', unit='teaspoon', confidence=0.999241, APPROXIMATE=False, SINGULAR=False)], preparation=None, comment=None, other=None, sentence='1 teaspoon vanilla'),\n",
       " ParsedIngredient(name=IngredientText(text='all-purpose flour', confidence=0.995015), amount=[IngredientAmount(quantity='1.5', unit='cups', confidence=0.999503, APPROXIMATE=False, SINGULAR=False)], preparation=None, comment=None, other=None, sentence='1 1/2 cups all-purpose flour'),\n",
       " ParsedIngredient(name=IngredientText(text='caramels', confidence=0.974652), amount=[IngredientAmount(quantity='20', unit='', confidence=0.997661, APPROXIMATE=False, SINGULAR=False)], preparation=IngredientText(text='unwrapped', confidence=0.901899), comment=None, other=None, sentence='20 caramels, unwrapped'),\n",
       " ParsedIngredient(name=IngredientText(text='Land O Lakes Heavy Whipping Cream', confidence=0.991709), amount=[IngredientAmount(quantity='2', unit='tablespoons', confidence=0.999483, APPROXIMATE=False, SINGULAR=False)], preparation=None, comment=None, other=None, sentence='2 tablespoons Land O Lakes Heavy Whipping Cream'),\n",
       " ParsedIngredient(name=IngredientText(text='pecan halves', confidence=0.98383), amount=[IngredientAmount(quantity='48', unit='', confidence=0.997053, APPROXIMATE=False, SINGULAR=False)], preparation=None, comment=None, other=None, sentence='48 pecan halves'),\n",
       " ParsedIngredient(name=IngredientText(text='real semi-sweet chocolate chips', confidence=0.932759), amount=[IngredientAmount(quantity='0.5', unit='cups', confidence=0.999374, APPROXIMATE=False, SINGULAR=False)], preparation=None, comment=None, other=None, sentence='1/2 cup real semi-sweet chocolate chips'),\n",
       " ParsedIngredient(name=IngredientText(text='shortening', confidence=0.975694), amount=[IngredientAmount(quantity='2', unit='teaspoons', confidence=0.999209, APPROXIMATE=False, SINGULAR=False)], preparation=None, comment=None, other=None, sentence='2 teaspoons shortening')]"
      ]
     },
     "execution_count": 24,
     "metadata": {},
     "output_type": "execute_result"
    }
   ],
   "source": [
    "[parse_ingredient_nlp(ingredient) for ingredient in recipe]"
   ]
  },
  {
   "cell_type": "markdown",
   "metadata": {},
   "source": [
    "### Chosen Parse Method"
   ]
  },
  {
   "cell_type": "markdown",
   "metadata": {},
   "source": [
    "I think using NLP sounds much better, but it's has a few flaws right off the bat. Most noteworthy is it doesn't recognise shortened unit for cups (ie. c. != cup). \n",
    "\n",
    "We could simply fix this in the preprocessing."
   ]
  },
  {
   "cell_type": "markdown",
   "metadata": {},
   "source": [
    "### Preprocessing"
   ]
  },
  {
   "cell_type": "markdown",
   "metadata": {},
   "source": [
    "A little bit of preprocessing is required here."
   ]
  },
  {
   "cell_type": "markdown",
   "metadata": {},
   "source": [
    "#### Cup (c.) Units"
   ]
  },
  {
   "cell_type": "code",
   "execution_count": 25,
   "metadata": {
    "execution": {
     "iopub.execute_input": "2024-02-11T11:19:57.784862Z",
     "iopub.status.busy": "2024-02-11T11:19:57.784749Z",
     "iopub.status.idle": "2024-02-11T11:19:57.786190Z",
     "shell.execute_reply": "2024-02-11T11:19:57.786014Z"
    }
   },
   "outputs": [],
   "source": [
    "#| export \n",
    "def preprocess_cup_units(ingredient_string):\n",
    "    ingredient_string = re.sub(r'\\bc\\.', 'cup', ingredient_string)\n",
    "    return ingredient_string"
   ]
  },
  {
   "cell_type": "code",
   "execution_count": 26,
   "metadata": {
    "execution": {
     "iopub.execute_input": "2024-02-11T11:19:57.787246Z",
     "iopub.status.busy": "2024-02-11T11:19:57.787148Z",
     "iopub.status.idle": "2024-02-11T11:19:57.788497Z",
     "shell.execute_reply": "2024-02-11T11:19:57.788334Z"
    }
   },
   "outputs": [],
   "source": [
    "assert preprocess_cup_units('5 c. water') == '5 cup water'"
   ]
  },
  {
   "cell_type": "markdown",
   "metadata": {},
   "source": [
    "#### OR string"
   ]
  },
  {
   "cell_type": "markdown",
   "metadata": {},
   "source": [
    "This was confusing the ingredients in later steps.\n",
    "\n",
    "Here we want to remove the second option of ingredients."
   ]
  },
  {
   "cell_type": "code",
   "execution_count": 27,
   "metadata": {
    "execution": {
     "iopub.execute_input": "2024-02-11T11:19:57.789600Z",
     "iopub.status.busy": "2024-02-11T11:19:57.789505Z",
     "iopub.status.idle": "2024-02-11T11:19:57.792160Z",
     "shell.execute_reply": "2024-02-11T11:19:57.791991Z"
    }
   },
   "outputs": [
    {
     "data": {
      "text/plain": [
       "'3 to 4 tablespoons palm sugar, thinly sliced, or dark brown sugar'"
      ]
     },
     "execution_count": 27,
     "metadata": {},
     "output_type": "execute_result"
    }
   ],
   "source": [
    "ingredients_df['ingredient_string'][ingredients_df['ingredient_string'].str.contains(' or ')].loc[1936429, 5]"
   ]
  },
  {
   "cell_type": "markdown",
   "metadata": {},
   "source": [
    "##### Tagging Ingedient String"
   ]
  },
  {
   "cell_type": "markdown",
   "metadata": {},
   "source": [
    "For this we it will be helpful to be able to get a pos_tag (noun, verb, etc) of the strings. This involved tokenizing, and detokenize the text. \n",
    "\n",
    "Lets test how much this will mutate the data."
   ]
  },
  {
   "cell_type": "code",
   "execution_count": 28,
   "metadata": {
    "execution": {
     "iopub.execute_input": "2024-02-11T11:19:57.793225Z",
     "iopub.status.busy": "2024-02-11T11:19:57.793132Z",
     "iopub.status.idle": "2024-02-11T11:19:57.936278Z",
     "shell.execute_reply": "2024-02-11T11:19:57.936000Z"
    }
   },
   "outputs": [],
   "source": [
    "tokenized = ingredients_df['ingredient_string'].apply(lambda x: detokenize(mt.tokenize(x)))"
   ]
  },
  {
   "cell_type": "code",
   "execution_count": 29,
   "metadata": {
    "execution": {
     "iopub.execute_input": "2024-02-11T11:19:57.937508Z",
     "iopub.status.busy": "2024-02-11T11:19:57.937426Z",
     "iopub.status.idle": "2024-02-11T11:19:57.939559Z",
     "shell.execute_reply": "2024-02-11T11:19:57.939393Z"
    }
   },
   "outputs": [
    {
     "data": {
      "text/plain": [
       "(2481, 2511)"
      ]
     },
     "execution_count": 29,
     "metadata": {},
     "output_type": "execute_result"
    }
   ],
   "source": [
    "equality = tokenized.eq(ingredients_df['ingredient_string'])\n",
    "equality.sum(), ingredients_df.shape[0]"
   ]
  },
  {
   "cell_type": "code",
   "execution_count": 30,
   "metadata": {
    "execution": {
     "iopub.execute_input": "2024-02-11T11:19:57.940803Z",
     "iopub.status.busy": "2024-02-11T11:19:57.940676Z",
     "iopub.status.idle": "2024-02-11T11:19:57.942012Z",
     "shell.execute_reply": "2024-02-11T11:19:57.941846Z"
    }
   },
   "outputs": [],
   "source": [
    "pd.set_option('display.max_colwidth', None)"
   ]
  },
  {
   "cell_type": "code",
   "execution_count": 31,
   "metadata": {
    "execution": {
     "iopub.execute_input": "2024-02-11T11:19:57.943129Z",
     "iopub.status.busy": "2024-02-11T11:19:57.943032Z",
     "iopub.status.idle": "2024-02-11T11:19:57.955416Z",
     "shell.execute_reply": "2024-02-11T11:19:57.955246Z"
    }
   },
   "outputs": [
    {
     "data": {
      "text/html": [
       "<div>\n",
       "<style scoped>\n",
       "    .dataframe tbody tr th:only-of-type {\n",
       "        vertical-align: middle;\n",
       "    }\n",
       "\n",
       "    .dataframe tbody tr th {\n",
       "        vertical-align: top;\n",
       "    }\n",
       "\n",
       "    .dataframe thead th {\n",
       "        text-align: right;\n",
       "    }\n",
       "</style>\n",
       "<table border=\"1\" class=\"dataframe\">\n",
       "  <thead>\n",
       "    <tr style=\"text-align: right;\">\n",
       "      <th></th>\n",
       "      <th></th>\n",
       "      <th>ingredient_string_a</th>\n",
       "      <th>ingredient_string_b</th>\n",
       "    </tr>\n",
       "    <tr>\n",
       "      <th>recipe</th>\n",
       "      <th>ingredient</th>\n",
       "      <th></th>\n",
       "      <th></th>\n",
       "    </tr>\n",
       "  </thead>\n",
       "  <tbody>\n",
       "    <tr>\n",
       "      <th>954817</th>\n",
       "      <th>2</th>\n",
       "      <td>2/3 cup low-carb sugar substitute (such as Swerve(R))</td>\n",
       "      <td>2/3 cup low-carb sugar substitute (such as Swerve (R))</td>\n",
       "    </tr>\n",
       "    <tr>\n",
       "      <th rowspan=\"2\" valign=\"top\">1984757</th>\n",
       "      <th>1</th>\n",
       "      <td>1 1/2 teaspoons fresh sage leaves*</td>\n",
       "      <td>1 1/2 teaspoons fresh sage leaves *</td>\n",
       "    </tr>\n",
       "    <tr>\n",
       "      <th>6</th>\n",
       "      <td>1 1/2 teaspoons chopped fresh sage leaves*</td>\n",
       "      <td>1 1/2 teaspoons chopped fresh sage leaves *</td>\n",
       "    </tr>\n",
       "    <tr>\n",
       "      <th>1396331</th>\n",
       "      <th>2</th>\n",
       "      <td>1 Large rutabaga, or several smaller ones, peeled and cut into 3/4\" cubes</td>\n",
       "      <td>1 Large rutabaga, or several smaller ones, peeled and cut into 3/4 \"cubes</td>\n",
       "    </tr>\n",
       "    <tr>\n",
       "      <th rowspan=\"2\" valign=\"top\">1369744</th>\n",
       "      <th>10</th>\n",
       "      <td>1 slice rustic white bread, torn into 1\" pieces</td>\n",
       "      <td>1 slice rustic white bread, torn into 1 \"pieces</td>\n",
       "    </tr>\n",
       "    <tr>\n",
       "      <th>18</th>\n",
       "      <td>1-2 slices rustic white bread, torn into 1\" pieces</td>\n",
       "      <td>1-2 slices rustic white bread, torn into 1 \"pieces</td>\n",
       "    </tr>\n",
       "    <tr>\n",
       "      <th>1613023</th>\n",
       "      <th>8</th>\n",
       "      <td>1 teaspoon golpar (angelica powder)- optional</td>\n",
       "      <td>1 teaspoon golpar (angelica powder) - optional</td>\n",
       "    </tr>\n",
       "    <tr>\n",
       "      <th>324733</th>\n",
       "      <th>0</th>\n",
       "      <td>1 1/2 c. warm water (110~ to 115~)</td>\n",
       "      <td>1 1/2 c. warm water (110 ~ to 115 ~)</td>\n",
       "    </tr>\n",
       "    <tr>\n",
       "      <th>928740</th>\n",
       "      <th>4</th>\n",
       "      <td>2 tablespoons coffee-flavored liqueur (such as Kahlua(R))</td>\n",
       "      <td>2 tablespoons coffee-flavored liqueur (such as Kahlua (R))</td>\n",
       "    </tr>\n",
       "    <tr>\n",
       "      <th>1930042</th>\n",
       "      <th>13</th>\n",
       "      <td>2 apples, peeled,cored and chopped</td>\n",
       "      <td>2 apples, peeled, cored and chopped</td>\n",
       "    </tr>\n",
       "    <tr>\n",
       "      <th>953258</th>\n",
       "      <th>4</th>\n",
       "      <td>2 tablespoons brown sugar substitute (e.g., Splenda(R))</td>\n",
       "      <td>2 tablespoons brown sugar substitute (e.g., Splenda (R))</td>\n",
       "    </tr>\n",
       "    <tr>\n",
       "      <th>1505154</th>\n",
       "      <th>8</th>\n",
       "      <td>1/4 cup warm water (110° to 115°)</td>\n",
       "      <td>1/4 cup warm water (110 ° to 115 °)</td>\n",
       "    </tr>\n",
       "    <tr>\n",
       "      <th>840045</th>\n",
       "      <th>2</th>\n",
       "      <td>1 c. M&amp;M's, Skittles, Reese's</td>\n",
       "      <td>1 c. M &amp; M's, Skittles, Reese's</td>\n",
       "    </tr>\n",
       "    <tr>\n",
       "      <th>1462944</th>\n",
       "      <th>11</th>\n",
       "      <td>12 (6-inch) fajita-size corn tortillas*</td>\n",
       "      <td>12 (6-inch) fajita-size corn tortillas *</td>\n",
       "    </tr>\n",
       "    <tr>\n",
       "      <th rowspan=\"13\" valign=\"top\">1379076</th>\n",
       "      <th>1</th>\n",
       "      <td>2 tablespoons unsalted butter, melted</td>\n",
       "      <td>2 tablespoons unsalted butter, melted</td>\n",
       "    </tr>\n",
       "    <tr>\n",
       "      <th>2</th>\n",
       "      <td>2 tablespoons fresh lemon juice</td>\n",
       "      <td>2 tablespoons fresh lemon juice</td>\n",
       "    </tr>\n",
       "    <tr>\n",
       "      <th>3</th>\n",
       "      <td>2 tablespoons sugar</td>\n",
       "      <td>2 tablespoons sugar</td>\n",
       "    </tr>\n",
       "    <tr>\n",
       "      <th>4</th>\n",
       "      <td>1 vanilla bean, halved lengthwise and scraped, or 1 teaspoon pure vanilla extract</td>\n",
       "      <td>1 vanilla bean, halved lengthwise and scraped, or 1 teaspoon pure vanilla extract</td>\n",
       "    </tr>\n",
       "    <tr>\n",
       "      <th>5</th>\n",
       "      <td>2-3 tablespoons Peach Flavored liquor or Dark Rum or Brandy</td>\n",
       "      <td>2-3 tablespoons Peach Flavored liquor or Dark Rum or Brandy</td>\n",
       "    </tr>\n",
       "    <tr>\n",
       "      <th>6</th>\n",
       "      <td>4 firm, ripe peaches (1 to 1 1/2 pounds total), halved and pitted</td>\n",
       "      <td>4 firm, ripe peaches (1 to 1 1/2 pounds total), halved and pitted</td>\n",
       "    </tr>\n",
       "    <tr>\n",
       "      <th>8</th>\n",
       "      <td>1 cup chilled whipping cream</td>\n",
       "      <td>1 cup chilled whipping cream</td>\n",
       "    </tr>\n",
       "    <tr>\n",
       "      <th>9</th>\n",
       "      <td>8oz (1 container) mascarpone cheese</td>\n",
       "      <td>8oz (1 container) mascarpone cheese</td>\n",
       "    </tr>\n",
       "    <tr>\n",
       "      <th>10</th>\n",
       "      <td>2 tablespoons syrup from the roasted peaches</td>\n",
       "      <td>2 tablespoons syrup from the roasted peaches</td>\n",
       "    </tr>\n",
       "    <tr>\n",
       "      <th>11</th>\n",
       "      <td>1 teaspoon vanilla extract</td>\n",
       "      <td>1 teaspoon vanilla extract</td>\n",
       "    </tr>\n",
       "    <tr>\n",
       "      <th>13</th>\n",
       "      <td>All-purpose flour, for work surface</td>\n",
       "      <td>All-purpose flour, for work surface</td>\n",
       "    </tr>\n",
       "    <tr>\n",
       "      <th>14</th>\n",
       "      <td>2 sheets puff pastry (17.3-ounce package)</td>\n",
       "      <td>2 sheets puff pastry (17.3-ounce package)</td>\n",
       "    </tr>\n",
       "    <tr>\n",
       "      <th>15</th>\n",
       "      <td>1egg + 2 teaspoons water for eggwash</td>\n",
       "      <td>1egg + 2 teaspoons water for eggwash</td>\n",
       "    </tr>\n",
       "    <tr>\n",
       "      <th>2158575</th>\n",
       "      <th>2</th>\n",
       "      <td>1 x Salt pork -- about 1/2\" wid</td>\n",
       "      <td>1 x Salt pork -- about 1/2 \"wid</td>\n",
       "    </tr>\n",
       "    <tr>\n",
       "      <th>1199867</th>\n",
       "      <th>5</th>\n",
       "      <td>black pepper (read *NOTE)</td>\n",
       "      <td>black pepper (read * NOTE)</td>\n",
       "    </tr>\n",
       "    <tr>\n",
       "      <th>931097</th>\n",
       "      <th>0</th>\n",
       "      <td>1 (20 ounce) can DOLE(R) Pineapple Slices</td>\n",
       "      <td>1 (20 ounce) can DOLE (R) Pineapple Slices</td>\n",
       "    </tr>\n",
       "  </tbody>\n",
       "</table>\n",
       "</div>"
      ],
      "text/plain": [
       "                                                                                   ingredient_string_a  \\\n",
       "recipe  ingredient                                                                                       \n",
       "954817  2                                        2/3 cup low-carb sugar substitute (such as Swerve(R))   \n",
       "1984757 1                                                           1 1/2 teaspoons fresh sage leaves*   \n",
       "        6                                                   1 1/2 teaspoons chopped fresh sage leaves*   \n",
       "1396331 2                    1 Large rutabaga, or several smaller ones, peeled and cut into 3/4\" cubes   \n",
       "1369744 10                                             1 slice rustic white bread, torn into 1\" pieces   \n",
       "        18                                          1-2 slices rustic white bread, torn into 1\" pieces   \n",
       "1613023 8                                                1 teaspoon golpar (angelica powder)- optional   \n",
       "324733  0                                                           1 1/2 c. warm water (110~ to 115~)   \n",
       "928740  4                                    2 tablespoons coffee-flavored liqueur (such as Kahlua(R))   \n",
       "1930042 13                                                          2 apples, peeled,cored and chopped   \n",
       "953258  4                                      2 tablespoons brown sugar substitute (e.g., Splenda(R))   \n",
       "1505154 8                                                            1/4 cup warm water (110° to 115°)   \n",
       "840045  2                                                                1 c. M&M's, Skittles, Reese's   \n",
       "1462944 11                                                     12 (6-inch) fajita-size corn tortillas*   \n",
       "1379076 1                                                        2 tablespoons unsalted butter, melted   \n",
       "        2                                                              2 tablespoons fresh lemon juice   \n",
       "        3                                                                          2 tablespoons sugar   \n",
       "        4            1 vanilla bean, halved lengthwise and scraped, or 1 teaspoon pure vanilla extract   \n",
       "        5                                  2-3 tablespoons Peach Flavored liquor or Dark Rum or Brandy   \n",
       "        6                            4 firm, ripe peaches (1 to 1 1/2 pounds total), halved and pitted   \n",
       "        8                                                                 1 cup chilled whipping cream   \n",
       "        9                                                          8oz (1 container) mascarpone cheese   \n",
       "        10                                                2 tablespoons syrup from the roasted peaches   \n",
       "        11                                                                  1 teaspoon vanilla extract   \n",
       "        13                                                         All-purpose flour, for work surface   \n",
       "        14                                                   2 sheets puff pastry (17.3-ounce package)   \n",
       "        15                                                        1egg + 2 teaspoons water for eggwash   \n",
       "2158575 2                                                              1 x Salt pork -- about 1/2\" wid   \n",
       "1199867 5                                                                    black pepper (read *NOTE)   \n",
       "931097  0                                                    1 (20 ounce) can DOLE(R) Pineapple Slices   \n",
       "\n",
       "                                                                                  ingredient_string_b  \n",
       "recipe  ingredient                                                                                     \n",
       "954817  2                                      2/3 cup low-carb sugar substitute (such as Swerve (R))  \n",
       "1984757 1                                                         1 1/2 teaspoons fresh sage leaves *  \n",
       "        6                                                 1 1/2 teaspoons chopped fresh sage leaves *  \n",
       "1396331 2                   1 Large rutabaga, or several smaller ones, peeled and cut into 3/4 \"cubes  \n",
       "1369744 10                                            1 slice rustic white bread, torn into 1 \"pieces  \n",
       "        18                                         1-2 slices rustic white bread, torn into 1 \"pieces  \n",
       "1613023 8                                              1 teaspoon golpar (angelica powder) - optional  \n",
       "324733  0                                                        1 1/2 c. warm water (110 ~ to 115 ~)  \n",
       "928740  4                                  2 tablespoons coffee-flavored liqueur (such as Kahlua (R))  \n",
       "1930042 13                                                        2 apples, peeled, cored and chopped  \n",
       "953258  4                                    2 tablespoons brown sugar substitute (e.g., Splenda (R))  \n",
       "1505154 8                                                         1/4 cup warm water (110 ° to 115 °)  \n",
       "840045  2                                                             1 c. M & M's, Skittles, Reese's  \n",
       "1462944 11                                                   12 (6-inch) fajita-size corn tortillas *  \n",
       "1379076 1                                                       2 tablespoons unsalted butter, melted  \n",
       "        2                                                             2 tablespoons fresh lemon juice  \n",
       "        3                                                                         2 tablespoons sugar  \n",
       "        4           1 vanilla bean, halved lengthwise and scraped, or 1 teaspoon pure vanilla extract  \n",
       "        5                                 2-3 tablespoons Peach Flavored liquor or Dark Rum or Brandy  \n",
       "        6                           4 firm, ripe peaches (1 to 1 1/2 pounds total), halved and pitted  \n",
       "        8                                                                1 cup chilled whipping cream  \n",
       "        9                                                         8oz (1 container) mascarpone cheese  \n",
       "        10                                               2 tablespoons syrup from the roasted peaches  \n",
       "        11                                                                 1 teaspoon vanilla extract  \n",
       "        13                                                        All-purpose flour, for work surface  \n",
       "        14                                                  2 sheets puff pastry (17.3-ounce package)  \n",
       "        15                                                       1egg + 2 teaspoons water for eggwash  \n",
       "2158575 2                                                             1 x Salt pork -- about 1/2 \"wid  \n",
       "1199867 5                                                                  black pepper (read * NOTE)  \n",
       "931097  0                                                  1 (20 ounce) can DOLE (R) Pineapple Slices  "
      ]
     },
     "execution_count": 31,
     "metadata": {},
     "output_type": "execute_result"
    }
   ],
   "source": [
    "unequal = ingredients_df['ingredient_string'][~equality].to_frame('ingredient_string').join(tokenized, lsuffix='_a', rsuffix='_b')\n",
    "unequal"
   ]
  },
  {
   "cell_type": "markdown",
   "metadata": {},
   "source": [
    "-> This seems good, most remain unchanged, whilst the others are changed only with slight differences of the position of some punctiation."
   ]
  },
  {
   "cell_type": "code",
   "execution_count": 32,
   "metadata": {
    "execution": {
     "iopub.execute_input": "2024-02-11T11:19:57.956476Z",
     "iopub.status.busy": "2024-02-11T11:19:57.956404Z",
     "iopub.status.idle": "2024-02-11T11:19:57.957747Z",
     "shell.execute_reply": "2024-02-11T11:19:57.957576Z"
    }
   },
   "outputs": [],
   "source": [
    "pd.reset_option('display.max_colwidth')"
   ]
  },
  {
   "cell_type": "code",
   "execution_count": 33,
   "metadata": {
    "execution": {
     "iopub.execute_input": "2024-02-11T11:19:57.958798Z",
     "iopub.status.busy": "2024-02-11T11:19:57.958702Z",
     "iopub.status.idle": "2024-02-11T11:19:57.960538Z",
     "shell.execute_reply": "2024-02-11T11:19:57.960363Z"
    }
   },
   "outputs": [],
   "source": [
    "#| export\n",
    "tag_map = {'NN': 'noun', 'VB': 'verb', 'JJ': 'adj', 'RB': 'adv'}\n",
    "def tag_ingredient_string(ingredient_string, is_item=True):\n",
    "    tagged_words = nltk.pos_tag(nltk.word_tokenize(ingredient_string))\n",
    "    mapped_words = [{'word': w[0], 'tag': tag_map[w[1][:2]] if w[1][:2] in tag_map else 'nan'} for w in tagged_words]\n",
    "    if is_item and mapped_words:\n",
    "        mapped_words[-1]['tag'] = 'noun' # making sure last word is noun, as these are items that we are labelling\n",
    "    return mapped_words"
   ]
  },
  {
   "cell_type": "code",
   "execution_count": 34,
   "metadata": {
    "execution": {
     "iopub.execute_input": "2024-02-11T11:19:57.961627Z",
     "iopub.status.busy": "2024-02-11T11:19:57.961488Z",
     "iopub.status.idle": "2024-02-11T11:19:57.965835Z",
     "shell.execute_reply": "2024-02-11T11:19:57.965671Z"
    }
   },
   "outputs": [
    {
     "data": {
      "text/plain": [
       "[{'word': 'green', 'tag': 'adj'},\n",
       " {'word': 'chilli', 'tag': 'noun'},\n",
       " {'word': 'pepper', 'tag': 'noun'}]"
      ]
     },
     "execution_count": 34,
     "metadata": {},
     "output_type": "execute_result"
    }
   ],
   "source": [
    "tag_ingredient_string('green chilli pepper')"
   ]
  },
  {
   "cell_type": "code",
   "execution_count": 35,
   "metadata": {
    "execution": {
     "iopub.execute_input": "2024-02-11T11:19:57.966894Z",
     "iopub.status.busy": "2024-02-11T11:19:57.966799Z",
     "iopub.status.idle": "2024-02-11T11:19:57.968429Z",
     "shell.execute_reply": "2024-02-11T11:19:57.968257Z"
    }
   },
   "outputs": [],
   "source": [
    "assert tag_ingredient_string('green chilli pepper') == [{'word': 'green', 'tag': 'adj'},\n",
    "                                                        {'word': 'chilli', 'tag': 'noun'},\n",
    "                                                        {'word': 'pepper', 'tag': 'noun'}]"
   ]
  },
  {
   "cell_type": "code",
   "execution_count": 36,
   "metadata": {
    "execution": {
     "iopub.execute_input": "2024-02-11T11:19:57.969414Z",
     "iopub.status.busy": "2024-02-11T11:19:57.969319Z",
     "iopub.status.idle": "2024-02-11T11:19:57.972384Z",
     "shell.execute_reply": "2024-02-11T11:19:57.972209Z"
    }
   },
   "outputs": [],
   "source": [
    "#| export\n",
    "def preprocess_remove_ors(ingredient_string):\n",
    "    \n",
    "    or_search = re.search(r'\\bor\\b', ingredient_string)\n",
    "    if not or_search: return ingredient_string\n",
    "\n",
    "    prev_string = ingredient_string[:or_search.span()[0]]\n",
    "    following_string = ingredient_string[or_search.span()[-1]:]\n",
    "\n",
    "    prev_tokens = tag_ingredient_string(prev_string, is_item=False)\n",
    "    following_tokens = tag_ingredient_string(following_string, is_item=False)\n",
    "\n",
    "    prev_nouns = any([token for token in prev_tokens if token['tag'] == 'noun'])\n",
    "\n",
    "    if re.search(r'\\(\\s?or.*\\)', ingredient_string):\n",
    "        ingredient_string = re.sub(r'\\(\\s?or.*\\)', '', ingredient_string)\n",
    "    elif re.search(r'(\\bor\\b).*\\d', ingredient_string) and prev_nouns:\n",
    "        ingredient_string = re.sub(r'(\\bor\\b).*', '', ingredient_string)\n",
    "    else:\n",
    "        if not following_tokens: \n",
    "            ingredient_string = prev_string\n",
    "        else:\n",
    "            i = 0\n",
    "            while i < len(following_tokens) and not following_tokens[i]['tag'] == 'noun': i += 1\n",
    "            if i < len(following_tokens) and following_tokens[i]['tag'] == 'noun':\n",
    "                if i < len(following_tokens)-1: pass\n",
    "                if i == 0:\n",
    "                    following_tokens = []\n",
    "                else:\n",
    "                    following_tokens = following_tokens[i:]\n",
    "            else:\n",
    "                following_tokens = []\n",
    "            ingredient_words = prev_string.split(' ') + [word['word'] for word in following_tokens]\n",
    "            ingredient_string = detokenize(sorted(set(ingredient_words), key=ingredient_words.index))\n",
    "    \n",
    "    # postprocess\n",
    "    ingredient_string = ingredient_string.strip()\n",
    "    ingredient_string = re.sub(r'\\s\\s+', ' ', ingredient_string) # double spaces\n",
    "    ingredient_string = re.sub(r'[,\\(.]$', '', ingredient_string) # trailing punctuation\n",
    "\n",
    "    return ingredient_string"
   ]
  },
  {
   "cell_type": "code",
   "execution_count": 37,
   "metadata": {
    "execution": {
     "iopub.execute_input": "2024-02-11T11:19:57.973351Z",
     "iopub.status.busy": "2024-02-11T11:19:57.973256Z",
     "iopub.status.idle": "2024-02-11T11:19:57.977095Z",
     "shell.execute_reply": "2024-02-11T11:19:57.976925Z"
    }
   },
   "outputs": [],
   "source": [
    "tests = {\n",
    "    '4 egg whites or 1/2 c. Egg Beaters': '4 egg whites',\n",
    "    'olive or sunflower oil': 'olive oil',\n",
    "    'olive oil or sunflower oil': 'olive oil',\n",
    "    '1/4 teaspoon salt or to taste': '1/4 teaspoon salt',\n",
    "    '3 sticks butter or margarine': '3 sticks butter',\n",
    "    '1 or 2 onions, chopped': '1 onions, chopped',\n",
    "    '4 whole Medium (or 6 Small) Peaches, Peeled And Sliced': '4 whole Medium Peaches, Peeled And Sliced',\n",
    "}\n",
    "\n",
    "for ingredient_string, desired_string in tests.items():\n",
    "    transformed = preprocess_remove_ors(ingredient_string)\n",
    "    assert transformed == desired_string"
   ]
  },
  {
   "cell_type": "code",
   "execution_count": 38,
   "metadata": {
    "execution": {
     "iopub.execute_input": "2024-02-11T11:19:57.978061Z",
     "iopub.status.busy": "2024-02-11T11:19:57.977960Z",
     "iopub.status.idle": "2024-02-11T11:19:57.979299Z",
     "shell.execute_reply": "2024-02-11T11:19:57.979138Z"
    }
   },
   "outputs": [],
   "source": [
    "pd.set_option('display.max_colwidth', None)"
   ]
  },
  {
   "cell_type": "code",
   "execution_count": 39,
   "metadata": {
    "execution": {
     "iopub.execute_input": "2024-02-11T11:19:57.980246Z",
     "iopub.status.busy": "2024-02-11T11:19:57.980146Z",
     "iopub.status.idle": "2024-02-11T11:19:58.019857Z",
     "shell.execute_reply": "2024-02-11T11:19:58.019684Z"
    }
   },
   "outputs": [
    {
     "data": {
      "text/html": [
       "<div>\n",
       "<style scoped>\n",
       "    .dataframe tbody tr th:only-of-type {\n",
       "        vertical-align: middle;\n",
       "    }\n",
       "\n",
       "    .dataframe tbody tr th {\n",
       "        vertical-align: top;\n",
       "    }\n",
       "\n",
       "    .dataframe thead th {\n",
       "        text-align: right;\n",
       "    }\n",
       "</style>\n",
       "<table border=\"1\" class=\"dataframe\">\n",
       "  <thead>\n",
       "    <tr style=\"text-align: right;\">\n",
       "      <th></th>\n",
       "      <th></th>\n",
       "      <th>ingredient_string</th>\n",
       "      <th>ingredient_string</th>\n",
       "    </tr>\n",
       "    <tr>\n",
       "      <th>recipe</th>\n",
       "      <th>ingredient</th>\n",
       "      <th></th>\n",
       "      <th></th>\n",
       "    </tr>\n",
       "  </thead>\n",
       "  <tbody>\n",
       "  </tbody>\n",
       "</table>\n",
       "</div>"
      ],
      "text/plain": [
       "Empty DataFrame\n",
       "Columns: [ingredient_string, ingredient_string]\n",
       "Index: []"
      ]
     },
     "execution_count": 39,
     "metadata": {},
     "output_type": "execute_result"
    }
   ],
   "source": [
    "ingredients_df['ingredient_string_or_removed'] = ingredients_df['ingredient_string'].apply(preprocess_remove_ors)\n",
    "ingredients_df[['ingredient_string', 'ingredient_string']][ingredients_df['ingredient_string'] != ingredients_df['ingredient_string']]"
   ]
  },
  {
   "cell_type": "code",
   "execution_count": 40,
   "metadata": {
    "execution": {
     "iopub.execute_input": "2024-02-11T11:19:58.020951Z",
     "iopub.status.busy": "2024-02-11T11:19:58.020875Z",
     "iopub.status.idle": "2024-02-11T11:19:58.022242Z",
     "shell.execute_reply": "2024-02-11T11:19:58.022076Z"
    }
   },
   "outputs": [],
   "source": [
    "pd.reset_option('display.max_colwidth')"
   ]
  },
  {
   "cell_type": "markdown",
   "metadata": {},
   "source": [
    "#### Applying Preprocessing"
   ]
  },
  {
   "cell_type": "code",
   "execution_count": 41,
   "metadata": {
    "execution": {
     "iopub.execute_input": "2024-02-11T11:19:58.023342Z",
     "iopub.status.busy": "2024-02-11T11:19:58.023244Z",
     "iopub.status.idle": "2024-02-11T11:19:58.024634Z",
     "shell.execute_reply": "2024-02-11T11:19:58.024468Z"
    }
   },
   "outputs": [],
   "source": [
    "#| export \n",
    "def ner_preprocess_ingredient_string(ingredient_string):\n",
    "    ingredient_string = preprocess_cup_units(ingredient_string)\n",
    "    ingredient_string = preprocess_remove_ors(ingredient_string)\n",
    "    return ingredient_string"
   ]
  },
  {
   "cell_type": "code",
   "execution_count": 42,
   "metadata": {
    "execution": {
     "iopub.execute_input": "2024-02-11T11:19:58.025676Z",
     "iopub.status.busy": "2024-02-11T11:19:58.025583Z",
     "iopub.status.idle": "2024-02-11T11:19:58.064641Z",
     "shell.execute_reply": "2024-02-11T11:19:58.064362Z"
    }
   },
   "outputs": [],
   "source": [
    "ingredients_df['ingredient_string_processed'] = ingredients_df['ingredient_string'].apply(ner_preprocess_ingredient_string)"
   ]
  },
  {
   "cell_type": "code",
   "execution_count": 43,
   "metadata": {
    "execution": {
     "iopub.execute_input": "2024-02-11T11:19:58.065839Z",
     "iopub.status.busy": "2024-02-11T11:19:58.065760Z",
     "iopub.status.idle": "2024-02-11T11:19:58.070062Z",
     "shell.execute_reply": "2024-02-11T11:19:58.069892Z"
    }
   },
   "outputs": [
    {
     "data": {
      "text/html": [
       "<div>\n",
       "<style scoped>\n",
       "    .dataframe tbody tr th:only-of-type {\n",
       "        vertical-align: middle;\n",
       "    }\n",
       "\n",
       "    .dataframe tbody tr th {\n",
       "        vertical-align: top;\n",
       "    }\n",
       "\n",
       "    .dataframe thead th {\n",
       "        text-align: right;\n",
       "    }\n",
       "</style>\n",
       "<table border=\"1\" class=\"dataframe\">\n",
       "  <thead>\n",
       "    <tr style=\"text-align: right;\">\n",
       "      <th></th>\n",
       "      <th></th>\n",
       "      <th>ingredient_string</th>\n",
       "      <th>ingredient_string_processed</th>\n",
       "    </tr>\n",
       "    <tr>\n",
       "      <th>recipe</th>\n",
       "      <th>ingredient</th>\n",
       "      <th></th>\n",
       "      <th></th>\n",
       "    </tr>\n",
       "  </thead>\n",
       "  <tbody>\n",
       "    <tr>\n",
       "      <th>1828339</th>\n",
       "      <th>0</th>\n",
       "      <td>2 (225 g) cans grape leaves, drained (canned o...</td>\n",
       "      <td>2 (225 g) cans grape leaves, drained (canned</td>\n",
       "    </tr>\n",
       "    <tr>\n",
       "      <th rowspan=\"3\" valign=\"top\">1703</th>\n",
       "      <th>0</th>\n",
       "      <td>1 pkg. applesauce, spice or carrot cake mix</td>\n",
       "      <td>1 pkg. applesauce, spice</td>\n",
       "    </tr>\n",
       "    <tr>\n",
       "      <th>2</th>\n",
       "      <td>1/4 c. water</td>\n",
       "      <td>1/4 cup water</td>\n",
       "    </tr>\n",
       "    <tr>\n",
       "      <th>4</th>\n",
       "      <td>1 c. nuts (optional)</td>\n",
       "      <td>1 cup nuts (optional)</td>\n",
       "    </tr>\n",
       "    <tr>\n",
       "      <th>894410</th>\n",
       "      <th>0</th>\n",
       "      <td>2 c. water</td>\n",
       "      <td>2 cup water</td>\n",
       "    </tr>\n",
       "    <tr>\n",
       "      <th>...</th>\n",
       "      <th>...</th>\n",
       "      <td>...</td>\n",
       "      <td>...</td>\n",
       "    </tr>\n",
       "    <tr>\n",
       "      <th rowspan=\"2\" valign=\"top\">599284</th>\n",
       "      <th>2</th>\n",
       "      <td>1 c. sour cream</td>\n",
       "      <td>1 cup sour cream</td>\n",
       "    </tr>\n",
       "    <tr>\n",
       "      <th>3</th>\n",
       "      <td>1 c. grated Cheddar cheese</td>\n",
       "      <td>1 cup grated Cheddar cheese</td>\n",
       "    </tr>\n",
       "    <tr>\n",
       "      <th rowspan=\"3\" valign=\"top\">1357213</th>\n",
       "      <th>0</th>\n",
       "      <td>2 c. drained sweet potatoes</td>\n",
       "      <td>2 cup drained sweet potatoes</td>\n",
       "    </tr>\n",
       "    <tr>\n",
       "      <th>1</th>\n",
       "      <td>1 c. milk</td>\n",
       "      <td>1 cup milk</td>\n",
       "    </tr>\n",
       "    <tr>\n",
       "      <th>4</th>\n",
       "      <td>1/2 c. sugar</td>\n",
       "      <td>1/2 cup sugar</td>\n",
       "    </tr>\n",
       "  </tbody>\n",
       "</table>\n",
       "<p>429 rows × 2 columns</p>\n",
       "</div>"
      ],
      "text/plain": [
       "                                                    ingredient_string  \\\n",
       "recipe  ingredient                                                      \n",
       "1828339 0           2 (225 g) cans grape leaves, drained (canned o...   \n",
       "1703    0                 1 pkg. applesauce, spice or carrot cake mix   \n",
       "        2                                                1/4 c. water   \n",
       "        4                                        1 c. nuts (optional)   \n",
       "894410  0                                                  2 c. water   \n",
       "...                                                               ...   \n",
       "599284  2                                             1 c. sour cream   \n",
       "        3                                  1 c. grated Cheddar cheese   \n",
       "1357213 0                                 2 c. drained sweet potatoes   \n",
       "        1                                                   1 c. milk   \n",
       "        4                                                1/2 c. sugar   \n",
       "\n",
       "                                     ingredient_string_processed  \n",
       "recipe  ingredient                                                \n",
       "1828339 0           2 (225 g) cans grape leaves, drained (canned  \n",
       "1703    0                               1 pkg. applesauce, spice  \n",
       "        2                                          1/4 cup water  \n",
       "        4                                  1 cup nuts (optional)  \n",
       "894410  0                                            2 cup water  \n",
       "...                                                          ...  \n",
       "599284  2                                       1 cup sour cream  \n",
       "        3                            1 cup grated Cheddar cheese  \n",
       "1357213 0                           2 cup drained sweet potatoes  \n",
       "        1                                             1 cup milk  \n",
       "        4                                          1/2 cup sugar  \n",
       "\n",
       "[429 rows x 2 columns]"
      ]
     },
     "execution_count": 43,
     "metadata": {},
     "output_type": "execute_result"
    }
   ],
   "source": [
    "ingredients_df[['ingredient_string', 'ingredient_string_processed']][ingredients_df['ingredient_string'] != ingredients_df['ingredient_string_processed']]"
   ]
  },
  {
   "cell_type": "code",
   "execution_count": 44,
   "metadata": {
    "execution": {
     "iopub.execute_input": "2024-02-11T11:19:58.071203Z",
     "iopub.status.busy": "2024-02-11T11:19:58.071058Z",
     "iopub.status.idle": "2024-02-11T11:19:58.072757Z",
     "shell.execute_reply": "2024-02-11T11:19:58.072580Z"
    }
   },
   "outputs": [],
   "source": [
    "ingredients_df['ingredient_string'] = ingredients_df['ingredient_string_processed']\n",
    "ingredients_df = ingredients_df.drop('ingredient_string_processed', axis=1)"
   ]
  },
  {
   "cell_type": "markdown",
   "metadata": {},
   "source": [
    "### Applying to Full Series "
   ]
  },
  {
   "cell_type": "code",
   "execution_count": 45,
   "metadata": {
    "execution": {
     "iopub.execute_input": "2024-02-11T11:19:58.073825Z",
     "iopub.status.busy": "2024-02-11T11:19:58.073727Z",
     "iopub.status.idle": "2024-02-11T11:19:58.075453Z",
     "shell.execute_reply": "2024-02-11T11:19:58.075281Z"
    }
   },
   "outputs": [],
   "source": [
    "#| export\n",
    "def parse_ingredient_string(ingredient_string):\n",
    "    nlp_parse = parse_ingredient_nlp(ingredient_string)\n",
    "    parsed_ingredient = {\n",
    "        'name': nlp_parse.name.text if nlp_parse.name else None,\n",
    "        'quantity': nlp_parse.amount[0].quantity if nlp_parse.amount else None,\n",
    "        'unit': nlp_parse.amount[0].unit if nlp_parse.amount else None,\n",
    "        'comment': nlp_parse.comment.text if nlp_parse.comment else None,\n",
    "        'preparation': nlp_parse.preparation.text if nlp_parse.preparation else None\n",
    "    }\n",
    "    return parsed_ingredient"
   ]
  },
  {
   "cell_type": "code",
   "execution_count": 46,
   "metadata": {
    "execution": {
     "iopub.execute_input": "2024-02-11T11:19:58.076476Z",
     "iopub.status.busy": "2024-02-11T11:19:58.076384Z",
     "iopub.status.idle": "2024-02-11T11:19:58.078803Z",
     "shell.execute_reply": "2024-02-11T11:19:58.078635Z"
    }
   },
   "outputs": [
    {
     "data": {
      "text/plain": [
       "{'name': 'Land O Lakes Butter',\n",
       " 'quantity': '0.667',\n",
       " 'unit': 'cups',\n",
       " 'comment': None,\n",
       " 'preparation': 'softened'}"
      ]
     },
     "execution_count": 46,
     "metadata": {},
     "output_type": "execute_result"
    }
   ],
   "source": [
    "parse_ingredient_string(ingredient)"
   ]
  },
  {
   "cell_type": "code",
   "execution_count": 47,
   "metadata": {
    "execution": {
     "iopub.execute_input": "2024-02-11T11:19:58.079816Z",
     "iopub.status.busy": "2024-02-11T11:19:58.079692Z",
     "iopub.status.idle": "2024-02-11T11:19:58.810909Z",
     "shell.execute_reply": "2024-02-11T11:19:58.810722Z"
    }
   },
   "outputs": [
    {
     "data": {
      "text/plain": [
       "recipe   ingredient\n",
       "1746116  0             {'name': 'Land O Lakes Butter', 'quantity': '0...\n",
       "         1             {'name': 'sugar', 'quantity': '0.5', 'unit': '...\n",
       "         2             {'name': 'Land O Lakes Eggs', 'quantity': '2',...\n",
       "         3             {'name': 'vanilla', 'quantity': '1', 'unit': '...\n",
       "         4             {'name': 'all-purpose flour', 'quantity': '1.5...\n",
       "                                             ...                        \n",
       "931097   10            {'name': 'red bell pepper', 'quantity': '0.25'...\n",
       "         11            {'name': 'Jasmine rice', 'quantity': '1', 'uni...\n",
       "         12            {'name': 'reduced-sodium chicken broth', 'quan...\n",
       "         13            {'name': 'fresh basil', 'quantity': '1', 'unit...\n",
       "         14            {'name': 'Salt and ground pepper', 'quantity':...\n",
       "Name: parsed, Length: 2511, dtype: object"
      ]
     },
     "execution_count": 47,
     "metadata": {},
     "output_type": "execute_result"
    }
   ],
   "source": [
    "ingredients_df['parsed'] = ingredients_df['ingredient_string'].apply(parse_ingredient_string)\n",
    "ingredients_df['parsed']"
   ]
  },
  {
   "cell_type": "markdown",
   "metadata": {},
   "source": [
    "### Expanding Dict into Columns"
   ]
  },
  {
   "cell_type": "code",
   "execution_count": 48,
   "metadata": {
    "execution": {
     "iopub.execute_input": "2024-02-11T11:19:58.812353Z",
     "iopub.status.busy": "2024-02-11T11:19:58.812251Z",
     "iopub.status.idle": "2024-02-11T11:19:58.820004Z",
     "shell.execute_reply": "2024-02-11T11:19:58.819826Z"
    }
   },
   "outputs": [
    {
     "data": {
      "text/html": [
       "<div>\n",
       "<style scoped>\n",
       "    .dataframe tbody tr th:only-of-type {\n",
       "        vertical-align: middle;\n",
       "    }\n",
       "\n",
       "    .dataframe tbody tr th {\n",
       "        vertical-align: top;\n",
       "    }\n",
       "\n",
       "    .dataframe thead th {\n",
       "        text-align: right;\n",
       "    }\n",
       "</style>\n",
       "<table border=\"1\" class=\"dataframe\">\n",
       "  <thead>\n",
       "    <tr style=\"text-align: right;\">\n",
       "      <th></th>\n",
       "      <th></th>\n",
       "      <th>name</th>\n",
       "      <th>quantity</th>\n",
       "      <th>unit</th>\n",
       "      <th>comment</th>\n",
       "      <th>preparation</th>\n",
       "    </tr>\n",
       "    <tr>\n",
       "      <th>recipe</th>\n",
       "      <th>ingredient</th>\n",
       "      <th></th>\n",
       "      <th></th>\n",
       "      <th></th>\n",
       "      <th></th>\n",
       "      <th></th>\n",
       "    </tr>\n",
       "  </thead>\n",
       "  <tbody>\n",
       "    <tr>\n",
       "      <th rowspan=\"5\" valign=\"top\">1746116</th>\n",
       "      <th>0</th>\n",
       "      <td>Land O Lakes Butter</td>\n",
       "      <td>0.667</td>\n",
       "      <td>cups</td>\n",
       "      <td>None</td>\n",
       "      <td>softened</td>\n",
       "    </tr>\n",
       "    <tr>\n",
       "      <th>1</th>\n",
       "      <td>sugar</td>\n",
       "      <td>0.5</td>\n",
       "      <td>cups</td>\n",
       "      <td>None</td>\n",
       "      <td>None</td>\n",
       "    </tr>\n",
       "    <tr>\n",
       "      <th>2</th>\n",
       "      <td>Land O Lakes Eggs</td>\n",
       "      <td>2</td>\n",
       "      <td></td>\n",
       "      <td>(yolks only)</td>\n",
       "      <td>None</td>\n",
       "    </tr>\n",
       "    <tr>\n",
       "      <th>3</th>\n",
       "      <td>vanilla</td>\n",
       "      <td>1</td>\n",
       "      <td>teaspoon</td>\n",
       "      <td>None</td>\n",
       "      <td>None</td>\n",
       "    </tr>\n",
       "    <tr>\n",
       "      <th>4</th>\n",
       "      <td>all-purpose flour</td>\n",
       "      <td>1.5</td>\n",
       "      <td>cups</td>\n",
       "      <td>None</td>\n",
       "      <td>None</td>\n",
       "    </tr>\n",
       "    <tr>\n",
       "      <th>...</th>\n",
       "      <th>...</th>\n",
       "      <td>...</td>\n",
       "      <td>...</td>\n",
       "      <td>...</td>\n",
       "      <td>...</td>\n",
       "      <td>...</td>\n",
       "    </tr>\n",
       "    <tr>\n",
       "      <th rowspan=\"5\" valign=\"top\">931097</th>\n",
       "      <th>10</th>\n",
       "      <td>red bell pepper</td>\n",
       "      <td>0.25</td>\n",
       "      <td>cups</td>\n",
       "      <td>None</td>\n",
       "      <td>chopped</td>\n",
       "    </tr>\n",
       "    <tr>\n",
       "      <th>11</th>\n",
       "      <td>Jasmine rice</td>\n",
       "      <td>1</td>\n",
       "      <td>cup</td>\n",
       "      <td>None</td>\n",
       "      <td>None</td>\n",
       "    </tr>\n",
       "    <tr>\n",
       "      <th>12</th>\n",
       "      <td>reduced-sodium chicken broth</td>\n",
       "      <td>1.5</td>\n",
       "      <td>cups</td>\n",
       "      <td>None</td>\n",
       "      <td>None</td>\n",
       "    </tr>\n",
       "    <tr>\n",
       "      <th>13</th>\n",
       "      <td>fresh basil</td>\n",
       "      <td>1</td>\n",
       "      <td>tablespoon</td>\n",
       "      <td>None</td>\n",
       "      <td>chopped</td>\n",
       "    </tr>\n",
       "    <tr>\n",
       "      <th>14</th>\n",
       "      <td>Salt and ground pepper</td>\n",
       "      <td>None</td>\n",
       "      <td>None</td>\n",
       "      <td>to taste</td>\n",
       "      <td>None</td>\n",
       "    </tr>\n",
       "  </tbody>\n",
       "</table>\n",
       "<p>2511 rows × 5 columns</p>\n",
       "</div>"
      ],
      "text/plain": [
       "                                            name quantity        unit  \\\n",
       "recipe  ingredient                                                      \n",
       "1746116 0                    Land O Lakes Butter    0.667        cups   \n",
       "        1                                  sugar      0.5        cups   \n",
       "        2                      Land O Lakes Eggs        2               \n",
       "        3                                vanilla        1    teaspoon   \n",
       "        4                      all-purpose flour      1.5        cups   \n",
       "...                                          ...      ...         ...   \n",
       "931097  10                       red bell pepper     0.25        cups   \n",
       "        11                          Jasmine rice        1         cup   \n",
       "        12          reduced-sodium chicken broth      1.5        cups   \n",
       "        13                           fresh basil        1  tablespoon   \n",
       "        14                Salt and ground pepper     None        None   \n",
       "\n",
       "                         comment preparation  \n",
       "recipe  ingredient                            \n",
       "1746116 0                   None    softened  \n",
       "        1                   None        None  \n",
       "        2           (yolks only)        None  \n",
       "        3                   None        None  \n",
       "        4                   None        None  \n",
       "...                          ...         ...  \n",
       "931097  10                  None     chopped  \n",
       "        11                  None        None  \n",
       "        12                  None        None  \n",
       "        13                  None     chopped  \n",
       "        14              to taste        None  \n",
       "\n",
       "[2511 rows x 5 columns]"
      ]
     },
     "execution_count": 48,
     "metadata": {},
     "output_type": "execute_result"
    }
   ],
   "source": [
    "expanded = pd.json_normalize(ingredients_df['parsed'])\n",
    "expanded.index = ingredients_df.index\n",
    "expanded"
   ]
  },
  {
   "cell_type": "code",
   "execution_count": 49,
   "metadata": {
    "execution": {
     "iopub.execute_input": "2024-02-11T11:19:58.821120Z",
     "iopub.status.busy": "2024-02-11T11:19:58.821042Z",
     "iopub.status.idle": "2024-02-11T11:19:58.826530Z",
     "shell.execute_reply": "2024-02-11T11:19:58.826360Z"
    }
   },
   "outputs": [
    {
     "data": {
      "text/html": [
       "<div>\n",
       "<style scoped>\n",
       "    .dataframe tbody tr th:only-of-type {\n",
       "        vertical-align: middle;\n",
       "    }\n",
       "\n",
       "    .dataframe tbody tr th {\n",
       "        vertical-align: top;\n",
       "    }\n",
       "\n",
       "    .dataframe thead th {\n",
       "        text-align: right;\n",
       "    }\n",
       "</style>\n",
       "<table border=\"1\" class=\"dataframe\">\n",
       "  <thead>\n",
       "    <tr style=\"text-align: right;\">\n",
       "      <th></th>\n",
       "      <th></th>\n",
       "      <th>ingredient_string</th>\n",
       "      <th>NER</th>\n",
       "      <th>ingredient_string_or_removed</th>\n",
       "      <th>name</th>\n",
       "      <th>quantity</th>\n",
       "      <th>unit</th>\n",
       "      <th>comment</th>\n",
       "      <th>preparation</th>\n",
       "    </tr>\n",
       "    <tr>\n",
       "      <th>recipe</th>\n",
       "      <th>ingredient</th>\n",
       "      <th></th>\n",
       "      <th></th>\n",
       "      <th></th>\n",
       "      <th></th>\n",
       "      <th></th>\n",
       "      <th></th>\n",
       "      <th></th>\n",
       "      <th></th>\n",
       "    </tr>\n",
       "  </thead>\n",
       "  <tbody>\n",
       "    <tr>\n",
       "      <th rowspan=\"5\" valign=\"top\">1746116</th>\n",
       "      <th>0</th>\n",
       "      <td>2/3 cup Land O Lakes Butter, softened</td>\n",
       "      <td>[\"Butter\", \"sugar\", \"Eggs\", \"vanilla\", \"flour\"...</td>\n",
       "      <td>2/3 cup Land O Lakes Butter, softened</td>\n",
       "      <td>Land O Lakes Butter</td>\n",
       "      <td>0.667</td>\n",
       "      <td>cups</td>\n",
       "      <td>None</td>\n",
       "      <td>softened</td>\n",
       "    </tr>\n",
       "    <tr>\n",
       "      <th>1</th>\n",
       "      <td>1/2 cup sugar</td>\n",
       "      <td>[\"Butter\", \"sugar\", \"Eggs\", \"vanilla\", \"flour\"...</td>\n",
       "      <td>1/2 cup sugar</td>\n",
       "      <td>sugar</td>\n",
       "      <td>0.5</td>\n",
       "      <td>cups</td>\n",
       "      <td>None</td>\n",
       "      <td>None</td>\n",
       "    </tr>\n",
       "    <tr>\n",
       "      <th>2</th>\n",
       "      <td>2 Land O Lakes Eggs (yolks only)</td>\n",
       "      <td>[\"Butter\", \"sugar\", \"Eggs\", \"vanilla\", \"flour\"...</td>\n",
       "      <td>2 Land O Lakes Eggs (yolks only)</td>\n",
       "      <td>Land O Lakes Eggs</td>\n",
       "      <td>2</td>\n",
       "      <td></td>\n",
       "      <td>(yolks only)</td>\n",
       "      <td>None</td>\n",
       "    </tr>\n",
       "    <tr>\n",
       "      <th>3</th>\n",
       "      <td>1 teaspoon vanilla</td>\n",
       "      <td>[\"Butter\", \"sugar\", \"Eggs\", \"vanilla\", \"flour\"...</td>\n",
       "      <td>1 teaspoon vanilla</td>\n",
       "      <td>vanilla</td>\n",
       "      <td>1</td>\n",
       "      <td>teaspoon</td>\n",
       "      <td>None</td>\n",
       "      <td>None</td>\n",
       "    </tr>\n",
       "    <tr>\n",
       "      <th>4</th>\n",
       "      <td>1 1/2 cups all-purpose flour</td>\n",
       "      <td>[\"Butter\", \"sugar\", \"Eggs\", \"vanilla\", \"flour\"...</td>\n",
       "      <td>1 1/2 cups all-purpose flour</td>\n",
       "      <td>all-purpose flour</td>\n",
       "      <td>1.5</td>\n",
       "      <td>cups</td>\n",
       "      <td>None</td>\n",
       "      <td>None</td>\n",
       "    </tr>\n",
       "    <tr>\n",
       "      <th>...</th>\n",
       "      <th>...</th>\n",
       "      <td>...</td>\n",
       "      <td>...</td>\n",
       "      <td>...</td>\n",
       "      <td>...</td>\n",
       "      <td>...</td>\n",
       "      <td>...</td>\n",
       "      <td>...</td>\n",
       "      <td>...</td>\n",
       "    </tr>\n",
       "    <tr>\n",
       "      <th rowspan=\"5\" valign=\"top\">931097</th>\n",
       "      <th>10</th>\n",
       "      <td>1/4 cup chopped red bell pepper</td>\n",
       "      <td>[\"Pineapple\", \"garlic\", \"ground thyme\", \"groun...</td>\n",
       "      <td>1/4 cup chopped red bell pepper</td>\n",
       "      <td>red bell pepper</td>\n",
       "      <td>0.25</td>\n",
       "      <td>cups</td>\n",
       "      <td>None</td>\n",
       "      <td>chopped</td>\n",
       "    </tr>\n",
       "    <tr>\n",
       "      <th>11</th>\n",
       "      <td>1 cup Jasmine rice</td>\n",
       "      <td>[\"Pineapple\", \"garlic\", \"ground thyme\", \"groun...</td>\n",
       "      <td>1 cup Jasmine rice</td>\n",
       "      <td>Jasmine rice</td>\n",
       "      <td>1</td>\n",
       "      <td>cup</td>\n",
       "      <td>None</td>\n",
       "      <td>None</td>\n",
       "    </tr>\n",
       "    <tr>\n",
       "      <th>12</th>\n",
       "      <td>1 1/2 cups reduced-sodium chicken broth</td>\n",
       "      <td>[\"Pineapple\", \"garlic\", \"ground thyme\", \"groun...</td>\n",
       "      <td>1 1/2 cups reduced-sodium chicken broth</td>\n",
       "      <td>reduced-sodium chicken broth</td>\n",
       "      <td>1.5</td>\n",
       "      <td>cups</td>\n",
       "      <td>None</td>\n",
       "      <td>None</td>\n",
       "    </tr>\n",
       "    <tr>\n",
       "      <th>13</th>\n",
       "      <td>1 tablespoon chopped fresh basil</td>\n",
       "      <td>[\"Pineapple\", \"garlic\", \"ground thyme\", \"groun...</td>\n",
       "      <td>1 tablespoon chopped fresh basil</td>\n",
       "      <td>fresh basil</td>\n",
       "      <td>1</td>\n",
       "      <td>tablespoon</td>\n",
       "      <td>None</td>\n",
       "      <td>chopped</td>\n",
       "    </tr>\n",
       "    <tr>\n",
       "      <th>14</th>\n",
       "      <td>Salt and ground pepper to taste</td>\n",
       "      <td>[\"Pineapple\", \"garlic\", \"ground thyme\", \"groun...</td>\n",
       "      <td>Salt and ground pepper to taste</td>\n",
       "      <td>Salt and ground pepper</td>\n",
       "      <td>None</td>\n",
       "      <td>None</td>\n",
       "      <td>to taste</td>\n",
       "      <td>None</td>\n",
       "    </tr>\n",
       "  </tbody>\n",
       "</table>\n",
       "<p>2511 rows × 8 columns</p>\n",
       "</div>"
      ],
      "text/plain": [
       "                                          ingredient_string  \\\n",
       "recipe  ingredient                                            \n",
       "1746116 0             2/3 cup Land O Lakes Butter, softened   \n",
       "        1                                     1/2 cup sugar   \n",
       "        2                  2 Land O Lakes Eggs (yolks only)   \n",
       "        3                                1 teaspoon vanilla   \n",
       "        4                      1 1/2 cups all-purpose flour   \n",
       "...                                                     ...   \n",
       "931097  10                  1/4 cup chopped red bell pepper   \n",
       "        11                               1 cup Jasmine rice   \n",
       "        12          1 1/2 cups reduced-sodium chicken broth   \n",
       "        13                 1 tablespoon chopped fresh basil   \n",
       "        14                  Salt and ground pepper to taste   \n",
       "\n",
       "                                                                  NER  \\\n",
       "recipe  ingredient                                                      \n",
       "1746116 0           [\"Butter\", \"sugar\", \"Eggs\", \"vanilla\", \"flour\"...   \n",
       "        1           [\"Butter\", \"sugar\", \"Eggs\", \"vanilla\", \"flour\"...   \n",
       "        2           [\"Butter\", \"sugar\", \"Eggs\", \"vanilla\", \"flour\"...   \n",
       "        3           [\"Butter\", \"sugar\", \"Eggs\", \"vanilla\", \"flour\"...   \n",
       "        4           [\"Butter\", \"sugar\", \"Eggs\", \"vanilla\", \"flour\"...   \n",
       "...                                                               ...   \n",
       "931097  10          [\"Pineapple\", \"garlic\", \"ground thyme\", \"groun...   \n",
       "        11          [\"Pineapple\", \"garlic\", \"ground thyme\", \"groun...   \n",
       "        12          [\"Pineapple\", \"garlic\", \"ground thyme\", \"groun...   \n",
       "        13          [\"Pineapple\", \"garlic\", \"ground thyme\", \"groun...   \n",
       "        14          [\"Pineapple\", \"garlic\", \"ground thyme\", \"groun...   \n",
       "\n",
       "                               ingredient_string_or_removed  \\\n",
       "recipe  ingredient                                            \n",
       "1746116 0             2/3 cup Land O Lakes Butter, softened   \n",
       "        1                                     1/2 cup sugar   \n",
       "        2                  2 Land O Lakes Eggs (yolks only)   \n",
       "        3                                1 teaspoon vanilla   \n",
       "        4                      1 1/2 cups all-purpose flour   \n",
       "...                                                     ...   \n",
       "931097  10                  1/4 cup chopped red bell pepper   \n",
       "        11                               1 cup Jasmine rice   \n",
       "        12          1 1/2 cups reduced-sodium chicken broth   \n",
       "        13                 1 tablespoon chopped fresh basil   \n",
       "        14                  Salt and ground pepper to taste   \n",
       "\n",
       "                                            name quantity        unit  \\\n",
       "recipe  ingredient                                                      \n",
       "1746116 0                    Land O Lakes Butter    0.667        cups   \n",
       "        1                                  sugar      0.5        cups   \n",
       "        2                      Land O Lakes Eggs        2               \n",
       "        3                                vanilla        1    teaspoon   \n",
       "        4                      all-purpose flour      1.5        cups   \n",
       "...                                          ...      ...         ...   \n",
       "931097  10                       red bell pepper     0.25        cups   \n",
       "        11                          Jasmine rice        1         cup   \n",
       "        12          reduced-sodium chicken broth      1.5        cups   \n",
       "        13                           fresh basil        1  tablespoon   \n",
       "        14                Salt and ground pepper     None        None   \n",
       "\n",
       "                         comment preparation  \n",
       "recipe  ingredient                            \n",
       "1746116 0                   None    softened  \n",
       "        1                   None        None  \n",
       "        2           (yolks only)        None  \n",
       "        3                   None        None  \n",
       "        4                   None        None  \n",
       "...                          ...         ...  \n",
       "931097  10                  None     chopped  \n",
       "        11                  None        None  \n",
       "        12                  None        None  \n",
       "        13                  None     chopped  \n",
       "        14              to taste        None  \n",
       "\n",
       "[2511 rows x 8 columns]"
      ]
     },
     "execution_count": 49,
     "metadata": {},
     "output_type": "execute_result"
    }
   ],
   "source": [
    "ingredients_df = pd.concat([ingredients_df, expanded], axis=1)\n",
    "ingredients_df.drop(['parsed'], axis=1, inplace=True, errors='ignore')\n",
    "ingredients_df"
   ]
  },
  {
   "cell_type": "code",
   "execution_count": 50,
   "metadata": {
    "execution": {
     "iopub.execute_input": "2024-02-11T11:19:58.827593Z",
     "iopub.status.busy": "2024-02-11T11:19:58.827536Z",
     "iopub.status.idle": "2024-02-11T11:19:58.829616Z",
     "shell.execute_reply": "2024-02-11T11:19:58.829433Z"
    }
   },
   "outputs": [],
   "source": [
    "ingredients_df = ingredients_df.fillna(pd.NA)"
   ]
  },
  {
   "cell_type": "code",
   "execution_count": 51,
   "metadata": {
    "execution": {
     "iopub.execute_input": "2024-02-11T11:19:58.830592Z",
     "iopub.status.busy": "2024-02-11T11:19:58.830516Z",
     "iopub.status.idle": "2024-02-11T11:19:58.832456Z",
     "shell.execute_reply": "2024-02-11T11:19:58.832283Z"
    }
   },
   "outputs": [],
   "source": [
    "#| export\n",
    "def pipeline_parse_ingredient_string_parsing(ingredients_df):\n",
    "\n",
    "    ingredients_df['parsed'] = parallel_apply(\n",
    "        ingredients_df['full_string'], \n",
    "        parse_ingredient_string, \n",
    "        meta=pd.Series(dtype='object'), \n",
    "        npartitions=500\n",
    "    )\n",
    "    \n",
    "    ingredients_df['parsed'] = ingredients_df['parsed'].apply(literal_eval)\n",
    "\n",
    "    expanded = pd.json_normalize(ingredients_df['parsed'])\n",
    "    expanded = expanded.convert_dtypes()\n",
    "    expanded.set_index(ingredients_df.index, inplace=True)\n",
    "    ingredients_df = pd.concat([ingredients_df, expanded], axis=1)\n",
    "\n",
    "    ingredients_df.drop(['parsed'], axis=1, inplace=True, errors='ignore')\n",
    "\n",
    "    return ingredients_df"
   ]
  },
  {
   "cell_type": "markdown",
   "metadata": {},
   "source": [
    "### Evaluating Results"
   ]
  },
  {
   "cell_type": "code",
   "execution_count": 52,
   "metadata": {
    "execution": {
     "iopub.execute_input": "2024-02-11T11:19:58.833455Z",
     "iopub.status.busy": "2024-02-11T11:19:58.833379Z",
     "iopub.status.idle": "2024-02-11T11:19:58.838532Z",
     "shell.execute_reply": "2024-02-11T11:19:58.838366Z"
    }
   },
   "outputs": [
    {
     "data": {
      "text/html": [
       "<div>\n",
       "<style scoped>\n",
       "    .dataframe tbody tr th:only-of-type {\n",
       "        vertical-align: middle;\n",
       "    }\n",
       "\n",
       "    .dataframe tbody tr th {\n",
       "        vertical-align: top;\n",
       "    }\n",
       "\n",
       "    .dataframe thead th {\n",
       "        text-align: right;\n",
       "    }\n",
       "</style>\n",
       "<table border=\"1\" class=\"dataframe\">\n",
       "  <thead>\n",
       "    <tr style=\"text-align: right;\">\n",
       "      <th></th>\n",
       "      <th></th>\n",
       "      <th>ingredient_string</th>\n",
       "      <th>ingredient_string_or_removed</th>\n",
       "      <th>name</th>\n",
       "      <th>quantity</th>\n",
       "      <th>unit</th>\n",
       "      <th>comment</th>\n",
       "      <th>preparation</th>\n",
       "    </tr>\n",
       "    <tr>\n",
       "      <th>recipe</th>\n",
       "      <th>ingredient</th>\n",
       "      <th></th>\n",
       "      <th></th>\n",
       "      <th></th>\n",
       "      <th></th>\n",
       "      <th></th>\n",
       "      <th></th>\n",
       "      <th></th>\n",
       "    </tr>\n",
       "  </thead>\n",
       "  <tbody>\n",
       "    <tr>\n",
       "      <th>1828339</th>\n",
       "      <th>1</th>\n",
       "      <td>salt</td>\n",
       "      <td>salt</td>\n",
       "      <td>salt</td>\n",
       "      <td>&lt;NA&gt;</td>\n",
       "      <td>&lt;NA&gt;</td>\n",
       "      <td>&lt;NA&gt;</td>\n",
       "      <td>&lt;NA&gt;</td>\n",
       "    </tr>\n",
       "    <tr>\n",
       "      <th rowspan=\"4\" valign=\"top\">824709</th>\n",
       "      <th>0</th>\n",
       "      <td>bread</td>\n",
       "      <td>bread</td>\n",
       "      <td>bread</td>\n",
       "      <td>&lt;NA&gt;</td>\n",
       "      <td>&lt;NA&gt;</td>\n",
       "      <td>&lt;NA&gt;</td>\n",
       "      <td>&lt;NA&gt;</td>\n",
       "    </tr>\n",
       "    <tr>\n",
       "      <th>1</th>\n",
       "      <td>ground cinnamon</td>\n",
       "      <td>ground cinnamon</td>\n",
       "      <td>ground cinnamon</td>\n",
       "      <td>&lt;NA&gt;</td>\n",
       "      <td>&lt;NA&gt;</td>\n",
       "      <td>&lt;NA&gt;</td>\n",
       "      <td>&lt;NA&gt;</td>\n",
       "    </tr>\n",
       "    <tr>\n",
       "      <th>2</th>\n",
       "      <td>sugar</td>\n",
       "      <td>sugar</td>\n",
       "      <td>sugar</td>\n",
       "      <td>&lt;NA&gt;</td>\n",
       "      <td>&lt;NA&gt;</td>\n",
       "      <td>&lt;NA&gt;</td>\n",
       "      <td>&lt;NA&gt;</td>\n",
       "    </tr>\n",
       "    <tr>\n",
       "      <th>3</th>\n",
       "      <td>squeeze margarine</td>\n",
       "      <td>squeeze margarine</td>\n",
       "      <td>squeeze margarine</td>\n",
       "      <td>&lt;NA&gt;</td>\n",
       "      <td>&lt;NA&gt;</td>\n",
       "      <td>&lt;NA&gt;</td>\n",
       "      <td>&lt;NA&gt;</td>\n",
       "    </tr>\n",
       "    <tr>\n",
       "      <th rowspan=\"4\" valign=\"top\">855127</th>\n",
       "      <th>1</th>\n",
       "      <td>tomato, sliced</td>\n",
       "      <td>tomato, sliced</td>\n",
       "      <td>tomato</td>\n",
       "      <td>&lt;NA&gt;</td>\n",
       "      <td>&lt;NA&gt;</td>\n",
       "      <td>&lt;NA&gt;</td>\n",
       "      <td>sliced</td>\n",
       "    </tr>\n",
       "    <tr>\n",
       "      <th>2</th>\n",
       "      <td>Parmesan cheese</td>\n",
       "      <td>Parmesan cheese</td>\n",
       "      <td>Parmesan cheese</td>\n",
       "      <td>&lt;NA&gt;</td>\n",
       "      <td>&lt;NA&gt;</td>\n",
       "      <td>&lt;NA&gt;</td>\n",
       "      <td>&lt;NA&gt;</td>\n",
       "    </tr>\n",
       "    <tr>\n",
       "      <th>3</th>\n",
       "      <td>olive oil</td>\n",
       "      <td>olive oil</td>\n",
       "      <td>olive oil</td>\n",
       "      <td>&lt;NA&gt;</td>\n",
       "      <td>&lt;NA&gt;</td>\n",
       "      <td>&lt;NA&gt;</td>\n",
       "      <td>&lt;NA&gt;</td>\n",
       "    </tr>\n",
       "    <tr>\n",
       "      <th>4</th>\n",
       "      <td>Italian spices (rosemary, thyme, oregano)</td>\n",
       "      <td>Italian spices (rosemary, thyme, oregano)</td>\n",
       "      <td>Italian spices</td>\n",
       "      <td>&lt;NA&gt;</td>\n",
       "      <td>&lt;NA&gt;</td>\n",
       "      <td>(rosemary, thyme, oregano)</td>\n",
       "      <td>&lt;NA&gt;</td>\n",
       "    </tr>\n",
       "    <tr>\n",
       "      <th rowspan=\"2\" valign=\"top\">767911</th>\n",
       "      <th>8</th>\n",
       "      <td>parsley to garnish</td>\n",
       "      <td>parsley to garnish</td>\n",
       "      <td>parsley</td>\n",
       "      <td>&lt;NA&gt;</td>\n",
       "      <td>&lt;NA&gt;</td>\n",
       "      <td>to garnish</td>\n",
       "      <td>&lt;NA&gt;</td>\n",
       "    </tr>\n",
       "    <tr>\n",
       "      <th>9</th>\n",
       "      <td>pimento to garnish</td>\n",
       "      <td>pimento to garnish</td>\n",
       "      <td>pimento</td>\n",
       "      <td>&lt;NA&gt;</td>\n",
       "      <td>&lt;NA&gt;</td>\n",
       "      <td>to garnish</td>\n",
       "      <td>&lt;NA&gt;</td>\n",
       "    </tr>\n",
       "    <tr>\n",
       "      <th>1042455</th>\n",
       "      <th>6</th>\n",
       "      <td>crystallized ginger, minced for garnish (optio...</td>\n",
       "      <td>crystallized ginger, minced for garnish (optio...</td>\n",
       "      <td>crystallized ginger</td>\n",
       "      <td>&lt;NA&gt;</td>\n",
       "      <td>&lt;NA&gt;</td>\n",
       "      <td>for garnish (optional)</td>\n",
       "      <td>minced</td>\n",
       "    </tr>\n",
       "    <tr>\n",
       "      <th>2058895</th>\n",
       "      <th>6</th>\n",
       "      <td>salt and pepper</td>\n",
       "      <td>salt and pepper</td>\n",
       "      <td>salt and pepper</td>\n",
       "      <td>&lt;NA&gt;</td>\n",
       "      <td>&lt;NA&gt;</td>\n",
       "      <td>&lt;NA&gt;</td>\n",
       "      <td>&lt;NA&gt;</td>\n",
       "    </tr>\n",
       "    <tr>\n",
       "      <th>2196831</th>\n",
       "      <th>5</th>\n",
       "      <td>Salt and freshly ground black pepper</td>\n",
       "      <td>Salt and freshly ground black pepper</td>\n",
       "      <td>Salt and freshly ground black pepper</td>\n",
       "      <td>&lt;NA&gt;</td>\n",
       "      <td>&lt;NA&gt;</td>\n",
       "      <td>&lt;NA&gt;</td>\n",
       "      <td>&lt;NA&gt;</td>\n",
       "    </tr>\n",
       "    <tr>\n",
       "      <th>1653851</th>\n",
       "      <th>9</th>\n",
       "      <td>kosher salt &amp; freshly ground black pepper</td>\n",
       "      <td>kosher salt &amp; freshly ground black pepper</td>\n",
       "      <td>kosher salt &amp; freshly ground black pepper</td>\n",
       "      <td>&lt;NA&gt;</td>\n",
       "      <td>&lt;NA&gt;</td>\n",
       "      <td>&lt;NA&gt;</td>\n",
       "      <td>&lt;NA&gt;</td>\n",
       "    </tr>\n",
       "    <tr>\n",
       "      <th rowspan=\"2\" valign=\"top\">939793</th>\n",
       "      <th>11</th>\n",
       "      <td>salt to taste</td>\n",
       "      <td>salt to taste</td>\n",
       "      <td>salt</td>\n",
       "      <td>&lt;NA&gt;</td>\n",
       "      <td>&lt;NA&gt;</td>\n",
       "      <td>to taste</td>\n",
       "      <td>&lt;NA&gt;</td>\n",
       "    </tr>\n",
       "    <tr>\n",
       "      <th>12</th>\n",
       "      <td>ground black pepper to taste</td>\n",
       "      <td>ground black pepper to taste</td>\n",
       "      <td>ground black pepper</td>\n",
       "      <td>&lt;NA&gt;</td>\n",
       "      <td>&lt;NA&gt;</td>\n",
       "      <td>to taste</td>\n",
       "      <td>&lt;NA&gt;</td>\n",
       "    </tr>\n",
       "    <tr>\n",
       "      <th>1956519</th>\n",
       "      <th>5</th>\n",
       "      <td>green olives, for garnish olives, chopped</td>\n",
       "      <td>green olives, for garnish olives, chopped</td>\n",
       "      <td>green olives</td>\n",
       "      <td>&lt;NA&gt;</td>\n",
       "      <td>&lt;NA&gt;</td>\n",
       "      <td>for garnish olives</td>\n",
       "      <td>chopped</td>\n",
       "    </tr>\n",
       "    <tr>\n",
       "      <th rowspan=\"3\" valign=\"top\">1546037</th>\n",
       "      <th>0</th>\n",
       "      <td>FOR THE PUMPKIN PUREE:</td>\n",
       "      <td>FOR THE PUMPKIN PUREE:</td>\n",
       "      <td>&lt;NA&gt;</td>\n",
       "      <td>&lt;NA&gt;</td>\n",
       "      <td>&lt;NA&gt;</td>\n",
       "      <td>FOR THE PUMPKIN PUREE :</td>\n",
       "      <td>&lt;NA&gt;</td>\n",
       "    </tr>\n",
       "    <tr>\n",
       "      <th>2</th>\n",
       "      <td>FOR THE PIE CRUST:</td>\n",
       "      <td>FOR THE PIE CRUST:</td>\n",
       "      <td>&lt;NA&gt;</td>\n",
       "      <td>&lt;NA&gt;</td>\n",
       "      <td>&lt;NA&gt;</td>\n",
       "      <td>FOR THE PIE CRUST :</td>\n",
       "      <td>&lt;NA&gt;</td>\n",
       "    </tr>\n",
       "    <tr>\n",
       "      <th>9</th>\n",
       "      <td>FOR THE FILLING:</td>\n",
       "      <td>FOR THE FILLING:</td>\n",
       "      <td>&lt;NA&gt;</td>\n",
       "      <td>&lt;NA&gt;</td>\n",
       "      <td>&lt;NA&gt;</td>\n",
       "      <td>FOR THE FILLING :</td>\n",
       "      <td>&lt;NA&gt;</td>\n",
       "    </tr>\n",
       "    <tr>\n",
       "      <th>1314074</th>\n",
       "      <th>4</th>\n",
       "      <td>Kosher salt, freshly ground pepper</td>\n",
       "      <td>Kosher salt, freshly ground pepper</td>\n",
       "      <td>Kosher salt, freshly ground pepper</td>\n",
       "      <td>&lt;NA&gt;</td>\n",
       "      <td>&lt;NA&gt;</td>\n",
       "      <td>&lt;NA&gt;</td>\n",
       "      <td>&lt;NA&gt;</td>\n",
       "    </tr>\n",
       "    <tr>\n",
       "      <th>820354</th>\n",
       "      <th>7</th>\n",
       "      <td>chopped nuts</td>\n",
       "      <td>chopped nuts</td>\n",
       "      <td>nuts</td>\n",
       "      <td>&lt;NA&gt;</td>\n",
       "      <td>&lt;NA&gt;</td>\n",
       "      <td>&lt;NA&gt;</td>\n",
       "      <td>chopped</td>\n",
       "    </tr>\n",
       "    <tr>\n",
       "      <th>745912</th>\n",
       "      <th>1</th>\n",
       "      <td>Lawry's taco seasoning mix</td>\n",
       "      <td>Lawry's taco seasoning mix</td>\n",
       "      <td>Lawry's taco seasoning mix</td>\n",
       "      <td>&lt;NA&gt;</td>\n",
       "      <td>&lt;NA&gt;</td>\n",
       "      <td>&lt;NA&gt;</td>\n",
       "      <td>&lt;NA&gt;</td>\n",
       "    </tr>\n",
       "    <tr>\n",
       "      <th>1591514</th>\n",
       "      <th>5</th>\n",
       "      <td>candied cherries</td>\n",
       "      <td>candied cherries</td>\n",
       "      <td>candied cherries</td>\n",
       "      <td>&lt;NA&gt;</td>\n",
       "      <td>&lt;NA&gt;</td>\n",
       "      <td>&lt;NA&gt;</td>\n",
       "      <td>&lt;NA&gt;</td>\n",
       "    </tr>\n",
       "    <tr>\n",
       "      <th>274238</th>\n",
       "      <th>3</th>\n",
       "      <td>pepper and salt</td>\n",
       "      <td>pepper and salt</td>\n",
       "      <td>pepper and salt</td>\n",
       "      <td>&lt;NA&gt;</td>\n",
       "      <td>&lt;NA&gt;</td>\n",
       "      <td>&lt;NA&gt;</td>\n",
       "      <td>&lt;NA&gt;</td>\n",
       "    </tr>\n",
       "    <tr>\n",
       "      <th rowspan=\"2\" valign=\"top\">1606545</th>\n",
       "      <th>4</th>\n",
       "      <td>dressing Sesame ginger, to taste</td>\n",
       "      <td>dressing Sesame ginger, to taste</td>\n",
       "      <td>dressing Sesame ginger</td>\n",
       "      <td>&lt;NA&gt;</td>\n",
       "      <td>&lt;NA&gt;</td>\n",
       "      <td>to taste</td>\n",
       "      <td>&lt;NA&gt;</td>\n",
       "    </tr>\n",
       "    <tr>\n",
       "      <th>5</th>\n",
       "      <td>cilantro for garnish</td>\n",
       "      <td>cilantro for garnish</td>\n",
       "      <td>cilantro</td>\n",
       "      <td>&lt;NA&gt;</td>\n",
       "      <td>&lt;NA&gt;</td>\n",
       "      <td>for garnish</td>\n",
       "      <td>&lt;NA&gt;</td>\n",
       "    </tr>\n",
       "    <tr>\n",
       "      <th rowspan=\"2\" valign=\"top\">373388</th>\n",
       "      <th>3</th>\n",
       "      <td>vanilla wafers</td>\n",
       "      <td>vanilla wafers</td>\n",
       "      <td>vanilla wafers</td>\n",
       "      <td>&lt;NA&gt;</td>\n",
       "      <td>&lt;NA&gt;</td>\n",
       "      <td>&lt;NA&gt;</td>\n",
       "      <td>&lt;NA&gt;</td>\n",
       "    </tr>\n",
       "    <tr>\n",
       "      <th>4</th>\n",
       "      <td>pie filling (your choice)</td>\n",
       "      <td>pie filling (your choice)</td>\n",
       "      <td>pie filling</td>\n",
       "      <td>&lt;NA&gt;</td>\n",
       "      <td>&lt;NA&gt;</td>\n",
       "      <td>(your choice)</td>\n",
       "      <td>&lt;NA&gt;</td>\n",
       "    </tr>\n",
       "  </tbody>\n",
       "</table>\n",
       "</div>"
      ],
      "text/plain": [
       "                                                    ingredient_string  \\\n",
       "recipe  ingredient                                                      \n",
       "1828339 1                                                        salt   \n",
       "824709  0                                                       bread   \n",
       "        1                                             ground cinnamon   \n",
       "        2                                                       sugar   \n",
       "        3                                           squeeze margarine   \n",
       "855127  1                                              tomato, sliced   \n",
       "        2                                             Parmesan cheese   \n",
       "        3                                                   olive oil   \n",
       "        4                   Italian spices (rosemary, thyme, oregano)   \n",
       "767911  8                                          parsley to garnish   \n",
       "        9                                          pimento to garnish   \n",
       "1042455 6           crystallized ginger, minced for garnish (optio...   \n",
       "2058895 6                                             salt and pepper   \n",
       "2196831 5                        Salt and freshly ground black pepper   \n",
       "1653851 9                   kosher salt & freshly ground black pepper   \n",
       "939793  11                                              salt to taste   \n",
       "        12                               ground black pepper to taste   \n",
       "1956519 5                   green olives, for garnish olives, chopped   \n",
       "1546037 0                                      FOR THE PUMPKIN PUREE:   \n",
       "        2                                          FOR THE PIE CRUST:   \n",
       "        9                                            FOR THE FILLING:   \n",
       "1314074 4                          Kosher salt, freshly ground pepper   \n",
       "820354  7                                                chopped nuts   \n",
       "745912  1                                  Lawry's taco seasoning mix   \n",
       "1591514 5                                            candied cherries   \n",
       "274238  3                                             pepper and salt   \n",
       "1606545 4                            dressing Sesame ginger, to taste   \n",
       "        5                                        cilantro for garnish   \n",
       "373388  3                                              vanilla wafers   \n",
       "        4                                   pie filling (your choice)   \n",
       "\n",
       "                                         ingredient_string_or_removed  \\\n",
       "recipe  ingredient                                                      \n",
       "1828339 1                                                        salt   \n",
       "824709  0                                                       bread   \n",
       "        1                                             ground cinnamon   \n",
       "        2                                                       sugar   \n",
       "        3                                           squeeze margarine   \n",
       "855127  1                                              tomato, sliced   \n",
       "        2                                             Parmesan cheese   \n",
       "        3                                                   olive oil   \n",
       "        4                   Italian spices (rosemary, thyme, oregano)   \n",
       "767911  8                                          parsley to garnish   \n",
       "        9                                          pimento to garnish   \n",
       "1042455 6           crystallized ginger, minced for garnish (optio...   \n",
       "2058895 6                                             salt and pepper   \n",
       "2196831 5                        Salt and freshly ground black pepper   \n",
       "1653851 9                   kosher salt & freshly ground black pepper   \n",
       "939793  11                                              salt to taste   \n",
       "        12                               ground black pepper to taste   \n",
       "1956519 5                   green olives, for garnish olives, chopped   \n",
       "1546037 0                                      FOR THE PUMPKIN PUREE:   \n",
       "        2                                          FOR THE PIE CRUST:   \n",
       "        9                                            FOR THE FILLING:   \n",
       "1314074 4                          Kosher salt, freshly ground pepper   \n",
       "820354  7                                                chopped nuts   \n",
       "745912  1                                  Lawry's taco seasoning mix   \n",
       "1591514 5                                            candied cherries   \n",
       "274238  3                                             pepper and salt   \n",
       "1606545 4                            dressing Sesame ginger, to taste   \n",
       "        5                                        cilantro for garnish   \n",
       "373388  3                                              vanilla wafers   \n",
       "        4                                   pie filling (your choice)   \n",
       "\n",
       "                                                         name quantity  unit  \\\n",
       "recipe  ingredient                                                             \n",
       "1828339 1                                                salt     <NA>  <NA>   \n",
       "824709  0                                               bread     <NA>  <NA>   \n",
       "        1                                     ground cinnamon     <NA>  <NA>   \n",
       "        2                                               sugar     <NA>  <NA>   \n",
       "        3                                   squeeze margarine     <NA>  <NA>   \n",
       "855127  1                                              tomato     <NA>  <NA>   \n",
       "        2                                     Parmesan cheese     <NA>  <NA>   \n",
       "        3                                           olive oil     <NA>  <NA>   \n",
       "        4                                      Italian spices     <NA>  <NA>   \n",
       "767911  8                                             parsley     <NA>  <NA>   \n",
       "        9                                             pimento     <NA>  <NA>   \n",
       "1042455 6                                 crystallized ginger     <NA>  <NA>   \n",
       "2058895 6                                     salt and pepper     <NA>  <NA>   \n",
       "2196831 5                Salt and freshly ground black pepper     <NA>  <NA>   \n",
       "1653851 9           kosher salt & freshly ground black pepper     <NA>  <NA>   \n",
       "939793  11                                               salt     <NA>  <NA>   \n",
       "        12                                ground black pepper     <NA>  <NA>   \n",
       "1956519 5                                        green olives     <NA>  <NA>   \n",
       "1546037 0                                                <NA>     <NA>  <NA>   \n",
       "        2                                                <NA>     <NA>  <NA>   \n",
       "        9                                                <NA>     <NA>  <NA>   \n",
       "1314074 4                  Kosher salt, freshly ground pepper     <NA>  <NA>   \n",
       "820354  7                                                nuts     <NA>  <NA>   \n",
       "745912  1                          Lawry's taco seasoning mix     <NA>  <NA>   \n",
       "1591514 5                                    candied cherries     <NA>  <NA>   \n",
       "274238  3                                     pepper and salt     <NA>  <NA>   \n",
       "1606545 4                              dressing Sesame ginger     <NA>  <NA>   \n",
       "        5                                            cilantro     <NA>  <NA>   \n",
       "373388  3                                      vanilla wafers     <NA>  <NA>   \n",
       "        4                                         pie filling     <NA>  <NA>   \n",
       "\n",
       "                                       comment preparation  \n",
       "recipe  ingredient                                          \n",
       "1828339 1                                 <NA>        <NA>  \n",
       "824709  0                                 <NA>        <NA>  \n",
       "        1                                 <NA>        <NA>  \n",
       "        2                                 <NA>        <NA>  \n",
       "        3                                 <NA>        <NA>  \n",
       "855127  1                                 <NA>      sliced  \n",
       "        2                                 <NA>        <NA>  \n",
       "        3                                 <NA>        <NA>  \n",
       "        4           (rosemary, thyme, oregano)        <NA>  \n",
       "767911  8                           to garnish        <NA>  \n",
       "        9                           to garnish        <NA>  \n",
       "1042455 6               for garnish (optional)      minced  \n",
       "2058895 6                                 <NA>        <NA>  \n",
       "2196831 5                                 <NA>        <NA>  \n",
       "1653851 9                                 <NA>        <NA>  \n",
       "939793  11                            to taste        <NA>  \n",
       "        12                            to taste        <NA>  \n",
       "1956519 5                   for garnish olives     chopped  \n",
       "1546037 0              FOR THE PUMPKIN PUREE :        <NA>  \n",
       "        2                  FOR THE PIE CRUST :        <NA>  \n",
       "        9                    FOR THE FILLING :        <NA>  \n",
       "1314074 4                                 <NA>        <NA>  \n",
       "820354  7                                 <NA>     chopped  \n",
       "745912  1                                 <NA>        <NA>  \n",
       "1591514 5                                 <NA>        <NA>  \n",
       "274238  3                                 <NA>        <NA>  \n",
       "1606545 4                             to taste        <NA>  \n",
       "        5                          for garnish        <NA>  \n",
       "373388  3                                 <NA>        <NA>  \n",
       "        4                        (your choice)        <NA>  "
      ]
     },
     "execution_count": 52,
     "metadata": {},
     "output_type": "execute_result"
    }
   ],
   "source": [
    "ingredients_df[ingredients_df['unit'].isnull()].drop('NER', axis=1).head(30)"
   ]
  },
  {
   "cell_type": "code",
   "execution_count": 53,
   "metadata": {
    "execution": {
     "iopub.execute_input": "2024-02-11T11:19:58.839530Z",
     "iopub.status.busy": "2024-02-11T11:19:58.839455Z",
     "iopub.status.idle": "2024-02-11T11:19:58.842656Z",
     "shell.execute_reply": "2024-02-11T11:19:58.842489Z"
    }
   },
   "outputs": [
    {
     "data": {
      "text/html": [
       "<div>\n",
       "<style scoped>\n",
       "    .dataframe tbody tr th:only-of-type {\n",
       "        vertical-align: middle;\n",
       "    }\n",
       "\n",
       "    .dataframe tbody tr th {\n",
       "        vertical-align: top;\n",
       "    }\n",
       "\n",
       "    .dataframe thead th {\n",
       "        text-align: right;\n",
       "    }\n",
       "</style>\n",
       "<table border=\"1\" class=\"dataframe\">\n",
       "  <thead>\n",
       "    <tr style=\"text-align: right;\">\n",
       "      <th></th>\n",
       "      <th></th>\n",
       "      <th>ingredient_string</th>\n",
       "      <th>ingredient_string_or_removed</th>\n",
       "      <th>name</th>\n",
       "      <th>quantity</th>\n",
       "      <th>unit</th>\n",
       "      <th>comment</th>\n",
       "      <th>preparation</th>\n",
       "    </tr>\n",
       "    <tr>\n",
       "      <th>recipe</th>\n",
       "      <th>ingredient</th>\n",
       "      <th></th>\n",
       "      <th></th>\n",
       "      <th></th>\n",
       "      <th></th>\n",
       "      <th></th>\n",
       "      <th></th>\n",
       "      <th></th>\n",
       "    </tr>\n",
       "  </thead>\n",
       "  <tbody>\n",
       "  </tbody>\n",
       "</table>\n",
       "</div>"
      ],
      "text/plain": [
       "Empty DataFrame\n",
       "Columns: [ingredient_string, ingredient_string_or_removed, name, quantity, unit, comment, preparation]\n",
       "Index: []"
      ]
     },
     "execution_count": 53,
     "metadata": {},
     "output_type": "execute_result"
    }
   ],
   "source": [
    "ingredients_df[ingredients_df['unit'].isnull() & ingredients_df['quantity'].notnull()].drop('NER', axis=1).head(30)"
   ]
  },
  {
   "cell_type": "code",
   "execution_count": 54,
   "metadata": {
    "execution": {
     "iopub.execute_input": "2024-02-11T11:19:58.843622Z",
     "iopub.status.busy": "2024-02-11T11:19:58.843547Z",
     "iopub.status.idle": "2024-02-11T11:19:58.846297Z",
     "shell.execute_reply": "2024-02-11T11:19:58.846129Z"
    }
   },
   "outputs": [
    {
     "data": {
      "text/plain": [
       "recipe   ingredient\n",
       "1746116  0             0.667\n",
       "         1               0.5\n",
       "         2                 2\n",
       "         3                 1\n",
       "         4               1.5\n",
       "                       ...  \n",
       "931097   10             0.25\n",
       "         11                1\n",
       "         12              1.5\n",
       "         13                1\n",
       "         14             <NA>\n",
       "Name: quantity, Length: 2511, dtype: string"
      ]
     },
     "execution_count": 54,
     "metadata": {},
     "output_type": "execute_result"
    }
   ],
   "source": [
    "ingredients_df['quantity'] = ingredients_df['quantity'].astype('string')\n",
    "ingredients_df['quantity']"
   ]
  },
  {
   "cell_type": "code",
   "execution_count": 55,
   "metadata": {
    "execution": {
     "iopub.execute_input": "2024-02-11T11:19:58.847322Z",
     "iopub.status.busy": "2024-02-11T11:19:58.847195Z",
     "iopub.status.idle": "2024-02-11T11:19:58.852390Z",
     "shell.execute_reply": "2024-02-11T11:19:58.852225Z"
    }
   },
   "outputs": [
    {
     "data": {
      "text/html": [
       "<div>\n",
       "<style scoped>\n",
       "    .dataframe tbody tr th:only-of-type {\n",
       "        vertical-align: middle;\n",
       "    }\n",
       "\n",
       "    .dataframe tbody tr th {\n",
       "        vertical-align: top;\n",
       "    }\n",
       "\n",
       "    .dataframe thead th {\n",
       "        text-align: right;\n",
       "    }\n",
       "</style>\n",
       "<table border=\"1\" class=\"dataframe\">\n",
       "  <thead>\n",
       "    <tr style=\"text-align: right;\">\n",
       "      <th></th>\n",
       "      <th></th>\n",
       "      <th>ingredient_string</th>\n",
       "      <th>ingredient_string_or_removed</th>\n",
       "      <th>name</th>\n",
       "      <th>quantity</th>\n",
       "      <th>unit</th>\n",
       "      <th>comment</th>\n",
       "      <th>preparation</th>\n",
       "    </tr>\n",
       "    <tr>\n",
       "      <th>recipe</th>\n",
       "      <th>ingredient</th>\n",
       "      <th></th>\n",
       "      <th></th>\n",
       "      <th></th>\n",
       "      <th></th>\n",
       "      <th></th>\n",
       "      <th></th>\n",
       "      <th></th>\n",
       "    </tr>\n",
       "  </thead>\n",
       "  <tbody>\n",
       "    <tr>\n",
       "      <th>504033</th>\n",
       "      <th>0</th>\n",
       "      <td>6 large firm green tomatoes</td>\n",
       "      <td>6 large firm green tomatoes</td>\n",
       "      <td>firm green tomatoes</td>\n",
       "      <td>6</td>\n",
       "      <td>large</td>\n",
       "      <td>&lt;NA&gt;</td>\n",
       "      <td>&lt;NA&gt;</td>\n",
       "    </tr>\n",
       "    <tr>\n",
       "      <th>1169604</th>\n",
       "      <th>9</th>\n",
       "      <td>4 chicken breast halves</td>\n",
       "      <td>4 chicken breast halves</td>\n",
       "      <td>chicken breast halves</td>\n",
       "      <td>4</td>\n",
       "      <td></td>\n",
       "      <td>&lt;NA&gt;</td>\n",
       "      <td>&lt;NA&gt;</td>\n",
       "    </tr>\n",
       "    <tr>\n",
       "      <th>2180004</th>\n",
       "      <th>7</th>\n",
       "      <td>14 teaspoon ground cumin</td>\n",
       "      <td>14 teaspoon ground cumin</td>\n",
       "      <td>ground cumin</td>\n",
       "      <td>14</td>\n",
       "      <td>teaspoons</td>\n",
       "      <td>&lt;NA&gt;</td>\n",
       "      <td>&lt;NA&gt;</td>\n",
       "    </tr>\n",
       "    <tr>\n",
       "      <th>324733</th>\n",
       "      <th>2</th>\n",
       "      <td>4 cup sifted all-purpose flour</td>\n",
       "      <td>4 c. sifted all-purpose flour</td>\n",
       "      <td>all-purpose flour</td>\n",
       "      <td>4</td>\n",
       "      <td>cups</td>\n",
       "      <td>&lt;NA&gt;</td>\n",
       "      <td>sifted</td>\n",
       "    </tr>\n",
       "    <tr>\n",
       "      <th>281215</th>\n",
       "      <th>0</th>\n",
       "      <td>1 lb. carrots, diagonally sliced</td>\n",
       "      <td>1 lb. carrots, diagonally sliced</td>\n",
       "      <td>carrots</td>\n",
       "      <td>1</td>\n",
       "      <td>lb</td>\n",
       "      <td>&lt;NA&gt;</td>\n",
       "      <td>diagonally sliced</td>\n",
       "    </tr>\n",
       "    <tr>\n",
       "      <th>1984757</th>\n",
       "      <th>5</th>\n",
       "      <td>1 1/4 cups all-purpose flour</td>\n",
       "      <td>1 1/4 cups all-purpose flour</td>\n",
       "      <td>all-purpose flour</td>\n",
       "      <td>1.25</td>\n",
       "      <td>cups</td>\n",
       "      <td>&lt;NA&gt;</td>\n",
       "      <td>&lt;NA&gt;</td>\n",
       "    </tr>\n",
       "    <tr>\n",
       "      <th>689193</th>\n",
       "      <th>2</th>\n",
       "      <td>1 (30 oz.) jar spaghetti sauce</td>\n",
       "      <td>1 (30 oz.) jar spaghetti sauce</td>\n",
       "      <td>spaghetti sauce</td>\n",
       "      <td>1</td>\n",
       "      <td>jar</td>\n",
       "      <td>&lt;NA&gt;</td>\n",
       "      <td>&lt;NA&gt;</td>\n",
       "    </tr>\n",
       "    <tr>\n",
       "      <th>1984239</th>\n",
       "      <th>6</th>\n",
       "      <td>1 Masago (capelin roe)</td>\n",
       "      <td>1 Masago (capelin roe)</td>\n",
       "      <td>Masago</td>\n",
       "      <td>1</td>\n",
       "      <td></td>\n",
       "      <td>(capelin roe)</td>\n",
       "      <td>&lt;NA&gt;</td>\n",
       "    </tr>\n",
       "    <tr>\n",
       "      <th>1032907</th>\n",
       "      <th>5</th>\n",
       "      <td>1/2 teaspoon cumin seed</td>\n",
       "      <td>1/2 teaspoon cumin seed</td>\n",
       "      <td>cumin seed</td>\n",
       "      <td>0.5</td>\n",
       "      <td>teaspoons</td>\n",
       "      <td>&lt;NA&gt;</td>\n",
       "      <td>&lt;NA&gt;</td>\n",
       "    </tr>\n",
       "    <tr>\n",
       "      <th>1948006</th>\n",
       "      <th>3</th>\n",
       "      <td>1/2 cup skim milk</td>\n",
       "      <td>1/2 cup skim milk</td>\n",
       "      <td>skim milk</td>\n",
       "      <td>0.5</td>\n",
       "      <td>cups</td>\n",
       "      <td>&lt;NA&gt;</td>\n",
       "      <td>&lt;NA&gt;</td>\n",
       "    </tr>\n",
       "    <tr>\n",
       "      <th>767911</th>\n",
       "      <th>8</th>\n",
       "      <td>parsley to garnish</td>\n",
       "      <td>parsley to garnish</td>\n",
       "      <td>parsley</td>\n",
       "      <td>&lt;NA&gt;</td>\n",
       "      <td>&lt;NA&gt;</td>\n",
       "      <td>to garnish</td>\n",
       "      <td>&lt;NA&gt;</td>\n",
       "    </tr>\n",
       "    <tr>\n",
       "      <th>835760</th>\n",
       "      <th>6</th>\n",
       "      <td>juice of 1 lemon</td>\n",
       "      <td>juice of 1 lemon</td>\n",
       "      <td>lemon</td>\n",
       "      <td>1</td>\n",
       "      <td></td>\n",
       "      <td>juice of</td>\n",
       "      <td>&lt;NA&gt;</td>\n",
       "    </tr>\n",
       "    <tr>\n",
       "      <th>2019868</th>\n",
       "      <th>1</th>\n",
       "      <td>2 tablespoons worcestershire sauce</td>\n",
       "      <td>2 tablespoons worcestershire sauce</td>\n",
       "      <td>worcestershire sauce</td>\n",
       "      <td>2</td>\n",
       "      <td>tablespoons</td>\n",
       "      <td>&lt;NA&gt;</td>\n",
       "      <td>&lt;NA&gt;</td>\n",
       "    </tr>\n",
       "    <tr>\n",
       "      <th>1051953</th>\n",
       "      <th>4</th>\n",
       "      <td>4 tablespoons clarified butter</td>\n",
       "      <td>4 tablespoons clarified butter</td>\n",
       "      <td>clarified butter</td>\n",
       "      <td>4</td>\n",
       "      <td>tablespoons</td>\n",
       "      <td>&lt;NA&gt;</td>\n",
       "      <td>&lt;NA&gt;</td>\n",
       "    </tr>\n",
       "    <tr>\n",
       "      <th>1978254</th>\n",
       "      <th>6</th>\n",
       "      <td>2 cups cherry tomato, halved</td>\n",
       "      <td>2 cups cherry tomato, halved</td>\n",
       "      <td>cherry tomato</td>\n",
       "      <td>2</td>\n",
       "      <td>cups</td>\n",
       "      <td>&lt;NA&gt;</td>\n",
       "      <td>halved</td>\n",
       "    </tr>\n",
       "    <tr>\n",
       "      <th>824709</th>\n",
       "      <th>0</th>\n",
       "      <td>bread</td>\n",
       "      <td>bread</td>\n",
       "      <td>bread</td>\n",
       "      <td>&lt;NA&gt;</td>\n",
       "      <td>&lt;NA&gt;</td>\n",
       "      <td>&lt;NA&gt;</td>\n",
       "      <td>&lt;NA&gt;</td>\n",
       "    </tr>\n",
       "    <tr>\n",
       "      <th>1417905</th>\n",
       "      <th>2</th>\n",
       "      <td>1/2 teaspoon kosher salt, divided</td>\n",
       "      <td>1/2 teaspoon kosher salt, divided</td>\n",
       "      <td>kosher salt</td>\n",
       "      <td>0.5</td>\n",
       "      <td>teaspoons</td>\n",
       "      <td>&lt;NA&gt;</td>\n",
       "      <td>divided</td>\n",
       "    </tr>\n",
       "    <tr>\n",
       "      <th>324733</th>\n",
       "      <th>1</th>\n",
       "      <td>2 pkg. Red Star special active dry yeast</td>\n",
       "      <td>2 pkg. Red Star special active dry yeast</td>\n",
       "      <td>pkg. Red Star special active dry yeast</td>\n",
       "      <td>2</td>\n",
       "      <td></td>\n",
       "      <td>&lt;NA&gt;</td>\n",
       "      <td>&lt;NA&gt;</td>\n",
       "    </tr>\n",
       "    <tr>\n",
       "      <th>1124672</th>\n",
       "      <th>4</th>\n",
       "      <td>2 cups flour</td>\n",
       "      <td>2 cups flour</td>\n",
       "      <td>flour</td>\n",
       "      <td>2</td>\n",
       "      <td>cups</td>\n",
       "      <td>&lt;NA&gt;</td>\n",
       "      <td>&lt;NA&gt;</td>\n",
       "    </tr>\n",
       "    <tr>\n",
       "      <th>1417905</th>\n",
       "      <th>0</th>\n",
       "      <td>1 pound fingerling potatoes, halved</td>\n",
       "      <td>1 pound fingerling potatoes, halved</td>\n",
       "      <td>fingerling potatoes</td>\n",
       "      <td>1</td>\n",
       "      <td>pound</td>\n",
       "      <td>&lt;NA&gt;</td>\n",
       "      <td>halved</td>\n",
       "    </tr>\n",
       "    <tr>\n",
       "      <th>504256</th>\n",
       "      <th>2</th>\n",
       "      <td>2 eggs</td>\n",
       "      <td>2 eggs</td>\n",
       "      <td>eggs</td>\n",
       "      <td>2</td>\n",
       "      <td></td>\n",
       "      <td>&lt;NA&gt;</td>\n",
       "      <td>&lt;NA&gt;</td>\n",
       "    </tr>\n",
       "    <tr>\n",
       "      <th>1201166</th>\n",
       "      <th>1</th>\n",
       "      <td>1/2 cup chocolate milk</td>\n",
       "      <td>1/2 cup chocolate milk</td>\n",
       "      <td>chocolate milk</td>\n",
       "      <td>0.5</td>\n",
       "      <td>cups</td>\n",
       "      <td>&lt;NA&gt;</td>\n",
       "      <td>&lt;NA&gt;</td>\n",
       "    </tr>\n",
       "    <tr>\n",
       "      <th>1034270</th>\n",
       "      <th>4</th>\n",
       "      <td>1/2 teaspoon dried mustard</td>\n",
       "      <td>1/2 teaspoon dried mustard</td>\n",
       "      <td>dried mustard</td>\n",
       "      <td>0.5</td>\n",
       "      <td>teaspoons</td>\n",
       "      <td>&lt;NA&gt;</td>\n",
       "      <td>&lt;NA&gt;</td>\n",
       "    </tr>\n",
       "    <tr>\n",
       "      <th>869338</th>\n",
       "      <th>0</th>\n",
       "      <td>2 lb. hamburger</td>\n",
       "      <td>2 lb. hamburger</td>\n",
       "      <td>hamburger</td>\n",
       "      <td>2</td>\n",
       "      <td>lbs</td>\n",
       "      <td>&lt;NA&gt;</td>\n",
       "      <td>&lt;NA&gt;</td>\n",
       "    </tr>\n",
       "    <tr>\n",
       "      <th>1262123</th>\n",
       "      <th>0</th>\n",
       "      <td>4 oz linguine</td>\n",
       "      <td>4 oz linguine</td>\n",
       "      <td>linguine</td>\n",
       "      <td>4</td>\n",
       "      <td>oz</td>\n",
       "      <td>&lt;NA&gt;</td>\n",
       "      <td>&lt;NA&gt;</td>\n",
       "    </tr>\n",
       "    <tr>\n",
       "      <th>147316</th>\n",
       "      <th>3</th>\n",
       "      <td>1/2 stick margarine</td>\n",
       "      <td>1/2 stick margarine</td>\n",
       "      <td>margarine</td>\n",
       "      <td>0.5</td>\n",
       "      <td>sticks</td>\n",
       "      <td>&lt;NA&gt;</td>\n",
       "      <td>&lt;NA&gt;</td>\n",
       "    </tr>\n",
       "    <tr>\n",
       "      <th>1105384</th>\n",
       "      <th>7</th>\n",
       "      <td>3 teaspoons baking powder</td>\n",
       "      <td>3 teaspoons baking powder</td>\n",
       "      <td>baking powder</td>\n",
       "      <td>3</td>\n",
       "      <td>teaspoons</td>\n",
       "      <td>&lt;NA&gt;</td>\n",
       "      <td>&lt;NA&gt;</td>\n",
       "    </tr>\n",
       "    <tr>\n",
       "      <th>1725386</th>\n",
       "      <th>7</th>\n",
       "      <td>2 cups shredded cheddar and monterey jack cheeses</td>\n",
       "      <td>2 cups shredded cheddar and monterey jack cheeses</td>\n",
       "      <td>cheddar and monterey jack cheeses</td>\n",
       "      <td>2</td>\n",
       "      <td>cups</td>\n",
       "      <td>&lt;NA&gt;</td>\n",
       "      <td>shredded</td>\n",
       "    </tr>\n",
       "    <tr>\n",
       "      <th>1124672</th>\n",
       "      <th>5</th>\n",
       "      <td>1 1/2 tablespoons instant coffee granules</td>\n",
       "      <td>1 1/2 tablespoons instant coffee granules</td>\n",
       "      <td>instant coffee granules</td>\n",
       "      <td>1.5</td>\n",
       "      <td>tablespoons</td>\n",
       "      <td>&lt;NA&gt;</td>\n",
       "      <td>&lt;NA&gt;</td>\n",
       "    </tr>\n",
       "    <tr>\n",
       "      <th>1725386</th>\n",
       "      <th>5</th>\n",
       "      <td>1 lb. sour cream</td>\n",
       "      <td>1 lb. sour cream</td>\n",
       "      <td>sour cream</td>\n",
       "      <td>1</td>\n",
       "      <td>lb</td>\n",
       "      <td>&lt;NA&gt;</td>\n",
       "      <td>&lt;NA&gt;</td>\n",
       "    </tr>\n",
       "  </tbody>\n",
       "</table>\n",
       "</div>"
      ],
      "text/plain": [
       "                                                    ingredient_string  \\\n",
       "recipe  ingredient                                                      \n",
       "504033  0                                 6 large firm green tomatoes   \n",
       "1169604 9                                     4 chicken breast halves   \n",
       "2180004 7                                    14 teaspoon ground cumin   \n",
       "324733  2                              4 cup sifted all-purpose flour   \n",
       "281215  0                            1 lb. carrots, diagonally sliced   \n",
       "1984757 5                                1 1/4 cups all-purpose flour   \n",
       "689193  2                              1 (30 oz.) jar spaghetti sauce   \n",
       "1984239 6                                      1 Masago (capelin roe)   \n",
       "1032907 5                                     1/2 teaspoon cumin seed   \n",
       "1948006 3                                           1/2 cup skim milk   \n",
       "767911  8                                          parsley to garnish   \n",
       "835760  6                                            juice of 1 lemon   \n",
       "2019868 1                          2 tablespoons worcestershire sauce   \n",
       "1051953 4                              4 tablespoons clarified butter   \n",
       "1978254 6                                2 cups cherry tomato, halved   \n",
       "824709  0                                                       bread   \n",
       "1417905 2                           1/2 teaspoon kosher salt, divided   \n",
       "324733  1                    2 pkg. Red Star special active dry yeast   \n",
       "1124672 4                                                2 cups flour   \n",
       "1417905 0                         1 pound fingerling potatoes, halved   \n",
       "504256  2                                                      2 eggs   \n",
       "1201166 1                                      1/2 cup chocolate milk   \n",
       "1034270 4                                  1/2 teaspoon dried mustard   \n",
       "869338  0                                             2 lb. hamburger   \n",
       "1262123 0                                               4 oz linguine   \n",
       "147316  3                                         1/2 stick margarine   \n",
       "1105384 7                                   3 teaspoons baking powder   \n",
       "1725386 7           2 cups shredded cheddar and monterey jack cheeses   \n",
       "1124672 5                   1 1/2 tablespoons instant coffee granules   \n",
       "1725386 5                                            1 lb. sour cream   \n",
       "\n",
       "                                         ingredient_string_or_removed  \\\n",
       "recipe  ingredient                                                      \n",
       "504033  0                                 6 large firm green tomatoes   \n",
       "1169604 9                                     4 chicken breast halves   \n",
       "2180004 7                                    14 teaspoon ground cumin   \n",
       "324733  2                               4 c. sifted all-purpose flour   \n",
       "281215  0                            1 lb. carrots, diagonally sliced   \n",
       "1984757 5                                1 1/4 cups all-purpose flour   \n",
       "689193  2                              1 (30 oz.) jar spaghetti sauce   \n",
       "1984239 6                                      1 Masago (capelin roe)   \n",
       "1032907 5                                     1/2 teaspoon cumin seed   \n",
       "1948006 3                                           1/2 cup skim milk   \n",
       "767911  8                                          parsley to garnish   \n",
       "835760  6                                            juice of 1 lemon   \n",
       "2019868 1                          2 tablespoons worcestershire sauce   \n",
       "1051953 4                              4 tablespoons clarified butter   \n",
       "1978254 6                                2 cups cherry tomato, halved   \n",
       "824709  0                                                       bread   \n",
       "1417905 2                           1/2 teaspoon kosher salt, divided   \n",
       "324733  1                    2 pkg. Red Star special active dry yeast   \n",
       "1124672 4                                                2 cups flour   \n",
       "1417905 0                         1 pound fingerling potatoes, halved   \n",
       "504256  2                                                      2 eggs   \n",
       "1201166 1                                      1/2 cup chocolate milk   \n",
       "1034270 4                                  1/2 teaspoon dried mustard   \n",
       "869338  0                                             2 lb. hamburger   \n",
       "1262123 0                                               4 oz linguine   \n",
       "147316  3                                         1/2 stick margarine   \n",
       "1105384 7                                   3 teaspoons baking powder   \n",
       "1725386 7           2 cups shredded cheddar and monterey jack cheeses   \n",
       "1124672 5                   1 1/2 tablespoons instant coffee granules   \n",
       "1725386 5                                            1 lb. sour cream   \n",
       "\n",
       "                                                      name quantity  \\\n",
       "recipe  ingredient                                                    \n",
       "504033  0                              firm green tomatoes        6   \n",
       "1169604 9                            chicken breast halves        4   \n",
       "2180004 7                                     ground cumin       14   \n",
       "324733  2                                all-purpose flour        4   \n",
       "281215  0                                          carrots        1   \n",
       "1984757 5                                all-purpose flour     1.25   \n",
       "689193  2                                  spaghetti sauce        1   \n",
       "1984239 6                                           Masago        1   \n",
       "1032907 5                                       cumin seed      0.5   \n",
       "1948006 3                                        skim milk      0.5   \n",
       "767911  8                                          parsley     <NA>   \n",
       "835760  6                                            lemon        1   \n",
       "2019868 1                             worcestershire sauce        2   \n",
       "1051953 4                                 clarified butter        4   \n",
       "1978254 6                                    cherry tomato        2   \n",
       "824709  0                                            bread     <NA>   \n",
       "1417905 2                                      kosher salt      0.5   \n",
       "324733  1           pkg. Red Star special active dry yeast        2   \n",
       "1124672 4                                            flour        2   \n",
       "1417905 0                              fingerling potatoes        1   \n",
       "504256  2                                             eggs        2   \n",
       "1201166 1                                   chocolate milk      0.5   \n",
       "1034270 4                                    dried mustard      0.5   \n",
       "869338  0                                        hamburger        2   \n",
       "1262123 0                                         linguine        4   \n",
       "147316  3                                        margarine      0.5   \n",
       "1105384 7                                    baking powder        3   \n",
       "1725386 7                cheddar and monterey jack cheeses        2   \n",
       "1124672 5                          instant coffee granules      1.5   \n",
       "1725386 5                                       sour cream        1   \n",
       "\n",
       "                           unit        comment        preparation  \n",
       "recipe  ingredient                                                 \n",
       "504033  0                 large           <NA>               <NA>  \n",
       "1169604 9                                 <NA>               <NA>  \n",
       "2180004 7             teaspoons           <NA>               <NA>  \n",
       "324733  2                  cups           <NA>             sifted  \n",
       "281215  0                    lb           <NA>  diagonally sliced  \n",
       "1984757 5                  cups           <NA>               <NA>  \n",
       "689193  2                   jar           <NA>               <NA>  \n",
       "1984239 6                        (capelin roe)               <NA>  \n",
       "1032907 5             teaspoons           <NA>               <NA>  \n",
       "1948006 3                  cups           <NA>               <NA>  \n",
       "767911  8                  <NA>     to garnish               <NA>  \n",
       "835760  6                             juice of               <NA>  \n",
       "2019868 1           tablespoons           <NA>               <NA>  \n",
       "1051953 4           tablespoons           <NA>               <NA>  \n",
       "1978254 6                  cups           <NA>             halved  \n",
       "824709  0                  <NA>           <NA>               <NA>  \n",
       "1417905 2             teaspoons           <NA>            divided  \n",
       "324733  1                                 <NA>               <NA>  \n",
       "1124672 4                  cups           <NA>               <NA>  \n",
       "1417905 0                 pound           <NA>             halved  \n",
       "504256  2                                 <NA>               <NA>  \n",
       "1201166 1                  cups           <NA>               <NA>  \n",
       "1034270 4             teaspoons           <NA>               <NA>  \n",
       "869338  0                   lbs           <NA>               <NA>  \n",
       "1262123 0                    oz           <NA>               <NA>  \n",
       "147316  3                sticks           <NA>               <NA>  \n",
       "1105384 7             teaspoons           <NA>               <NA>  \n",
       "1725386 7                  cups           <NA>           shredded  \n",
       "1124672 5           tablespoons           <NA>               <NA>  \n",
       "1725386 5                    lb           <NA>               <NA>  "
      ]
     },
     "execution_count": 55,
     "metadata": {},
     "output_type": "execute_result"
    }
   ],
   "source": [
    "ingredients_df.drop('NER', axis=1).sample(30)"
   ]
  },
  {
   "cell_type": "markdown",
   "metadata": {},
   "source": [
    "#### NAs"
   ]
  },
  {
   "cell_type": "code",
   "execution_count": 56,
   "metadata": {
    "execution": {
     "iopub.execute_input": "2024-02-11T11:19:58.853347Z",
     "iopub.status.busy": "2024-02-11T11:19:58.853272Z",
     "iopub.status.idle": "2024-02-11T11:19:58.857922Z",
     "shell.execute_reply": "2024-02-11T11:19:58.857756Z"
    }
   },
   "outputs": [
    {
     "data": {
      "text/html": [
       "<div>\n",
       "<style scoped>\n",
       "    .dataframe tbody tr th:only-of-type {\n",
       "        vertical-align: middle;\n",
       "    }\n",
       "\n",
       "    .dataframe tbody tr th {\n",
       "        vertical-align: top;\n",
       "    }\n",
       "\n",
       "    .dataframe thead th {\n",
       "        text-align: right;\n",
       "    }\n",
       "</style>\n",
       "<table border=\"1\" class=\"dataframe\">\n",
       "  <thead>\n",
       "    <tr style=\"text-align: right;\">\n",
       "      <th></th>\n",
       "      <th></th>\n",
       "      <th>ingredient_string</th>\n",
       "      <th>NER</th>\n",
       "      <th>ingredient_string_or_removed</th>\n",
       "      <th>name</th>\n",
       "      <th>quantity</th>\n",
       "      <th>unit</th>\n",
       "      <th>comment</th>\n",
       "      <th>preparation</th>\n",
       "    </tr>\n",
       "    <tr>\n",
       "      <th>recipe</th>\n",
       "      <th>ingredient</th>\n",
       "      <th></th>\n",
       "      <th></th>\n",
       "      <th></th>\n",
       "      <th></th>\n",
       "      <th></th>\n",
       "      <th></th>\n",
       "      <th></th>\n",
       "      <th></th>\n",
       "    </tr>\n",
       "  </thead>\n",
       "  <tbody>\n",
       "    <tr>\n",
       "      <th>1956519</th>\n",
       "      <th>0</th>\n",
       "      <td>1 (1 1/4 ounce) envelope Lipton Recipe Secrets...</td>\n",
       "      <td>[\"Recipe Secrets savory\", \"sour cream\", \"ricot...</td>\n",
       "      <td>1 (1 1/4 ounce) envelope Lipton Recipe Secrets...</td>\n",
       "      <td>&lt;NA&gt;</td>\n",
       "      <td>1</td>\n",
       "      <td>envelope</td>\n",
       "      <td>Lipton Recipe Secrets savory herb with garlic ...</td>\n",
       "      <td>&lt;NA&gt;</td>\n",
       "    </tr>\n",
       "    <tr>\n",
       "      <th rowspan=\"4\" valign=\"top\">1546037</th>\n",
       "      <th>0</th>\n",
       "      <td>FOR THE PUMPKIN PUREE:</td>\n",
       "      <td>[\"Pumpkin\", \"Flour\", \"Salt\", \"Butter\", \"Egg\", ...</td>\n",
       "      <td>FOR THE PUMPKIN PUREE:</td>\n",
       "      <td>&lt;NA&gt;</td>\n",
       "      <td>&lt;NA&gt;</td>\n",
       "      <td>&lt;NA&gt;</td>\n",
       "      <td>FOR THE PUMPKIN PUREE :</td>\n",
       "      <td>&lt;NA&gt;</td>\n",
       "    </tr>\n",
       "    <tr>\n",
       "      <th>2</th>\n",
       "      <td>FOR THE PIE CRUST:</td>\n",
       "      <td>[\"Pumpkin\", \"Flour\", \"Salt\", \"Butter\", \"Egg\", ...</td>\n",
       "      <td>FOR THE PIE CRUST:</td>\n",
       "      <td>&lt;NA&gt;</td>\n",
       "      <td>&lt;NA&gt;</td>\n",
       "      <td>&lt;NA&gt;</td>\n",
       "      <td>FOR THE PIE CRUST :</td>\n",
       "      <td>&lt;NA&gt;</td>\n",
       "    </tr>\n",
       "    <tr>\n",
       "      <th>9</th>\n",
       "      <td>FOR THE FILLING:</td>\n",
       "      <td>[\"Pumpkin\", \"Flour\", \"Salt\", \"Butter\", \"Egg\", ...</td>\n",
       "      <td>FOR THE FILLING:</td>\n",
       "      <td>&lt;NA&gt;</td>\n",
       "      <td>&lt;NA&gt;</td>\n",
       "      <td>&lt;NA&gt;</td>\n",
       "      <td>FOR THE FILLING :</td>\n",
       "      <td>&lt;NA&gt;</td>\n",
       "    </tr>\n",
       "    <tr>\n",
       "      <th>16</th>\n",
       "      <td>15 ounces, weight Pumpkin Puree</td>\n",
       "      <td>[\"Pumpkin\", \"Flour\", \"Salt\", \"Butter\", \"Egg\", ...</td>\n",
       "      <td>15 ounces, weight Pumpkin Puree</td>\n",
       "      <td>&lt;NA&gt;</td>\n",
       "      <td>15</td>\n",
       "      <td>ounces</td>\n",
       "      <td>weight Pumpkin Puree</td>\n",
       "      <td>&lt;NA&gt;</td>\n",
       "    </tr>\n",
       "    <tr>\n",
       "      <th>1806301</th>\n",
       "      <th>5</th>\n",
       "      <td>1 tbsp. sliced pimiento (optional)</td>\n",
       "      <td>[\"biscuit mix\", \"poultry seasoning\", \"sour cre...</td>\n",
       "      <td>1 tbsp. sliced pimiento (optional)</td>\n",
       "      <td>&lt;NA&gt;</td>\n",
       "      <td>1</td>\n",
       "      <td>tbsp</td>\n",
       "      <td>(optional)</td>\n",
       "      <td>sliced pimiento</td>\n",
       "    </tr>\n",
       "    <tr>\n",
       "      <th rowspan=\"2\" valign=\"top\">1396644</th>\n",
       "      <th>0</th>\n",
       "      <td>For the Vanilla Bean and Green Grape Chicken:</td>\n",
       "      <td>[\"Vanilla\", \"olive oil\", \"butter\", \"chicken br...</td>\n",
       "      <td>For the Vanilla Bean and Green Grape Chicken:</td>\n",
       "      <td>&lt;NA&gt;</td>\n",
       "      <td>&lt;NA&gt;</td>\n",
       "      <td>&lt;NA&gt;</td>\n",
       "      <td>For the Vanilla Bean and Green Grape Chicken :</td>\n",
       "      <td>&lt;NA&gt;</td>\n",
       "    </tr>\n",
       "    <tr>\n",
       "      <th>11</th>\n",
       "      <td>For the Vanilla-Scented Rice Pilaf:</td>\n",
       "      <td>[\"Vanilla\", \"olive oil\", \"butter\", \"chicken br...</td>\n",
       "      <td>For the Vanilla-Scented Rice Pilaf:</td>\n",
       "      <td>&lt;NA&gt;</td>\n",
       "      <td>&lt;NA&gt;</td>\n",
       "      <td>&lt;NA&gt;</td>\n",
       "      <td>For the Vanilla-Scented Rice Pilaf :</td>\n",
       "      <td>&lt;NA&gt;</td>\n",
       "    </tr>\n",
       "    <tr>\n",
       "      <th>1378004</th>\n",
       "      <th>8</th>\n",
       "      <td>2 tsp, plus 1 TBL kosher salt - divided</td>\n",
       "      <td>[\"bacon\", \"bone\", \"sausage\", \"yellow onion\", \"...</td>\n",
       "      <td>2 tsp, plus 1 TBL kosher salt - divided</td>\n",
       "      <td>&lt;NA&gt;</td>\n",
       "      <td>2</td>\n",
       "      <td>tsps</td>\n",
       "      <td>plus 1 TBL kosher salt -</td>\n",
       "      <td>divided</td>\n",
       "    </tr>\n",
       "    <tr>\n",
       "      <th>879616</th>\n",
       "      <th>7</th>\n",
       "      <td>1 Tbsp. gluten (optional)</td>\n",
       "      <td>[\"water\", \"bread flour\", \"sugar\", \"salt\", \"bak...</td>\n",
       "      <td>1 Tbsp. gluten (optional)</td>\n",
       "      <td>&lt;NA&gt;</td>\n",
       "      <td>1</td>\n",
       "      <td>Tbsp</td>\n",
       "      <td>(optional)</td>\n",
       "      <td>gluten</td>\n",
       "    </tr>\n",
       "    <tr>\n",
       "      <th rowspan=\"4\" valign=\"top\">1379076</th>\n",
       "      <th>0</th>\n",
       "      <td>For the Vanilla-Roasted Peaches</td>\n",
       "      <td>[\"Peaches\", \"unsalted butter\", \"lemon juice\", ...</td>\n",
       "      <td>For the Vanilla-Roasted Peaches</td>\n",
       "      <td>&lt;NA&gt;</td>\n",
       "      <td>&lt;NA&gt;</td>\n",
       "      <td>&lt;NA&gt;</td>\n",
       "      <td>For the Vanilla-Roasted Peaches</td>\n",
       "      <td>&lt;NA&gt;</td>\n",
       "    </tr>\n",
       "    <tr>\n",
       "      <th>7</th>\n",
       "      <td>For the Mascarpone Cream:</td>\n",
       "      <td>[\"Peaches\", \"unsalted butter\", \"lemon juice\", ...</td>\n",
       "      <td>For the Mascarpone Cream:</td>\n",
       "      <td>&lt;NA&gt;</td>\n",
       "      <td>&lt;NA&gt;</td>\n",
       "      <td>&lt;NA&gt;</td>\n",
       "      <td>For the Mascarpone Cream :</td>\n",
       "      <td>&lt;NA&gt;</td>\n",
       "    </tr>\n",
       "    <tr>\n",
       "      <th>12</th>\n",
       "      <td>For the Napoleons:</td>\n",
       "      <td>[\"Peaches\", \"unsalted butter\", \"lemon juice\", ...</td>\n",
       "      <td>For the Napoleons:</td>\n",
       "      <td>&lt;NA&gt;</td>\n",
       "      <td>&lt;NA&gt;</td>\n",
       "      <td>&lt;NA&gt;</td>\n",
       "      <td>For the Napoleons :</td>\n",
       "      <td>&lt;NA&gt;</td>\n",
       "    </tr>\n",
       "    <tr>\n",
       "      <th>15</th>\n",
       "      <td>1egg + 2 teaspoons water for eggwash</td>\n",
       "      <td>[\"Peaches\", \"unsalted butter\", \"lemon juice\", ...</td>\n",
       "      <td>1egg + 2 teaspoons water for eggwash</td>\n",
       "      <td>&lt;NA&gt;</td>\n",
       "      <td>1</td>\n",
       "      <td></td>\n",
       "      <td>egg + 2 teaspoons water for eggwash</td>\n",
       "      <td>&lt;NA&gt;</td>\n",
       "    </tr>\n",
       "    <tr>\n",
       "      <th>2076879</th>\n",
       "      <th>2</th>\n",
       "      <td>1 as required Katakuriko</td>\n",
       "      <td>[\"tenderloin\", \"Salt\", \"Vegetable oil\", \"clove...</td>\n",
       "      <td>1 as required Katakuriko</td>\n",
       "      <td>&lt;NA&gt;</td>\n",
       "      <td>1</td>\n",
       "      <td></td>\n",
       "      <td>as required Katakuriko</td>\n",
       "      <td>&lt;NA&gt;</td>\n",
       "    </tr>\n",
       "    <tr>\n",
       "      <th>1956528</th>\n",
       "      <th>0</th>\n",
       "      <td>4 x swordfish steaks - (abt 6 ounce ea)</td>\n",
       "      <td>[\"swordfish steaks -\", \"salt\", \"lemon juice Di...</td>\n",
       "      <td>4 x swordfish steaks - (abt 6 ounce ea)</td>\n",
       "      <td>&lt;NA&gt;</td>\n",
       "      <td>&lt;NA&gt;</td>\n",
       "      <td>&lt;NA&gt;</td>\n",
       "      <td>4x swordfish steaks - (abt 6 ounce ea)</td>\n",
       "      <td>&lt;NA&gt;</td>\n",
       "    </tr>\n",
       "    <tr>\n",
       "      <th>1269565</th>\n",
       "      <th>0</th>\n",
       "      <td>Cookies:</td>\n",
       "      <td>[\"Cookies\", \"cake mix\", \"solid pack pumpkin\", ...</td>\n",
       "      <td>Cookies:</td>\n",
       "      <td>&lt;NA&gt;</td>\n",
       "      <td>&lt;NA&gt;</td>\n",
       "      <td>&lt;NA&gt;</td>\n",
       "      <td>Cookies :</td>\n",
       "      <td>&lt;NA&gt;</td>\n",
       "    </tr>\n",
       "  </tbody>\n",
       "</table>\n",
       "</div>"
      ],
      "text/plain": [
       "                                                    ingredient_string  \\\n",
       "recipe  ingredient                                                      \n",
       "1956519 0           1 (1 1/4 ounce) envelope Lipton Recipe Secrets...   \n",
       "1546037 0                                      FOR THE PUMPKIN PUREE:   \n",
       "        2                                          FOR THE PIE CRUST:   \n",
       "        9                                            FOR THE FILLING:   \n",
       "        16                            15 ounces, weight Pumpkin Puree   \n",
       "1806301 5                          1 tbsp. sliced pimiento (optional)   \n",
       "1396644 0               For the Vanilla Bean and Green Grape Chicken:   \n",
       "        11                        For the Vanilla-Scented Rice Pilaf:   \n",
       "1378004 8                     2 tsp, plus 1 TBL kosher salt - divided   \n",
       "879616  7                                   1 Tbsp. gluten (optional)   \n",
       "1379076 0                             For the Vanilla-Roasted Peaches   \n",
       "        7                                   For the Mascarpone Cream:   \n",
       "        12                                         For the Napoleons:   \n",
       "        15                       1egg + 2 teaspoons water for eggwash   \n",
       "2076879 2                                    1 as required Katakuriko   \n",
       "1956528 0                     4 x swordfish steaks - (abt 6 ounce ea)   \n",
       "1269565 0                                                    Cookies:   \n",
       "\n",
       "                                                                  NER  \\\n",
       "recipe  ingredient                                                      \n",
       "1956519 0           [\"Recipe Secrets savory\", \"sour cream\", \"ricot...   \n",
       "1546037 0           [\"Pumpkin\", \"Flour\", \"Salt\", \"Butter\", \"Egg\", ...   \n",
       "        2           [\"Pumpkin\", \"Flour\", \"Salt\", \"Butter\", \"Egg\", ...   \n",
       "        9           [\"Pumpkin\", \"Flour\", \"Salt\", \"Butter\", \"Egg\", ...   \n",
       "        16          [\"Pumpkin\", \"Flour\", \"Salt\", \"Butter\", \"Egg\", ...   \n",
       "1806301 5           [\"biscuit mix\", \"poultry seasoning\", \"sour cre...   \n",
       "1396644 0           [\"Vanilla\", \"olive oil\", \"butter\", \"chicken br...   \n",
       "        11          [\"Vanilla\", \"olive oil\", \"butter\", \"chicken br...   \n",
       "1378004 8           [\"bacon\", \"bone\", \"sausage\", \"yellow onion\", \"...   \n",
       "879616  7           [\"water\", \"bread flour\", \"sugar\", \"salt\", \"bak...   \n",
       "1379076 0           [\"Peaches\", \"unsalted butter\", \"lemon juice\", ...   \n",
       "        7           [\"Peaches\", \"unsalted butter\", \"lemon juice\", ...   \n",
       "        12          [\"Peaches\", \"unsalted butter\", \"lemon juice\", ...   \n",
       "        15          [\"Peaches\", \"unsalted butter\", \"lemon juice\", ...   \n",
       "2076879 2           [\"tenderloin\", \"Salt\", \"Vegetable oil\", \"clove...   \n",
       "1956528 0           [\"swordfish steaks -\", \"salt\", \"lemon juice Di...   \n",
       "1269565 0           [\"Cookies\", \"cake mix\", \"solid pack pumpkin\", ...   \n",
       "\n",
       "                                         ingredient_string_or_removed  name  \\\n",
       "recipe  ingredient                                                            \n",
       "1956519 0           1 (1 1/4 ounce) envelope Lipton Recipe Secrets...  <NA>   \n",
       "1546037 0                                      FOR THE PUMPKIN PUREE:  <NA>   \n",
       "        2                                          FOR THE PIE CRUST:  <NA>   \n",
       "        9                                            FOR THE FILLING:  <NA>   \n",
       "        16                            15 ounces, weight Pumpkin Puree  <NA>   \n",
       "1806301 5                          1 tbsp. sliced pimiento (optional)  <NA>   \n",
       "1396644 0               For the Vanilla Bean and Green Grape Chicken:  <NA>   \n",
       "        11                        For the Vanilla-Scented Rice Pilaf:  <NA>   \n",
       "1378004 8                     2 tsp, plus 1 TBL kosher salt - divided  <NA>   \n",
       "879616  7                                   1 Tbsp. gluten (optional)  <NA>   \n",
       "1379076 0                             For the Vanilla-Roasted Peaches  <NA>   \n",
       "        7                                   For the Mascarpone Cream:  <NA>   \n",
       "        12                                         For the Napoleons:  <NA>   \n",
       "        15                       1egg + 2 teaspoons water for eggwash  <NA>   \n",
       "2076879 2                                    1 as required Katakuriko  <NA>   \n",
       "1956528 0                     4 x swordfish steaks - (abt 6 ounce ea)  <NA>   \n",
       "1269565 0                                                    Cookies:  <NA>   \n",
       "\n",
       "                   quantity      unit  \\\n",
       "recipe  ingredient                      \n",
       "1956519 0                 1  envelope   \n",
       "1546037 0              <NA>      <NA>   \n",
       "        2              <NA>      <NA>   \n",
       "        9              <NA>      <NA>   \n",
       "        16               15    ounces   \n",
       "1806301 5                 1      tbsp   \n",
       "1396644 0              <NA>      <NA>   \n",
       "        11             <NA>      <NA>   \n",
       "1378004 8                 2      tsps   \n",
       "879616  7                 1      Tbsp   \n",
       "1379076 0              <NA>      <NA>   \n",
       "        7              <NA>      <NA>   \n",
       "        12             <NA>      <NA>   \n",
       "        15                1             \n",
       "2076879 2                 1             \n",
       "1956528 0              <NA>      <NA>   \n",
       "1269565 0              <NA>      <NA>   \n",
       "\n",
       "                                                              comment  \\\n",
       "recipe  ingredient                                                      \n",
       "1956519 0           Lipton Recipe Secrets savory herb with garlic ...   \n",
       "1546037 0                                     FOR THE PUMPKIN PUREE :   \n",
       "        2                                         FOR THE PIE CRUST :   \n",
       "        9                                           FOR THE FILLING :   \n",
       "        16                                       weight Pumpkin Puree   \n",
       "1806301 5                                                  (optional)   \n",
       "1396644 0              For the Vanilla Bean and Green Grape Chicken :   \n",
       "        11                       For the Vanilla-Scented Rice Pilaf :   \n",
       "1378004 8                                    plus 1 TBL kosher salt -   \n",
       "879616  7                                                  (optional)   \n",
       "1379076 0                             For the Vanilla-Roasted Peaches   \n",
       "        7                                  For the Mascarpone Cream :   \n",
       "        12                                        For the Napoleons :   \n",
       "        15                        egg + 2 teaspoons water for eggwash   \n",
       "2076879 2                                      as required Katakuriko   \n",
       "1956528 0                      4x swordfish steaks - (abt 6 ounce ea)   \n",
       "1269565 0                                                   Cookies :   \n",
       "\n",
       "                        preparation  \n",
       "recipe  ingredient                   \n",
       "1956519 0                      <NA>  \n",
       "1546037 0                      <NA>  \n",
       "        2                      <NA>  \n",
       "        9                      <NA>  \n",
       "        16                     <NA>  \n",
       "1806301 5           sliced pimiento  \n",
       "1396644 0                      <NA>  \n",
       "        11                     <NA>  \n",
       "1378004 8                   divided  \n",
       "879616  7                    gluten  \n",
       "1379076 0                      <NA>  \n",
       "        7                      <NA>  \n",
       "        12                     <NA>  \n",
       "        15                     <NA>  \n",
       "2076879 2                      <NA>  \n",
       "1956528 0                      <NA>  \n",
       "1269565 0                      <NA>  "
      ]
     },
     "execution_count": 56,
     "metadata": {},
     "output_type": "execute_result"
    }
   ],
   "source": [
    "ingredients_df[ingredients_df['name'].isna()]"
   ]
  },
  {
   "cell_type": "markdown",
   "metadata": {},
   "source": [
    "The parsing does a good job of exclusing strings which aren't ingredients. It does miss out a few obscure ingredients (glutne, pimiento, swordfish steaks). \n",
    "\n",
    "We can simply remove these ingredients."
   ]
  },
  {
   "cell_type": "code",
   "execution_count": 57,
   "metadata": {
    "execution": {
     "iopub.execute_input": "2024-02-11T11:19:58.858822Z",
     "iopub.status.busy": "2024-02-11T11:19:58.858747Z",
     "iopub.status.idle": "2024-02-11T11:19:58.860510Z",
     "shell.execute_reply": "2024-02-11T11:19:58.860333Z"
    }
   },
   "outputs": [],
   "source": [
    "ingredients_df = ingredients_df[~ingredients_df['name'].isna()]"
   ]
  },
  {
   "cell_type": "code",
   "execution_count": 58,
   "metadata": {
    "execution": {
     "iopub.execute_input": "2024-02-11T11:19:58.861297Z",
     "iopub.status.busy": "2024-02-11T11:19:58.861239Z",
     "iopub.status.idle": "2024-02-11T11:19:58.864188Z",
     "shell.execute_reply": "2024-02-11T11:19:58.864026Z"
    }
   },
   "outputs": [
    {
     "data": {
      "text/html": [
       "<div>\n",
       "<style scoped>\n",
       "    .dataframe tbody tr th:only-of-type {\n",
       "        vertical-align: middle;\n",
       "    }\n",
       "\n",
       "    .dataframe tbody tr th {\n",
       "        vertical-align: top;\n",
       "    }\n",
       "\n",
       "    .dataframe thead th {\n",
       "        text-align: right;\n",
       "    }\n",
       "</style>\n",
       "<table border=\"1\" class=\"dataframe\">\n",
       "  <thead>\n",
       "    <tr style=\"text-align: right;\">\n",
       "      <th></th>\n",
       "      <th></th>\n",
       "      <th>ingredient_string</th>\n",
       "      <th>NER</th>\n",
       "      <th>ingredient_string_or_removed</th>\n",
       "      <th>name</th>\n",
       "      <th>quantity</th>\n",
       "      <th>unit</th>\n",
       "      <th>comment</th>\n",
       "      <th>preparation</th>\n",
       "    </tr>\n",
       "    <tr>\n",
       "      <th>recipe</th>\n",
       "      <th>ingredient</th>\n",
       "      <th></th>\n",
       "      <th></th>\n",
       "      <th></th>\n",
       "      <th></th>\n",
       "      <th></th>\n",
       "      <th></th>\n",
       "      <th></th>\n",
       "      <th></th>\n",
       "    </tr>\n",
       "  </thead>\n",
       "  <tbody>\n",
       "  </tbody>\n",
       "</table>\n",
       "</div>"
      ],
      "text/plain": [
       "Empty DataFrame\n",
       "Columns: [ingredient_string, NER, ingredient_string_or_removed, name, quantity, unit, comment, preparation]\n",
       "Index: []"
      ]
     },
     "execution_count": 58,
     "metadata": {},
     "output_type": "execute_result"
    }
   ],
   "source": [
    "ingredients_df[ingredients_df['quantity'] == 0]"
   ]
  },
  {
   "cell_type": "markdown",
   "metadata": {},
   "source": [
    "### Postprocessing"
   ]
  },
  {
   "cell_type": "markdown",
   "metadata": {},
   "source": [
    "#### Non-Numeric Quantities"
   ]
  },
  {
   "cell_type": "code",
   "execution_count": 59,
   "metadata": {
    "execution": {
     "iopub.execute_input": "2024-02-11T11:19:58.865110Z",
     "iopub.status.busy": "2024-02-11T11:19:58.865034Z",
     "iopub.status.idle": "2024-02-11T11:19:58.867317Z",
     "shell.execute_reply": "2024-02-11T11:19:58.867138Z"
    }
   },
   "outputs": [],
   "source": [
    "#| export\n",
    "def is_number(s):\n",
    "    for split in s.split('.'):\n",
    "        if not split.isdigit():\n",
    "            return False\n",
    "    return True\n",
    "\n",
    "def clean_quantity(quantity):\n",
    "    \n",
    "    if pd.isnull(quantity) or quantity == '': return quantity\n",
    "\n",
    "    quantity = quantity.lower()\n",
    "    quantity = quantity.replace('x', '')\n",
    "    quantity = re.sub(r'\\.$', '', quantity)\n",
    "\n",
    "    if \"-\" in quantity:\n",
    "        splits = quantity.split(\"-\")\n",
    "        if all([is_number(n) for n in splits]):\n",
    "            quantity = sum([float(n) for n in splits])/len(splits)\n",
    "    if quantity in ['several', 'few']: \n",
    "        quantity = 3.0\n",
    "    if quantity == 'half': \n",
    "        quantity = 0.5\n",
    "\n",
    "    try:\n",
    "        quantity = float(quantity)\n",
    "    except ValueError:\n",
    "        quantity = pd.NA\n",
    "\n",
    "    return quantity"
   ]
  },
  {
   "cell_type": "code",
   "execution_count": 60,
   "metadata": {
    "execution": {
     "iopub.execute_input": "2024-02-11T11:19:58.868096Z",
     "iopub.status.busy": "2024-02-11T11:19:58.868042Z",
     "iopub.status.idle": "2024-02-11T11:19:58.869748Z",
     "shell.execute_reply": "2024-02-11T11:19:58.869589Z"
    }
   },
   "outputs": [
    {
     "data": {
      "text/plain": [
       "0.5"
      ]
     },
     "execution_count": 60,
     "metadata": {},
     "output_type": "execute_result"
    }
   ],
   "source": [
    "clean_quantity('0.5')"
   ]
  },
  {
   "cell_type": "code",
   "execution_count": 61,
   "metadata": {
    "execution": {
     "iopub.execute_input": "2024-02-11T11:19:58.870657Z",
     "iopub.status.busy": "2024-02-11T11:19:58.870510Z",
     "iopub.status.idle": "2024-02-11T11:19:58.873831Z",
     "shell.execute_reply": "2024-02-11T11:19:58.873667Z"
    }
   },
   "outputs": [
    {
     "data": {
      "text/plain": [
       "recipe   ingredient\n",
       "2195357  0                   4x\n",
       "         4                   1x\n",
       "1570340  5               1-0.25\n",
       "606258   9                     \n",
       "1857320  7                 8-12\n",
       "2034999  4                2-0.5\n",
       "1442064  3                  3-6\n",
       "1916172  1                1-0.5\n",
       "1396331  0                  3-4\n",
       "1806301  10                 Few\n",
       "1369744  9                0.5-1\n",
       "         18                 1-2\n",
       "1600752  14                    \n",
       "1342486  20                 4-5\n",
       "1613023  1                  3-4\n",
       "         3                  1-2\n",
       "123994   4                     \n",
       "686704   0                 8-10\n",
       "1330524  0                  3-4\n",
       "118024   0                1-1.5\n",
       "286364   4                     \n",
       "1320064  7                0.5-1\n",
       "305911   0                  6-8\n",
       "808085   4                  5-6\n",
       "         5                  3-5\n",
       "402239   7                     \n",
       "1307725  3                     \n",
       "1408069  3                  4-5\n",
       "480244   0                  4-5\n",
       "         1                 9-12\n",
       "         3              several\n",
       "1505154  0                1-0.5\n",
       "         5                1-0.5\n",
       "58987    0                  3-4\n",
       "704090   5             0.5-0.75\n",
       "565606   5                  2-3\n",
       "8981     6                  6-7\n",
       "394397   3                  6-8\n",
       "619199   0                10-12\n",
       "1723278  9                     \n",
       "1719483  8                   1x\n",
       "         11                half\n",
       "529533   4                     \n",
       "1267559  11                 few\n",
       "1379076  5                  2-3\n",
       "2158575  1                   1x\n",
       "         2                   1x\n",
       "         3                   1x\n",
       "         5                   2x\n",
       "         7                   1x\n",
       "         8                   4x\n",
       "2005640  1               1-0.75\n",
       "         7               1-0.25\n",
       "         9              1-0.333\n",
       "1777734  2              1-0.333\n",
       "96825    0                1-1.5\n",
       "1936429  2                  2-4\n",
       "         5                  3-4\n",
       "1401651  4                     \n",
       "Name: quantity, dtype: string"
      ]
     },
     "execution_count": 61,
     "metadata": {},
     "output_type": "execute_result"
    }
   ],
   "source": [
    "_ = ingredients_df[(ingredients_df['quantity'].notnull())]\n",
    "_[~(_['quantity'].apply(is_number))]['quantity']"
   ]
  },
  {
   "cell_type": "code",
   "execution_count": 62,
   "metadata": {
    "execution": {
     "iopub.execute_input": "2024-02-11T11:19:58.874655Z",
     "iopub.status.busy": "2024-02-11T11:19:58.874580Z",
     "iopub.status.idle": "2024-02-11T11:19:58.878044Z",
     "shell.execute_reply": "2024-02-11T11:19:58.877881Z"
    }
   },
   "outputs": [
    {
     "data": {
      "text/plain": [
       "recipe   ingredient\n",
       "2195357  0                4.0\n",
       "         4                1.0\n",
       "1570340  5              0.625\n",
       "606258   9                   \n",
       "1857320  7               10.0\n",
       "2034999  4               1.25\n",
       "1442064  3                4.5\n",
       "1916172  1               0.75\n",
       "1396331  0                3.5\n",
       "1806301  10               3.0\n",
       "1369744  9               0.75\n",
       "         18               1.5\n",
       "1600752  14                  \n",
       "1342486  20               4.5\n",
       "1613023  1                3.5\n",
       "         3                1.5\n",
       "123994   4                   \n",
       "686704   0                9.0\n",
       "1330524  0                3.5\n",
       "118024   0               1.25\n",
       "286364   4                   \n",
       "1320064  7               0.75\n",
       "305911   0                7.0\n",
       "808085   4                5.5\n",
       "         5                4.0\n",
       "402239   7                   \n",
       "1307725  3                   \n",
       "1408069  3                4.5\n",
       "480244   0                4.5\n",
       "         1               10.5\n",
       "         3                3.0\n",
       "1505154  0               0.75\n",
       "         5               0.75\n",
       "58987    0                3.5\n",
       "704090   5              0.625\n",
       "565606   5                2.5\n",
       "8981     6                6.5\n",
       "394397   3                7.0\n",
       "619199   0               11.0\n",
       "1723278  9                   \n",
       "1719483  8                1.0\n",
       "         11               0.5\n",
       "529533   4                   \n",
       "1267559  11               3.0\n",
       "1379076  5                2.5\n",
       "2158575  1                1.0\n",
       "         2                1.0\n",
       "         3                1.0\n",
       "         5                2.0\n",
       "         7                1.0\n",
       "         8                4.0\n",
       "2005640  1              0.875\n",
       "         7              0.625\n",
       "         9             0.6665\n",
       "1777734  2             0.6665\n",
       "96825    0               1.25\n",
       "1936429  2                3.0\n",
       "         5                3.5\n",
       "1401651  4                   \n",
       "Name: quantity, dtype: object"
      ]
     },
     "execution_count": 62,
     "metadata": {},
     "output_type": "execute_result"
    }
   ],
   "source": [
    "_ = ingredients_df[(ingredients_df['quantity'].notnull())]\n",
    "_[~(_['quantity'].apply(is_number))]['quantity'].apply(clean_quantity)"
   ]
  },
  {
   "cell_type": "code",
   "execution_count": 63,
   "metadata": {
    "execution": {
     "iopub.execute_input": "2024-02-11T11:19:58.878955Z",
     "iopub.status.busy": "2024-02-11T11:19:58.878877Z",
     "iopub.status.idle": "2024-02-11T11:19:58.880927Z",
     "shell.execute_reply": "2024-02-11T11:19:58.880759Z"
    }
   },
   "outputs": [
    {
     "data": {
      "text/plain": [
       "True"
      ]
     },
     "execution_count": 63,
     "metadata": {},
     "output_type": "execute_result"
    }
   ],
   "source": [
    "ingredients_df[ingredients_df['quantity'] == 0].empty"
   ]
  },
  {
   "cell_type": "code",
   "execution_count": 64,
   "metadata": {
    "execution": {
     "iopub.execute_input": "2024-02-11T11:19:58.881825Z",
     "iopub.status.busy": "2024-02-11T11:19:58.881683Z",
     "iopub.status.idle": "2024-02-11T11:19:58.884644Z",
     "shell.execute_reply": "2024-02-11T11:19:58.884475Z"
    }
   },
   "outputs": [],
   "source": [
    "cleaned_quantity = ingredients_df['quantity'].apply(clean_quantity)"
   ]
  },
  {
   "cell_type": "code",
   "execution_count": 65,
   "metadata": {
    "execution": {
     "iopub.execute_input": "2024-02-11T11:19:58.885431Z",
     "iopub.status.busy": "2024-02-11T11:19:58.885377Z",
     "iopub.status.idle": "2024-02-11T11:19:58.887000Z",
     "shell.execute_reply": "2024-02-11T11:19:58.886826Z"
    }
   },
   "outputs": [],
   "source": [
    "assert ingredients_df[cleaned_quantity == 0].empty "
   ]
  },
  {
   "cell_type": "code",
   "execution_count": 66,
   "metadata": {
    "execution": {
     "iopub.execute_input": "2024-02-11T11:19:58.887855Z",
     "iopub.status.busy": "2024-02-11T11:19:58.887731Z",
     "iopub.status.idle": "2024-02-11T11:19:58.889118Z",
     "shell.execute_reply": "2024-02-11T11:19:58.888952Z"
    }
   },
   "outputs": [],
   "source": [
    "ingredients_df['quantity'] = cleaned_quantity"
   ]
  },
  {
   "cell_type": "markdown",
   "metadata": {},
   "source": [
    "#### RecipesDF NER Field"
   ]
  },
  {
   "cell_type": "markdown",
   "metadata": {},
   "source": [
    "The author's of the dataset actually already performed a form of parsing in the ingredients using an NLP method Named Entity Recognition (NER). They trained their own model using their own manual labels ([info](https://www.researchgate.net/publication/345308878_Cooking_recipes_generator_utilizing_a_deep_learning-based_language_model)). \n",
    "\n",
    "Let's compare this to our own NLP's results."
   ]
  },
  {
   "cell_type": "code",
   "execution_count": 67,
   "metadata": {
    "execution": {
     "iopub.execute_input": "2024-02-11T11:19:58.890023Z",
     "iopub.status.busy": "2024-02-11T11:19:58.889898Z",
     "iopub.status.idle": "2024-02-11T11:19:58.892102Z",
     "shell.execute_reply": "2024-02-11T11:19:58.891933Z"
    }
   },
   "outputs": [],
   "source": [
    "#| export\n",
    "def find_ner_match(ingredient):\n",
    "\n",
    "    ner_match = pd.NA\n",
    "\n",
    "    ner_ingredients = ingredient['NER'] if isinstance(ingredient['NER'], np.ndarray) else literal_eval(ingredient['NER'])\n",
    "    ingredient_index = ingredient.name[1] if isinstance(ingredient.name, tuple) else ingredient['ingredient'] # parallel non-multi index\n",
    "\n",
    "    if ingredient_index in ner_ingredients:\n",
    "        search_ingredient = str(ner_ingredients[ingredient_index])\n",
    "        if search_ingredient in ingredient['name']:\n",
    "            ner_match = search_ingredient\n",
    "        elif ingredient['name'] in search_ingredient:\n",
    "            ner_match = ingredient['name']\n",
    "    if not pd.notnull(ner_match): # the dataset's NER cuts out some of the ingredients, making the indices not match. In this case a search through the whole NER array is required.\n",
    "        for search_ingredient in ner_ingredients:\n",
    "            search_ingredient = str(search_ingredient)\n",
    "            if search_ingredient in ingredient['name']:\n",
    "                ner_match = search_ingredient\n",
    "            elif ingredient['name'] in search_ingredient:\n",
    "                ner_match = ingredient['name']\n",
    "            if pd.notnull(ner_match): break\n",
    "        \n",
    "    return ner_match"
   ]
  },
  {
   "cell_type": "code",
   "execution_count": 68,
   "metadata": {
    "execution": {
     "iopub.execute_input": "2024-02-11T11:19:58.892888Z",
     "iopub.status.busy": "2024-02-11T11:19:58.892835Z",
     "iopub.status.idle": "2024-02-11T11:19:58.895106Z",
     "shell.execute_reply": "2024-02-11T11:19:58.894811Z"
    }
   },
   "outputs": [
    {
     "data": {
      "text/plain": [
       "ingredient_string                           2/3 cup Land O Lakes Butter, softened\n",
       "NER                             [\"Butter\", \"sugar\", \"Eggs\", \"vanilla\", \"flour\"...\n",
       "ingredient_string_or_removed                2/3 cup Land O Lakes Butter, softened\n",
       "name                                                          Land O Lakes Butter\n",
       "quantity                                                                    0.667\n",
       "unit                                                                         cups\n",
       "comment                                                                      <NA>\n",
       "preparation                                                              softened\n",
       "Name: (1746116, 0), dtype: object"
      ]
     },
     "execution_count": 68,
     "metadata": {},
     "output_type": "execute_result"
    }
   ],
   "source": [
    "ingredients_df.iloc[0]"
   ]
  },
  {
   "cell_type": "code",
   "execution_count": 69,
   "metadata": {
    "execution": {
     "iopub.execute_input": "2024-02-11T11:19:58.896072Z",
     "iopub.status.busy": "2024-02-11T11:19:58.895909Z",
     "iopub.status.idle": "2024-02-11T11:19:58.897727Z",
     "shell.execute_reply": "2024-02-11T11:19:58.897568Z"
    }
   },
   "outputs": [
    {
     "data": {
      "text/plain": [
       "'Butter'"
      ]
     },
     "execution_count": 69,
     "metadata": {},
     "output_type": "execute_result"
    }
   ],
   "source": [
    "find_ner_match(ingredients_df.iloc[0])"
   ]
  },
  {
   "cell_type": "code",
   "execution_count": 70,
   "metadata": {
    "execution": {
     "iopub.execute_input": "2024-02-11T11:19:58.898520Z",
     "iopub.status.busy": "2024-02-11T11:19:58.898470Z",
     "iopub.status.idle": "2024-02-11T11:19:58.955315Z",
     "shell.execute_reply": "2024-02-11T11:19:58.955041Z"
    }
   },
   "outputs": [],
   "source": [
    "ingredients_df['name.ner'] = ingredients_df[['NER', 'name']].apply(find_ner_match, axis=1)"
   ]
  },
  {
   "cell_type": "code",
   "execution_count": 71,
   "metadata": {
    "execution": {
     "iopub.execute_input": "2024-02-11T11:19:58.956356Z",
     "iopub.status.busy": "2024-02-11T11:19:58.956280Z",
     "iopub.status.idle": "2024-02-11T11:19:58.958566Z",
     "shell.execute_reply": "2024-02-11T11:19:58.958402Z"
    }
   },
   "outputs": [
    {
     "data": {
      "text/plain": [
       "0.03648757016840417"
      ]
     },
     "execution_count": 71,
     "metadata": {},
     "output_type": "execute_result"
    }
   ],
   "source": [
    "ingredients_df[ingredients_df['name.ner'].isnull()].shape[0] / ingredients_df.shape[0]"
   ]
  },
  {
   "cell_type": "markdown",
   "metadata": {},
   "source": [
    "5% of the ingredients don't match the dataset's NER extraction. Taking a look to see why:"
   ]
  },
  {
   "cell_type": "code",
   "execution_count": 72,
   "metadata": {
    "execution": {
     "iopub.execute_input": "2024-02-11T11:19:58.959587Z",
     "iopub.status.busy": "2024-02-11T11:19:58.959507Z",
     "iopub.status.idle": "2024-02-11T11:19:58.973616Z",
     "shell.execute_reply": "2024-02-11T11:19:58.973446Z"
    }
   },
   "outputs": [
    {
     "data": {
      "text/html": [
       "<div>\n",
       "<style scoped>\n",
       "    .dataframe tbody tr th:only-of-type {\n",
       "        vertical-align: middle;\n",
       "    }\n",
       "\n",
       "    .dataframe tbody tr th {\n",
       "        vertical-align: top;\n",
       "    }\n",
       "\n",
       "    .dataframe thead th {\n",
       "        text-align: right;\n",
       "    }\n",
       "</style>\n",
       "<table border=\"1\" class=\"dataframe\">\n",
       "  <thead>\n",
       "    <tr style=\"text-align: right;\">\n",
       "      <th></th>\n",
       "      <th></th>\n",
       "      <th>name</th>\n",
       "      <th>directions</th>\n",
       "      <th>ingredients</th>\n",
       "      <th>NER</th>\n",
       "    </tr>\n",
       "    <tr>\n",
       "      <th>recipe</th>\n",
       "      <th>ingredient</th>\n",
       "      <th></th>\n",
       "      <th></th>\n",
       "      <th></th>\n",
       "      <th></th>\n",
       "    </tr>\n",
       "  </thead>\n",
       "  <tbody>\n",
       "    <tr>\n",
       "      <th>1828339</th>\n",
       "      <th>6</th>\n",
       "      <td>dried apricots</td>\n",
       "      <td>[\"Unroll the vine leaves carefully and put them into a bowl of water to remove the preserving liquid.\", \"Pat them dry on absorbent kitchen paper towel.\", \"You will need about 30 leaves; reserve the remainder.\", \"Bring a large saucepan of salted water to boil and stir in the turmeric.\", \"Add the rice and simmer for 30 minutes or until the rice is just tender.\", \"Drain thoroughly and turn into a bowl.\", \"Heat the oil in a small frying pan.\", \"Add the onion to the rice with the apricots, sultanas, spices, mint and lemon juice.\", \"Mix well together.\", \"Take one vine leaf at a time.\", \"Place it flat on the work surface and put a heaped teaspoon of the rice mixture in the centre.\", \"Fold the base of the leaf over the filling, then fold over the first one side, then the other.\", \"Fold over the top to make a neat parcel.\", \"Continue making parcels until you have used up all the filling.\", \"Line a large frying pan with leftover vine leaves.\", \"Arrange the parcels, seam sides down, in a single layer in the pan.\", \"Cover the layer with more leaves, then make a second layer of parcels and cover them with leaves.\", \"Pour on the orange juice and water and cover the pan.\", \"Cook gently over low heat for 1 hour, adding a little boiling water from time to time, if necessary.\", \"To serve warm, allow the parcels to cool slightly in the pan, then arrange uncooked vine leaves on a flat serving dish and carefully transfer the parcels to the dish.\", \"Serve immediately.\", \"To serve cold, allow the parcels to cool completely in the pan, then arrange on top of uncooked vine leaves on a serving dish as above.\", \"Cover and chill.\"]</td>\n",
       "      <td>[2 (225 g) cans grape leaves, drained (canned or bottled), salt, 12 teaspoon ground turmeric, 175 g long grain brown rice, 1 tablespoon vegetable oil, 1 small onion, peeled and finely chopped, 100 g dried apricots, finely chopped, 50 g sultanas, 1 pinch ground cinnamon, 1 pinch ground allspice, 1 tablespoon chopped of fresh mint, 1 teaspoon lemon juice, 300 ml unsweetened orange juice, 150 ml water]</td>\n",
       "      <td>[\"grape leaves\", \"salt\", \"ground turmeric\", \"long grain brown rice\", \"vegetable oil\", \"onion\", \"sultanas\", \"ground cinnamon\", \"ground allspice\", \"mint\", \"lemon juice\", \"orange juice\", \"water\"]</td>\n",
       "    </tr>\n",
       "    <tr>\n",
       "      <th>1703</th>\n",
       "      <th>0</th>\n",
       "      <td>pkg. applesauce</td>\n",
       "      <td>[\"Combine all ingredients.\", \"Mix well.\", \"Bake at 350\\u00b0 for 60 to 65 minutes in a tube pan that has been greased and floured.\"]</td>\n",
       "      <td>[1 pkg. applesauce, spice or carrot cake mix, 4 eggs, 1/4 c. water, 1 jar mincemeat, 1 c. nuts (optional)]</td>\n",
       "      <td>[\"carrot cake\", \"eggs\", \"water\", \"mincemeat\", \"nuts\"]</td>\n",
       "    </tr>\n",
       "    <tr>\n",
       "      <th>317211</th>\n",
       "      <th>5</th>\n",
       "      <td>container Cool Whip</td>\n",
       "      <td>[\"With fork, mix together flour, 1/2 cup pecans and butter. Press into 9 x 13-inch pan.\", \"Bake for 15 minutes at 350\\u00b0.\", \"Cool completely.\"]</td>\n",
       "      <td>[1 1/4 c. flour, 1/2 c. pecans, finely chopped, 1/2 c. softened butter, 1 (8 oz.) pkg. cream cheese, softened, 1/2 c. powdered sugar, 1 (8 oz.) container Cool Whip, 2 pkg. pistachio instant pudding mix, 3 c. milk, 3/4 c. chopped pecans]</td>\n",
       "      <td>[\"flour\", \"pecans\", \"butter\", \"cream cheese\", \"powdered sugar\", \"pistachio instant pudding\", \"milk\", \"pecans\"]</td>\n",
       "    </tr>\n",
       "    <tr>\n",
       "      <th>2195357</th>\n",
       "      <th>0</th>\n",
       "      <td>blue-eyed cod</td>\n",
       "      <td>[\"Put 4 to 6 blue-eyed cod or possibly snapper cutlets into a shallow dish and add in extra virgin olive oil, lemon juice, dry oregano or possibly rigini and a smashed clove garlic.\", \"Add in a few thin yellow strips of lemon peel then cover and chill for at least one hour, turning once or possibly twice when you think of it.\", \"Make sure the fire on the barbecue is well burned down then cook the steaks for about 3 min each side.\", \"Baste often during cooking with the marinade.\", \"Finish with a good squeeze of fresh lemon juice and a tiny sprinkle of oregano or possibly some minced fresh parsley.\", \"Serve immediately.\", \"If it rains, cook inside in a frying pan or possibly on a ribbed griddle.\", \"Serves 4to 6.\", \"Note: Rigini is a green herb similar to oregano but the flavour is sweeter.\", \"Available at gourmet delicatessens.\"]</td>\n",
       "      <td>[4 x Cutlets blue-eyed cod or possibly snapper cutlets, up to 6, 3 Tbsp. Extra virgin olive oil, 1 1/2 Tbsp. Lemon juice, strips of peel, 1/2 tsp Dry oregano or possibly rigini, 1 x Clove garlic]</td>\n",
       "      <td>[\"snapper cutlets\", \"Extra virgin olive oil\", \"Lemon juice\", \"oregano\", \"Clove garlic\"]</td>\n",
       "    </tr>\n",
       "    <tr>\n",
       "      <th>895702</th>\n",
       "      <th>5</th>\n",
       "      <td>container Cool Whip</td>\n",
       "      <td>[\"Mix margarine, flour and pecans.\", \"Pat into a 9 x 13-inch pan. Bake at 325\\u00b0 for 20 minutes.\", \"Let cool.\"]</td>\n",
       "      <td>[1/2 c. margarine, melted, 1 c. flour, 1/2 c. pecans, chopped, 8 oz. cream cheese, 1 1/2 c. powdered sugar, 1 (12 oz.) container Cool Whip, 2 (4 1/4 oz.) pkg. instant chocolate pudding, 3 c. milk]</td>\n",
       "      <td>[\"margarine\", \"flour\", \"pecans\", \"cream cheese\", \"powdered sugar\", \"instant chocolate pudding\", \"milk\"]</td>\n",
       "    </tr>\n",
       "    <tr>\n",
       "      <th>1653851</th>\n",
       "      <th>10</th>\n",
       "      <td>mixed baby greens</td>\n",
       "      <td>[\"For Shrimp Use the First four ingredients.\", \"Bring 2 quart water to a boil in a Dutch oven.\", \"Add shrimp, and cook 30 seconds.\", \"Drain, rinse under cool running water, and place in a small bowl.\", \"Fill a medium bowl with ice.\", \"Place bowl containing shrimp in ice.\", \"Cover and chill 1 to 24 hours.\", \"Squeeze juice from lemons through a small strainer over shrimp in a large bowl, drizzle with hot sauce, and toss to coat.\", \"Sprinkle with Creole seasoning, and toss to coat.\", \"For the Avocado Sauce use the next six ingredients\", \"Process buttermilk, avocado, parsley, chopped green onions, and fresh lemon juice in a food processor 30 seconds or until smooth.\", \"Season with kosher salt and freshly ground pepper to taste.\", \"Store in refrigerator covered with plastic wrap directly on surface (to prevent discoloration) up to 2 days.\", \"Arrange shrimp on greens and serve with dipping sauce.\"]</td>\n",
       "      <td>[2 lbs large shrimp, cooked, peeled and deveined with tails on, 2 lemons, 4 teaspoons hot sauce, 2 teaspoons creole seasoning, 1 cup buttermilk, 1 ripe avocado, chopped, 2 tablespoons chopped fresh parsley, 2 finely chopped green onions, 2 tablespoons fresh lemon juice, kosher salt &amp; freshly ground black pepper, 1 (5 ounce) package mixed baby greens, thoroughly washed]</td>\n",
       "      <td>[\"shrimp\", \"lemons\", \"hot sauce\", \"creole seasoning\", \"buttermilk\", \"avocado\", \"parsley\", \"green onions\", \"lemon juice\", \"kosher salt\", \"thoroughly washed\"]</td>\n",
       "    </tr>\n",
       "    <tr>\n",
       "      <th>1331923</th>\n",
       "      <th>1</th>\n",
       "      <td>frozen copped sinach</td>\n",
       "      <td>[\"1. Heat oven to 425 degrees\", \"\", \"2. Lay steak on work surface. Holding sharp knife parallel to work surface and starting at a long side, slice flank steak in half to opposite long side, without cutting all the way through; open up the steak like a book. Flatten slightly to an even thickness.\", \"\", \"3. Squeeze liquid from spinach; discard liquid. In medium-sized bowl, combine spinach, cheese, peppers, breadcrumbs, egg yolk, 1/4 teaspoon each of the garlic salt and the pepper.\", \"\", \"4. Season steak with an additional 1/4 teaspoon each of the garlic salt and pepper. Press filling onto steak, leaving a 1 inch border on all sides. Roll up steak to enclose filling, beginning on a short side; the grain of the meat will be running from left to right. Tuck any loose filling back into the ends.\", \"\", \"5. Tie steak with cotton twine at 2 inch intervals to secure. Rub outside with oil, then sprinkle with remaining 1/4 teaspoon each of garlic salt and pepper.\", \"\", \"Roast at 425 degrees for 35 minutes, then increase heat to broil for 10 minutes, turning once. Let meat rest 15 minutes. Remove twine, slice and serve.\", \"\", \"Per Serving: 305 calories, 15 g fat (6 g sat.); 36 g protein; 7 g carbohydrate; 2 g fiber; 588 mg sodiuim; 92 mg cholesterol.\"]</td>\n",
       "      <td>[2 lbs Flank steak, 1 package frozen copped sinach, thawed, 1/2 cup crumbled blue cheese, 1 jar 7 oz. roasted red peppers, 2 tablespoons seasoned dry breadcrumbs, 1 egg yolk, 3/4 teaspoons of garlic salt, 3/4 teaspoons ground black pepper, 1 tablespoon olive oil]</td>\n",
       "      <td>[\"Flank steak\", \"blue cheese\", \"red peppers\", \"breadcrumbs\", \"egg yolk\", \"garlic salt\", \"ground black pepper\", \"olive oil\"]</td>\n",
       "    </tr>\n",
       "    <tr>\n",
       "      <th>661227</th>\n",
       "      <th>4</th>\n",
       "      <td>Beau Monde</td>\n",
       "      <td>[\"Mix and serve with vegetables for a dip or serve as a dressing on mixed garden salad.\"]</td>\n",
       "      <td>[2/3 c. mayonnaise, 2/3 c. sour cream, 1 Tbsp. chopped green onion, 1 Tbsp. chopped parsley, 1 Tbsp. Beau Monde (Spice Islands), 1 Tbsp. dill weed]</td>\n",
       "      <td>[\"mayonnaise\", \"sour cream\", \"green onion\", \"parsley\", \"dill weed\"]</td>\n",
       "    </tr>\n",
       "    <tr>\n",
       "      <th rowspan=\"2\" valign=\"top\">1546037</th>\n",
       "      <th>14</th>\n",
       "      <td>Ground Cloves</td>\n",
       "      <td>[\"For the pumpkin puree:\", \"Preheat oven to 375\\u00b0F. Wash the pumpkin to remove any dirt. Cut the pumpkin in half and remove stem. Remove all of the seeds and stringiness from the center of the pumpkin.\", \"Place the pumpkin halves cut-side down onto a baking sheet lined with parchment paper. Roast for 45 minutes to 1 hour, or until skin darkens and is shriveled. The pumpkin should be very soft.\", \"With a spoon, scoop the pumpkin out of the skin and transfer to a food processor. Puree until completely smooth.\", \"For the pie crust:\", \"Combine flour and salt in a large bowl.\", \"n a food processor, add flour and cold butter. Pulse a few times until lightly combined. With the motor running, add egg, cold water, and vinegar into dough. Pulse until just combined (dough might be slightly crumbly).\", \"Remove dough from bowl and gather it into a ball with your hands. Divide the dough in half and slightly flatten it into a disc. Wrap the dough discs with plastic wrap and refrigerate for 30 minutes. (Dough recipe is enough for 2 pies or 1 pie with leaf decorations.)\", \"To assemble the pie:\", \"Preheat oven to 425\\u00b0F.\", \"In a small bowl, combine sugar, cinnamon, salt, ginger, and cloves.\", \"In a large bowl, whisk eggs. Add pumpkin puree and sugar mixture. Whisk in half-and-half, milk and vanilla until well combined.\", \"On a floured surface, use a rolling pin to roll out chilled dough into a round shape. The dough should be at least 1 inch larger than your pie dish. Carefully place the dough into the pie dish. Tuck excess dough under itself. Crimp the edges with your fingers (optional).\", \"Pour filling into unbaked pie shell. Bake 15 minutes at 425\\u00b0F. Then reduce oven temperature to 350\\u00b0F and continue baking for 45-60 minutes or until edges seem dry and center is set but slightly jiggly. If you are going to decorate pie with leaves, roll out remaining dough and cut out leaf shapes. When the pie has been baking for 40 minutes, remove from oven and quickly lay leaf cut-outs over crust. Continue baking until pie is done.\", \"Remove pie from oven and place on a cooling rack to cool completely. Serve immediately or refrigerate.\"]</td>\n",
       "      <td>[FOR THE PUMPKIN PUREE:, 1 whole (about 3 Lb. Size) Pumpkin, FOR THE PIE CRUST:, 3 cups Flour, 1 teaspoon Salt, 3 sticks Cold Butter, Cut Into Cubes, 1 Egg, Lightly Beaten, 5 Tablespoons Cold Water, 1 Tablespoon White Wine Vinegar, FOR THE FILLING:, 3/4 cups Sugar, 1 teaspoon Cinnamon, 1/2 teaspoons Salt, 1/2 teaspoons Ground Ginger, 1/4 teaspoons Ground Cloves, 2 Eggs, 15 ounces, weight Pumpkin Puree, 1 cup Half-and-half, 1 cup Milk, 1 teaspoon Vanilla]</td>\n",
       "      <td>[\"Pumpkin\", \"Flour\", \"Salt\", \"Butter\", \"Egg\", \"Water\", \"White Wine Vinegar\", \"FILLING\", \"Sugar\", \"Cinnamon\", \"Salt\", \"Ground Ginger\", \"\\u00bc\", \"Eggs\", \"Milk\", \"Vanilla\"]</td>\n",
       "    </tr>\n",
       "    <tr>\n",
       "      <th>17</th>\n",
       "      <td>Half-and-half</td>\n",
       "      <td>[\"For the pumpkin puree:\", \"Preheat oven to 375\\u00b0F. Wash the pumpkin to remove any dirt. Cut the pumpkin in half and remove stem. Remove all of the seeds and stringiness from the center of the pumpkin.\", \"Place the pumpkin halves cut-side down onto a baking sheet lined with parchment paper. Roast for 45 minutes to 1 hour, or until skin darkens and is shriveled. The pumpkin should be very soft.\", \"With a spoon, scoop the pumpkin out of the skin and transfer to a food processor. Puree until completely smooth.\", \"For the pie crust:\", \"Combine flour and salt in a large bowl.\", \"n a food processor, add flour and cold butter. Pulse a few times until lightly combined. With the motor running, add egg, cold water, and vinegar into dough. Pulse until just combined (dough might be slightly crumbly).\", \"Remove dough from bowl and gather it into a ball with your hands. Divide the dough in half and slightly flatten it into a disc. Wrap the dough discs with plastic wrap and refrigerate for 30 minutes. (Dough recipe is enough for 2 pies or 1 pie with leaf decorations.)\", \"To assemble the pie:\", \"Preheat oven to 425\\u00b0F.\", \"In a small bowl, combine sugar, cinnamon, salt, ginger, and cloves.\", \"In a large bowl, whisk eggs. Add pumpkin puree and sugar mixture. Whisk in half-and-half, milk and vanilla until well combined.\", \"On a floured surface, use a rolling pin to roll out chilled dough into a round shape. The dough should be at least 1 inch larger than your pie dish. Carefully place the dough into the pie dish. Tuck excess dough under itself. Crimp the edges with your fingers (optional).\", \"Pour filling into unbaked pie shell. Bake 15 minutes at 425\\u00b0F. Then reduce oven temperature to 350\\u00b0F and continue baking for 45-60 minutes or until edges seem dry and center is set but slightly jiggly. If you are going to decorate pie with leaves, roll out remaining dough and cut out leaf shapes. When the pie has been baking for 40 minutes, remove from oven and quickly lay leaf cut-outs over crust. Continue baking until pie is done.\", \"Remove pie from oven and place on a cooling rack to cool completely. Serve immediately or refrigerate.\"]</td>\n",
       "      <td>[FOR THE PUMPKIN PUREE:, 1 whole (about 3 Lb. Size) Pumpkin, FOR THE PIE CRUST:, 3 cups Flour, 1 teaspoon Salt, 3 sticks Cold Butter, Cut Into Cubes, 1 Egg, Lightly Beaten, 5 Tablespoons Cold Water, 1 Tablespoon White Wine Vinegar, FOR THE FILLING:, 3/4 cups Sugar, 1 teaspoon Cinnamon, 1/2 teaspoons Salt, 1/2 teaspoons Ground Ginger, 1/4 teaspoons Ground Cloves, 2 Eggs, 15 ounces, weight Pumpkin Puree, 1 cup Half-and-half, 1 cup Milk, 1 teaspoon Vanilla]</td>\n",
       "      <td>[\"Pumpkin\", \"Flour\", \"Salt\", \"Butter\", \"Egg\", \"Water\", \"White Wine Vinegar\", \"FILLING\", \"Sugar\", \"Cinnamon\", \"Salt\", \"Ground Ginger\", \"\\u00bc\", \"Eggs\", \"Milk\", \"Vanilla\"]</td>\n",
       "    </tr>\n",
       "  </tbody>\n",
       "</table>\n",
       "</div>"
      ],
      "text/plain": [
       "                                    name  \\\n",
       "recipe  ingredient                         \n",
       "1828339 6                 dried apricots   \n",
       "1703    0                pkg. applesauce   \n",
       "317211  5            container Cool Whip   \n",
       "2195357 0                  blue-eyed cod   \n",
       "895702  5            container Cool Whip   \n",
       "1653851 10             mixed baby greens   \n",
       "1331923 1           frozen copped sinach   \n",
       "661227  4                     Beau Monde   \n",
       "1546037 14                 Ground Cloves   \n",
       "        17                 Half-and-half   \n",
       "\n",
       "                                                                                                                                                                                                                                                                                                                                                                                                                                                                                                                                                                                                                                                                                                                                                                                                                                                                                                                                                                                                                                                                                                                                                                                                                                                                                                                                                                                                                                                                                                                                                                                                                                                                                                                                                                                                                                                                                                                                                                                                                                                                                                                                                                                                                                                             directions  \\\n",
       "recipe  ingredient                                                                                                                                                                                                                                                                                                                                                                                                                                                                                                                                                                                                                                                                                                                                                                                                                                                                                                                                                                                                                                                                                                                                                                                                                                                                                                                                                                                                                                                                                                                                                                                                                                                                                                                                                                                                                                                                                                                                                                                                                                                                                                                                                                                                                                                        \n",
       "1828339 6                                                                                                                                                                                                                                                                                                                                                                                                                                                                                                                                                               [\"Unroll the vine leaves carefully and put them into a bowl of water to remove the preserving liquid.\", \"Pat them dry on absorbent kitchen paper towel.\", \"You will need about 30 leaves; reserve the remainder.\", \"Bring a large saucepan of salted water to boil and stir in the turmeric.\", \"Add the rice and simmer for 30 minutes or until the rice is just tender.\", \"Drain thoroughly and turn into a bowl.\", \"Heat the oil in a small frying pan.\", \"Add the onion to the rice with the apricots, sultanas, spices, mint and lemon juice.\", \"Mix well together.\", \"Take one vine leaf at a time.\", \"Place it flat on the work surface and put a heaped teaspoon of the rice mixture in the centre.\", \"Fold the base of the leaf over the filling, then fold over the first one side, then the other.\", \"Fold over the top to make a neat parcel.\", \"Continue making parcels until you have used up all the filling.\", \"Line a large frying pan with leftover vine leaves.\", \"Arrange the parcels, seam sides down, in a single layer in the pan.\", \"Cover the layer with more leaves, then make a second layer of parcels and cover them with leaves.\", \"Pour on the orange juice and water and cover the pan.\", \"Cook gently over low heat for 1 hour, adding a little boiling water from time to time, if necessary.\", \"To serve warm, allow the parcels to cool slightly in the pan, then arrange uncooked vine leaves on a flat serving dish and carefully transfer the parcels to the dish.\", \"Serve immediately.\", \"To serve cold, allow the parcels to cool completely in the pan, then arrange on top of uncooked vine leaves on a serving dish as above.\", \"Cover and chill.\"]   \n",
       "1703    0                                                                                                                                                                                                                                                                                                                                                                                                                                                                                                                                                                                                                                                                                                                                                                                                                                                                                                                                                                                                                                                                                                                                                                                                                                                                                                                                                                                                                                                                                                                                                                                                                                                                                                                                                                                                                                                                                                                                                                                                                                                                                                                          [\"Combine all ingredients.\", \"Mix well.\", \"Bake at 350\\u00b0 for 60 to 65 minutes in a tube pan that has been greased and floured.\"]   \n",
       "317211  5                                                                                                                                                                                                                                                                                                                                                                                                                                                                                                                                                                                                                                                                                                                                                                                                                                                                                                                                                                                                                                                                                                                                                                                                                                                                                                                                                                                                                                                                                                                                                                                                                                                                                                                                                                                                                                                                                                                                                                                                                                                                                                            [\"With fork, mix together flour, 1/2 cup pecans and butter. Press into 9 x 13-inch pan.\", \"Bake for 15 minutes at 350\\u00b0.\", \"Cool completely.\"]   \n",
       "2195357 0                                                                                                                                                                                                                                                                                                                                                                                                                                                                                                                                                                                                                                                                                                                                                                                                                                                                                                                                                                                                                                                                                                                                                                                                                                                                                                                                                                                       [\"Put 4 to 6 blue-eyed cod or possibly snapper cutlets into a shallow dish and add in extra virgin olive oil, lemon juice, dry oregano or possibly rigini and a smashed clove garlic.\", \"Add in a few thin yellow strips of lemon peel then cover and chill for at least one hour, turning once or possibly twice when you think of it.\", \"Make sure the fire on the barbecue is well burned down then cook the steaks for about 3 min each side.\", \"Baste often during cooking with the marinade.\", \"Finish with a good squeeze of fresh lemon juice and a tiny sprinkle of oregano or possibly some minced fresh parsley.\", \"Serve immediately.\", \"If it rains, cook inside in a frying pan or possibly on a ribbed griddle.\", \"Serves 4to 6.\", \"Note: Rigini is a green herb similar to oregano but the flavour is sweeter.\", \"Available at gourmet delicatessens.\"]   \n",
       "895702  5                                                                                                                                                                                                                                                                                                                                                                                                                                                                                                                                                                                                                                                                                                                                                                                                                                                                                                                                                                                                                                                                                                                                                                                                                                                                                                                                                                                                                                                                                                                                                                                                                                                                                                                                                                                                                                                                                                                                                                                                                                                                                                                                            [\"Mix margarine, flour and pecans.\", \"Pat into a 9 x 13-inch pan. Bake at 325\\u00b0 for 20 minutes.\", \"Let cool.\"]   \n",
       "1653851 10                                                                                                                                                                                                                                                                                                                                                                                                                                                                                                                                                                                                                                                                                                                                                                                                                                                                                                                                                                                                                                                                                                                                                                                                                                                                                                                    [\"For Shrimp Use the First four ingredients.\", \"Bring 2 quart water to a boil in a Dutch oven.\", \"Add shrimp, and cook 30 seconds.\", \"Drain, rinse under cool running water, and place in a small bowl.\", \"Fill a medium bowl with ice.\", \"Place bowl containing shrimp in ice.\", \"Cover and chill 1 to 24 hours.\", \"Squeeze juice from lemons through a small strainer over shrimp in a large bowl, drizzle with hot sauce, and toss to coat.\", \"Sprinkle with Creole seasoning, and toss to coat.\", \"For the Avocado Sauce use the next six ingredients\", \"Process buttermilk, avocado, parsley, chopped green onions, and fresh lemon juice in a food processor 30 seconds or until smooth.\", \"Season with kosher salt and freshly ground pepper to taste.\", \"Store in refrigerator covered with plastic wrap directly on surface (to prevent discoloration) up to 2 days.\", \"Arrange shrimp on greens and serve with dipping sauce.\"]   \n",
       "1331923 1                                                                                                                                                                                                                                                                                                                                                                                                                                                                                                                                                                                                                                                                                                                                                                                                                                                                                                                                                   [\"1. Heat oven to 425 degrees\", \"\", \"2. Lay steak on work surface. Holding sharp knife parallel to work surface and starting at a long side, slice flank steak in half to opposite long side, without cutting all the way through; open up the steak like a book. Flatten slightly to an even thickness.\", \"\", \"3. Squeeze liquid from spinach; discard liquid. In medium-sized bowl, combine spinach, cheese, peppers, breadcrumbs, egg yolk, 1/4 teaspoon each of the garlic salt and the pepper.\", \"\", \"4. Season steak with an additional 1/4 teaspoon each of the garlic salt and pepper. Press filling onto steak, leaving a 1 inch border on all sides. Roll up steak to enclose filling, beginning on a short side; the grain of the meat will be running from left to right. Tuck any loose filling back into the ends.\", \"\", \"5. Tie steak with cotton twine at 2 inch intervals to secure. Rub outside with oil, then sprinkle with remaining 1/4 teaspoon each of garlic salt and pepper.\", \"\", \"Roast at 425 degrees for 35 minutes, then increase heat to broil for 10 minutes, turning once. Let meat rest 15 minutes. Remove twine, slice and serve.\", \"\", \"Per Serving: 305 calories, 15 g fat (6 g sat.); 36 g protein; 7 g carbohydrate; 2 g fiber; 588 mg sodiuim; 92 mg cholesterol.\"]   \n",
       "661227  4                                                                                                                                                                                                                                                                                                                                                                                                                                                                                                                                                                                                                                                                                                                                                                                                                                                                                                                                                                                                                                                                                                                                                                                                                                                                                                                                                                                                                                                                                                                                                                                                                                                                                                                                                                                                                                                                                                                                                                                                                                                                                                                                                                     [\"Mix and serve with vegetables for a dip or serve as a dressing on mixed garden salad.\"]   \n",
       "1546037 14          [\"For the pumpkin puree:\", \"Preheat oven to 375\\u00b0F. Wash the pumpkin to remove any dirt. Cut the pumpkin in half and remove stem. Remove all of the seeds and stringiness from the center of the pumpkin.\", \"Place the pumpkin halves cut-side down onto a baking sheet lined with parchment paper. Roast for 45 minutes to 1 hour, or until skin darkens and is shriveled. The pumpkin should be very soft.\", \"With a spoon, scoop the pumpkin out of the skin and transfer to a food processor. Puree until completely smooth.\", \"For the pie crust:\", \"Combine flour and salt in a large bowl.\", \"n a food processor, add flour and cold butter. Pulse a few times until lightly combined. With the motor running, add egg, cold water, and vinegar into dough. Pulse until just combined (dough might be slightly crumbly).\", \"Remove dough from bowl and gather it into a ball with your hands. Divide the dough in half and slightly flatten it into a disc. Wrap the dough discs with plastic wrap and refrigerate for 30 minutes. (Dough recipe is enough for 2 pies or 1 pie with leaf decorations.)\", \"To assemble the pie:\", \"Preheat oven to 425\\u00b0F.\", \"In a small bowl, combine sugar, cinnamon, salt, ginger, and cloves.\", \"In a large bowl, whisk eggs. Add pumpkin puree and sugar mixture. Whisk in half-and-half, milk and vanilla until well combined.\", \"On a floured surface, use a rolling pin to roll out chilled dough into a round shape. The dough should be at least 1 inch larger than your pie dish. Carefully place the dough into the pie dish. Tuck excess dough under itself. Crimp the edges with your fingers (optional).\", \"Pour filling into unbaked pie shell. Bake 15 minutes at 425\\u00b0F. Then reduce oven temperature to 350\\u00b0F and continue baking for 45-60 minutes or until edges seem dry and center is set but slightly jiggly. If you are going to decorate pie with leaves, roll out remaining dough and cut out leaf shapes. When the pie has been baking for 40 minutes, remove from oven and quickly lay leaf cut-outs over crust. Continue baking until pie is done.\", \"Remove pie from oven and place on a cooling rack to cool completely. Serve immediately or refrigerate.\"]   \n",
       "        17          [\"For the pumpkin puree:\", \"Preheat oven to 375\\u00b0F. Wash the pumpkin to remove any dirt. Cut the pumpkin in half and remove stem. Remove all of the seeds and stringiness from the center of the pumpkin.\", \"Place the pumpkin halves cut-side down onto a baking sheet lined with parchment paper. Roast for 45 minutes to 1 hour, or until skin darkens and is shriveled. The pumpkin should be very soft.\", \"With a spoon, scoop the pumpkin out of the skin and transfer to a food processor. Puree until completely smooth.\", \"For the pie crust:\", \"Combine flour and salt in a large bowl.\", \"n a food processor, add flour and cold butter. Pulse a few times until lightly combined. With the motor running, add egg, cold water, and vinegar into dough. Pulse until just combined (dough might be slightly crumbly).\", \"Remove dough from bowl and gather it into a ball with your hands. Divide the dough in half and slightly flatten it into a disc. Wrap the dough discs with plastic wrap and refrigerate for 30 minutes. (Dough recipe is enough for 2 pies or 1 pie with leaf decorations.)\", \"To assemble the pie:\", \"Preheat oven to 425\\u00b0F.\", \"In a small bowl, combine sugar, cinnamon, salt, ginger, and cloves.\", \"In a large bowl, whisk eggs. Add pumpkin puree and sugar mixture. Whisk in half-and-half, milk and vanilla until well combined.\", \"On a floured surface, use a rolling pin to roll out chilled dough into a round shape. The dough should be at least 1 inch larger than your pie dish. Carefully place the dough into the pie dish. Tuck excess dough under itself. Crimp the edges with your fingers (optional).\", \"Pour filling into unbaked pie shell. Bake 15 minutes at 425\\u00b0F. Then reduce oven temperature to 350\\u00b0F and continue baking for 45-60 minutes or until edges seem dry and center is set but slightly jiggly. If you are going to decorate pie with leaves, roll out remaining dough and cut out leaf shapes. When the pie has been baking for 40 minutes, remove from oven and quickly lay leaf cut-outs over crust. Continue baking until pie is done.\", \"Remove pie from oven and place on a cooling rack to cool completely. Serve immediately or refrigerate.\"]   \n",
       "\n",
       "                                                                                                                                                                                                                                                                                                                                                                                                                                                                                   ingredients  \\\n",
       "recipe  ingredient                                                                                                                                                                                                                                                                                                                                                                                                                                                                               \n",
       "1828339 6                                                                   [2 (225 g) cans grape leaves, drained (canned or bottled), salt, 12 teaspoon ground turmeric, 175 g long grain brown rice, 1 tablespoon vegetable oil, 1 small onion, peeled and finely chopped, 100 g dried apricots, finely chopped, 50 g sultanas, 1 pinch ground cinnamon, 1 pinch ground allspice, 1 tablespoon chopped of fresh mint, 1 teaspoon lemon juice, 300 ml unsweetened orange juice, 150 ml water]   \n",
       "1703    0                                                                                                                                                                                                                                                                                                                                                                           [1 pkg. applesauce, spice or carrot cake mix, 4 eggs, 1/4 c. water, 1 jar mincemeat, 1 c. nuts (optional)]   \n",
       "317211  5                                                                                                                                                                                                                                         [1 1/4 c. flour, 1/2 c. pecans, finely chopped, 1/2 c. softened butter, 1 (8 oz.) pkg. cream cheese, softened, 1/2 c. powdered sugar, 1 (8 oz.) container Cool Whip, 2 pkg. pistachio instant pudding mix, 3 c. milk, 3/4 c. chopped pecans]   \n",
       "2195357 0                                                                                                                                                                                                                                                                                  [4 x Cutlets blue-eyed cod or possibly snapper cutlets, up to 6, 3 Tbsp. Extra virgin olive oil, 1 1/2 Tbsp. Lemon juice, strips of peel, 1/2 tsp Dry oregano or possibly rigini, 1 x Clove garlic]   \n",
       "895702  5                                                                                                                                                                                                                                                                                 [1/2 c. margarine, melted, 1 c. flour, 1/2 c. pecans, chopped, 8 oz. cream cheese, 1 1/2 c. powdered sugar, 1 (12 oz.) container Cool Whip, 2 (4 1/4 oz.) pkg. instant chocolate pudding, 3 c. milk]   \n",
       "1653851 10                                                                                                 [2 lbs large shrimp, cooked, peeled and deveined with tails on, 2 lemons, 4 teaspoons hot sauce, 2 teaspoons creole seasoning, 1 cup buttermilk, 1 ripe avocado, chopped, 2 tablespoons chopped fresh parsley, 2 finely chopped green onions, 2 tablespoons fresh lemon juice, kosher salt & freshly ground black pepper, 1 (5 ounce) package mixed baby greens, thoroughly washed]   \n",
       "1331923 1                                                                                                                                                                                                              [2 lbs Flank steak, 1 package frozen copped sinach, thawed, 1/2 cup crumbled blue cheese, 1 jar 7 oz. roasted red peppers, 2 tablespoons seasoned dry breadcrumbs, 1 egg yolk, 3/4 teaspoons of garlic salt, 3/4 teaspoons ground black pepper, 1 tablespoon olive oil]   \n",
       "661227  4                                                                                                                                                                                                                                                                                                                                  [2/3 c. mayonnaise, 2/3 c. sour cream, 1 Tbsp. chopped green onion, 1 Tbsp. chopped parsley, 1 Tbsp. Beau Monde (Spice Islands), 1 Tbsp. dill weed]   \n",
       "1546037 14          [FOR THE PUMPKIN PUREE:, 1 whole (about 3 Lb. Size) Pumpkin, FOR THE PIE CRUST:, 3 cups Flour, 1 teaspoon Salt, 3 sticks Cold Butter, Cut Into Cubes, 1 Egg, Lightly Beaten, 5 Tablespoons Cold Water, 1 Tablespoon White Wine Vinegar, FOR THE FILLING:, 3/4 cups Sugar, 1 teaspoon Cinnamon, 1/2 teaspoons Salt, 1/2 teaspoons Ground Ginger, 1/4 teaspoons Ground Cloves, 2 Eggs, 15 ounces, weight Pumpkin Puree, 1 cup Half-and-half, 1 cup Milk, 1 teaspoon Vanilla]   \n",
       "        17          [FOR THE PUMPKIN PUREE:, 1 whole (about 3 Lb. Size) Pumpkin, FOR THE PIE CRUST:, 3 cups Flour, 1 teaspoon Salt, 3 sticks Cold Butter, Cut Into Cubes, 1 Egg, Lightly Beaten, 5 Tablespoons Cold Water, 1 Tablespoon White Wine Vinegar, FOR THE FILLING:, 3/4 cups Sugar, 1 teaspoon Cinnamon, 1/2 teaspoons Salt, 1/2 teaspoons Ground Ginger, 1/4 teaspoons Ground Cloves, 2 Eggs, 15 ounces, weight Pumpkin Puree, 1 cup Half-and-half, 1 cup Milk, 1 teaspoon Vanilla]   \n",
       "\n",
       "                                                                                                                                                                                                                 NER  \n",
       "recipe  ingredient                                                                                                                                                                                                    \n",
       "1828339 6           [\"grape leaves\", \"salt\", \"ground turmeric\", \"long grain brown rice\", \"vegetable oil\", \"onion\", \"sultanas\", \"ground cinnamon\", \"ground allspice\", \"mint\", \"lemon juice\", \"orange juice\", \"water\"]  \n",
       "1703    0                                                                                                                                                      [\"carrot cake\", \"eggs\", \"water\", \"mincemeat\", \"nuts\"]  \n",
       "317211  5                                                                                             [\"flour\", \"pecans\", \"butter\", \"cream cheese\", \"powdered sugar\", \"pistachio instant pudding\", \"milk\", \"pecans\"]  \n",
       "2195357 0                                                                                                                    [\"snapper cutlets\", \"Extra virgin olive oil\", \"Lemon juice\", \"oregano\", \"Clove garlic\"]  \n",
       "895702  5                                                                                                    [\"margarine\", \"flour\", \"pecans\", \"cream cheese\", \"powdered sugar\", \"instant chocolate pudding\", \"milk\"]  \n",
       "1653851 10                                              [\"shrimp\", \"lemons\", \"hot sauce\", \"creole seasoning\", \"buttermilk\", \"avocado\", \"parsley\", \"green onions\", \"lemon juice\", \"kosher salt\", \"thoroughly washed\"]  \n",
       "1331923 1                                                                                [\"Flank steak\", \"blue cheese\", \"red peppers\", \"breadcrumbs\", \"egg yolk\", \"garlic salt\", \"ground black pepper\", \"olive oil\"]  \n",
       "661227  4                                                                                                                                        [\"mayonnaise\", \"sour cream\", \"green onion\", \"parsley\", \"dill weed\"]  \n",
       "1546037 14                                [\"Pumpkin\", \"Flour\", \"Salt\", \"Butter\", \"Egg\", \"Water\", \"White Wine Vinegar\", \"FILLING\", \"Sugar\", \"Cinnamon\", \"Salt\", \"Ground Ginger\", \"\\u00bc\", \"Eggs\", \"Milk\", \"Vanilla\"]  \n",
       "        17                                [\"Pumpkin\", \"Flour\", \"Salt\", \"Butter\", \"Egg\", \"Water\", \"White Wine Vinegar\", \"FILLING\", \"Sugar\", \"Cinnamon\", \"Salt\", \"Ground Ginger\", \"\\u00bc\", \"Eggs\", \"Milk\", \"Vanilla\"]  "
      ]
     },
     "execution_count": 72,
     "metadata": {},
     "output_type": "execute_result"
    }
   ],
   "source": [
    "pd.set_option('display.max_colwidth', None)\n",
    "ingredients_df[ingredients_df['name.ner'].isnull()].join(recipes_df[['directions', 'ingredients']], on='recipe')[['name', 'directions', 'ingredients', 'NER']].head(10)"
   ]
  },
  {
   "cell_type": "code",
   "execution_count": 73,
   "metadata": {
    "execution": {
     "iopub.execute_input": "2024-02-11T11:19:58.974622Z",
     "iopub.status.busy": "2024-02-11T11:19:58.974545Z",
     "iopub.status.idle": "2024-02-11T11:19:58.975923Z",
     "shell.execute_reply": "2024-02-11T11:19:58.975750Z"
    }
   },
   "outputs": [],
   "source": [
    "pd.reset_option('display.max_colwidth')"
   ]
  },
  {
   "cell_type": "markdown",
   "metadata": {},
   "source": [
    "We could use this NER as a sort of third check/filter as we need to simplify the ingredients in order to match them with their density. Why don't we just cut out the recipes where NER's don't match up and see what we're left with. "
   ]
  },
  {
   "cell_type": "code",
   "execution_count": 74,
   "metadata": {
    "execution": {
     "iopub.execute_input": "2024-02-11T11:19:58.976889Z",
     "iopub.status.busy": "2024-02-11T11:19:58.976815Z",
     "iopub.status.idle": "2024-02-11T11:19:58.978637Z",
     "shell.execute_reply": "2024-02-11T11:19:58.978457Z"
    }
   },
   "outputs": [
    {
     "data": {
      "text/plain": [
       "302"
      ]
     },
     "execution_count": 74,
     "metadata": {},
     "output_type": "execute_result"
    }
   ],
   "source": [
    "len(ingredients_df.index.unique(level=0))"
   ]
  },
  {
   "cell_type": "code",
   "execution_count": 75,
   "metadata": {
    "execution": {
     "iopub.execute_input": "2024-02-11T11:19:58.979634Z",
     "iopub.status.busy": "2024-02-11T11:19:58.979505Z",
     "iopub.status.idle": "2024-02-11T11:19:58.981857Z",
     "shell.execute_reply": "2024-02-11T11:19:58.981691Z"
    }
   },
   "outputs": [
    {
     "data": {
      "text/plain": [
       "0.7649006622516556"
      ]
     },
     "execution_count": 75,
     "metadata": {},
     "output_type": "execute_result"
    }
   ],
   "source": [
    "(len(ingredients_df.index.unique(level=0)) - len(ingredients_df[ingredients_df['name.ner'].isnull()].index.unique(level=0)) )/ len(ingredients_df.index.unique(level=0))"
   ]
  },
  {
   "cell_type": "markdown",
   "metadata": {},
   "source": [
    "This cuts out 1/4 of the dataset. That's a lot, but we do have a lot of data to work with. If we can gain something from this parsing it might be worth it. \n",
    "\n",
    "What this might help with is filtering obscure ingredients that woudln't be matched with the food databases in the future chapters. Let's see how many unique ingredients we have with those cut out."
   ]
  },
  {
   "cell_type": "code",
   "execution_count": 76,
   "metadata": {
    "execution": {
     "iopub.execute_input": "2024-02-11T11:19:58.982834Z",
     "iopub.status.busy": "2024-02-11T11:19:58.982684Z",
     "iopub.status.idle": "2024-02-11T11:19:58.985226Z",
     "shell.execute_reply": "2024-02-11T11:19:58.985061Z"
    }
   },
   "outputs": [
    {
     "data": {
      "text/plain": [
       "231"
      ]
     },
     "execution_count": 76,
     "metadata": {},
     "output_type": "execute_result"
    }
   ],
   "source": [
    "ingredients_df_filtered = ingredients_df[~ingredients_df.index.isin(ingredients_df[ingredients_df['name.ner'].isnull()].index.unique(level=0), level=0)]\n",
    "len(ingredients_df_filtered.index.unique(level=0))"
   ]
  },
  {
   "cell_type": "code",
   "execution_count": 77,
   "metadata": {
    "execution": {
     "iopub.execute_input": "2024-02-11T11:19:58.986131Z",
     "iopub.status.busy": "2024-02-11T11:19:58.986001Z",
     "iopub.status.idle": "2024-02-11T11:19:58.988037Z",
     "shell.execute_reply": "2024-02-11T11:19:58.987874Z"
    }
   },
   "outputs": [
    {
     "data": {
      "text/plain": [
       "0.733567046450482"
      ]
     },
     "execution_count": 77,
     "metadata": {},
     "output_type": "execute_result"
    }
   ],
   "source": [
    "ingredients_df_filtered['name'].nunique() / ingredients_df['name'].nunique()"
   ]
  },
  {
   "cell_type": "markdown",
   "metadata": {},
   "source": [
    "-> This proportionally removes the number of unique ingredients, so it's not doing anything significant in reducing obscurity."
   ]
  },
  {
   "cell_type": "markdown",
   "metadata": {},
   "source": [
    "What it can serve as is a way of filtering out the main ingredient from the name. It seems to be more harsh at eliminating unnecessary words than our method. "
   ]
  },
  {
   "cell_type": "code",
   "execution_count": 78,
   "metadata": {
    "execution": {
     "iopub.execute_input": "2024-02-11T11:19:58.988976Z",
     "iopub.status.busy": "2024-02-11T11:19:58.988850Z",
     "iopub.status.idle": "2024-02-11T11:19:58.993672Z",
     "shell.execute_reply": "2024-02-11T11:19:58.993508Z"
    }
   },
   "outputs": [
    {
     "data": {
      "text/html": [
       "<div>\n",
       "<style scoped>\n",
       "    .dataframe tbody tr th:only-of-type {\n",
       "        vertical-align: middle;\n",
       "    }\n",
       "\n",
       "    .dataframe tbody tr th {\n",
       "        vertical-align: top;\n",
       "    }\n",
       "\n",
       "    .dataframe thead th {\n",
       "        text-align: right;\n",
       "    }\n",
       "</style>\n",
       "<table border=\"1\" class=\"dataframe\">\n",
       "  <thead>\n",
       "    <tr style=\"text-align: right;\">\n",
       "      <th></th>\n",
       "      <th></th>\n",
       "      <th>ingredient_string</th>\n",
       "      <th>NER</th>\n",
       "      <th>ingredient_string_or_removed</th>\n",
       "      <th>name</th>\n",
       "      <th>quantity</th>\n",
       "      <th>unit</th>\n",
       "      <th>comment</th>\n",
       "      <th>preparation</th>\n",
       "      <th>name.ner</th>\n",
       "    </tr>\n",
       "    <tr>\n",
       "      <th>recipe</th>\n",
       "      <th>ingredient</th>\n",
       "      <th></th>\n",
       "      <th></th>\n",
       "      <th></th>\n",
       "      <th></th>\n",
       "      <th></th>\n",
       "      <th></th>\n",
       "      <th></th>\n",
       "      <th></th>\n",
       "      <th></th>\n",
       "    </tr>\n",
       "  </thead>\n",
       "  <tbody>\n",
       "    <tr>\n",
       "      <th rowspan=\"5\" valign=\"top\">1746116</th>\n",
       "      <th>0</th>\n",
       "      <td>2/3 cup Land O Lakes Butter, softened</td>\n",
       "      <td>[\"Butter\", \"sugar\", \"Eggs\", \"vanilla\", \"flour\"...</td>\n",
       "      <td>2/3 cup Land O Lakes Butter, softened</td>\n",
       "      <td>Land O Lakes Butter</td>\n",
       "      <td>0.667</td>\n",
       "      <td>cups</td>\n",
       "      <td>&lt;NA&gt;</td>\n",
       "      <td>softened</td>\n",
       "      <td>Butter</td>\n",
       "    </tr>\n",
       "    <tr>\n",
       "      <th>1</th>\n",
       "      <td>1/2 cup sugar</td>\n",
       "      <td>[\"Butter\", \"sugar\", \"Eggs\", \"vanilla\", \"flour\"...</td>\n",
       "      <td>1/2 cup sugar</td>\n",
       "      <td>sugar</td>\n",
       "      <td>0.5</td>\n",
       "      <td>cups</td>\n",
       "      <td>&lt;NA&gt;</td>\n",
       "      <td>&lt;NA&gt;</td>\n",
       "      <td>sugar</td>\n",
       "    </tr>\n",
       "    <tr>\n",
       "      <th>2</th>\n",
       "      <td>2 Land O Lakes Eggs (yolks only)</td>\n",
       "      <td>[\"Butter\", \"sugar\", \"Eggs\", \"vanilla\", \"flour\"...</td>\n",
       "      <td>2 Land O Lakes Eggs (yolks only)</td>\n",
       "      <td>Land O Lakes Eggs</td>\n",
       "      <td>2.0</td>\n",
       "      <td></td>\n",
       "      <td>(yolks only)</td>\n",
       "      <td>&lt;NA&gt;</td>\n",
       "      <td>Eggs</td>\n",
       "    </tr>\n",
       "    <tr>\n",
       "      <th>3</th>\n",
       "      <td>1 teaspoon vanilla</td>\n",
       "      <td>[\"Butter\", \"sugar\", \"Eggs\", \"vanilla\", \"flour\"...</td>\n",
       "      <td>1 teaspoon vanilla</td>\n",
       "      <td>vanilla</td>\n",
       "      <td>1.0</td>\n",
       "      <td>teaspoon</td>\n",
       "      <td>&lt;NA&gt;</td>\n",
       "      <td>&lt;NA&gt;</td>\n",
       "      <td>vanilla</td>\n",
       "    </tr>\n",
       "    <tr>\n",
       "      <th>4</th>\n",
       "      <td>1 1/2 cups all-purpose flour</td>\n",
       "      <td>[\"Butter\", \"sugar\", \"Eggs\", \"vanilla\", \"flour\"...</td>\n",
       "      <td>1 1/2 cups all-purpose flour</td>\n",
       "      <td>all-purpose flour</td>\n",
       "      <td>1.5</td>\n",
       "      <td>cups</td>\n",
       "      <td>&lt;NA&gt;</td>\n",
       "      <td>&lt;NA&gt;</td>\n",
       "      <td>flour</td>\n",
       "    </tr>\n",
       "    <tr>\n",
       "      <th>...</th>\n",
       "      <th>...</th>\n",
       "      <td>...</td>\n",
       "      <td>...</td>\n",
       "      <td>...</td>\n",
       "      <td>...</td>\n",
       "      <td>...</td>\n",
       "      <td>...</td>\n",
       "      <td>...</td>\n",
       "      <td>...</td>\n",
       "      <td>...</td>\n",
       "    </tr>\n",
       "    <tr>\n",
       "      <th rowspan=\"5\" valign=\"top\">931097</th>\n",
       "      <th>10</th>\n",
       "      <td>1/4 cup chopped red bell pepper</td>\n",
       "      <td>[\"Pineapple\", \"garlic\", \"ground thyme\", \"groun...</td>\n",
       "      <td>1/4 cup chopped red bell pepper</td>\n",
       "      <td>red bell pepper</td>\n",
       "      <td>0.25</td>\n",
       "      <td>cups</td>\n",
       "      <td>&lt;NA&gt;</td>\n",
       "      <td>chopped</td>\n",
       "      <td>red bell pepper</td>\n",
       "    </tr>\n",
       "    <tr>\n",
       "      <th>11</th>\n",
       "      <td>1 cup Jasmine rice</td>\n",
       "      <td>[\"Pineapple\", \"garlic\", \"ground thyme\", \"groun...</td>\n",
       "      <td>1 cup Jasmine rice</td>\n",
       "      <td>Jasmine rice</td>\n",
       "      <td>1.0</td>\n",
       "      <td>cup</td>\n",
       "      <td>&lt;NA&gt;</td>\n",
       "      <td>&lt;NA&gt;</td>\n",
       "      <td>Jasmine rice</td>\n",
       "    </tr>\n",
       "    <tr>\n",
       "      <th>12</th>\n",
       "      <td>1 1/2 cups reduced-sodium chicken broth</td>\n",
       "      <td>[\"Pineapple\", \"garlic\", \"ground thyme\", \"groun...</td>\n",
       "      <td>1 1/2 cups reduced-sodium chicken broth</td>\n",
       "      <td>reduced-sodium chicken broth</td>\n",
       "      <td>1.5</td>\n",
       "      <td>cups</td>\n",
       "      <td>&lt;NA&gt;</td>\n",
       "      <td>&lt;NA&gt;</td>\n",
       "      <td>chicken</td>\n",
       "    </tr>\n",
       "    <tr>\n",
       "      <th>13</th>\n",
       "      <td>1 tablespoon chopped fresh basil</td>\n",
       "      <td>[\"Pineapple\", \"garlic\", \"ground thyme\", \"groun...</td>\n",
       "      <td>1 tablespoon chopped fresh basil</td>\n",
       "      <td>fresh basil</td>\n",
       "      <td>1.0</td>\n",
       "      <td>tablespoon</td>\n",
       "      <td>&lt;NA&gt;</td>\n",
       "      <td>chopped</td>\n",
       "      <td>fresh basil</td>\n",
       "    </tr>\n",
       "    <tr>\n",
       "      <th>14</th>\n",
       "      <td>Salt and ground pepper to taste</td>\n",
       "      <td>[\"Pineapple\", \"garlic\", \"ground thyme\", \"groun...</td>\n",
       "      <td>Salt and ground pepper to taste</td>\n",
       "      <td>Salt and ground pepper</td>\n",
       "      <td>&lt;NA&gt;</td>\n",
       "      <td>&lt;NA&gt;</td>\n",
       "      <td>to taste</td>\n",
       "      <td>&lt;NA&gt;</td>\n",
       "      <td>Salt</td>\n",
       "    </tr>\n",
       "  </tbody>\n",
       "</table>\n",
       "<p>2494 rows × 9 columns</p>\n",
       "</div>"
      ],
      "text/plain": [
       "                                          ingredient_string  \\\n",
       "recipe  ingredient                                            \n",
       "1746116 0             2/3 cup Land O Lakes Butter, softened   \n",
       "        1                                     1/2 cup sugar   \n",
       "        2                  2 Land O Lakes Eggs (yolks only)   \n",
       "        3                                1 teaspoon vanilla   \n",
       "        4                      1 1/2 cups all-purpose flour   \n",
       "...                                                     ...   \n",
       "931097  10                  1/4 cup chopped red bell pepper   \n",
       "        11                               1 cup Jasmine rice   \n",
       "        12          1 1/2 cups reduced-sodium chicken broth   \n",
       "        13                 1 tablespoon chopped fresh basil   \n",
       "        14                  Salt and ground pepper to taste   \n",
       "\n",
       "                                                                  NER  \\\n",
       "recipe  ingredient                                                      \n",
       "1746116 0           [\"Butter\", \"sugar\", \"Eggs\", \"vanilla\", \"flour\"...   \n",
       "        1           [\"Butter\", \"sugar\", \"Eggs\", \"vanilla\", \"flour\"...   \n",
       "        2           [\"Butter\", \"sugar\", \"Eggs\", \"vanilla\", \"flour\"...   \n",
       "        3           [\"Butter\", \"sugar\", \"Eggs\", \"vanilla\", \"flour\"...   \n",
       "        4           [\"Butter\", \"sugar\", \"Eggs\", \"vanilla\", \"flour\"...   \n",
       "...                                                               ...   \n",
       "931097  10          [\"Pineapple\", \"garlic\", \"ground thyme\", \"groun...   \n",
       "        11          [\"Pineapple\", \"garlic\", \"ground thyme\", \"groun...   \n",
       "        12          [\"Pineapple\", \"garlic\", \"ground thyme\", \"groun...   \n",
       "        13          [\"Pineapple\", \"garlic\", \"ground thyme\", \"groun...   \n",
       "        14          [\"Pineapple\", \"garlic\", \"ground thyme\", \"groun...   \n",
       "\n",
       "                               ingredient_string_or_removed  \\\n",
       "recipe  ingredient                                            \n",
       "1746116 0             2/3 cup Land O Lakes Butter, softened   \n",
       "        1                                     1/2 cup sugar   \n",
       "        2                  2 Land O Lakes Eggs (yolks only)   \n",
       "        3                                1 teaspoon vanilla   \n",
       "        4                      1 1/2 cups all-purpose flour   \n",
       "...                                                     ...   \n",
       "931097  10                  1/4 cup chopped red bell pepper   \n",
       "        11                               1 cup Jasmine rice   \n",
       "        12          1 1/2 cups reduced-sodium chicken broth   \n",
       "        13                 1 tablespoon chopped fresh basil   \n",
       "        14                  Salt and ground pepper to taste   \n",
       "\n",
       "                                            name quantity        unit  \\\n",
       "recipe  ingredient                                                      \n",
       "1746116 0                    Land O Lakes Butter    0.667        cups   \n",
       "        1                                  sugar      0.5        cups   \n",
       "        2                      Land O Lakes Eggs      2.0               \n",
       "        3                                vanilla      1.0    teaspoon   \n",
       "        4                      all-purpose flour      1.5        cups   \n",
       "...                                          ...      ...         ...   \n",
       "931097  10                       red bell pepper     0.25        cups   \n",
       "        11                          Jasmine rice      1.0         cup   \n",
       "        12          reduced-sodium chicken broth      1.5        cups   \n",
       "        13                           fresh basil      1.0  tablespoon   \n",
       "        14                Salt and ground pepper     <NA>        <NA>   \n",
       "\n",
       "                         comment preparation         name.ner  \n",
       "recipe  ingredient                                             \n",
       "1746116 0                   <NA>    softened           Butter  \n",
       "        1                   <NA>        <NA>            sugar  \n",
       "        2           (yolks only)        <NA>             Eggs  \n",
       "        3                   <NA>        <NA>          vanilla  \n",
       "        4                   <NA>        <NA>            flour  \n",
       "...                          ...         ...              ...  \n",
       "931097  10                  <NA>     chopped  red bell pepper  \n",
       "        11                  <NA>        <NA>     Jasmine rice  \n",
       "        12                  <NA>        <NA>          chicken  \n",
       "        13                  <NA>     chopped      fresh basil  \n",
       "        14              to taste        <NA>             Salt  \n",
       "\n",
       "[2494 rows x 9 columns]"
      ]
     },
     "execution_count": 78,
     "metadata": {},
     "output_type": "execute_result"
    }
   ],
   "source": [
    "ingredients_df"
   ]
  },
  {
   "cell_type": "code",
   "execution_count": 79,
   "metadata": {
    "execution": {
     "iopub.execute_input": "2024-02-11T11:19:58.994501Z",
     "iopub.status.busy": "2024-02-11T11:19:58.994449Z",
     "iopub.status.idle": "2024-02-11T11:19:58.998920Z",
     "shell.execute_reply": "2024-02-11T11:19:58.998757Z"
    }
   },
   "outputs": [
    {
     "data": {
      "text/html": [
       "<div>\n",
       "<style scoped>\n",
       "    .dataframe tbody tr th:only-of-type {\n",
       "        vertical-align: middle;\n",
       "    }\n",
       "\n",
       "    .dataframe tbody tr th {\n",
       "        vertical-align: top;\n",
       "    }\n",
       "\n",
       "    .dataframe thead th {\n",
       "        text-align: right;\n",
       "    }\n",
       "</style>\n",
       "<table border=\"1\" class=\"dataframe\">\n",
       "  <thead>\n",
       "    <tr style=\"text-align: right;\">\n",
       "      <th></th>\n",
       "      <th></th>\n",
       "      <th>name.name</th>\n",
       "      <th>name.description</th>\n",
       "      <th>quantity</th>\n",
       "      <th>unit</th>\n",
       "      <th>comment</th>\n",
       "      <th>preparation</th>\n",
       "      <th>ingredient_string</th>\n",
       "    </tr>\n",
       "    <tr>\n",
       "      <th>recipe</th>\n",
       "      <th>ingredient</th>\n",
       "      <th></th>\n",
       "      <th></th>\n",
       "      <th></th>\n",
       "      <th></th>\n",
       "      <th></th>\n",
       "      <th></th>\n",
       "      <th></th>\n",
       "    </tr>\n",
       "  </thead>\n",
       "  <tbody>\n",
       "    <tr>\n",
       "      <th rowspan=\"5\" valign=\"top\">1746116</th>\n",
       "      <th>0</th>\n",
       "      <td>Butter</td>\n",
       "      <td>Land O Lakes Butter</td>\n",
       "      <td>0.667</td>\n",
       "      <td>cups</td>\n",
       "      <td>&lt;NA&gt;</td>\n",
       "      <td>softened</td>\n",
       "      <td>2/3 cup Land O Lakes Butter, softened</td>\n",
       "    </tr>\n",
       "    <tr>\n",
       "      <th>1</th>\n",
       "      <td>sugar</td>\n",
       "      <td>sugar</td>\n",
       "      <td>0.5</td>\n",
       "      <td>cups</td>\n",
       "      <td>&lt;NA&gt;</td>\n",
       "      <td>&lt;NA&gt;</td>\n",
       "      <td>1/2 cup sugar</td>\n",
       "    </tr>\n",
       "    <tr>\n",
       "      <th>2</th>\n",
       "      <td>Eggs</td>\n",
       "      <td>Land O Lakes Eggs</td>\n",
       "      <td>2.0</td>\n",
       "      <td></td>\n",
       "      <td>(yolks only)</td>\n",
       "      <td>&lt;NA&gt;</td>\n",
       "      <td>2 Land O Lakes Eggs (yolks only)</td>\n",
       "    </tr>\n",
       "    <tr>\n",
       "      <th>3</th>\n",
       "      <td>vanilla</td>\n",
       "      <td>vanilla</td>\n",
       "      <td>1.0</td>\n",
       "      <td>teaspoon</td>\n",
       "      <td>&lt;NA&gt;</td>\n",
       "      <td>&lt;NA&gt;</td>\n",
       "      <td>1 teaspoon vanilla</td>\n",
       "    </tr>\n",
       "    <tr>\n",
       "      <th>4</th>\n",
       "      <td>flour</td>\n",
       "      <td>all-purpose flour</td>\n",
       "      <td>1.5</td>\n",
       "      <td>cups</td>\n",
       "      <td>&lt;NA&gt;</td>\n",
       "      <td>&lt;NA&gt;</td>\n",
       "      <td>1 1/2 cups all-purpose flour</td>\n",
       "    </tr>\n",
       "  </tbody>\n",
       "</table>\n",
       "</div>"
      ],
      "text/plain": [
       "                   name.name     name.description quantity      unit  \\\n",
       "recipe  ingredient                                                     \n",
       "1746116 0             Butter  Land O Lakes Butter    0.667      cups   \n",
       "        1              sugar                sugar      0.5      cups   \n",
       "        2               Eggs    Land O Lakes Eggs      2.0             \n",
       "        3            vanilla              vanilla      1.0  teaspoon   \n",
       "        4              flour    all-purpose flour      1.5      cups   \n",
       "\n",
       "                         comment preparation  \\\n",
       "recipe  ingredient                             \n",
       "1746116 0                   <NA>    softened   \n",
       "        1                   <NA>        <NA>   \n",
       "        2           (yolks only)        <NA>   \n",
       "        3                   <NA>        <NA>   \n",
       "        4                   <NA>        <NA>   \n",
       "\n",
       "                                        ingredient_string  \n",
       "recipe  ingredient                                         \n",
       "1746116 0           2/3 cup Land O Lakes Butter, softened  \n",
       "        1                                   1/2 cup sugar  \n",
       "        2                2 Land O Lakes Eggs (yolks only)  \n",
       "        3                              1 teaspoon vanilla  \n",
       "        4                    1 1/2 cups all-purpose flour  "
      ]
     },
     "execution_count": 79,
     "metadata": {},
     "output_type": "execute_result"
    }
   ],
   "source": [
    "ingredients_df = ingredients_df.rename({'name.ner': 'name.name', 'name': 'name.description', 'ingredient_string': 'ingredient_string'}, axis=1)\n",
    "ingredients_df = ingredients_df[['name.name', 'name.description', 'quantity', 'unit', 'comment', 'preparation', 'ingredient_string']]\n",
    "ingredients_df.head()"
   ]
  },
  {
   "cell_type": "markdown",
   "metadata": {},
   "source": [
    "Decision: Opting to keep the ingredients not identified by NER instead of fitlering them."
   ]
  },
  {
   "cell_type": "code",
   "execution_count": 80,
   "metadata": {
    "execution": {
     "iopub.execute_input": "2024-02-11T11:19:58.999784Z",
     "iopub.status.busy": "2024-02-11T11:19:58.999710Z",
     "iopub.status.idle": "2024-02-11T11:19:59.004321Z",
     "shell.execute_reply": "2024-02-11T11:19:59.004160Z"
    }
   },
   "outputs": [
    {
     "data": {
      "text/html": [
       "<div>\n",
       "<style scoped>\n",
       "    .dataframe tbody tr th:only-of-type {\n",
       "        vertical-align: middle;\n",
       "    }\n",
       "\n",
       "    .dataframe tbody tr th {\n",
       "        vertical-align: top;\n",
       "    }\n",
       "\n",
       "    .dataframe thead th {\n",
       "        text-align: right;\n",
       "    }\n",
       "</style>\n",
       "<table border=\"1\" class=\"dataframe\">\n",
       "  <thead>\n",
       "    <tr style=\"text-align: right;\">\n",
       "      <th></th>\n",
       "      <th></th>\n",
       "      <th>name.name</th>\n",
       "      <th>name.description</th>\n",
       "      <th>quantity</th>\n",
       "      <th>unit</th>\n",
       "      <th>comment</th>\n",
       "      <th>preparation</th>\n",
       "      <th>ingredient_string</th>\n",
       "    </tr>\n",
       "    <tr>\n",
       "      <th>recipe</th>\n",
       "      <th>ingredient</th>\n",
       "      <th></th>\n",
       "      <th></th>\n",
       "      <th></th>\n",
       "      <th></th>\n",
       "      <th></th>\n",
       "      <th></th>\n",
       "      <th></th>\n",
       "    </tr>\n",
       "  </thead>\n",
       "  <tbody>\n",
       "    <tr>\n",
       "      <th>1828339</th>\n",
       "      <th>6</th>\n",
       "      <td>&lt;NA&gt;</td>\n",
       "      <td>dried apricots</td>\n",
       "      <td>100.0</td>\n",
       "      <td>g</td>\n",
       "      <td>&lt;NA&gt;</td>\n",
       "      <td>finely chopped</td>\n",
       "      <td>100 g dried apricots, finely chopped</td>\n",
       "    </tr>\n",
       "    <tr>\n",
       "      <th>1703</th>\n",
       "      <th>0</th>\n",
       "      <td>&lt;NA&gt;</td>\n",
       "      <td>pkg. applesauce</td>\n",
       "      <td>1.0</td>\n",
       "      <td></td>\n",
       "      <td>spice</td>\n",
       "      <td>&lt;NA&gt;</td>\n",
       "      <td>1 pkg. applesauce, spice</td>\n",
       "    </tr>\n",
       "    <tr>\n",
       "      <th>317211</th>\n",
       "      <th>5</th>\n",
       "      <td>&lt;NA&gt;</td>\n",
       "      <td>container Cool Whip</td>\n",
       "      <td>1.0</td>\n",
       "      <td></td>\n",
       "      <td>&lt;NA&gt;</td>\n",
       "      <td>&lt;NA&gt;</td>\n",
       "      <td>1 (8 oz.) container Cool Whip</td>\n",
       "    </tr>\n",
       "    <tr>\n",
       "      <th>2195357</th>\n",
       "      <th>0</th>\n",
       "      <td>&lt;NA&gt;</td>\n",
       "      <td>blue-eyed cod</td>\n",
       "      <td>4.0</td>\n",
       "      <td>Cutlets</td>\n",
       "      <td>&lt;NA&gt;</td>\n",
       "      <td>&lt;NA&gt;</td>\n",
       "      <td>4 x Cutlets blue-eyed cod</td>\n",
       "    </tr>\n",
       "    <tr>\n",
       "      <th>895702</th>\n",
       "      <th>5</th>\n",
       "      <td>&lt;NA&gt;</td>\n",
       "      <td>container Cool Whip</td>\n",
       "      <td>1.0</td>\n",
       "      <td></td>\n",
       "      <td>&lt;NA&gt;</td>\n",
       "      <td>&lt;NA&gt;</td>\n",
       "      <td>1 (12 oz.) container Cool Whip</td>\n",
       "    </tr>\n",
       "    <tr>\n",
       "      <th>...</th>\n",
       "      <th>...</th>\n",
       "      <td>...</td>\n",
       "      <td>...</td>\n",
       "      <td>...</td>\n",
       "      <td>...</td>\n",
       "      <td>...</td>\n",
       "      <td>...</td>\n",
       "      <td>...</td>\n",
       "    </tr>\n",
       "    <tr>\n",
       "      <th>1777734</th>\n",
       "      <th>3</th>\n",
       "      <td>&lt;NA&gt;</td>\n",
       "      <td>tub, COOL WHIP Whipped Topping</td>\n",
       "      <td>1.0</td>\n",
       "      <td></td>\n",
       "      <td>&lt;NA&gt;</td>\n",
       "      <td>thawed</td>\n",
       "      <td>1 tub (12 oz.) COOL WHIP Whipped Topping, thawed</td>\n",
       "    </tr>\n",
       "    <tr>\n",
       "      <th rowspan=\"2\" valign=\"top\">2177242</th>\n",
       "      <th>1</th>\n",
       "      <td>&lt;NA&gt;</td>\n",
       "      <td>5 spice powder</td>\n",
       "      <td>1.0</td>\n",
       "      <td>teaspoon</td>\n",
       "      <td>&lt;NA&gt;</td>\n",
       "      <td>&lt;NA&gt;</td>\n",
       "      <td>1 teaspoon five-spice powder</td>\n",
       "    </tr>\n",
       "    <tr>\n",
       "      <th>3</th>\n",
       "      <td>&lt;NA&gt;</td>\n",
       "      <td>scallion</td>\n",
       "      <td>3.0</td>\n",
       "      <td>heads</td>\n",
       "      <td>white part only</td>\n",
       "      <td>finely chopped</td>\n",
       "      <td>3 scallion heads white part only, finely chopped</td>\n",
       "    </tr>\n",
       "    <tr>\n",
       "      <th>1097688</th>\n",
       "      <th>0</th>\n",
       "      <td>&lt;NA&gt;</td>\n",
       "      <td>BATTER</td>\n",
       "      <td>&lt;NA&gt;</td>\n",
       "      <td>&lt;NA&gt;</td>\n",
       "      <td>&lt;NA&gt;</td>\n",
       "      <td>&lt;NA&gt;</td>\n",
       "      <td>BATTER</td>\n",
       "    </tr>\n",
       "    <tr>\n",
       "      <th>1401651</th>\n",
       "      <th>4</th>\n",
       "      <td>&lt;NA&gt;</td>\n",
       "      <td>ras el hanout</td>\n",
       "      <td></td>\n",
       "      <td>generous pinch</td>\n",
       "      <td>&lt;NA&gt;</td>\n",
       "      <td>&lt;NA&gt;</td>\n",
       "      <td>generous pinches ras el hanout</td>\n",
       "    </tr>\n",
       "  </tbody>\n",
       "</table>\n",
       "<p>91 rows × 7 columns</p>\n",
       "</div>"
      ],
      "text/plain": [
       "                   name.name                name.description quantity  \\\n",
       "recipe  ingredient                                                      \n",
       "1828339 6               <NA>                  dried apricots    100.0   \n",
       "1703    0               <NA>                 pkg. applesauce      1.0   \n",
       "317211  5               <NA>             container Cool Whip      1.0   \n",
       "2195357 0               <NA>                   blue-eyed cod      4.0   \n",
       "895702  5               <NA>             container Cool Whip      1.0   \n",
       "...                      ...                             ...      ...   \n",
       "1777734 3               <NA>  tub, COOL WHIP Whipped Topping      1.0   \n",
       "2177242 1               <NA>                  5 spice powder      1.0   \n",
       "        3               <NA>                        scallion      3.0   \n",
       "1097688 0               <NA>                          BATTER     <NA>   \n",
       "1401651 4               <NA>                   ras el hanout            \n",
       "\n",
       "                              unit          comment     preparation  \\\n",
       "recipe  ingredient                                                    \n",
       "1828339 6                        g             <NA>  finely chopped   \n",
       "1703    0                                     spice            <NA>   \n",
       "317211  5                                      <NA>            <NA>   \n",
       "2195357 0                  Cutlets             <NA>            <NA>   \n",
       "895702  5                                      <NA>            <NA>   \n",
       "...                            ...              ...             ...   \n",
       "1777734 3                                      <NA>          thawed   \n",
       "2177242 1                 teaspoon             <NA>            <NA>   \n",
       "        3                    heads  white part only  finely chopped   \n",
       "1097688 0                     <NA>             <NA>            <NA>   \n",
       "1401651 4           generous pinch             <NA>            <NA>   \n",
       "\n",
       "                                                   ingredient_string  \n",
       "recipe  ingredient                                                    \n",
       "1828339 6                       100 g dried apricots, finely chopped  \n",
       "1703    0                                   1 pkg. applesauce, spice  \n",
       "317211  5                              1 (8 oz.) container Cool Whip  \n",
       "2195357 0                                  4 x Cutlets blue-eyed cod  \n",
       "895702  5                             1 (12 oz.) container Cool Whip  \n",
       "...                                                              ...  \n",
       "1777734 3           1 tub (12 oz.) COOL WHIP Whipped Topping, thawed  \n",
       "2177242 1                               1 teaspoon five-spice powder  \n",
       "        3           3 scallion heads white part only, finely chopped  \n",
       "1097688 0                                                     BATTER  \n",
       "1401651 4                             generous pinches ras el hanout  \n",
       "\n",
       "[91 rows x 7 columns]"
      ]
     },
     "execution_count": 80,
     "metadata": {},
     "output_type": "execute_result"
    }
   ],
   "source": [
    "ingredients_df[ingredients_df['name.name'].isnull()]"
   ]
  },
  {
   "cell_type": "code",
   "execution_count": 81,
   "metadata": {
    "execution": {
     "iopub.execute_input": "2024-02-11T11:19:59.005156Z",
     "iopub.status.busy": "2024-02-11T11:19:59.005082Z",
     "iopub.status.idle": "2024-02-11T11:19:59.014585Z",
     "shell.execute_reply": "2024-02-11T11:19:59.014408Z"
    }
   },
   "outputs": [],
   "source": [
    "ingredients_df['name.name'] = ingredients_df.apply(lambda ingredient: ingredient['name.name'] if pd.notnull(ingredient['name.name']) else ingredient['name.description'], axis=1)"
   ]
  },
  {
   "cell_type": "markdown",
   "metadata": {},
   "source": [
    "## Cleaning Null Values"
   ]
  },
  {
   "cell_type": "markdown",
   "metadata": {},
   "source": [
    "Making null values consistent."
   ]
  },
  {
   "cell_type": "code",
   "execution_count": 82,
   "metadata": {
    "execution": {
     "iopub.execute_input": "2024-02-11T11:19:59.015460Z",
     "iopub.status.busy": "2024-02-11T11:19:59.015385Z",
     "iopub.status.idle": "2024-02-11T11:19:59.019618Z",
     "shell.execute_reply": "2024-02-11T11:19:59.019455Z"
    }
   },
   "outputs": [
    {
     "data": {
      "text/html": [
       "<div>\n",
       "<style scoped>\n",
       "    .dataframe tbody tr th:only-of-type {\n",
       "        vertical-align: middle;\n",
       "    }\n",
       "\n",
       "    .dataframe tbody tr th {\n",
       "        vertical-align: top;\n",
       "    }\n",
       "\n",
       "    .dataframe thead th {\n",
       "        text-align: right;\n",
       "    }\n",
       "</style>\n",
       "<table border=\"1\" class=\"dataframe\">\n",
       "  <thead>\n",
       "    <tr style=\"text-align: right;\">\n",
       "      <th></th>\n",
       "      <th></th>\n",
       "      <th>name.name</th>\n",
       "      <th>name.description</th>\n",
       "      <th>quantity</th>\n",
       "      <th>unit</th>\n",
       "      <th>comment</th>\n",
       "      <th>preparation</th>\n",
       "      <th>ingredient_string</th>\n",
       "    </tr>\n",
       "    <tr>\n",
       "      <th>recipe</th>\n",
       "      <th>ingredient</th>\n",
       "      <th></th>\n",
       "      <th></th>\n",
       "      <th></th>\n",
       "      <th></th>\n",
       "      <th></th>\n",
       "      <th></th>\n",
       "      <th></th>\n",
       "    </tr>\n",
       "  </thead>\n",
       "  <tbody>\n",
       "    <tr>\n",
       "      <th rowspan=\"5\" valign=\"top\">1746116</th>\n",
       "      <th>0</th>\n",
       "      <td>Butter</td>\n",
       "      <td>Land O Lakes Butter</td>\n",
       "      <td>0.667</td>\n",
       "      <td>cups</td>\n",
       "      <td>&lt;NA&gt;</td>\n",
       "      <td>softened</td>\n",
       "      <td>2/3 cup Land O Lakes Butter, softened</td>\n",
       "    </tr>\n",
       "    <tr>\n",
       "      <th>1</th>\n",
       "      <td>sugar</td>\n",
       "      <td>sugar</td>\n",
       "      <td>0.5</td>\n",
       "      <td>cups</td>\n",
       "      <td>&lt;NA&gt;</td>\n",
       "      <td>&lt;NA&gt;</td>\n",
       "      <td>1/2 cup sugar</td>\n",
       "    </tr>\n",
       "    <tr>\n",
       "      <th>2</th>\n",
       "      <td>Eggs</td>\n",
       "      <td>Land O Lakes Eggs</td>\n",
       "      <td>2.0</td>\n",
       "      <td></td>\n",
       "      <td>(yolks only)</td>\n",
       "      <td>&lt;NA&gt;</td>\n",
       "      <td>2 Land O Lakes Eggs (yolks only)</td>\n",
       "    </tr>\n",
       "    <tr>\n",
       "      <th>3</th>\n",
       "      <td>vanilla</td>\n",
       "      <td>vanilla</td>\n",
       "      <td>1.0</td>\n",
       "      <td>teaspoon</td>\n",
       "      <td>&lt;NA&gt;</td>\n",
       "      <td>&lt;NA&gt;</td>\n",
       "      <td>1 teaspoon vanilla</td>\n",
       "    </tr>\n",
       "    <tr>\n",
       "      <th>4</th>\n",
       "      <td>flour</td>\n",
       "      <td>all-purpose flour</td>\n",
       "      <td>1.5</td>\n",
       "      <td>cups</td>\n",
       "      <td>&lt;NA&gt;</td>\n",
       "      <td>&lt;NA&gt;</td>\n",
       "      <td>1 1/2 cups all-purpose flour</td>\n",
       "    </tr>\n",
       "    <tr>\n",
       "      <th>...</th>\n",
       "      <th>...</th>\n",
       "      <td>...</td>\n",
       "      <td>...</td>\n",
       "      <td>...</td>\n",
       "      <td>...</td>\n",
       "      <td>...</td>\n",
       "      <td>...</td>\n",
       "      <td>...</td>\n",
       "    </tr>\n",
       "    <tr>\n",
       "      <th rowspan=\"5\" valign=\"top\">931097</th>\n",
       "      <th>10</th>\n",
       "      <td>red bell pepper</td>\n",
       "      <td>red bell pepper</td>\n",
       "      <td>0.25</td>\n",
       "      <td>cups</td>\n",
       "      <td>&lt;NA&gt;</td>\n",
       "      <td>chopped</td>\n",
       "      <td>1/4 cup chopped red bell pepper</td>\n",
       "    </tr>\n",
       "    <tr>\n",
       "      <th>11</th>\n",
       "      <td>Jasmine rice</td>\n",
       "      <td>Jasmine rice</td>\n",
       "      <td>1.0</td>\n",
       "      <td>cup</td>\n",
       "      <td>&lt;NA&gt;</td>\n",
       "      <td>&lt;NA&gt;</td>\n",
       "      <td>1 cup Jasmine rice</td>\n",
       "    </tr>\n",
       "    <tr>\n",
       "      <th>12</th>\n",
       "      <td>chicken</td>\n",
       "      <td>reduced-sodium chicken broth</td>\n",
       "      <td>1.5</td>\n",
       "      <td>cups</td>\n",
       "      <td>&lt;NA&gt;</td>\n",
       "      <td>&lt;NA&gt;</td>\n",
       "      <td>1 1/2 cups reduced-sodium chicken broth</td>\n",
       "    </tr>\n",
       "    <tr>\n",
       "      <th>13</th>\n",
       "      <td>fresh basil</td>\n",
       "      <td>fresh basil</td>\n",
       "      <td>1.0</td>\n",
       "      <td>tablespoon</td>\n",
       "      <td>&lt;NA&gt;</td>\n",
       "      <td>chopped</td>\n",
       "      <td>1 tablespoon chopped fresh basil</td>\n",
       "    </tr>\n",
       "    <tr>\n",
       "      <th>14</th>\n",
       "      <td>Salt</td>\n",
       "      <td>Salt and ground pepper</td>\n",
       "      <td>&lt;NA&gt;</td>\n",
       "      <td>&lt;NA&gt;</td>\n",
       "      <td>to taste</td>\n",
       "      <td>&lt;NA&gt;</td>\n",
       "      <td>Salt and ground pepper to taste</td>\n",
       "    </tr>\n",
       "  </tbody>\n",
       "</table>\n",
       "<p>2494 rows × 7 columns</p>\n",
       "</div>"
      ],
      "text/plain": [
       "                          name.name              name.description quantity  \\\n",
       "recipe  ingredient                                                           \n",
       "1746116 0                    Butter           Land O Lakes Butter    0.667   \n",
       "        1                     sugar                         sugar      0.5   \n",
       "        2                      Eggs             Land O Lakes Eggs      2.0   \n",
       "        3                   vanilla                       vanilla      1.0   \n",
       "        4                     flour             all-purpose flour      1.5   \n",
       "...                             ...                           ...      ...   \n",
       "931097  10          red bell pepper               red bell pepper     0.25   \n",
       "        11             Jasmine rice                  Jasmine rice      1.0   \n",
       "        12                  chicken  reduced-sodium chicken broth      1.5   \n",
       "        13              fresh basil                   fresh basil      1.0   \n",
       "        14                     Salt        Salt and ground pepper     <NA>   \n",
       "\n",
       "                          unit       comment preparation  \\\n",
       "recipe  ingredient                                         \n",
       "1746116 0                 cups          <NA>    softened   \n",
       "        1                 cups          <NA>        <NA>   \n",
       "        2                       (yolks only)        <NA>   \n",
       "        3             teaspoon          <NA>        <NA>   \n",
       "        4                 cups          <NA>        <NA>   \n",
       "...                        ...           ...         ...   \n",
       "931097  10                cups          <NA>     chopped   \n",
       "        11                 cup          <NA>        <NA>   \n",
       "        12                cups          <NA>        <NA>   \n",
       "        13          tablespoon          <NA>     chopped   \n",
       "        14                <NA>      to taste        <NA>   \n",
       "\n",
       "                                          ingredient_string  \n",
       "recipe  ingredient                                           \n",
       "1746116 0             2/3 cup Land O Lakes Butter, softened  \n",
       "        1                                     1/2 cup sugar  \n",
       "        2                  2 Land O Lakes Eggs (yolks only)  \n",
       "        3                                1 teaspoon vanilla  \n",
       "        4                      1 1/2 cups all-purpose flour  \n",
       "...                                                     ...  \n",
       "931097  10                  1/4 cup chopped red bell pepper  \n",
       "        11                               1 cup Jasmine rice  \n",
       "        12          1 1/2 cups reduced-sodium chicken broth  \n",
       "        13                 1 tablespoon chopped fresh basil  \n",
       "        14                  Salt and ground pepper to taste  \n",
       "\n",
       "[2494 rows x 7 columns]"
      ]
     },
     "execution_count": 82,
     "metadata": {},
     "output_type": "execute_result"
    }
   ],
   "source": [
    "ingredients_df"
   ]
  },
  {
   "cell_type": "code",
   "execution_count": 83,
   "metadata": {
    "execution": {
     "iopub.execute_input": "2024-02-11T11:19:59.020399Z",
     "iopub.status.busy": "2024-02-11T11:19:59.020347Z",
     "iopub.status.idle": "2024-02-11T11:19:59.024568Z",
     "shell.execute_reply": "2024-02-11T11:19:59.024401Z"
    }
   },
   "outputs": [
    {
     "data": {
      "text/html": [
       "<div>\n",
       "<style scoped>\n",
       "    .dataframe tbody tr th:only-of-type {\n",
       "        vertical-align: middle;\n",
       "    }\n",
       "\n",
       "    .dataframe tbody tr th {\n",
       "        vertical-align: top;\n",
       "    }\n",
       "\n",
       "    .dataframe thead th {\n",
       "        text-align: right;\n",
       "    }\n",
       "</style>\n",
       "<table border=\"1\" class=\"dataframe\">\n",
       "  <thead>\n",
       "    <tr style=\"text-align: right;\">\n",
       "      <th></th>\n",
       "      <th></th>\n",
       "      <th>name.name</th>\n",
       "      <th>name.description</th>\n",
       "      <th>quantity</th>\n",
       "      <th>unit</th>\n",
       "      <th>comment</th>\n",
       "      <th>preparation</th>\n",
       "      <th>ingredient_string</th>\n",
       "    </tr>\n",
       "    <tr>\n",
       "      <th>recipe</th>\n",
       "      <th>ingredient</th>\n",
       "      <th></th>\n",
       "      <th></th>\n",
       "      <th></th>\n",
       "      <th></th>\n",
       "      <th></th>\n",
       "      <th></th>\n",
       "      <th></th>\n",
       "    </tr>\n",
       "  </thead>\n",
       "  <tbody>\n",
       "    <tr>\n",
       "      <th rowspan=\"5\" valign=\"top\">1746116</th>\n",
       "      <th>0</th>\n",
       "      <td>Butter</td>\n",
       "      <td>Land O Lakes Butter</td>\n",
       "      <td>0.667</td>\n",
       "      <td>cups</td>\n",
       "      <td>&lt;NA&gt;</td>\n",
       "      <td>softened</td>\n",
       "      <td>2/3 cup Land O Lakes Butter, softened</td>\n",
       "    </tr>\n",
       "    <tr>\n",
       "      <th>1</th>\n",
       "      <td>sugar</td>\n",
       "      <td>sugar</td>\n",
       "      <td>0.5</td>\n",
       "      <td>cups</td>\n",
       "      <td>&lt;NA&gt;</td>\n",
       "      <td>&lt;NA&gt;</td>\n",
       "      <td>1/2 cup sugar</td>\n",
       "    </tr>\n",
       "    <tr>\n",
       "      <th>2</th>\n",
       "      <td>Eggs</td>\n",
       "      <td>Land O Lakes Eggs</td>\n",
       "      <td>2.0</td>\n",
       "      <td></td>\n",
       "      <td>(yolks only)</td>\n",
       "      <td>&lt;NA&gt;</td>\n",
       "      <td>2 Land O Lakes Eggs (yolks only)</td>\n",
       "    </tr>\n",
       "    <tr>\n",
       "      <th>3</th>\n",
       "      <td>vanilla</td>\n",
       "      <td>vanilla</td>\n",
       "      <td>1.0</td>\n",
       "      <td>teaspoon</td>\n",
       "      <td>&lt;NA&gt;</td>\n",
       "      <td>&lt;NA&gt;</td>\n",
       "      <td>1 teaspoon vanilla</td>\n",
       "    </tr>\n",
       "    <tr>\n",
       "      <th>4</th>\n",
       "      <td>flour</td>\n",
       "      <td>all-purpose flour</td>\n",
       "      <td>1.5</td>\n",
       "      <td>cups</td>\n",
       "      <td>&lt;NA&gt;</td>\n",
       "      <td>&lt;NA&gt;</td>\n",
       "      <td>1 1/2 cups all-purpose flour</td>\n",
       "    </tr>\n",
       "    <tr>\n",
       "      <th>...</th>\n",
       "      <th>...</th>\n",
       "      <td>...</td>\n",
       "      <td>...</td>\n",
       "      <td>...</td>\n",
       "      <td>...</td>\n",
       "      <td>...</td>\n",
       "      <td>...</td>\n",
       "      <td>...</td>\n",
       "    </tr>\n",
       "    <tr>\n",
       "      <th rowspan=\"5\" valign=\"top\">931097</th>\n",
       "      <th>10</th>\n",
       "      <td>red bell pepper</td>\n",
       "      <td>red bell pepper</td>\n",
       "      <td>0.25</td>\n",
       "      <td>cups</td>\n",
       "      <td>&lt;NA&gt;</td>\n",
       "      <td>chopped</td>\n",
       "      <td>1/4 cup chopped red bell pepper</td>\n",
       "    </tr>\n",
       "    <tr>\n",
       "      <th>11</th>\n",
       "      <td>Jasmine rice</td>\n",
       "      <td>Jasmine rice</td>\n",
       "      <td>1.0</td>\n",
       "      <td>cup</td>\n",
       "      <td>&lt;NA&gt;</td>\n",
       "      <td>&lt;NA&gt;</td>\n",
       "      <td>1 cup Jasmine rice</td>\n",
       "    </tr>\n",
       "    <tr>\n",
       "      <th>12</th>\n",
       "      <td>chicken</td>\n",
       "      <td>reduced-sodium chicken broth</td>\n",
       "      <td>1.5</td>\n",
       "      <td>cups</td>\n",
       "      <td>&lt;NA&gt;</td>\n",
       "      <td>&lt;NA&gt;</td>\n",
       "      <td>1 1/2 cups reduced-sodium chicken broth</td>\n",
       "    </tr>\n",
       "    <tr>\n",
       "      <th>13</th>\n",
       "      <td>fresh basil</td>\n",
       "      <td>fresh basil</td>\n",
       "      <td>1.0</td>\n",
       "      <td>tablespoon</td>\n",
       "      <td>&lt;NA&gt;</td>\n",
       "      <td>chopped</td>\n",
       "      <td>1 tablespoon chopped fresh basil</td>\n",
       "    </tr>\n",
       "    <tr>\n",
       "      <th>14</th>\n",
       "      <td>Salt</td>\n",
       "      <td>Salt and ground pepper</td>\n",
       "      <td>&lt;NA&gt;</td>\n",
       "      <td>&lt;NA&gt;</td>\n",
       "      <td>to taste</td>\n",
       "      <td>&lt;NA&gt;</td>\n",
       "      <td>Salt and ground pepper to taste</td>\n",
       "    </tr>\n",
       "  </tbody>\n",
       "</table>\n",
       "<p>2494 rows × 7 columns</p>\n",
       "</div>"
      ],
      "text/plain": [
       "                          name.name              name.description quantity  \\\n",
       "recipe  ingredient                                                           \n",
       "1746116 0                    Butter           Land O Lakes Butter    0.667   \n",
       "        1                     sugar                         sugar      0.5   \n",
       "        2                      Eggs             Land O Lakes Eggs      2.0   \n",
       "        3                   vanilla                       vanilla      1.0   \n",
       "        4                     flour             all-purpose flour      1.5   \n",
       "...                             ...                           ...      ...   \n",
       "931097  10          red bell pepper               red bell pepper     0.25   \n",
       "        11             Jasmine rice                  Jasmine rice      1.0   \n",
       "        12                  chicken  reduced-sodium chicken broth      1.5   \n",
       "        13              fresh basil                   fresh basil      1.0   \n",
       "        14                     Salt        Salt and ground pepper     <NA>   \n",
       "\n",
       "                          unit       comment preparation  \\\n",
       "recipe  ingredient                                         \n",
       "1746116 0                 cups          <NA>    softened   \n",
       "        1                 cups          <NA>        <NA>   \n",
       "        2                       (yolks only)        <NA>   \n",
       "        3             teaspoon          <NA>        <NA>   \n",
       "        4                 cups          <NA>        <NA>   \n",
       "...                        ...           ...         ...   \n",
       "931097  10                cups          <NA>     chopped   \n",
       "        11                 cup          <NA>        <NA>   \n",
       "        12                cups          <NA>        <NA>   \n",
       "        13          tablespoon          <NA>     chopped   \n",
       "        14                <NA>      to taste        <NA>   \n",
       "\n",
       "                                          ingredient_string  \n",
       "recipe  ingredient                                           \n",
       "1746116 0             2/3 cup Land O Lakes Butter, softened  \n",
       "        1                                     1/2 cup sugar  \n",
       "        2                  2 Land O Lakes Eggs (yolks only)  \n",
       "        3                                1 teaspoon vanilla  \n",
       "        4                      1 1/2 cups all-purpose flour  \n",
       "...                                                     ...  \n",
       "931097  10                  1/4 cup chopped red bell pepper  \n",
       "        11                               1 cup Jasmine rice  \n",
       "        12          1 1/2 cups reduced-sodium chicken broth  \n",
       "        13                 1 tablespoon chopped fresh basil  \n",
       "        14                  Salt and ground pepper to taste  \n",
       "\n",
       "[2494 rows x 7 columns]"
      ]
     },
     "execution_count": 83,
     "metadata": {},
     "output_type": "execute_result"
    }
   ],
   "source": [
    "ingredients_df"
   ]
  },
  {
   "cell_type": "code",
   "execution_count": 84,
   "metadata": {
    "execution": {
     "iopub.execute_input": "2024-02-11T11:19:59.025403Z",
     "iopub.status.busy": "2024-02-11T11:19:59.025351Z",
     "iopub.status.idle": "2024-02-11T11:19:59.032849Z",
     "shell.execute_reply": "2024-02-11T11:19:59.032682Z"
    }
   },
   "outputs": [
    {
     "data": {
      "text/html": [
       "<div>\n",
       "<style scoped>\n",
       "    .dataframe tbody tr th:only-of-type {\n",
       "        vertical-align: middle;\n",
       "    }\n",
       "\n",
       "    .dataframe tbody tr th {\n",
       "        vertical-align: top;\n",
       "    }\n",
       "\n",
       "    .dataframe thead th {\n",
       "        text-align: right;\n",
       "    }\n",
       "</style>\n",
       "<table border=\"1\" class=\"dataframe\">\n",
       "  <thead>\n",
       "    <tr style=\"text-align: right;\">\n",
       "      <th></th>\n",
       "      <th></th>\n",
       "      <th>name.name</th>\n",
       "      <th>name.description</th>\n",
       "      <th>quantity</th>\n",
       "      <th>unit</th>\n",
       "      <th>comment</th>\n",
       "      <th>preparation</th>\n",
       "      <th>ingredient_string</th>\n",
       "    </tr>\n",
       "    <tr>\n",
       "      <th>recipe</th>\n",
       "      <th>ingredient</th>\n",
       "      <th></th>\n",
       "      <th></th>\n",
       "      <th></th>\n",
       "      <th></th>\n",
       "      <th></th>\n",
       "      <th></th>\n",
       "      <th></th>\n",
       "    </tr>\n",
       "  </thead>\n",
       "  <tbody>\n",
       "    <tr>\n",
       "      <th rowspan=\"5\" valign=\"top\">1746116</th>\n",
       "      <th>0</th>\n",
       "      <td>Butter</td>\n",
       "      <td>Land O Lakes Butter</td>\n",
       "      <td>0.667</td>\n",
       "      <td>cups</td>\n",
       "      <td>&lt;NA&gt;</td>\n",
       "      <td>softened</td>\n",
       "      <td>2/3 cup Land O Lakes Butter, softened</td>\n",
       "    </tr>\n",
       "    <tr>\n",
       "      <th>1</th>\n",
       "      <td>sugar</td>\n",
       "      <td>sugar</td>\n",
       "      <td>0.5</td>\n",
       "      <td>cups</td>\n",
       "      <td>&lt;NA&gt;</td>\n",
       "      <td>&lt;NA&gt;</td>\n",
       "      <td>1/2 cup sugar</td>\n",
       "    </tr>\n",
       "    <tr>\n",
       "      <th>2</th>\n",
       "      <td>Eggs</td>\n",
       "      <td>Land O Lakes Eggs</td>\n",
       "      <td>2.0</td>\n",
       "      <td>&lt;NA&gt;</td>\n",
       "      <td>(yolks only)</td>\n",
       "      <td>&lt;NA&gt;</td>\n",
       "      <td>2 Land O Lakes Eggs (yolks only)</td>\n",
       "    </tr>\n",
       "    <tr>\n",
       "      <th>3</th>\n",
       "      <td>vanilla</td>\n",
       "      <td>vanilla</td>\n",
       "      <td>1.0</td>\n",
       "      <td>teaspoon</td>\n",
       "      <td>&lt;NA&gt;</td>\n",
       "      <td>&lt;NA&gt;</td>\n",
       "      <td>1 teaspoon vanilla</td>\n",
       "    </tr>\n",
       "    <tr>\n",
       "      <th>4</th>\n",
       "      <td>flour</td>\n",
       "      <td>all-purpose flour</td>\n",
       "      <td>1.5</td>\n",
       "      <td>cups</td>\n",
       "      <td>&lt;NA&gt;</td>\n",
       "      <td>&lt;NA&gt;</td>\n",
       "      <td>1 1/2 cups all-purpose flour</td>\n",
       "    </tr>\n",
       "    <tr>\n",
       "      <th>...</th>\n",
       "      <th>...</th>\n",
       "      <td>...</td>\n",
       "      <td>...</td>\n",
       "      <td>...</td>\n",
       "      <td>...</td>\n",
       "      <td>...</td>\n",
       "      <td>...</td>\n",
       "      <td>...</td>\n",
       "    </tr>\n",
       "    <tr>\n",
       "      <th rowspan=\"5\" valign=\"top\">931097</th>\n",
       "      <th>10</th>\n",
       "      <td>red bell pepper</td>\n",
       "      <td>red bell pepper</td>\n",
       "      <td>0.25</td>\n",
       "      <td>cups</td>\n",
       "      <td>&lt;NA&gt;</td>\n",
       "      <td>chopped</td>\n",
       "      <td>1/4 cup chopped red bell pepper</td>\n",
       "    </tr>\n",
       "    <tr>\n",
       "      <th>11</th>\n",
       "      <td>Jasmine rice</td>\n",
       "      <td>Jasmine rice</td>\n",
       "      <td>1.0</td>\n",
       "      <td>cup</td>\n",
       "      <td>&lt;NA&gt;</td>\n",
       "      <td>&lt;NA&gt;</td>\n",
       "      <td>1 cup Jasmine rice</td>\n",
       "    </tr>\n",
       "    <tr>\n",
       "      <th>12</th>\n",
       "      <td>chicken</td>\n",
       "      <td>reduced-sodium chicken broth</td>\n",
       "      <td>1.5</td>\n",
       "      <td>cups</td>\n",
       "      <td>&lt;NA&gt;</td>\n",
       "      <td>&lt;NA&gt;</td>\n",
       "      <td>1 1/2 cups reduced-sodium chicken broth</td>\n",
       "    </tr>\n",
       "    <tr>\n",
       "      <th>13</th>\n",
       "      <td>fresh basil</td>\n",
       "      <td>fresh basil</td>\n",
       "      <td>1.0</td>\n",
       "      <td>tablespoon</td>\n",
       "      <td>&lt;NA&gt;</td>\n",
       "      <td>chopped</td>\n",
       "      <td>1 tablespoon chopped fresh basil</td>\n",
       "    </tr>\n",
       "    <tr>\n",
       "      <th>14</th>\n",
       "      <td>Salt</td>\n",
       "      <td>Salt and ground pepper</td>\n",
       "      <td>&lt;NA&gt;</td>\n",
       "      <td>&lt;NA&gt;</td>\n",
       "      <td>to taste</td>\n",
       "      <td>&lt;NA&gt;</td>\n",
       "      <td>Salt and ground pepper to taste</td>\n",
       "    </tr>\n",
       "  </tbody>\n",
       "</table>\n",
       "<p>2494 rows × 7 columns</p>\n",
       "</div>"
      ],
      "text/plain": [
       "                          name.name              name.description quantity  \\\n",
       "recipe  ingredient                                                           \n",
       "1746116 0                    Butter           Land O Lakes Butter    0.667   \n",
       "        1                     sugar                         sugar      0.5   \n",
       "        2                      Eggs             Land O Lakes Eggs      2.0   \n",
       "        3                   vanilla                       vanilla      1.0   \n",
       "        4                     flour             all-purpose flour      1.5   \n",
       "...                             ...                           ...      ...   \n",
       "931097  10          red bell pepper               red bell pepper     0.25   \n",
       "        11             Jasmine rice                  Jasmine rice      1.0   \n",
       "        12                  chicken  reduced-sodium chicken broth      1.5   \n",
       "        13              fresh basil                   fresh basil      1.0   \n",
       "        14                     Salt        Salt and ground pepper     <NA>   \n",
       "\n",
       "                          unit       comment preparation  \\\n",
       "recipe  ingredient                                         \n",
       "1746116 0                 cups          <NA>    softened   \n",
       "        1                 cups          <NA>        <NA>   \n",
       "        2                 <NA>  (yolks only)        <NA>   \n",
       "        3             teaspoon          <NA>        <NA>   \n",
       "        4                 cups          <NA>        <NA>   \n",
       "...                        ...           ...         ...   \n",
       "931097  10                cups          <NA>     chopped   \n",
       "        11                 cup          <NA>        <NA>   \n",
       "        12                cups          <NA>        <NA>   \n",
       "        13          tablespoon          <NA>     chopped   \n",
       "        14                <NA>      to taste        <NA>   \n",
       "\n",
       "                                          ingredient_string  \n",
       "recipe  ingredient                                           \n",
       "1746116 0             2/3 cup Land O Lakes Butter, softened  \n",
       "        1                                     1/2 cup sugar  \n",
       "        2                  2 Land O Lakes Eggs (yolks only)  \n",
       "        3                                1 teaspoon vanilla  \n",
       "        4                      1 1/2 cups all-purpose flour  \n",
       "...                                                     ...  \n",
       "931097  10                  1/4 cup chopped red bell pepper  \n",
       "        11                               1 cup Jasmine rice  \n",
       "        12          1 1/2 cups reduced-sodium chicken broth  \n",
       "        13                 1 tablespoon chopped fresh basil  \n",
       "        14                  Salt and ground pepper to taste  \n",
       "\n",
       "[2494 rows x 7 columns]"
      ]
     },
     "execution_count": 84,
     "metadata": {},
     "output_type": "execute_result"
    }
   ],
   "source": [
    "ingredients_df = ingredients_df.replace(r'^\\s*$', pd.NA, regex=True)\n",
    "ingredients_df"
   ]
  },
  {
   "cell_type": "code",
   "execution_count": 85,
   "metadata": {
    "execution": {
     "iopub.execute_input": "2024-02-11T11:19:59.033691Z",
     "iopub.status.busy": "2024-02-11T11:19:59.033618Z",
     "iopub.status.idle": "2024-02-11T11:19:59.035366Z",
     "shell.execute_reply": "2024-02-11T11:19:59.035209Z"
    }
   },
   "outputs": [
    {
     "data": {
      "text/plain": [
       "<NA>"
      ]
     },
     "execution_count": 85,
     "metadata": {},
     "output_type": "execute_result"
    }
   ],
   "source": [
    "ingredients_df.iloc[2]['unit']"
   ]
  },
  {
   "cell_type": "markdown",
   "metadata": {},
   "source": [
    "## Data Types"
   ]
  },
  {
   "cell_type": "code",
   "execution_count": 86,
   "metadata": {
    "execution": {
     "iopub.execute_input": "2024-02-11T11:19:59.036179Z",
     "iopub.status.busy": "2024-02-11T11:19:59.036129Z",
     "iopub.status.idle": "2024-02-11T11:19:59.039401Z",
     "shell.execute_reply": "2024-02-11T11:19:59.039208Z"
    }
   },
   "outputs": [
    {
     "name": "stdout",
     "output_type": "stream",
     "text": [
      "<class 'pandas.core.frame.DataFrame'>\n",
      "MultiIndex: 2494 entries, (1746116, 0) to (931097, 14)\n",
      "Data columns (total 7 columns):\n",
      " #   Column             Non-Null Count  Dtype \n",
      "---  ------             --------------  ----- \n",
      " 0   name.name          2494 non-null   object\n",
      " 1   name.description   2494 non-null   object\n",
      " 2   quantity           2330 non-null   object\n",
      " 3   unit               1966 non-null   object\n",
      " 4   comment            280 non-null    object\n",
      " 5   preparation        672 non-null    object\n",
      " 6   ingredient_string  2494 non-null   object\n",
      "dtypes: object(7)\n",
      "memory usage: 155.6+ KB\n"
     ]
    }
   ],
   "source": [
    "ingredients_df.info()"
   ]
  },
  {
   "cell_type": "code",
   "execution_count": 87,
   "metadata": {
    "execution": {
     "iopub.execute_input": "2024-02-11T11:19:59.040347Z",
     "iopub.status.busy": "2024-02-11T11:19:59.040221Z",
     "iopub.status.idle": "2024-02-11T11:19:59.042683Z",
     "shell.execute_reply": "2024-02-11T11:19:59.042505Z"
    }
   },
   "outputs": [],
   "source": [
    "ingredients_df = ingredients_df.astype({\n",
    "    'name.name': 'string',\n",
    "    'name.description': 'string',\n",
    "    'quantity': 'Float64',\n",
    "    'unit': 'string',\n",
    "    'comment': 'string',\n",
    "    'preparation': 'string',\n",
    "    'ingredient_string': 'string'\n",
    "})"
   ]
  },
  {
   "cell_type": "code",
   "execution_count": 88,
   "metadata": {
    "execution": {
     "iopub.execute_input": "2024-02-11T11:19:59.043496Z",
     "iopub.status.busy": "2024-02-11T11:19:59.043438Z",
     "iopub.status.idle": "2024-02-11T11:19:59.046618Z",
     "shell.execute_reply": "2024-02-11T11:19:59.046436Z"
    }
   },
   "outputs": [
    {
     "name": "stdout",
     "output_type": "stream",
     "text": [
      "<class 'pandas.core.frame.DataFrame'>\n",
      "MultiIndex: 2494 entries, (1746116, 0) to (931097, 14)\n",
      "Data columns (total 7 columns):\n",
      " #   Column             Non-Null Count  Dtype  \n",
      "---  ------             --------------  -----  \n",
      " 0   name.name          2494 non-null   string \n",
      " 1   name.description   2494 non-null   string \n",
      " 2   quantity           2330 non-null   Float64\n",
      " 3   unit               1966 non-null   string \n",
      " 4   comment            280 non-null    string \n",
      " 5   preparation        672 non-null    string \n",
      " 6   ingredient_string  2494 non-null   string \n",
      "dtypes: Float64(1), string(6)\n",
      "memory usage: 158.0 KB\n"
     ]
    }
   ],
   "source": [
    "ingredients_df.info()"
   ]
  },
  {
   "cell_type": "markdown",
   "metadata": {},
   "source": [
    "## Unit Tagging"
   ]
  },
  {
   "cell_type": "markdown",
   "metadata": {},
   "source": [
    "The above will cover all that is required to find ingredients by their name in the `food_df`. From this finding thier density requires another step: to find the appropriate portion measure / size in the `food_portion_df`. To best do this we can homogenise the units, which is easily done as they are not so expansive, they are only a list of ~30. Again we can do this with NLP."
   ]
  },
  {
   "cell_type": "code",
   "execution_count": 89,
   "metadata": {
    "execution": {
     "iopub.execute_input": "2024-02-11T11:19:59.047500Z",
     "iopub.status.busy": "2024-02-11T11:19:59.047426Z",
     "iopub.status.idle": "2024-02-11T11:19:59.050095Z",
     "shell.execute_reply": "2024-02-11T11:19:59.049928Z"
    }
   },
   "outputs": [
    {
     "data": {
      "text/plain": [
       "unit\n",
       "cups           545\n",
       "cup            166\n",
       "teaspoons      146\n",
       "tablespoons    106\n",
       "tsps            94\n",
       "can             81\n",
       "teaspoon        71\n",
       "Tbsps           61\n",
       "tablespoon      61\n",
       "tsp             53\n",
       "lbs             40\n",
       "ounces          40\n",
       "large           34\n",
       "cloves          30\n",
       "lb              27\n",
       "medium          27\n",
       "Tbsp            27\n",
       "oz              22\n",
       "cans            20\n",
       "tbsps           19\n",
       "Name: count, dtype: Int64"
      ]
     },
     "execution_count": 89,
     "metadata": {},
     "output_type": "execute_result"
    }
   ],
   "source": [
    "ingredients_df['unit'].value_counts().head(20)"
   ]
  },
  {
   "cell_type": "code",
   "execution_count": 90,
   "metadata": {
    "execution": {
     "iopub.execute_input": "2024-02-11T11:19:59.050992Z",
     "iopub.status.busy": "2024-02-11T11:19:59.050847Z",
     "iopub.status.idle": "2024-02-11T11:20:02.651253Z",
     "shell.execute_reply": "2024-02-11T11:20:02.651068Z"
    }
   },
   "outputs": [
    {
     "name": "stderr",
     "output_type": "stream",
     "text": [
      "\r",
      "  0%|                                                                                                                                                         | 0/2494 [00:00<?, ?it/s]"
     ]
    },
    {
     "name": "stderr",
     "output_type": "stream",
     "text": [
      "\r",
      "  3%|████▊                                                                                                                                          | 85/2494 [00:00<00:02, 846.08it/s]"
     ]
    },
    {
     "name": "stderr",
     "output_type": "stream",
     "text": [
      "\r",
      "  7%|█████████▋                                                                                                                                    | 170/2494 [00:00<00:02, 780.76it/s]"
     ]
    },
    {
     "name": "stderr",
     "output_type": "stream",
     "text": [
      "\r",
      " 10%|██████████████▋                                                                                                                               | 257/2494 [00:00<00:02, 816.19it/s]"
     ]
    },
    {
     "name": "stderr",
     "output_type": "stream",
     "text": [
      "\r",
      " 14%|███████████████████▎                                                                                                                          | 339/2494 [00:00<00:02, 789.81it/s]"
     ]
    },
    {
     "name": "stderr",
     "output_type": "stream",
     "text": [
      "\r",
      " 17%|████████████████████████                                                                                                                      | 423/2494 [00:00<00:02, 806.98it/s]"
     ]
    },
    {
     "name": "stderr",
     "output_type": "stream",
     "text": [
      "\r",
      " 21%|█████████████████████████████▉                                                                                                                | 526/2494 [00:00<00:02, 878.98it/s]"
     ]
    },
    {
     "name": "stderr",
     "output_type": "stream",
     "text": [
      "\r",
      " 25%|███████████████████████████████████                                                                                                           | 615/2494 [00:00<00:02, 858.52it/s]"
     ]
    },
    {
     "name": "stderr",
     "output_type": "stream",
     "text": [
      "\r",
      " 28%|███████████████████████████████████████▉                                                                                                      | 702/2494 [00:00<00:02, 851.22it/s]"
     ]
    },
    {
     "name": "stderr",
     "output_type": "stream",
     "text": [
      "\r",
      " 32%|████████████████████████████████████████████▊                                                                                                 | 788/2494 [00:00<00:02, 848.15it/s]"
     ]
    },
    {
     "name": "stderr",
     "output_type": "stream",
     "text": [
      "\r",
      " 35%|██████████████████████████████████████████████████                                                                                            | 880/2494 [00:01<00:01, 868.53it/s]"
     ]
    },
    {
     "name": "stderr",
     "output_type": "stream",
     "text": [
      "\r",
      " 39%|███████████████████████████████████████████████████████                                                                                       | 968/2494 [00:01<00:01, 870.63it/s]"
     ]
    },
    {
     "name": "stderr",
     "output_type": "stream",
     "text": [
      "\r",
      " 42%|███████████████████████████████████████████████████████████▊                                                                                 | 1057/2494 [00:01<00:01, 874.55it/s]"
     ]
    },
    {
     "name": "stderr",
     "output_type": "stream",
     "text": [
      "\r",
      " 46%|████████████████████████████████████████████████████████████████▋                                                                            | 1145/2494 [00:01<00:01, 840.71it/s]"
     ]
    },
    {
     "name": "stderr",
     "output_type": "stream",
     "text": [
      "\r",
      " 50%|█████████████████████████████████████████████████████████████████████▉                                                                       | 1236/2494 [00:01<00:01, 859.33it/s]"
     ]
    },
    {
     "name": "stderr",
     "output_type": "stream",
     "text": [
      "\r",
      " 53%|██████████████████████████████████████████████████████████████████████████▊                                                                  | 1323/2494 [00:01<00:01, 860.81it/s]"
     ]
    },
    {
     "name": "stderr",
     "output_type": "stream",
     "text": [
      "\r",
      " 57%|███████████████████████████████████████████████████████████████████████████████▋                                                             | 1410/2494 [00:01<00:01, 836.53it/s]"
     ]
    },
    {
     "name": "stderr",
     "output_type": "stream",
     "text": [
      "\r",
      " 60%|████████████████████████████████████████████████████████████████████████████████████▋                                                        | 1498/2494 [00:01<00:01, 847.33it/s]"
     ]
    },
    {
     "name": "stderr",
     "output_type": "stream",
     "text": [
      "\r",
      " 64%|█████████████████████████████████████████████████████████████████████████████████████████▊                                                   | 1588/2494 [00:01<00:01, 860.99it/s]"
     ]
    },
    {
     "name": "stderr",
     "output_type": "stream",
     "text": [
      "\r",
      " 67%|██████████████████████████████████████████████████████████████████████████████████████████████▋                                              | 1675/2494 [00:01<00:00, 851.30it/s]"
     ]
    },
    {
     "name": "stderr",
     "output_type": "stream",
     "text": [
      "\r",
      " 71%|███████████████████████████████████████████████████████████████████████████████████████████████████▌                                         | 1761/2494 [00:02<00:00, 830.83it/s]"
     ]
    },
    {
     "name": "stderr",
     "output_type": "stream",
     "text": [
      "\r",
      " 74%|████████████████████████████████████████████████████████████████████████████████████████████████████████▌                                    | 1850/2494 [00:02<00:00, 846.46it/s]"
     ]
    },
    {
     "name": "stderr",
     "output_type": "stream",
     "text": [
      "\r",
      " 78%|█████████████████████████████████████████████████████████████████████████████████████████████████████████████▍                               | 1936/2494 [00:02<00:00, 849.15it/s]"
     ]
    },
    {
     "name": "stderr",
     "output_type": "stream",
     "text": [
      "\r",
      " 81%|██████████████████████████████████████████████████████████████████████████████████████████████████████████████████▎                          | 2022/2494 [00:02<00:00, 835.79it/s]"
     ]
    },
    {
     "name": "stderr",
     "output_type": "stream",
     "text": [
      "\r",
      " 85%|███████████████████████████████████████████████████████████████████████████████████████████████████████████████████████▍                     | 2113/2494 [00:02<00:00, 855.94it/s]"
     ]
    },
    {
     "name": "stderr",
     "output_type": "stream",
     "text": [
      "\r",
      " 88%|████████████████████████████████████████████████████████████████████████████████████████████████████████████████████████████▍                | 2200/2494 [00:02<00:00, 857.60it/s]"
     ]
    },
    {
     "name": "stderr",
     "output_type": "stream",
     "text": [
      "\r",
      " 92%|██████████████████████████████████████████████████████████████████████████████████████████████████████████████████████████████████           | 2300/2494 [00:02<00:00, 897.48it/s]"
     ]
    },
    {
     "name": "stderr",
     "output_type": "stream",
     "text": [
      "\r",
      " 96%|███████████████████████████████████████████████████████████████████████████████████████████████████████████████████████████████████████      | 2390/2494 [00:02<00:00, 865.63it/s]"
     ]
    },
    {
     "name": "stderr",
     "output_type": "stream",
     "text": [
      "\r",
      " 99%|████████████████████████████████████████████████████████████████████████████████████████████████████████████████████████████████████████████ | 2477/2494 [00:02<00:00, 857.35it/s]"
     ]
    },
    {
     "name": "stderr",
     "output_type": "stream",
     "text": [
      "\r",
      "100%|█████████████████████████████████████████████████████████████████████████████████████████████████████████████████████████████████████████████| 2494/2494 [00:02<00:00, 849.42it/s]"
     ]
    },
    {
     "name": "stderr",
     "output_type": "stream",
     "text": [
      "\n"
     ]
    },
    {
     "data": {
      "text/html": [
       "<div>\n",
       "<style scoped>\n",
       "    .dataframe tbody tr th:only-of-type {\n",
       "        vertical-align: middle;\n",
       "    }\n",
       "\n",
       "    .dataframe tbody tr th {\n",
       "        vertical-align: top;\n",
       "    }\n",
       "\n",
       "    .dataframe thead th {\n",
       "        text-align: right;\n",
       "    }\n",
       "</style>\n",
       "<table border=\"1\" class=\"dataframe\">\n",
       "  <thead>\n",
       "    <tr style=\"text-align: right;\">\n",
       "      <th></th>\n",
       "      <th></th>\n",
       "      <th>unit</th>\n",
       "      <th>unit_tags</th>\n",
       "      <th>unit_remainders</th>\n",
       "      <th>unit_type</th>\n",
       "    </tr>\n",
       "    <tr>\n",
       "      <th>recipe</th>\n",
       "      <th>ingredient</th>\n",
       "      <th></th>\n",
       "      <th></th>\n",
       "      <th></th>\n",
       "      <th></th>\n",
       "    </tr>\n",
       "  </thead>\n",
       "  <tbody>\n",
       "    <tr>\n",
       "      <th rowspan=\"5\" valign=\"top\">1746116</th>\n",
       "      <th>0</th>\n",
       "      <td>cups</td>\n",
       "      <td>[cup]</td>\n",
       "      <td>[]</td>\n",
       "      <td>volume</td>\n",
       "    </tr>\n",
       "    <tr>\n",
       "      <th>1</th>\n",
       "      <td>cups</td>\n",
       "      <td>[cup]</td>\n",
       "      <td>[]</td>\n",
       "      <td>volume</td>\n",
       "    </tr>\n",
       "    <tr>\n",
       "      <th>2</th>\n",
       "      <td>&lt;NA&gt;</td>\n",
       "      <td>[]</td>\n",
       "      <td>[]</td>\n",
       "      <td>portion</td>\n",
       "    </tr>\n",
       "    <tr>\n",
       "      <th>3</th>\n",
       "      <td>teaspoon</td>\n",
       "      <td>[teaspoon]</td>\n",
       "      <td>[]</td>\n",
       "      <td>volume</td>\n",
       "    </tr>\n",
       "    <tr>\n",
       "      <th>4</th>\n",
       "      <td>cups</td>\n",
       "      <td>[cup]</td>\n",
       "      <td>[]</td>\n",
       "      <td>volume</td>\n",
       "    </tr>\n",
       "    <tr>\n",
       "      <th>...</th>\n",
       "      <th>...</th>\n",
       "      <td>...</td>\n",
       "      <td>...</td>\n",
       "      <td>...</td>\n",
       "      <td>...</td>\n",
       "    </tr>\n",
       "    <tr>\n",
       "      <th rowspan=\"5\" valign=\"top\">931097</th>\n",
       "      <th>10</th>\n",
       "      <td>cups</td>\n",
       "      <td>[cup]</td>\n",
       "      <td>[]</td>\n",
       "      <td>volume</td>\n",
       "    </tr>\n",
       "    <tr>\n",
       "      <th>11</th>\n",
       "      <td>cup</td>\n",
       "      <td>[cup]</td>\n",
       "      <td>[]</td>\n",
       "      <td>volume</td>\n",
       "    </tr>\n",
       "    <tr>\n",
       "      <th>12</th>\n",
       "      <td>cups</td>\n",
       "      <td>[cup]</td>\n",
       "      <td>[]</td>\n",
       "      <td>volume</td>\n",
       "    </tr>\n",
       "    <tr>\n",
       "      <th>13</th>\n",
       "      <td>tablespoon</td>\n",
       "      <td>[tablespoon]</td>\n",
       "      <td>[]</td>\n",
       "      <td>volume</td>\n",
       "    </tr>\n",
       "    <tr>\n",
       "      <th>14</th>\n",
       "      <td>&lt;NA&gt;</td>\n",
       "      <td>[]</td>\n",
       "      <td>[]</td>\n",
       "      <td>portion</td>\n",
       "    </tr>\n",
       "  </tbody>\n",
       "</table>\n",
       "<p>2494 rows × 4 columns</p>\n",
       "</div>"
      ],
      "text/plain": [
       "                          unit     unit_tags unit_remainders unit_type\n",
       "recipe  ingredient                                                    \n",
       "1746116 0                 cups         [cup]              []    volume\n",
       "        1                 cups         [cup]              []    volume\n",
       "        2                 <NA>            []              []   portion\n",
       "        3             teaspoon    [teaspoon]              []    volume\n",
       "        4                 cups         [cup]              []    volume\n",
       "...                        ...           ...             ...       ...\n",
       "931097  10                cups         [cup]              []    volume\n",
       "        11                 cup         [cup]              []    volume\n",
       "        12                cups         [cup]              []    volume\n",
       "        13          tablespoon  [tablespoon]              []    volume\n",
       "        14                <NA>            []              []   portion\n",
       "\n",
       "[2494 rows x 4 columns]"
      ]
     },
     "execution_count": 90,
     "metadata": {},
     "output_type": "execute_result"
    }
   ],
   "source": [
    "ingredients_df['unit_tags'], ingredients_df['unit_remainders'], ingredients_df['unit_type'] = zip(*ingredients_df['unit'].apply(clean_ingredient_string).progress_apply(tag_units))\n",
    "ingredients_df[['unit', 'unit_tags', 'unit_remainders', 'unit_type']]"
   ]
  },
  {
   "cell_type": "code",
   "execution_count": 91,
   "metadata": {
    "execution": {
     "iopub.execute_input": "2024-02-11T11:20:02.652332Z",
     "iopub.status.busy": "2024-02-11T11:20:02.652270Z",
     "iopub.status.idle": "2024-02-11T11:20:02.660749Z",
     "shell.execute_reply": "2024-02-11T11:20:02.660571Z"
    }
   },
   "outputs": [
    {
     "data": {
      "text/html": [
       "<div>\n",
       "<style scoped>\n",
       "    .dataframe tbody tr th:only-of-type {\n",
       "        vertical-align: middle;\n",
       "    }\n",
       "\n",
       "    .dataframe tbody tr th {\n",
       "        vertical-align: top;\n",
       "    }\n",
       "\n",
       "    .dataframe thead th {\n",
       "        text-align: right;\n",
       "    }\n",
       "</style>\n",
       "<table border=\"1\" class=\"dataframe\">\n",
       "  <thead>\n",
       "    <tr style=\"text-align: right;\">\n",
       "      <th></th>\n",
       "      <th></th>\n",
       "      <th>name.name</th>\n",
       "      <th>name.description</th>\n",
       "      <th>quantity</th>\n",
       "      <th>unit</th>\n",
       "      <th>comment</th>\n",
       "      <th>preparation</th>\n",
       "      <th>ingredient_string</th>\n",
       "      <th>unit_tags</th>\n",
       "      <th>unit_remainders</th>\n",
       "      <th>unit_type</th>\n",
       "    </tr>\n",
       "    <tr>\n",
       "      <th>recipe</th>\n",
       "      <th>ingredient</th>\n",
       "      <th></th>\n",
       "      <th></th>\n",
       "      <th></th>\n",
       "      <th></th>\n",
       "      <th></th>\n",
       "      <th></th>\n",
       "      <th></th>\n",
       "      <th></th>\n",
       "      <th></th>\n",
       "      <th></th>\n",
       "    </tr>\n",
       "  </thead>\n",
       "  <tbody>\n",
       "    <tr>\n",
       "      <th rowspan=\"2\" valign=\"top\">1828339</th>\n",
       "      <th>8</th>\n",
       "      <td>ground cinnamon</td>\n",
       "      <td>ground cinnamon</td>\n",
       "      <td>1.0</td>\n",
       "      <td>pinch</td>\n",
       "      <td>&lt;NA&gt;</td>\n",
       "      <td>&lt;NA&gt;</td>\n",
       "      <td>1 pinch ground cinnamon</td>\n",
       "      <td>[]</td>\n",
       "      <td>[pinch]</td>\n",
       "      <td>portion</td>\n",
       "    </tr>\n",
       "    <tr>\n",
       "      <th>9</th>\n",
       "      <td>ground allspice</td>\n",
       "      <td>ground allspice</td>\n",
       "      <td>1.0</td>\n",
       "      <td>pinch</td>\n",
       "      <td>&lt;NA&gt;</td>\n",
       "      <td>&lt;NA&gt;</td>\n",
       "      <td>1 pinch ground allspice</td>\n",
       "      <td>[]</td>\n",
       "      <td>[pinch]</td>\n",
       "      <td>portion</td>\n",
       "    </tr>\n",
       "    <tr>\n",
       "      <th>1703</th>\n",
       "      <th>3</th>\n",
       "      <td>mincemeat</td>\n",
       "      <td>mincemeat</td>\n",
       "      <td>1.0</td>\n",
       "      <td>jar</td>\n",
       "      <td>&lt;NA&gt;</td>\n",
       "      <td>&lt;NA&gt;</td>\n",
       "      <td>1 jar mincemeat</td>\n",
       "      <td>[]</td>\n",
       "      <td>[jar]</td>\n",
       "      <td>portion</td>\n",
       "    </tr>\n",
       "    <tr>\n",
       "      <th>382666</th>\n",
       "      <th>1</th>\n",
       "      <td>butter</td>\n",
       "      <td>butter</td>\n",
       "      <td>1.5</td>\n",
       "      <td>sticks</td>\n",
       "      <td>&lt;NA&gt;</td>\n",
       "      <td>&lt;NA&gt;</td>\n",
       "      <td>1 1/2 sticks butter</td>\n",
       "      <td>[]</td>\n",
       "      <td>[stick]</td>\n",
       "      <td>portion</td>\n",
       "    </tr>\n",
       "    <tr>\n",
       "      <th>2195357</th>\n",
       "      <th>0</th>\n",
       "      <td>blue-eyed cod</td>\n",
       "      <td>blue-eyed cod</td>\n",
       "      <td>4.0</td>\n",
       "      <td>Cutlets</td>\n",
       "      <td>&lt;NA&gt;</td>\n",
       "      <td>&lt;NA&gt;</td>\n",
       "      <td>4 x Cutlets blue-eyed cod</td>\n",
       "      <td>[]</td>\n",
       "      <td>[cutlet]</td>\n",
       "      <td>portion</td>\n",
       "    </tr>\n",
       "    <tr>\n",
       "      <th>...</th>\n",
       "      <th>...</th>\n",
       "      <td>...</td>\n",
       "      <td>...</td>\n",
       "      <td>...</td>\n",
       "      <td>...</td>\n",
       "      <td>...</td>\n",
       "      <td>...</td>\n",
       "      <td>...</td>\n",
       "      <td>...</td>\n",
       "      <td>...</td>\n",
       "      <td>...</td>\n",
       "    </tr>\n",
       "    <tr>\n",
       "      <th>2177242</th>\n",
       "      <th>3</th>\n",
       "      <td>scallion</td>\n",
       "      <td>scallion</td>\n",
       "      <td>3.0</td>\n",
       "      <td>heads</td>\n",
       "      <td>white part only</td>\n",
       "      <td>finely chopped</td>\n",
       "      <td>3 scallion heads white part only, finely chopped</td>\n",
       "      <td>[]</td>\n",
       "      <td>[head]</td>\n",
       "      <td>portion</td>\n",
       "    </tr>\n",
       "    <tr>\n",
       "      <th>64662</th>\n",
       "      <th>0</th>\n",
       "      <td>margarine</td>\n",
       "      <td>margarine</td>\n",
       "      <td>1.0</td>\n",
       "      <td>stick</td>\n",
       "      <td>&lt;NA&gt;</td>\n",
       "      <td>softened</td>\n",
       "      <td>1 stick margarine, softened</td>\n",
       "      <td>[]</td>\n",
       "      <td>[stick]</td>\n",
       "      <td>portion</td>\n",
       "    </tr>\n",
       "    <tr>\n",
       "      <th>1936429</th>\n",
       "      <th>1</th>\n",
       "      <td>garlic</td>\n",
       "      <td>garlic</td>\n",
       "      <td>2.0</td>\n",
       "      <td>cloves</td>\n",
       "      <td>&lt;NA&gt;</td>\n",
       "      <td>coarsely chopped</td>\n",
       "      <td>2 cloves garlic, coarsely chopped</td>\n",
       "      <td>[]</td>\n",
       "      <td>[clove]</td>\n",
       "      <td>portion</td>\n",
       "    </tr>\n",
       "    <tr>\n",
       "      <th>1401651</th>\n",
       "      <th>4</th>\n",
       "      <td>ras el hanout</td>\n",
       "      <td>ras el hanout</td>\n",
       "      <td>&lt;NA&gt;</td>\n",
       "      <td>generous pinch</td>\n",
       "      <td>&lt;NA&gt;</td>\n",
       "      <td>&lt;NA&gt;</td>\n",
       "      <td>generous pinches ras el hanout</td>\n",
       "      <td>[]</td>\n",
       "      <td>[generous, pinch]</td>\n",
       "      <td>portion</td>\n",
       "    </tr>\n",
       "    <tr>\n",
       "      <th>1357213</th>\n",
       "      <th>2</th>\n",
       "      <td>butter</td>\n",
       "      <td>butter</td>\n",
       "      <td>2.0</td>\n",
       "      <td>sticks</td>\n",
       "      <td>&lt;NA&gt;</td>\n",
       "      <td>&lt;NA&gt;</td>\n",
       "      <td>2 sticks butter</td>\n",
       "      <td>[]</td>\n",
       "      <td>[stick]</td>\n",
       "      <td>portion</td>\n",
       "    </tr>\n",
       "  </tbody>\n",
       "</table>\n",
       "<p>154 rows × 10 columns</p>\n",
       "</div>"
      ],
      "text/plain": [
       "                          name.name name.description  quantity  \\\n",
       "recipe  ingredient                                               \n",
       "1828339 8           ground cinnamon  ground cinnamon       1.0   \n",
       "        9           ground allspice  ground allspice       1.0   \n",
       "1703    3                 mincemeat        mincemeat       1.0   \n",
       "382666  1                    butter           butter       1.5   \n",
       "2195357 0             blue-eyed cod    blue-eyed cod       4.0   \n",
       "...                             ...              ...       ...   \n",
       "2177242 3                  scallion         scallion       3.0   \n",
       "64662   0                 margarine        margarine       1.0   \n",
       "1936429 1                    garlic           garlic       2.0   \n",
       "1401651 4             ras el hanout    ras el hanout      <NA>   \n",
       "1357213 2                    butter           butter       2.0   \n",
       "\n",
       "                              unit          comment       preparation  \\\n",
       "recipe  ingredient                                                      \n",
       "1828339 8                    pinch             <NA>              <NA>   \n",
       "        9                    pinch             <NA>              <NA>   \n",
       "1703    3                      jar             <NA>              <NA>   \n",
       "382666  1                   sticks             <NA>              <NA>   \n",
       "2195357 0                  Cutlets             <NA>              <NA>   \n",
       "...                            ...              ...               ...   \n",
       "2177242 3                    heads  white part only    finely chopped   \n",
       "64662   0                    stick             <NA>          softened   \n",
       "1936429 1                   cloves             <NA>  coarsely chopped   \n",
       "1401651 4           generous pinch             <NA>              <NA>   \n",
       "1357213 2                   sticks             <NA>              <NA>   \n",
       "\n",
       "                                                   ingredient_string  \\\n",
       "recipe  ingredient                                                     \n",
       "1828339 8                                    1 pinch ground cinnamon   \n",
       "        9                                    1 pinch ground allspice   \n",
       "1703    3                                            1 jar mincemeat   \n",
       "382666  1                                        1 1/2 sticks butter   \n",
       "2195357 0                                  4 x Cutlets blue-eyed cod   \n",
       "...                                                              ...   \n",
       "2177242 3           3 scallion heads white part only, finely chopped   \n",
       "64662   0                                1 stick margarine, softened   \n",
       "1936429 1                          2 cloves garlic, coarsely chopped   \n",
       "1401651 4                             generous pinches ras el hanout   \n",
       "1357213 2                                            2 sticks butter   \n",
       "\n",
       "                   unit_tags    unit_remainders unit_type  \n",
       "recipe  ingredient                                         \n",
       "1828339 8                 []            [pinch]   portion  \n",
       "        9                 []            [pinch]   portion  \n",
       "1703    3                 []              [jar]   portion  \n",
       "382666  1                 []            [stick]   portion  \n",
       "2195357 0                 []           [cutlet]   portion  \n",
       "...                      ...                ...       ...  \n",
       "2177242 3                 []             [head]   portion  \n",
       "64662   0                 []            [stick]   portion  \n",
       "1936429 1                 []            [clove]   portion  \n",
       "1401651 4                 []  [generous, pinch]   portion  \n",
       "1357213 2                 []            [stick]   portion  \n",
       "\n",
       "[154 rows x 10 columns]"
      ]
     },
     "execution_count": 91,
     "metadata": {},
     "output_type": "execute_result"
    }
   ],
   "source": [
    "ingredients_df[(ingredients_df['unit_tags'].str.len() == 0) & (ingredients_df['unit'] != '')]"
   ]
  },
  {
   "cell_type": "code",
   "execution_count": 92,
   "metadata": {
    "execution": {
     "iopub.execute_input": "2024-02-11T11:20:02.661821Z",
     "iopub.status.busy": "2024-02-11T11:20:02.661741Z",
     "iopub.status.idle": "2024-02-11T11:20:02.663973Z",
     "shell.execute_reply": "2024-02-11T11:20:02.663806Z"
    }
   },
   "outputs": [
    {
     "data": {
      "text/plain": [
       "unit_type\n",
       "volume     1497\n",
       "portion     815\n",
       "weight      182\n",
       "Name: count, dtype: int64"
      ]
     },
     "execution_count": 92,
     "metadata": {},
     "output_type": "execute_result"
    }
   ],
   "source": [
    "ingredients_df['unit_type'].value_counts()"
   ]
  },
  {
   "cell_type": "code",
   "execution_count": 93,
   "metadata": {
    "execution": {
     "iopub.execute_input": "2024-02-11T11:20:02.664941Z",
     "iopub.status.busy": "2024-02-11T11:20:02.664863Z",
     "iopub.status.idle": "2024-02-11T11:20:02.666554Z",
     "shell.execute_reply": "2024-02-11T11:20:02.666374Z"
    }
   },
   "outputs": [],
   "source": [
    "ingredients_df['unit_type'] = ingredients_df['unit_type'].astype('category')"
   ]
  },
  {
   "cell_type": "markdown",
   "metadata": {},
   "source": [
    "# Creating Expanded Ingredients DF"
   ]
  },
  {
   "cell_type": "markdown",
   "metadata": {},
   "source": [
    "What we want here is to set the dataframe up for use in other sections/modules. All of these steps should go here.\n",
    "\n",
    "This includes:\n",
    "- removing unnecessary columns\n",
    "- cleaning data\n",
    "- homogenising data as above"
   ]
  },
  {
   "cell_type": "markdown",
   "metadata": {},
   "source": [
    "Here we do any dataframe operations required for the joining. This is done to the full dataframe at the beginning, to have them all ready for the join operation, preventing the computations being done numerous times."
   ]
  },
  {
   "cell_type": "markdown",
   "metadata": {},
   "source": [
    "## Extracting Search Terms"
   ]
  },
  {
   "cell_type": "markdown",
   "metadata": {},
   "source": [
    "The next chapters will involve joining various dataframes with this one ie. matching these ingredients with those of other dataframes through searching through them in a methodical manner. To do this we have devised a function that takes in a list of **orderd** search terms, using these to refine the search towards the best match. This can be arranged as a set of columns for each ingredient.\n",
    "\n",
    "Emphasis is put onto the ordering of these search terms, as we want to carefully lead our search to the match, avoiding getting stuck in incorrect searches. The rest of this section will do this by ordering the columns, and extracting their information in a methodical way."
   ]
  },
  {
   "cell_type": "markdown",
   "metadata": {},
   "source": [
    "### Selecting Columns"
   ]
  },
  {
   "cell_type": "markdown",
   "metadata": {},
   "source": [
    "#decision\n",
    "\n",
    "Here decisions need to be made in selecting which part of the ingredient info we need for searching. We want to get a specific match on an ingredient, but again we must make sure to avoid 'over-searching' and matching with an obscure ingredient.\n",
    "\n",
    "We definitely don't want to include information about how an ingredient should be prepared, do we want comments? Comments seem to cause more harm than good in the search, so these are removed."
   ]
  },
  {
   "cell_type": "code",
   "execution_count": 94,
   "metadata": {
    "execution": {
     "iopub.execute_input": "2024-02-11T11:20:02.667627Z",
     "iopub.status.busy": "2024-02-11T11:20:02.667552Z",
     "iopub.status.idle": "2024-02-11T11:20:02.669240Z",
     "shell.execute_reply": "2024-02-11T11:20:02.669075Z"
    }
   },
   "outputs": [
    {
     "data": {
      "text/plain": [
       "(2494, 10)"
      ]
     },
     "execution_count": 94,
     "metadata": {},
     "output_type": "execute_result"
    }
   ],
   "source": [
    "ingredients_df.shape"
   ]
  },
  {
   "cell_type": "markdown",
   "metadata": {},
   "source": [
    "#### Nouns Separation"
   ]
  },
  {
   "cell_type": "markdown",
   "metadata": {},
   "source": [
    "When it comes to matching the ingredient string, nouns are the most important search term. Adjectives matches are more optional, and sometimes hinder results by matching with oddly specific matches that are too detailed and stem away from the base ingredient. ie. chopped onion matching with \"chicken breast with chopped onion and chopped pepper.\" instead of simply \"onion\"."
   ]
  },
  {
   "cell_type": "code",
   "execution_count": 95,
   "metadata": {
    "execution": {
     "iopub.execute_input": "2024-02-11T11:20:02.670171Z",
     "iopub.status.busy": "2024-02-11T11:20:02.670037Z",
     "iopub.status.idle": "2024-02-11T11:20:02.672082Z",
     "shell.execute_reply": "2024-02-11T11:20:02.671916Z"
    }
   },
   "outputs": [
    {
     "data": {
      "text/plain": [
       "[('red', 'JJ'), ('bell', 'NN'), ('pepper', 'IN')]"
      ]
     },
     "execution_count": 95,
     "metadata": {},
     "output_type": "execute_result"
    }
   ],
   "source": [
    "nltk.pos_tag(mt.tokenize('red bell pepper'))"
   ]
  },
  {
   "cell_type": "markdown",
   "metadata": {},
   "source": [
    "One more point of note, the tag of a word depends on its position relative to other words. This can cause issues when stripping words away."
   ]
  },
  {
   "cell_type": "code",
   "execution_count": 96,
   "metadata": {
    "execution": {
     "iopub.execute_input": "2024-02-11T11:20:02.672938Z",
     "iopub.status.busy": "2024-02-11T11:20:02.672886Z",
     "iopub.status.idle": "2024-02-11T11:20:02.675531Z",
     "shell.execute_reply": "2024-02-11T11:20:02.675366Z"
    }
   },
   "outputs": [
    {
     "data": {
      "text/plain": [
       "([{'word': 'chopped', 'tag': 'adj'}, {'word': 'onions', 'tag': 'noun'}],\n",
       " [{'word': 'chopped', 'tag': 'noun'}, {'word': 'onion', 'tag': 'noun'}])"
      ]
     },
     "execution_count": 96,
     "metadata": {},
     "output_type": "execute_result"
    }
   ],
   "source": [
    "assert tag_ingredient_string('chopped onions') != [*tag_ingredient_string('chopped'), *tag_ingredient_string('onion')]\n",
    "tag_ingredient_string('chopped onions'), [*tag_ingredient_string('chopped'), *tag_ingredient_string('onion')]"
   ]
  },
  {
   "cell_type": "markdown",
   "metadata": {},
   "source": [
    "It would be best if we instead tagged the list before this was split.\n",
    "\n",
    "Here we want to perform it on `name.full`, then find the indices at which the `name.name` and `name.description` was split, use these to find the tags of the string at that index, and match that to the original tags."
   ]
  },
  {
   "cell_type": "code",
   "execution_count": 97,
   "metadata": {
    "execution": {
     "iopub.execute_input": "2024-02-11T11:20:02.676344Z",
     "iopub.status.busy": "2024-02-11T11:20:02.676291Z",
     "iopub.status.idle": "2024-02-11T11:20:02.677864Z",
     "shell.execute_reply": "2024-02-11T11:20:02.677691Z"
    }
   },
   "outputs": [],
   "source": [
    "#| export\n",
    "def tokenize_with_spans(txt):\n",
    "    tokens=mt.tokenize(txt)\n",
    "    offset = 0\n",
    "    for token in tokens:\n",
    "        offset = txt.find(token, offset)\n",
    "        yield token, offset, offset+len(token)\n",
    "        offset += len(token)"
   ]
  },
  {
   "cell_type": "code",
   "execution_count": 98,
   "metadata": {
    "execution": {
     "iopub.execute_input": "2024-02-11T11:20:02.678694Z",
     "iopub.status.busy": "2024-02-11T11:20:02.678620Z",
     "iopub.status.idle": "2024-02-11T11:20:02.680386Z",
     "shell.execute_reply": "2024-02-11T11:20:02.680223Z"
    }
   },
   "outputs": [
    {
     "data": {
      "text/plain": [
       "[('red', 0, 3), ('bell', 4, 8), ('pepper', 9, 15)]"
      ]
     },
     "execution_count": 98,
     "metadata": {},
     "output_type": "execute_result"
    }
   ],
   "source": [
    "list(tokenize_with_spans('red bell pepper'))"
   ]
  },
  {
   "cell_type": "code",
   "execution_count": 99,
   "metadata": {
    "execution": {
     "iopub.execute_input": "2024-02-11T11:20:02.681192Z",
     "iopub.status.busy": "2024-02-11T11:20:02.681135Z",
     "iopub.status.idle": "2024-02-11T11:20:02.684437Z",
     "shell.execute_reply": "2024-02-11T11:20:02.684271Z"
    }
   },
   "outputs": [
    {
     "data": {
      "text/plain": [
       "name.name                      butter\n",
       "name.description           buttermilk\n",
       "quantity                          1.0\n",
       "unit                              cup\n",
       "comment                          <NA>\n",
       "preparation                      <NA>\n",
       "ingredient_string    1 cup buttermilk\n",
       "unit_tags                       [cup]\n",
       "unit_remainders                    []\n",
       "unit_type                      volume\n",
       "Name: (58195, 4), dtype: object"
      ]
     },
     "execution_count": 99,
     "metadata": {},
     "output_type": "execute_result"
    }
   ],
   "source": [
    "ingredient = ingredients_df.loc[58195, 4]\n",
    "ingredient"
   ]
  },
  {
   "cell_type": "code",
   "execution_count": 100,
   "metadata": {
    "execution": {
     "iopub.execute_input": "2024-02-11T11:20:02.685250Z",
     "iopub.status.busy": "2024-02-11T11:20:02.685197Z",
     "iopub.status.idle": "2024-02-11T11:20:02.686723Z",
     "shell.execute_reply": "2024-02-11T11:20:02.686550Z"
    }
   },
   "outputs": [],
   "source": [
    "#| export\n",
    "def get_match_idxs(ingredient_string, search_string):\n",
    "    idx = ingredient_string.find(search_string)\n",
    "    if idx == -1: \n",
    "        return None\n",
    "    return set(range(idx, idx+len(search_string)))"
   ]
  },
  {
   "cell_type": "code",
   "execution_count": 101,
   "metadata": {
    "execution": {
     "iopub.execute_input": "2024-02-11T11:20:02.687611Z",
     "iopub.status.busy": "2024-02-11T11:20:02.687461Z",
     "iopub.status.idle": "2024-02-11T11:20:02.688875Z",
     "shell.execute_reply": "2024-02-11T11:20:02.688710Z"
    }
   },
   "outputs": [],
   "source": [
    "assert get_match_idxs('1/2 cup sugar', 'sugar') == set(range(8,13))\n",
    "assert get_match_idxs('8 ounces blueberries', 'blueberry') == None"
   ]
  },
  {
   "cell_type": "code",
   "execution_count": 102,
   "metadata": {
    "execution": {
     "iopub.execute_input": "2024-02-11T11:20:02.689794Z",
     "iopub.status.busy": "2024-02-11T11:20:02.689628Z",
     "iopub.status.idle": "2024-02-11T11:20:02.692309Z",
     "shell.execute_reply": "2024-02-11T11:20:02.692123Z"
    }
   },
   "outputs": [],
   "source": [
    "#| export\n",
    "def split_nouns(ingredient_string, cut_string):\n",
    "\n",
    "    if not cut_string: return ([], [])\n",
    "\n",
    "    # getting tags of full string\n",
    "    tokens_spanned = list(tokenize_with_spans(ingredient_string))\n",
    "    tokens_spanned_tags = nltk.pos_tag(list(zip(*tokens_spanned))[0])\n",
    "    if tokens_spanned_tags: tokens_spanned_tags[-1] = (tokens_spanned_tags[-1][0], 'NN') # setting last word as noun (as this is describing item)\n",
    "    tokens_spanned_tagged = [word[0] + word[1] for word in list(zip(tokens_spanned, tokens_spanned_tags))] # joining the two together\n",
    "    tokens_spanned_tagged = list(zip(*[t for i, t in enumerate(list(zip(*tokens_spanned_tagged))) if i != 3])) # removing 3rd index of each tuple in list\n",
    "    \n",
    "    # using full string tags to tag cut string\n",
    "    match_idxs = get_match_idxs(ingredient_string, cut_string)\n",
    "    if not match_idxs: return pd.NA, pd.NA\n",
    "    tags = [t for t in tokens_spanned_tagged if match_idxs.intersection(range(*t[1:3]))]\n",
    "    \n",
    "    # splitting nouns\n",
    "    tags_split = [t[0] for t in tags if t[3].startswith('NN')], [t[0] for t in tags if not t[3].startswith('NN')]\n",
    "\n",
    "    # limit to 6 words for each split\n",
    "    tags_split = tuple([tags[0:6] for tags in tags_split])\n",
    "\n",
    "    return tags_split"
   ]
  },
  {
   "cell_type": "code",
   "execution_count": 103,
   "metadata": {
    "execution": {
     "iopub.execute_input": "2024-02-11T11:20:02.693332Z",
     "iopub.status.busy": "2024-02-11T11:20:02.693192Z",
     "iopub.status.idle": "2024-02-11T11:20:02.695507Z",
     "shell.execute_reply": "2024-02-11T11:20:02.695325Z"
    }
   },
   "outputs": [],
   "source": [
    "assert split_nouns('1/2 cup granulated sugar', 'granulated sugar') == (['sugar'], ['granulated'])\n",
    "assert split_nouns('8 ounces blueberries', 'blueberry') == (pd.NA, pd.NA)\n",
    "assert split_nouns('8 ounces blueberries', '') == ([], [])\n",
    "assert split_nouns('red bell pepper', 'red bell pepper') == (['bell','pepper'], ['red']) # final word should be noun always"
   ]
  },
  {
   "cell_type": "code",
   "execution_count": 104,
   "metadata": {
    "execution": {
     "iopub.execute_input": "2024-02-11T11:20:02.696381Z",
     "iopub.status.busy": "2024-02-11T11:20:02.696271Z",
     "iopub.status.idle": "2024-02-11T11:20:02.698184Z",
     "shell.execute_reply": "2024-02-11T11:20:02.697991Z"
    }
   },
   "outputs": [],
   "source": [
    "#| export\n",
    "def split_ingredient_fields_by_noun(ingredient, debug=False):\n",
    "    for col in ingredient.index:\n",
    "        if col == 'ingredient_string': continue\n",
    "        ingredient[col + '.nouns'], ingredient[col + '.others'] = split_nouns(ingredient['name.description'], ingredient[col])\n",
    "        if debug:\n",
    "            if ingredient[col] != '' and (len(ingredient[col + '.nouns']) + len(ingredient[col + '.others']) == 0):\n",
    "                print('WARN: Missing ingredient tags', ingredient.name, col, ingredient[col], ingredient['ingredient_string'], sep=' | ')\n",
    "    return ingredient"
   ]
  },
  {
   "cell_type": "code",
   "execution_count": 105,
   "metadata": {
    "execution": {
     "iopub.execute_input": "2024-02-11T11:20:02.699008Z",
     "iopub.status.busy": "2024-02-11T11:20:02.698912Z",
     "iopub.status.idle": "2024-02-11T11:20:04.834849Z",
     "shell.execute_reply": "2024-02-11T11:20:04.834655Z"
    }
   },
   "outputs": [
    {
     "data": {
      "text/html": [
       "<div>\n",
       "<style scoped>\n",
       "    .dataframe tbody tr th:only-of-type {\n",
       "        vertical-align: middle;\n",
       "    }\n",
       "\n",
       "    .dataframe tbody tr th {\n",
       "        vertical-align: top;\n",
       "    }\n",
       "\n",
       "    .dataframe thead th {\n",
       "        text-align: right;\n",
       "    }\n",
       "</style>\n",
       "<table border=\"1\" class=\"dataframe\">\n",
       "  <thead>\n",
       "    <tr style=\"text-align: right;\">\n",
       "      <th></th>\n",
       "      <th></th>\n",
       "      <th>name.name.nouns</th>\n",
       "      <th>name.name.others</th>\n",
       "      <th>name.description.nouns</th>\n",
       "      <th>name.description.others</th>\n",
       "    </tr>\n",
       "    <tr>\n",
       "      <th>recipe</th>\n",
       "      <th>ingredient</th>\n",
       "      <th></th>\n",
       "      <th></th>\n",
       "      <th></th>\n",
       "      <th></th>\n",
       "    </tr>\n",
       "  </thead>\n",
       "  <tbody>\n",
       "    <tr>\n",
       "      <th rowspan=\"5\" valign=\"top\">1746116</th>\n",
       "      <th>0</th>\n",
       "      <td>[Butter]</td>\n",
       "      <td>[]</td>\n",
       "      <td>[Land, O, Lakes, Butter]</td>\n",
       "      <td>[]</td>\n",
       "    </tr>\n",
       "    <tr>\n",
       "      <th>1</th>\n",
       "      <td>[sugar]</td>\n",
       "      <td>[]</td>\n",
       "      <td>[sugar]</td>\n",
       "      <td>[]</td>\n",
       "    </tr>\n",
       "    <tr>\n",
       "      <th>2</th>\n",
       "      <td>[Eggs]</td>\n",
       "      <td>[]</td>\n",
       "      <td>[Land, O, Lakes, Eggs]</td>\n",
       "      <td>[]</td>\n",
       "    </tr>\n",
       "    <tr>\n",
       "      <th>3</th>\n",
       "      <td>[vanilla]</td>\n",
       "      <td>[]</td>\n",
       "      <td>[vanilla]</td>\n",
       "      <td>[]</td>\n",
       "    </tr>\n",
       "    <tr>\n",
       "      <th>4</th>\n",
       "      <td>[flour]</td>\n",
       "      <td>[]</td>\n",
       "      <td>[flour]</td>\n",
       "      <td>[all-purpose]</td>\n",
       "    </tr>\n",
       "  </tbody>\n",
       "</table>\n",
       "</div>"
      ],
      "text/plain": [
       "                   name.name.nouns name.name.others    name.description.nouns  \\\n",
       "recipe  ingredient                                                              \n",
       "1746116 0                 [Butter]               []  [Land, O, Lakes, Butter]   \n",
       "        1                  [sugar]               []                   [sugar]   \n",
       "        2                   [Eggs]               []    [Land, O, Lakes, Eggs]   \n",
       "        3                [vanilla]               []                 [vanilla]   \n",
       "        4                  [flour]               []                   [flour]   \n",
       "\n",
       "                   name.description.others  \n",
       "recipe  ingredient                          \n",
       "1746116 0                               []  \n",
       "        1                               []  \n",
       "        2                               []  \n",
       "        3                               []  \n",
       "        4                    [all-purpose]  "
      ]
     },
     "execution_count": 105,
     "metadata": {},
     "output_type": "execute_result"
    }
   ],
   "source": [
    "expanded_ingredients_df = ingredients_df[['name.name', 'name.description', 'ingredient_string']]\n",
    "expanded_ingredients_df = expanded_ingredients_df.apply(split_ingredient_fields_by_noun, axis=1)\n",
    "\n",
    "expanded_ingredients_df.drop([col for col in expanded_ingredients_df.columns if not any(s in col for s in ['nouns', 'others'])], axis=1, inplace=True)\n",
    "expanded_ingredients_df.head()"
   ]
  },
  {
   "cell_type": "code",
   "execution_count": 106,
   "metadata": {
    "execution": {
     "iopub.execute_input": "2024-02-11T11:20:04.836090Z",
     "iopub.status.busy": "2024-02-11T11:20:04.836027Z",
     "iopub.status.idle": "2024-02-11T11:20:04.838658Z",
     "shell.execute_reply": "2024-02-11T11:20:04.838491Z"
    }
   },
   "outputs": [
    {
     "data": {
      "text/plain": [
       "name.name                          onion\n",
       "name.description                   onion\n",
       "quantity                             1.0\n",
       "unit                                 cup\n",
       "comment                             <NA>\n",
       "preparation                      chopped\n",
       "ingredient_string    1 cup chopped onion\n",
       "unit_tags                          [cup]\n",
       "unit_remainders                       []\n",
       "unit_type                         volume\n",
       "Name: (767911, 1), dtype: object"
      ]
     },
     "execution_count": 106,
     "metadata": {},
     "output_type": "execute_result"
    }
   ],
   "source": [
    "ingredients_df.loc[767911, 1]"
   ]
  },
  {
   "cell_type": "code",
   "execution_count": 107,
   "metadata": {
    "execution": {
     "iopub.execute_input": "2024-02-11T11:20:04.839822Z",
     "iopub.status.busy": "2024-02-11T11:20:04.839685Z",
     "iopub.status.idle": "2024-02-11T11:20:04.846660Z",
     "shell.execute_reply": "2024-02-11T11:20:04.846493Z"
    }
   },
   "outputs": [
    {
     "data": {
      "text/plain": [
       "Index(['name.name.nouns.0', 'name.name.nouns.1', 'name.name.nouns.2',\n",
       "       'name.name.nouns.3', 'name.name.nouns.4', 'name.name.others.0',\n",
       "       'name.name.others.1', 'name.name.others.2', 'name.name.others.3',\n",
       "       'name.description.nouns.0', 'name.description.nouns.1',\n",
       "       'name.description.nouns.2', 'name.description.nouns.3',\n",
       "       'name.description.nouns.4', 'name.description.nouns.5',\n",
       "       'name.description.others.0', 'name.description.others.1',\n",
       "       'name.description.others.2', 'name.description.others.3',\n",
       "       'name.description.others.4', 'name.description.others.5'],\n",
       "      dtype='object')"
      ]
     },
     "execution_count": 107,
     "metadata": {},
     "output_type": "execute_result"
    }
   ],
   "source": [
    "# split expand lists into individual columns\n",
    "original_cols = expanded_ingredients_df.columns\n",
    "for expand_col in original_cols:\n",
    "    expanded = pd.DataFrame(expanded_ingredients_df[expand_col].tolist(), index=expanded_ingredients_df.index)\n",
    "    expanded.columns = [expand_col + '.' + str(c) for c in expanded.columns]\n",
    "    expanded_ingredients_df = expanded_ingredients_df.join(expanded)\n",
    "expanded_ingredients_df.drop(columns=original_cols, inplace=True)\n",
    "expanded_ingredients_df.columns"
   ]
  },
  {
   "cell_type": "code",
   "execution_count": 108,
   "metadata": {
    "execution": {
     "iopub.execute_input": "2024-02-11T11:20:04.847809Z",
     "iopub.status.busy": "2024-02-11T11:20:04.847680Z",
     "iopub.status.idle": "2024-02-11T11:20:04.853683Z",
     "shell.execute_reply": "2024-02-11T11:20:04.853483Z"
    }
   },
   "outputs": [
    {
     "name": "stdout",
     "output_type": "stream",
     "text": [
      "[string[python], string[python], string[python], string[python], string[python], string[python], string[python], string[python], string[python], string[python], string[python], string[python], string[python], string[python], string[python], string[python], string[python], string[python], string[python], string[python], string[python]]\n"
     ]
    }
   ],
   "source": [
    "expanded_ingredients_df = expanded_ingredients_df.convert_dtypes()\n",
    "print(list(expanded_ingredients_df.dtypes))"
   ]
  },
  {
   "cell_type": "markdown",
   "metadata": {},
   "source": [
    "## Reversing Column Order"
   ]
  },
  {
   "cell_type": "markdown",
   "metadata": {},
   "source": [
    "When dealing with nouns, most of the time gramatically the most important and core noun comes last. eg. 'apple cider vinegar' where 'vinegar' is the core ingredient."
   ]
  },
  {
   "cell_type": "code",
   "execution_count": 109,
   "metadata": {
    "execution": {
     "iopub.execute_input": "2024-02-11T11:20:04.854791Z",
     "iopub.status.busy": "2024-02-11T11:20:04.854694Z",
     "iopub.status.idle": "2024-02-11T11:20:04.858362Z",
     "shell.execute_reply": "2024-02-11T11:20:04.858195Z"
    }
   },
   "outputs": [
    {
     "data": {
      "text/plain": [
       "Index(['name.name.nouns.4', 'name.name.nouns.3', 'name.name.nouns.2',\n",
       "       'name.name.nouns.1', 'name.name.nouns.0', 'name.name.others.0',\n",
       "       'name.name.others.1', 'name.name.others.2', 'name.name.others.3',\n",
       "       'name.description.nouns.5', 'name.description.nouns.4',\n",
       "       'name.description.nouns.3', 'name.description.nouns.2',\n",
       "       'name.description.nouns.1', 'name.description.nouns.0',\n",
       "       'name.description.others.0', 'name.description.others.1',\n",
       "       'name.description.others.2', 'name.description.others.3',\n",
       "       'name.description.others.4', 'name.description.others.5'],\n",
       "      dtype='object')"
      ]
     },
     "execution_count": 109,
     "metadata": {},
     "output_type": "execute_result"
    }
   ],
   "source": [
    "split_types = ['nouns', 'others']\n",
    "original_cols = list(dict.fromkeys([re.sub(r'\\.(nouns|others).*', '', c) for c in expanded_ingredients_df.columns]))\n",
    "reordered_cols = []\n",
    "for col in original_cols:\n",
    "    for word_type in split_types:\n",
    "        col_expanded = [c for c in expanded_ingredients_df.columns if col in c and word_type in c]\n",
    "        if word_type =='nouns': col_expanded.reverse()\n",
    "        reordered_cols.extend(col_expanded)\n",
    "\n",
    "reordered_cols\n",
    "    \n",
    "expanded_ingredients_df = expanded_ingredients_df[reordered_cols]\n",
    "expanded_ingredients_df.columns"
   ]
  },
  {
   "cell_type": "code",
   "execution_count": 110,
   "metadata": {
    "execution": {
     "iopub.execute_input": "2024-02-11T11:20:04.859421Z",
     "iopub.status.busy": "2024-02-11T11:20:04.859325Z",
     "iopub.status.idle": "2024-02-11T11:20:04.860698Z",
     "shell.execute_reply": "2024-02-11T11:20:04.860534Z"
    }
   },
   "outputs": [],
   "source": [
    "assert int(expanded_ingredients_df.columns[0].split('.')[-1]) > 0"
   ]
  },
  {
   "cell_type": "markdown",
   "metadata": {},
   "source": [
    "For more accurate grammar tagging, we preferred the description to contain the full string. To make sure we're not searching for the same search term twice we can now remove them here ready for exporting."
   ]
  },
  {
   "cell_type": "code",
   "execution_count": 111,
   "metadata": {
    "execution": {
     "iopub.execute_input": "2024-02-11T11:20:04.861681Z",
     "iopub.status.busy": "2024-02-11T11:20:04.861601Z",
     "iopub.status.idle": "2024-02-11T11:20:04.863816Z",
     "shell.execute_reply": "2024-02-11T11:20:04.863509Z"
    }
   },
   "outputs": [],
   "source": [
    "#| export\n",
    "def remove_name_from_description(ingredient):\n",
    "    ingredient_cols = ingredient[ingredient.notnull()].index\n",
    "    ingredient_name_cols = ingredient_cols[ingredient_cols.str.startswith('name.name')]\n",
    "    ingredient_desc_cols = ingredient_cols[ingredient_cols.str.startswith('name.description')]\n",
    "    matching_cols = ingredient[ingredient_desc_cols][ingredient[ingredient_desc_cols].apply(lambda x: x in ingredient[ingredient_name_cols].values)].index\n",
    "    ingredient[matching_cols] = pd.NA\n",
    "    return ingredient"
   ]
  },
  {
   "cell_type": "code",
   "execution_count": 112,
   "metadata": {
    "execution": {
     "iopub.execute_input": "2024-02-11T11:20:04.864841Z",
     "iopub.status.busy": "2024-02-11T11:20:04.864656Z",
     "iopub.status.idle": "2024-02-11T11:20:04.867180Z",
     "shell.execute_reply": "2024-02-11T11:20:04.866943Z"
    }
   },
   "outputs": [
    {
     "data": {
      "text/plain": [
       "name.name.nouns.4              <NA>\n",
       "name.name.nouns.3              <NA>\n",
       "name.name.nouns.2              <NA>\n",
       "name.name.nouns.1              <NA>\n",
       "name.name.nouns.0            Butter\n",
       "name.name.others.0             <NA>\n",
       "name.name.others.1             <NA>\n",
       "name.name.others.2             <NA>\n",
       "name.name.others.3             <NA>\n",
       "name.description.nouns.5       <NA>\n",
       "name.description.nouns.4       <NA>\n",
       "name.description.nouns.3     Butter\n",
       "name.description.nouns.2      Lakes\n",
       "name.description.nouns.1          O\n",
       "name.description.nouns.0       Land\n",
       "name.description.others.0      <NA>\n",
       "name.description.others.1      <NA>\n",
       "name.description.others.2      <NA>\n",
       "name.description.others.3      <NA>\n",
       "name.description.others.4      <NA>\n",
       "name.description.others.5      <NA>\n",
       "Name: (1746116, 0), dtype: string"
      ]
     },
     "execution_count": 112,
     "metadata": {},
     "output_type": "execute_result"
    }
   ],
   "source": [
    "expanded_ingredient = expanded_ingredients_df.iloc[0]\n",
    "expanded_ingredient"
   ]
  },
  {
   "cell_type": "code",
   "execution_count": 113,
   "metadata": {
    "execution": {
     "iopub.execute_input": "2024-02-11T11:20:04.868118Z",
     "iopub.status.busy": "2024-02-11T11:20:04.868024Z",
     "iopub.status.idle": "2024-02-11T11:20:04.870690Z",
     "shell.execute_reply": "2024-02-11T11:20:04.870450Z"
    }
   },
   "outputs": [],
   "source": [
    "assert pd.isna(remove_name_from_description(expanded_ingredient)['name.description.nouns.3'])"
   ]
  },
  {
   "cell_type": "code",
   "execution_count": 114,
   "metadata": {
    "execution": {
     "iopub.execute_input": "2024-02-11T11:20:04.871686Z",
     "iopub.status.busy": "2024-02-11T11:20:04.871540Z",
     "iopub.status.idle": "2024-02-11T11:20:06.791395Z",
     "shell.execute_reply": "2024-02-11T11:20:06.791068Z"
    }
   },
   "outputs": [],
   "source": [
    "expanded_ingredients_df = expanded_ingredients_df.apply(remove_name_from_description, axis=1)"
   ]
  },
  {
   "cell_type": "code",
   "execution_count": 115,
   "metadata": {
    "execution": {
     "iopub.execute_input": "2024-02-11T11:20:06.792876Z",
     "iopub.status.busy": "2024-02-11T11:20:06.792812Z",
     "iopub.status.idle": "2024-02-11T11:20:06.794746Z",
     "shell.execute_reply": "2024-02-11T11:20:06.794576Z"
    }
   },
   "outputs": [],
   "source": [
    "assert pd.isna(expanded_ingredients_df.iloc[0])['name.description.nouns.3']"
   ]
  },
  {
   "cell_type": "markdown",
   "metadata": {},
   "source": [
    "# Preprocessing (2)"
   ]
  },
  {
   "cell_type": "markdown",
   "metadata": {},
   "source": [
    "Preprocessing stages to be applied after the `expanded_ingredients_df` has been created."
   ]
  },
  {
   "cell_type": "markdown",
   "metadata": {},
   "source": [
    "## Cleaning Columns"
   ]
  },
  {
   "cell_type": "markdown",
   "metadata": {},
   "source": [
    "Note this was saved until after separating nouns/others in case it altered phrases."
   ]
  },
  {
   "cell_type": "code",
   "execution_count": 116,
   "metadata": {
    "execution": {
     "iopub.execute_input": "2024-02-11T11:20:06.795902Z",
     "iopub.status.busy": "2024-02-11T11:20:06.795810Z",
     "iopub.status.idle": "2024-02-11T11:20:06.947990Z",
     "shell.execute_reply": "2024-02-11T11:20:06.947719Z"
    }
   },
   "outputs": [
    {
     "data": {
      "text/html": [
       "<div>\n",
       "<style scoped>\n",
       "    .dataframe tbody tr th:only-of-type {\n",
       "        vertical-align: middle;\n",
       "    }\n",
       "\n",
       "    .dataframe tbody tr th {\n",
       "        vertical-align: top;\n",
       "    }\n",
       "\n",
       "    .dataframe thead th {\n",
       "        text-align: right;\n",
       "    }\n",
       "</style>\n",
       "<table border=\"1\" class=\"dataframe\">\n",
       "  <thead>\n",
       "    <tr style=\"text-align: right;\">\n",
       "      <th></th>\n",
       "      <th></th>\n",
       "      <th>name.name</th>\n",
       "      <th>name.description</th>\n",
       "      <th>quantity</th>\n",
       "      <th>unit</th>\n",
       "      <th>comment</th>\n",
       "      <th>preparation</th>\n",
       "      <th>ingredient_string</th>\n",
       "      <th>unit_tags</th>\n",
       "      <th>unit_remainders</th>\n",
       "      <th>unit_type</th>\n",
       "    </tr>\n",
       "    <tr>\n",
       "      <th>recipe</th>\n",
       "      <th>ingredient</th>\n",
       "      <th></th>\n",
       "      <th></th>\n",
       "      <th></th>\n",
       "      <th></th>\n",
       "      <th></th>\n",
       "      <th></th>\n",
       "      <th></th>\n",
       "      <th></th>\n",
       "      <th></th>\n",
       "      <th></th>\n",
       "    </tr>\n",
       "  </thead>\n",
       "  <tbody>\n",
       "    <tr>\n",
       "      <th rowspan=\"5\" valign=\"top\">1746116</th>\n",
       "      <th>0</th>\n",
       "      <td>butter</td>\n",
       "      <td>land lake butter</td>\n",
       "      <td>0.667</td>\n",
       "      <td>cups</td>\n",
       "      <td>&lt;NA&gt;</td>\n",
       "      <td>softened</td>\n",
       "      <td>2/3 cup Land O Lakes Butter, softened</td>\n",
       "      <td>[cup]</td>\n",
       "      <td>[]</td>\n",
       "      <td>volume</td>\n",
       "    </tr>\n",
       "    <tr>\n",
       "      <th>1</th>\n",
       "      <td>sugar</td>\n",
       "      <td>sugar</td>\n",
       "      <td>0.5</td>\n",
       "      <td>cups</td>\n",
       "      <td>&lt;NA&gt;</td>\n",
       "      <td>&lt;NA&gt;</td>\n",
       "      <td>1/2 cup sugar</td>\n",
       "      <td>[cup]</td>\n",
       "      <td>[]</td>\n",
       "      <td>volume</td>\n",
       "    </tr>\n",
       "    <tr>\n",
       "      <th>2</th>\n",
       "      <td>egg</td>\n",
       "      <td>land lake egg</td>\n",
       "      <td>2.0</td>\n",
       "      <td>&lt;NA&gt;</td>\n",
       "      <td>(yolks only)</td>\n",
       "      <td>&lt;NA&gt;</td>\n",
       "      <td>2 Land O Lakes Eggs (yolks only)</td>\n",
       "      <td>[]</td>\n",
       "      <td>[]</td>\n",
       "      <td>portion</td>\n",
       "    </tr>\n",
       "    <tr>\n",
       "      <th>3</th>\n",
       "      <td>vanilla</td>\n",
       "      <td>vanilla</td>\n",
       "      <td>1.0</td>\n",
       "      <td>teaspoon</td>\n",
       "      <td>&lt;NA&gt;</td>\n",
       "      <td>&lt;NA&gt;</td>\n",
       "      <td>1 teaspoon vanilla</td>\n",
       "      <td>[teaspoon]</td>\n",
       "      <td>[]</td>\n",
       "      <td>volume</td>\n",
       "    </tr>\n",
       "    <tr>\n",
       "      <th>4</th>\n",
       "      <td>flour</td>\n",
       "      <td>all-purpose flour</td>\n",
       "      <td>1.5</td>\n",
       "      <td>cups</td>\n",
       "      <td>&lt;NA&gt;</td>\n",
       "      <td>&lt;NA&gt;</td>\n",
       "      <td>1 1/2 cups all-purpose flour</td>\n",
       "      <td>[cup]</td>\n",
       "      <td>[]</td>\n",
       "      <td>volume</td>\n",
       "    </tr>\n",
       "  </tbody>\n",
       "</table>\n",
       "</div>"
      ],
      "text/plain": [
       "                   name.name   name.description  quantity      unit  \\\n",
       "recipe  ingredient                                                    \n",
       "1746116 0             butter   land lake butter     0.667      cups   \n",
       "        1              sugar              sugar       0.5      cups   \n",
       "        2                egg      land lake egg       2.0      <NA>   \n",
       "        3            vanilla            vanilla       1.0  teaspoon   \n",
       "        4              flour  all-purpose flour       1.5      cups   \n",
       "\n",
       "                         comment preparation  \\\n",
       "recipe  ingredient                             \n",
       "1746116 0                   <NA>    softened   \n",
       "        1                   <NA>        <NA>   \n",
       "        2           (yolks only)        <NA>   \n",
       "        3                   <NA>        <NA>   \n",
       "        4                   <NA>        <NA>   \n",
       "\n",
       "                                        ingredient_string   unit_tags  \\\n",
       "recipe  ingredient                                                      \n",
       "1746116 0           2/3 cup Land O Lakes Butter, softened       [cup]   \n",
       "        1                                   1/2 cup sugar       [cup]   \n",
       "        2                2 Land O Lakes Eggs (yolks only)          []   \n",
       "        3                              1 teaspoon vanilla  [teaspoon]   \n",
       "        4                    1 1/2 cups all-purpose flour       [cup]   \n",
       "\n",
       "                   unit_remainders unit_type  \n",
       "recipe  ingredient                            \n",
       "1746116 0                       []    volume  \n",
       "        1                       []    volume  \n",
       "        2                       []   portion  \n",
       "        3                       []    volume  \n",
       "        4                       []    volume  "
      ]
     },
     "execution_count": 116,
     "metadata": {},
     "output_type": "execute_result"
    }
   ],
   "source": [
    "ingredients_df[['name.name', 'name.description']] = ingredients_df[['name.name', 'name.description']].map(clean_ingredient_string)\n",
    "ingredients_df.head()"
   ]
  },
  {
   "cell_type": "code",
   "execution_count": 117,
   "metadata": {
    "execution": {
     "iopub.execute_input": "2024-02-11T11:20:06.949151Z",
     "iopub.status.busy": "2024-02-11T11:20:06.949092Z",
     "iopub.status.idle": "2024-02-11T11:20:07.099481Z",
     "shell.execute_reply": "2024-02-11T11:20:07.099219Z"
    }
   },
   "outputs": [
    {
     "data": {
      "text/html": [
       "<div>\n",
       "<style scoped>\n",
       "    .dataframe tbody tr th:only-of-type {\n",
       "        vertical-align: middle;\n",
       "    }\n",
       "\n",
       "    .dataframe tbody tr th {\n",
       "        vertical-align: top;\n",
       "    }\n",
       "\n",
       "    .dataframe thead th {\n",
       "        text-align: right;\n",
       "    }\n",
       "</style>\n",
       "<table border=\"1\" class=\"dataframe\">\n",
       "  <thead>\n",
       "    <tr style=\"text-align: right;\">\n",
       "      <th></th>\n",
       "      <th></th>\n",
       "      <th>name.name.nouns.4</th>\n",
       "      <th>name.name.nouns.3</th>\n",
       "      <th>name.name.nouns.2</th>\n",
       "      <th>name.name.nouns.1</th>\n",
       "      <th>name.name.nouns.0</th>\n",
       "      <th>name.name.others.0</th>\n",
       "      <th>name.name.others.1</th>\n",
       "      <th>name.name.others.2</th>\n",
       "      <th>name.name.others.3</th>\n",
       "      <th>name.description.nouns.5</th>\n",
       "      <th>...</th>\n",
       "      <th>name.description.nouns.3</th>\n",
       "      <th>name.description.nouns.2</th>\n",
       "      <th>name.description.nouns.1</th>\n",
       "      <th>name.description.nouns.0</th>\n",
       "      <th>name.description.others.0</th>\n",
       "      <th>name.description.others.1</th>\n",
       "      <th>name.description.others.2</th>\n",
       "      <th>name.description.others.3</th>\n",
       "      <th>name.description.others.4</th>\n",
       "      <th>name.description.others.5</th>\n",
       "    </tr>\n",
       "    <tr>\n",
       "      <th>recipe</th>\n",
       "      <th>ingredient</th>\n",
       "      <th></th>\n",
       "      <th></th>\n",
       "      <th></th>\n",
       "      <th></th>\n",
       "      <th></th>\n",
       "      <th></th>\n",
       "      <th></th>\n",
       "      <th></th>\n",
       "      <th></th>\n",
       "      <th></th>\n",
       "      <th></th>\n",
       "      <th></th>\n",
       "      <th></th>\n",
       "      <th></th>\n",
       "      <th></th>\n",
       "      <th></th>\n",
       "      <th></th>\n",
       "      <th></th>\n",
       "      <th></th>\n",
       "      <th></th>\n",
       "      <th></th>\n",
       "    </tr>\n",
       "  </thead>\n",
       "  <tbody>\n",
       "    <tr>\n",
       "      <th rowspan=\"5\" valign=\"top\">1746116</th>\n",
       "      <th>0</th>\n",
       "      <td>&lt;NA&gt;</td>\n",
       "      <td>&lt;NA&gt;</td>\n",
       "      <td>&lt;NA&gt;</td>\n",
       "      <td>&lt;NA&gt;</td>\n",
       "      <td>butter</td>\n",
       "      <td>&lt;NA&gt;</td>\n",
       "      <td>&lt;NA&gt;</td>\n",
       "      <td>&lt;NA&gt;</td>\n",
       "      <td>&lt;NA&gt;</td>\n",
       "      <td>&lt;NA&gt;</td>\n",
       "      <td>...</td>\n",
       "      <td>&lt;NA&gt;</td>\n",
       "      <td>lake</td>\n",
       "      <td>&lt;NA&gt;</td>\n",
       "      <td>land</td>\n",
       "      <td>&lt;NA&gt;</td>\n",
       "      <td>&lt;NA&gt;</td>\n",
       "      <td>&lt;NA&gt;</td>\n",
       "      <td>&lt;NA&gt;</td>\n",
       "      <td>&lt;NA&gt;</td>\n",
       "      <td>&lt;NA&gt;</td>\n",
       "    </tr>\n",
       "    <tr>\n",
       "      <th>1</th>\n",
       "      <td>&lt;NA&gt;</td>\n",
       "      <td>&lt;NA&gt;</td>\n",
       "      <td>&lt;NA&gt;</td>\n",
       "      <td>&lt;NA&gt;</td>\n",
       "      <td>sugar</td>\n",
       "      <td>&lt;NA&gt;</td>\n",
       "      <td>&lt;NA&gt;</td>\n",
       "      <td>&lt;NA&gt;</td>\n",
       "      <td>&lt;NA&gt;</td>\n",
       "      <td>&lt;NA&gt;</td>\n",
       "      <td>...</td>\n",
       "      <td>&lt;NA&gt;</td>\n",
       "      <td>&lt;NA&gt;</td>\n",
       "      <td>&lt;NA&gt;</td>\n",
       "      <td>&lt;NA&gt;</td>\n",
       "      <td>&lt;NA&gt;</td>\n",
       "      <td>&lt;NA&gt;</td>\n",
       "      <td>&lt;NA&gt;</td>\n",
       "      <td>&lt;NA&gt;</td>\n",
       "      <td>&lt;NA&gt;</td>\n",
       "      <td>&lt;NA&gt;</td>\n",
       "    </tr>\n",
       "    <tr>\n",
       "      <th>2</th>\n",
       "      <td>&lt;NA&gt;</td>\n",
       "      <td>&lt;NA&gt;</td>\n",
       "      <td>&lt;NA&gt;</td>\n",
       "      <td>&lt;NA&gt;</td>\n",
       "      <td>egg</td>\n",
       "      <td>&lt;NA&gt;</td>\n",
       "      <td>&lt;NA&gt;</td>\n",
       "      <td>&lt;NA&gt;</td>\n",
       "      <td>&lt;NA&gt;</td>\n",
       "      <td>&lt;NA&gt;</td>\n",
       "      <td>...</td>\n",
       "      <td>&lt;NA&gt;</td>\n",
       "      <td>lake</td>\n",
       "      <td>&lt;NA&gt;</td>\n",
       "      <td>land</td>\n",
       "      <td>&lt;NA&gt;</td>\n",
       "      <td>&lt;NA&gt;</td>\n",
       "      <td>&lt;NA&gt;</td>\n",
       "      <td>&lt;NA&gt;</td>\n",
       "      <td>&lt;NA&gt;</td>\n",
       "      <td>&lt;NA&gt;</td>\n",
       "    </tr>\n",
       "    <tr>\n",
       "      <th>3</th>\n",
       "      <td>&lt;NA&gt;</td>\n",
       "      <td>&lt;NA&gt;</td>\n",
       "      <td>&lt;NA&gt;</td>\n",
       "      <td>&lt;NA&gt;</td>\n",
       "      <td>vanilla</td>\n",
       "      <td>&lt;NA&gt;</td>\n",
       "      <td>&lt;NA&gt;</td>\n",
       "      <td>&lt;NA&gt;</td>\n",
       "      <td>&lt;NA&gt;</td>\n",
       "      <td>&lt;NA&gt;</td>\n",
       "      <td>...</td>\n",
       "      <td>&lt;NA&gt;</td>\n",
       "      <td>&lt;NA&gt;</td>\n",
       "      <td>&lt;NA&gt;</td>\n",
       "      <td>&lt;NA&gt;</td>\n",
       "      <td>&lt;NA&gt;</td>\n",
       "      <td>&lt;NA&gt;</td>\n",
       "      <td>&lt;NA&gt;</td>\n",
       "      <td>&lt;NA&gt;</td>\n",
       "      <td>&lt;NA&gt;</td>\n",
       "      <td>&lt;NA&gt;</td>\n",
       "    </tr>\n",
       "    <tr>\n",
       "      <th>4</th>\n",
       "      <td>&lt;NA&gt;</td>\n",
       "      <td>&lt;NA&gt;</td>\n",
       "      <td>&lt;NA&gt;</td>\n",
       "      <td>&lt;NA&gt;</td>\n",
       "      <td>flour</td>\n",
       "      <td>&lt;NA&gt;</td>\n",
       "      <td>&lt;NA&gt;</td>\n",
       "      <td>&lt;NA&gt;</td>\n",
       "      <td>&lt;NA&gt;</td>\n",
       "      <td>&lt;NA&gt;</td>\n",
       "      <td>...</td>\n",
       "      <td>&lt;NA&gt;</td>\n",
       "      <td>&lt;NA&gt;</td>\n",
       "      <td>&lt;NA&gt;</td>\n",
       "      <td>&lt;NA&gt;</td>\n",
       "      <td>all-purpose</td>\n",
       "      <td>&lt;NA&gt;</td>\n",
       "      <td>&lt;NA&gt;</td>\n",
       "      <td>&lt;NA&gt;</td>\n",
       "      <td>&lt;NA&gt;</td>\n",
       "      <td>&lt;NA&gt;</td>\n",
       "    </tr>\n",
       "  </tbody>\n",
       "</table>\n",
       "<p>5 rows × 21 columns</p>\n",
       "</div>"
      ],
      "text/plain": [
       "                   name.name.nouns.4 name.name.nouns.3 name.name.nouns.2  \\\n",
       "recipe  ingredient                                                         \n",
       "1746116 0                       <NA>              <NA>              <NA>   \n",
       "        1                       <NA>              <NA>              <NA>   \n",
       "        2                       <NA>              <NA>              <NA>   \n",
       "        3                       <NA>              <NA>              <NA>   \n",
       "        4                       <NA>              <NA>              <NA>   \n",
       "\n",
       "                   name.name.nouns.1 name.name.nouns.0 name.name.others.0  \\\n",
       "recipe  ingredient                                                          \n",
       "1746116 0                       <NA>            butter               <NA>   \n",
       "        1                       <NA>             sugar               <NA>   \n",
       "        2                       <NA>               egg               <NA>   \n",
       "        3                       <NA>           vanilla               <NA>   \n",
       "        4                       <NA>             flour               <NA>   \n",
       "\n",
       "                   name.name.others.1 name.name.others.2 name.name.others.3  \\\n",
       "recipe  ingredient                                                            \n",
       "1746116 0                        <NA>               <NA>               <NA>   \n",
       "        1                        <NA>               <NA>               <NA>   \n",
       "        2                        <NA>               <NA>               <NA>   \n",
       "        3                        <NA>               <NA>               <NA>   \n",
       "        4                        <NA>               <NA>               <NA>   \n",
       "\n",
       "                   name.description.nouns.5  ... name.description.nouns.3  \\\n",
       "recipe  ingredient                           ...                            \n",
       "1746116 0                              <NA>  ...                     <NA>   \n",
       "        1                              <NA>  ...                     <NA>   \n",
       "        2                              <NA>  ...                     <NA>   \n",
       "        3                              <NA>  ...                     <NA>   \n",
       "        4                              <NA>  ...                     <NA>   \n",
       "\n",
       "                   name.description.nouns.2 name.description.nouns.1  \\\n",
       "recipe  ingredient                                                     \n",
       "1746116 0                              lake                     <NA>   \n",
       "        1                              <NA>                     <NA>   \n",
       "        2                              lake                     <NA>   \n",
       "        3                              <NA>                     <NA>   \n",
       "        4                              <NA>                     <NA>   \n",
       "\n",
       "                   name.description.nouns.0 name.description.others.0  \\\n",
       "recipe  ingredient                                                      \n",
       "1746116 0                              land                      <NA>   \n",
       "        1                              <NA>                      <NA>   \n",
       "        2                              land                      <NA>   \n",
       "        3                              <NA>                      <NA>   \n",
       "        4                              <NA>               all-purpose   \n",
       "\n",
       "                   name.description.others.1 name.description.others.2  \\\n",
       "recipe  ingredient                                                       \n",
       "1746116 0                               <NA>                      <NA>   \n",
       "        1                               <NA>                      <NA>   \n",
       "        2                               <NA>                      <NA>   \n",
       "        3                               <NA>                      <NA>   \n",
       "        4                               <NA>                      <NA>   \n",
       "\n",
       "                   name.description.others.3 name.description.others.4  \\\n",
       "recipe  ingredient                                                       \n",
       "1746116 0                               <NA>                      <NA>   \n",
       "        1                               <NA>                      <NA>   \n",
       "        2                               <NA>                      <NA>   \n",
       "        3                               <NA>                      <NA>   \n",
       "        4                               <NA>                      <NA>   \n",
       "\n",
       "                   name.description.others.5  \n",
       "recipe  ingredient                            \n",
       "1746116 0                               <NA>  \n",
       "        1                               <NA>  \n",
       "        2                               <NA>  \n",
       "        3                               <NA>  \n",
       "        4                               <NA>  \n",
       "\n",
       "[5 rows x 21 columns]"
      ]
     },
     "execution_count": 117,
     "metadata": {},
     "output_type": "execute_result"
    }
   ],
   "source": [
    "expanded_ingredients_df = expanded_ingredients_df.map(clean_ingredient_string)\n",
    "expanded_ingredients_df = expanded_ingredients_df.replace(r'^\\s*$', pd.NA, regex=True)\n",
    "expanded_ingredients_df.head()"
   ]
  },
  {
   "cell_type": "code",
   "execution_count": 118,
   "metadata": {
    "execution": {
     "iopub.execute_input": "2024-02-11T11:20:07.100666Z",
     "iopub.status.busy": "2024-02-11T11:20:07.100610Z",
     "iopub.status.idle": "2024-02-11T11:20:07.106562Z",
     "shell.execute_reply": "2024-02-11T11:20:07.106396Z"
    }
   },
   "outputs": [
    {
     "data": {
      "text/html": [
       "<div>\n",
       "<style scoped>\n",
       "    .dataframe tbody tr th:only-of-type {\n",
       "        vertical-align: middle;\n",
       "    }\n",
       "\n",
       "    .dataframe tbody tr th {\n",
       "        vertical-align: top;\n",
       "    }\n",
       "\n",
       "    .dataframe thead th {\n",
       "        text-align: right;\n",
       "    }\n",
       "</style>\n",
       "<table border=\"1\" class=\"dataframe\">\n",
       "  <thead>\n",
       "    <tr style=\"text-align: right;\">\n",
       "      <th></th>\n",
       "      <th></th>\n",
       "      <th>name.name.nouns.4</th>\n",
       "      <th>name.name.nouns.3</th>\n",
       "      <th>name.name.nouns.2</th>\n",
       "      <th>name.name.nouns.1</th>\n",
       "      <th>name.name.nouns.0</th>\n",
       "      <th>name.name.others.0</th>\n",
       "      <th>name.name.others.1</th>\n",
       "      <th>name.name.others.2</th>\n",
       "      <th>name.name.others.3</th>\n",
       "      <th>name.description.nouns.5</th>\n",
       "      <th>...</th>\n",
       "      <th>name.description.nouns.3</th>\n",
       "      <th>name.description.nouns.2</th>\n",
       "      <th>name.description.nouns.1</th>\n",
       "      <th>name.description.nouns.0</th>\n",
       "      <th>name.description.others.0</th>\n",
       "      <th>name.description.others.1</th>\n",
       "      <th>name.description.others.2</th>\n",
       "      <th>name.description.others.3</th>\n",
       "      <th>name.description.others.4</th>\n",
       "      <th>name.description.others.5</th>\n",
       "    </tr>\n",
       "    <tr>\n",
       "      <th>recipe</th>\n",
       "      <th>ingredient</th>\n",
       "      <th></th>\n",
       "      <th></th>\n",
       "      <th></th>\n",
       "      <th></th>\n",
       "      <th></th>\n",
       "      <th></th>\n",
       "      <th></th>\n",
       "      <th></th>\n",
       "      <th></th>\n",
       "      <th></th>\n",
       "      <th></th>\n",
       "      <th></th>\n",
       "      <th></th>\n",
       "      <th></th>\n",
       "      <th></th>\n",
       "      <th></th>\n",
       "      <th></th>\n",
       "      <th></th>\n",
       "      <th></th>\n",
       "      <th></th>\n",
       "      <th></th>\n",
       "    </tr>\n",
       "  </thead>\n",
       "  <tbody>\n",
       "    <tr>\n",
       "      <th rowspan=\"5\" valign=\"top\">1746116</th>\n",
       "      <th>0</th>\n",
       "      <td>&lt;NA&gt;</td>\n",
       "      <td>&lt;NA&gt;</td>\n",
       "      <td>&lt;NA&gt;</td>\n",
       "      <td>&lt;NA&gt;</td>\n",
       "      <td>butter</td>\n",
       "      <td>&lt;NA&gt;</td>\n",
       "      <td>&lt;NA&gt;</td>\n",
       "      <td>&lt;NA&gt;</td>\n",
       "      <td>&lt;NA&gt;</td>\n",
       "      <td>&lt;NA&gt;</td>\n",
       "      <td>...</td>\n",
       "      <td>&lt;NA&gt;</td>\n",
       "      <td>lake</td>\n",
       "      <td>&lt;NA&gt;</td>\n",
       "      <td>land</td>\n",
       "      <td>&lt;NA&gt;</td>\n",
       "      <td>&lt;NA&gt;</td>\n",
       "      <td>&lt;NA&gt;</td>\n",
       "      <td>&lt;NA&gt;</td>\n",
       "      <td>&lt;NA&gt;</td>\n",
       "      <td>&lt;NA&gt;</td>\n",
       "    </tr>\n",
       "    <tr>\n",
       "      <th>1</th>\n",
       "      <td>&lt;NA&gt;</td>\n",
       "      <td>&lt;NA&gt;</td>\n",
       "      <td>&lt;NA&gt;</td>\n",
       "      <td>&lt;NA&gt;</td>\n",
       "      <td>sugar</td>\n",
       "      <td>&lt;NA&gt;</td>\n",
       "      <td>&lt;NA&gt;</td>\n",
       "      <td>&lt;NA&gt;</td>\n",
       "      <td>&lt;NA&gt;</td>\n",
       "      <td>&lt;NA&gt;</td>\n",
       "      <td>...</td>\n",
       "      <td>&lt;NA&gt;</td>\n",
       "      <td>&lt;NA&gt;</td>\n",
       "      <td>&lt;NA&gt;</td>\n",
       "      <td>&lt;NA&gt;</td>\n",
       "      <td>&lt;NA&gt;</td>\n",
       "      <td>&lt;NA&gt;</td>\n",
       "      <td>&lt;NA&gt;</td>\n",
       "      <td>&lt;NA&gt;</td>\n",
       "      <td>&lt;NA&gt;</td>\n",
       "      <td>&lt;NA&gt;</td>\n",
       "    </tr>\n",
       "    <tr>\n",
       "      <th>2</th>\n",
       "      <td>&lt;NA&gt;</td>\n",
       "      <td>&lt;NA&gt;</td>\n",
       "      <td>&lt;NA&gt;</td>\n",
       "      <td>&lt;NA&gt;</td>\n",
       "      <td>egg</td>\n",
       "      <td>&lt;NA&gt;</td>\n",
       "      <td>&lt;NA&gt;</td>\n",
       "      <td>&lt;NA&gt;</td>\n",
       "      <td>&lt;NA&gt;</td>\n",
       "      <td>&lt;NA&gt;</td>\n",
       "      <td>...</td>\n",
       "      <td>&lt;NA&gt;</td>\n",
       "      <td>lake</td>\n",
       "      <td>&lt;NA&gt;</td>\n",
       "      <td>land</td>\n",
       "      <td>&lt;NA&gt;</td>\n",
       "      <td>&lt;NA&gt;</td>\n",
       "      <td>&lt;NA&gt;</td>\n",
       "      <td>&lt;NA&gt;</td>\n",
       "      <td>&lt;NA&gt;</td>\n",
       "      <td>&lt;NA&gt;</td>\n",
       "    </tr>\n",
       "    <tr>\n",
       "      <th>3</th>\n",
       "      <td>&lt;NA&gt;</td>\n",
       "      <td>&lt;NA&gt;</td>\n",
       "      <td>&lt;NA&gt;</td>\n",
       "      <td>&lt;NA&gt;</td>\n",
       "      <td>vanilla</td>\n",
       "      <td>&lt;NA&gt;</td>\n",
       "      <td>&lt;NA&gt;</td>\n",
       "      <td>&lt;NA&gt;</td>\n",
       "      <td>&lt;NA&gt;</td>\n",
       "      <td>&lt;NA&gt;</td>\n",
       "      <td>...</td>\n",
       "      <td>&lt;NA&gt;</td>\n",
       "      <td>&lt;NA&gt;</td>\n",
       "      <td>&lt;NA&gt;</td>\n",
       "      <td>&lt;NA&gt;</td>\n",
       "      <td>&lt;NA&gt;</td>\n",
       "      <td>&lt;NA&gt;</td>\n",
       "      <td>&lt;NA&gt;</td>\n",
       "      <td>&lt;NA&gt;</td>\n",
       "      <td>&lt;NA&gt;</td>\n",
       "      <td>&lt;NA&gt;</td>\n",
       "    </tr>\n",
       "    <tr>\n",
       "      <th>4</th>\n",
       "      <td>&lt;NA&gt;</td>\n",
       "      <td>&lt;NA&gt;</td>\n",
       "      <td>&lt;NA&gt;</td>\n",
       "      <td>&lt;NA&gt;</td>\n",
       "      <td>flour</td>\n",
       "      <td>&lt;NA&gt;</td>\n",
       "      <td>&lt;NA&gt;</td>\n",
       "      <td>&lt;NA&gt;</td>\n",
       "      <td>&lt;NA&gt;</td>\n",
       "      <td>&lt;NA&gt;</td>\n",
       "      <td>...</td>\n",
       "      <td>&lt;NA&gt;</td>\n",
       "      <td>&lt;NA&gt;</td>\n",
       "      <td>&lt;NA&gt;</td>\n",
       "      <td>&lt;NA&gt;</td>\n",
       "      <td>all-purpose</td>\n",
       "      <td>&lt;NA&gt;</td>\n",
       "      <td>&lt;NA&gt;</td>\n",
       "      <td>&lt;NA&gt;</td>\n",
       "      <td>&lt;NA&gt;</td>\n",
       "      <td>&lt;NA&gt;</td>\n",
       "    </tr>\n",
       "  </tbody>\n",
       "</table>\n",
       "<p>5 rows × 21 columns</p>\n",
       "</div>"
      ],
      "text/plain": [
       "                   name.name.nouns.4 name.name.nouns.3 name.name.nouns.2  \\\n",
       "recipe  ingredient                                                         \n",
       "1746116 0                       <NA>              <NA>              <NA>   \n",
       "        1                       <NA>              <NA>              <NA>   \n",
       "        2                       <NA>              <NA>              <NA>   \n",
       "        3                       <NA>              <NA>              <NA>   \n",
       "        4                       <NA>              <NA>              <NA>   \n",
       "\n",
       "                   name.name.nouns.1 name.name.nouns.0 name.name.others.0  \\\n",
       "recipe  ingredient                                                          \n",
       "1746116 0                       <NA>            butter               <NA>   \n",
       "        1                       <NA>             sugar               <NA>   \n",
       "        2                       <NA>               egg               <NA>   \n",
       "        3                       <NA>           vanilla               <NA>   \n",
       "        4                       <NA>             flour               <NA>   \n",
       "\n",
       "                   name.name.others.1 name.name.others.2 name.name.others.3  \\\n",
       "recipe  ingredient                                                            \n",
       "1746116 0                        <NA>               <NA>               <NA>   \n",
       "        1                        <NA>               <NA>               <NA>   \n",
       "        2                        <NA>               <NA>               <NA>   \n",
       "        3                        <NA>               <NA>               <NA>   \n",
       "        4                        <NA>               <NA>               <NA>   \n",
       "\n",
       "                   name.description.nouns.5  ... name.description.nouns.3  \\\n",
       "recipe  ingredient                           ...                            \n",
       "1746116 0                              <NA>  ...                     <NA>   \n",
       "        1                              <NA>  ...                     <NA>   \n",
       "        2                              <NA>  ...                     <NA>   \n",
       "        3                              <NA>  ...                     <NA>   \n",
       "        4                              <NA>  ...                     <NA>   \n",
       "\n",
       "                   name.description.nouns.2 name.description.nouns.1  \\\n",
       "recipe  ingredient                                                     \n",
       "1746116 0                              lake                     <NA>   \n",
       "        1                              <NA>                     <NA>   \n",
       "        2                              lake                     <NA>   \n",
       "        3                              <NA>                     <NA>   \n",
       "        4                              <NA>                     <NA>   \n",
       "\n",
       "                   name.description.nouns.0 name.description.others.0  \\\n",
       "recipe  ingredient                                                      \n",
       "1746116 0                              land                      <NA>   \n",
       "        1                              <NA>                      <NA>   \n",
       "        2                              land                      <NA>   \n",
       "        3                              <NA>                      <NA>   \n",
       "        4                              <NA>               all-purpose   \n",
       "\n",
       "                   name.description.others.1 name.description.others.2  \\\n",
       "recipe  ingredient                                                       \n",
       "1746116 0                               <NA>                      <NA>   \n",
       "        1                               <NA>                      <NA>   \n",
       "        2                               <NA>                      <NA>   \n",
       "        3                               <NA>                      <NA>   \n",
       "        4                               <NA>                      <NA>   \n",
       "\n",
       "                   name.description.others.3 name.description.others.4  \\\n",
       "recipe  ingredient                                                       \n",
       "1746116 0                               <NA>                      <NA>   \n",
       "        1                               <NA>                      <NA>   \n",
       "        2                               <NA>                      <NA>   \n",
       "        3                               <NA>                      <NA>   \n",
       "        4                               <NA>                      <NA>   \n",
       "\n",
       "                   name.description.others.5  \n",
       "recipe  ingredient                            \n",
       "1746116 0                               <NA>  \n",
       "        1                               <NA>  \n",
       "        2                               <NA>  \n",
       "        3                               <NA>  \n",
       "        4                               <NA>  \n",
       "\n",
       "[5 rows x 21 columns]"
      ]
     },
     "execution_count": 118,
     "metadata": {},
     "output_type": "execute_result"
    }
   ],
   "source": [
    "expanded_ingredients_df.head()"
   ]
  },
  {
   "cell_type": "markdown",
   "metadata": {},
   "source": [
    "## Filtering Strings"
   ]
  },
  {
   "cell_type": "markdown",
   "metadata": {},
   "source": [
    "We want to do a bit of filtering here, mainly with 'seasoning' in mind. This is an unnecessary addition in most recipes, with an exception being in baking where this matters. If it does matter it will have a specified quantity and unit. "
   ]
  },
  {
   "cell_type": "code",
   "execution_count": 119,
   "metadata": {
    "execution": {
     "iopub.execute_input": "2024-02-11T11:20:07.107738Z",
     "iopub.status.busy": "2024-02-11T11:20:07.107609Z",
     "iopub.status.idle": "2024-02-11T11:20:07.109855Z",
     "shell.execute_reply": "2024-02-11T11:20:07.109690Z"
    }
   },
   "outputs": [
    {
     "data": {
      "text/plain": [
       "name.name.nouns.0             salt\n",
       "name.description.nouns.1    pepper\n",
       "Name: (2058895, 6), dtype: object"
      ]
     },
     "execution_count": 119,
     "metadata": {},
     "output_type": "execute_result"
    }
   ],
   "source": [
    "ingredient = expanded_ingredients_df.loc[2058895, 6]\n",
    "ingredient[ingredient.notnull()]"
   ]
  },
  {
   "cell_type": "code",
   "execution_count": 120,
   "metadata": {
    "execution": {
     "iopub.execute_input": "2024-02-11T11:20:07.110896Z",
     "iopub.status.busy": "2024-02-11T11:20:07.110801Z",
     "iopub.status.idle": "2024-02-11T11:20:07.112570Z",
     "shell.execute_reply": "2024-02-11T11:20:07.112396Z"
    }
   },
   "outputs": [],
   "source": [
    "#| export\n",
    "def filter_patterns(ingredient, filters):\n",
    "\n",
    "    cols = ingredient.index[ingredient.notnull()]\n",
    "\n",
    "    for filter_words in filters:\n",
    "        if all([any([filter_word == ingredient[col] for col in cols]) for filter_word in filter_words]):\n",
    "            return True\n",
    "        \n",
    "    return False\n",
    "\n",
    "filters = [['salt'],['ground', 'pepper'],['black', 'pepper'], ['pepper']]"
   ]
  },
  {
   "cell_type": "code",
   "execution_count": 121,
   "metadata": {
    "execution": {
     "iopub.execute_input": "2024-02-11T11:20:07.113486Z",
     "iopub.status.busy": "2024-02-11T11:20:07.113392Z",
     "iopub.status.idle": "2024-02-11T11:20:07.114927Z",
     "shell.execute_reply": "2024-02-11T11:20:07.114748Z"
    }
   },
   "outputs": [],
   "source": [
    "assert filter_patterns(expanded_ingredients_df.loc[2058895, 6], filters) == True"
   ]
  },
  {
   "cell_type": "code",
   "execution_count": 122,
   "metadata": {
    "execution": {
     "iopub.execute_input": "2024-02-11T11:20:07.115884Z",
     "iopub.status.busy": "2024-02-11T11:20:07.115786Z",
     "iopub.status.idle": "2024-02-11T11:20:07.247002Z",
     "shell.execute_reply": "2024-02-11T11:20:07.246731Z"
    }
   },
   "outputs": [
    {
     "name": "stdout",
     "output_type": "stream",
     "text": [
      "0 2494\n"
     ]
    }
   ],
   "source": [
    "# only filtering the ingredients which do not specify their unit & quantity - otherwise we are able to assess.\n",
    "quantity_filter = (ingredients_df['unit'] == '') & (ingredients_df['quantity'] == '')\n",
    "\n",
    "word_filter = expanded_ingredients_df.apply(filter_patterns, args=(filters,), axis=1)\n",
    "\n",
    "print((quantity_filter & word_filter).sum(), expanded_ingredients_df.shape[0])\n",
    "\n",
    "expanded_ingredients_df = expanded_ingredients_df[~(quantity_filter & word_filter)]\n",
    "\n",
    "ingredients_df = ingredients_df.loc[expanded_ingredients_df.index]"
   ]
  },
  {
   "cell_type": "markdown",
   "metadata": {},
   "source": [
    "# Saving"
   ]
  },
  {
   "cell_type": "code",
   "execution_count": 123,
   "metadata": {
    "execution": {
     "iopub.execute_input": "2024-02-11T11:20:07.248187Z",
     "iopub.status.busy": "2024-02-11T11:20:07.248091Z",
     "iopub.status.idle": "2024-02-11T11:20:07.255460Z",
     "shell.execute_reply": "2024-02-11T11:20:07.255287Z"
    }
   },
   "outputs": [
    {
     "data": {
      "text/html": [
       "<div>\n",
       "<style scoped>\n",
       "    .dataframe tbody tr th:only-of-type {\n",
       "        vertical-align: middle;\n",
       "    }\n",
       "\n",
       "    .dataframe tbody tr th {\n",
       "        vertical-align: top;\n",
       "    }\n",
       "\n",
       "    .dataframe thead th {\n",
       "        text-align: right;\n",
       "    }\n",
       "</style>\n",
       "<table border=\"1\" class=\"dataframe\">\n",
       "  <thead>\n",
       "    <tr style=\"text-align: right;\">\n",
       "      <th></th>\n",
       "      <th></th>\n",
       "      <th>name.name</th>\n",
       "      <th>name.description</th>\n",
       "      <th>quantity</th>\n",
       "      <th>unit</th>\n",
       "      <th>comment</th>\n",
       "      <th>preparation</th>\n",
       "      <th>ingredient_string</th>\n",
       "      <th>unit_tags</th>\n",
       "      <th>unit_remainders</th>\n",
       "      <th>unit_type</th>\n",
       "    </tr>\n",
       "    <tr>\n",
       "      <th>recipe</th>\n",
       "      <th>ingredient</th>\n",
       "      <th></th>\n",
       "      <th></th>\n",
       "      <th></th>\n",
       "      <th></th>\n",
       "      <th></th>\n",
       "      <th></th>\n",
       "      <th></th>\n",
       "      <th></th>\n",
       "      <th></th>\n",
       "      <th></th>\n",
       "    </tr>\n",
       "  </thead>\n",
       "  <tbody>\n",
       "    <tr>\n",
       "      <th rowspan=\"5\" valign=\"top\">1746116</th>\n",
       "      <th>0</th>\n",
       "      <td>butter</td>\n",
       "      <td>land lake butter</td>\n",
       "      <td>0.667</td>\n",
       "      <td>cups</td>\n",
       "      <td>&lt;NA&gt;</td>\n",
       "      <td>softened</td>\n",
       "      <td>2/3 cup Land O Lakes Butter, softened</td>\n",
       "      <td>[cup]</td>\n",
       "      <td>[]</td>\n",
       "      <td>volume</td>\n",
       "    </tr>\n",
       "    <tr>\n",
       "      <th>1</th>\n",
       "      <td>sugar</td>\n",
       "      <td>sugar</td>\n",
       "      <td>0.5</td>\n",
       "      <td>cups</td>\n",
       "      <td>&lt;NA&gt;</td>\n",
       "      <td>&lt;NA&gt;</td>\n",
       "      <td>1/2 cup sugar</td>\n",
       "      <td>[cup]</td>\n",
       "      <td>[]</td>\n",
       "      <td>volume</td>\n",
       "    </tr>\n",
       "    <tr>\n",
       "      <th>2</th>\n",
       "      <td>egg</td>\n",
       "      <td>land lake egg</td>\n",
       "      <td>2.0</td>\n",
       "      <td>&lt;NA&gt;</td>\n",
       "      <td>(yolks only)</td>\n",
       "      <td>&lt;NA&gt;</td>\n",
       "      <td>2 Land O Lakes Eggs (yolks only)</td>\n",
       "      <td>[]</td>\n",
       "      <td>[]</td>\n",
       "      <td>portion</td>\n",
       "    </tr>\n",
       "    <tr>\n",
       "      <th>3</th>\n",
       "      <td>vanilla</td>\n",
       "      <td>vanilla</td>\n",
       "      <td>1.0</td>\n",
       "      <td>teaspoon</td>\n",
       "      <td>&lt;NA&gt;</td>\n",
       "      <td>&lt;NA&gt;</td>\n",
       "      <td>1 teaspoon vanilla</td>\n",
       "      <td>[teaspoon]</td>\n",
       "      <td>[]</td>\n",
       "      <td>volume</td>\n",
       "    </tr>\n",
       "    <tr>\n",
       "      <th>4</th>\n",
       "      <td>flour</td>\n",
       "      <td>all-purpose flour</td>\n",
       "      <td>1.5</td>\n",
       "      <td>cups</td>\n",
       "      <td>&lt;NA&gt;</td>\n",
       "      <td>&lt;NA&gt;</td>\n",
       "      <td>1 1/2 cups all-purpose flour</td>\n",
       "      <td>[cup]</td>\n",
       "      <td>[]</td>\n",
       "      <td>volume</td>\n",
       "    </tr>\n",
       "    <tr>\n",
       "      <th>...</th>\n",
       "      <th>...</th>\n",
       "      <td>...</td>\n",
       "      <td>...</td>\n",
       "      <td>...</td>\n",
       "      <td>...</td>\n",
       "      <td>...</td>\n",
       "      <td>...</td>\n",
       "      <td>...</td>\n",
       "      <td>...</td>\n",
       "      <td>...</td>\n",
       "      <td>...</td>\n",
       "    </tr>\n",
       "    <tr>\n",
       "      <th rowspan=\"5\" valign=\"top\">931097</th>\n",
       "      <th>9</th>\n",
       "      <td>red onion</td>\n",
       "      <td>red onion</td>\n",
       "      <td>0.25</td>\n",
       "      <td>cups</td>\n",
       "      <td>&lt;NA&gt;</td>\n",
       "      <td>finely chopped</td>\n",
       "      <td>1/4 cup red onion, finely chopped</td>\n",
       "      <td>[cup]</td>\n",
       "      <td>[]</td>\n",
       "      <td>volume</td>\n",
       "    </tr>\n",
       "    <tr>\n",
       "      <th>10</th>\n",
       "      <td>red bell pepper</td>\n",
       "      <td>red bell pepper</td>\n",
       "      <td>0.25</td>\n",
       "      <td>cups</td>\n",
       "      <td>&lt;NA&gt;</td>\n",
       "      <td>chopped</td>\n",
       "      <td>1/4 cup chopped red bell pepper</td>\n",
       "      <td>[cup]</td>\n",
       "      <td>[]</td>\n",
       "      <td>volume</td>\n",
       "    </tr>\n",
       "    <tr>\n",
       "      <th>11</th>\n",
       "      <td>jasmine rice</td>\n",
       "      <td>jasmine rice</td>\n",
       "      <td>1.0</td>\n",
       "      <td>cup</td>\n",
       "      <td>&lt;NA&gt;</td>\n",
       "      <td>&lt;NA&gt;</td>\n",
       "      <td>1 cup Jasmine rice</td>\n",
       "      <td>[cup]</td>\n",
       "      <td>[]</td>\n",
       "      <td>volume</td>\n",
       "    </tr>\n",
       "    <tr>\n",
       "      <th>12</th>\n",
       "      <td>chicken</td>\n",
       "      <td>reduced-sodium chicken broth</td>\n",
       "      <td>1.5</td>\n",
       "      <td>cups</td>\n",
       "      <td>&lt;NA&gt;</td>\n",
       "      <td>&lt;NA&gt;</td>\n",
       "      <td>1 1/2 cups reduced-sodium chicken broth</td>\n",
       "      <td>[cup]</td>\n",
       "      <td>[]</td>\n",
       "      <td>volume</td>\n",
       "    </tr>\n",
       "    <tr>\n",
       "      <th>13</th>\n",
       "      <td>fresh basil</td>\n",
       "      <td>fresh basil</td>\n",
       "      <td>1.0</td>\n",
       "      <td>tablespoon</td>\n",
       "      <td>&lt;NA&gt;</td>\n",
       "      <td>chopped</td>\n",
       "      <td>1 tablespoon chopped fresh basil</td>\n",
       "      <td>[tablespoon]</td>\n",
       "      <td>[]</td>\n",
       "      <td>volume</td>\n",
       "    </tr>\n",
       "  </tbody>\n",
       "</table>\n",
       "<p>2450 rows × 10 columns</p>\n",
       "</div>"
      ],
      "text/plain": [
       "                          name.name              name.description  quantity  \\\n",
       "recipe  ingredient                                                            \n",
       "1746116 0                    butter              land lake butter     0.667   \n",
       "        1                     sugar                         sugar       0.5   \n",
       "        2                       egg                 land lake egg       2.0   \n",
       "        3                   vanilla                       vanilla       1.0   \n",
       "        4                     flour             all-purpose flour       1.5   \n",
       "...                             ...                           ...       ...   \n",
       "931097  9                 red onion                     red onion      0.25   \n",
       "        10          red bell pepper               red bell pepper      0.25   \n",
       "        11             jasmine rice                  jasmine rice       1.0   \n",
       "        12                  chicken  reduced-sodium chicken broth       1.5   \n",
       "        13              fresh basil                   fresh basil       1.0   \n",
       "\n",
       "                          unit       comment     preparation  \\\n",
       "recipe  ingredient                                             \n",
       "1746116 0                 cups          <NA>        softened   \n",
       "        1                 cups          <NA>            <NA>   \n",
       "        2                 <NA>  (yolks only)            <NA>   \n",
       "        3             teaspoon          <NA>            <NA>   \n",
       "        4                 cups          <NA>            <NA>   \n",
       "...                        ...           ...             ...   \n",
       "931097  9                 cups          <NA>  finely chopped   \n",
       "        10                cups          <NA>         chopped   \n",
       "        11                 cup          <NA>            <NA>   \n",
       "        12                cups          <NA>            <NA>   \n",
       "        13          tablespoon          <NA>         chopped   \n",
       "\n",
       "                                          ingredient_string     unit_tags  \\\n",
       "recipe  ingredient                                                          \n",
       "1746116 0             2/3 cup Land O Lakes Butter, softened         [cup]   \n",
       "        1                                     1/2 cup sugar         [cup]   \n",
       "        2                  2 Land O Lakes Eggs (yolks only)            []   \n",
       "        3                                1 teaspoon vanilla    [teaspoon]   \n",
       "        4                      1 1/2 cups all-purpose flour         [cup]   \n",
       "...                                                     ...           ...   \n",
       "931097  9                 1/4 cup red onion, finely chopped         [cup]   \n",
       "        10                  1/4 cup chopped red bell pepper         [cup]   \n",
       "        11                               1 cup Jasmine rice         [cup]   \n",
       "        12          1 1/2 cups reduced-sodium chicken broth         [cup]   \n",
       "        13                 1 tablespoon chopped fresh basil  [tablespoon]   \n",
       "\n",
       "                   unit_remainders unit_type  \n",
       "recipe  ingredient                            \n",
       "1746116 0                       []    volume  \n",
       "        1                       []    volume  \n",
       "        2                       []   portion  \n",
       "        3                       []    volume  \n",
       "        4                       []    volume  \n",
       "...                            ...       ...  \n",
       "931097  9                       []    volume  \n",
       "        10                      []    volume  \n",
       "        11                      []    volume  \n",
       "        12                      []    volume  \n",
       "        13                      []    volume  \n",
       "\n",
       "[2450 rows x 10 columns]"
      ]
     },
     "execution_count": 123,
     "metadata": {},
     "output_type": "execute_result"
    }
   ],
   "source": [
    "ingredients_df"
   ]
  },
  {
   "cell_type": "code",
   "execution_count": 124,
   "metadata": {
    "execution": {
     "iopub.execute_input": "2024-02-11T11:20:07.256569Z",
     "iopub.status.busy": "2024-02-11T11:20:07.256436Z",
     "iopub.status.idle": "2024-02-11T11:20:07.261538Z",
     "shell.execute_reply": "2024-02-11T11:20:07.261361Z"
    }
   },
   "outputs": [
    {
     "data": {
      "text/html": [
       "<div>\n",
       "<style scoped>\n",
       "    .dataframe tbody tr th:only-of-type {\n",
       "        vertical-align: middle;\n",
       "    }\n",
       "\n",
       "    .dataframe tbody tr th {\n",
       "        vertical-align: top;\n",
       "    }\n",
       "\n",
       "    .dataframe thead th {\n",
       "        text-align: right;\n",
       "    }\n",
       "</style>\n",
       "<table border=\"1\" class=\"dataframe\">\n",
       "  <thead>\n",
       "    <tr style=\"text-align: right;\">\n",
       "      <th></th>\n",
       "      <th>name.name</th>\n",
       "      <th>name.description</th>\n",
       "      <th>quantity</th>\n",
       "      <th>unit</th>\n",
       "      <th>comment</th>\n",
       "      <th>preparation</th>\n",
       "      <th>ingredient_string</th>\n",
       "      <th>unit_tags</th>\n",
       "      <th>unit_remainders</th>\n",
       "      <th>unit_type</th>\n",
       "    </tr>\n",
       "    <tr>\n",
       "      <th>ingredient</th>\n",
       "      <th></th>\n",
       "      <th></th>\n",
       "      <th></th>\n",
       "      <th></th>\n",
       "      <th></th>\n",
       "      <th></th>\n",
       "      <th></th>\n",
       "      <th></th>\n",
       "      <th></th>\n",
       "      <th></th>\n",
       "    </tr>\n",
       "  </thead>\n",
       "  <tbody>\n",
       "    <tr>\n",
       "      <th>0</th>\n",
       "      <td>watermelon</td>\n",
       "      <td>watermelon</td>\n",
       "      <td>1.0</td>\n",
       "      <td>&lt;NA&gt;</td>\n",
       "      <td>&lt;NA&gt;</td>\n",
       "      <td>&lt;NA&gt;</td>\n",
       "      <td>1 watermelon</td>\n",
       "      <td>[]</td>\n",
       "      <td>[]</td>\n",
       "      <td>portion</td>\n",
       "    </tr>\n",
       "    <tr>\n",
       "      <th>1</th>\n",
       "      <td>cantaloupe</td>\n",
       "      <td>cantaloupe</td>\n",
       "      <td>1.0</td>\n",
       "      <td>&lt;NA&gt;</td>\n",
       "      <td>&lt;NA&gt;</td>\n",
       "      <td>&lt;NA&gt;</td>\n",
       "      <td>1 cantaloupe</td>\n",
       "      <td>[]</td>\n",
       "      <td>[]</td>\n",
       "      <td>portion</td>\n",
       "    </tr>\n",
       "    <tr>\n",
       "      <th>2</th>\n",
       "      <td>raspberry</td>\n",
       "      <td>raspberry</td>\n",
       "      <td>8.0</td>\n",
       "      <td>ounces</td>\n",
       "      <td>&lt;NA&gt;</td>\n",
       "      <td>&lt;NA&gt;</td>\n",
       "      <td>8 ounces raspberries</td>\n",
       "      <td>[ounce]</td>\n",
       "      <td>[]</td>\n",
       "      <td>weight</td>\n",
       "    </tr>\n",
       "    <tr>\n",
       "      <th>3</th>\n",
       "      <td>blackberry</td>\n",
       "      <td>blackberry</td>\n",
       "      <td>8.0</td>\n",
       "      <td>ounces</td>\n",
       "      <td>&lt;NA&gt;</td>\n",
       "      <td>&lt;NA&gt;</td>\n",
       "      <td>8 ounces blackberries</td>\n",
       "      <td>[ounce]</td>\n",
       "      <td>[]</td>\n",
       "      <td>weight</td>\n",
       "    </tr>\n",
       "    <tr>\n",
       "      <th>4</th>\n",
       "      <td>blueberry</td>\n",
       "      <td>blueberry</td>\n",
       "      <td>8.0</td>\n",
       "      <td>ounces</td>\n",
       "      <td>&lt;NA&gt;</td>\n",
       "      <td>&lt;NA&gt;</td>\n",
       "      <td>8 ounces blueberries</td>\n",
       "      <td>[ounce]</td>\n",
       "      <td>[]</td>\n",
       "      <td>weight</td>\n",
       "    </tr>\n",
       "  </tbody>\n",
       "</table>\n",
       "</div>"
      ],
      "text/plain": [
       "             name.name name.description  quantity    unit comment preparation  \\\n",
       "ingredient                                                                      \n",
       "0           watermelon       watermelon       1.0    <NA>    <NA>        <NA>   \n",
       "1           cantaloupe       cantaloupe       1.0    <NA>    <NA>        <NA>   \n",
       "2            raspberry        raspberry       8.0  ounces    <NA>        <NA>   \n",
       "3           blackberry       blackberry       8.0  ounces    <NA>        <NA>   \n",
       "4            blueberry        blueberry       8.0  ounces    <NA>        <NA>   \n",
       "\n",
       "                ingredient_string unit_tags unit_remainders unit_type  \n",
       "ingredient                                                             \n",
       "0                    1 watermelon        []              []   portion  \n",
       "1                    1 cantaloupe        []              []   portion  \n",
       "2            8 ounces raspberries   [ounce]              []    weight  \n",
       "3           8 ounces blackberries   [ounce]              []    weight  \n",
       "4            8 ounces blueberries   [ounce]              []    weight  "
      ]
     },
     "execution_count": 124,
     "metadata": {},
     "output_type": "execute_result"
    }
   ],
   "source": [
    "ingredients_df.loc[2006319]"
   ]
  },
  {
   "cell_type": "code",
   "execution_count": 125,
   "metadata": {
    "execution": {
     "iopub.execute_input": "2024-02-11T11:20:07.262636Z",
     "iopub.status.busy": "2024-02-11T11:20:07.262507Z",
     "iopub.status.idle": "2024-02-11T11:20:07.282994Z",
     "shell.execute_reply": "2024-02-11T11:20:07.282760Z"
    }
   },
   "outputs": [],
   "source": [
    "ingredients_df.to_feather('../data/local/recipe/partial/ingredients/0.feather')\n",
    "expanded_ingredients_df.to_feather('../data/local/recipe/partial/expanded_ingredients/0.feather')"
   ]
  },
  {
   "cell_type": "code",
   "execution_count": 126,
   "metadata": {
    "execution": {
     "iopub.execute_input": "2024-02-11T11:20:07.284344Z",
     "iopub.status.busy": "2024-02-11T11:20:07.284239Z",
     "iopub.status.idle": "2024-02-11T11:20:07.461899Z",
     "shell.execute_reply": "2024-02-11T11:20:07.461486Z"
    }
   },
   "outputs": [],
   "source": [
    "from nbdev import nbdev_export; nbdev_export()"
   ]
  },
  {
   "cell_type": "code",
   "execution_count": null,
   "metadata": {},
   "outputs": [],
   "source": []
  }
 ],
 "metadata": {
  "kernelspec": {
   "display_name": "Python 3 (ipykernel)",
   "language": "python",
   "name": "python3"
  },
  "language_info": {
   "codemirror_mode": {
    "name": "ipython",
    "version": 3
   },
   "file_extension": ".py",
   "mimetype": "text/x-python",
   "name": "python",
   "nbconvert_exporter": "python",
   "pygments_lexer": "ipython3",
   "version": "3.10.13"
  }
 },
 "nbformat": 4,
 "nbformat_minor": 2
}
