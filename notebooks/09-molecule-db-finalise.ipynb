{
 "cells": [
  {
   "cell_type": "raw",
   "metadata": {},
   "source": [
    "---\n",
    "output-file: 09-molecule-db-finalising.html\n",
    "title: Setup\n",
    "\n",
    "---\n",
    "\n"
   ]
  },
  {
   "cell_type": "markdown",
   "metadata": {},
   "source": [
    "# Introduction"
   ]
  },
  {
   "cell_type": "markdown",
   "metadata": {},
   "source": [
    "Here we are finalising the information that we would like to gather from the molecules db. Specifically, we would want tabled information for each ingredient, containing the proportions of molecules for each ingredient."
   ]
  },
  {
   "cell_type": "markdown",
   "metadata": {},
   "source": [
    "# Overview"
   ]
  },
  {
   "cell_type": "markdown",
   "metadata": {},
   "source": [
    "Getting this finalised dataset entails:\n",
    "\n",
    "- Selecting from duplicate content entries (selecting orig_foods)\n",
    "- Averaging from duplicate content entries\n",
    "- Aggregating final dataset"
   ]
  },
  {
   "cell_type": "markdown",
   "metadata": {},
   "source": [
    "# Setup"
   ]
  },
  {
   "cell_type": "code",
   "execution_count": 1,
   "metadata": {
    "execution": {
     "iopub.execute_input": "2024-02-11T11:46:40.727465Z",
     "iopub.status.busy": "2024-02-11T11:46:40.727088Z",
     "iopub.status.idle": "2024-02-11T11:46:40.732523Z",
     "shell.execute_reply": "2024-02-11T11:46:40.731665Z"
    }
   },
   "outputs": [],
   "source": [
    "#|default_exp molecule.finalise"
   ]
  },
  {
   "cell_type": "code",
   "execution_count": 2,
   "metadata": {
    "execution": {
     "iopub.execute_input": "2024-02-11T11:46:40.737331Z",
     "iopub.status.busy": "2024-02-11T11:46:40.736963Z",
     "iopub.status.idle": "2024-02-11T11:46:40.751055Z",
     "shell.execute_reply": "2024-02-11T11:46:40.749871Z"
    }
   },
   "outputs": [],
   "source": [
    "#| export\n",
    "from pyprojroot import here\n",
    "root = here()\n",
    "import sys\n",
    "sys.path.append(str(root))"
   ]
  },
  {
   "cell_type": "code",
   "execution_count": 3,
   "metadata": {
    "execution": {
     "iopub.execute_input": "2024-02-11T11:46:40.755244Z",
     "iopub.status.busy": "2024-02-11T11:46:40.754897Z",
     "iopub.status.idle": "2024-02-11T11:46:42.667111Z",
     "shell.execute_reply": "2024-02-11T11:46:42.666551Z"
    }
   },
   "outputs": [],
   "source": [
    "#| export\n",
    "import pandas as pd\n",
    "import numpy as np\n",
    "import matplotlib.pyplot as plt\n",
    "\n",
    "import json\n",
    "\n",
    "from food_database.molecule.join import *\n",
    "from food_database.density.food_join import *\n",
    "\n",
    "from functools import reduce\n",
    "\n",
    "import pickle"
   ]
  },
  {
   "cell_type": "code",
   "execution_count": 4,
   "metadata": {
    "execution": {
     "iopub.execute_input": "2024-02-11T11:46:42.668674Z",
     "iopub.status.busy": "2024-02-11T11:46:42.668524Z",
     "iopub.status.idle": "2024-02-11T11:46:42.670410Z",
     "shell.execute_reply": "2024-02-11T11:46:42.670148Z"
    }
   },
   "outputs": [],
   "source": [
    "#| export\n",
    "pd.options.mode.chained_assignment = None  # default='warn'"
   ]
  },
  {
   "cell_type": "code",
   "execution_count": 5,
   "metadata": {
    "execution": {
     "iopub.execute_input": "2024-02-11T11:46:42.671546Z",
     "iopub.status.busy": "2024-02-11T11:46:42.671414Z",
     "iopub.status.idle": "2024-02-11T11:46:43.926952Z",
     "shell.execute_reply": "2024-02-11T11:46:43.926467Z"
    }
   },
   "outputs": [],
   "source": [
    "ingredients_df = pd.read_feather('../data/local/recipe/partial/ingredients/0.feather')\n",
    "expanded_ingredients_df = pd.read_feather('../data/local/recipe/partial/expanded_ingredients/0.feather')\n",
    "food_df = pd.read_feather('../data/local/molecule/full/food/1_preprocessed.feather')\n",
    "content_df = pd.read_feather('../data/local/molecule/full/content/1_preprocessed.feather')\n",
    "compound_df = pd.read_feather('../data/local/molecule/full/compound/1_preprocessed.feather')\n",
    "food_ids = pd.read_feather('../data/local/molecule/partial/food_ids/1_na_filled.feather')\n",
    "\n",
    "ingredients_df = ingredients_df.join(food_ids)"
   ]
  },
  {
   "cell_type": "markdown",
   "metadata": {},
   "source": [
    "# Selecting Duplicate Foods"
   ]
  },
  {
   "cell_type": "markdown",
   "metadata": {},
   "source": [
    "As seen when exploring the database, our dataset contains contains foods which have multiple sub-entries for the foods that were grouped together to form that food entry in the various citations. We could ignore this, and simply average all the values together however the foods sometimes have vastly differing values eg. between food that is fresh, cooked, dried."
   ]
  },
  {
   "cell_type": "markdown",
   "metadata": {},
   "source": [
    "## Requirements"
   ]
  },
  {
   "cell_type": "markdown",
   "metadata": {},
   "source": [
    "For each citation, select the appropriate 'orig_food_id'.\n",
    "\n",
    "What is the most efficinet way of doing this, to minimise indexing searches for the foods. It might be that this function should return the indexes of the filters."
   ]
  },
  {
   "cell_type": "markdown",
   "metadata": {},
   "source": [
    "To begin with we can make a dataframe of the duplicate entries we have, for each food and citation."
   ]
  },
  {
   "cell_type": "markdown",
   "metadata": {},
   "source": [
    "## Creating Unique Orig Foods Series"
   ]
  },
  {
   "cell_type": "markdown",
   "metadata": {},
   "source": [
    "Instead of doing this for each iteration of our function, we can make our own variable containing all the unique foods information beforehand."
   ]
  },
  {
   "cell_type": "code",
   "execution_count": 6,
   "metadata": {
    "execution": {
     "iopub.execute_input": "2024-02-11T11:46:43.928580Z",
     "iopub.status.busy": "2024-02-11T11:46:43.928490Z",
     "iopub.status.idle": "2024-02-11T11:46:43.947026Z",
     "shell.execute_reply": "2024-02-11T11:46:43.946604Z"
    }
   },
   "outputs": [],
   "source": [
    "content_df['orig_food_id'] = content_df['orig_food_id'].fillna(999999)"
   ]
  },
  {
   "cell_type": "code",
   "execution_count": 7,
   "metadata": {
    "execution": {
     "iopub.execute_input": "2024-02-11T11:46:43.948381Z",
     "iopub.status.busy": "2024-02-11T11:46:43.948299Z",
     "iopub.status.idle": "2024-02-11T11:46:43.950378Z",
     "shell.execute_reply": "2024-02-11T11:46:43.950101Z"
    }
   },
   "outputs": [],
   "source": [
    "with open('../data/globals/molecule/duplicate_citations.json', 'r') as f:\n",
    "    duplicate_citations = json.load(f)['duplicate_citations']\n",
    "    duplicate_citations.remove('MANUAL')"
   ]
  },
  {
   "cell_type": "code",
   "execution_count": 8,
   "metadata": {
    "execution": {
     "iopub.execute_input": "2024-02-11T11:46:43.951339Z",
     "iopub.status.busy": "2024-02-11T11:46:43.951211Z",
     "iopub.status.idle": "2024-02-11T11:46:43.963754Z",
     "shell.execute_reply": "2024-02-11T11:46:43.963461Z"
    }
   },
   "outputs": [],
   "source": [
    "content_df['orig_food_id'] = content_df['orig_food_id'].fillna(999999)"
   ]
  },
  {
   "cell_type": "code",
   "execution_count": 9,
   "metadata": {
    "execution": {
     "iopub.execute_input": "2024-02-11T11:46:43.964756Z",
     "iopub.status.busy": "2024-02-11T11:46:43.964675Z",
     "iopub.status.idle": "2024-02-11T11:46:45.541909Z",
     "shell.execute_reply": "2024-02-11T11:46:45.541483Z"
    }
   },
   "outputs": [
    {
     "data": {
      "text/plain": [
       "food_id  citation   \n",
       "1        MANUAL            0\n",
       "         MANUAL            1\n",
       "         MANUAL            2\n",
       "         MANUAL            3\n",
       "         MANUAL            4\n",
       "                        ... \n",
       "1024     PATHBANK       3973\n",
       "         PATHBANK       3974\n",
       "1025     MANUAL_HAND       0\n",
       "1026     MANUAL_HAND       0\n",
       "         MANUAL_HAND       1\n",
       "Length: 4664511, dtype: int64"
      ]
     },
     "execution_count": 9,
     "metadata": {},
     "output_type": "execute_result"
    }
   ],
   "source": [
    "content_df.reset_index().set_index(['food_id', 'citation']).groupby(['food_id', 'citation']).cumcount()"
   ]
  },
  {
   "cell_type": "code",
   "execution_count": 10,
   "metadata": {
    "execution": {
     "iopub.execute_input": "2024-02-11T11:46:45.556584Z",
     "iopub.status.busy": "2024-02-11T11:46:45.556475Z",
     "iopub.status.idle": "2024-02-11T11:46:46.771047Z",
     "shell.execute_reply": "2024-02-11T11:46:46.770628Z"
    }
   },
   "outputs": [
    {
     "data": {
      "text/html": [
       "<div>\n",
       "<style scoped>\n",
       "    .dataframe tbody tr th:only-of-type {\n",
       "        vertical-align: middle;\n",
       "    }\n",
       "\n",
       "    .dataframe tbody tr th {\n",
       "        vertical-align: top;\n",
       "    }\n",
       "\n",
       "    .dataframe thead th {\n",
       "        text-align: right;\n",
       "    }\n",
       "</style>\n",
       "<table border=\"1\" class=\"dataframe\">\n",
       "  <thead>\n",
       "    <tr style=\"text-align: right;\">\n",
       "      <th></th>\n",
       "      <th></th>\n",
       "      <th></th>\n",
       "      <th>orig_food_common_name</th>\n",
       "    </tr>\n",
       "    <tr>\n",
       "      <th>food_id</th>\n",
       "      <th>citation</th>\n",
       "      <th>orig_food_id</th>\n",
       "      <th></th>\n",
       "    </tr>\n",
       "  </thead>\n",
       "  <tbody>\n",
       "    <tr>\n",
       "      <th rowspan=\"5\" valign=\"top\">1</th>\n",
       "      <th>MANUAL</th>\n",
       "      <th>999999</th>\n",
       "      <td></td>\n",
       "    </tr>\n",
       "    <tr>\n",
       "      <th>PHENOL EXPLORER</th>\n",
       "      <th>842</th>\n",
       "      <td>angelica fresh</td>\n",
       "    </tr>\n",
       "    <tr>\n",
       "      <th>PATHBANK</th>\n",
       "      <th>999999</th>\n",
       "      <td>lipid arabidopsis pathbank</td>\n",
       "    </tr>\n",
       "    <tr>\n",
       "      <th>KNAPSACK</th>\n",
       "      <th>999999</th>\n",
       "      <td></td>\n",
       "    </tr>\n",
       "    <tr>\n",
       "      <th>PHYTOHUB</th>\n",
       "      <th>999999</th>\n",
       "      <td></td>\n",
       "    </tr>\n",
       "    <tr>\n",
       "      <th>...</th>\n",
       "      <th>...</th>\n",
       "      <th>...</th>\n",
       "      <td>...</td>\n",
       "    </tr>\n",
       "    <tr>\n",
       "      <th>1023</th>\n",
       "      <th>PATHBANK</th>\n",
       "      <th>999999</th>\n",
       "      <td>lipid arabidopsis pathbank</td>\n",
       "    </tr>\n",
       "    <tr>\n",
       "      <th rowspan=\"2\" valign=\"top\">1024</th>\n",
       "      <th>USDA</th>\n",
       "      <th>18952</th>\n",
       "      <td>tostada shell corn</td>\n",
       "    </tr>\n",
       "    <tr>\n",
       "      <th>PATHBANK</th>\n",
       "      <th>999999</th>\n",
       "      <td>lipid arabidopsis pathbank</td>\n",
       "    </tr>\n",
       "    <tr>\n",
       "      <th>1025</th>\n",
       "      <th>MANUAL_HAND</th>\n",
       "      <th>999999</th>\n",
       "      <td></td>\n",
       "    </tr>\n",
       "    <tr>\n",
       "      <th>1026</th>\n",
       "      <th>MANUAL_HAND</th>\n",
       "      <th>999999</th>\n",
       "      <td></td>\n",
       "    </tr>\n",
       "  </tbody>\n",
       "</table>\n",
       "<p>11532 rows × 1 columns</p>\n",
       "</div>"
      ],
      "text/plain": [
       "                                           orig_food_common_name\n",
       "food_id citation        orig_food_id                            \n",
       "1       MANUAL          999999                                  \n",
       "        PHENOL EXPLORER 842                       angelica fresh\n",
       "        PATHBANK        999999        lipid arabidopsis pathbank\n",
       "        KNAPSACK        999999                                  \n",
       "        PHYTOHUB        999999                                  \n",
       "...                                                          ...\n",
       "1023    PATHBANK        999999        lipid arabidopsis pathbank\n",
       "1024    USDA            18952                 tostada shell corn\n",
       "        PATHBANK        999999        lipid arabidopsis pathbank\n",
       "1025    MANUAL_HAND     999999                                  \n",
       "1026    MANUAL_HAND     999999                                  \n",
       "\n",
       "[11532 rows x 1 columns]"
      ]
     },
     "execution_count": 10,
     "metadata": {},
     "output_type": "execute_result"
    }
   ],
   "source": [
    "unique_orig_foods = content_df.reset_index(drop=False)[['food_id', 'citation', 'orig_food_common_name', 'orig_food_id']].drop_duplicates()[['food_id', 'citation', 'orig_food_common_name', 'orig_food_id']]\n",
    "unique_orig_foods = unique_orig_foods.reset_index(drop=False).set_index(['food_id', 'citation', 'orig_food_id']).drop('index', axis=1)\n",
    "unique_orig_foods"
   ]
  },
  {
   "cell_type": "markdown",
   "metadata": {},
   "source": [
    "We actually only need the citations that contain duplicates, found in the exploration chapter.\n",
    "\n",
    "NOTE: this does however exclude some foods from the unique_orig_foods. This must be accounted for later. #TODO:"
   ]
  },
  {
   "cell_type": "code",
   "execution_count": 11,
   "metadata": {
    "execution": {
     "iopub.execute_input": "2024-02-11T11:46:46.772450Z",
     "iopub.status.busy": "2024-02-11T11:46:46.772361Z",
     "iopub.status.idle": "2024-02-11T11:46:46.775013Z",
     "shell.execute_reply": "2024-02-11T11:46:46.774735Z"
    }
   },
   "outputs": [],
   "source": [
    "unique_orig_foods = unique_orig_foods[unique_orig_foods.index.get_level_values(1).isin(duplicate_citations)]"
   ]
  },
  {
   "cell_type": "code",
   "execution_count": 12,
   "metadata": {
    "execution": {
     "iopub.execute_input": "2024-02-11T11:46:46.776142Z",
     "iopub.status.busy": "2024-02-11T11:46:46.776005Z",
     "iopub.status.idle": "2024-02-11T11:46:46.784278Z",
     "shell.execute_reply": "2024-02-11T11:46:46.784021Z"
    }
   },
   "outputs": [
    {
     "data": {
      "text/html": [
       "<div>\n",
       "<style scoped>\n",
       "    .dataframe tbody tr th:only-of-type {\n",
       "        vertical-align: middle;\n",
       "    }\n",
       "\n",
       "    .dataframe tbody tr th {\n",
       "        vertical-align: top;\n",
       "    }\n",
       "\n",
       "    .dataframe thead th {\n",
       "        text-align: right;\n",
       "    }\n",
       "</style>\n",
       "<table border=\"1\" class=\"dataframe\">\n",
       "  <thead>\n",
       "    <tr style=\"text-align: right;\">\n",
       "      <th></th>\n",
       "      <th></th>\n",
       "      <th></th>\n",
       "      <th>orig_food_id</th>\n",
       "      <th>orig_food_common_name</th>\n",
       "    </tr>\n",
       "    <tr>\n",
       "      <th>food_id</th>\n",
       "      <th>citation</th>\n",
       "      <th>unique_food_id</th>\n",
       "      <th></th>\n",
       "      <th></th>\n",
       "    </tr>\n",
       "  </thead>\n",
       "  <tbody>\n",
       "    <tr>\n",
       "      <th rowspan=\"2\" valign=\"top\">1</th>\n",
       "      <th>PHENOL EXPLORER</th>\n",
       "      <th>0</th>\n",
       "      <td>842</td>\n",
       "      <td>angelica fresh</td>\n",
       "    </tr>\n",
       "    <tr>\n",
       "      <th>PATHBANK</th>\n",
       "      <th>0</th>\n",
       "      <td>999999</td>\n",
       "      <td>lipid arabidopsis pathbank</td>\n",
       "    </tr>\n",
       "    <tr>\n",
       "      <th rowspan=\"3\" valign=\"top\">4</th>\n",
       "      <th>PHENOL EXPLORER</th>\n",
       "      <th>0</th>\n",
       "      <td>156</td>\n",
       "      <td>kiwi</td>\n",
       "    </tr>\n",
       "    <tr>\n",
       "      <th>DTU</th>\n",
       "      <th>0</th>\n",
       "      <td>465</td>\n",
       "      <td>kiwi fruit raw</td>\n",
       "    </tr>\n",
       "    <tr>\n",
       "      <th>USDA</th>\n",
       "      <th>0</th>\n",
       "      <td>9148</td>\n",
       "      <td>kiwifruit green raw</td>\n",
       "    </tr>\n",
       "    <tr>\n",
       "      <th>...</th>\n",
       "      <th>...</th>\n",
       "      <th>...</th>\n",
       "      <td>...</td>\n",
       "      <td>...</td>\n",
       "    </tr>\n",
       "    <tr>\n",
       "      <th rowspan=\"3\" valign=\"top\">1023</th>\n",
       "      <th rowspan=\"2\" valign=\"top\">USDA</th>\n",
       "      <th>0</th>\n",
       "      <td>18360</td>\n",
       "      <td>taco shell baked</td>\n",
       "    </tr>\n",
       "    <tr>\n",
       "      <th>1</th>\n",
       "      <td>18448</td>\n",
       "      <td>taco shell baked without added salt</td>\n",
       "    </tr>\n",
       "    <tr>\n",
       "      <th>PATHBANK</th>\n",
       "      <th>0</th>\n",
       "      <td>999999</td>\n",
       "      <td>lipid arabidopsis pathbank</td>\n",
       "    </tr>\n",
       "    <tr>\n",
       "      <th rowspan=\"2\" valign=\"top\">1024</th>\n",
       "      <th>USDA</th>\n",
       "      <th>0</th>\n",
       "      <td>18952</td>\n",
       "      <td>tostada shell corn</td>\n",
       "    </tr>\n",
       "    <tr>\n",
       "      <th>PATHBANK</th>\n",
       "      <th>0</th>\n",
       "      <td>999999</td>\n",
       "      <td>lipid arabidopsis pathbank</td>\n",
       "    </tr>\n",
       "  </tbody>\n",
       "</table>\n",
       "<p>10316 rows × 2 columns</p>\n",
       "</div>"
      ],
      "text/plain": [
       "                                        orig_food_id  \\\n",
       "food_id citation        unique_food_id                 \n",
       "1       PHENOL EXPLORER 0                        842   \n",
       "        PATHBANK        0                     999999   \n",
       "4       PHENOL EXPLORER 0                        156   \n",
       "        DTU             0                        465   \n",
       "        USDA            0                       9148   \n",
       "...                                              ...   \n",
       "1023    USDA            0                      18360   \n",
       "                        1                      18448   \n",
       "        PATHBANK        0                     999999   \n",
       "1024    USDA            0                      18952   \n",
       "        PATHBANK        0                     999999   \n",
       "\n",
       "                                                      orig_food_common_name  \n",
       "food_id citation        unique_food_id                                       \n",
       "1       PHENOL EXPLORER 0                                    angelica fresh  \n",
       "        PATHBANK        0                        lipid arabidopsis pathbank  \n",
       "4       PHENOL EXPLORER 0                                              kiwi  \n",
       "        DTU             0                                    kiwi fruit raw  \n",
       "        USDA            0                               kiwifruit green raw  \n",
       "...                                                                     ...  \n",
       "1023    USDA            0                                  taco shell baked  \n",
       "                        1               taco shell baked without added salt  \n",
       "        PATHBANK        0                        lipid arabidopsis pathbank  \n",
       "1024    USDA            0                                tostada shell corn  \n",
       "        PATHBANK        0                        lipid arabidopsis pathbank  \n",
       "\n",
       "[10316 rows x 2 columns]"
      ]
     },
     "execution_count": 12,
     "metadata": {},
     "output_type": "execute_result"
    }
   ],
   "source": [
    "# setting cumulative orig_food index with respect to each food/citation\n",
    "unique_orig_foods['unique_food_id'] = unique_orig_foods.groupby(['food_id', 'citation'])['orig_food_common_name'].cumcount()\n",
    "unique_orig_foods = unique_orig_foods.reset_index().set_index(['food_id', 'citation', 'unique_food_id'])\n",
    "unique_orig_foods"
   ]
  },
  {
   "cell_type": "code",
   "execution_count": 13,
   "metadata": {
    "execution": {
     "iopub.execute_input": "2024-02-11T11:46:46.785351Z",
     "iopub.status.busy": "2024-02-11T11:46:46.785250Z",
     "iopub.status.idle": "2024-02-11T11:46:46.791913Z",
     "shell.execute_reply": "2024-02-11T11:46:46.791658Z"
    }
   },
   "outputs": [
    {
     "data": {
      "text/plain": [
       "food_id  citation         orig_food_id\n",
       "1        PHENOL EXPLORER  842             0\n",
       "         PATHBANK         999999          0\n",
       "4        PHENOL EXPLORER  156             0\n",
       "         DTU              465             0\n",
       "         USDA             9148            0\n",
       "                                         ..\n",
       "1023     USDA             18360           0\n",
       "                          18448           1\n",
       "         PATHBANK         999999          0\n",
       "1024     USDA             18952           0\n",
       "         PATHBANK         999999          0\n",
       "Name: unique_food_id, Length: 10316, dtype: int64"
      ]
     },
     "execution_count": 13,
     "metadata": {},
     "output_type": "execute_result"
    }
   ],
   "source": [
    "food_id_map = unique_orig_foods.reset_index().set_index(['food_id', 'citation', 'orig_food_id'])['unique_food_id']\n",
    "food_id_map.sort_index()\n",
    "food_id_map"
   ]
  },
  {
   "cell_type": "code",
   "execution_count": 14,
   "metadata": {
    "execution": {
     "iopub.execute_input": "2024-02-11T11:46:46.792924Z",
     "iopub.status.busy": "2024-02-11T11:46:46.792789Z",
     "iopub.status.idle": "2024-02-11T11:46:48.663942Z",
     "shell.execute_reply": "2024-02-11T11:46:48.663550Z"
    }
   },
   "outputs": [
    {
     "data": {
      "text/html": [
       "<div>\n",
       "<style scoped>\n",
       "    .dataframe tbody tr th:only-of-type {\n",
       "        vertical-align: middle;\n",
       "    }\n",
       "\n",
       "    .dataframe tbody tr th {\n",
       "        vertical-align: top;\n",
       "    }\n",
       "\n",
       "    .dataframe thead th {\n",
       "        text-align: right;\n",
       "    }\n",
       "</style>\n",
       "<table border=\"1\" class=\"dataframe\">\n",
       "  <thead>\n",
       "    <tr style=\"text-align: right;\">\n",
       "      <th></th>\n",
       "      <th></th>\n",
       "      <th></th>\n",
       "      <th>source_id</th>\n",
       "      <th>food_name</th>\n",
       "      <th>source_name</th>\n",
       "      <th>concentration</th>\n",
       "      <th>orig_citation</th>\n",
       "      <th>orig_food_common_name</th>\n",
       "      <th>orig_food_part</th>\n",
       "    </tr>\n",
       "    <tr>\n",
       "      <th>food_id</th>\n",
       "      <th>citation</th>\n",
       "      <th>orig_food_id</th>\n",
       "      <th></th>\n",
       "      <th></th>\n",
       "      <th></th>\n",
       "      <th></th>\n",
       "      <th></th>\n",
       "      <th></th>\n",
       "      <th></th>\n",
       "    </tr>\n",
       "  </thead>\n",
       "  <tbody>\n",
       "    <tr>\n",
       "      <th rowspan=\"5\" valign=\"top\">1</th>\n",
       "      <th rowspan=\"5\" valign=\"top\">KNAPSACK</th>\n",
       "      <th>999999</th>\n",
       "      <td>1598</td>\n",
       "      <td>angelica</td>\n",
       "      <td>4-Hydroxyderricin</td>\n",
       "      <td>&lt;NA&gt;</td>\n",
       "      <td>&lt;NA&gt;</td>\n",
       "      <td></td>\n",
       "      <td>&lt;NA&gt;</td>\n",
       "    </tr>\n",
       "    <tr>\n",
       "      <th>999999</th>\n",
       "      <td>1599</td>\n",
       "      <td>angelica</td>\n",
       "      <td>Xanthoangelol D</td>\n",
       "      <td>&lt;NA&gt;</td>\n",
       "      <td>&lt;NA&gt;</td>\n",
       "      <td></td>\n",
       "      <td>&lt;NA&gt;</td>\n",
       "    </tr>\n",
       "    <tr>\n",
       "      <th>999999</th>\n",
       "      <td>1600</td>\n",
       "      <td>angelica</td>\n",
       "      <td>Xanthoangelol E</td>\n",
       "      <td>&lt;NA&gt;</td>\n",
       "      <td>&lt;NA&gt;</td>\n",
       "      <td></td>\n",
       "      <td>&lt;NA&gt;</td>\n",
       "    </tr>\n",
       "    <tr>\n",
       "      <th>999999</th>\n",
       "      <td>1601</td>\n",
       "      <td>angelica</td>\n",
       "      <td>Xanthoangelol</td>\n",
       "      <td>&lt;NA&gt;</td>\n",
       "      <td>&lt;NA&gt;</td>\n",
       "      <td></td>\n",
       "      <td>&lt;NA&gt;</td>\n",
       "    </tr>\n",
       "    <tr>\n",
       "      <th>999999</th>\n",
       "      <td>1602</td>\n",
       "      <td>angelica</td>\n",
       "      <td>Xanthoangelol B</td>\n",
       "      <td>&lt;NA&gt;</td>\n",
       "      <td>&lt;NA&gt;</td>\n",
       "      <td></td>\n",
       "      <td>&lt;NA&gt;</td>\n",
       "    </tr>\n",
       "    <tr>\n",
       "      <th>...</th>\n",
       "      <th>...</th>\n",
       "      <th>...</th>\n",
       "      <td>...</td>\n",
       "      <td>...</td>\n",
       "      <td>...</td>\n",
       "      <td>...</td>\n",
       "      <td>...</td>\n",
       "      <td>...</td>\n",
       "      <td>...</td>\n",
       "    </tr>\n",
       "    <tr>\n",
       "      <th rowspan=\"2\" valign=\"top\">1024</th>\n",
       "      <th rowspan=\"2\" valign=\"top\">USDA</th>\n",
       "      <th>18952</th>\n",
       "      <td>21595</td>\n",
       "      <td>tostada shell</td>\n",
       "      <td>Fatty acids, total mono-unsaturated</td>\n",
       "      <td>7217.0</td>\n",
       "      <td>&lt;NA&gt;</td>\n",
       "      <td>tostada shell corn</td>\n",
       "      <td>&lt;NA&gt;</td>\n",
       "    </tr>\n",
       "    <tr>\n",
       "      <th>18952</th>\n",
       "      <td>21595</td>\n",
       "      <td>tostada shell</td>\n",
       "      <td>Fatty acids, total mono-unsaturated</td>\n",
       "      <td>8285.0</td>\n",
       "      <td>&lt;NA&gt;</td>\n",
       "      <td>tostada shell corn</td>\n",
       "      <td>&lt;NA&gt;</td>\n",
       "    </tr>\n",
       "    <tr>\n",
       "      <th>1025</th>\n",
       "      <th>MANUAL_HAND</th>\n",
       "      <th>999999</th>\n",
       "      <td>15423</td>\n",
       "      <td>baking soda</td>\n",
       "      <td>Sodium hydrogen carbonate</td>\n",
       "      <td>100000.0</td>\n",
       "      <td>&lt;NA&gt;</td>\n",
       "      <td></td>\n",
       "      <td>&lt;NA&gt;</td>\n",
       "    </tr>\n",
       "    <tr>\n",
       "      <th rowspan=\"2\" valign=\"top\">1026</th>\n",
       "      <th rowspan=\"2\" valign=\"top\">MANUAL_HAND</th>\n",
       "      <th>999999</th>\n",
       "      <td>13358</td>\n",
       "      <td>baking powder</td>\n",
       "      <td>Calcium phosphate (1:1)</td>\n",
       "      <td>10000.0</td>\n",
       "      <td>&lt;NA&gt;</td>\n",
       "      <td></td>\n",
       "      <td>&lt;NA&gt;</td>\n",
       "    </tr>\n",
       "    <tr>\n",
       "      <th>999999</th>\n",
       "      <td>15423</td>\n",
       "      <td>baking powder</td>\n",
       "      <td>Sodium hydrogen carbonate</td>\n",
       "      <td>30000.0</td>\n",
       "      <td>&lt;NA&gt;</td>\n",
       "      <td></td>\n",
       "      <td>&lt;NA&gt;</td>\n",
       "    </tr>\n",
       "  </tbody>\n",
       "</table>\n",
       "<p>4664511 rows × 7 columns</p>\n",
       "</div>"
      ],
      "text/plain": [
       "                                  source_id      food_name  \\\n",
       "food_id citation    orig_food_id                             \n",
       "1       KNAPSACK    999999             1598       angelica   \n",
       "                    999999             1599       angelica   \n",
       "                    999999             1600       angelica   \n",
       "                    999999             1601       angelica   \n",
       "                    999999             1602       angelica   \n",
       "...                                     ...            ...   \n",
       "1024    USDA        18952             21595  tostada shell   \n",
       "                    18952             21595  tostada shell   \n",
       "1025    MANUAL_HAND 999999            15423    baking soda   \n",
       "1026    MANUAL_HAND 999999            13358  baking powder   \n",
       "                    999999            15423  baking powder   \n",
       "\n",
       "                                                          source_name  \\\n",
       "food_id citation    orig_food_id                                        \n",
       "1       KNAPSACK    999999                          4-Hydroxyderricin   \n",
       "                    999999                            Xanthoangelol D   \n",
       "                    999999                            Xanthoangelol E   \n",
       "                    999999                              Xanthoangelol   \n",
       "                    999999                            Xanthoangelol B   \n",
       "...                                                               ...   \n",
       "1024    USDA        18952         Fatty acids, total mono-unsaturated   \n",
       "                    18952         Fatty acids, total mono-unsaturated   \n",
       "1025    MANUAL_HAND 999999                  Sodium hydrogen carbonate   \n",
       "1026    MANUAL_HAND 999999                    Calcium phosphate (1:1)   \n",
       "                    999999                  Sodium hydrogen carbonate   \n",
       "\n",
       "                                  concentration orig_citation  \\\n",
       "food_id citation    orig_food_id                                \n",
       "1       KNAPSACK    999999                 <NA>          <NA>   \n",
       "                    999999                 <NA>          <NA>   \n",
       "                    999999                 <NA>          <NA>   \n",
       "                    999999                 <NA>          <NA>   \n",
       "                    999999                 <NA>          <NA>   \n",
       "...                                         ...           ...   \n",
       "1024    USDA        18952                7217.0          <NA>   \n",
       "                    18952                8285.0          <NA>   \n",
       "1025    MANUAL_HAND 999999             100000.0          <NA>   \n",
       "1026    MANUAL_HAND 999999              10000.0          <NA>   \n",
       "                    999999              30000.0          <NA>   \n",
       "\n",
       "                                 orig_food_common_name orig_food_part  \n",
       "food_id citation    orig_food_id                                       \n",
       "1       KNAPSACK    999999                                       <NA>  \n",
       "                    999999                                       <NA>  \n",
       "                    999999                                       <NA>  \n",
       "                    999999                                       <NA>  \n",
       "                    999999                                       <NA>  \n",
       "...                                                ...            ...  \n",
       "1024    USDA        18952           tostada shell corn           <NA>  \n",
       "                    18952           tostada shell corn           <NA>  \n",
       "1025    MANUAL_HAND 999999                                       <NA>  \n",
       "1026    MANUAL_HAND 999999                                       <NA>  \n",
       "                    999999                                       <NA>  \n",
       "\n",
       "[4664511 rows x 7 columns]"
      ]
     },
     "execution_count": 14,
     "metadata": {},
     "output_type": "execute_result"
    }
   ],
   "source": [
    "content_df = content_df.reset_index().set_index(['food_id', 'citation', 'orig_food_id']).sort_index()\n",
    "content_df"
   ]
  },
  {
   "cell_type": "code",
   "execution_count": 15,
   "metadata": {
    "execution": {
     "iopub.execute_input": "2024-02-11T11:46:48.665309Z",
     "iopub.status.busy": "2024-02-11T11:46:48.665221Z",
     "iopub.status.idle": "2024-02-11T11:46:52.869834Z",
     "shell.execute_reply": "2024-02-11T11:46:52.869409Z"
    }
   },
   "outputs": [
    {
     "data": {
      "text/html": [
       "<div>\n",
       "<style scoped>\n",
       "    .dataframe tbody tr th:only-of-type {\n",
       "        vertical-align: middle;\n",
       "    }\n",
       "\n",
       "    .dataframe tbody tr th {\n",
       "        vertical-align: top;\n",
       "    }\n",
       "\n",
       "    .dataframe thead th {\n",
       "        text-align: right;\n",
       "    }\n",
       "</style>\n",
       "<table border=\"1\" class=\"dataframe\">\n",
       "  <thead>\n",
       "    <tr style=\"text-align: right;\">\n",
       "      <th></th>\n",
       "      <th></th>\n",
       "      <th></th>\n",
       "      <th></th>\n",
       "      <th>orig_food_id</th>\n",
       "      <th>food_name</th>\n",
       "      <th>source_name</th>\n",
       "      <th>concentration</th>\n",
       "      <th>orig_citation</th>\n",
       "      <th>orig_food_common_name</th>\n",
       "      <th>orig_food_part</th>\n",
       "    </tr>\n",
       "    <tr>\n",
       "      <th>food_id</th>\n",
       "      <th>citation</th>\n",
       "      <th>unique_food_id</th>\n",
       "      <th>source_id</th>\n",
       "      <th></th>\n",
       "      <th></th>\n",
       "      <th></th>\n",
       "      <th></th>\n",
       "      <th></th>\n",
       "      <th></th>\n",
       "      <th></th>\n",
       "    </tr>\n",
       "  </thead>\n",
       "  <tbody>\n",
       "    <tr>\n",
       "      <th rowspan=\"5\" valign=\"top\">1</th>\n",
       "      <th rowspan=\"5\" valign=\"top\">KNAPSACK</th>\n",
       "      <th rowspan=\"5\" valign=\"top\">NaN</th>\n",
       "      <th>1598</th>\n",
       "      <td>999999</td>\n",
       "      <td>angelica</td>\n",
       "      <td>4-Hydroxyderricin</td>\n",
       "      <td>&lt;NA&gt;</td>\n",
       "      <td>&lt;NA&gt;</td>\n",
       "      <td></td>\n",
       "      <td>&lt;NA&gt;</td>\n",
       "    </tr>\n",
       "    <tr>\n",
       "      <th>1599</th>\n",
       "      <td>999999</td>\n",
       "      <td>angelica</td>\n",
       "      <td>Xanthoangelol D</td>\n",
       "      <td>&lt;NA&gt;</td>\n",
       "      <td>&lt;NA&gt;</td>\n",
       "      <td></td>\n",
       "      <td>&lt;NA&gt;</td>\n",
       "    </tr>\n",
       "    <tr>\n",
       "      <th>1600</th>\n",
       "      <td>999999</td>\n",
       "      <td>angelica</td>\n",
       "      <td>Xanthoangelol E</td>\n",
       "      <td>&lt;NA&gt;</td>\n",
       "      <td>&lt;NA&gt;</td>\n",
       "      <td></td>\n",
       "      <td>&lt;NA&gt;</td>\n",
       "    </tr>\n",
       "    <tr>\n",
       "      <th>1601</th>\n",
       "      <td>999999</td>\n",
       "      <td>angelica</td>\n",
       "      <td>Xanthoangelol</td>\n",
       "      <td>&lt;NA&gt;</td>\n",
       "      <td>&lt;NA&gt;</td>\n",
       "      <td></td>\n",
       "      <td>&lt;NA&gt;</td>\n",
       "    </tr>\n",
       "    <tr>\n",
       "      <th>1602</th>\n",
       "      <td>999999</td>\n",
       "      <td>angelica</td>\n",
       "      <td>Xanthoangelol B</td>\n",
       "      <td>&lt;NA&gt;</td>\n",
       "      <td>&lt;NA&gt;</td>\n",
       "      <td></td>\n",
       "      <td>&lt;NA&gt;</td>\n",
       "    </tr>\n",
       "    <tr>\n",
       "      <th>...</th>\n",
       "      <th>...</th>\n",
       "      <th>...</th>\n",
       "      <th>...</th>\n",
       "      <td>...</td>\n",
       "      <td>...</td>\n",
       "      <td>...</td>\n",
       "      <td>...</td>\n",
       "      <td>...</td>\n",
       "      <td>...</td>\n",
       "      <td>...</td>\n",
       "    </tr>\n",
       "    <tr>\n",
       "      <th rowspan=\"2\" valign=\"top\">1024</th>\n",
       "      <th rowspan=\"2\" valign=\"top\">USDA</th>\n",
       "      <th rowspan=\"2\" valign=\"top\">0.0</th>\n",
       "      <th>21595</th>\n",
       "      <td>18952</td>\n",
       "      <td>tostada shell</td>\n",
       "      <td>Fatty acids, total mono-unsaturated</td>\n",
       "      <td>7217.0</td>\n",
       "      <td>&lt;NA&gt;</td>\n",
       "      <td>tostada shell corn</td>\n",
       "      <td>&lt;NA&gt;</td>\n",
       "    </tr>\n",
       "    <tr>\n",
       "      <th>21595</th>\n",
       "      <td>18952</td>\n",
       "      <td>tostada shell</td>\n",
       "      <td>Fatty acids, total mono-unsaturated</td>\n",
       "      <td>8285.0</td>\n",
       "      <td>&lt;NA&gt;</td>\n",
       "      <td>tostada shell corn</td>\n",
       "      <td>&lt;NA&gt;</td>\n",
       "    </tr>\n",
       "    <tr>\n",
       "      <th>1025</th>\n",
       "      <th>MANUAL_HAND</th>\n",
       "      <th>NaN</th>\n",
       "      <th>15423</th>\n",
       "      <td>999999</td>\n",
       "      <td>baking soda</td>\n",
       "      <td>Sodium hydrogen carbonate</td>\n",
       "      <td>100000.0</td>\n",
       "      <td>&lt;NA&gt;</td>\n",
       "      <td></td>\n",
       "      <td>&lt;NA&gt;</td>\n",
       "    </tr>\n",
       "    <tr>\n",
       "      <th rowspan=\"2\" valign=\"top\">1026</th>\n",
       "      <th rowspan=\"2\" valign=\"top\">MANUAL_HAND</th>\n",
       "      <th rowspan=\"2\" valign=\"top\">NaN</th>\n",
       "      <th>13358</th>\n",
       "      <td>999999</td>\n",
       "      <td>baking powder</td>\n",
       "      <td>Calcium phosphate (1:1)</td>\n",
       "      <td>10000.0</td>\n",
       "      <td>&lt;NA&gt;</td>\n",
       "      <td></td>\n",
       "      <td>&lt;NA&gt;</td>\n",
       "    </tr>\n",
       "    <tr>\n",
       "      <th>15423</th>\n",
       "      <td>999999</td>\n",
       "      <td>baking powder</td>\n",
       "      <td>Sodium hydrogen carbonate</td>\n",
       "      <td>30000.0</td>\n",
       "      <td>&lt;NA&gt;</td>\n",
       "      <td></td>\n",
       "      <td>&lt;NA&gt;</td>\n",
       "    </tr>\n",
       "  </tbody>\n",
       "</table>\n",
       "<p>4722448 rows × 7 columns</p>\n",
       "</div>"
      ],
      "text/plain": [
       "                                              orig_food_id      food_name  \\\n",
       "food_id citation    unique_food_id source_id                                \n",
       "1       KNAPSACK    NaN            1598             999999       angelica   \n",
       "                                   1599             999999       angelica   \n",
       "                                   1600             999999       angelica   \n",
       "                                   1601             999999       angelica   \n",
       "                                   1602             999999       angelica   \n",
       "...                                                    ...            ...   \n",
       "1024    USDA        0.0            21595             18952  tostada shell   \n",
       "                                   21595             18952  tostada shell   \n",
       "1025    MANUAL_HAND NaN            15423            999999    baking soda   \n",
       "1026    MANUAL_HAND NaN            13358            999999  baking powder   \n",
       "                                   15423            999999  baking powder   \n",
       "\n",
       "                                                                      source_name  \\\n",
       "food_id citation    unique_food_id source_id                                        \n",
       "1       KNAPSACK    NaN            1598                         4-Hydroxyderricin   \n",
       "                                   1599                           Xanthoangelol D   \n",
       "                                   1600                           Xanthoangelol E   \n",
       "                                   1601                             Xanthoangelol   \n",
       "                                   1602                           Xanthoangelol B   \n",
       "...                                                                           ...   \n",
       "1024    USDA        0.0            21595      Fatty acids, total mono-unsaturated   \n",
       "                                   21595      Fatty acids, total mono-unsaturated   \n",
       "1025    MANUAL_HAND NaN            15423                Sodium hydrogen carbonate   \n",
       "1026    MANUAL_HAND NaN            13358                  Calcium phosphate (1:1)   \n",
       "                                   15423                Sodium hydrogen carbonate   \n",
       "\n",
       "                                              concentration orig_citation  \\\n",
       "food_id citation    unique_food_id source_id                                \n",
       "1       KNAPSACK    NaN            1598                <NA>          <NA>   \n",
       "                                   1599                <NA>          <NA>   \n",
       "                                   1600                <NA>          <NA>   \n",
       "                                   1601                <NA>          <NA>   \n",
       "                                   1602                <NA>          <NA>   \n",
       "...                                                     ...           ...   \n",
       "1024    USDA        0.0            21595             7217.0          <NA>   \n",
       "                                   21595             8285.0          <NA>   \n",
       "1025    MANUAL_HAND NaN            15423           100000.0          <NA>   \n",
       "1026    MANUAL_HAND NaN            13358            10000.0          <NA>   \n",
       "                                   15423            30000.0          <NA>   \n",
       "\n",
       "                                             orig_food_common_name  \\\n",
       "food_id citation    unique_food_id source_id                         \n",
       "1       KNAPSACK    NaN            1598                              \n",
       "                                   1599                              \n",
       "                                   1600                              \n",
       "                                   1601                              \n",
       "                                   1602                              \n",
       "...                                                            ...   \n",
       "1024    USDA        0.0            21595        tostada shell corn   \n",
       "                                   21595        tostada shell corn   \n",
       "1025    MANUAL_HAND NaN            15423                             \n",
       "1026    MANUAL_HAND NaN            13358                             \n",
       "                                   15423                             \n",
       "\n",
       "                                             orig_food_part  \n",
       "food_id citation    unique_food_id source_id                 \n",
       "1       KNAPSACK    NaN            1598                <NA>  \n",
       "                                   1599                <NA>  \n",
       "                                   1600                <NA>  \n",
       "                                   1601                <NA>  \n",
       "                                   1602                <NA>  \n",
       "...                                                     ...  \n",
       "1024    USDA        0.0            21595               <NA>  \n",
       "                                   21595               <NA>  \n",
       "1025    MANUAL_HAND NaN            15423               <NA>  \n",
       "1026    MANUAL_HAND NaN            13358               <NA>  \n",
       "                                   15423               <NA>  \n",
       "\n",
       "[4722448 rows x 7 columns]"
      ]
     },
     "execution_count": 15,
     "metadata": {},
     "output_type": "execute_result"
    }
   ],
   "source": [
    "content_df = content_df.join(food_id_map)\n",
    "content_df = content_df.reset_index().set_index(['food_id', 'citation', 'unique_food_id', 'source_id'])\n",
    "content_df"
   ]
  },
  {
   "cell_type": "code",
   "execution_count": 16,
   "metadata": {
    "execution": {
     "iopub.execute_input": "2024-02-11T11:46:52.871162Z",
     "iopub.status.busy": "2024-02-11T11:46:52.871071Z",
     "iopub.status.idle": "2024-02-11T11:46:53.204100Z",
     "shell.execute_reply": "2024-02-11T11:46:53.203607Z"
    }
   },
   "outputs": [],
   "source": [
    "content_df = content_df.drop('orig_food_id', axis=1)\n",
    "unique_orig_foods = unique_orig_foods.drop('orig_food_id', axis=1)"
   ]
  },
  {
   "cell_type": "code",
   "execution_count": 17,
   "metadata": {
    "execution": {
     "iopub.execute_input": "2024-02-11T11:46:53.205599Z",
     "iopub.status.busy": "2024-02-11T11:46:53.205507Z",
     "iopub.status.idle": "2024-02-11T11:46:53.210101Z",
     "shell.execute_reply": "2024-02-11T11:46:53.209830Z"
    }
   },
   "outputs": [
    {
     "data": {
      "text/html": [
       "<div>\n",
       "<style scoped>\n",
       "    .dataframe tbody tr th:only-of-type {\n",
       "        vertical-align: middle;\n",
       "    }\n",
       "\n",
       "    .dataframe tbody tr th {\n",
       "        vertical-align: top;\n",
       "    }\n",
       "\n",
       "    .dataframe thead th {\n",
       "        text-align: right;\n",
       "    }\n",
       "</style>\n",
       "<table border=\"1\" class=\"dataframe\">\n",
       "  <thead>\n",
       "    <tr style=\"text-align: right;\">\n",
       "      <th></th>\n",
       "      <th></th>\n",
       "      <th></th>\n",
       "      <th>orig_food_common_name</th>\n",
       "    </tr>\n",
       "    <tr>\n",
       "      <th>food_id</th>\n",
       "      <th>citation</th>\n",
       "      <th>unique_food_id</th>\n",
       "      <th></th>\n",
       "    </tr>\n",
       "  </thead>\n",
       "  <tbody>\n",
       "    <tr>\n",
       "      <th rowspan=\"2\" valign=\"top\">1</th>\n",
       "      <th>PHENOL EXPLORER</th>\n",
       "      <th>0</th>\n",
       "      <td>angelica fresh</td>\n",
       "    </tr>\n",
       "    <tr>\n",
       "      <th>PATHBANK</th>\n",
       "      <th>0</th>\n",
       "      <td>lipid arabidopsis pathbank</td>\n",
       "    </tr>\n",
       "    <tr>\n",
       "      <th rowspan=\"3\" valign=\"top\">4</th>\n",
       "      <th>PHENOL EXPLORER</th>\n",
       "      <th>0</th>\n",
       "      <td>kiwi</td>\n",
       "    </tr>\n",
       "    <tr>\n",
       "      <th>DTU</th>\n",
       "      <th>0</th>\n",
       "      <td>kiwi fruit raw</td>\n",
       "    </tr>\n",
       "    <tr>\n",
       "      <th>USDA</th>\n",
       "      <th>0</th>\n",
       "      <td>kiwifruit green raw</td>\n",
       "    </tr>\n",
       "    <tr>\n",
       "      <th>...</th>\n",
       "      <th>...</th>\n",
       "      <th>...</th>\n",
       "      <td>...</td>\n",
       "    </tr>\n",
       "    <tr>\n",
       "      <th rowspan=\"3\" valign=\"top\">1023</th>\n",
       "      <th rowspan=\"2\" valign=\"top\">USDA</th>\n",
       "      <th>0</th>\n",
       "      <td>taco shell baked</td>\n",
       "    </tr>\n",
       "    <tr>\n",
       "      <th>1</th>\n",
       "      <td>taco shell baked without added salt</td>\n",
       "    </tr>\n",
       "    <tr>\n",
       "      <th>PATHBANK</th>\n",
       "      <th>0</th>\n",
       "      <td>lipid arabidopsis pathbank</td>\n",
       "    </tr>\n",
       "    <tr>\n",
       "      <th rowspan=\"2\" valign=\"top\">1024</th>\n",
       "      <th>USDA</th>\n",
       "      <th>0</th>\n",
       "      <td>tostada shell corn</td>\n",
       "    </tr>\n",
       "    <tr>\n",
       "      <th>PATHBANK</th>\n",
       "      <th>0</th>\n",
       "      <td>lipid arabidopsis pathbank</td>\n",
       "    </tr>\n",
       "  </tbody>\n",
       "</table>\n",
       "<p>10316 rows × 1 columns</p>\n",
       "</div>"
      ],
      "text/plain": [
       "                                                      orig_food_common_name\n",
       "food_id citation        unique_food_id                                     \n",
       "1       PHENOL EXPLORER 0                                    angelica fresh\n",
       "        PATHBANK        0                        lipid arabidopsis pathbank\n",
       "4       PHENOL EXPLORER 0                                              kiwi\n",
       "        DTU             0                                    kiwi fruit raw\n",
       "        USDA            0                               kiwifruit green raw\n",
       "...                                                                     ...\n",
       "1023    USDA            0                                  taco shell baked\n",
       "                        1               taco shell baked without added salt\n",
       "        PATHBANK        0                        lipid arabidopsis pathbank\n",
       "1024    USDA            0                                tostada shell corn\n",
       "        PATHBANK        0                        lipid arabidopsis pathbank\n",
       "\n",
       "[10316 rows x 1 columns]"
      ]
     },
     "execution_count": 17,
     "metadata": {},
     "output_type": "execute_result"
    }
   ],
   "source": [
    "unique_orig_foods"
   ]
  },
  {
   "cell_type": "code",
   "execution_count": 18,
   "metadata": {
    "execution": {
     "iopub.execute_input": "2024-02-11T11:46:53.211216Z",
     "iopub.status.busy": "2024-02-11T11:46:53.211065Z",
     "iopub.status.idle": "2024-02-11T11:46:53.217592Z",
     "shell.execute_reply": "2024-02-11T11:46:53.217339Z"
    }
   },
   "outputs": [
    {
     "data": {
      "text/html": [
       "<div>\n",
       "<style scoped>\n",
       "    .dataframe tbody tr th:only-of-type {\n",
       "        vertical-align: middle;\n",
       "    }\n",
       "\n",
       "    .dataframe tbody tr th {\n",
       "        vertical-align: top;\n",
       "    }\n",
       "\n",
       "    .dataframe thead th {\n",
       "        text-align: right;\n",
       "    }\n",
       "</style>\n",
       "<table border=\"1\" class=\"dataframe\">\n",
       "  <thead>\n",
       "    <tr style=\"text-align: right;\">\n",
       "      <th></th>\n",
       "      <th></th>\n",
       "      <th></th>\n",
       "      <th></th>\n",
       "      <th>food_name</th>\n",
       "      <th>source_name</th>\n",
       "      <th>concentration</th>\n",
       "      <th>orig_citation</th>\n",
       "      <th>orig_food_common_name</th>\n",
       "      <th>orig_food_part</th>\n",
       "    </tr>\n",
       "    <tr>\n",
       "      <th>food_id</th>\n",
       "      <th>citation</th>\n",
       "      <th>unique_food_id</th>\n",
       "      <th>source_id</th>\n",
       "      <th></th>\n",
       "      <th></th>\n",
       "      <th></th>\n",
       "      <th></th>\n",
       "      <th></th>\n",
       "      <th></th>\n",
       "    </tr>\n",
       "  </thead>\n",
       "  <tbody>\n",
       "    <tr>\n",
       "      <th rowspan=\"5\" valign=\"top\">1</th>\n",
       "      <th rowspan=\"5\" valign=\"top\">KNAPSACK</th>\n",
       "      <th rowspan=\"5\" valign=\"top\">NaN</th>\n",
       "      <th>1598</th>\n",
       "      <td>angelica</td>\n",
       "      <td>4-Hydroxyderricin</td>\n",
       "      <td>&lt;NA&gt;</td>\n",
       "      <td>&lt;NA&gt;</td>\n",
       "      <td></td>\n",
       "      <td>&lt;NA&gt;</td>\n",
       "    </tr>\n",
       "    <tr>\n",
       "      <th>1599</th>\n",
       "      <td>angelica</td>\n",
       "      <td>Xanthoangelol D</td>\n",
       "      <td>&lt;NA&gt;</td>\n",
       "      <td>&lt;NA&gt;</td>\n",
       "      <td></td>\n",
       "      <td>&lt;NA&gt;</td>\n",
       "    </tr>\n",
       "    <tr>\n",
       "      <th>1600</th>\n",
       "      <td>angelica</td>\n",
       "      <td>Xanthoangelol E</td>\n",
       "      <td>&lt;NA&gt;</td>\n",
       "      <td>&lt;NA&gt;</td>\n",
       "      <td></td>\n",
       "      <td>&lt;NA&gt;</td>\n",
       "    </tr>\n",
       "    <tr>\n",
       "      <th>1601</th>\n",
       "      <td>angelica</td>\n",
       "      <td>Xanthoangelol</td>\n",
       "      <td>&lt;NA&gt;</td>\n",
       "      <td>&lt;NA&gt;</td>\n",
       "      <td></td>\n",
       "      <td>&lt;NA&gt;</td>\n",
       "    </tr>\n",
       "    <tr>\n",
       "      <th>1602</th>\n",
       "      <td>angelica</td>\n",
       "      <td>Xanthoangelol B</td>\n",
       "      <td>&lt;NA&gt;</td>\n",
       "      <td>&lt;NA&gt;</td>\n",
       "      <td></td>\n",
       "      <td>&lt;NA&gt;</td>\n",
       "    </tr>\n",
       "    <tr>\n",
       "      <th>...</th>\n",
       "      <th>...</th>\n",
       "      <th>...</th>\n",
       "      <th>...</th>\n",
       "      <td>...</td>\n",
       "      <td>...</td>\n",
       "      <td>...</td>\n",
       "      <td>...</td>\n",
       "      <td>...</td>\n",
       "      <td>...</td>\n",
       "    </tr>\n",
       "    <tr>\n",
       "      <th rowspan=\"2\" valign=\"top\">1024</th>\n",
       "      <th rowspan=\"2\" valign=\"top\">USDA</th>\n",
       "      <th rowspan=\"2\" valign=\"top\">0.0</th>\n",
       "      <th>21595</th>\n",
       "      <td>tostada shell</td>\n",
       "      <td>Fatty acids, total mono-unsaturated</td>\n",
       "      <td>7217.0</td>\n",
       "      <td>&lt;NA&gt;</td>\n",
       "      <td>tostada shell corn</td>\n",
       "      <td>&lt;NA&gt;</td>\n",
       "    </tr>\n",
       "    <tr>\n",
       "      <th>21595</th>\n",
       "      <td>tostada shell</td>\n",
       "      <td>Fatty acids, total mono-unsaturated</td>\n",
       "      <td>8285.0</td>\n",
       "      <td>&lt;NA&gt;</td>\n",
       "      <td>tostada shell corn</td>\n",
       "      <td>&lt;NA&gt;</td>\n",
       "    </tr>\n",
       "    <tr>\n",
       "      <th>1025</th>\n",
       "      <th>MANUAL_HAND</th>\n",
       "      <th>NaN</th>\n",
       "      <th>15423</th>\n",
       "      <td>baking soda</td>\n",
       "      <td>Sodium hydrogen carbonate</td>\n",
       "      <td>100000.0</td>\n",
       "      <td>&lt;NA&gt;</td>\n",
       "      <td></td>\n",
       "      <td>&lt;NA&gt;</td>\n",
       "    </tr>\n",
       "    <tr>\n",
       "      <th rowspan=\"2\" valign=\"top\">1026</th>\n",
       "      <th rowspan=\"2\" valign=\"top\">MANUAL_HAND</th>\n",
       "      <th rowspan=\"2\" valign=\"top\">NaN</th>\n",
       "      <th>13358</th>\n",
       "      <td>baking powder</td>\n",
       "      <td>Calcium phosphate (1:1)</td>\n",
       "      <td>10000.0</td>\n",
       "      <td>&lt;NA&gt;</td>\n",
       "      <td></td>\n",
       "      <td>&lt;NA&gt;</td>\n",
       "    </tr>\n",
       "    <tr>\n",
       "      <th>15423</th>\n",
       "      <td>baking powder</td>\n",
       "      <td>Sodium hydrogen carbonate</td>\n",
       "      <td>30000.0</td>\n",
       "      <td>&lt;NA&gt;</td>\n",
       "      <td></td>\n",
       "      <td>&lt;NA&gt;</td>\n",
       "    </tr>\n",
       "  </tbody>\n",
       "</table>\n",
       "<p>4722448 rows × 6 columns</p>\n",
       "</div>"
      ],
      "text/plain": [
       "                                                  food_name  \\\n",
       "food_id citation    unique_food_id source_id                  \n",
       "1       KNAPSACK    NaN            1598            angelica   \n",
       "                                   1599            angelica   \n",
       "                                   1600            angelica   \n",
       "                                   1601            angelica   \n",
       "                                   1602            angelica   \n",
       "...                                                     ...   \n",
       "1024    USDA        0.0            21595      tostada shell   \n",
       "                                   21595      tostada shell   \n",
       "1025    MANUAL_HAND NaN            15423        baking soda   \n",
       "1026    MANUAL_HAND NaN            13358      baking powder   \n",
       "                                   15423      baking powder   \n",
       "\n",
       "                                                                      source_name  \\\n",
       "food_id citation    unique_food_id source_id                                        \n",
       "1       KNAPSACK    NaN            1598                         4-Hydroxyderricin   \n",
       "                                   1599                           Xanthoangelol D   \n",
       "                                   1600                           Xanthoangelol E   \n",
       "                                   1601                             Xanthoangelol   \n",
       "                                   1602                           Xanthoangelol B   \n",
       "...                                                                           ...   \n",
       "1024    USDA        0.0            21595      Fatty acids, total mono-unsaturated   \n",
       "                                   21595      Fatty acids, total mono-unsaturated   \n",
       "1025    MANUAL_HAND NaN            15423                Sodium hydrogen carbonate   \n",
       "1026    MANUAL_HAND NaN            13358                  Calcium phosphate (1:1)   \n",
       "                                   15423                Sodium hydrogen carbonate   \n",
       "\n",
       "                                              concentration orig_citation  \\\n",
       "food_id citation    unique_food_id source_id                                \n",
       "1       KNAPSACK    NaN            1598                <NA>          <NA>   \n",
       "                                   1599                <NA>          <NA>   \n",
       "                                   1600                <NA>          <NA>   \n",
       "                                   1601                <NA>          <NA>   \n",
       "                                   1602                <NA>          <NA>   \n",
       "...                                                     ...           ...   \n",
       "1024    USDA        0.0            21595             7217.0          <NA>   \n",
       "                                   21595             8285.0          <NA>   \n",
       "1025    MANUAL_HAND NaN            15423           100000.0          <NA>   \n",
       "1026    MANUAL_HAND NaN            13358            10000.0          <NA>   \n",
       "                                   15423            30000.0          <NA>   \n",
       "\n",
       "                                             orig_food_common_name  \\\n",
       "food_id citation    unique_food_id source_id                         \n",
       "1       KNAPSACK    NaN            1598                              \n",
       "                                   1599                              \n",
       "                                   1600                              \n",
       "                                   1601                              \n",
       "                                   1602                              \n",
       "...                                                            ...   \n",
       "1024    USDA        0.0            21595        tostada shell corn   \n",
       "                                   21595        tostada shell corn   \n",
       "1025    MANUAL_HAND NaN            15423                             \n",
       "1026    MANUAL_HAND NaN            13358                             \n",
       "                                   15423                             \n",
       "\n",
       "                                             orig_food_part  \n",
       "food_id citation    unique_food_id source_id                 \n",
       "1       KNAPSACK    NaN            1598                <NA>  \n",
       "                                   1599                <NA>  \n",
       "                                   1600                <NA>  \n",
       "                                   1601                <NA>  \n",
       "                                   1602                <NA>  \n",
       "...                                                     ...  \n",
       "1024    USDA        0.0            21595               <NA>  \n",
       "                                   21595               <NA>  \n",
       "1025    MANUAL_HAND NaN            15423               <NA>  \n",
       "1026    MANUAL_HAND NaN            13358               <NA>  \n",
       "                                   15423               <NA>  \n",
       "\n",
       "[4722448 rows x 6 columns]"
      ]
     },
     "execution_count": 18,
     "metadata": {},
     "output_type": "execute_result"
    }
   ],
   "source": [
    "content_df"
   ]
  },
  {
   "cell_type": "code",
   "execution_count": 19,
   "metadata": {
    "execution": {
     "iopub.execute_input": "2024-02-11T11:46:53.218669Z",
     "iopub.status.busy": "2024-02-11T11:46:53.218535Z",
     "iopub.status.idle": "2024-02-11T11:46:53.221309Z",
     "shell.execute_reply": "2024-02-11T11:46:53.221055Z"
    }
   },
   "outputs": [
    {
     "data": {
      "text/plain": [
       "name.name.nouns.0    lime\n",
       "Name: (894410, 9), dtype: object"
      ]
     },
     "execution_count": 19,
     "metadata": {},
     "output_type": "execute_result"
    }
   ],
   "source": [
    "ingredient = expanded_ingredients_df.loc[894410,\t9]\n",
    "ingredient[ingredient.notnull()]"
   ]
  },
  {
   "cell_type": "code",
   "execution_count": 20,
   "metadata": {
    "execution": {
     "iopub.execute_input": "2024-02-11T11:46:53.222386Z",
     "iopub.status.busy": "2024-02-11T11:46:53.222261Z",
     "iopub.status.idle": "2024-02-11T11:46:53.225760Z",
     "shell.execute_reply": "2024-02-11T11:46:53.225509Z"
    }
   },
   "outputs": [
    {
     "data": {
      "text/html": [
       "<div>\n",
       "<style scoped>\n",
       "    .dataframe tbody tr th:only-of-type {\n",
       "        vertical-align: middle;\n",
       "    }\n",
       "\n",
       "    .dataframe tbody tr th {\n",
       "        vertical-align: top;\n",
       "    }\n",
       "\n",
       "    .dataframe thead th {\n",
       "        text-align: right;\n",
       "    }\n",
       "</style>\n",
       "<table border=\"1\" class=\"dataframe\">\n",
       "  <thead>\n",
       "    <tr style=\"text-align: right;\">\n",
       "      <th></th>\n",
       "      <th>orig_food_common_name</th>\n",
       "    </tr>\n",
       "    <tr>\n",
       "      <th>unique_food_id</th>\n",
       "      <th></th>\n",
       "    </tr>\n",
       "  </thead>\n",
       "  <tbody>\n",
       "    <tr>\n",
       "      <th>0</th>\n",
       "      <td>lime juice raw</td>\n",
       "    </tr>\n",
       "    <tr>\n",
       "      <th>1</th>\n",
       "      <td>lime raw</td>\n",
       "    </tr>\n",
       "    <tr>\n",
       "      <th>2</th>\n",
       "      <td>lime juice canned bottled unsweetened</td>\n",
       "    </tr>\n",
       "    <tr>\n",
       "      <th>3</th>\n",
       "      <td></td>\n",
       "    </tr>\n",
       "  </tbody>\n",
       "</table>\n",
       "</div>"
      ],
      "text/plain": [
       "                                orig_food_common_name\n",
       "unique_food_id                                       \n",
       "0                                      lime juice raw\n",
       "1                                            lime raw\n",
       "2               lime juice canned bottled unsweetened\n",
       "3                                                    "
      ]
     },
     "execution_count": 20,
     "metadata": {},
     "output_type": "execute_result"
    }
   ],
   "source": [
    "matched_unique_orig_foods = unique_orig_foods.loc[food_ids.loc[ingredient.name].iloc[0]]\n",
    "matched_unique_orig_foods = matched_unique_orig_foods.loc['USDA']\n",
    "matched_unique_orig_foods = matched_unique_orig_foods.loc[matched_unique_orig_foods.index.dropna()]\n",
    "matched_unique_orig_foods"
   ]
  },
  {
   "cell_type": "markdown",
   "metadata": {},
   "source": [
    "We could then select the best one here according to the ingredient in a similar way the dataframe was joined."
   ]
  },
  {
   "cell_type": "markdown",
   "metadata": {},
   "source": [
    "## Searching Duplicate Foods"
   ]
  },
  {
   "cell_type": "code",
   "execution_count": 21,
   "metadata": {
    "execution": {
     "iopub.execute_input": "2024-02-11T11:46:53.226821Z",
     "iopub.status.busy": "2024-02-11T11:46:53.226698Z",
     "iopub.status.idle": "2024-02-11T11:46:53.228934Z",
     "shell.execute_reply": "2024-02-11T11:46:53.228670Z"
    }
   },
   "outputs": [],
   "source": [
    "#| export\n",
    "def search_duplicate_food_matches(ingredient, duplicate_foods):\n",
    "\n",
    "    ingredient = ingredient[ingredient.notnull()]\n",
    "\n",
    "    matched_duplicate_foods = duplicate_foods\n",
    "    matched_idxs = matched_duplicate_foods.index\n",
    "    found_match = False\n",
    "\n",
    "    for search_col, search_word in ingredient.items():\n",
    "\n",
    "        current_matched_idxs = matched_duplicate_foods.index[matched_duplicate_foods.apply(fuzzy_search, args=(search_word,))]\n",
    "\n",
    "        if not current_matched_idxs.empty:\n",
    "            matched_idxs = current_matched_idxs\n",
    "            found_match = True\n",
    "        else:\n",
    "            if not search_col.startswith('name.name.nouns'):\n",
    "                pass\n",
    "        \n",
    "        matched_duplicate_foods = matched_duplicate_foods.loc[matched_idxs]\n",
    "\n",
    "    if not found_match: matched_idxs = []\n",
    "\n",
    "    return matched_duplicate_foods"
   ]
  },
  {
   "cell_type": "code",
   "execution_count": 22,
   "metadata": {
    "execution": {
     "iopub.execute_input": "2024-02-11T11:46:53.229889Z",
     "iopub.status.busy": "2024-02-11T11:46:53.229812Z",
     "iopub.status.idle": "2024-02-11T11:46:53.232225Z",
     "shell.execute_reply": "2024-02-11T11:46:53.231966Z"
    }
   },
   "outputs": [
    {
     "data": {
      "text/plain": [
       "unique_food_id\n",
       "0                           lime juice raw\n",
       "1                                 lime raw\n",
       "2    lime juice canned bottled unsweetened\n",
       "3                                         \n",
       "Name: orig_food_common_name, dtype: string"
      ]
     },
     "execution_count": 22,
     "metadata": {},
     "output_type": "execute_result"
    }
   ],
   "source": [
    "matched_unique_orig_foods['orig_food_common_name']"
   ]
  },
  {
   "cell_type": "code",
   "execution_count": 23,
   "metadata": {
    "execution": {
     "iopub.execute_input": "2024-02-11T11:46:53.233173Z",
     "iopub.status.busy": "2024-02-11T11:46:53.233078Z",
     "iopub.status.idle": "2024-02-11T11:46:53.235781Z",
     "shell.execute_reply": "2024-02-11T11:46:53.235533Z"
    }
   },
   "outputs": [
    {
     "data": {
      "text/plain": [
       "unique_food_id\n",
       "0                           lime juice raw\n",
       "1                                 lime raw\n",
       "2    lime juice canned bottled unsweetened\n",
       "Name: orig_food_common_name, dtype: string"
      ]
     },
     "execution_count": 23,
     "metadata": {},
     "output_type": "execute_result"
    }
   ],
   "source": [
    "searched_duplicate_foods = search_duplicate_food_matches(ingredient, matched_unique_orig_foods['orig_food_common_name'])\n",
    "searched_duplicate_foods"
   ]
  },
  {
   "cell_type": "markdown",
   "metadata": {},
   "source": [
    "## Selecting from Search"
   ]
  },
  {
   "cell_type": "code",
   "execution_count": 24,
   "metadata": {
    "execution": {
     "iopub.execute_input": "2024-02-11T11:46:53.236783Z",
     "iopub.status.busy": "2024-02-11T11:46:53.236660Z",
     "iopub.status.idle": "2024-02-11T11:46:53.238355Z",
     "shell.execute_reply": "2024-02-11T11:46:53.238100Z"
    }
   },
   "outputs": [],
   "source": [
    "#| export\n",
    "with open(f'{root}/data/globals/default_words.json', 'r') as f:\n",
    "    default_words = json.load(f)['molecule']"
   ]
  },
  {
   "cell_type": "code",
   "execution_count": 25,
   "metadata": {
    "execution": {
     "iopub.execute_input": "2024-02-11T11:46:53.239350Z",
     "iopub.status.busy": "2024-02-11T11:46:53.239229Z",
     "iopub.status.idle": "2024-02-11T11:46:53.241057Z",
     "shell.execute_reply": "2024-02-11T11:46:53.240800Z"
    }
   },
   "outputs": [
    {
     "name": "stdout",
     "output_type": "stream",
     "text": [
      "['raw', 'whole', 'fresh', 'regular', 'plain', 'unflavoured', 'unenriched', 'table', 'hard', 'common', 'ripe', 'average']\n"
     ]
    }
   ],
   "source": [
    "print(default_words)"
   ]
  },
  {
   "cell_type": "code",
   "execution_count": 26,
   "metadata": {
    "execution": {
     "iopub.execute_input": "2024-02-11T11:46:53.242058Z",
     "iopub.status.busy": "2024-02-11T11:46:53.241939Z",
     "iopub.status.idle": "2024-02-11T11:46:53.244248Z",
     "shell.execute_reply": "2024-02-11T11:46:53.243990Z"
    }
   },
   "outputs": [],
   "source": [
    "#| export\n",
    "def calculate_match_stats(match_string, ingredient_values):\n",
    "    match_position = 99\n",
    "    whole_match_count = 0\n",
    "    match_count = 0\n",
    "    name_word_count = 99\n",
    "    default_word_count = 0\n",
    "    match_words = match_string.split(' ')\n",
    "    for i, match_word in enumerate(match_words):\n",
    "        if any([v for v in ingredient_values if fuzzy_search(v, match_word)]):\n",
    "            match_position = i\n",
    "            match_count += 1\n",
    "        if any([v for v in ingredient_values if v == match_word]):\n",
    "            whole_match_count += 1\n",
    "        if any([w for w in default_words if w == match_word]):\n",
    "            default_word_count += 1\n",
    "    name_word_count = len(match_words)\n",
    "    name_word_count -= default_word_count\n",
    "    return (\n",
    "        match_position,\n",
    "        whole_match_count,\n",
    "        match_count, \n",
    "        name_word_count,\n",
    "        default_word_count\n",
    "    )"
   ]
  },
  {
   "cell_type": "code",
   "execution_count": 27,
   "metadata": {
    "execution": {
     "iopub.execute_input": "2024-02-11T11:46:53.245286Z",
     "iopub.status.busy": "2024-02-11T11:46:53.245128Z",
     "iopub.status.idle": "2024-02-11T11:46:53.247495Z",
     "shell.execute_reply": "2024-02-11T11:46:53.247238Z"
    }
   },
   "outputs": [],
   "source": [
    "#| export\n",
    "def select_from_filtered_duplicate_matches(ingredient, matches, return_df=False):\n",
    "\n",
    "    # since we don't have any rubbish foods here, we can include all search terms of the ingredient\n",
    "    ingredient_cols = ingredient.index[ingredient.notnull()]\n",
    "    ingredient_values = ingredient[ingredient_cols].values\n",
    "\n",
    "    matched_df = matches.to_frame('name')\n",
    "\n",
    "    matched_df['match_position'], \\\n",
    "    matched_df['whole_match_count'], \\\n",
    "    matched_df['match_count'], \\\n",
    "    matched_df['name_word_count'], \\\n",
    "    matched_df['default_word_count'] = zip(*matched_df['name'].apply(calculate_match_stats, args=(ingredient_values,)))\n",
    "\n",
    "    matched_df = matched_df.sort_values(\n",
    "        ['match_position',\n",
    "         'whole_match_count',\n",
    "         'match_count',\n",
    "         'default_word_count',\n",
    "         'name_word_count',\n",
    "         'unique_food_id'],\n",
    "        ascending = [\n",
    "            True,\n",
    "            False,\n",
    "            False,\n",
    "            False,\n",
    "            True,\n",
    "            True\n",
    "        ]\n",
    "    )\n",
    "\n",
    "    if return_df:\n",
    "        return matched_df\n",
    "    else:\n",
    "        return matched_df.iloc[0].name if not matched_df.empty else pd.NA"
   ]
  },
  {
   "cell_type": "code",
   "execution_count": 28,
   "metadata": {
    "execution": {
     "iopub.execute_input": "2024-02-11T11:46:53.248557Z",
     "iopub.status.busy": "2024-02-11T11:46:53.248421Z",
     "iopub.status.idle": "2024-02-11T11:46:53.253194Z",
     "shell.execute_reply": "2024-02-11T11:46:53.252942Z"
    }
   },
   "outputs": [
    {
     "data": {
      "text/html": [
       "<div>\n",
       "<style scoped>\n",
       "    .dataframe tbody tr th:only-of-type {\n",
       "        vertical-align: middle;\n",
       "    }\n",
       "\n",
       "    .dataframe tbody tr th {\n",
       "        vertical-align: top;\n",
       "    }\n",
       "\n",
       "    .dataframe thead th {\n",
       "        text-align: right;\n",
       "    }\n",
       "</style>\n",
       "<table border=\"1\" class=\"dataframe\">\n",
       "  <thead>\n",
       "    <tr style=\"text-align: right;\">\n",
       "      <th></th>\n",
       "      <th>name</th>\n",
       "      <th>match_position</th>\n",
       "      <th>whole_match_count</th>\n",
       "      <th>match_count</th>\n",
       "      <th>name_word_count</th>\n",
       "      <th>default_word_count</th>\n",
       "    </tr>\n",
       "    <tr>\n",
       "      <th>unique_food_id</th>\n",
       "      <th></th>\n",
       "      <th></th>\n",
       "      <th></th>\n",
       "      <th></th>\n",
       "      <th></th>\n",
       "      <th></th>\n",
       "    </tr>\n",
       "  </thead>\n",
       "  <tbody>\n",
       "    <tr>\n",
       "      <th>1</th>\n",
       "      <td>lime raw</td>\n",
       "      <td>0</td>\n",
       "      <td>1</td>\n",
       "      <td>1</td>\n",
       "      <td>1</td>\n",
       "      <td>1</td>\n",
       "    </tr>\n",
       "    <tr>\n",
       "      <th>0</th>\n",
       "      <td>lime juice raw</td>\n",
       "      <td>0</td>\n",
       "      <td>1</td>\n",
       "      <td>1</td>\n",
       "      <td>2</td>\n",
       "      <td>1</td>\n",
       "    </tr>\n",
       "    <tr>\n",
       "      <th>2</th>\n",
       "      <td>lime juice canned bottled unsweetened</td>\n",
       "      <td>0</td>\n",
       "      <td>1</td>\n",
       "      <td>1</td>\n",
       "      <td>5</td>\n",
       "      <td>0</td>\n",
       "    </tr>\n",
       "  </tbody>\n",
       "</table>\n",
       "</div>"
      ],
      "text/plain": [
       "                                                 name  match_position  \\\n",
       "unique_food_id                                                          \n",
       "1                                            lime raw               0   \n",
       "0                                      lime juice raw               0   \n",
       "2               lime juice canned bottled unsweetened               0   \n",
       "\n",
       "                whole_match_count  match_count  name_word_count  \\\n",
       "unique_food_id                                                    \n",
       "1                               1            1                1   \n",
       "0                               1            1                2   \n",
       "2                               1            1                5   \n",
       "\n",
       "                default_word_count  \n",
       "unique_food_id                      \n",
       "1                                1  \n",
       "0                                1  \n",
       "2                                0  "
      ]
     },
     "execution_count": 28,
     "metadata": {},
     "output_type": "execute_result"
    }
   ],
   "source": [
    "select_from_filtered_duplicate_matches(ingredient, searched_duplicate_foods, True)"
   ]
  },
  {
   "cell_type": "markdown",
   "metadata": {},
   "source": [
    "## Maximising Contents"
   ]
  },
  {
   "cell_type": "markdown",
   "metadata": {},
   "source": [
    "Anothoer point to consider is what we want from our outcome. Ideally we want to pick the food with a high amount of content entries. Lets factor this into the selection process."
   ]
  },
  {
   "cell_type": "code",
   "execution_count": 29,
   "metadata": {
    "execution": {
     "iopub.execute_input": "2024-02-11T11:46:53.254228Z",
     "iopub.status.busy": "2024-02-11T11:46:53.254104Z",
     "iopub.status.idle": "2024-02-11T11:46:53.282072Z",
     "shell.execute_reply": "2024-02-11T11:46:53.281651Z"
    }
   },
   "outputs": [
    {
     "data": {
      "text/plain": [
       "unique_food_id\n",
       "0.0    1.201550\n",
       "1.0    1.201550\n",
       "2.0    1.182171\n",
       "3.0    1.065891\n",
       "4.0    0.348837\n",
       "dtype: float64"
      ]
     },
     "execution_count": 29,
     "metadata": {},
     "output_type": "execute_result"
    }
   ],
   "source": [
    "_ = content_df.loc[670.0]\n",
    "sizes = _.loc['USDA'].groupby('unique_food_id').size()\n",
    "sizes.apply(lambda x: x/sizes.sum()*len(sizes))"
   ]
  },
  {
   "cell_type": "code",
   "execution_count": 30,
   "metadata": {
    "execution": {
     "iopub.execute_input": "2024-02-11T11:46:53.283287Z",
     "iopub.status.busy": "2024-02-11T11:46:53.283088Z",
     "iopub.status.idle": "2024-02-11T11:46:53.288699Z",
     "shell.execute_reply": "2024-02-11T11:46:53.288436Z"
    }
   },
   "outputs": [
    {
     "data": {
      "text/html": [
       "<div>\n",
       "<style scoped>\n",
       "    .dataframe tbody tr th:only-of-type {\n",
       "        vertical-align: middle;\n",
       "    }\n",
       "\n",
       "    .dataframe tbody tr th {\n",
       "        vertical-align: top;\n",
       "    }\n",
       "\n",
       "    .dataframe thead th {\n",
       "        text-align: right;\n",
       "    }\n",
       "</style>\n",
       "<table border=\"1\" class=\"dataframe\">\n",
       "  <thead>\n",
       "    <tr style=\"text-align: right;\">\n",
       "      <th></th>\n",
       "      <th></th>\n",
       "      <th></th>\n",
       "      <th>food_name</th>\n",
       "      <th>source_name</th>\n",
       "      <th>concentration</th>\n",
       "      <th>orig_citation</th>\n",
       "      <th>orig_food_common_name</th>\n",
       "      <th>orig_food_part</th>\n",
       "    </tr>\n",
       "    <tr>\n",
       "      <th>citation</th>\n",
       "      <th>unique_food_id</th>\n",
       "      <th>source_id</th>\n",
       "      <th></th>\n",
       "      <th></th>\n",
       "      <th></th>\n",
       "      <th></th>\n",
       "      <th></th>\n",
       "      <th></th>\n",
       "    </tr>\n",
       "  </thead>\n",
       "  <tbody>\n",
       "    <tr>\n",
       "      <th rowspan=\"5\" valign=\"top\">DTU</th>\n",
       "      <th rowspan=\"5\" valign=\"top\">0.0</th>\n",
       "      <th>446</th>\n",
       "      <td>lime</td>\n",
       "      <td>L-Tyrosine</td>\n",
       "      <td>0.0</td>\n",
       "      <td>&lt;NA&gt;</td>\n",
       "      <td>lime raw</td>\n",
       "      <td>&lt;NA&gt;</td>\n",
       "    </tr>\n",
       "    <tr>\n",
       "      <th>446</th>\n",
       "      <td>lime</td>\n",
       "      <td>L-Tyrosine</td>\n",
       "      <td>0.0</td>\n",
       "      <td>&lt;NA&gt;</td>\n",
       "      <td>lime raw</td>\n",
       "      <td>&lt;NA&gt;</td>\n",
       "    </tr>\n",
       "    <tr>\n",
       "      <th>474</th>\n",
       "      <td>lime</td>\n",
       "      <td>L-Lysine</td>\n",
       "      <td>13.0</td>\n",
       "      <td>&lt;NA&gt;</td>\n",
       "      <td>lime raw</td>\n",
       "      <td>&lt;NA&gt;</td>\n",
       "    </tr>\n",
       "    <tr>\n",
       "      <th>484</th>\n",
       "      <td>lime</td>\n",
       "      <td>Glycine</td>\n",
       "      <td>0.0</td>\n",
       "      <td>&lt;NA&gt;</td>\n",
       "      <td>lime raw</td>\n",
       "      <td>&lt;NA&gt;</td>\n",
       "    </tr>\n",
       "    <tr>\n",
       "      <th>556</th>\n",
       "      <td>lime</td>\n",
       "      <td>L-Alanine</td>\n",
       "      <td>0.0</td>\n",
       "      <td>&lt;NA&gt;</td>\n",
       "      <td>lime raw</td>\n",
       "      <td>&lt;NA&gt;</td>\n",
       "    </tr>\n",
       "  </tbody>\n",
       "</table>\n",
       "</div>"
      ],
      "text/plain": [
       "                                  food_name source_name  concentration  \\\n",
       "citation unique_food_id source_id                                        \n",
       "DTU      0.0            446            lime  L-Tyrosine            0.0   \n",
       "                        446            lime  L-Tyrosine            0.0   \n",
       "                        474            lime    L-Lysine           13.0   \n",
       "                        484            lime     Glycine            0.0   \n",
       "                        556            lime   L-Alanine            0.0   \n",
       "\n",
       "                                  orig_citation orig_food_common_name  \\\n",
       "citation unique_food_id source_id                                       \n",
       "DTU      0.0            446                <NA>              lime raw   \n",
       "                        446                <NA>              lime raw   \n",
       "                        474                <NA>              lime raw   \n",
       "                        484                <NA>              lime raw   \n",
       "                        556                <NA>              lime raw   \n",
       "\n",
       "                                  orig_food_part  \n",
       "citation unique_food_id source_id                 \n",
       "DTU      0.0            446                 <NA>  \n",
       "                        446                 <NA>  \n",
       "                        474                 <NA>  \n",
       "                        484                 <NA>  \n",
       "                        556                 <NA>  "
      ]
     },
     "execution_count": 30,
     "metadata": {},
     "output_type": "execute_result"
    }
   ],
   "source": [
    "matched_content_df = content_df.loc[food_ids.loc[ingredient.name].iloc[0]]\n",
    "matched_content_df.head()"
   ]
  },
  {
   "cell_type": "code",
   "execution_count": 31,
   "metadata": {
    "execution": {
     "iopub.execute_input": "2024-02-11T11:46:53.289738Z",
     "iopub.status.busy": "2024-02-11T11:46:53.289611Z",
     "iopub.status.idle": "2024-02-11T11:46:53.291504Z",
     "shell.execute_reply": "2024-02-11T11:46:53.291243Z"
    }
   },
   "outputs": [],
   "source": [
    "#| export\n",
    "def calculate_relative_content_sizes(citation, matched_content_df):\n",
    "    matched_content_df = matched_content_df.loc[citation]\n",
    "    sizes = matched_content_df.groupby('unique_food_id').size()\n",
    "    total_size = sizes.sum()\n",
    "    n_foods = len(sizes)\n",
    "    relative_content_sizes = sizes.apply(lambda x: x/total_size*n_foods)\n",
    "    return relative_content_sizes"
   ]
  },
  {
   "cell_type": "code",
   "execution_count": 32,
   "metadata": {
    "execution": {
     "iopub.execute_input": "2024-02-11T11:46:53.292494Z",
     "iopub.status.busy": "2024-02-11T11:46:53.292366Z",
     "iopub.status.idle": "2024-02-11T11:46:53.295328Z",
     "shell.execute_reply": "2024-02-11T11:46:53.295076Z"
    }
   },
   "outputs": [
    {
     "data": {
      "text/plain": [
       "unique_food_id\n",
       "0.0    1.658537\n",
       "1.0    1.151220\n",
       "2.0    1.073171\n",
       "3.0    0.117073\n",
       "dtype: float64"
      ]
     },
     "execution_count": 32,
     "metadata": {},
     "output_type": "execute_result"
    }
   ],
   "source": [
    "calculate_relative_content_sizes('USDA', matched_content_df)"
   ]
  },
  {
   "cell_type": "code",
   "execution_count": 33,
   "metadata": {
    "execution": {
     "iopub.execute_input": "2024-02-11T11:46:53.296334Z",
     "iopub.status.busy": "2024-02-11T11:46:53.296208Z",
     "iopub.status.idle": "2024-02-11T11:46:53.298051Z",
     "shell.execute_reply": "2024-02-11T11:46:53.297792Z"
    }
   },
   "outputs": [],
   "source": [
    "#| export\n",
    "def filter_low_content_unique_foods(matched_unique_foods, citation, matched_content_df):\n",
    "    relative_content_sizes = calculate_relative_content_sizes(citation, matched_content_df)\n",
    "    selection = relative_content_sizes[relative_content_sizes > 2]\n",
    "    if not selection.empty: relative_content_sizes = selection\n",
    "    relative_content_sizes = relative_content_sizes[relative_content_sizes > 0.5]\n",
    "    return matched_unique_foods.loc[relative_content_sizes.index]"
   ]
  },
  {
   "cell_type": "code",
   "execution_count": 34,
   "metadata": {
    "execution": {
     "iopub.execute_input": "2024-02-11T11:46:53.299029Z",
     "iopub.status.busy": "2024-02-11T11:46:53.298915Z",
     "iopub.status.idle": "2024-02-11T11:46:53.301086Z",
     "shell.execute_reply": "2024-02-11T11:46:53.300836Z"
    }
   },
   "outputs": [
    {
     "data": {
      "text/plain": [
       "53.0"
      ]
     },
     "execution_count": 34,
     "metadata": {},
     "output_type": "execute_result"
    }
   ],
   "source": [
    "food_ids.loc[ingredient.name].iloc[0]"
   ]
  },
  {
   "cell_type": "code",
   "execution_count": 35,
   "metadata": {
    "execution": {
     "iopub.execute_input": "2024-02-11T11:46:53.302088Z",
     "iopub.status.busy": "2024-02-11T11:46:53.301953Z",
     "iopub.status.idle": "2024-02-11T11:46:53.305403Z",
     "shell.execute_reply": "2024-02-11T11:46:53.305150Z"
    }
   },
   "outputs": [
    {
     "data": {
      "text/html": [
       "<div>\n",
       "<style scoped>\n",
       "    .dataframe tbody tr th:only-of-type {\n",
       "        vertical-align: middle;\n",
       "    }\n",
       "\n",
       "    .dataframe tbody tr th {\n",
       "        vertical-align: top;\n",
       "    }\n",
       "\n",
       "    .dataframe thead th {\n",
       "        text-align: right;\n",
       "    }\n",
       "</style>\n",
       "<table border=\"1\" class=\"dataframe\">\n",
       "  <thead>\n",
       "    <tr style=\"text-align: right;\">\n",
       "      <th></th>\n",
       "      <th>orig_food_common_name</th>\n",
       "    </tr>\n",
       "    <tr>\n",
       "      <th>unique_food_id</th>\n",
       "      <th></th>\n",
       "    </tr>\n",
       "  </thead>\n",
       "  <tbody>\n",
       "    <tr>\n",
       "      <th>0</th>\n",
       "      <td>lime juice raw</td>\n",
       "    </tr>\n",
       "    <tr>\n",
       "      <th>1</th>\n",
       "      <td>lime raw</td>\n",
       "    </tr>\n",
       "    <tr>\n",
       "      <th>2</th>\n",
       "      <td>lime juice canned bottled unsweetened</td>\n",
       "    </tr>\n",
       "    <tr>\n",
       "      <th>3</th>\n",
       "      <td></td>\n",
       "    </tr>\n",
       "  </tbody>\n",
       "</table>\n",
       "</div>"
      ],
      "text/plain": [
       "                                orig_food_common_name\n",
       "unique_food_id                                       \n",
       "0                                      lime juice raw\n",
       "1                                            lime raw\n",
       "2               lime juice canned bottled unsweetened\n",
       "3                                                    "
      ]
     },
     "execution_count": 35,
     "metadata": {},
     "output_type": "execute_result"
    }
   ],
   "source": [
    "matched_unique_orig_foods = unique_orig_foods.loc[food_ids.loc[ingredient.name].iloc[0]].loc['USDA']\n",
    "selected_unique_orig_foods = matched_unique_orig_foods.loc[matched_unique_orig_foods.index.dropna()]\n",
    "selected_unique_orig_foods.head()"
   ]
  },
  {
   "cell_type": "code",
   "execution_count": 36,
   "metadata": {
    "execution": {
     "iopub.execute_input": "2024-02-11T11:46:53.306413Z",
     "iopub.status.busy": "2024-02-11T11:46:53.306281Z",
     "iopub.status.idle": "2024-02-11T11:46:53.310537Z",
     "shell.execute_reply": "2024-02-11T11:46:53.310202Z"
    }
   },
   "outputs": [
    {
     "name": "stdout",
     "output_type": "stream",
     "text": [
      "                                orig_food_common_name\n",
      "unique_food_id                                       \n",
      "0                                      lime juice raw\n",
      "1                                            lime raw\n",
      "2               lime juice canned bottled unsweetened\n",
      "3                                                    \n"
     ]
    },
    {
     "data": {
      "text/html": [
       "<div>\n",
       "<style scoped>\n",
       "    .dataframe tbody tr th:only-of-type {\n",
       "        vertical-align: middle;\n",
       "    }\n",
       "\n",
       "    .dataframe tbody tr th {\n",
       "        vertical-align: top;\n",
       "    }\n",
       "\n",
       "    .dataframe thead th {\n",
       "        text-align: right;\n",
       "    }\n",
       "</style>\n",
       "<table border=\"1\" class=\"dataframe\">\n",
       "  <thead>\n",
       "    <tr style=\"text-align: right;\">\n",
       "      <th></th>\n",
       "      <th>orig_food_common_name</th>\n",
       "    </tr>\n",
       "    <tr>\n",
       "      <th>unique_food_id</th>\n",
       "      <th></th>\n",
       "    </tr>\n",
       "  </thead>\n",
       "  <tbody>\n",
       "    <tr>\n",
       "      <th>0</th>\n",
       "      <td>lime juice raw</td>\n",
       "    </tr>\n",
       "    <tr>\n",
       "      <th>1</th>\n",
       "      <td>lime raw</td>\n",
       "    </tr>\n",
       "    <tr>\n",
       "      <th>2</th>\n",
       "      <td>lime juice canned bottled unsweetened</td>\n",
       "    </tr>\n",
       "  </tbody>\n",
       "</table>\n",
       "</div>"
      ],
      "text/plain": [
       "                                orig_food_common_name\n",
       "unique_food_id                                       \n",
       "0                                      lime juice raw\n",
       "1                                            lime raw\n",
       "2               lime juice canned bottled unsweetened"
      ]
     },
     "execution_count": 36,
     "metadata": {},
     "output_type": "execute_result"
    }
   ],
   "source": [
    "print(matched_unique_orig_foods)\n",
    "_ = filter_low_content_unique_foods(matched_unique_orig_foods, 'USDA', matched_content_df)\n",
    "_"
   ]
  },
  {
   "cell_type": "markdown",
   "metadata": {},
   "source": [
    "## Final Function"
   ]
  },
  {
   "cell_type": "code",
   "execution_count": 37,
   "metadata": {
    "execution": {
     "iopub.execute_input": "2024-02-11T11:46:53.311815Z",
     "iopub.status.busy": "2024-02-11T11:46:53.311584Z",
     "iopub.status.idle": "2024-02-11T11:46:53.313884Z",
     "shell.execute_reply": "2024-02-11T11:46:53.313608Z"
    }
   },
   "outputs": [],
   "source": [
    "#| export\n",
    "def select_citation_orig_food(matched_unique_orig_foods, ingredient, matched_content_df, return_full_index=True):\n",
    "\n",
    "    if len(matched_unique_orig_foods) == 1: return matched_unique_orig_foods.index[0][1]\n",
    "    if matched_unique_orig_foods.empty: return pd.NA\n",
    "    \n",
    "    citation = matched_unique_orig_foods.iloc[0].name[0]\n",
    "    matched_unique_orig_foods = matched_unique_orig_foods.droplevel(0)['orig_food_common_name']\n",
    "    \n",
    "    matched_unique_orig_foods = filter_low_content_unique_foods(matched_unique_orig_foods, citation, matched_content_df)\n",
    "\n",
    "    if len(matched_unique_orig_foods) == 1: return matched_unique_orig_foods.index[0]\n",
    "\n",
    "    searched_unique_local_foods = search_duplicate_food_matches(ingredient, matched_unique_orig_foods)\n",
    "    selected_food = select_from_filtered_duplicate_matches(ingredient, searched_unique_local_foods)\n",
    "    \n",
    "    return selected_food"
   ]
  },
  {
   "cell_type": "code",
   "execution_count": 38,
   "metadata": {
    "execution": {
     "iopub.execute_input": "2024-02-11T11:46:53.314903Z",
     "iopub.status.busy": "2024-02-11T11:46:53.314712Z",
     "iopub.status.idle": "2024-02-11T11:46:53.319023Z",
     "shell.execute_reply": "2024-02-11T11:46:53.318773Z"
    }
   },
   "outputs": [
    {
     "data": {
      "text/html": [
       "<div>\n",
       "<style scoped>\n",
       "    .dataframe tbody tr th:only-of-type {\n",
       "        vertical-align: middle;\n",
       "    }\n",
       "\n",
       "    .dataframe tbody tr th {\n",
       "        vertical-align: top;\n",
       "    }\n",
       "\n",
       "    .dataframe thead th {\n",
       "        text-align: right;\n",
       "    }\n",
       "</style>\n",
       "<table border=\"1\" class=\"dataframe\">\n",
       "  <thead>\n",
       "    <tr style=\"text-align: right;\">\n",
       "      <th></th>\n",
       "      <th></th>\n",
       "      <th>orig_food_common_name</th>\n",
       "      <th>citation_copy</th>\n",
       "    </tr>\n",
       "    <tr>\n",
       "      <th>citation</th>\n",
       "      <th>unique_food_id</th>\n",
       "      <th></th>\n",
       "      <th></th>\n",
       "    </tr>\n",
       "  </thead>\n",
       "  <tbody>\n",
       "    <tr>\n",
       "      <th>DTU</th>\n",
       "      <th>0</th>\n",
       "      <td>lime raw</td>\n",
       "      <td>DTU</td>\n",
       "    </tr>\n",
       "    <tr>\n",
       "      <th rowspan=\"3\" valign=\"top\">USDA</th>\n",
       "      <th>0</th>\n",
       "      <td>lime juice raw</td>\n",
       "      <td>USDA</td>\n",
       "    </tr>\n",
       "    <tr>\n",
       "      <th>1</th>\n",
       "      <td>lime raw</td>\n",
       "      <td>USDA</td>\n",
       "    </tr>\n",
       "    <tr>\n",
       "      <th>2</th>\n",
       "      <td>lime juice canned bottled unsweetened</td>\n",
       "      <td>USDA</td>\n",
       "    </tr>\n",
       "    <tr>\n",
       "      <th>DUKE</th>\n",
       "      <th>0</th>\n",
       "      <td>lime</td>\n",
       "      <td>DUKE</td>\n",
       "    </tr>\n",
       "  </tbody>\n",
       "</table>\n",
       "</div>"
      ],
      "text/plain": [
       "                                         orig_food_common_name citation_copy\n",
       "citation unique_food_id                                                     \n",
       "DTU      0                                            lime raw           DTU\n",
       "USDA     0                                      lime juice raw          USDA\n",
       "         1                                            lime raw          USDA\n",
       "         2               lime juice canned bottled unsweetened          USDA\n",
       "DUKE     0                                                lime          DUKE"
      ]
     },
     "execution_count": 38,
     "metadata": {},
     "output_type": "execute_result"
    }
   ],
   "source": [
    "matched_unique_orig_foods = unique_orig_foods.loc[food_ids.loc[ingredient.name].iloc[0]]\n",
    "matched_unique_orig_foods = matched_unique_orig_foods.loc[matched_unique_orig_foods.index.dropna()]\n",
    "matched_unique_orig_foods['citation_copy'] = matched_unique_orig_foods.index.get_level_values(0)\n",
    "matched_unique_orig_foods.head()"
   ]
  },
  {
   "cell_type": "code",
   "execution_count": 39,
   "metadata": {
    "execution": {
     "iopub.execute_input": "2024-02-11T11:46:53.319922Z",
     "iopub.status.busy": "2024-02-11T11:46:53.319821Z",
     "iopub.status.idle": "2024-02-11T11:46:53.324520Z",
     "shell.execute_reply": "2024-02-11T11:46:53.324259Z"
    }
   },
   "outputs": [],
   "source": [
    "assert select_citation_orig_food(matched_unique_orig_foods.loc[['USDA']], ingredient, matched_content_df) == 1"
   ]
  },
  {
   "cell_type": "code",
   "execution_count": 40,
   "metadata": {
    "execution": {
     "iopub.execute_input": "2024-02-11T11:46:53.325317Z",
     "iopub.status.busy": "2024-02-11T11:46:53.325239Z",
     "iopub.status.idle": "2024-02-11T11:46:53.333064Z",
     "shell.execute_reply": "2024-02-11T11:46:53.332811Z"
    }
   },
   "outputs": [
    {
     "data": {
      "text/plain": [
       "citation\n",
       "DTU                0\n",
       "DUKE               0\n",
       "PATHBANK           0\n",
       "PHENOL EXPLORER    0\n",
       "USDA               1\n",
       "dtype: int64"
      ]
     },
     "execution_count": 40,
     "metadata": {},
     "output_type": "execute_result"
    }
   ],
   "source": [
    "_ = matched_unique_orig_foods.groupby('citation', observed=True).apply(select_citation_orig_food, (ingredient), (matched_content_df))\n",
    "_"
   ]
  },
  {
   "cell_type": "code",
   "execution_count": 41,
   "metadata": {
    "execution": {
     "iopub.execute_input": "2024-02-11T11:46:53.333945Z",
     "iopub.status.busy": "2024-02-11T11:46:53.333842Z",
     "iopub.status.idle": "2024-02-11T11:46:53.335630Z",
     "shell.execute_reply": "2024-02-11T11:46:53.335373Z"
    }
   },
   "outputs": [],
   "source": [
    "#| export\n",
    "def select_from_orig_foods(matched_unique_orig_foods, ingredient, matched_content_df, return_full_index=True):\n",
    "    return matched_unique_orig_foods.groupby('citation', observed=True).apply(select_citation_orig_food, (ingredient), (matched_content_df), (return_full_index))"
   ]
  },
  {
   "cell_type": "code",
   "execution_count": 42,
   "metadata": {
    "execution": {
     "iopub.execute_input": "2024-02-11T11:46:53.336418Z",
     "iopub.status.busy": "2024-02-11T11:46:53.336339Z",
     "iopub.status.idle": "2024-02-11T11:46:53.343231Z",
     "shell.execute_reply": "2024-02-11T11:46:53.342965Z"
    }
   },
   "outputs": [],
   "source": [
    "assert select_from_orig_foods(matched_unique_orig_foods, ingredient, matched_content_df)['USDA'] == 1"
   ]
  },
  {
   "cell_type": "markdown",
   "metadata": {},
   "source": [
    "## Full Scale"
   ]
  },
  {
   "cell_type": "code",
   "execution_count": 43,
   "metadata": {
    "execution": {
     "iopub.execute_input": "2024-02-11T11:46:53.344103Z",
     "iopub.status.busy": "2024-02-11T11:46:53.343987Z",
     "iopub.status.idle": "2024-02-11T11:46:53.346087Z",
     "shell.execute_reply": "2024-02-11T11:46:53.345827Z"
    }
   },
   "outputs": [],
   "source": [
    "#| export\n",
    "def full_select_duplicate_foods(ingredient, unique_orig_foods, content_df):\n",
    "\n",
    "    food_id = ingredient['food_id']\n",
    "    ingredient = ingredient.drop('food_id')\n",
    "    if pd.isnull(food_id): return pd.NA\n",
    "    if food_id not in unique_orig_foods.index.get_level_values(0): return pd.NA\n",
    "\n",
    "    matched_unique_orig_foods = unique_orig_foods.loc[food_id]\n",
    "    matched_content_df = content_df.loc[food_id]\n",
    "    \n",
    "    selected_foods = select_from_orig_foods(matched_unique_orig_foods, ingredient, matched_content_df)\n",
    "\n",
    "    return selected_foods if not selected_foods.empty else pd.Series()"
   ]
  },
  {
   "cell_type": "code",
   "execution_count": 44,
   "metadata": {
    "execution": {
     "iopub.execute_input": "2024-02-11T11:46:53.346866Z",
     "iopub.status.busy": "2024-02-11T11:46:53.346783Z",
     "iopub.status.idle": "2024-02-11T11:46:53.349170Z",
     "shell.execute_reply": "2024-02-11T11:46:53.348908Z"
    }
   },
   "outputs": [],
   "source": [
    "ingredient = expanded_ingredients_df.join(food_ids).loc[894410,\t9]"
   ]
  },
  {
   "cell_type": "code",
   "execution_count": 45,
   "metadata": {
    "execution": {
     "iopub.execute_input": "2024-02-11T11:46:53.350033Z",
     "iopub.status.busy": "2024-02-11T11:46:53.349913Z",
     "iopub.status.idle": "2024-02-11T11:46:53.358519Z",
     "shell.execute_reply": "2024-02-11T11:46:53.358268Z"
    }
   },
   "outputs": [
    {
     "data": {
      "text/plain": [
       "citation\n",
       "DTU                0\n",
       "DUKE               0\n",
       "PATHBANK           0\n",
       "PHENOL EXPLORER    0\n",
       "USDA               1\n",
       "dtype: int64"
      ]
     },
     "execution_count": 45,
     "metadata": {},
     "output_type": "execute_result"
    }
   ],
   "source": [
    "full_select_duplicate_foods(ingredient, unique_orig_foods, content_df)"
   ]
  },
  {
   "cell_type": "code",
   "execution_count": 46,
   "metadata": {
    "execution": {
     "iopub.execute_input": "2024-02-11T11:46:53.359400Z",
     "iopub.status.busy": "2024-02-11T11:46:53.359268Z",
     "iopub.status.idle": "2024-02-11T11:46:53.682489Z",
     "shell.execute_reply": "2024-02-11T11:46:53.682073Z"
    }
   },
   "outputs": [],
   "source": [
    "duplicate_content_df = content_df.loc[content_df.index.get_level_values(1).isin(duplicate_citations)]"
   ]
  },
  {
   "cell_type": "code",
   "execution_count": 47,
   "metadata": {
    "execution": {
     "iopub.execute_input": "2024-02-11T11:46:53.683954Z",
     "iopub.status.busy": "2024-02-11T11:46:53.683856Z",
     "iopub.status.idle": "2024-02-11T11:46:55.412798Z",
     "shell.execute_reply": "2024-02-11T11:46:55.412558Z"
    }
   },
   "outputs": [
    {
     "name": "stderr",
     "output_type": "stream",
     "text": [
      "\r",
      "  0%|                                                                                                                                                                                                                                                 | 0/200 [00:00<?, ?it/s]"
     ]
    },
    {
     "name": "stderr",
     "output_type": "stream",
     "text": [
      "\r",
      "  6%|███████████████                                                                                                                                                                                                                         | 13/200 [00:00<00:02, 84.77it/s]"
     ]
    },
    {
     "name": "stderr",
     "output_type": "stream",
     "text": [
      "\r",
      " 12%|█████████████████████████████                                                                                                                                                                                                           | 25/200 [00:00<00:01, 88.04it/s]"
     ]
    },
    {
     "name": "stderr",
     "output_type": "stream",
     "text": [
      "\r",
      " 24%|██████████████████████████████████████████████████████▎                                                                                                                                                                                | 47/200 [00:00<00:01, 135.82it/s]"
     ]
    },
    {
     "name": "stderr",
     "output_type": "stream",
     "text": [
      "\r",
      " 32%|███████████████████████████████████████████████████████████████████████████                                                                                                                                                            | 65/200 [00:00<00:00, 145.12it/s]"
     ]
    },
    {
     "name": "stderr",
     "output_type": "stream",
     "text": [
      "\r",
      " 44%|████████████████████████████████████████████████████████████████████████████████████████████████████▍                                                                                                                                  | 87/200 [00:00<00:00, 168.20it/s]"
     ]
    },
    {
     "name": "stderr",
     "output_type": "stream",
     "text": [
      "\r",
      " 52%|████████████████████████████████████████████████████████████████████████████████████████████████████████████████████████▊                                                                                                             | 105/200 [00:00<00:00, 134.06it/s]"
     ]
    },
    {
     "name": "stderr",
     "output_type": "stream",
     "text": [
      "\r",
      " 62%|███████████████████████████████████████████████████████████████████████████████████████████████████████████████████████████████████████████████▊                                                                                      | 125/200 [00:00<00:00, 149.56it/s]"
     ]
    },
    {
     "name": "stderr",
     "output_type": "stream",
     "text": [
      "\r",
      " 71%|███████████████████████████████████████████████████████████████████████████████████████████████████████████████████████████████████████████████████████████████████▎                                                                  | 142/200 [00:01<00:00, 108.62it/s]"
     ]
    },
    {
     "name": "stderr",
     "output_type": "stream",
     "text": [
      "\r",
      " 78%|███████████████████████████████████████████████████████████████████████████████████████████████████████████████████████████████████████████████████████████████████████████████████▍                                                  | 156/200 [00:01<00:00, 104.41it/s]"
     ]
    },
    {
     "name": "stderr",
     "output_type": "stream",
     "text": [
      "\r",
      " 84%|███████████████████████████████████████████████████████████████████████████████████████████████████████████████████████████████████████████████████████████████████████████████████████████████████▏                                   | 169/200 [00:01<00:00, 93.51it/s]"
     ]
    },
    {
     "name": "stderr",
     "output_type": "stream",
     "text": [
      "\r",
      " 94%|█████████████████████████████████████████████████████████████████████████████████████████████████████████████████████████████████████████████████████████████████████████████████████████████████████████████████████████▎            | 189/200 [00:01<00:00, 114.43it/s]"
     ]
    },
    {
     "name": "stderr",
     "output_type": "stream",
     "text": [
      "\r",
      "100%|██████████████████████████████████████████████████████████████████████████████████████████████████████████████████████████████████████████████████████████████████████████████████████████████████████████████████████████████████████| 200/200 [00:01<00:00, 116.50it/s]"
     ]
    },
    {
     "name": "stderr",
     "output_type": "stream",
     "text": [
      "\n"
     ]
    }
   ],
   "source": [
    "selection_results = expanded_ingredients_df.join(food_ids).sample(200, random_state=1337).\\\n",
    "    progress_apply(full_select_duplicate_foods, axis=1, args=(unique_orig_foods, duplicate_content_df))"
   ]
  },
  {
   "cell_type": "markdown",
   "metadata": {},
   "source": [
    "## Evaluating Results"
   ]
  },
  {
   "cell_type": "code",
   "execution_count": 48,
   "metadata": {
    "execution": {
     "iopub.execute_input": "2024-02-11T11:46:55.413952Z",
     "iopub.status.busy": "2024-02-11T11:46:55.413868Z",
     "iopub.status.idle": "2024-02-11T11:46:55.418565Z",
     "shell.execute_reply": "2024-02-11T11:46:55.418365Z"
    }
   },
   "outputs": [
    {
     "data": {
      "text/html": [
       "<div>\n",
       "<style scoped>\n",
       "    .dataframe tbody tr th:only-of-type {\n",
       "        vertical-align: middle;\n",
       "    }\n",
       "\n",
       "    .dataframe tbody tr th {\n",
       "        vertical-align: top;\n",
       "    }\n",
       "\n",
       "    .dataframe thead th {\n",
       "        text-align: right;\n",
       "    }\n",
       "</style>\n",
       "<table border=\"1\" class=\"dataframe\">\n",
       "  <thead>\n",
       "    <tr style=\"text-align: right;\">\n",
       "      <th></th>\n",
       "      <th>citation</th>\n",
       "      <th>USDA</th>\n",
       "      <th>DUKE</th>\n",
       "      <th>PHENOL EXPLORER</th>\n",
       "      <th>DTU</th>\n",
       "    </tr>\n",
       "    <tr>\n",
       "      <th>recipe</th>\n",
       "      <th>ingredient</th>\n",
       "      <th></th>\n",
       "      <th></th>\n",
       "      <th></th>\n",
       "      <th></th>\n",
       "    </tr>\n",
       "  </thead>\n",
       "  <tbody>\n",
       "    <tr>\n",
       "      <th>2108309</th>\n",
       "      <th>2</th>\n",
       "      <td>0.0</td>\n",
       "      <td>NaN</td>\n",
       "      <td>0.0</td>\n",
       "      <td>2.0</td>\n",
       "    </tr>\n",
       "    <tr>\n",
       "      <th>2189489</th>\n",
       "      <th>0</th>\n",
       "      <td>0.0</td>\n",
       "      <td>NaN</td>\n",
       "      <td>NaN</td>\n",
       "      <td>6.0</td>\n",
       "    </tr>\n",
       "    <tr>\n",
       "      <th>1378004</th>\n",
       "      <th>2</th>\n",
       "      <td>NaN</td>\n",
       "      <td>NaN</td>\n",
       "      <td>NaN</td>\n",
       "      <td>10.0</td>\n",
       "    </tr>\n",
       "    <tr>\n",
       "      <th>525644</th>\n",
       "      <th>2</th>\n",
       "      <td>&lt;NA&gt;</td>\n",
       "      <td>&lt;NA&gt;</td>\n",
       "      <td>&lt;NA&gt;</td>\n",
       "      <td>&lt;NA&gt;</td>\n",
       "    </tr>\n",
       "    <tr>\n",
       "      <th>982726</th>\n",
       "      <th>10</th>\n",
       "      <td>4.0</td>\n",
       "      <td>0.0</td>\n",
       "      <td>NaN</td>\n",
       "      <td>0.0</td>\n",
       "    </tr>\n",
       "    <tr>\n",
       "      <th>...</th>\n",
       "      <th>...</th>\n",
       "      <td>...</td>\n",
       "      <td>...</td>\n",
       "      <td>...</td>\n",
       "      <td>...</td>\n",
       "    </tr>\n",
       "    <tr>\n",
       "      <th>1218377</th>\n",
       "      <th>1</th>\n",
       "      <td>6.0</td>\n",
       "      <td>NaN</td>\n",
       "      <td>NaN</td>\n",
       "      <td>0.0</td>\n",
       "    </tr>\n",
       "    <tr>\n",
       "      <th>1609337</th>\n",
       "      <th>10</th>\n",
       "      <td>&lt;NA&gt;</td>\n",
       "      <td>&lt;NA&gt;</td>\n",
       "      <td>&lt;NA&gt;</td>\n",
       "      <td>&lt;NA&gt;</td>\n",
       "    </tr>\n",
       "    <tr>\n",
       "      <th>837493</th>\n",
       "      <th>0</th>\n",
       "      <td>4.0</td>\n",
       "      <td>0.0</td>\n",
       "      <td>NaN</td>\n",
       "      <td>0.0</td>\n",
       "    </tr>\n",
       "    <tr>\n",
       "      <th>1703</th>\n",
       "      <th>4</th>\n",
       "      <td>&lt;NA&gt;</td>\n",
       "      <td>&lt;NA&gt;</td>\n",
       "      <td>&lt;NA&gt;</td>\n",
       "      <td>&lt;NA&gt;</td>\n",
       "    </tr>\n",
       "    <tr>\n",
       "      <th>2094862</th>\n",
       "      <th>7</th>\n",
       "      <td>NaN</td>\n",
       "      <td>NaN</td>\n",
       "      <td>NaN</td>\n",
       "      <td>NaN</td>\n",
       "    </tr>\n",
       "  </tbody>\n",
       "</table>\n",
       "<p>200 rows × 4 columns</p>\n",
       "</div>"
      ],
      "text/plain": [
       "citation            USDA  DUKE PHENOL EXPLORER   DTU\n",
       "recipe  ingredient                                  \n",
       "2108309 2            0.0   NaN             0.0   2.0\n",
       "2189489 0            0.0   NaN             NaN   6.0\n",
       "1378004 2            NaN   NaN             NaN  10.0\n",
       "525644  2           <NA>  <NA>            <NA>  <NA>\n",
       "982726  10           4.0   0.0             NaN   0.0\n",
       "...                  ...   ...             ...   ...\n",
       "1218377 1            6.0   NaN             NaN   0.0\n",
       "1609337 10          <NA>  <NA>            <NA>  <NA>\n",
       "837493  0            4.0   0.0             NaN   0.0\n",
       "1703    4           <NA>  <NA>            <NA>  <NA>\n",
       "2094862 7            NaN   NaN             NaN   NaN\n",
       "\n",
       "[200 rows x 4 columns]"
      ]
     },
     "execution_count": 48,
     "metadata": {},
     "output_type": "execute_result"
    }
   ],
   "source": [
    "selection_results = selection_results[[ 'USDA', 'DUKE', 'PHENOL EXPLORER', 'DTU']]\n",
    "selection_results"
   ]
  },
  {
   "cell_type": "code",
   "execution_count": 49,
   "metadata": {
    "execution": {
     "iopub.execute_input": "2024-02-11T11:46:55.419618Z",
     "iopub.status.busy": "2024-02-11T11:46:55.419452Z",
     "iopub.status.idle": "2024-02-11T11:46:55.421283Z",
     "shell.execute_reply": "2024-02-11T11:46:55.421092Z"
    }
   },
   "outputs": [],
   "source": [
    "def map_food_names(result):\n",
    "    food_id = food_ids.loc[result.name].iloc[0]\n",
    "    return pd.Series([unique_orig_foods['orig_food_common_name'].loc[food_id, citation, unique_food_id] if all([pd.notnull(x) for x in [food_id, unique_food_id]]) else pd.NA \n",
    "            for citation, unique_food_id in result.items()], index=selection_results.columns)"
   ]
  },
  {
   "cell_type": "code",
   "execution_count": 50,
   "metadata": {
    "execution": {
     "iopub.execute_input": "2024-02-11T11:46:55.422242Z",
     "iopub.status.busy": "2024-02-11T11:46:55.422116Z",
     "iopub.status.idle": "2024-02-11T11:46:55.450799Z",
     "shell.execute_reply": "2024-02-11T11:46:55.450499Z"
    }
   },
   "outputs": [],
   "source": [
    "full_select_results = selection_results.apply(map_food_names, axis=1)\n",
    "full_select_results = full_select_results.join(ingredients_df['name.description']).join(food_ids)\\\n",
    "    .join(food_df['name'], on='food_id')\\\n",
    "    .rename({'name': 'food_df_name', 'name.description': 'ingredient_name'}, axis=1)\n",
    "full_select_results = full_select_results[list(dict.fromkeys(['ingredient_name', 'food_df_name', *full_select_results.columns]))] # reordering columns\n",
    "full_select_results = full_select_results[list(dict.fromkeys(['ingredient_name', 'food_df_name', 'USDA', 'DUKE', 'PHENOL EXPLORER', 'DTU']))] # tmp"
   ]
  },
  {
   "cell_type": "code",
   "execution_count": 51,
   "metadata": {
    "execution": {
     "iopub.execute_input": "2024-02-11T11:46:55.451917Z",
     "iopub.status.busy": "2024-02-11T11:46:55.451803Z",
     "iopub.status.idle": "2024-02-11T11:46:55.453291Z",
     "shell.execute_reply": "2024-02-11T11:46:55.453105Z"
    }
   },
   "outputs": [],
   "source": [
    "pd.set_option('display.max_rows', None)"
   ]
  },
  {
   "cell_type": "code",
   "execution_count": 52,
   "metadata": {
    "execution": {
     "iopub.execute_input": "2024-02-11T11:46:55.454405Z",
     "iopub.status.busy": "2024-02-11T11:46:55.454255Z",
     "iopub.status.idle": "2024-02-11T11:46:55.466768Z",
     "shell.execute_reply": "2024-02-11T11:46:55.466401Z"
    }
   },
   "outputs": [
    {
     "data": {
      "text/html": [
       "<div>\n",
       "<style scoped>\n",
       "    .dataframe tbody tr th:only-of-type {\n",
       "        vertical-align: middle;\n",
       "    }\n",
       "\n",
       "    .dataframe tbody tr th {\n",
       "        vertical-align: top;\n",
       "    }\n",
       "\n",
       "    .dataframe thead th {\n",
       "        text-align: right;\n",
       "    }\n",
       "</style>\n",
       "<table border=\"1\" class=\"dataframe\">\n",
       "  <thead>\n",
       "    <tr style=\"text-align: right;\">\n",
       "      <th></th>\n",
       "      <th></th>\n",
       "      <th>ingredient_name</th>\n",
       "      <th>food_df_name</th>\n",
       "      <th>USDA</th>\n",
       "      <th>DUKE</th>\n",
       "      <th>PHENOL EXPLORER</th>\n",
       "      <th>DTU</th>\n",
       "    </tr>\n",
       "    <tr>\n",
       "      <th>recipe</th>\n",
       "      <th>ingredient</th>\n",
       "      <th></th>\n",
       "      <th></th>\n",
       "      <th></th>\n",
       "      <th></th>\n",
       "      <th></th>\n",
       "      <th></th>\n",
       "    </tr>\n",
       "  </thead>\n",
       "  <tbody>\n",
       "    <tr>\n",
       "      <th>2108309</th>\n",
       "      <th>2</th>\n",
       "      <td>plain greek yogurt</td>\n",
       "      <td>yogurt</td>\n",
       "      <td>yogurt plain whole milk 8 gram protein per 8 o...</td>\n",
       "      <td>&lt;NA&gt;</td>\n",
       "      <td>soy yogurt</td>\n",
       "      <td>yoghurt</td>\n",
       "    </tr>\n",
       "    <tr>\n",
       "      <th>2189489</th>\n",
       "      <th>0</th>\n",
       "      <td>margarine</td>\n",
       "      <td>margarine</td>\n",
       "      <td>margarine regular hard soybean hydrogenated</td>\n",
       "      <td>&lt;NA&gt;</td>\n",
       "      <td>&lt;NA&gt;</td>\n",
       "      <td>margarine 80% fat table use vegetable fat</td>\n",
       "    </tr>\n",
       "    <tr>\n",
       "      <th>1378004</th>\n",
       "      <th>2</th>\n",
       "      <td>sweet italian sausage chicken sausage</td>\n",
       "      <td>chicken</td>\n",
       "      <td>&lt;NA&gt;</td>\n",
       "      <td>&lt;NA&gt;</td>\n",
       "      <td>&lt;NA&gt;</td>\n",
       "      <td>chicken flesh raw</td>\n",
       "    </tr>\n",
       "    <tr>\n",
       "      <th>525644</th>\n",
       "      <th>2</th>\n",
       "      <td>onion</td>\n",
       "      <td>onion-family vegetable</td>\n",
       "      <td>&lt;NA&gt;</td>\n",
       "      <td>&lt;NA&gt;</td>\n",
       "      <td>&lt;NA&gt;</td>\n",
       "      <td>&lt;NA&gt;</td>\n",
       "    </tr>\n",
       "    <tr>\n",
       "      <th>982726</th>\n",
       "      <th>10</th>\n",
       "      <td>coconut</td>\n",
       "      <td>coconut</td>\n",
       "      <td>nut coconut meat raw</td>\n",
       "      <td>coconut</td>\n",
       "      <td>&lt;NA&gt;</td>\n",
       "      <td>coconut meat desiccated</td>\n",
       "    </tr>\n",
       "    <tr>\n",
       "      <th>2049700</th>\n",
       "      <th>4</th>\n",
       "      <td>mushroom</td>\n",
       "      <td>mushroom</td>\n",
       "      <td>mushroom white raw</td>\n",
       "      <td>&lt;NA&gt;</td>\n",
       "      <td>&lt;NA&gt;</td>\n",
       "      <td>mushroom raw</td>\n",
       "    </tr>\n",
       "    <tr>\n",
       "      <th>1613023</th>\n",
       "      <th>9</th>\n",
       "      <td>salt</td>\n",
       "      <td>salt</td>\n",
       "      <td>salt table</td>\n",
       "      <td>&lt;NA&gt;</td>\n",
       "      <td>&lt;NA&gt;</td>\n",
       "      <td>salt table</td>\n",
       "    </tr>\n",
       "    <tr>\n",
       "      <th>1020744</th>\n",
       "      <th>7</th>\n",
       "      <td>salt</td>\n",
       "      <td>salt</td>\n",
       "      <td>salt table</td>\n",
       "      <td>&lt;NA&gt;</td>\n",
       "      <td>&lt;NA&gt;</td>\n",
       "      <td>salt table</td>\n",
       "    </tr>\n",
       "    <tr>\n",
       "      <th>782330</th>\n",
       "      <th>7</th>\n",
       "      <td>nut</td>\n",
       "      <td>nut</td>\n",
       "      <td>&lt;NA&gt;</td>\n",
       "      <td>&lt;NA&gt;</td>\n",
       "      <td>&lt;NA&gt;</td>\n",
       "      <td>&lt;NA&gt;</td>\n",
       "    </tr>\n",
       "    <tr>\n",
       "      <th>879616</th>\n",
       "      <th>6</th>\n",
       "      <td>yeast</td>\n",
       "      <td>snack bar</td>\n",
       "      <td>snack granola bar hard plain</td>\n",
       "      <td>&lt;NA&gt;</td>\n",
       "      <td>&lt;NA&gt;</td>\n",
       "      <td>&lt;NA&gt;</td>\n",
       "    </tr>\n",
       "    <tr>\n",
       "      <th>1653851</th>\n",
       "      <th>4</th>\n",
       "      <td>buttermilk</td>\n",
       "      <td>buttermilk</td>\n",
       "      <td>milk buttermilk fluid whole</td>\n",
       "      <td>&lt;NA&gt;</td>\n",
       "      <td>&lt;NA&gt;</td>\n",
       "      <td>milk buttermilk lemon</td>\n",
       "    </tr>\n",
       "    <tr>\n",
       "      <th>808085</th>\n",
       "      <th>2</th>\n",
       "      <td>milk</td>\n",
       "      <td>milk cow</td>\n",
       "      <td>milk whole 325% milkfat added vitamin</td>\n",
       "      <td>&lt;NA&gt;</td>\n",
       "      <td>&lt;NA&gt;</td>\n",
       "      <td>milk whole cultured</td>\n",
       "    </tr>\n",
       "    <tr>\n",
       "      <th>1345852</th>\n",
       "      <th>7</th>\n",
       "      <td>old bay seasoning</td>\n",
       "      <td>sweet bay</td>\n",
       "      <td>spice bay leaf</td>\n",
       "      <td>bay</td>\n",
       "      <td>sweet bay dried</td>\n",
       "      <td>&lt;NA&gt;</td>\n",
       "    </tr>\n",
       "    <tr>\n",
       "      <th>931097</th>\n",
       "      <th>9</th>\n",
       "      <td>red onion</td>\n",
       "      <td>red onion</td>\n",
       "      <td>&lt;NA&gt;</td>\n",
       "      <td>&lt;NA&gt;</td>\n",
       "      <td>&lt;NA&gt;</td>\n",
       "      <td>&lt;NA&gt;</td>\n",
       "    </tr>\n",
       "    <tr>\n",
       "      <th>1956519</th>\n",
       "      <th>3</th>\n",
       "      <td>mozzarella cheese</td>\n",
       "      <td>cheese</td>\n",
       "      <td>cheese mozzarella whole milk</td>\n",
       "      <td>&lt;NA&gt;</td>\n",
       "      <td>&lt;NA&gt;</td>\n",
       "      <td>cheese semihard mozzarella 30% fidm</td>\n",
       "    </tr>\n",
       "    <tr>\n",
       "      <th>894410</th>\n",
       "      <th>2</th>\n",
       "      <td>black bean</td>\n",
       "      <td>bean</td>\n",
       "      <td>bean baked canned plain vegetarian</td>\n",
       "      <td>&lt;NA&gt;</td>\n",
       "      <td>&lt;NA&gt;</td>\n",
       "      <td>&lt;NA&gt;</td>\n",
       "    </tr>\n",
       "    <tr>\n",
       "      <th>2164944</th>\n",
       "      <th>0</th>\n",
       "      <td>tea bag</td>\n",
       "      <td>tea</td>\n",
       "      <td>tea black ready-to-drink plain flavored</td>\n",
       "      <td>tea</td>\n",
       "      <td>tea [black] infusion</td>\n",
       "      <td>tea leaf</td>\n",
       "    </tr>\n",
       "    <tr>\n",
       "      <th>1857910</th>\n",
       "      <th>8</th>\n",
       "      <td>water</td>\n",
       "      <td>water</td>\n",
       "      <td>water bottled perrier</td>\n",
       "      <td>&lt;NA&gt;</td>\n",
       "      <td>&lt;NA&gt;</td>\n",
       "      <td>water tap drinking average value</td>\n",
       "    </tr>\n",
       "    <tr>\n",
       "      <th>928740</th>\n",
       "      <th>2</th>\n",
       "      <td>egg</td>\n",
       "      <td>egg</td>\n",
       "      <td>egg whole raw fresh</td>\n",
       "      <td>&lt;NA&gt;</td>\n",
       "      <td>&lt;NA&gt;</td>\n",
       "      <td>egg chicken whole raw</td>\n",
       "    </tr>\n",
       "    <tr>\n",
       "      <th>968825</th>\n",
       "      <th>2</th>\n",
       "      <td>orange rind</td>\n",
       "      <td>sweet orange</td>\n",
       "      <td>orange raw navel</td>\n",
       "      <td>orange</td>\n",
       "      <td>orange [blond]</td>\n",
       "      <td>orange raw</td>\n",
       "    </tr>\n",
       "    <tr>\n",
       "      <th>1609337</th>\n",
       "      <th>13</th>\n",
       "      <td>mozzarella full fat</td>\n",
       "      <td>fat oil</td>\n",
       "      <td>&lt;NA&gt;</td>\n",
       "      <td>&lt;NA&gt;</td>\n",
       "      <td>&lt;NA&gt;</td>\n",
       "      <td>&lt;NA&gt;</td>\n",
       "    </tr>\n",
       "    <tr>\n",
       "      <th>1396644</th>\n",
       "      <th>8</th>\n",
       "      <td>salt</td>\n",
       "      <td>salt</td>\n",
       "      <td>salt table</td>\n",
       "      <td>&lt;NA&gt;</td>\n",
       "      <td>&lt;NA&gt;</td>\n",
       "      <td>salt table</td>\n",
       "    </tr>\n",
       "    <tr>\n",
       "      <th>1132705</th>\n",
       "      <th>2</th>\n",
       "      <td>baking soda</td>\n",
       "      <td>baking soda</td>\n",
       "      <td>&lt;NA&gt;</td>\n",
       "      <td>&lt;NA&gt;</td>\n",
       "      <td>&lt;NA&gt;</td>\n",
       "      <td>&lt;NA&gt;</td>\n",
       "    </tr>\n",
       "    <tr>\n",
       "      <th>402239</th>\n",
       "      <th>9</th>\n",
       "      <td>milk</td>\n",
       "      <td>milk cow</td>\n",
       "      <td>milk whole 325% milkfat added vitamin</td>\n",
       "      <td>&lt;NA&gt;</td>\n",
       "      <td>&lt;NA&gt;</td>\n",
       "      <td>milk whole cultured</td>\n",
       "    </tr>\n",
       "    <tr>\n",
       "      <th>351441</th>\n",
       "      <th>4</th>\n",
       "      <td>pumpkin</td>\n",
       "      <td>japanese pumpkin</td>\n",
       "      <td>seed pumpkin squash seed whole roasted without...</td>\n",
       "      <td>&lt;NA&gt;</td>\n",
       "      <td>&lt;NA&gt;</td>\n",
       "      <td>squash variety raw</td>\n",
       "    </tr>\n",
       "    <tr>\n",
       "      <th>1345852</th>\n",
       "      <th>1</th>\n",
       "      <td>red onion</td>\n",
       "      <td>red onion</td>\n",
       "      <td>&lt;NA&gt;</td>\n",
       "      <td>&lt;NA&gt;</td>\n",
       "      <td>&lt;NA&gt;</td>\n",
       "      <td>&lt;NA&gt;</td>\n",
       "    </tr>\n",
       "    <tr>\n",
       "      <th>1948006</th>\n",
       "      <th>5</th>\n",
       "      <td>lemon zest</td>\n",
       "      <td>lemon</td>\n",
       "      <td>lemon juice raw</td>\n",
       "      <td>lemon</td>\n",
       "      <td>lemon</td>\n",
       "      <td>lemon raw</td>\n",
       "    </tr>\n",
       "    <tr>\n",
       "      <th>989386</th>\n",
       "      <th>8</th>\n",
       "      <td>garlic</td>\n",
       "      <td>garlic</td>\n",
       "      <td>garlic raw</td>\n",
       "      <td>garlic</td>\n",
       "      <td>&lt;NA&gt;</td>\n",
       "      <td>garlic raw</td>\n",
       "    </tr>\n",
       "    <tr>\n",
       "      <th>222</th>\n",
       "      <th>4</th>\n",
       "      <td>sugar</td>\n",
       "      <td>sugar</td>\n",
       "      <td>sugar brown</td>\n",
       "      <td>&lt;NA&gt;</td>\n",
       "      <td>&lt;NA&gt;</td>\n",
       "      <td>sugar brown</td>\n",
       "    </tr>\n",
       "    <tr>\n",
       "      <th>92858</th>\n",
       "      <th>0</th>\n",
       "      <td>sweet potato</td>\n",
       "      <td>sweet potato</td>\n",
       "      <td>sweet potato raw unprepared</td>\n",
       "      <td>sweet potato</td>\n",
       "      <td>&lt;NA&gt;</td>\n",
       "      <td>potato raw</td>\n",
       "    </tr>\n",
       "    <tr>\n",
       "      <th>983934</th>\n",
       "      <th>5</th>\n",
       "      <td>fresh parsley</td>\n",
       "      <td>parsley</td>\n",
       "      <td>spice parsley dried</td>\n",
       "      <td>parsley</td>\n",
       "      <td>parsley dried</td>\n",
       "      <td>parsley raw</td>\n",
       "    </tr>\n",
       "    <tr>\n",
       "      <th>646791</th>\n",
       "      <th>3</th>\n",
       "      <td>brown sugar</td>\n",
       "      <td>sugar</td>\n",
       "      <td>sugar brown</td>\n",
       "      <td>&lt;NA&gt;</td>\n",
       "      <td>&lt;NA&gt;</td>\n",
       "      <td>sugar brown</td>\n",
       "    </tr>\n",
       "    <tr>\n",
       "      <th>519070</th>\n",
       "      <th>1</th>\n",
       "      <td>soda</td>\n",
       "      <td>baking soda</td>\n",
       "      <td>&lt;NA&gt;</td>\n",
       "      <td>&lt;NA&gt;</td>\n",
       "      <td>&lt;NA&gt;</td>\n",
       "      <td>&lt;NA&gt;</td>\n",
       "    </tr>\n",
       "    <tr>\n",
       "      <th>866380</th>\n",
       "      <th>7</th>\n",
       "      <td>black pitted olive</td>\n",
       "      <td>olive</td>\n",
       "      <td>olive ripe canned small-extra large</td>\n",
       "      <td>olive</td>\n",
       "      <td>olive [black] raw</td>\n",
       "      <td>olive black without stone brine</td>\n",
       "    </tr>\n",
       "    <tr>\n",
       "      <th>1505154</th>\n",
       "      <th>13</th>\n",
       "      <td>butter</td>\n",
       "      <td>butter</td>\n",
       "      <td>butter salted</td>\n",
       "      <td>&lt;NA&gt;</td>\n",
       "      <td>&lt;NA&gt;</td>\n",
       "      <td>butter salt added</td>\n",
       "    </tr>\n",
       "    <tr>\n",
       "      <th>1136022</th>\n",
       "      <th>0</th>\n",
       "      <td>olive oil</td>\n",
       "      <td>olive oil</td>\n",
       "      <td>&lt;NA&gt;</td>\n",
       "      <td>&lt;NA&gt;</td>\n",
       "      <td>&lt;NA&gt;</td>\n",
       "      <td>&lt;NA&gt;</td>\n",
       "    </tr>\n",
       "    <tr>\n",
       "      <th>2052696</th>\n",
       "      <th>1</th>\n",
       "      <td>sugar</td>\n",
       "      <td>sugar</td>\n",
       "      <td>sugar brown</td>\n",
       "      <td>&lt;NA&gt;</td>\n",
       "      <td>&lt;NA&gt;</td>\n",
       "      <td>sugar brown</td>\n",
       "    </tr>\n",
       "    <tr>\n",
       "      <th rowspan=\"2\" valign=\"top\">1857910</th>\n",
       "      <th>6</th>\n",
       "      <td>instant chopped onion</td>\n",
       "      <td>onion-family vegetable</td>\n",
       "      <td>&lt;NA&gt;</td>\n",
       "      <td>&lt;NA&gt;</td>\n",
       "      <td>&lt;NA&gt;</td>\n",
       "      <td>&lt;NA&gt;</td>\n",
       "    </tr>\n",
       "    <tr>\n",
       "      <th>0</th>\n",
       "      <td>pineapple chunk syrup</td>\n",
       "      <td>pineapple</td>\n",
       "      <td>pineapple canned light syrup pack solid liquid</td>\n",
       "      <td>pineapple</td>\n",
       "      <td>pineapple</td>\n",
       "      <td>pineapple raw</td>\n",
       "    </tr>\n",
       "    <tr>\n",
       "      <th>726722</th>\n",
       "      <th>4</th>\n",
       "      <td>garlic</td>\n",
       "      <td>garlic</td>\n",
       "      <td>garlic raw</td>\n",
       "      <td>garlic</td>\n",
       "      <td>&lt;NA&gt;</td>\n",
       "      <td>garlic raw</td>\n",
       "    </tr>\n",
       "    <tr>\n",
       "      <th>1653851</th>\n",
       "      <th>7</th>\n",
       "      <td>green onion</td>\n",
       "      <td>green onion</td>\n",
       "      <td>&lt;NA&gt;</td>\n",
       "      <td>&lt;NA&gt;</td>\n",
       "      <td>&lt;NA&gt;</td>\n",
       "      <td>&lt;NA&gt;</td>\n",
       "    </tr>\n",
       "    <tr>\n",
       "      <th>402239</th>\n",
       "      <th>10</th>\n",
       "      <td>pie shell</td>\n",
       "      <td>edible shell</td>\n",
       "      <td>taco shell baked</td>\n",
       "      <td>&lt;NA&gt;</td>\n",
       "      <td>&lt;NA&gt;</td>\n",
       "      <td>&lt;NA&gt;</td>\n",
       "    </tr>\n",
       "    <tr>\n",
       "      <th>574304</th>\n",
       "      <th>7</th>\n",
       "      <td>oleo</td>\n",
       "      <td>margarine</td>\n",
       "      <td>margarine regular hard soybean hydrogenated</td>\n",
       "      <td>&lt;NA&gt;</td>\n",
       "      <td>&lt;NA&gt;</td>\n",
       "      <td>margarine 80% fat table use vegetable fat</td>\n",
       "    </tr>\n",
       "    <tr>\n",
       "      <th>983805</th>\n",
       "      <th>6</th>\n",
       "      <td>garlic powder</td>\n",
       "      <td>garlic</td>\n",
       "      <td>spice garlic powder</td>\n",
       "      <td>garlic</td>\n",
       "      <td>&lt;NA&gt;</td>\n",
       "      <td>garlic dried powder</td>\n",
       "    </tr>\n",
       "    <tr>\n",
       "      <th>1522278</th>\n",
       "      <th>0</th>\n",
       "      <td>ground coriander</td>\n",
       "      <td>coriander</td>\n",
       "      <td>coriander cilantro leaf raw</td>\n",
       "      <td>chinese parsley</td>\n",
       "      <td>coriander fresh</td>\n",
       "      <td>coriander leaf raw</td>\n",
       "    </tr>\n",
       "    <tr>\n",
       "      <th>820354</th>\n",
       "      <th>0</th>\n",
       "      <td>oleo</td>\n",
       "      <td>margarine</td>\n",
       "      <td>margarine regular hard soybean hydrogenated</td>\n",
       "      <td>&lt;NA&gt;</td>\n",
       "      <td>&lt;NA&gt;</td>\n",
       "      <td>margarine 80% fat table use vegetable fat</td>\n",
       "    </tr>\n",
       "    <tr>\n",
       "      <th>1314074</th>\n",
       "      <th>6</th>\n",
       "      <td>onion</td>\n",
       "      <td>onion-family vegetable</td>\n",
       "      <td>&lt;NA&gt;</td>\n",
       "      <td>&lt;NA&gt;</td>\n",
       "      <td>&lt;NA&gt;</td>\n",
       "      <td>&lt;NA&gt;</td>\n",
       "    </tr>\n",
       "    <tr>\n",
       "      <th>452418</th>\n",
       "      <th>1</th>\n",
       "      <td>onion</td>\n",
       "      <td>onion-family vegetable</td>\n",
       "      <td>&lt;NA&gt;</td>\n",
       "      <td>&lt;NA&gt;</td>\n",
       "      <td>&lt;NA&gt;</td>\n",
       "      <td>&lt;NA&gt;</td>\n",
       "    </tr>\n",
       "    <tr>\n",
       "      <th>1600752</th>\n",
       "      <th>10</th>\n",
       "      <td>queso fresco</td>\n",
       "      <td>NaN</td>\n",
       "      <td>&lt;NA&gt;</td>\n",
       "      <td>&lt;NA&gt;</td>\n",
       "      <td>&lt;NA&gt;</td>\n",
       "      <td>&lt;NA&gt;</td>\n",
       "    </tr>\n",
       "    <tr>\n",
       "      <th>2058996</th>\n",
       "      <th>5</th>\n",
       "      <td>kraft shredded mozzarella cheese</td>\n",
       "      <td>cheese</td>\n",
       "      <td>cheese mozzarella whole milk</td>\n",
       "      <td>&lt;NA&gt;</td>\n",
       "      <td>&lt;NA&gt;</td>\n",
       "      <td>cheese semihard mozzarella 30% fidm</td>\n",
       "    </tr>\n",
       "    <tr>\n",
       "      <th>1808760</th>\n",
       "      <th>3</th>\n",
       "      <td>red onion</td>\n",
       "      <td>red onion</td>\n",
       "      <td>&lt;NA&gt;</td>\n",
       "      <td>&lt;NA&gt;</td>\n",
       "      <td>&lt;NA&gt;</td>\n",
       "      <td>&lt;NA&gt;</td>\n",
       "    </tr>\n",
       "    <tr>\n",
       "      <th>1032907</th>\n",
       "      <th>3</th>\n",
       "      <td>garlic</td>\n",
       "      <td>garlic</td>\n",
       "      <td>garlic raw</td>\n",
       "      <td>garlic</td>\n",
       "      <td>&lt;NA&gt;</td>\n",
       "      <td>garlic raw</td>\n",
       "    </tr>\n",
       "    <tr>\n",
       "      <th>2101433</th>\n",
       "      <th>6</th>\n",
       "      <td>cheddar cheese</td>\n",
       "      <td>cheese</td>\n",
       "      <td>cheese cheddar</td>\n",
       "      <td>&lt;NA&gt;</td>\n",
       "      <td>&lt;NA&gt;</td>\n",
       "      <td>cheese hard cheddar danish</td>\n",
       "    </tr>\n",
       "    <tr>\n",
       "      <th>2164944</th>\n",
       "      <th>8</th>\n",
       "      <td>pineapple</td>\n",
       "      <td>pineapple</td>\n",
       "      <td>pineapple raw variety</td>\n",
       "      <td>pineapple</td>\n",
       "      <td>pineapple</td>\n",
       "      <td>pineapple raw</td>\n",
       "    </tr>\n",
       "    <tr>\n",
       "      <th>280477</th>\n",
       "      <th>0</th>\n",
       "      <td>orange juice</td>\n",
       "      <td>sweet orange</td>\n",
       "      <td>orange juice raw</td>\n",
       "      <td>orange</td>\n",
       "      <td>orange [blond]</td>\n",
       "      <td>orange juice canned</td>\n",
       "    </tr>\n",
       "    <tr>\n",
       "      <th>480244</th>\n",
       "      <th>2</th>\n",
       "      <td>green chili pepper</td>\n",
       "      <td>pepper</td>\n",
       "      <td>pepper sweet red raw</td>\n",
       "      <td>bell pepper</td>\n",
       "      <td>sweet pepper [green] raw</td>\n",
       "      <td>pepper sweet canned</td>\n",
       "    </tr>\n",
       "    <tr>\n",
       "      <th>1806301</th>\n",
       "      <th>2</th>\n",
       "      <td>lowfat sour cream</td>\n",
       "      <td>cream</td>\n",
       "      <td>sour cream imitation cultured</td>\n",
       "      <td>&lt;NA&gt;</td>\n",
       "      <td>&lt;NA&gt;</td>\n",
       "      <td>cream 13% fat</td>\n",
       "    </tr>\n",
       "    <tr>\n",
       "      <th>1606545</th>\n",
       "      <th>0</th>\n",
       "      <td>sweet potato medium</td>\n",
       "      <td>sweet potato</td>\n",
       "      <td>sweet potato raw unprepared</td>\n",
       "      <td>sweet potato</td>\n",
       "      <td>&lt;NA&gt;</td>\n",
       "      <td>potato raw</td>\n",
       "    </tr>\n",
       "    <tr>\n",
       "      <th>1777734</th>\n",
       "      <th>3</th>\n",
       "      <td>tub cool whip whipped topping</td>\n",
       "      <td>topping</td>\n",
       "      <td>topping strawberry</td>\n",
       "      <td>&lt;NA&gt;</td>\n",
       "      <td>&lt;NA&gt;</td>\n",
       "      <td>&lt;NA&gt;</td>\n",
       "    </tr>\n",
       "    <tr>\n",
       "      <th>373388</th>\n",
       "      <th>2</th>\n",
       "      <td>egg</td>\n",
       "      <td>egg</td>\n",
       "      <td>egg whole raw fresh</td>\n",
       "      <td>&lt;NA&gt;</td>\n",
       "      <td>&lt;NA&gt;</td>\n",
       "      <td>egg chicken whole raw</td>\n",
       "    </tr>\n",
       "    <tr>\n",
       "      <th>394397</th>\n",
       "      <th>4</th>\n",
       "      <td>cheddar cheese</td>\n",
       "      <td>cheese</td>\n",
       "      <td>cheese cheddar</td>\n",
       "      <td>&lt;NA&gt;</td>\n",
       "      <td>&lt;NA&gt;</td>\n",
       "      <td>cheese hard cheddar danish</td>\n",
       "    </tr>\n",
       "    <tr>\n",
       "      <th>1396644</th>\n",
       "      <th>5</th>\n",
       "      <td>white wine</td>\n",
       "      <td>white wine</td>\n",
       "      <td>&lt;NA&gt;</td>\n",
       "      <td>&lt;NA&gt;</td>\n",
       "      <td>&lt;NA&gt;</td>\n",
       "      <td>&lt;NA&gt;</td>\n",
       "    </tr>\n",
       "    <tr>\n",
       "      <th>1378004</th>\n",
       "      <th>7</th>\n",
       "      <td>sage</td>\n",
       "      <td>common sage</td>\n",
       "      <td>spice sage ground</td>\n",
       "      <td>sage</td>\n",
       "      <td>common sage fresh</td>\n",
       "      <td>&lt;NA&gt;</td>\n",
       "    </tr>\n",
       "    <tr>\n",
       "      <th>1018637</th>\n",
       "      <th>3</th>\n",
       "      <td>prosciutto</td>\n",
       "      <td>domestic pig</td>\n",
       "      <td>pork fresh loin whole separable lean raw</td>\n",
       "      <td>&lt;NA&gt;</td>\n",
       "      <td>&lt;NA&gt;</td>\n",
       "      <td>pork belly whole cut cured raw</td>\n",
       "    </tr>\n",
       "    <tr>\n",
       "      <th>989386</th>\n",
       "      <th>1</th>\n",
       "      <td>olive oil</td>\n",
       "      <td>olive oil</td>\n",
       "      <td>&lt;NA&gt;</td>\n",
       "      <td>&lt;NA&gt;</td>\n",
       "      <td>&lt;NA&gt;</td>\n",
       "      <td>&lt;NA&gt;</td>\n",
       "    </tr>\n",
       "    <tr>\n",
       "      <th>855127</th>\n",
       "      <th>2</th>\n",
       "      <td>parmesan cheese</td>\n",
       "      <td>cheese</td>\n",
       "      <td>cheese parmesan hard</td>\n",
       "      <td>&lt;NA&gt;</td>\n",
       "      <td>&lt;NA&gt;</td>\n",
       "      <td>cheese hard parmesan grated</td>\n",
       "    </tr>\n",
       "    <tr>\n",
       "      <th>1703</th>\n",
       "      <th>1</th>\n",
       "      <td>egg</td>\n",
       "      <td>egg</td>\n",
       "      <td>egg whole raw fresh</td>\n",
       "      <td>&lt;NA&gt;</td>\n",
       "      <td>&lt;NA&gt;</td>\n",
       "      <td>egg chicken whole raw</td>\n",
       "    </tr>\n",
       "    <tr>\n",
       "      <th>1533767</th>\n",
       "      <th>7</th>\n",
       "      <td>canned pumpkin</td>\n",
       "      <td>japanese pumpkin</td>\n",
       "      <td>seed pumpkin squash seed whole roasted without...</td>\n",
       "      <td>&lt;NA&gt;</td>\n",
       "      <td>&lt;NA&gt;</td>\n",
       "      <td>squash variety raw</td>\n",
       "    </tr>\n",
       "    <tr>\n",
       "      <th>43845</th>\n",
       "      <th>2</th>\n",
       "      <td>onion</td>\n",
       "      <td>onion-family vegetable</td>\n",
       "      <td>&lt;NA&gt;</td>\n",
       "      <td>&lt;NA&gt;</td>\n",
       "      <td>&lt;NA&gt;</td>\n",
       "      <td>&lt;NA&gt;</td>\n",
       "    </tr>\n",
       "    <tr>\n",
       "      <th>147316</th>\n",
       "      <th>0</th>\n",
       "      <td>box rice chex</td>\n",
       "      <td>rice</td>\n",
       "      <td>rice white long-grain regular raw unenriched</td>\n",
       "      <td>rice</td>\n",
       "      <td>rice whole grain</td>\n",
       "      <td>rice groat raw</td>\n",
       "    </tr>\n",
       "    <tr>\n",
       "      <th>1196992</th>\n",
       "      <th>8</th>\n",
       "      <td>ground cumin</td>\n",
       "      <td>cumin</td>\n",
       "      <td>spice cumin seed</td>\n",
       "      <td>cumin</td>\n",
       "      <td>cumin</td>\n",
       "      <td>&lt;NA&gt;</td>\n",
       "    </tr>\n",
       "    <tr>\n",
       "      <th>1154862</th>\n",
       "      <th>7</th>\n",
       "      <td>salt</td>\n",
       "      <td>salt</td>\n",
       "      <td>salt table</td>\n",
       "      <td>&lt;NA&gt;</td>\n",
       "      <td>&lt;NA&gt;</td>\n",
       "      <td>salt table</td>\n",
       "    </tr>\n",
       "    <tr>\n",
       "      <th>1864686</th>\n",
       "      <th>1</th>\n",
       "      <td>apple cider vinegar</td>\n",
       "      <td>vinegar</td>\n",
       "      <td>vinegar cider</td>\n",
       "      <td>&lt;NA&gt;</td>\n",
       "      <td>vinegar</td>\n",
       "      <td>vinegar</td>\n",
       "    </tr>\n",
       "    <tr>\n",
       "      <th>1378004</th>\n",
       "      <th>11</th>\n",
       "      <td>chicken stock</td>\n",
       "      <td>chicken</td>\n",
       "      <td>&lt;NA&gt;</td>\n",
       "      <td>&lt;NA&gt;</td>\n",
       "      <td>&lt;NA&gt;</td>\n",
       "      <td>chicken flesh raw</td>\n",
       "    </tr>\n",
       "    <tr>\n",
       "      <th>529533</th>\n",
       "      <th>4</th>\n",
       "      <td>fresh blackberry</td>\n",
       "      <td>blackberry</td>\n",
       "      <td>blackberry raw</td>\n",
       "      <td></td>\n",
       "      <td>blackberry</td>\n",
       "      <td>blackberry raw</td>\n",
       "    </tr>\n",
       "    <tr>\n",
       "      <th>206996</th>\n",
       "      <th>4</th>\n",
       "      <td>baking powder</td>\n",
       "      <td>baking powder</td>\n",
       "      <td>&lt;NA&gt;</td>\n",
       "      <td>&lt;NA&gt;</td>\n",
       "      <td>&lt;NA&gt;</td>\n",
       "      <td>&lt;NA&gt;</td>\n",
       "    </tr>\n",
       "    <tr>\n",
       "      <th>519070</th>\n",
       "      <th>0</th>\n",
       "      <td>flour</td>\n",
       "      <td>flour</td>\n",
       "      <td>usda commodity bakery flour mix</td>\n",
       "      <td>&lt;NA&gt;</td>\n",
       "      <td>&lt;NA&gt;</td>\n",
       "      <td>&lt;NA&gt;</td>\n",
       "    </tr>\n",
       "    <tr>\n",
       "      <th>2108309</th>\n",
       "      <th>3</th>\n",
       "      <td>egg white</td>\n",
       "      <td>egg</td>\n",
       "      <td>egg white raw fresh</td>\n",
       "      <td>&lt;NA&gt;</td>\n",
       "      <td>&lt;NA&gt;</td>\n",
       "      <td>egg chicken white raw</td>\n",
       "    </tr>\n",
       "    <tr>\n",
       "      <th>1226899</th>\n",
       "      <th>2</th>\n",
       "      <td>sugar</td>\n",
       "      <td>sugar</td>\n",
       "      <td>sugar brown</td>\n",
       "      <td>&lt;NA&gt;</td>\n",
       "      <td>&lt;NA&gt;</td>\n",
       "      <td>sugar brown</td>\n",
       "    </tr>\n",
       "    <tr>\n",
       "      <th>1901090</th>\n",
       "      <th>3</th>\n",
       "      <td>garlic</td>\n",
       "      <td>garlic</td>\n",
       "      <td>garlic raw</td>\n",
       "      <td>garlic</td>\n",
       "      <td>&lt;NA&gt;</td>\n",
       "      <td>garlic raw</td>\n",
       "    </tr>\n",
       "    <tr>\n",
       "      <th>1930042</th>\n",
       "      <th>5</th>\n",
       "      <td>baking powder</td>\n",
       "      <td>baking powder</td>\n",
       "      <td>&lt;NA&gt;</td>\n",
       "      <td>&lt;NA&gt;</td>\n",
       "      <td>&lt;NA&gt;</td>\n",
       "      <td>&lt;NA&gt;</td>\n",
       "    </tr>\n",
       "    <tr>\n",
       "      <th>767911</th>\n",
       "      <th>6</th>\n",
       "      <td>corn flake</td>\n",
       "      <td>corn</td>\n",
       "      <td>corn sweet white canned whole kernel regular p...</td>\n",
       "      <td>corn</td>\n",
       "      <td>maize whole grain</td>\n",
       "      <td>corn flour</td>\n",
       "    </tr>\n",
       "    <tr>\n",
       "      <th>2196831</th>\n",
       "      <th>0</th>\n",
       "      <td>extra-virgin olive oil</td>\n",
       "      <td>olive oil</td>\n",
       "      <td>&lt;NA&gt;</td>\n",
       "      <td>&lt;NA&gt;</td>\n",
       "      <td>&lt;NA&gt;</td>\n",
       "      <td>&lt;NA&gt;</td>\n",
       "    </tr>\n",
       "    <tr>\n",
       "      <th>1997052</th>\n",
       "      <th>6</th>\n",
       "      <td>dried chicken bouillon</td>\n",
       "      <td>chicken</td>\n",
       "      <td>&lt;NA&gt;</td>\n",
       "      <td>&lt;NA&gt;</td>\n",
       "      <td>&lt;NA&gt;</td>\n",
       "      <td>chicken flesh raw</td>\n",
       "    </tr>\n",
       "    <tr>\n",
       "      <th>1546037</th>\n",
       "      <th>11</th>\n",
       "      <td>cinnamon</td>\n",
       "      <td>cinnamon</td>\n",
       "      <td>spice cinnamon ground</td>\n",
       "      <td>ceylon cinnamon</td>\n",
       "      <td>ceylan cinnamon</td>\n",
       "      <td>cinnamon stick</td>\n",
       "    </tr>\n",
       "    <tr>\n",
       "      <th>2005640</th>\n",
       "      <th>11</th>\n",
       "      <td>powdered sugar</td>\n",
       "      <td>sugar</td>\n",
       "      <td>sugar powdered</td>\n",
       "      <td>&lt;NA&gt;</td>\n",
       "      <td>&lt;NA&gt;</td>\n",
       "      <td>sugar brown</td>\n",
       "    </tr>\n",
       "    <tr>\n",
       "      <th>1746116</th>\n",
       "      <th>6</th>\n",
       "      <td>land lake heavy whipping cream</td>\n",
       "      <td>cream</td>\n",
       "      <td>sour cream imitation cultured</td>\n",
       "      <td>&lt;NA&gt;</td>\n",
       "      <td>&lt;NA&gt;</td>\n",
       "      <td>cream whipping 38% fat</td>\n",
       "    </tr>\n",
       "    <tr>\n",
       "      <th>1267559</th>\n",
       "      <th>6</th>\n",
       "      <td>sherry vinegar</td>\n",
       "      <td>vinegar</td>\n",
       "      <td>vinegar cider</td>\n",
       "      <td>&lt;NA&gt;</td>\n",
       "      <td>vinegar</td>\n",
       "      <td>vinegar</td>\n",
       "    </tr>\n",
       "    <tr>\n",
       "      <th>928740</th>\n",
       "      <th>6</th>\n",
       "      <td>heavy cream</td>\n",
       "      <td>cream</td>\n",
       "      <td>sour cream imitation cultured</td>\n",
       "      <td>&lt;NA&gt;</td>\n",
       "      <td>&lt;NA&gt;</td>\n",
       "      <td>cream 13% fat</td>\n",
       "    </tr>\n",
       "    <tr>\n",
       "      <th>1609337</th>\n",
       "      <th>16</th>\n",
       "      <td>oven-ready lasagna noodle</td>\n",
       "      <td>lasagna</td>\n",
       "      <td>lasagna cheese frozen prepared</td>\n",
       "      <td>&lt;NA&gt;</td>\n",
       "      <td>&lt;NA&gt;</td>\n",
       "      <td>&lt;NA&gt;</td>\n",
       "    </tr>\n",
       "    <tr>\n",
       "      <th>1984239</th>\n",
       "      <th>2</th>\n",
       "      <td>nori seaweed</td>\n",
       "      <td>red algae</td>\n",
       "      <td></td>\n",
       "      <td>&lt;NA&gt;</td>\n",
       "      <td>&lt;NA&gt;</td>\n",
       "      <td>seaweed agar</td>\n",
       "    </tr>\n",
       "    <tr>\n",
       "      <th>865758</th>\n",
       "      <th>2</th>\n",
       "      <td>green pepper</td>\n",
       "      <td>pepper</td>\n",
       "      <td>pepper sweet red raw</td>\n",
       "      <td>bell pepper</td>\n",
       "      <td>sweet pepper [green] raw</td>\n",
       "      <td>pepper sweet canned</td>\n",
       "    </tr>\n",
       "    <tr>\n",
       "      <th>23612</th>\n",
       "      <th>1</th>\n",
       "      <td>catsup</td>\n",
       "      <td>ketchup</td>\n",
       "      <td>catsup</td>\n",
       "      <td>&lt;NA&gt;</td>\n",
       "      <td>&lt;NA&gt;</td>\n",
       "      <td>tomato ketchup bottled</td>\n",
       "    </tr>\n",
       "    <tr>\n",
       "      <th>939793</th>\n",
       "      <th>5</th>\n",
       "      <td>milk</td>\n",
       "      <td>milk cow</td>\n",
       "      <td>milk whole 325% milkfat added vitamin</td>\n",
       "      <td>&lt;NA&gt;</td>\n",
       "      <td>&lt;NA&gt;</td>\n",
       "      <td>milk whole cultured</td>\n",
       "    </tr>\n",
       "    <tr>\n",
       "      <th>1828339</th>\n",
       "      <th>3</th>\n",
       "      <td>long grain brown rice</td>\n",
       "      <td>rice</td>\n",
       "      <td>rice brown long-grain raw</td>\n",
       "      <td>rice</td>\n",
       "      <td>rice whole grain</td>\n",
       "      <td>rice brown raw</td>\n",
       "    </tr>\n",
       "    <tr>\n",
       "      <th>508561</th>\n",
       "      <th>1</th>\n",
       "      <td>cabbage</td>\n",
       "      <td>cabbage</td>\n",
       "      <td>cabbage raw</td>\n",
       "      <td>cabbage</td>\n",
       "      <td>oxheart cabbage raw</td>\n",
       "      <td>cabbage red raw</td>\n",
       "    </tr>\n",
       "    <tr>\n",
       "      <th>1533767</th>\n",
       "      <th>11</th>\n",
       "      <td>brown sugar</td>\n",
       "      <td>sugar</td>\n",
       "      <td>sugar brown</td>\n",
       "      <td>&lt;NA&gt;</td>\n",
       "      <td>&lt;NA&gt;</td>\n",
       "      <td>sugar brown</td>\n",
       "    </tr>\n",
       "    <tr>\n",
       "      <th>972254</th>\n",
       "      <th>7</th>\n",
       "      <td>dried basil</td>\n",
       "      <td>sweet basil</td>\n",
       "      <td>spice basil dried</td>\n",
       "      <td>basil</td>\n",
       "      <td>sweet basil dried</td>\n",
       "      <td>&lt;NA&gt;</td>\n",
       "    </tr>\n",
       "    <tr>\n",
       "      <th>1020744</th>\n",
       "      <th>0</th>\n",
       "      <td>sugar</td>\n",
       "      <td>sugar</td>\n",
       "      <td>sugar brown</td>\n",
       "      <td>&lt;NA&gt;</td>\n",
       "      <td>&lt;NA&gt;</td>\n",
       "      <td>sugar brown</td>\n",
       "    </tr>\n",
       "    <tr>\n",
       "      <th>2149994</th>\n",
       "      <th>2</th>\n",
       "      <td>oscar mayer real bacon bit</td>\n",
       "      <td>domestic pig</td>\n",
       "      <td>pork bacon rendered fat cooked</td>\n",
       "      <td>&lt;NA&gt;</td>\n",
       "      <td>&lt;NA&gt;</td>\n",
       "      <td>bacon sliced raw</td>\n",
       "    </tr>\n",
       "    <tr>\n",
       "      <th>1857320</th>\n",
       "      <th>4</th>\n",
       "      <td>dry onion</td>\n",
       "      <td>onion-family vegetable</td>\n",
       "      <td>&lt;NA&gt;</td>\n",
       "      <td>&lt;NA&gt;</td>\n",
       "      <td>&lt;NA&gt;</td>\n",
       "      <td>&lt;NA&gt;</td>\n",
       "    </tr>\n",
       "    <tr>\n",
       "      <th>1032907</th>\n",
       "      <th>9</th>\n",
       "      <td>greek yogurt</td>\n",
       "      <td>yogurt</td>\n",
       "      <td>yogurt plain whole milk 8 gram protein per 8 o...</td>\n",
       "      <td>&lt;NA&gt;</td>\n",
       "      <td>soy yogurt</td>\n",
       "      <td>yoghurt</td>\n",
       "    </tr>\n",
       "    <tr>\n",
       "      <th>676051</th>\n",
       "      <th>3</th>\n",
       "      <td>crushed pineapple</td>\n",
       "      <td>pineapple</td>\n",
       "      <td>pineapple raw variety</td>\n",
       "      <td>pineapple</td>\n",
       "      <td>pineapple</td>\n",
       "      <td>pineapple raw</td>\n",
       "    </tr>\n",
       "    <tr>\n",
       "      <th>767084</th>\n",
       "      <th>2</th>\n",
       "      <td>egg</td>\n",
       "      <td>egg</td>\n",
       "      <td>egg whole raw fresh</td>\n",
       "      <td>&lt;NA&gt;</td>\n",
       "      <td>&lt;NA&gt;</td>\n",
       "      <td>egg chicken whole raw</td>\n",
       "    </tr>\n",
       "    <tr>\n",
       "      <th>1609337</th>\n",
       "      <th>12</th>\n",
       "      <td>bay leaf</td>\n",
       "      <td>oval-leaf huckleberry</td>\n",
       "      <td>&lt;NA&gt;</td>\n",
       "      <td>&lt;NA&gt;</td>\n",
       "      <td>oval-leaf huckleberry</td>\n",
       "      <td>&lt;NA&gt;</td>\n",
       "    </tr>\n",
       "    <tr>\n",
       "      <th>2005640</th>\n",
       "      <th>1</th>\n",
       "      <td>sugar</td>\n",
       "      <td>sugar</td>\n",
       "      <td>sugar brown</td>\n",
       "      <td>&lt;NA&gt;</td>\n",
       "      <td>&lt;NA&gt;</td>\n",
       "      <td>sugar brown</td>\n",
       "    </tr>\n",
       "    <tr>\n",
       "      <th>1613023</th>\n",
       "      <th>8</th>\n",
       "      <td>golpar</td>\n",
       "      <td>NaN</td>\n",
       "      <td>&lt;NA&gt;</td>\n",
       "      <td>&lt;NA&gt;</td>\n",
       "      <td>&lt;NA&gt;</td>\n",
       "      <td>&lt;NA&gt;</td>\n",
       "    </tr>\n",
       "    <tr>\n",
       "      <th>1320064</th>\n",
       "      <th>5</th>\n",
       "      <td>chinese 5 spice powder</td>\n",
       "      <td>curry powder</td>\n",
       "      <td>spice curry powder</td>\n",
       "      <td>&lt;NA&gt;</td>\n",
       "      <td>curry powder</td>\n",
       "      <td>curry powder</td>\n",
       "    </tr>\n",
       "    <tr>\n",
       "      <th>879616</th>\n",
       "      <th>1</th>\n",
       "      <td>bread flour</td>\n",
       "      <td>flour</td>\n",
       "      <td>usda commodity bakery flour mix</td>\n",
       "      <td>&lt;NA&gt;</td>\n",
       "      <td>&lt;NA&gt;</td>\n",
       "      <td>&lt;NA&gt;</td>\n",
       "    </tr>\n",
       "    <tr>\n",
       "      <th>1788185</th>\n",
       "      <th>7</th>\n",
       "      <td>oscar mayer smoked ham</td>\n",
       "      <td>domestic pig</td>\n",
       "      <td>ham honey smoked cooked</td>\n",
       "      <td>&lt;NA&gt;</td>\n",
       "      <td>&lt;NA&gt;</td>\n",
       "      <td>pork ham smoked</td>\n",
       "    </tr>\n",
       "    <tr>\n",
       "      <th>982726</th>\n",
       "      <th>3</th>\n",
       "      <td>egg yolk</td>\n",
       "      <td>egg yolk</td>\n",
       "      <td>&lt;NA&gt;</td>\n",
       "      <td>&lt;NA&gt;</td>\n",
       "      <td>&lt;NA&gt;</td>\n",
       "      <td>&lt;NA&gt;</td>\n",
       "    </tr>\n",
       "    <tr>\n",
       "      <th>2019868</th>\n",
       "      <th>6</th>\n",
       "      <td>corn flake</td>\n",
       "      <td>corn</td>\n",
       "      <td>corn sweet white canned whole kernel regular p...</td>\n",
       "      <td>corn</td>\n",
       "      <td>maize whole grain</td>\n",
       "      <td>corn flour</td>\n",
       "    </tr>\n",
       "    <tr>\n",
       "      <th>1020744</th>\n",
       "      <th>3</th>\n",
       "      <td>heavy cream</td>\n",
       "      <td>cream</td>\n",
       "      <td>sour cream imitation cultured</td>\n",
       "      <td>&lt;NA&gt;</td>\n",
       "      <td>&lt;NA&gt;</td>\n",
       "      <td>cream 13% fat</td>\n",
       "    </tr>\n",
       "    <tr>\n",
       "      <th>894410</th>\n",
       "      <th>7</th>\n",
       "      <td>lime juice</td>\n",
       "      <td>lime</td>\n",
       "      <td>lime juice raw</td>\n",
       "      <td>lime</td>\n",
       "      <td>lime pure juice</td>\n",
       "      <td>lime raw</td>\n",
       "    </tr>\n",
       "    <tr>\n",
       "      <th>983934</th>\n",
       "      <th>1</th>\n",
       "      <td>fresh mushroom</td>\n",
       "      <td>mushroom</td>\n",
       "      <td>mushroom white raw</td>\n",
       "      <td>&lt;NA&gt;</td>\n",
       "      <td>&lt;NA&gt;</td>\n",
       "      <td>mushroom raw</td>\n",
       "    </tr>\n",
       "    <tr>\n",
       "      <th>738063</th>\n",
       "      <th>4</th>\n",
       "      <td>egg</td>\n",
       "      <td>egg</td>\n",
       "      <td>egg whole raw fresh</td>\n",
       "      <td>&lt;NA&gt;</td>\n",
       "      <td>&lt;NA&gt;</td>\n",
       "      <td>egg chicken whole raw</td>\n",
       "    </tr>\n",
       "    <tr>\n",
       "      <th>1369744</th>\n",
       "      <th>5</th>\n",
       "      <td>garlic</td>\n",
       "      <td>garlic</td>\n",
       "      <td>garlic raw</td>\n",
       "      <td>garlic</td>\n",
       "      <td>&lt;NA&gt;</td>\n",
       "      <td>garlic raw</td>\n",
       "    </tr>\n",
       "    <tr>\n",
       "      <th>1546037</th>\n",
       "      <th>17</th>\n",
       "      <td>half-and-half</td>\n",
       "      <td>soy product</td>\n",
       "      <td>tempeh</td>\n",
       "      <td>&lt;NA&gt;</td>\n",
       "      <td>soy burger raw</td>\n",
       "      <td>&lt;NA&gt;</td>\n",
       "    </tr>\n",
       "    <tr>\n",
       "      <th>1320064</th>\n",
       "      <th>9</th>\n",
       "      <td>vegetable broth</td>\n",
       "      <td>vegetable product</td>\n",
       "      <td>vegetable mixed frozen unprepared</td>\n",
       "      <td>&lt;NA&gt;</td>\n",
       "      <td>&lt;NA&gt;</td>\n",
       "      <td>&lt;NA&gt;</td>\n",
       "    </tr>\n",
       "    <tr>\n",
       "      <th>1307725</th>\n",
       "      <th>4</th>\n",
       "      <td>young leaf spinach</td>\n",
       "      <td>spinach</td>\n",
       "      <td>spinach frozen chopped leaf unprepared</td>\n",
       "      <td>spinach</td>\n",
       "      <td>spinach raw</td>\n",
       "      <td>spinach raw</td>\n",
       "    </tr>\n",
       "    <tr>\n",
       "      <th>1460637</th>\n",
       "      <th>1</th>\n",
       "      <td>all-purpose flour</td>\n",
       "      <td>flour</td>\n",
       "      <td>usda commodity bakery flour mix</td>\n",
       "      <td>&lt;NA&gt;</td>\n",
       "      <td>&lt;NA&gt;</td>\n",
       "      <td>&lt;NA&gt;</td>\n",
       "    </tr>\n",
       "    <tr>\n",
       "      <th>1936429</th>\n",
       "      <th>8</th>\n",
       "      <td>kosher salt</td>\n",
       "      <td>salt</td>\n",
       "      <td>salt table</td>\n",
       "      <td>&lt;NA&gt;</td>\n",
       "      <td>&lt;NA&gt;</td>\n",
       "      <td>salt table</td>\n",
       "    </tr>\n",
       "    <tr>\n",
       "      <th>2005640</th>\n",
       "      <th>5</th>\n",
       "      <td>powdered cocoa</td>\n",
       "      <td>cocoa powder</td>\n",
       "      <td>cocoa dry powder hi-fat breakfast plain</td>\n",
       "      <td>&lt;NA&gt;</td>\n",
       "      <td>cocoa powder</td>\n",
       "      <td>cocoa powder</td>\n",
       "    </tr>\n",
       "    <tr>\n",
       "      <th>1505154</th>\n",
       "      <th>12</th>\n",
       "      <td>lemon zest</td>\n",
       "      <td>lemon</td>\n",
       "      <td>lemon juice raw</td>\n",
       "      <td>lemon</td>\n",
       "      <td>lemon</td>\n",
       "      <td>lemon raw</td>\n",
       "    </tr>\n",
       "    <tr>\n",
       "      <th>1034270</th>\n",
       "      <th>0</th>\n",
       "      <td>lime juice</td>\n",
       "      <td>lime</td>\n",
       "      <td>lime juice raw</td>\n",
       "      <td>lime</td>\n",
       "      <td>lime pure juice</td>\n",
       "      <td>lime raw</td>\n",
       "    </tr>\n",
       "    <tr>\n",
       "      <th>1948006</th>\n",
       "      <th>3</th>\n",
       "      <td>skim milk</td>\n",
       "      <td>milk cow</td>\n",
       "      <td>milk fluid nonfat calcium fortified fat free skim</td>\n",
       "      <td>&lt;NA&gt;</td>\n",
       "      <td>&lt;NA&gt;</td>\n",
       "      <td>milk whole cultured</td>\n",
       "    </tr>\n",
       "    <tr>\n",
       "      <th>1546037</th>\n",
       "      <th>10</th>\n",
       "      <td>sugar</td>\n",
       "      <td>sugar</td>\n",
       "      <td>sugar brown</td>\n",
       "      <td>&lt;NA&gt;</td>\n",
       "      <td>&lt;NA&gt;</td>\n",
       "      <td>sugar brown</td>\n",
       "    </tr>\n",
       "    <tr>\n",
       "      <th>686704</th>\n",
       "      <th>2</th>\n",
       "      <td>sour cream</td>\n",
       "      <td>cream</td>\n",
       "      <td>sour cream imitation cultured</td>\n",
       "      <td>&lt;NA&gt;</td>\n",
       "      <td>&lt;NA&gt;</td>\n",
       "      <td>cream 13% fat</td>\n",
       "    </tr>\n",
       "    <tr>\n",
       "      <th>982726</th>\n",
       "      <th>5</th>\n",
       "      <td>vanilla</td>\n",
       "      <td>vanilla</td>\n",
       "      <td>vanilla extract</td>\n",
       "      <td>&lt;NA&gt;</td>\n",
       "      <td>&lt;NA&gt;</td>\n",
       "      <td>&lt;NA&gt;</td>\n",
       "    </tr>\n",
       "    <tr>\n",
       "      <th>1930042</th>\n",
       "      <th>8</th>\n",
       "      <td>butter</td>\n",
       "      <td>butter</td>\n",
       "      <td>butter salted</td>\n",
       "      <td>&lt;NA&gt;</td>\n",
       "      <td>&lt;NA&gt;</td>\n",
       "      <td>butter salt added</td>\n",
       "    </tr>\n",
       "    <tr>\n",
       "      <th>506659</th>\n",
       "      <th>4</th>\n",
       "      <td>semi-sweet chocolate chip</td>\n",
       "      <td>potato chip</td>\n",
       "      <td>potato chip without salt reduced fat</td>\n",
       "      <td>&lt;NA&gt;</td>\n",
       "      <td>&lt;NA&gt;</td>\n",
       "      <td>&lt;NA&gt;</td>\n",
       "    </tr>\n",
       "    <tr>\n",
       "      <th>367462</th>\n",
       "      <th>7</th>\n",
       "      <td>milk</td>\n",
       "      <td>milk cow</td>\n",
       "      <td>milk whole 325% milkfat added vitamin</td>\n",
       "      <td>&lt;NA&gt;</td>\n",
       "      <td>&lt;NA&gt;</td>\n",
       "      <td>milk whole cultured</td>\n",
       "    </tr>\n",
       "    <tr>\n",
       "      <th>1378004</th>\n",
       "      <th>1</th>\n",
       "      <td>bone</td>\n",
       "      <td>animal fat</td>\n",
       "      <td>fat chicken</td>\n",
       "      <td>&lt;NA&gt;</td>\n",
       "      <td>&lt;NA&gt;</td>\n",
       "      <td>goose fat</td>\n",
       "    </tr>\n",
       "    <tr>\n",
       "      <th>1342486</th>\n",
       "      <th>0</th>\n",
       "      <td>pasilla chile</td>\n",
       "      <td>chili</td>\n",
       "      <td>chili bean canned</td>\n",
       "      <td>&lt;NA&gt;</td>\n",
       "      <td>&lt;NA&gt;</td>\n",
       "      <td>&lt;NA&gt;</td>\n",
       "    </tr>\n",
       "    <tr>\n",
       "      <th>1570340</th>\n",
       "      <th>8</th>\n",
       "      <td>unsalted butter</td>\n",
       "      <td>butter</td>\n",
       "      <td>butter salted</td>\n",
       "      <td>&lt;NA&gt;</td>\n",
       "      <td>&lt;NA&gt;</td>\n",
       "      <td>butter salt added</td>\n",
       "    </tr>\n",
       "    <tr>\n",
       "      <th>832215</th>\n",
       "      <th>0</th>\n",
       "      <td>cream cheese</td>\n",
       "      <td>cheese</td>\n",
       "      <td>cheese cream</td>\n",
       "      <td>&lt;NA&gt;</td>\n",
       "      <td>&lt;NA&gt;</td>\n",
       "      <td>cheese cream 60% fidm</td>\n",
       "    </tr>\n",
       "    <tr>\n",
       "      <th>178826</th>\n",
       "      <th>2</th>\n",
       "      <td>mozzarella cheese</td>\n",
       "      <td>cheese</td>\n",
       "      <td>cheese mozzarella whole milk</td>\n",
       "      <td>&lt;NA&gt;</td>\n",
       "      <td>&lt;NA&gt;</td>\n",
       "      <td>cheese semihard mozzarella 30% fidm</td>\n",
       "    </tr>\n",
       "    <tr>\n",
       "      <th>1396644</th>\n",
       "      <th>19</th>\n",
       "      <td>sea salt</td>\n",
       "      <td>salt</td>\n",
       "      <td>salt table</td>\n",
       "      <td>&lt;NA&gt;</td>\n",
       "      <td>&lt;NA&gt;</td>\n",
       "      <td>salt sea salt iodine fortification</td>\n",
       "    </tr>\n",
       "    <tr>\n",
       "      <th>2136402</th>\n",
       "      <th>4</th>\n",
       "      <td>red bell pepper</td>\n",
       "      <td>pepper</td>\n",
       "      <td>pepper sweet red raw</td>\n",
       "      <td>bell pepper</td>\n",
       "      <td>sweet pepper [red] raw</td>\n",
       "      <td>pepper sweet canned</td>\n",
       "    </tr>\n",
       "    <tr>\n",
       "      <th>1570340</th>\n",
       "      <th>5</th>\n",
       "      <td>old fashioned oat</td>\n",
       "      <td>oat</td>\n",
       "      <td>oat bran raw</td>\n",
       "      <td>oat</td>\n",
       "      <td>oat whole grain flour</td>\n",
       "      <td>oat rolled average value</td>\n",
       "    </tr>\n",
       "    <tr>\n",
       "      <th>253438</th>\n",
       "      <th>6</th>\n",
       "      <td>butter</td>\n",
       "      <td>butter</td>\n",
       "      <td>butter salted</td>\n",
       "      <td>&lt;NA&gt;</td>\n",
       "      <td>&lt;NA&gt;</td>\n",
       "      <td>butter salt added</td>\n",
       "    </tr>\n",
       "    <tr>\n",
       "      <th>1805929</th>\n",
       "      <th>0</th>\n",
       "      <td>unsalted butter</td>\n",
       "      <td>butter</td>\n",
       "      <td>butter salted</td>\n",
       "      <td>&lt;NA&gt;</td>\n",
       "      <td>&lt;NA&gt;</td>\n",
       "      <td>butter salt added</td>\n",
       "    </tr>\n",
       "    <tr>\n",
       "      <th>738063</th>\n",
       "      <th>3</th>\n",
       "      <td>lemon flavoring</td>\n",
       "      <td>lemon</td>\n",
       "      <td>lemon juice raw</td>\n",
       "      <td>lemon</td>\n",
       "      <td>lemon</td>\n",
       "      <td>lemon raw</td>\n",
       "    </tr>\n",
       "    <tr>\n",
       "      <th>1410344</th>\n",
       "      <th>0</th>\n",
       "      <td>oatmeal</td>\n",
       "      <td>dish</td>\n",
       "      <td>cheese fondue</td>\n",
       "      <td>&lt;NA&gt;</td>\n",
       "      <td>&lt;NA&gt;</td>\n",
       "      <td>fish pudding raw</td>\n",
       "    </tr>\n",
       "    <tr>\n",
       "      <th>1428429</th>\n",
       "      <th>2</th>\n",
       "      <td>powdered sugar</td>\n",
       "      <td>sugar</td>\n",
       "      <td>sugar powdered</td>\n",
       "      <td>&lt;NA&gt;</td>\n",
       "      <td>&lt;NA&gt;</td>\n",
       "      <td>sugar brown</td>\n",
       "    </tr>\n",
       "    <tr>\n",
       "      <th>1271452</th>\n",
       "      <th>1</th>\n",
       "      <td>carrot</td>\n",
       "      <td>carrot</td>\n",
       "      <td>carrot raw</td>\n",
       "      <td>carrot</td>\n",
       "      <td>carrot raw</td>\n",
       "      <td>carrot raw</td>\n",
       "    </tr>\n",
       "    <tr>\n",
       "      <th>103091</th>\n",
       "      <th>3</th>\n",
       "      <td>green onion</td>\n",
       "      <td>green onion</td>\n",
       "      <td>&lt;NA&gt;</td>\n",
       "      <td>&lt;NA&gt;</td>\n",
       "      <td>&lt;NA&gt;</td>\n",
       "      <td>&lt;NA&gt;</td>\n",
       "    </tr>\n",
       "    <tr>\n",
       "      <th>506659</th>\n",
       "      <th>2</th>\n",
       "      <td>pet milk</td>\n",
       "      <td>milk cow</td>\n",
       "      <td>milk whole 325% milkfat added vitamin</td>\n",
       "      <td>&lt;NA&gt;</td>\n",
       "      <td>&lt;NA&gt;</td>\n",
       "      <td>milk whole cultured</td>\n",
       "    </tr>\n",
       "    <tr>\n",
       "      <th>325901</th>\n",
       "      <th>1</th>\n",
       "      <td>all-purpose flour</td>\n",
       "      <td>flour</td>\n",
       "      <td>usda commodity bakery flour mix</td>\n",
       "      <td>&lt;NA&gt;</td>\n",
       "      <td>&lt;NA&gt;</td>\n",
       "      <td>&lt;NA&gt;</td>\n",
       "    </tr>\n",
       "    <tr>\n",
       "      <th>2180004</th>\n",
       "      <th>1</th>\n",
       "      <td>extra virgin olive oil</td>\n",
       "      <td>olive oil</td>\n",
       "      <td>&lt;NA&gt;</td>\n",
       "      <td>&lt;NA&gt;</td>\n",
       "      <td>&lt;NA&gt;</td>\n",
       "      <td>&lt;NA&gt;</td>\n",
       "    </tr>\n",
       "    <tr>\n",
       "      <th>1241078</th>\n",
       "      <th>2</th>\n",
       "      <td>lemon juice</td>\n",
       "      <td>lemon</td>\n",
       "      <td>lemon juice raw</td>\n",
       "      <td>lemon</td>\n",
       "      <td>lemon pure juice</td>\n",
       "      <td>lemon juice fresh</td>\n",
       "    </tr>\n",
       "    <tr>\n",
       "      <th>101786</th>\n",
       "      <th>4</th>\n",
       "      <td>cocoa</td>\n",
       "      <td>cocoa bean</td>\n",
       "      <td>cacao bean</td>\n",
       "      <td>cacao</td>\n",
       "      <td>&lt;NA&gt;</td>\n",
       "      <td>&lt;NA&gt;</td>\n",
       "    </tr>\n",
       "    <tr>\n",
       "      <th>537007</th>\n",
       "      <th>3</th>\n",
       "      <td>onion</td>\n",
       "      <td>onion-family vegetable</td>\n",
       "      <td>&lt;NA&gt;</td>\n",
       "      <td>&lt;NA&gt;</td>\n",
       "      <td>&lt;NA&gt;</td>\n",
       "      <td>&lt;NA&gt;</td>\n",
       "    </tr>\n",
       "    <tr>\n",
       "      <th>1600752</th>\n",
       "      <th>11</th>\n",
       "      <td>cilantro</td>\n",
       "      <td>coriander</td>\n",
       "      <td>coriander cilantro leaf raw</td>\n",
       "      <td>chinese parsley</td>\n",
       "      <td>coriander fresh</td>\n",
       "      <td>coriander leaf raw</td>\n",
       "    </tr>\n",
       "    <tr>\n",
       "      <th>1729364</th>\n",
       "      <th>1</th>\n",
       "      <td>orange juice</td>\n",
       "      <td>sweet orange</td>\n",
       "      <td>orange juice raw</td>\n",
       "      <td>orange</td>\n",
       "      <td>orange [blond]</td>\n",
       "      <td>orange juice canned</td>\n",
       "    </tr>\n",
       "    <tr>\n",
       "      <th>1251957</th>\n",
       "      <th>1</th>\n",
       "      <td>all-purpose flour</td>\n",
       "      <td>flour</td>\n",
       "      <td>usda commodity bakery flour mix</td>\n",
       "      <td>&lt;NA&gt;</td>\n",
       "      <td>&lt;NA&gt;</td>\n",
       "      <td>&lt;NA&gt;</td>\n",
       "    </tr>\n",
       "    <tr>\n",
       "      <th>1320064</th>\n",
       "      <th>0</th>\n",
       "      <td>vegetable oil</td>\n",
       "      <td>oil palm</td>\n",
       "      <td>vegetable oil palm kernel</td>\n",
       "      <td>&lt;NA&gt;</td>\n",
       "      <td>&lt;NA&gt;</td>\n",
       "      <td>oil palm</td>\n",
       "    </tr>\n",
       "    <tr>\n",
       "      <th>767592</th>\n",
       "      <th>2</th>\n",
       "      <td>mayo</td>\n",
       "      <td>salad dressing</td>\n",
       "      <td>salad dressing honey mustard regular</td>\n",
       "      <td>&lt;NA&gt;</td>\n",
       "      <td>&lt;NA&gt;</td>\n",
       "      <td>salad dressing soured fresh cream</td>\n",
       "    </tr>\n",
       "    <tr>\n",
       "      <th>557617</th>\n",
       "      <th>0</th>\n",
       "      <td>pkg chocolate cake mix</td>\n",
       "      <td>trail mix</td>\n",
       "      <td>snack trail mix regular chocolate chip salted ...</td>\n",
       "      <td>&lt;NA&gt;</td>\n",
       "      <td>&lt;NA&gt;</td>\n",
       "      <td>&lt;NA&gt;</td>\n",
       "    </tr>\n",
       "    <tr>\n",
       "      <th>2094862</th>\n",
       "      <th>9</th>\n",
       "      <td>balsamic vinegar</td>\n",
       "      <td>vinegar</td>\n",
       "      <td>vinegar cider</td>\n",
       "      <td>&lt;NA&gt;</td>\n",
       "      <td>vinegar</td>\n",
       "      <td>vinegar</td>\n",
       "    </tr>\n",
       "    <tr>\n",
       "      <th>1828339</th>\n",
       "      <th>12</th>\n",
       "      <td>unsweetened orange juice</td>\n",
       "      <td>sweet orange</td>\n",
       "      <td>orange juice canned unsweetened</td>\n",
       "      <td>orange</td>\n",
       "      <td>orange [blond]</td>\n",
       "      <td>orange juice canned</td>\n",
       "    </tr>\n",
       "    <tr>\n",
       "      <th>2201833</th>\n",
       "      <th>1</th>\n",
       "      <td>yellow onion</td>\n",
       "      <td>onion-family vegetable</td>\n",
       "      <td>&lt;NA&gt;</td>\n",
       "      <td>&lt;NA&gt;</td>\n",
       "      <td>&lt;NA&gt;</td>\n",
       "      <td>&lt;NA&gt;</td>\n",
       "    </tr>\n",
       "    <tr>\n",
       "      <th>749006</th>\n",
       "      <th>1</th>\n",
       "      <td>margarine</td>\n",
       "      <td>margarine</td>\n",
       "      <td>margarine regular hard soybean hydrogenated</td>\n",
       "      <td>&lt;NA&gt;</td>\n",
       "      <td>&lt;NA&gt;</td>\n",
       "      <td>margarine 80% fat table use vegetable fat</td>\n",
       "    </tr>\n",
       "    <tr>\n",
       "      <th>606258</th>\n",
       "      <th>4</th>\n",
       "      <td>beef consomme</td>\n",
       "      <td>cattle beef veal</td>\n",
       "      <td>beef brisket whole separable lean grade raw</td>\n",
       "      <td>&lt;NA&gt;</td>\n",
       "      <td>&lt;NA&gt;</td>\n",
       "      <td>beef chuck raw</td>\n",
       "    </tr>\n",
       "    <tr>\n",
       "      <th>324733</th>\n",
       "      <th>3</th>\n",
       "      <td>sugar</td>\n",
       "      <td>sugar</td>\n",
       "      <td>sugar brown</td>\n",
       "      <td>&lt;NA&gt;</td>\n",
       "      <td>&lt;NA&gt;</td>\n",
       "      <td>sugar brown</td>\n",
       "    </tr>\n",
       "    <tr>\n",
       "      <th>1419202</th>\n",
       "      <th>5</th>\n",
       "      <td>salt</td>\n",
       "      <td>salt</td>\n",
       "      <td>salt table</td>\n",
       "      <td>&lt;NA&gt;</td>\n",
       "      <td>&lt;NA&gt;</td>\n",
       "      <td>salt table</td>\n",
       "    </tr>\n",
       "    <tr>\n",
       "      <th>1546037</th>\n",
       "      <th>3</th>\n",
       "      <td>flour</td>\n",
       "      <td>flour</td>\n",
       "      <td>usda commodity bakery flour mix</td>\n",
       "      <td>&lt;NA&gt;</td>\n",
       "      <td>&lt;NA&gt;</td>\n",
       "      <td>&lt;NA&gt;</td>\n",
       "    </tr>\n",
       "    <tr>\n",
       "      <th>895702</th>\n",
       "      <th>7</th>\n",
       "      <td>milk</td>\n",
       "      <td>milk cow</td>\n",
       "      <td>milk whole 325% milkfat added vitamin</td>\n",
       "      <td>&lt;NA&gt;</td>\n",
       "      <td>&lt;NA&gt;</td>\n",
       "      <td>milk whole cultured</td>\n",
       "    </tr>\n",
       "    <tr>\n",
       "      <th>1723278</th>\n",
       "      <th>6</th>\n",
       "      <td>fresh oregano</td>\n",
       "      <td>common oregano</td>\n",
       "      <td>spice oregano dried</td>\n",
       "      <td>&lt;NA&gt;</td>\n",
       "      <td>oregano fresh wild marjoram</td>\n",
       "      <td>&lt;NA&gt;</td>\n",
       "    </tr>\n",
       "    <tr>\n",
       "      <th>1805929</th>\n",
       "      <th>2</th>\n",
       "      <td>garlic</td>\n",
       "      <td>garlic</td>\n",
       "      <td>garlic raw</td>\n",
       "      <td>garlic</td>\n",
       "      <td>&lt;NA&gt;</td>\n",
       "      <td>garlic raw</td>\n",
       "    </tr>\n",
       "    <tr>\n",
       "      <th>1396644</th>\n",
       "      <th>16</th>\n",
       "      <td>onion</td>\n",
       "      <td>onion-family vegetable</td>\n",
       "      <td>&lt;NA&gt;</td>\n",
       "      <td>&lt;NA&gt;</td>\n",
       "      <td>&lt;NA&gt;</td>\n",
       "      <td>&lt;NA&gt;</td>\n",
       "    </tr>\n",
       "    <tr>\n",
       "      <th>1533767</th>\n",
       "      <th>3</th>\n",
       "      <td>baking powder</td>\n",
       "      <td>baking powder</td>\n",
       "      <td>&lt;NA&gt;</td>\n",
       "      <td>&lt;NA&gt;</td>\n",
       "      <td>&lt;NA&gt;</td>\n",
       "      <td>&lt;NA&gt;</td>\n",
       "    </tr>\n",
       "    <tr>\n",
       "      <th>1719483</th>\n",
       "      <th>1</th>\n",
       "      <td>active dry yeast</td>\n",
       "      <td>snack bar</td>\n",
       "      <td>snack granola bar hard plain</td>\n",
       "      <td>&lt;NA&gt;</td>\n",
       "      <td>&lt;NA&gt;</td>\n",
       "      <td>&lt;NA&gt;</td>\n",
       "    </tr>\n",
       "    <tr>\n",
       "      <th>1267559</th>\n",
       "      <th>9</th>\n",
       "      <td>pork fillet</td>\n",
       "      <td>domestic pig</td>\n",
       "      <td>pork fresh loin whole separable lean raw</td>\n",
       "      <td>&lt;NA&gt;</td>\n",
       "      <td>&lt;NA&gt;</td>\n",
       "      <td>pork loin fillet smoked</td>\n",
       "    </tr>\n",
       "    <tr>\n",
       "      <th>1723278</th>\n",
       "      <th>2</th>\n",
       "      <td>black pepper</td>\n",
       "      <td>pepper</td>\n",
       "      <td>pepper sweet red raw</td>\n",
       "      <td>bell pepper</td>\n",
       "      <td>sweet pepper [green] raw</td>\n",
       "      <td>pepper sweet canned</td>\n",
       "    </tr>\n",
       "    <tr>\n",
       "      <th>2201833</th>\n",
       "      <th>0</th>\n",
       "      <td>zucchini</td>\n",
       "      <td>green zucchini</td>\n",
       "      <td>squash zucchini baby raw</td>\n",
       "      <td>summer squash</td>\n",
       "      <td>zucchini raw</td>\n",
       "      <td>squash zucchini raw</td>\n",
       "    </tr>\n",
       "    <tr>\n",
       "      <th>1342486</th>\n",
       "      <th>27</th>\n",
       "      <td>fresh mint</td>\n",
       "      <td>orange mint</td>\n",
       "      <td>&lt;NA&gt;</td>\n",
       "      <td>water mint</td>\n",
       "      <td>&lt;NA&gt;</td>\n",
       "      <td>&lt;NA&gt;</td>\n",
       "    </tr>\n",
       "    <tr>\n",
       "      <th>607828</th>\n",
       "      <th>4</th>\n",
       "      <td>chili powder</td>\n",
       "      <td>curry powder</td>\n",
       "      <td>spice curry powder</td>\n",
       "      <td>&lt;NA&gt;</td>\n",
       "      <td>curry powder</td>\n",
       "      <td>curry powder</td>\n",
       "    </tr>\n",
       "    <tr>\n",
       "      <th>1059534</th>\n",
       "      <th>10</th>\n",
       "      <td>green pepper</td>\n",
       "      <td>pepper</td>\n",
       "      <td>pepper sweet red raw</td>\n",
       "      <td>bell pepper</td>\n",
       "      <td>sweet pepper [green] raw</td>\n",
       "      <td>pepper sweet canned</td>\n",
       "    </tr>\n",
       "    <tr>\n",
       "      <th>982726</th>\n",
       "      <th>8</th>\n",
       "      <td>ground cinnamon</td>\n",
       "      <td>cinnamon</td>\n",
       "      <td>spice cinnamon ground</td>\n",
       "      <td>ceylon cinnamon</td>\n",
       "      <td>ceylan cinnamon</td>\n",
       "      <td>cinnamon stick</td>\n",
       "    </tr>\n",
       "    <tr>\n",
       "      <th>147316</th>\n",
       "      <th>3</th>\n",
       "      <td>margarine</td>\n",
       "      <td>margarine</td>\n",
       "      <td>margarine regular hard soybean hydrogenated</td>\n",
       "      <td>&lt;NA&gt;</td>\n",
       "      <td>&lt;NA&gt;</td>\n",
       "      <td>margarine 80% fat table use vegetable fat</td>\n",
       "    </tr>\n",
       "    <tr>\n",
       "      <th>953258</th>\n",
       "      <th>3</th>\n",
       "      <td>ground nutmeg</td>\n",
       "      <td>nutmeg</td>\n",
       "      <td>spice nutmeg ground</td>\n",
       "      <td>&lt;NA&gt;</td>\n",
       "      <td>nutmeg</td>\n",
       "      <td>nutmeg whole</td>\n",
       "    </tr>\n",
       "    <tr>\n",
       "      <th>1533767</th>\n",
       "      <th>9</th>\n",
       "      <td>egg</td>\n",
       "      <td>egg</td>\n",
       "      <td>egg whole raw fresh</td>\n",
       "      <td>&lt;NA&gt;</td>\n",
       "      <td>&lt;NA&gt;</td>\n",
       "      <td>egg chicken whole raw</td>\n",
       "    </tr>\n",
       "    <tr>\n",
       "      <th>2158575</th>\n",
       "      <th>4</th>\n",
       "      <td>oregano</td>\n",
       "      <td>common oregano</td>\n",
       "      <td>spice oregano dried</td>\n",
       "      <td>&lt;NA&gt;</td>\n",
       "      <td>oregano fresh wild marjoram</td>\n",
       "      <td>&lt;NA&gt;</td>\n",
       "    </tr>\n",
       "    <tr>\n",
       "      <th>1199867</th>\n",
       "      <th>3</th>\n",
       "      <td>garlic</td>\n",
       "      <td>garlic</td>\n",
       "      <td>garlic raw</td>\n",
       "      <td>garlic</td>\n",
       "      <td>&lt;NA&gt;</td>\n",
       "      <td>garlic raw</td>\n",
       "    </tr>\n",
       "    <tr>\n",
       "      <th>504256</th>\n",
       "      <th>6</th>\n",
       "      <td>baking soda</td>\n",
       "      <td>baking soda</td>\n",
       "      <td>&lt;NA&gt;</td>\n",
       "      <td>&lt;NA&gt;</td>\n",
       "      <td>&lt;NA&gt;</td>\n",
       "      <td>&lt;NA&gt;</td>\n",
       "    </tr>\n",
       "    <tr>\n",
       "      <th>1342486</th>\n",
       "      <th>16</th>\n",
       "      <td>kosher salt</td>\n",
       "      <td>salt</td>\n",
       "      <td>salt table</td>\n",
       "      <td>&lt;NA&gt;</td>\n",
       "      <td>&lt;NA&gt;</td>\n",
       "      <td>salt table</td>\n",
       "    </tr>\n",
       "    <tr>\n",
       "      <th>277806</th>\n",
       "      <th>6</th>\n",
       "      <td>bottled italian dressing</td>\n",
       "      <td>salad dressing</td>\n",
       "      <td>salad dressing italian dressing commercial reg...</td>\n",
       "      <td>&lt;NA&gt;</td>\n",
       "      <td>&lt;NA&gt;</td>\n",
       "      <td>salad dressing italian</td>\n",
       "    </tr>\n",
       "    <tr>\n",
       "      <th>939793</th>\n",
       "      <th>4</th>\n",
       "      <td>plain yogurt</td>\n",
       "      <td>yogurt</td>\n",
       "      <td>yogurt plain whole milk 8 gram protein per 8 o...</td>\n",
       "      <td>&lt;NA&gt;</td>\n",
       "      <td>soy yogurt</td>\n",
       "      <td>yoghurt</td>\n",
       "    </tr>\n",
       "    <tr>\n",
       "      <th>1586745</th>\n",
       "      <th>7</th>\n",
       "      <td>olive oil</td>\n",
       "      <td>olive oil</td>\n",
       "      <td>&lt;NA&gt;</td>\n",
       "      <td>&lt;NA&gt;</td>\n",
       "      <td>&lt;NA&gt;</td>\n",
       "      <td>&lt;NA&gt;</td>\n",
       "    </tr>\n",
       "    <tr>\n",
       "      <th>537164</th>\n",
       "      <th>7</th>\n",
       "      <td>salt</td>\n",
       "      <td>salt</td>\n",
       "      <td>salt table</td>\n",
       "      <td>&lt;NA&gt;</td>\n",
       "      <td>&lt;NA&gt;</td>\n",
       "      <td>salt table</td>\n",
       "    </tr>\n",
       "    <tr>\n",
       "      <th>1956528</th>\n",
       "      <th>1</th>\n",
       "      <td>salt</td>\n",
       "      <td>salt</td>\n",
       "      <td>salt table</td>\n",
       "      <td>&lt;NA&gt;</td>\n",
       "      <td>&lt;NA&gt;</td>\n",
       "      <td>salt table</td>\n",
       "    </tr>\n",
       "    <tr>\n",
       "      <th>1124672</th>\n",
       "      <th>3</th>\n",
       "      <td>egg</td>\n",
       "      <td>egg</td>\n",
       "      <td>egg whole raw fresh</td>\n",
       "      <td>&lt;NA&gt;</td>\n",
       "      <td>&lt;NA&gt;</td>\n",
       "      <td>egg chicken whole raw</td>\n",
       "    </tr>\n",
       "    <tr>\n",
       "      <th>580034</th>\n",
       "      <th>4</th>\n",
       "      <td>milk</td>\n",
       "      <td>milk cow</td>\n",
       "      <td>milk whole 325% milkfat added vitamin</td>\n",
       "      <td>&lt;NA&gt;</td>\n",
       "      <td>&lt;NA&gt;</td>\n",
       "      <td>milk whole cultured</td>\n",
       "    </tr>\n",
       "    <tr>\n",
       "      <th>1396331</th>\n",
       "      <th>4</th>\n",
       "      <td>olive oil</td>\n",
       "      <td>olive oil</td>\n",
       "      <td>&lt;NA&gt;</td>\n",
       "      <td>&lt;NA&gt;</td>\n",
       "      <td>&lt;NA&gt;</td>\n",
       "      <td>&lt;NA&gt;</td>\n",
       "    </tr>\n",
       "    <tr>\n",
       "      <th>1218377</th>\n",
       "      <th>1</th>\n",
       "      <td>day-old white bread</td>\n",
       "      <td>white bread</td>\n",
       "      <td>bread stick plain</td>\n",
       "      <td>&lt;NA&gt;</td>\n",
       "      <td>&lt;NA&gt;</td>\n",
       "      <td>bread wheat high fat seed</td>\n",
       "    </tr>\n",
       "    <tr>\n",
       "      <th>1609337</th>\n",
       "      <th>10</th>\n",
       "      <td>italian seasoning herb blend</td>\n",
       "      <td>herb spice</td>\n",
       "      <td>&lt;NA&gt;</td>\n",
       "      <td>&lt;NA&gt;</td>\n",
       "      <td>&lt;NA&gt;</td>\n",
       "      <td>&lt;NA&gt;</td>\n",
       "    </tr>\n",
       "    <tr>\n",
       "      <th>837493</th>\n",
       "      <th>0</th>\n",
       "      <td>coconut</td>\n",
       "      <td>coconut</td>\n",
       "      <td>nut coconut meat raw</td>\n",
       "      <td>coconut</td>\n",
       "      <td>&lt;NA&gt;</td>\n",
       "      <td>coconut meat desiccated</td>\n",
       "    </tr>\n",
       "    <tr>\n",
       "      <th>1703</th>\n",
       "      <th>4</th>\n",
       "      <td>nut</td>\n",
       "      <td>nut</td>\n",
       "      <td>&lt;NA&gt;</td>\n",
       "      <td>&lt;NA&gt;</td>\n",
       "      <td>&lt;NA&gt;</td>\n",
       "      <td>&lt;NA&gt;</td>\n",
       "    </tr>\n",
       "    <tr>\n",
       "      <th>2094862</th>\n",
       "      <th>7</th>\n",
       "      <td>fresh young green pea</td>\n",
       "      <td>pea shoot</td>\n",
       "      <td>&lt;NA&gt;</td>\n",
       "      <td>&lt;NA&gt;</td>\n",
       "      <td>&lt;NA&gt;</td>\n",
       "      <td>&lt;NA&gt;</td>\n",
       "    </tr>\n",
       "  </tbody>\n",
       "</table>\n",
       "</div>"
      ],
      "text/plain": [
       "                                          ingredient_name  \\\n",
       "recipe  ingredient                                          \n",
       "2108309 2                              plain greek yogurt   \n",
       "2189489 0                                       margarine   \n",
       "1378004 2           sweet italian sausage chicken sausage   \n",
       "525644  2                                           onion   \n",
       "982726  10                                        coconut   \n",
       "2049700 4                                        mushroom   \n",
       "1613023 9                                            salt   \n",
       "1020744 7                                            salt   \n",
       "782330  7                                             nut   \n",
       "879616  6                                           yeast   \n",
       "1653851 4                                      buttermilk   \n",
       "808085  2                                            milk   \n",
       "1345852 7                               old bay seasoning   \n",
       "931097  9                                       red onion   \n",
       "1956519 3                               mozzarella cheese   \n",
       "894410  2                                      black bean   \n",
       "2164944 0                                         tea bag   \n",
       "1857910 8                                           water   \n",
       "928740  2                                             egg   \n",
       "968825  2                                     orange rind   \n",
       "1609337 13                            mozzarella full fat   \n",
       "1396644 8                                            salt   \n",
       "1132705 2                                     baking soda   \n",
       "402239  9                                            milk   \n",
       "351441  4                                         pumpkin   \n",
       "1345852 1                                       red onion   \n",
       "1948006 5                                      lemon zest   \n",
       "989386  8                                          garlic   \n",
       "222     4                                           sugar   \n",
       "92858   0                                    sweet potato   \n",
       "983934  5                                   fresh parsley   \n",
       "646791  3                                     brown sugar   \n",
       "519070  1                                            soda   \n",
       "866380  7                              black pitted olive   \n",
       "1505154 13                                         butter   \n",
       "1136022 0                                       olive oil   \n",
       "2052696 1                                           sugar   \n",
       "1857910 6                           instant chopped onion   \n",
       "        0                           pineapple chunk syrup   \n",
       "726722  4                                          garlic   \n",
       "1653851 7                                     green onion   \n",
       "402239  10                                      pie shell   \n",
       "574304  7                                            oleo   \n",
       "983805  6                                   garlic powder   \n",
       "1522278 0                                ground coriander   \n",
       "820354  0                                            oleo   \n",
       "1314074 6                                           onion   \n",
       "452418  1                                           onion   \n",
       "1600752 10                                   queso fresco   \n",
       "2058996 5                kraft shredded mozzarella cheese   \n",
       "1808760 3                                       red onion   \n",
       "1032907 3                                          garlic   \n",
       "2101433 6                                  cheddar cheese   \n",
       "2164944 8                                       pineapple   \n",
       "280477  0                                    orange juice   \n",
       "480244  2                              green chili pepper   \n",
       "1806301 2                               lowfat sour cream   \n",
       "1606545 0                             sweet potato medium   \n",
       "1777734 3                   tub cool whip whipped topping   \n",
       "373388  2                                             egg   \n",
       "394397  4                                  cheddar cheese   \n",
       "1396644 5                                      white wine   \n",
       "1378004 7                                            sage   \n",
       "1018637 3                                      prosciutto   \n",
       "989386  1                                       olive oil   \n",
       "855127  2                                 parmesan cheese   \n",
       "1703    1                                             egg   \n",
       "1533767 7                                  canned pumpkin   \n",
       "43845   2                                           onion   \n",
       "147316  0                                   box rice chex   \n",
       "1196992 8                                    ground cumin   \n",
       "1154862 7                                            salt   \n",
       "1864686 1                             apple cider vinegar   \n",
       "1378004 11                                  chicken stock   \n",
       "529533  4                                fresh blackberry   \n",
       "206996  4                                   baking powder   \n",
       "519070  0                                           flour   \n",
       "2108309 3                                       egg white   \n",
       "1226899 2                                           sugar   \n",
       "1901090 3                                          garlic   \n",
       "1930042 5                                   baking powder   \n",
       "767911  6                                      corn flake   \n",
       "2196831 0                          extra-virgin olive oil   \n",
       "1997052 6                          dried chicken bouillon   \n",
       "1546037 11                                       cinnamon   \n",
       "2005640 11                                 powdered sugar   \n",
       "1746116 6                  land lake heavy whipping cream   \n",
       "1267559 6                                  sherry vinegar   \n",
       "928740  6                                     heavy cream   \n",
       "1609337 16                      oven-ready lasagna noodle   \n",
       "1984239 2                                    nori seaweed   \n",
       "865758  2                                    green pepper   \n",
       "23612   1                                          catsup   \n",
       "939793  5                                            milk   \n",
       "1828339 3                           long grain brown rice   \n",
       "508561  1                                         cabbage   \n",
       "1533767 11                                    brown sugar   \n",
       "972254  7                                     dried basil   \n",
       "1020744 0                                           sugar   \n",
       "2149994 2                      oscar mayer real bacon bit   \n",
       "1857320 4                                       dry onion   \n",
       "1032907 9                                    greek yogurt   \n",
       "676051  3                               crushed pineapple   \n",
       "767084  2                                             egg   \n",
       "1609337 12                                       bay leaf   \n",
       "2005640 1                                           sugar   \n",
       "1613023 8                                          golpar   \n",
       "1320064 5                          chinese 5 spice powder   \n",
       "879616  1                                     bread flour   \n",
       "1788185 7                          oscar mayer smoked ham   \n",
       "982726  3                                        egg yolk   \n",
       "2019868 6                                      corn flake   \n",
       "1020744 3                                     heavy cream   \n",
       "894410  7                                      lime juice   \n",
       "983934  1                                  fresh mushroom   \n",
       "738063  4                                             egg   \n",
       "1369744 5                                          garlic   \n",
       "1546037 17                                  half-and-half   \n",
       "1320064 9                                 vegetable broth   \n",
       "1307725 4                              young leaf spinach   \n",
       "1460637 1                               all-purpose flour   \n",
       "1936429 8                                     kosher salt   \n",
       "2005640 5                                  powdered cocoa   \n",
       "1505154 12                                     lemon zest   \n",
       "1034270 0                                      lime juice   \n",
       "1948006 3                                       skim milk   \n",
       "1546037 10                                          sugar   \n",
       "686704  2                                      sour cream   \n",
       "982726  5                                         vanilla   \n",
       "1930042 8                                          butter   \n",
       "506659  4                       semi-sweet chocolate chip   \n",
       "367462  7                                            milk   \n",
       "1378004 1                                            bone   \n",
       "1342486 0                                   pasilla chile   \n",
       "1570340 8                                 unsalted butter   \n",
       "832215  0                                    cream cheese   \n",
       "178826  2                               mozzarella cheese   \n",
       "1396644 19                                       sea salt   \n",
       "2136402 4                                 red bell pepper   \n",
       "1570340 5                               old fashioned oat   \n",
       "253438  6                                          butter   \n",
       "1805929 0                                 unsalted butter   \n",
       "738063  3                                 lemon flavoring   \n",
       "1410344 0                                         oatmeal   \n",
       "1428429 2                                  powdered sugar   \n",
       "1271452 1                                          carrot   \n",
       "103091  3                                     green onion   \n",
       "506659  2                                        pet milk   \n",
       "325901  1                               all-purpose flour   \n",
       "2180004 1                          extra virgin olive oil   \n",
       "1241078 2                                     lemon juice   \n",
       "101786  4                                           cocoa   \n",
       "537007  3                                           onion   \n",
       "1600752 11                                       cilantro   \n",
       "1729364 1                                    orange juice   \n",
       "1251957 1                               all-purpose flour   \n",
       "1320064 0                                   vegetable oil   \n",
       "767592  2                                            mayo   \n",
       "557617  0                          pkg chocolate cake mix   \n",
       "2094862 9                                balsamic vinegar   \n",
       "1828339 12                       unsweetened orange juice   \n",
       "2201833 1                                    yellow onion   \n",
       "749006  1                                       margarine   \n",
       "606258  4                                   beef consomme   \n",
       "324733  3                                           sugar   \n",
       "1419202 5                                            salt   \n",
       "1546037 3                                           flour   \n",
       "895702  7                                            milk   \n",
       "1723278 6                                   fresh oregano   \n",
       "1805929 2                                          garlic   \n",
       "1396644 16                                          onion   \n",
       "1533767 3                                   baking powder   \n",
       "1719483 1                                active dry yeast   \n",
       "1267559 9                                     pork fillet   \n",
       "1723278 2                                    black pepper   \n",
       "2201833 0                                        zucchini   \n",
       "1342486 27                                     fresh mint   \n",
       "607828  4                                    chili powder   \n",
       "1059534 10                                   green pepper   \n",
       "982726  8                                 ground cinnamon   \n",
       "147316  3                                       margarine   \n",
       "953258  3                                   ground nutmeg   \n",
       "1533767 9                                             egg   \n",
       "2158575 4                                         oregano   \n",
       "1199867 3                                          garlic   \n",
       "504256  6                                     baking soda   \n",
       "1342486 16                                    kosher salt   \n",
       "277806  6                        bottled italian dressing   \n",
       "939793  4                                    plain yogurt   \n",
       "1586745 7                                       olive oil   \n",
       "537164  7                                            salt   \n",
       "1956528 1                                            salt   \n",
       "1124672 3                                             egg   \n",
       "580034  4                                            milk   \n",
       "1396331 4                                       olive oil   \n",
       "1218377 1                             day-old white bread   \n",
       "1609337 10                   italian seasoning herb blend   \n",
       "837493  0                                         coconut   \n",
       "1703    4                                             nut   \n",
       "2094862 7                           fresh young green pea   \n",
       "\n",
       "                              food_df_name  \\\n",
       "recipe  ingredient                           \n",
       "2108309 2                           yogurt   \n",
       "2189489 0                        margarine   \n",
       "1378004 2                          chicken   \n",
       "525644  2           onion-family vegetable   \n",
       "982726  10                         coconut   \n",
       "2049700 4                         mushroom   \n",
       "1613023 9                             salt   \n",
       "1020744 7                             salt   \n",
       "782330  7                              nut   \n",
       "879616  6                        snack bar   \n",
       "1653851 4                       buttermilk   \n",
       "808085  2                         milk cow   \n",
       "1345852 7                        sweet bay   \n",
       "931097  9                        red onion   \n",
       "1956519 3                           cheese   \n",
       "894410  2                             bean   \n",
       "2164944 0                              tea   \n",
       "1857910 8                            water   \n",
       "928740  2                              egg   \n",
       "968825  2                     sweet orange   \n",
       "1609337 13                         fat oil   \n",
       "1396644 8                             salt   \n",
       "1132705 2                      baking soda   \n",
       "402239  9                         milk cow   \n",
       "351441  4                 japanese pumpkin   \n",
       "1345852 1                        red onion   \n",
       "1948006 5                            lemon   \n",
       "989386  8                           garlic   \n",
       "222     4                            sugar   \n",
       "92858   0                     sweet potato   \n",
       "983934  5                          parsley   \n",
       "646791  3                            sugar   \n",
       "519070  1                      baking soda   \n",
       "866380  7                            olive   \n",
       "1505154 13                          butter   \n",
       "1136022 0                        olive oil   \n",
       "2052696 1                            sugar   \n",
       "1857910 6           onion-family vegetable   \n",
       "        0                        pineapple   \n",
       "726722  4                           garlic   \n",
       "1653851 7                      green onion   \n",
       "402239  10                    edible shell   \n",
       "574304  7                        margarine   \n",
       "983805  6                           garlic   \n",
       "1522278 0                        coriander   \n",
       "820354  0                        margarine   \n",
       "1314074 6           onion-family vegetable   \n",
       "452418  1           onion-family vegetable   \n",
       "1600752 10                             NaN   \n",
       "2058996 5                           cheese   \n",
       "1808760 3                        red onion   \n",
       "1032907 3                           garlic   \n",
       "2101433 6                           cheese   \n",
       "2164944 8                        pineapple   \n",
       "280477  0                     sweet orange   \n",
       "480244  2                           pepper   \n",
       "1806301 2                            cream   \n",
       "1606545 0                     sweet potato   \n",
       "1777734 3                          topping   \n",
       "373388  2                              egg   \n",
       "394397  4                           cheese   \n",
       "1396644 5                       white wine   \n",
       "1378004 7                      common sage   \n",
       "1018637 3                     domestic pig   \n",
       "989386  1                        olive oil   \n",
       "855127  2                           cheese   \n",
       "1703    1                              egg   \n",
       "1533767 7                 japanese pumpkin   \n",
       "43845   2           onion-family vegetable   \n",
       "147316  0                             rice   \n",
       "1196992 8                            cumin   \n",
       "1154862 7                             salt   \n",
       "1864686 1                          vinegar   \n",
       "1378004 11                         chicken   \n",
       "529533  4                       blackberry   \n",
       "206996  4                    baking powder   \n",
       "519070  0                            flour   \n",
       "2108309 3                              egg   \n",
       "1226899 2                            sugar   \n",
       "1901090 3                           garlic   \n",
       "1930042 5                    baking powder   \n",
       "767911  6                             corn   \n",
       "2196831 0                        olive oil   \n",
       "1997052 6                          chicken   \n",
       "1546037 11                        cinnamon   \n",
       "2005640 11                           sugar   \n",
       "1746116 6                            cream   \n",
       "1267559 6                          vinegar   \n",
       "928740  6                            cream   \n",
       "1609337 16                         lasagna   \n",
       "1984239 2                        red algae   \n",
       "865758  2                           pepper   \n",
       "23612   1                          ketchup   \n",
       "939793  5                         milk cow   \n",
       "1828339 3                             rice   \n",
       "508561  1                          cabbage   \n",
       "1533767 11                           sugar   \n",
       "972254  7                      sweet basil   \n",
       "1020744 0                            sugar   \n",
       "2149994 2                     domestic pig   \n",
       "1857320 4           onion-family vegetable   \n",
       "1032907 9                           yogurt   \n",
       "676051  3                        pineapple   \n",
       "767084  2                              egg   \n",
       "1609337 12           oval-leaf huckleberry   \n",
       "2005640 1                            sugar   \n",
       "1613023 8                              NaN   \n",
       "1320064 5                     curry powder   \n",
       "879616  1                            flour   \n",
       "1788185 7                     domestic pig   \n",
       "982726  3                         egg yolk   \n",
       "2019868 6                             corn   \n",
       "1020744 3                            cream   \n",
       "894410  7                             lime   \n",
       "983934  1                         mushroom   \n",
       "738063  4                              egg   \n",
       "1369744 5                           garlic   \n",
       "1546037 17                     soy product   \n",
       "1320064 9                vegetable product   \n",
       "1307725 4                          spinach   \n",
       "1460637 1                            flour   \n",
       "1936429 8                             salt   \n",
       "2005640 5                     cocoa powder   \n",
       "1505154 12                           lemon   \n",
       "1034270 0                             lime   \n",
       "1948006 3                         milk cow   \n",
       "1546037 10                           sugar   \n",
       "686704  2                            cream   \n",
       "982726  5                          vanilla   \n",
       "1930042 8                           butter   \n",
       "506659  4                      potato chip   \n",
       "367462  7                         milk cow   \n",
       "1378004 1                       animal fat   \n",
       "1342486 0                            chili   \n",
       "1570340 8                           butter   \n",
       "832215  0                           cheese   \n",
       "178826  2                           cheese   \n",
       "1396644 19                            salt   \n",
       "2136402 4                           pepper   \n",
       "1570340 5                              oat   \n",
       "253438  6                           butter   \n",
       "1805929 0                           butter   \n",
       "738063  3                            lemon   \n",
       "1410344 0                             dish   \n",
       "1428429 2                            sugar   \n",
       "1271452 1                           carrot   \n",
       "103091  3                      green onion   \n",
       "506659  2                         milk cow   \n",
       "325901  1                            flour   \n",
       "2180004 1                        olive oil   \n",
       "1241078 2                            lemon   \n",
       "101786  4                       cocoa bean   \n",
       "537007  3           onion-family vegetable   \n",
       "1600752 11                       coriander   \n",
       "1729364 1                     sweet orange   \n",
       "1251957 1                            flour   \n",
       "1320064 0                         oil palm   \n",
       "767592  2                   salad dressing   \n",
       "557617  0                        trail mix   \n",
       "2094862 9                          vinegar   \n",
       "1828339 12                    sweet orange   \n",
       "2201833 1           onion-family vegetable   \n",
       "749006  1                        margarine   \n",
       "606258  4                 cattle beef veal   \n",
       "324733  3                            sugar   \n",
       "1419202 5                             salt   \n",
       "1546037 3                            flour   \n",
       "895702  7                         milk cow   \n",
       "1723278 6                   common oregano   \n",
       "1805929 2                           garlic   \n",
       "1396644 16          onion-family vegetable   \n",
       "1533767 3                    baking powder   \n",
       "1719483 1                        snack bar   \n",
       "1267559 9                     domestic pig   \n",
       "1723278 2                           pepper   \n",
       "2201833 0                   green zucchini   \n",
       "1342486 27                     orange mint   \n",
       "607828  4                     curry powder   \n",
       "1059534 10                          pepper   \n",
       "982726  8                         cinnamon   \n",
       "147316  3                        margarine   \n",
       "953258  3                           nutmeg   \n",
       "1533767 9                              egg   \n",
       "2158575 4                   common oregano   \n",
       "1199867 3                           garlic   \n",
       "504256  6                      baking soda   \n",
       "1342486 16                            salt   \n",
       "277806  6                   salad dressing   \n",
       "939793  4                           yogurt   \n",
       "1586745 7                        olive oil   \n",
       "537164  7                             salt   \n",
       "1956528 1                             salt   \n",
       "1124672 3                              egg   \n",
       "580034  4                         milk cow   \n",
       "1396331 4                        olive oil   \n",
       "1218377 1                      white bread   \n",
       "1609337 10                      herb spice   \n",
       "837493  0                          coconut   \n",
       "1703    4                              nut   \n",
       "2094862 7                        pea shoot   \n",
       "\n",
       "                                                                 USDA  \\\n",
       "recipe  ingredient                                                      \n",
       "2108309 2           yogurt plain whole milk 8 gram protein per 8 o...   \n",
       "2189489 0                 margarine regular hard soybean hydrogenated   \n",
       "1378004 2                                                        <NA>   \n",
       "525644  2                                                        <NA>   \n",
       "982726  10                                       nut coconut meat raw   \n",
       "2049700 4                                          mushroom white raw   \n",
       "1613023 9                                                  salt table   \n",
       "1020744 7                                                  salt table   \n",
       "782330  7                                                        <NA>   \n",
       "879616  6                                snack granola bar hard plain   \n",
       "1653851 4                                 milk buttermilk fluid whole   \n",
       "808085  2                       milk whole 325% milkfat added vitamin   \n",
       "1345852 7                                              spice bay leaf   \n",
       "931097  9                                                        <NA>   \n",
       "1956519 3                                cheese mozzarella whole milk   \n",
       "894410  2                          bean baked canned plain vegetarian   \n",
       "2164944 0                     tea black ready-to-drink plain flavored   \n",
       "1857910 8                                       water bottled perrier   \n",
       "928740  2                                         egg whole raw fresh   \n",
       "968825  2                                            orange raw navel   \n",
       "1609337 13                                                       <NA>   \n",
       "1396644 8                                                  salt table   \n",
       "1132705 2                                                        <NA>   \n",
       "402239  9                       milk whole 325% milkfat added vitamin   \n",
       "351441  4           seed pumpkin squash seed whole roasted without...   \n",
       "1345852 1                                                        <NA>   \n",
       "1948006 5                                             lemon juice raw   \n",
       "989386  8                                                  garlic raw   \n",
       "222     4                                                 sugar brown   \n",
       "92858   0                                 sweet potato raw unprepared   \n",
       "983934  5                                         spice parsley dried   \n",
       "646791  3                                                 sugar brown   \n",
       "519070  1                                                        <NA>   \n",
       "866380  7                         olive ripe canned small-extra large   \n",
       "1505154 13                                              butter salted   \n",
       "1136022 0                                                        <NA>   \n",
       "2052696 1                                                 sugar brown   \n",
       "1857910 6                                                        <NA>   \n",
       "        0              pineapple canned light syrup pack solid liquid   \n",
       "726722  4                                                  garlic raw   \n",
       "1653851 7                                                        <NA>   \n",
       "402239  10                                           taco shell baked   \n",
       "574304  7                 margarine regular hard soybean hydrogenated   \n",
       "983805  6                                         spice garlic powder   \n",
       "1522278 0                                 coriander cilantro leaf raw   \n",
       "820354  0                 margarine regular hard soybean hydrogenated   \n",
       "1314074 6                                                        <NA>   \n",
       "452418  1                                                        <NA>   \n",
       "1600752 10                                                       <NA>   \n",
       "2058996 5                                cheese mozzarella whole milk   \n",
       "1808760 3                                                        <NA>   \n",
       "1032907 3                                                  garlic raw   \n",
       "2101433 6                                              cheese cheddar   \n",
       "2164944 8                                       pineapple raw variety   \n",
       "280477  0                                            orange juice raw   \n",
       "480244  2                                        pepper sweet red raw   \n",
       "1806301 2                               sour cream imitation cultured   \n",
       "1606545 0                                 sweet potato raw unprepared   \n",
       "1777734 3                                          topping strawberry   \n",
       "373388  2                                         egg whole raw fresh   \n",
       "394397  4                                              cheese cheddar   \n",
       "1396644 5                                                        <NA>   \n",
       "1378004 7                                           spice sage ground   \n",
       "1018637 3                    pork fresh loin whole separable lean raw   \n",
       "989386  1                                                        <NA>   \n",
       "855127  2                                        cheese parmesan hard   \n",
       "1703    1                                         egg whole raw fresh   \n",
       "1533767 7           seed pumpkin squash seed whole roasted without...   \n",
       "43845   2                                                        <NA>   \n",
       "147316  0                rice white long-grain regular raw unenriched   \n",
       "1196992 8                                            spice cumin seed   \n",
       "1154862 7                                                  salt table   \n",
       "1864686 1                                               vinegar cider   \n",
       "1378004 11                                                       <NA>   \n",
       "529533  4                                              blackberry raw   \n",
       "206996  4                                                        <NA>   \n",
       "519070  0                             usda commodity bakery flour mix   \n",
       "2108309 3                                         egg white raw fresh   \n",
       "1226899 2                                                 sugar brown   \n",
       "1901090 3                                                  garlic raw   \n",
       "1930042 5                                                        <NA>   \n",
       "767911  6           corn sweet white canned whole kernel regular p...   \n",
       "2196831 0                                                        <NA>   \n",
       "1997052 6                                                        <NA>   \n",
       "1546037 11                                      spice cinnamon ground   \n",
       "2005640 11                                             sugar powdered   \n",
       "1746116 6                               sour cream imitation cultured   \n",
       "1267559 6                                               vinegar cider   \n",
       "928740  6                               sour cream imitation cultured   \n",
       "1609337 16                             lasagna cheese frozen prepared   \n",
       "1984239 2                                                               \n",
       "865758  2                                        pepper sweet red raw   \n",
       "23612   1                                                      catsup   \n",
       "939793  5                       milk whole 325% milkfat added vitamin   \n",
       "1828339 3                                   rice brown long-grain raw   \n",
       "508561  1                                                 cabbage raw   \n",
       "1533767 11                                                sugar brown   \n",
       "972254  7                                           spice basil dried   \n",
       "1020744 0                                                 sugar brown   \n",
       "2149994 2                              pork bacon rendered fat cooked   \n",
       "1857320 4                                                        <NA>   \n",
       "1032907 9           yogurt plain whole milk 8 gram protein per 8 o...   \n",
       "676051  3                                       pineapple raw variety   \n",
       "767084  2                                         egg whole raw fresh   \n",
       "1609337 12                                                       <NA>   \n",
       "2005640 1                                                 sugar brown   \n",
       "1613023 8                                                        <NA>   \n",
       "1320064 5                                          spice curry powder   \n",
       "879616  1                             usda commodity bakery flour mix   \n",
       "1788185 7                                     ham honey smoked cooked   \n",
       "982726  3                                                        <NA>   \n",
       "2019868 6           corn sweet white canned whole kernel regular p...   \n",
       "1020744 3                               sour cream imitation cultured   \n",
       "894410  7                                              lime juice raw   \n",
       "983934  1                                          mushroom white raw   \n",
       "738063  4                                         egg whole raw fresh   \n",
       "1369744 5                                                  garlic raw   \n",
       "1546037 17                                                     tempeh   \n",
       "1320064 9                           vegetable mixed frozen unprepared   \n",
       "1307725 4                      spinach frozen chopped leaf unprepared   \n",
       "1460637 1                             usda commodity bakery flour mix   \n",
       "1936429 8                                                  salt table   \n",
       "2005640 5                     cocoa dry powder hi-fat breakfast plain   \n",
       "1505154 12                                            lemon juice raw   \n",
       "1034270 0                                              lime juice raw   \n",
       "1948006 3           milk fluid nonfat calcium fortified fat free skim   \n",
       "1546037 10                                                sugar brown   \n",
       "686704  2                               sour cream imitation cultured   \n",
       "982726  5                                             vanilla extract   \n",
       "1930042 8                                               butter salted   \n",
       "506659  4                        potato chip without salt reduced fat   \n",
       "367462  7                       milk whole 325% milkfat added vitamin   \n",
       "1378004 1                                                 fat chicken   \n",
       "1342486 0                                           chili bean canned   \n",
       "1570340 8                                               butter salted   \n",
       "832215  0                                                cheese cream   \n",
       "178826  2                                cheese mozzarella whole milk   \n",
       "1396644 19                                                 salt table   \n",
       "2136402 4                                        pepper sweet red raw   \n",
       "1570340 5                                                oat bran raw   \n",
       "253438  6                                               butter salted   \n",
       "1805929 0                                               butter salted   \n",
       "738063  3                                             lemon juice raw   \n",
       "1410344 0                                               cheese fondue   \n",
       "1428429 2                                              sugar powdered   \n",
       "1271452 1                                                  carrot raw   \n",
       "103091  3                                                        <NA>   \n",
       "506659  2                       milk whole 325% milkfat added vitamin   \n",
       "325901  1                             usda commodity bakery flour mix   \n",
       "2180004 1                                                        <NA>   \n",
       "1241078 2                                             lemon juice raw   \n",
       "101786  4                                                  cacao bean   \n",
       "537007  3                                                        <NA>   \n",
       "1600752 11                                coriander cilantro leaf raw   \n",
       "1729364 1                                            orange juice raw   \n",
       "1251957 1                             usda commodity bakery flour mix   \n",
       "1320064 0                                   vegetable oil palm kernel   \n",
       "767592  2                        salad dressing honey mustard regular   \n",
       "557617  0           snack trail mix regular chocolate chip salted ...   \n",
       "2094862 9                                               vinegar cider   \n",
       "1828339 12                            orange juice canned unsweetened   \n",
       "2201833 1                                                        <NA>   \n",
       "749006  1                 margarine regular hard soybean hydrogenated   \n",
       "606258  4                 beef brisket whole separable lean grade raw   \n",
       "324733  3                                                 sugar brown   \n",
       "1419202 5                                                  salt table   \n",
       "1546037 3                             usda commodity bakery flour mix   \n",
       "895702  7                       milk whole 325% milkfat added vitamin   \n",
       "1723278 6                                         spice oregano dried   \n",
       "1805929 2                                                  garlic raw   \n",
       "1396644 16                                                       <NA>   \n",
       "1533767 3                                                        <NA>   \n",
       "1719483 1                                snack granola bar hard plain   \n",
       "1267559 9                    pork fresh loin whole separable lean raw   \n",
       "1723278 2                                        pepper sweet red raw   \n",
       "2201833 0                                    squash zucchini baby raw   \n",
       "1342486 27                                                       <NA>   \n",
       "607828  4                                          spice curry powder   \n",
       "1059534 10                                       pepper sweet red raw   \n",
       "982726  8                                       spice cinnamon ground   \n",
       "147316  3                 margarine regular hard soybean hydrogenated   \n",
       "953258  3                                         spice nutmeg ground   \n",
       "1533767 9                                         egg whole raw fresh   \n",
       "2158575 4                                         spice oregano dried   \n",
       "1199867 3                                                  garlic raw   \n",
       "504256  6                                                        <NA>   \n",
       "1342486 16                                                 salt table   \n",
       "277806  6           salad dressing italian dressing commercial reg...   \n",
       "939793  4           yogurt plain whole milk 8 gram protein per 8 o...   \n",
       "1586745 7                                                        <NA>   \n",
       "537164  7                                                  salt table   \n",
       "1956528 1                                                  salt table   \n",
       "1124672 3                                         egg whole raw fresh   \n",
       "580034  4                       milk whole 325% milkfat added vitamin   \n",
       "1396331 4                                                        <NA>   \n",
       "1218377 1                                           bread stick plain   \n",
       "1609337 10                                                       <NA>   \n",
       "837493  0                                        nut coconut meat raw   \n",
       "1703    4                                                        <NA>   \n",
       "2094862 7                                                        <NA>   \n",
       "\n",
       "                               DUKE              PHENOL EXPLORER  \\\n",
       "recipe  ingredient                                                 \n",
       "2108309 2                      <NA>                   soy yogurt   \n",
       "2189489 0                      <NA>                         <NA>   \n",
       "1378004 2                      <NA>                         <NA>   \n",
       "525644  2                      <NA>                         <NA>   \n",
       "982726  10                  coconut                         <NA>   \n",
       "2049700 4                      <NA>                         <NA>   \n",
       "1613023 9                      <NA>                         <NA>   \n",
       "1020744 7                      <NA>                         <NA>   \n",
       "782330  7                      <NA>                         <NA>   \n",
       "879616  6                      <NA>                         <NA>   \n",
       "1653851 4                      <NA>                         <NA>   \n",
       "808085  2                      <NA>                         <NA>   \n",
       "1345852 7                       bay              sweet bay dried   \n",
       "931097  9                      <NA>                         <NA>   \n",
       "1956519 3                      <NA>                         <NA>   \n",
       "894410  2                      <NA>                         <NA>   \n",
       "2164944 0                       tea         tea [black] infusion   \n",
       "1857910 8                      <NA>                         <NA>   \n",
       "928740  2                      <NA>                         <NA>   \n",
       "968825  2                    orange               orange [blond]   \n",
       "1609337 13                     <NA>                         <NA>   \n",
       "1396644 8                      <NA>                         <NA>   \n",
       "1132705 2                      <NA>                         <NA>   \n",
       "402239  9                      <NA>                         <NA>   \n",
       "351441  4                      <NA>                         <NA>   \n",
       "1345852 1                      <NA>                         <NA>   \n",
       "1948006 5                     lemon                        lemon   \n",
       "989386  8                    garlic                         <NA>   \n",
       "222     4                      <NA>                         <NA>   \n",
       "92858   0              sweet potato                         <NA>   \n",
       "983934  5                   parsley                parsley dried   \n",
       "646791  3                      <NA>                         <NA>   \n",
       "519070  1                      <NA>                         <NA>   \n",
       "866380  7                     olive            olive [black] raw   \n",
       "1505154 13                     <NA>                         <NA>   \n",
       "1136022 0                      <NA>                         <NA>   \n",
       "2052696 1                      <NA>                         <NA>   \n",
       "1857910 6                      <NA>                         <NA>   \n",
       "        0                 pineapple                    pineapple   \n",
       "726722  4                    garlic                         <NA>   \n",
       "1653851 7                      <NA>                         <NA>   \n",
       "402239  10                     <NA>                         <NA>   \n",
       "574304  7                      <NA>                         <NA>   \n",
       "983805  6                    garlic                         <NA>   \n",
       "1522278 0           chinese parsley              coriander fresh   \n",
       "820354  0                      <NA>                         <NA>   \n",
       "1314074 6                      <NA>                         <NA>   \n",
       "452418  1                      <NA>                         <NA>   \n",
       "1600752 10                     <NA>                         <NA>   \n",
       "2058996 5                      <NA>                         <NA>   \n",
       "1808760 3                      <NA>                         <NA>   \n",
       "1032907 3                    garlic                         <NA>   \n",
       "2101433 6                      <NA>                         <NA>   \n",
       "2164944 8                 pineapple                    pineapple   \n",
       "280477  0                    orange               orange [blond]   \n",
       "480244  2               bell pepper     sweet pepper [green] raw   \n",
       "1806301 2                      <NA>                         <NA>   \n",
       "1606545 0              sweet potato                         <NA>   \n",
       "1777734 3                      <NA>                         <NA>   \n",
       "373388  2                      <NA>                         <NA>   \n",
       "394397  4                      <NA>                         <NA>   \n",
       "1396644 5                      <NA>                         <NA>   \n",
       "1378004 7                      sage            common sage fresh   \n",
       "1018637 3                      <NA>                         <NA>   \n",
       "989386  1                      <NA>                         <NA>   \n",
       "855127  2                      <NA>                         <NA>   \n",
       "1703    1                      <NA>                         <NA>   \n",
       "1533767 7                      <NA>                         <NA>   \n",
       "43845   2                      <NA>                         <NA>   \n",
       "147316  0                      rice             rice whole grain   \n",
       "1196992 8                     cumin                        cumin   \n",
       "1154862 7                      <NA>                         <NA>   \n",
       "1864686 1                      <NA>                      vinegar   \n",
       "1378004 11                     <NA>                         <NA>   \n",
       "529533  4                                             blackberry   \n",
       "206996  4                      <NA>                         <NA>   \n",
       "519070  0                      <NA>                         <NA>   \n",
       "2108309 3                      <NA>                         <NA>   \n",
       "1226899 2                      <NA>                         <NA>   \n",
       "1901090 3                    garlic                         <NA>   \n",
       "1930042 5                      <NA>                         <NA>   \n",
       "767911  6                      corn            maize whole grain   \n",
       "2196831 0                      <NA>                         <NA>   \n",
       "1997052 6                      <NA>                         <NA>   \n",
       "1546037 11          ceylon cinnamon              ceylan cinnamon   \n",
       "2005640 11                     <NA>                         <NA>   \n",
       "1746116 6                      <NA>                         <NA>   \n",
       "1267559 6                      <NA>                      vinegar   \n",
       "928740  6                      <NA>                         <NA>   \n",
       "1609337 16                     <NA>                         <NA>   \n",
       "1984239 2                      <NA>                         <NA>   \n",
       "865758  2               bell pepper     sweet pepper [green] raw   \n",
       "23612   1                      <NA>                         <NA>   \n",
       "939793  5                      <NA>                         <NA>   \n",
       "1828339 3                      rice             rice whole grain   \n",
       "508561  1                   cabbage          oxheart cabbage raw   \n",
       "1533767 11                     <NA>                         <NA>   \n",
       "972254  7                     basil            sweet basil dried   \n",
       "1020744 0                      <NA>                         <NA>   \n",
       "2149994 2                      <NA>                         <NA>   \n",
       "1857320 4                      <NA>                         <NA>   \n",
       "1032907 9                      <NA>                   soy yogurt   \n",
       "676051  3                 pineapple                    pineapple   \n",
       "767084  2                      <NA>                         <NA>   \n",
       "1609337 12                     <NA>        oval-leaf huckleberry   \n",
       "2005640 1                      <NA>                         <NA>   \n",
       "1613023 8                      <NA>                         <NA>   \n",
       "1320064 5                      <NA>                 curry powder   \n",
       "879616  1                      <NA>                         <NA>   \n",
       "1788185 7                      <NA>                         <NA>   \n",
       "982726  3                      <NA>                         <NA>   \n",
       "2019868 6                      corn            maize whole grain   \n",
       "1020744 3                      <NA>                         <NA>   \n",
       "894410  7                      lime              lime pure juice   \n",
       "983934  1                      <NA>                         <NA>   \n",
       "738063  4                      <NA>                         <NA>   \n",
       "1369744 5                    garlic                         <NA>   \n",
       "1546037 17                     <NA>               soy burger raw   \n",
       "1320064 9                      <NA>                         <NA>   \n",
       "1307725 4                   spinach                  spinach raw   \n",
       "1460637 1                      <NA>                         <NA>   \n",
       "1936429 8                      <NA>                         <NA>   \n",
       "2005640 5                      <NA>                 cocoa powder   \n",
       "1505154 12                    lemon                        lemon   \n",
       "1034270 0                      lime              lime pure juice   \n",
       "1948006 3                      <NA>                         <NA>   \n",
       "1546037 10                     <NA>                         <NA>   \n",
       "686704  2                      <NA>                         <NA>   \n",
       "982726  5                      <NA>                         <NA>   \n",
       "1930042 8                      <NA>                         <NA>   \n",
       "506659  4                      <NA>                         <NA>   \n",
       "367462  7                      <NA>                         <NA>   \n",
       "1378004 1                      <NA>                         <NA>   \n",
       "1342486 0                      <NA>                         <NA>   \n",
       "1570340 8                      <NA>                         <NA>   \n",
       "832215  0                      <NA>                         <NA>   \n",
       "178826  2                      <NA>                         <NA>   \n",
       "1396644 19                     <NA>                         <NA>   \n",
       "2136402 4               bell pepper       sweet pepper [red] raw   \n",
       "1570340 5                       oat        oat whole grain flour   \n",
       "253438  6                      <NA>                         <NA>   \n",
       "1805929 0                      <NA>                         <NA>   \n",
       "738063  3                     lemon                        lemon   \n",
       "1410344 0                      <NA>                         <NA>   \n",
       "1428429 2                      <NA>                         <NA>   \n",
       "1271452 1                    carrot                   carrot raw   \n",
       "103091  3                      <NA>                         <NA>   \n",
       "506659  2                      <NA>                         <NA>   \n",
       "325901  1                      <NA>                         <NA>   \n",
       "2180004 1                      <NA>                         <NA>   \n",
       "1241078 2                     lemon             lemon pure juice   \n",
       "101786  4                     cacao                         <NA>   \n",
       "537007  3                      <NA>                         <NA>   \n",
       "1600752 11          chinese parsley              coriander fresh   \n",
       "1729364 1                    orange               orange [blond]   \n",
       "1251957 1                      <NA>                         <NA>   \n",
       "1320064 0                      <NA>                         <NA>   \n",
       "767592  2                      <NA>                         <NA>   \n",
       "557617  0                      <NA>                         <NA>   \n",
       "2094862 9                      <NA>                      vinegar   \n",
       "1828339 12                   orange               orange [blond]   \n",
       "2201833 1                      <NA>                         <NA>   \n",
       "749006  1                      <NA>                         <NA>   \n",
       "606258  4                      <NA>                         <NA>   \n",
       "324733  3                      <NA>                         <NA>   \n",
       "1419202 5                      <NA>                         <NA>   \n",
       "1546037 3                      <NA>                         <NA>   \n",
       "895702  7                      <NA>                         <NA>   \n",
       "1723278 6                      <NA>  oregano fresh wild marjoram   \n",
       "1805929 2                    garlic                         <NA>   \n",
       "1396644 16                     <NA>                         <NA>   \n",
       "1533767 3                      <NA>                         <NA>   \n",
       "1719483 1                      <NA>                         <NA>   \n",
       "1267559 9                      <NA>                         <NA>   \n",
       "1723278 2               bell pepper     sweet pepper [green] raw   \n",
       "2201833 0             summer squash                 zucchini raw   \n",
       "1342486 27               water mint                         <NA>   \n",
       "607828  4                      <NA>                 curry powder   \n",
       "1059534 10              bell pepper     sweet pepper [green] raw   \n",
       "982726  8           ceylon cinnamon              ceylan cinnamon   \n",
       "147316  3                      <NA>                         <NA>   \n",
       "953258  3                      <NA>                       nutmeg   \n",
       "1533767 9                      <NA>                         <NA>   \n",
       "2158575 4                      <NA>  oregano fresh wild marjoram   \n",
       "1199867 3                    garlic                         <NA>   \n",
       "504256  6                      <NA>                         <NA>   \n",
       "1342486 16                     <NA>                         <NA>   \n",
       "277806  6                      <NA>                         <NA>   \n",
       "939793  4                      <NA>                   soy yogurt   \n",
       "1586745 7                      <NA>                         <NA>   \n",
       "537164  7                      <NA>                         <NA>   \n",
       "1956528 1                      <NA>                         <NA>   \n",
       "1124672 3                      <NA>                         <NA>   \n",
       "580034  4                      <NA>                         <NA>   \n",
       "1396331 4                      <NA>                         <NA>   \n",
       "1218377 1                      <NA>                         <NA>   \n",
       "1609337 10                     <NA>                         <NA>   \n",
       "837493  0                   coconut                         <NA>   \n",
       "1703    4                      <NA>                         <NA>   \n",
       "2094862 7                      <NA>                         <NA>   \n",
       "\n",
       "                                                          DTU  \n",
       "recipe  ingredient                                             \n",
       "2108309 2                                             yoghurt  \n",
       "2189489 0           margarine 80% fat table use vegetable fat  \n",
       "1378004 2                                   chicken flesh raw  \n",
       "525644  2                                                <NA>  \n",
       "982726  10                            coconut meat desiccated  \n",
       "2049700 4                                        mushroom raw  \n",
       "1613023 9                                          salt table  \n",
       "1020744 7                                          salt table  \n",
       "782330  7                                                <NA>  \n",
       "879616  6                                                <NA>  \n",
       "1653851 4                               milk buttermilk lemon  \n",
       "808085  2                                 milk whole cultured  \n",
       "1345852 7                                                <NA>  \n",
       "931097  9                                                <NA>  \n",
       "1956519 3                 cheese semihard mozzarella 30% fidm  \n",
       "894410  2                                                <NA>  \n",
       "2164944 0                                            tea leaf  \n",
       "1857910 8                    water tap drinking average value  \n",
       "928740  2                               egg chicken whole raw  \n",
       "968825  2                                          orange raw  \n",
       "1609337 13                                               <NA>  \n",
       "1396644 8                                          salt table  \n",
       "1132705 2                                                <NA>  \n",
       "402239  9                                 milk whole cultured  \n",
       "351441  4                                  squash variety raw  \n",
       "1345852 1                                                <NA>  \n",
       "1948006 5                                           lemon raw  \n",
       "989386  8                                          garlic raw  \n",
       "222     4                                         sugar brown  \n",
       "92858   0                                          potato raw  \n",
       "983934  5                                         parsley raw  \n",
       "646791  3                                         sugar brown  \n",
       "519070  1                                                <NA>  \n",
       "866380  7                     olive black without stone brine  \n",
       "1505154 13                                  butter salt added  \n",
       "1136022 0                                                <NA>  \n",
       "2052696 1                                         sugar brown  \n",
       "1857910 6                                                <NA>  \n",
       "        0                                       pineapple raw  \n",
       "726722  4                                          garlic raw  \n",
       "1653851 7                                                <NA>  \n",
       "402239  10                                               <NA>  \n",
       "574304  7           margarine 80% fat table use vegetable fat  \n",
       "983805  6                                 garlic dried powder  \n",
       "1522278 0                                  coriander leaf raw  \n",
       "820354  0           margarine 80% fat table use vegetable fat  \n",
       "1314074 6                                                <NA>  \n",
       "452418  1                                                <NA>  \n",
       "1600752 10                                               <NA>  \n",
       "2058996 5                 cheese semihard mozzarella 30% fidm  \n",
       "1808760 3                                                <NA>  \n",
       "1032907 3                                          garlic raw  \n",
       "2101433 6                          cheese hard cheddar danish  \n",
       "2164944 8                                       pineapple raw  \n",
       "280477  0                                 orange juice canned  \n",
       "480244  2                                 pepper sweet canned  \n",
       "1806301 2                                       cream 13% fat  \n",
       "1606545 0                                          potato raw  \n",
       "1777734 3                                                <NA>  \n",
       "373388  2                               egg chicken whole raw  \n",
       "394397  4                          cheese hard cheddar danish  \n",
       "1396644 5                                                <NA>  \n",
       "1378004 7                                                <NA>  \n",
       "1018637 3                      pork belly whole cut cured raw  \n",
       "989386  1                                                <NA>  \n",
       "855127  2                         cheese hard parmesan grated  \n",
       "1703    1                               egg chicken whole raw  \n",
       "1533767 7                                  squash variety raw  \n",
       "43845   2                                                <NA>  \n",
       "147316  0                                      rice groat raw  \n",
       "1196992 8                                                <NA>  \n",
       "1154862 7                                          salt table  \n",
       "1864686 1                                             vinegar  \n",
       "1378004 11                                  chicken flesh raw  \n",
       "529533  4                                      blackberry raw  \n",
       "206996  4                                                <NA>  \n",
       "519070  0                                                <NA>  \n",
       "2108309 3                               egg chicken white raw  \n",
       "1226899 2                                         sugar brown  \n",
       "1901090 3                                          garlic raw  \n",
       "1930042 5                                                <NA>  \n",
       "767911  6                                          corn flour  \n",
       "2196831 0                                                <NA>  \n",
       "1997052 6                                   chicken flesh raw  \n",
       "1546037 11                                     cinnamon stick  \n",
       "2005640 11                                        sugar brown  \n",
       "1746116 6                              cream whipping 38% fat  \n",
       "1267559 6                                             vinegar  \n",
       "928740  6                                       cream 13% fat  \n",
       "1609337 16                                               <NA>  \n",
       "1984239 2                                        seaweed agar  \n",
       "865758  2                                 pepper sweet canned  \n",
       "23612   1                              tomato ketchup bottled  \n",
       "939793  5                                 milk whole cultured  \n",
       "1828339 3                                      rice brown raw  \n",
       "508561  1                                     cabbage red raw  \n",
       "1533767 11                                        sugar brown  \n",
       "972254  7                                                <NA>  \n",
       "1020744 0                                         sugar brown  \n",
       "2149994 2                                    bacon sliced raw  \n",
       "1857320 4                                                <NA>  \n",
       "1032907 9                                             yoghurt  \n",
       "676051  3                                       pineapple raw  \n",
       "767084  2                               egg chicken whole raw  \n",
       "1609337 12                                               <NA>  \n",
       "2005640 1                                         sugar brown  \n",
       "1613023 8                                                <NA>  \n",
       "1320064 5                                        curry powder  \n",
       "879616  1                                                <NA>  \n",
       "1788185 7                                     pork ham smoked  \n",
       "982726  3                                                <NA>  \n",
       "2019868 6                                          corn flour  \n",
       "1020744 3                                       cream 13% fat  \n",
       "894410  7                                            lime raw  \n",
       "983934  1                                        mushroom raw  \n",
       "738063  4                               egg chicken whole raw  \n",
       "1369744 5                                          garlic raw  \n",
       "1546037 17                                               <NA>  \n",
       "1320064 9                                                <NA>  \n",
       "1307725 4                                         spinach raw  \n",
       "1460637 1                                                <NA>  \n",
       "1936429 8                                          salt table  \n",
       "2005640 5                                        cocoa powder  \n",
       "1505154 12                                          lemon raw  \n",
       "1034270 0                                            lime raw  \n",
       "1948006 3                                 milk whole cultured  \n",
       "1546037 10                                        sugar brown  \n",
       "686704  2                                       cream 13% fat  \n",
       "982726  5                                                <NA>  \n",
       "1930042 8                                   butter salt added  \n",
       "506659  4                                                <NA>  \n",
       "367462  7                                 milk whole cultured  \n",
       "1378004 1                                           goose fat  \n",
       "1342486 0                                                <NA>  \n",
       "1570340 8                                   butter salt added  \n",
       "832215  0                               cheese cream 60% fidm  \n",
       "178826  2                 cheese semihard mozzarella 30% fidm  \n",
       "1396644 19                 salt sea salt iodine fortification  \n",
       "2136402 4                                 pepper sweet canned  \n",
       "1570340 5                            oat rolled average value  \n",
       "253438  6                                   butter salt added  \n",
       "1805929 0                                   butter salt added  \n",
       "738063  3                                           lemon raw  \n",
       "1410344 0                                    fish pudding raw  \n",
       "1428429 2                                         sugar brown  \n",
       "1271452 1                                          carrot raw  \n",
       "103091  3                                                <NA>  \n",
       "506659  2                                 milk whole cultured  \n",
       "325901  1                                                <NA>  \n",
       "2180004 1                                                <NA>  \n",
       "1241078 2                                   lemon juice fresh  \n",
       "101786  4                                                <NA>  \n",
       "537007  3                                                <NA>  \n",
       "1600752 11                                 coriander leaf raw  \n",
       "1729364 1                                 orange juice canned  \n",
       "1251957 1                                                <NA>  \n",
       "1320064 0                                            oil palm  \n",
       "767592  2                   salad dressing soured fresh cream  \n",
       "557617  0                                                <NA>  \n",
       "2094862 9                                             vinegar  \n",
       "1828339 12                                orange juice canned  \n",
       "2201833 1                                                <NA>  \n",
       "749006  1           margarine 80% fat table use vegetable fat  \n",
       "606258  4                                      beef chuck raw  \n",
       "324733  3                                         sugar brown  \n",
       "1419202 5                                          salt table  \n",
       "1546037 3                                                <NA>  \n",
       "895702  7                                 milk whole cultured  \n",
       "1723278 6                                                <NA>  \n",
       "1805929 2                                          garlic raw  \n",
       "1396644 16                                               <NA>  \n",
       "1533767 3                                                <NA>  \n",
       "1719483 1                                                <NA>  \n",
       "1267559 9                             pork loin fillet smoked  \n",
       "1723278 2                                 pepper sweet canned  \n",
       "2201833 0                                 squash zucchini raw  \n",
       "1342486 27                                               <NA>  \n",
       "607828  4                                        curry powder  \n",
       "1059534 10                                pepper sweet canned  \n",
       "982726  8                                      cinnamon stick  \n",
       "147316  3           margarine 80% fat table use vegetable fat  \n",
       "953258  3                                        nutmeg whole  \n",
       "1533767 9                               egg chicken whole raw  \n",
       "2158575 4                                                <NA>  \n",
       "1199867 3                                          garlic raw  \n",
       "504256  6                                                <NA>  \n",
       "1342486 16                                         salt table  \n",
       "277806  6                              salad dressing italian  \n",
       "939793  4                                             yoghurt  \n",
       "1586745 7                                                <NA>  \n",
       "537164  7                                          salt table  \n",
       "1956528 1                                          salt table  \n",
       "1124672 3                               egg chicken whole raw  \n",
       "580034  4                                 milk whole cultured  \n",
       "1396331 4                                                <NA>  \n",
       "1218377 1                           bread wheat high fat seed  \n",
       "1609337 10                                               <NA>  \n",
       "837493  0                             coconut meat desiccated  \n",
       "1703    4                                                <NA>  \n",
       "2094862 7                                                <NA>  "
      ]
     },
     "execution_count": 52,
     "metadata": {},
     "output_type": "execute_result"
    }
   ],
   "source": [
    "full_select_results"
   ]
  },
  {
   "cell_type": "code",
   "execution_count": 53,
   "metadata": {
    "execution": {
     "iopub.execute_input": "2024-02-11T11:46:55.468058Z",
     "iopub.status.busy": "2024-02-11T11:46:55.467830Z",
     "iopub.status.idle": "2024-02-11T11:46:55.469634Z",
     "shell.execute_reply": "2024-02-11T11:46:55.469387Z"
    }
   },
   "outputs": [],
   "source": [
    "pd.reset_option('display.max_rows')"
   ]
  },
  {
   "cell_type": "markdown",
   "metadata": {},
   "source": [
    "### Evaluation"
   ]
  },
  {
   "cell_type": "markdown",
   "metadata": {},
   "source": [
    "A few things to note here:\n",
    "\n",
    "- Many of the issues are due to the food_id join rather than the selection"
   ]
  },
  {
   "cell_type": "code",
   "execution_count": 54,
   "metadata": {
    "execution": {
     "iopub.execute_input": "2024-02-11T11:46:55.470847Z",
     "iopub.status.busy": "2024-02-11T11:46:55.470678Z",
     "iopub.status.idle": "2024-02-11T11:46:55.472387Z",
     "shell.execute_reply": "2024-02-11T11:46:55.472142Z"
    }
   },
   "outputs": [],
   "source": [
    "issue_list = [\n",
    "    ((894410,\t7\t), [\"USDA\", \"DTU\"])\n",
    "]"
   ]
  },
  {
   "cell_type": "markdown",
   "metadata": {},
   "source": [
    "### Evaluation"
   ]
  },
  {
   "cell_type": "code",
   "execution_count": 55,
   "metadata": {
    "execution": {
     "iopub.execute_input": "2024-02-11T11:46:55.473556Z",
     "iopub.status.busy": "2024-02-11T11:46:55.473387Z",
     "iopub.status.idle": "2024-02-11T11:46:55.480824Z",
     "shell.execute_reply": "2024-02-11T11:46:55.480560Z"
    }
   },
   "outputs": [
    {
     "data": {
      "text/html": [
       "<div>\n",
       "<style scoped>\n",
       "    .dataframe tbody tr th:only-of-type {\n",
       "        vertical-align: middle;\n",
       "    }\n",
       "\n",
       "    .dataframe tbody tr th {\n",
       "        vertical-align: top;\n",
       "    }\n",
       "\n",
       "    .dataframe thead th {\n",
       "        text-align: right;\n",
       "    }\n",
       "</style>\n",
       "<table border=\"1\" class=\"dataframe\">\n",
       "  <thead>\n",
       "    <tr style=\"text-align: right;\">\n",
       "      <th></th>\n",
       "      <th></th>\n",
       "      <th>ingredient_name</th>\n",
       "      <th>food_df_name</th>\n",
       "      <th>USDA</th>\n",
       "      <th>DUKE</th>\n",
       "      <th>PHENOL EXPLORER</th>\n",
       "      <th>DTU</th>\n",
       "      <th>issue_col</th>\n",
       "    </tr>\n",
       "    <tr>\n",
       "      <th>recipe</th>\n",
       "      <th>ingredient</th>\n",
       "      <th></th>\n",
       "      <th></th>\n",
       "      <th></th>\n",
       "      <th></th>\n",
       "      <th></th>\n",
       "      <th></th>\n",
       "      <th></th>\n",
       "    </tr>\n",
       "  </thead>\n",
       "  <tbody>\n",
       "    <tr>\n",
       "      <th>894410</th>\n",
       "      <th>7</th>\n",
       "      <td>lime juice</td>\n",
       "      <td>lime</td>\n",
       "      <td>lime juice raw</td>\n",
       "      <td>lime</td>\n",
       "      <td>lime pure juice</td>\n",
       "      <td>lime raw</td>\n",
       "      <td>[USDA, DTU]</td>\n",
       "    </tr>\n",
       "  </tbody>\n",
       "</table>\n",
       "</div>"
      ],
      "text/plain": [
       "                  ingredient_name food_df_name            USDA  DUKE  \\\n",
       "recipe ingredient                                                      \n",
       "894410 7               lime juice         lime  lime juice raw  lime   \n",
       "\n",
       "                   PHENOL EXPLORER       DTU    issue_col  \n",
       "recipe ingredient                                          \n",
       "894410 7           lime pure juice  lime raw  [USDA, DTU]  "
      ]
     },
     "execution_count": 55,
     "metadata": {},
     "output_type": "execute_result"
    }
   ],
   "source": [
    "selected_issue_df = full_select_results.loc[list(list(zip(*issue_list))[0])]\n",
    "selected_issue_df['issue_col'] = list(list(zip(*issue_list))[1])\n",
    "selected_issue_df"
   ]
  },
  {
   "cell_type": "code",
   "execution_count": 56,
   "metadata": {
    "execution": {
     "iopub.execute_input": "2024-02-11T11:46:55.482168Z",
     "iopub.status.busy": "2024-02-11T11:46:55.481971Z",
     "iopub.status.idle": "2024-02-11T11:46:55.483774Z",
     "shell.execute_reply": "2024-02-11T11:46:55.483529Z"
    }
   },
   "outputs": [],
   "source": [
    "pd.set_option('display.max_rows', None)\n",
    "pd.set_option('display.max_colwidth', 20)"
   ]
  },
  {
   "cell_type": "code",
   "execution_count": 57,
   "metadata": {
    "execution": {
     "iopub.execute_input": "2024-02-11T11:46:55.485010Z",
     "iopub.status.busy": "2024-02-11T11:46:55.484811Z",
     "iopub.status.idle": "2024-02-11T11:46:55.500264Z",
     "shell.execute_reply": "2024-02-11T11:46:55.500043Z"
    }
   },
   "outputs": [],
   "source": [
    "output = []\n",
    "for search_col in ['USDA', 'DUKE', 'PHENOL EXPLORER', 'DTU']:\n",
    "    df = selected_issue_df[selected_issue_df['issue_col'].apply(lambda x: search_col in x)]\n",
    "    df = df.drop([c for c in ['USDA', 'DUKE', 'PHENOL EXPLORER', 'DTU'] if c != search_col], axis=1)\n",
    "    selected_unique_orig_foods = unique_orig_foods[unique_orig_foods.index.get_level_values(1) == search_col]\n",
    "    output.append(df.join(food_ids).reset_index().merge(unique_orig_foods[['orig_food_common_name']], on=['food_id']).drop(['food_id', 'issue_col'], axis=1))"
   ]
  },
  {
   "cell_type": "code",
   "execution_count": 58,
   "metadata": {
    "execution": {
     "iopub.execute_input": "2024-02-11T11:46:55.501368Z",
     "iopub.status.busy": "2024-02-11T11:46:55.501192Z",
     "iopub.status.idle": "2024-02-11T11:46:55.504688Z",
     "shell.execute_reply": "2024-02-11T11:46:55.504411Z"
    }
   },
   "outputs": [
    {
     "data": {
      "text/html": [
       "<div>\n",
       "<style scoped>\n",
       "    .dataframe tbody tr th:only-of-type {\n",
       "        vertical-align: middle;\n",
       "    }\n",
       "\n",
       "    .dataframe tbody tr th {\n",
       "        vertical-align: top;\n",
       "    }\n",
       "\n",
       "    .dataframe thead th {\n",
       "        text-align: right;\n",
       "    }\n",
       "</style>\n",
       "<table border=\"1\" class=\"dataframe\">\n",
       "  <thead>\n",
       "    <tr style=\"text-align: right;\">\n",
       "      <th></th>\n",
       "      <th>recipe</th>\n",
       "      <th>ingredient</th>\n",
       "      <th>ingredient_name</th>\n",
       "      <th>food_df_name</th>\n",
       "      <th>DTU</th>\n",
       "      <th>orig_food_common_name</th>\n",
       "    </tr>\n",
       "  </thead>\n",
       "  <tbody>\n",
       "    <tr>\n",
       "      <th>0</th>\n",
       "      <td>894410</td>\n",
       "      <td>7</td>\n",
       "      <td>lime juice</td>\n",
       "      <td>lime</td>\n",
       "      <td>lime raw</td>\n",
       "      <td>lime raw</td>\n",
       "    </tr>\n",
       "    <tr>\n",
       "      <th>1</th>\n",
       "      <td>894410</td>\n",
       "      <td>7</td>\n",
       "      <td>lime juice</td>\n",
       "      <td>lime</td>\n",
       "      <td>lime raw</td>\n",
       "      <td>lime juice raw</td>\n",
       "    </tr>\n",
       "    <tr>\n",
       "      <th>2</th>\n",
       "      <td>894410</td>\n",
       "      <td>7</td>\n",
       "      <td>lime juice</td>\n",
       "      <td>lime</td>\n",
       "      <td>lime raw</td>\n",
       "      <td>lime raw</td>\n",
       "    </tr>\n",
       "    <tr>\n",
       "      <th>3</th>\n",
       "      <td>894410</td>\n",
       "      <td>7</td>\n",
       "      <td>lime juice</td>\n",
       "      <td>lime</td>\n",
       "      <td>lime raw</td>\n",
       "      <td>lime juice canne...</td>\n",
       "    </tr>\n",
       "    <tr>\n",
       "      <th>4</th>\n",
       "      <td>894410</td>\n",
       "      <td>7</td>\n",
       "      <td>lime juice</td>\n",
       "      <td>lime</td>\n",
       "      <td>lime raw</td>\n",
       "      <td>lime</td>\n",
       "    </tr>\n",
       "    <tr>\n",
       "      <th>5</th>\n",
       "      <td>894410</td>\n",
       "      <td>7</td>\n",
       "      <td>lime juice</td>\n",
       "      <td>lime</td>\n",
       "      <td>lime raw</td>\n",
       "      <td>lime</td>\n",
       "    </tr>\n",
       "    <tr>\n",
       "      <th>6</th>\n",
       "      <td>894410</td>\n",
       "      <td>7</td>\n",
       "      <td>lime juice</td>\n",
       "      <td>lime</td>\n",
       "      <td>lime raw</td>\n",
       "      <td></td>\n",
       "    </tr>\n",
       "    <tr>\n",
       "      <th>7</th>\n",
       "      <td>894410</td>\n",
       "      <td>7</td>\n",
       "      <td>lime juice</td>\n",
       "      <td>lime</td>\n",
       "      <td>lime raw</td>\n",
       "      <td>lipid arabidopsi...</td>\n",
       "    </tr>\n",
       "    <tr>\n",
       "      <th>8</th>\n",
       "      <td>894410</td>\n",
       "      <td>7</td>\n",
       "      <td>lime juice</td>\n",
       "      <td>lime</td>\n",
       "      <td>lime raw</td>\n",
       "      <td>lime pure juice</td>\n",
       "    </tr>\n",
       "  </tbody>\n",
       "</table>\n",
       "</div>"
      ],
      "text/plain": [
       "   recipe  ingredient ingredient_name food_df_name       DTU  \\\n",
       "0  894410           7      lime juice         lime  lime raw   \n",
       "1  894410           7      lime juice         lime  lime raw   \n",
       "2  894410           7      lime juice         lime  lime raw   \n",
       "3  894410           7      lime juice         lime  lime raw   \n",
       "4  894410           7      lime juice         lime  lime raw   \n",
       "5  894410           7      lime juice         lime  lime raw   \n",
       "6  894410           7      lime juice         lime  lime raw   \n",
       "7  894410           7      lime juice         lime  lime raw   \n",
       "8  894410           7      lime juice         lime  lime raw   \n",
       "\n",
       "  orig_food_common_name  \n",
       "0             lime raw   \n",
       "1       lime juice raw   \n",
       "2             lime raw   \n",
       "3  lime juice canne...   \n",
       "4                 lime   \n",
       "5                 lime   \n",
       "6                        \n",
       "7  lipid arabidopsi...   \n",
       "8      lime pure juice   "
      ]
     },
     "execution_count": 58,
     "metadata": {},
     "output_type": "execute_result"
    }
   ],
   "source": [
    "output[3]"
   ]
  },
  {
   "cell_type": "code",
   "execution_count": 59,
   "metadata": {
    "execution": {
     "iopub.execute_input": "2024-02-11T11:46:55.505761Z",
     "iopub.status.busy": "2024-02-11T11:46:55.505638Z",
     "iopub.status.idle": "2024-02-11T11:46:55.507028Z",
     "shell.execute_reply": "2024-02-11T11:46:55.506842Z"
    }
   },
   "outputs": [],
   "source": [
    "pd.reset_option('display.max_rows')"
   ]
  },
  {
   "cell_type": "markdown",
   "metadata": {},
   "source": [
    "Overall these look very solid. We have a way of visualising what went wrong in the selection process, and are happy with the results."
   ]
  },
  {
   "cell_type": "markdown",
   "metadata": {},
   "source": [
    "# Averaging Duplicate Content Values"
   ]
  },
  {
   "cell_type": "code",
   "execution_count": 60,
   "metadata": {
    "execution": {
     "iopub.execute_input": "2024-02-11T11:46:55.508154Z",
     "iopub.status.busy": "2024-02-11T11:46:55.508039Z",
     "iopub.status.idle": "2024-02-11T11:46:55.547527Z",
     "shell.execute_reply": "2024-02-11T11:46:55.547217Z"
    }
   },
   "outputs": [],
   "source": [
    "#| export\n",
    "all_compounds = pd.Series(pd.NA, index=content_df.index.get_level_values(3).unique())\n",
    "\n",
    "def calculate_content_averages(matched_content_df, full_content_series):\n",
    "    mean_content = matched_content_df['concentration'].groupby('source_id').mean()\n",
    "    return full_content_series.fillna(mean_content)"
   ]
  },
  {
   "cell_type": "code",
   "execution_count": 61,
   "metadata": {
    "execution": {
     "iopub.execute_input": "2024-02-11T11:46:55.549120Z",
     "iopub.status.busy": "2024-02-11T11:46:55.549012Z",
     "iopub.status.idle": "2024-02-11T11:46:55.554814Z",
     "shell.execute_reply": "2024-02-11T11:46:55.554596Z"
    }
   },
   "outputs": [
    {
     "data": {
      "text/html": [
       "<div>\n",
       "<style scoped>\n",
       "    .dataframe tbody tr th:only-of-type {\n",
       "        vertical-align: middle;\n",
       "    }\n",
       "\n",
       "    .dataframe tbody tr th {\n",
       "        vertical-align: top;\n",
       "    }\n",
       "\n",
       "    .dataframe thead th {\n",
       "        text-align: right;\n",
       "    }\n",
       "</style>\n",
       "<table border=\"1\" class=\"dataframe\">\n",
       "  <thead>\n",
       "    <tr style=\"text-align: right;\">\n",
       "      <th></th>\n",
       "      <th></th>\n",
       "      <th></th>\n",
       "      <th>food_name</th>\n",
       "      <th>source_name</th>\n",
       "      <th>concentration</th>\n",
       "      <th>orig_citation</th>\n",
       "      <th>orig_food_common_name</th>\n",
       "      <th>orig_food_part</th>\n",
       "    </tr>\n",
       "    <tr>\n",
       "      <th>citation</th>\n",
       "      <th>unique_food_id</th>\n",
       "      <th>source_id</th>\n",
       "      <th></th>\n",
       "      <th></th>\n",
       "      <th></th>\n",
       "      <th></th>\n",
       "      <th></th>\n",
       "      <th></th>\n",
       "    </tr>\n",
       "  </thead>\n",
       "  <tbody>\n",
       "    <tr>\n",
       "      <th rowspan=\"5\" valign=\"top\">DTU</th>\n",
       "      <th rowspan=\"5\" valign=\"top\">0.0</th>\n",
       "      <th>446</th>\n",
       "      <td>lime</td>\n",
       "      <td>L-Tyrosine</td>\n",
       "      <td>0.0</td>\n",
       "      <td>&lt;NA&gt;</td>\n",
       "      <td>lime raw</td>\n",
       "      <td>&lt;NA&gt;</td>\n",
       "    </tr>\n",
       "    <tr>\n",
       "      <th>446</th>\n",
       "      <td>lime</td>\n",
       "      <td>L-Tyrosine</td>\n",
       "      <td>0.0</td>\n",
       "      <td>&lt;NA&gt;</td>\n",
       "      <td>lime raw</td>\n",
       "      <td>&lt;NA&gt;</td>\n",
       "    </tr>\n",
       "    <tr>\n",
       "      <th>474</th>\n",
       "      <td>lime</td>\n",
       "      <td>L-Lysine</td>\n",
       "      <td>13.0</td>\n",
       "      <td>&lt;NA&gt;</td>\n",
       "      <td>lime raw</td>\n",
       "      <td>&lt;NA&gt;</td>\n",
       "    </tr>\n",
       "    <tr>\n",
       "      <th>484</th>\n",
       "      <td>lime</td>\n",
       "      <td>Glycine</td>\n",
       "      <td>0.0</td>\n",
       "      <td>&lt;NA&gt;</td>\n",
       "      <td>lime raw</td>\n",
       "      <td>&lt;NA&gt;</td>\n",
       "    </tr>\n",
       "    <tr>\n",
       "      <th>556</th>\n",
       "      <td>lime</td>\n",
       "      <td>L-Alanine</td>\n",
       "      <td>0.0</td>\n",
       "      <td>&lt;NA&gt;</td>\n",
       "      <td>lime raw</td>\n",
       "      <td>&lt;NA&gt;</td>\n",
       "    </tr>\n",
       "  </tbody>\n",
       "</table>\n",
       "</div>"
      ],
      "text/plain": [
       "                                  food_name source_name  concentration  \\\n",
       "citation unique_food_id source_id                                        \n",
       "DTU      0.0            446            lime  L-Tyrosine            0.0   \n",
       "                        446            lime  L-Tyrosine            0.0   \n",
       "                        474            lime    L-Lysine           13.0   \n",
       "                        484            lime     Glycine            0.0   \n",
       "                        556            lime   L-Alanine            0.0   \n",
       "\n",
       "                                  orig_citation orig_food_common_name  \\\n",
       "citation unique_food_id source_id                                       \n",
       "DTU      0.0            446                <NA>             lime raw    \n",
       "                        446                <NA>             lime raw    \n",
       "                        474                <NA>             lime raw    \n",
       "                        484                <NA>             lime raw    \n",
       "                        556                <NA>             lime raw    \n",
       "\n",
       "                                  orig_food_part  \n",
       "citation unique_food_id source_id                 \n",
       "DTU      0.0            446                 <NA>  \n",
       "                        446                 <NA>  \n",
       "                        474                 <NA>  \n",
       "                        484                 <NA>  \n",
       "                        556                 <NA>  "
      ]
     },
     "execution_count": 61,
     "metadata": {},
     "output_type": "execute_result"
    }
   ],
   "source": [
    "matched_content_df = content_df.loc[food_ids.loc[ingredient.name].iloc[0]]\n",
    "matched_content_df.head()"
   ]
  },
  {
   "cell_type": "code",
   "execution_count": 62,
   "metadata": {
    "execution": {
     "iopub.execute_input": "2024-02-11T11:46:55.556031Z",
     "iopub.status.busy": "2024-02-11T11:46:55.555869Z",
     "iopub.status.idle": "2024-02-11T11:46:55.583112Z",
     "shell.execute_reply": "2024-02-11T11:46:55.582700Z"
    }
   },
   "outputs": [
    {
     "data": {
      "text/plain": [
       "source_id\n",
       "446      0.666667\n",
       "474        27.375\n",
       "484           5.5\n",
       "556          12.0\n",
       "565         0.056\n",
       "           ...   \n",
       "20009         2.0\n",
       "2679          0.0\n",
       "11869         0.0\n",
       "16554    5.445714\n",
       "16555    0.355714\n",
       "Length: 184, dtype: object"
      ]
     },
     "execution_count": 62,
     "metadata": {},
     "output_type": "execute_result"
    }
   ],
   "source": [
    "content_averages = calculate_content_averages(matched_content_df[['concentration']], all_compounds)\n",
    "content_averages[content_averages.notnull()]"
   ]
  },
  {
   "cell_type": "code",
   "execution_count": 63,
   "metadata": {
    "execution": {
     "iopub.execute_input": "2024-02-11T11:46:55.584334Z",
     "iopub.status.busy": "2024-02-11T11:46:55.584149Z",
     "iopub.status.idle": "2024-02-11T11:46:55.586684Z",
     "shell.execute_reply": "2024-02-11T11:46:55.586499Z"
    }
   },
   "outputs": [
    {
     "data": {
      "text/plain": [
       "source_id\n",
       "446      0.666667\n",
       "474        27.375\n",
       "484           5.5\n",
       "556          12.0\n",
       "565         0.056\n",
       "           ...   \n",
       "20009         2.0\n",
       "2679          0.0\n",
       "11869         0.0\n",
       "16554    5.445714\n",
       "16555    0.355714\n",
       "Length: 184, dtype: object"
      ]
     },
     "execution_count": 63,
     "metadata": {},
     "output_type": "execute_result"
    }
   ],
   "source": [
    "content_averages[content_averages.notna()]"
   ]
  },
  {
   "cell_type": "code",
   "execution_count": 64,
   "metadata": {
    "execution": {
     "iopub.execute_input": "2024-02-11T11:46:55.587822Z",
     "iopub.status.busy": "2024-02-11T11:46:55.587697Z",
     "iopub.status.idle": "2024-02-11T11:46:55.590030Z",
     "shell.execute_reply": "2024-02-11T11:46:55.589835Z"
    }
   },
   "outputs": [],
   "source": [
    "assert matched_content_df[matched_content_df['concentration'].notna()].index.get_level_values(2).nunique() == len(content_averages[content_averages.notna()])"
   ]
  },
  {
   "cell_type": "code",
   "execution_count": 65,
   "metadata": {
    "execution": {
     "iopub.execute_input": "2024-02-11T11:46:55.591125Z",
     "iopub.status.busy": "2024-02-11T11:46:55.591001Z",
     "iopub.status.idle": "2024-02-11T11:46:55.593933Z",
     "shell.execute_reply": "2024-02-11T11:46:55.593751Z"
    }
   },
   "outputs": [
    {
     "data": {
      "text/plain": [
       "name.name.nouns.0    lime\n",
       "food_id              53.0\n",
       "Name: (894410, 9), dtype: object"
      ]
     },
     "execution_count": 65,
     "metadata": {},
     "output_type": "execute_result"
    }
   ],
   "source": [
    "df = expanded_ingredients_df.join(food_ids)\n",
    "ingredient = df.loc[894410,\t9]\n",
    "ingredient[ingredient.notnull()]"
   ]
  },
  {
   "cell_type": "code",
   "execution_count": 66,
   "metadata": {
    "execution": {
     "iopub.execute_input": "2024-02-11T11:46:55.595011Z",
     "iopub.status.busy": "2024-02-11T11:46:55.594892Z",
     "iopub.status.idle": "2024-02-11T11:46:55.599872Z",
     "shell.execute_reply": "2024-02-11T11:46:55.599680Z"
    }
   },
   "outputs": [
    {
     "name": "stderr",
     "output_type": "stream",
     "text": [
      "/tmp/ipykernel_6424/4244809645.py:1: PerformanceWarning: indexing past lexsort depth may impact performance.\n",
      "  matched_content_df.loc[('DTU', 0)]\n"
     ]
    },
    {
     "data": {
      "text/html": [
       "<div>\n",
       "<style scoped>\n",
       "    .dataframe tbody tr th:only-of-type {\n",
       "        vertical-align: middle;\n",
       "    }\n",
       "\n",
       "    .dataframe tbody tr th {\n",
       "        vertical-align: top;\n",
       "    }\n",
       "\n",
       "    .dataframe thead th {\n",
       "        text-align: right;\n",
       "    }\n",
       "</style>\n",
       "<table border=\"1\" class=\"dataframe\">\n",
       "  <thead>\n",
       "    <tr style=\"text-align: right;\">\n",
       "      <th></th>\n",
       "      <th>food_name</th>\n",
       "      <th>source_name</th>\n",
       "      <th>concentration</th>\n",
       "      <th>orig_citation</th>\n",
       "      <th>orig_food_common_name</th>\n",
       "      <th>orig_food_part</th>\n",
       "    </tr>\n",
       "    <tr>\n",
       "      <th>source_id</th>\n",
       "      <th></th>\n",
       "      <th></th>\n",
       "      <th></th>\n",
       "      <th></th>\n",
       "      <th></th>\n",
       "      <th></th>\n",
       "    </tr>\n",
       "  </thead>\n",
       "  <tbody>\n",
       "    <tr>\n",
       "      <th>446</th>\n",
       "      <td>lime</td>\n",
       "      <td>L-Tyrosine</td>\n",
       "      <td>0.0</td>\n",
       "      <td>&lt;NA&gt;</td>\n",
       "      <td>lime raw</td>\n",
       "      <td>&lt;NA&gt;</td>\n",
       "    </tr>\n",
       "    <tr>\n",
       "      <th>446</th>\n",
       "      <td>lime</td>\n",
       "      <td>L-Tyrosine</td>\n",
       "      <td>0.0</td>\n",
       "      <td>&lt;NA&gt;</td>\n",
       "      <td>lime raw</td>\n",
       "      <td>&lt;NA&gt;</td>\n",
       "    </tr>\n",
       "    <tr>\n",
       "      <th>474</th>\n",
       "      <td>lime</td>\n",
       "      <td>L-Lysine</td>\n",
       "      <td>13.0</td>\n",
       "      <td>&lt;NA&gt;</td>\n",
       "      <td>lime raw</td>\n",
       "      <td>&lt;NA&gt;</td>\n",
       "    </tr>\n",
       "    <tr>\n",
       "      <th>484</th>\n",
       "      <td>lime</td>\n",
       "      <td>Glycine</td>\n",
       "      <td>0.0</td>\n",
       "      <td>&lt;NA&gt;</td>\n",
       "      <td>lime raw</td>\n",
       "      <td>&lt;NA&gt;</td>\n",
       "    </tr>\n",
       "    <tr>\n",
       "      <th>556</th>\n",
       "      <td>lime</td>\n",
       "      <td>L-Alanine</td>\n",
       "      <td>0.0</td>\n",
       "      <td>&lt;NA&gt;</td>\n",
       "      <td>lime raw</td>\n",
       "      <td>&lt;NA&gt;</td>\n",
       "    </tr>\n",
       "    <tr>\n",
       "      <th>...</th>\n",
       "      <td>...</td>\n",
       "      <td>...</td>\n",
       "      <td>...</td>\n",
       "      <td>...</td>\n",
       "      <td>...</td>\n",
       "      <td>...</td>\n",
       "    </tr>\n",
       "    <tr>\n",
       "      <th>21950</th>\n",
       "      <td>lime</td>\n",
       "      <td>24,25-Dihydroxyv...</td>\n",
       "      <td>0.0</td>\n",
       "      <td>&lt;NA&gt;</td>\n",
       "      <td>lime raw</td>\n",
       "      <td>&lt;NA&gt;</td>\n",
       "    </tr>\n",
       "    <tr>\n",
       "      <th>21981</th>\n",
       "      <td>lime</td>\n",
       "      <td>C24:0</td>\n",
       "      <td>0.0</td>\n",
       "      <td>&lt;NA&gt;</td>\n",
       "      <td>lime raw</td>\n",
       "      <td>&lt;NA&gt;</td>\n",
       "    </tr>\n",
       "    <tr>\n",
       "      <th>21989</th>\n",
       "      <td>lime</td>\n",
       "      <td>7Z,10Z,13Z,16Z,1...</td>\n",
       "      <td>0.0</td>\n",
       "      <td>&lt;NA&gt;</td>\n",
       "      <td>lime raw</td>\n",
       "      <td>&lt;NA&gt;</td>\n",
       "    </tr>\n",
       "    <tr>\n",
       "      <th>23049</th>\n",
       "      <td>lime</td>\n",
       "      <td>Cobalamin</td>\n",
       "      <td>0.0</td>\n",
       "      <td>&lt;NA&gt;</td>\n",
       "      <td>lime raw</td>\n",
       "      <td>&lt;NA&gt;</td>\n",
       "    </tr>\n",
       "    <tr>\n",
       "      <th>24096</th>\n",
       "      <td>lime</td>\n",
       "      <td>D-Aspartic acid</td>\n",
       "      <td>0.0</td>\n",
       "      <td>&lt;NA&gt;</td>\n",
       "      <td>lime raw</td>\n",
       "      <td>&lt;NA&gt;</td>\n",
       "    </tr>\n",
       "  </tbody>\n",
       "</table>\n",
       "<p>162 rows × 6 columns</p>\n",
       "</div>"
      ],
      "text/plain": [
       "          food_name          source_name  concentration orig_citation  \\\n",
       "source_id                                                               \n",
       "446            lime           L-Tyrosine            0.0          <NA>   \n",
       "446            lime           L-Tyrosine            0.0          <NA>   \n",
       "474            lime             L-Lysine           13.0          <NA>   \n",
       "484            lime              Glycine            0.0          <NA>   \n",
       "556            lime            L-Alanine            0.0          <NA>   \n",
       "...             ...                  ...            ...           ...   \n",
       "21950          lime  24,25-Dihydroxyv...            0.0          <NA>   \n",
       "21981          lime                C24:0            0.0          <NA>   \n",
       "21989          lime  7Z,10Z,13Z,16Z,1...            0.0          <NA>   \n",
       "23049          lime            Cobalamin            0.0          <NA>   \n",
       "24096          lime      D-Aspartic acid            0.0          <NA>   \n",
       "\n",
       "          orig_food_common_name orig_food_part  \n",
       "source_id                                       \n",
       "446                   lime raw            <NA>  \n",
       "446                   lime raw            <NA>  \n",
       "474                   lime raw            <NA>  \n",
       "484                   lime raw            <NA>  \n",
       "556                   lime raw            <NA>  \n",
       "...                        ...             ...  \n",
       "21950                 lime raw            <NA>  \n",
       "21981                 lime raw            <NA>  \n",
       "21989                 lime raw            <NA>  \n",
       "23049                 lime raw            <NA>  \n",
       "24096                 lime raw            <NA>  \n",
       "\n",
       "[162 rows x 6 columns]"
      ]
     },
     "execution_count": 66,
     "metadata": {},
     "output_type": "execute_result"
    }
   ],
   "source": [
    "matched_content_df.loc[('DTU', 0)]"
   ]
  },
  {
   "cell_type": "code",
   "execution_count": 67,
   "metadata": {
    "execution": {
     "iopub.execute_input": "2024-02-11T11:46:55.600885Z",
     "iopub.status.busy": "2024-02-11T11:46:55.600732Z",
     "iopub.status.idle": "2024-02-11T11:46:55.602304Z",
     "shell.execute_reply": "2024-02-11T11:46:55.602111Z"
    }
   },
   "outputs": [],
   "source": [
    "def index_df(df, index):\n",
    "    try:\n",
    "        df = df.loc[index]\n",
    "    except KeyError:\n",
    "        df = pd.DataFrame(columns=df.columns)\n",
    "    return df"
   ]
  },
  {
   "cell_type": "code",
   "execution_count": 68,
   "metadata": {
    "execution": {
     "iopub.execute_input": "2024-02-11T11:46:55.603168Z",
     "iopub.status.busy": "2024-02-11T11:46:55.603032Z",
     "iopub.status.idle": "2024-02-11T11:46:55.605328Z",
     "shell.execute_reply": "2024-02-11T11:46:55.605136Z"
    }
   },
   "outputs": [],
   "source": [
    "def get_ingredient_contents(ingredient, duplicate_content_df, non_duplicate_content_df, all_compounds, unique_orig_foods):\n",
    "\n",
    "    food_id = ingredient['food_id']\n",
    "    if pd.isnull(food_id): return pd.NA\n",
    "    ingredient = ingredient.drop('food_id')\n",
    "\n",
    "    matched_non_duplicate_content_df = index_df(non_duplicate_content_df, food_id)\n",
    "    matched_duplicate_content_df = index_df(duplicate_content_df, food_id)\n",
    "    matched_unique_orig_foods = index_df(unique_orig_foods, food_id)\n",
    "\n",
    "    if not matched_unique_orig_foods.empty:\n",
    "        selected_idxs = select_from_orig_foods(matched_unique_orig_foods, ingredient, matched_duplicate_content_df, return_full_index=False)    \n",
    "        selected_matched_content_df = matched_duplicate_content_df.reset_index(2).loc[list(selected_idxs.items())].set_index('source_id', append=True)\n",
    "        if not matched_non_duplicate_content_df.empty:\n",
    "            selected_matched_content_df = pd.concat([selected_matched_content_df, matched_non_duplicate_content_df])\n",
    "    else:\n",
    "        selected_matched_content_df = matched_non_duplicate_content_df\n",
    "\n",
    "    content_averages = calculate_content_averages(selected_matched_content_df, all_compounds)\n",
    "    \n",
    "    return content_averages"
   ]
  },
  {
   "cell_type": "code",
   "execution_count": 69,
   "metadata": {
    "execution": {
     "iopub.execute_input": "2024-02-11T11:46:55.606122Z",
     "iopub.status.busy": "2024-02-11T11:46:55.606046Z",
     "iopub.status.idle": "2024-02-11T11:46:56.227079Z",
     "shell.execute_reply": "2024-02-11T11:46:56.226708Z"
    }
   },
   "outputs": [],
   "source": [
    "duplicate_content_df = content_df[content_df.index.get_level_values(1).isin(duplicate_citations)]\n",
    "non_duplicate_content_df = content_df[~content_df.index.get_level_values(1).isin(duplicate_citations)]"
   ]
  },
  {
   "cell_type": "code",
   "execution_count": 70,
   "metadata": {
    "execution": {
     "iopub.execute_input": "2024-02-11T11:46:56.228638Z",
     "iopub.status.busy": "2024-02-11T11:46:56.228547Z",
     "iopub.status.idle": "2024-02-11T11:46:56.289968Z",
     "shell.execute_reply": "2024-02-11T11:46:56.289501Z"
    }
   },
   "outputs": [],
   "source": [
    "content_averages = get_ingredient_contents(ingredient, duplicate_content_df[['concentration']], non_duplicate_content_df[['concentration']], all_compounds, unique_orig_foods)"
   ]
  },
  {
   "cell_type": "markdown",
   "metadata": {},
   "source": [
    "Note: the most computationally efficient method of doing this is splitting the content_df by citations which do contain duplicate foods, and those that don't. "
   ]
  },
  {
   "cell_type": "code",
   "execution_count": 71,
   "metadata": {
    "execution": {
     "iopub.execute_input": "2024-02-11T11:46:56.291569Z",
     "iopub.status.busy": "2024-02-11T11:46:56.291477Z",
     "iopub.status.idle": "2024-02-11T11:46:56.294531Z",
     "shell.execute_reply": "2024-02-11T11:46:56.294336Z"
    }
   },
   "outputs": [
    {
     "data": {
      "text/plain": [
       "source_id\n",
       "446            0.0\n",
       "474      31.166667\n",
       "484            0.0\n",
       "556            0.0\n",
       "565       0.036667\n",
       "           ...    \n",
       "15976          7.0\n",
       "15977          7.0\n",
       "17350          2.0\n",
       "19882          1.0\n",
       "20009          2.0\n",
       "Length: 169, dtype: object"
      ]
     },
     "execution_count": 71,
     "metadata": {},
     "output_type": "execute_result"
    }
   ],
   "source": [
    "content_averages[content_averages.notna()]"
   ]
  },
  {
   "cell_type": "code",
   "execution_count": 72,
   "metadata": {
    "execution": {
     "iopub.execute_input": "2024-02-11T11:46:56.295892Z",
     "iopub.status.busy": "2024-02-11T11:46:56.295729Z",
     "iopub.status.idle": "2024-02-11T11:48:19.532811Z",
     "shell.execute_reply": "2024-02-11T11:48:19.532452Z"
    }
   },
   "outputs": [
    {
     "name": "stderr",
     "output_type": "stream",
     "text": [
      "\r",
      "  0%|                                                                                                                                                                                                                                                | 0/2450 [00:00<?, ?it/s]"
     ]
    },
    {
     "name": "stderr",
     "output_type": "stream",
     "text": [
      "\r",
      "  0%|▋                                                                                                                                                                                                                                       | 7/2450 [00:00<00:39, 61.11it/s]"
     ]
    },
    {
     "name": "stderr",
     "output_type": "stream",
     "text": [
      "\r",
      "  1%|█▎                                                                                                                                                                                                                                     | 14/2450 [00:00<00:44, 55.13it/s]"
     ]
    },
    {
     "name": "stderr",
     "output_type": "stream",
     "text": [
      "\r",
      "  1%|█▉                                                                                                                                                                                                                                     | 20/2450 [00:00<00:46, 52.45it/s]"
     ]
    },
    {
     "name": "stderr",
     "output_type": "stream",
     "text": [
      "\r",
      "  1%|██▍                                                                                                                                                                                                                                    | 26/2450 [00:00<00:47, 51.08it/s]"
     ]
    },
    {
     "name": "stderr",
     "output_type": "stream",
     "text": [
      "\r",
      "  1%|███                                                                                                                                                                                                                                    | 33/2450 [00:00<00:44, 54.76it/s]"
     ]
    },
    {
     "name": "stderr",
     "output_type": "stream",
     "text": [
      "\r",
      "  2%|███▋                                                                                                                                                                                                                                   | 39/2450 [00:00<00:45, 53.51it/s]"
     ]
    },
    {
     "name": "stderr",
     "output_type": "stream",
     "text": [
      "\r",
      "  2%|████▏                                                                                                                                                                                                                                  | 45/2450 [00:00<00:46, 52.24it/s]"
     ]
    },
    {
     "name": "stderr",
     "output_type": "stream",
     "text": [
      "\r",
      "  2%|████▊                                                                                                                                                                                                                                  | 51/2450 [00:00<00:47, 50.61it/s]"
     ]
    },
    {
     "name": "stderr",
     "output_type": "stream",
     "text": [
      "\r",
      "  2%|█████▎                                                                                                                                                                                                                                 | 57/2450 [00:01<00:50, 47.11it/s]"
     ]
    },
    {
     "name": "stderr",
     "output_type": "stream",
     "text": [
      "\r",
      "  3%|█████▉                                                                                                                                                                                                                                 | 63/2450 [00:01<00:49, 48.49it/s]"
     ]
    },
    {
     "name": "stderr",
     "output_type": "stream",
     "text": [
      "\r",
      "  3%|██████▍                                                                                                                                                                                                                                | 68/2450 [00:01<00:58, 40.68it/s]"
     ]
    },
    {
     "name": "stderr",
     "output_type": "stream",
     "text": [
      "\r",
      "  3%|██████▉                                                                                                                                                                                                                                | 73/2450 [00:01<00:55, 42.61it/s]"
     ]
    },
    {
     "name": "stderr",
     "output_type": "stream",
     "text": [
      "\r",
      "  3%|███████▍                                                                                                                                                                                                                               | 79/2450 [00:01<00:53, 44.65it/s]"
     ]
    },
    {
     "name": "stderr",
     "output_type": "stream",
     "text": [
      "\r",
      "  3%|████████                                                                                                                                                                                                                               | 85/2450 [00:01<00:50, 46.69it/s]"
     ]
    },
    {
     "name": "stderr",
     "output_type": "stream",
     "text": [
      "\r",
      "  4%|████████▍                                                                                                                                                                                                                              | 90/2450 [00:01<01:00, 38.83it/s]"
     ]
    },
    {
     "name": "stderr",
     "output_type": "stream",
     "text": [
      "\r",
      "  4%|█████████                                                                                                                                                                                                                              | 96/2450 [00:02<00:55, 42.70it/s]"
     ]
    },
    {
     "name": "stderr",
     "output_type": "stream",
     "text": [
      "\r",
      "  4%|█████████▌                                                                                                                                                                                                                            | 102/2450 [00:02<00:52, 44.65it/s]"
     ]
    },
    {
     "name": "stderr",
     "output_type": "stream",
     "text": [
      "\r",
      "  4%|██████████▏                                                                                                                                                                                                                           | 108/2450 [00:02<00:50, 45.99it/s]"
     ]
    },
    {
     "name": "stderr",
     "output_type": "stream",
     "text": [
      "\r",
      "  5%|██████████▌                                                                                                                                                                                                                           | 113/2450 [00:02<00:52, 44.69it/s]"
     ]
    },
    {
     "name": "stderr",
     "output_type": "stream",
     "text": [
      "\r",
      "  5%|███████████                                                                                                                                                                                                                           | 118/2450 [00:02<01:00, 38.46it/s]"
     ]
    },
    {
     "name": "stderr",
     "output_type": "stream",
     "text": [
      "\r",
      "  5%|███████████▋                                                                                                                                                                                                                          | 124/2450 [00:02<00:54, 42.56it/s]"
     ]
    },
    {
     "name": "stderr",
     "output_type": "stream",
     "text": [
      "\r",
      "  5%|████████████▎                                                                                                                                                                                                                         | 131/2450 [00:02<00:49, 47.14it/s]"
     ]
    },
    {
     "name": "stderr",
     "output_type": "stream",
     "text": [
      "\r",
      "  6%|████████████▊                                                                                                                                                                                                                         | 137/2450 [00:02<00:48, 47.98it/s]"
     ]
    },
    {
     "name": "stderr",
     "output_type": "stream",
     "text": [
      "\r",
      "  6%|█████████████▎                                                                                                                                                                                                                        | 142/2450 [00:03<00:57, 40.34it/s]"
     ]
    },
    {
     "name": "stderr",
     "output_type": "stream",
     "text": [
      "\r",
      "  6%|█████████████▊                                                                                                                                                                                                                        | 147/2450 [00:03<01:03, 36.38it/s]"
     ]
    },
    {
     "name": "stderr",
     "output_type": "stream",
     "text": [
      "\r",
      "  6%|██████████████▎                                                                                                                                                                                                                       | 153/2450 [00:03<01:05, 34.94it/s]"
     ]
    },
    {
     "name": "stderr",
     "output_type": "stream",
     "text": [
      "\r",
      "  6%|██████████████▉                                                                                                                                                                                                                       | 159/2450 [00:03<00:58, 39.24it/s]"
     ]
    },
    {
     "name": "stderr",
     "output_type": "stream",
     "text": [
      "\r",
      "  7%|███████████████▍                                                                                                                                                                                                                      | 165/2450 [00:03<00:53, 42.78it/s]"
     ]
    },
    {
     "name": "stderr",
     "output_type": "stream",
     "text": [
      "\r",
      "  7%|████████████████                                                                                                                                                                                                                      | 171/2450 [00:03<00:50, 44.82it/s]"
     ]
    },
    {
     "name": "stderr",
     "output_type": "stream",
     "text": [
      "\r",
      "  7%|████████████████▌                                                                                                                                                                                                                     | 177/2450 [00:03<00:48, 47.21it/s]"
     ]
    },
    {
     "name": "stderr",
     "output_type": "stream",
     "text": [
      "\r",
      "  7%|█████████████████                                                                                                                                                                                                                     | 182/2450 [00:04<00:47, 47.79it/s]"
     ]
    },
    {
     "name": "stderr",
     "output_type": "stream",
     "text": [
      "\r",
      "  8%|█████████████████▋                                                                                                                                                                                                                    | 188/2450 [00:04<00:45, 49.18it/s]"
     ]
    },
    {
     "name": "stderr",
     "output_type": "stream",
     "text": [
      "\r",
      "  8%|██████████████████▏                                                                                                                                                                                                                   | 194/2450 [00:04<00:47, 47.57it/s]"
     ]
    },
    {
     "name": "stderr",
     "output_type": "stream",
     "text": [
      "\r",
      "  8%|██████████████████▋                                                                                                                                                                                                                   | 199/2450 [00:04<00:47, 47.61it/s]"
     ]
    },
    {
     "name": "stderr",
     "output_type": "stream",
     "text": [
      "\r",
      "  8%|███████████████████▏                                                                                                                                                                                                                  | 204/2450 [00:04<00:56, 39.44it/s]"
     ]
    },
    {
     "name": "stderr",
     "output_type": "stream",
     "text": [
      "\r",
      "  9%|███████████████████▌                                                                                                                                                                                                                  | 209/2450 [00:04<00:54, 40.99it/s]"
     ]
    },
    {
     "name": "stderr",
     "output_type": "stream",
     "text": [
      "\r",
      "  9%|████████████████████                                                                                                                                                                                                                  | 214/2450 [00:04<00:54, 41.23it/s]"
     ]
    },
    {
     "name": "stderr",
     "output_type": "stream",
     "text": [
      "\r",
      "  9%|████████████████████▌                                                                                                                                                                                                                 | 219/2450 [00:04<00:51, 43.14it/s]"
     ]
    },
    {
     "name": "stderr",
     "output_type": "stream",
     "text": [
      "\r",
      "  9%|█████████████████████                                                                                                                                                                                                                 | 224/2450 [00:05<00:50, 44.49it/s]"
     ]
    },
    {
     "name": "stderr",
     "output_type": "stream",
     "text": [
      "\r",
      "  9%|█████████████████████▍                                                                                                                                                                                                                | 229/2450 [00:05<00:48, 45.73it/s]"
     ]
    },
    {
     "name": "stderr",
     "output_type": "stream",
     "text": [
      "\r",
      " 10%|██████████████████████                                                                                                                                                                                                                | 235/2450 [00:05<00:46, 47.32it/s]"
     ]
    },
    {
     "name": "stderr",
     "output_type": "stream",
     "text": [
      "\r",
      " 10%|██████████████████████▌                                                                                                                                                                                                               | 241/2450 [00:05<00:44, 49.27it/s]"
     ]
    },
    {
     "name": "stderr",
     "output_type": "stream",
     "text": [
      "\r",
      " 10%|███████████████████████                                                                                                                                                                                                               | 246/2450 [00:05<00:46, 47.88it/s]"
     ]
    },
    {
     "name": "stderr",
     "output_type": "stream",
     "text": [
      "\r",
      " 10%|███████████████████████▌                                                                                                                                                                                                              | 251/2450 [00:05<00:55, 39.53it/s]"
     ]
    },
    {
     "name": "stderr",
     "output_type": "stream",
     "text": [
      "\r",
      " 10%|████████████████████████▏                                                                                                                                                                                                             | 257/2450 [00:05<00:49, 44.46it/s]"
     ]
    },
    {
     "name": "stderr",
     "output_type": "stream",
     "text": [
      "\r",
      " 11%|████████████████████████▌                                                                                                                                                                                                             | 262/2450 [00:05<00:57, 38.04it/s]"
     ]
    },
    {
     "name": "stderr",
     "output_type": "stream",
     "text": [
      "\r",
      " 11%|█████████████████████████                                                                                                                                                                                                             | 267/2450 [00:06<00:54, 39.89it/s]"
     ]
    },
    {
     "name": "stderr",
     "output_type": "stream",
     "text": [
      "\r",
      " 11%|█████████████████████████▌                                                                                                                                                                                                            | 272/2450 [00:06<00:51, 42.15it/s]"
     ]
    },
    {
     "name": "stderr",
     "output_type": "stream",
     "text": [
      "\r",
      " 11%|██████████████████████████                                                                                                                                                                                                            | 278/2450 [00:06<00:47, 45.90it/s]"
     ]
    },
    {
     "name": "stderr",
     "output_type": "stream",
     "text": [
      "\r",
      " 12%|██████████████████████████▋                                                                                                                                                                                                           | 284/2450 [00:06<00:45, 47.82it/s]"
     ]
    },
    {
     "name": "stderr",
     "output_type": "stream",
     "text": [
      "\r",
      " 12%|███████████████████████████▏                                                                                                                                                                                                          | 289/2450 [00:06<00:44, 48.06it/s]"
     ]
    },
    {
     "name": "stderr",
     "output_type": "stream",
     "text": [
      "\r",
      " 12%|███████████████████████████▌                                                                                                                                                                                                          | 294/2450 [00:06<00:44, 48.58it/s]"
     ]
    },
    {
     "name": "stderr",
     "output_type": "stream",
     "text": [
      "\r",
      " 12%|████████████████████████████                                                                                                                                                                                                          | 299/2450 [00:06<00:44, 48.00it/s]"
     ]
    },
    {
     "name": "stderr",
     "output_type": "stream",
     "text": [
      "\r",
      " 12%|████████████████████████████▋                                                                                                                                                                                                         | 305/2450 [00:06<00:42, 49.89it/s]"
     ]
    },
    {
     "name": "stderr",
     "output_type": "stream",
     "text": [
      "\r",
      " 13%|█████████████████████████████▏                                                                                                                                                                                                        | 311/2450 [00:06<00:42, 50.80it/s]"
     ]
    },
    {
     "name": "stderr",
     "output_type": "stream",
     "text": [
      "\r",
      " 13%|█████████████████████████████▊                                                                                                                                                                                                        | 317/2450 [00:07<00:50, 42.55it/s]"
     ]
    },
    {
     "name": "stderr",
     "output_type": "stream",
     "text": [
      "\r",
      " 13%|██████████████████████████████▎                                                                                                                                                                                                       | 323/2450 [00:07<00:47, 44.87it/s]"
     ]
    },
    {
     "name": "stderr",
     "output_type": "stream",
     "text": [
      "\r",
      " 13%|██████████████████████████████▉                                                                                                                                                                                                       | 329/2450 [00:07<00:45, 46.82it/s]"
     ]
    },
    {
     "name": "stderr",
     "output_type": "stream",
     "text": [
      "\r",
      " 14%|███████████████████████████████▍                                                                                                                                                                                                      | 335/2450 [00:07<00:44, 48.02it/s]"
     ]
    },
    {
     "name": "stderr",
     "output_type": "stream",
     "text": [
      "\r",
      " 14%|████████████████████████████████                                                                                                                                                                                                      | 341/2450 [00:07<00:42, 50.05it/s]"
     ]
    },
    {
     "name": "stderr",
     "output_type": "stream",
     "text": [
      "\r",
      " 14%|████████████████████████████████▌                                                                                                                                                                                                     | 347/2450 [00:07<00:50, 41.80it/s]"
     ]
    },
    {
     "name": "stderr",
     "output_type": "stream",
     "text": [
      "\r",
      " 14%|█████████████████████████████████▏                                                                                                                                                                                                    | 353/2450 [00:07<00:46, 45.10it/s]"
     ]
    },
    {
     "name": "stderr",
     "output_type": "stream",
     "text": [
      "\r",
      " 15%|█████████████████████████████████▌                                                                                                                                                                                                    | 358/2450 [00:07<00:49, 42.56it/s]"
     ]
    },
    {
     "name": "stderr",
     "output_type": "stream",
     "text": [
      "\r",
      " 15%|██████████████████████████████████▏                                                                                                                                                                                                   | 364/2450 [00:08<00:46, 45.05it/s]"
     ]
    },
    {
     "name": "stderr",
     "output_type": "stream",
     "text": [
      "\r",
      " 15%|██████████████████████████████████▋                                                                                                                                                                                                   | 369/2450 [00:08<00:45, 45.92it/s]"
     ]
    },
    {
     "name": "stderr",
     "output_type": "stream",
     "text": [
      "\r",
      " 15%|███████████████████████████████████                                                                                                                                                                                                   | 374/2450 [00:08<00:44, 46.52it/s]"
     ]
    },
    {
     "name": "stderr",
     "output_type": "stream",
     "text": [
      "\r",
      " 15%|███████████████████████████████████▌                                                                                                                                                                                                  | 379/2450 [00:08<00:44, 46.03it/s]"
     ]
    },
    {
     "name": "stderr",
     "output_type": "stream",
     "text": [
      "\r",
      " 16%|████████████████████████████████████▏                                                                                                                                                                                                 | 385/2450 [00:08<00:42, 48.21it/s]"
     ]
    },
    {
     "name": "stderr",
     "output_type": "stream",
     "text": [
      "\r",
      " 16%|████████████████████████████████████▋                                                                                                                                                                                                 | 391/2450 [00:08<00:41, 49.75it/s]"
     ]
    },
    {
     "name": "stderr",
     "output_type": "stream",
     "text": [
      "\r",
      " 16%|█████████████████████████████████████▎                                                                                                                                                                                                | 397/2450 [00:08<00:59, 34.54it/s]"
     ]
    },
    {
     "name": "stderr",
     "output_type": "stream",
     "text": [
      "\r",
      " 16%|█████████████████████████████████████▊                                                                                                                                                                                                | 403/2450 [00:09<00:53, 38.32it/s]"
     ]
    },
    {
     "name": "stderr",
     "output_type": "stream",
     "text": [
      "\r",
      " 17%|██████████████████████████████████████▍                                                                                                                                                                                               | 409/2450 [00:09<00:48, 41.77it/s]"
     ]
    },
    {
     "name": "stderr",
     "output_type": "stream",
     "text": [
      "\r",
      " 17%|██████████████████████████████████████▉                                                                                                                                                                                               | 415/2450 [00:09<00:44, 45.30it/s]"
     ]
    },
    {
     "name": "stderr",
     "output_type": "stream",
     "text": [
      "\r",
      " 17%|███████████████████████████████████████▌                                                                                                                                                                                              | 421/2450 [00:09<00:43, 46.53it/s]"
     ]
    },
    {
     "name": "stderr",
     "output_type": "stream",
     "text": [
      "\r",
      " 17%|███████████████████████████████████████▉                                                                                                                                                                                              | 426/2450 [00:09<00:42, 47.24it/s]"
     ]
    },
    {
     "name": "stderr",
     "output_type": "stream",
     "text": [
      "\r",
      " 18%|████████████████████████████████████████▌                                                                                                                                                                                             | 432/2450 [00:09<00:43, 46.60it/s]"
     ]
    },
    {
     "name": "stderr",
     "output_type": "stream",
     "text": [
      "\r",
      " 18%|█████████████████████████████████████████                                                                                                                                                                                             | 437/2450 [00:09<00:43, 46.49it/s]"
     ]
    },
    {
     "name": "stderr",
     "output_type": "stream",
     "text": [
      "\r",
      " 18%|█████████████████████████████████████████▍                                                                                                                                                                                            | 442/2450 [00:09<00:45, 44.17it/s]"
     ]
    },
    {
     "name": "stderr",
     "output_type": "stream",
     "text": [
      "\r",
      " 18%|██████████████████████████████████████████                                                                                                                                                                                            | 448/2450 [00:09<00:43, 46.51it/s]"
     ]
    },
    {
     "name": "stderr",
     "output_type": "stream",
     "text": [
      "\r",
      " 19%|██████████████████████████████████████████▌                                                                                                                                                                                           | 454/2450 [00:10<00:41, 48.49it/s]"
     ]
    },
    {
     "name": "stderr",
     "output_type": "stream",
     "text": [
      "\r",
      " 19%|███████████████████████████████████████████                                                                                                                                                                                           | 459/2450 [00:10<00:41, 48.38it/s]"
     ]
    },
    {
     "name": "stderr",
     "output_type": "stream",
     "text": [
      "\r",
      " 19%|███████████████████████████████████████████▋                                                                                                                                                                                          | 465/2450 [00:10<00:40, 49.19it/s]"
     ]
    },
    {
     "name": "stderr",
     "output_type": "stream",
     "text": [
      "\r",
      " 19%|████████████████████████████████████████████▏                                                                                                                                                                                         | 471/2450 [00:10<00:39, 50.26it/s]"
     ]
    },
    {
     "name": "stderr",
     "output_type": "stream",
     "text": [
      "\r",
      " 19%|████████████████████████████████████████████▊                                                                                                                                                                                         | 477/2450 [00:10<00:37, 52.36it/s]"
     ]
    },
    {
     "name": "stderr",
     "output_type": "stream",
     "text": [
      "\r",
      " 20%|█████████████████████████████████████████████▎                                                                                                                                                                                        | 483/2450 [00:10<00:47, 41.38it/s]"
     ]
    },
    {
     "name": "stderr",
     "output_type": "stream",
     "text": [
      "\r",
      " 20%|█████████████████████████████████████████████▉                                                                                                                                                                                        | 489/2450 [00:10<00:44, 44.14it/s]"
     ]
    },
    {
     "name": "stderr",
     "output_type": "stream",
     "text": [
      "\r",
      " 20%|██████████████████████████████████████████████▍                                                                                                                                                                                       | 494/2450 [00:10<00:42, 45.51it/s]"
     ]
    },
    {
     "name": "stderr",
     "output_type": "stream",
     "text": [
      "\r",
      " 20%|██████████████████████████████████████████████▉                                                                                                                                                                                       | 500/2450 [00:11<00:41, 47.40it/s]"
     ]
    },
    {
     "name": "stderr",
     "output_type": "stream",
     "text": [
      "\r",
      " 21%|███████████████████████████████████████████████▌                                                                                                                                                                                      | 507/2450 [00:11<00:37, 51.25it/s]"
     ]
    },
    {
     "name": "stderr",
     "output_type": "stream",
     "text": [
      "\r",
      " 21%|████████████████████████████████████████████████▏                                                                                                                                                                                     | 513/2450 [00:11<00:46, 41.37it/s]"
     ]
    },
    {
     "name": "stderr",
     "output_type": "stream",
     "text": [
      "\r",
      " 21%|████████████████████████████████████████████████▋                                                                                                                                                                                     | 519/2450 [00:11<00:43, 44.10it/s]"
     ]
    },
    {
     "name": "stderr",
     "output_type": "stream",
     "text": [
      "\r",
      " 21%|█████████████████████████████████████████████████▏                                                                                                                                                                                    | 524/2450 [00:11<00:50, 38.31it/s]"
     ]
    },
    {
     "name": "stderr",
     "output_type": "stream",
     "text": [
      "\r",
      " 22%|█████████████████████████████████████████████████▊                                                                                                                                                                                    | 530/2450 [00:11<00:46, 41.58it/s]"
     ]
    },
    {
     "name": "stderr",
     "output_type": "stream",
     "text": [
      "\r",
      " 22%|██████████████████████████████████████████████████▎                                                                                                                                                                                   | 536/2450 [00:11<00:42, 44.77it/s]"
     ]
    },
    {
     "name": "stderr",
     "output_type": "stream",
     "text": [
      "\r",
      " 22%|██████████████████████████████████████████████████▊                                                                                                                                                                                   | 541/2450 [00:12<00:41, 45.51it/s]"
     ]
    },
    {
     "name": "stderr",
     "output_type": "stream",
     "text": [
      "\r",
      " 22%|███████████████████████████████████████████████████▎                                                                                                                                                                                  | 546/2450 [00:12<00:41, 46.31it/s]"
     ]
    },
    {
     "name": "stderr",
     "output_type": "stream",
     "text": [
      "\r",
      " 23%|███████████████████████████████████████████████████▉                                                                                                                                                                                  | 553/2450 [00:12<00:37, 51.24it/s]"
     ]
    },
    {
     "name": "stderr",
     "output_type": "stream",
     "text": [
      "\r",
      " 23%|████████████████████████████████████████████████████▍                                                                                                                                                                                 | 559/2450 [00:12<00:39, 48.09it/s]"
     ]
    },
    {
     "name": "stderr",
     "output_type": "stream",
     "text": [
      "\r",
      " 23%|████████████████████████████████████████████████████▉                                                                                                                                                                                 | 564/2450 [00:12<00:46, 40.55it/s]"
     ]
    },
    {
     "name": "stderr",
     "output_type": "stream",
     "text": [
      "\r",
      " 23%|█████████████████████████████████████████████████████▌                                                                                                                                                                                | 570/2450 [00:12<00:42, 43.78it/s]"
     ]
    },
    {
     "name": "stderr",
     "output_type": "stream",
     "text": [
      "\r",
      " 23%|█████████████████████████████████████████████████████▉                                                                                                                                                                                | 575/2450 [00:12<00:56, 33.16it/s]"
     ]
    },
    {
     "name": "stderr",
     "output_type": "stream",
     "text": [
      "\r",
      " 24%|██████████████████████████████████████████████████████▌                                                                                                                                                                               | 581/2450 [00:13<00:49, 38.01it/s]"
     ]
    },
    {
     "name": "stderr",
     "output_type": "stream",
     "text": [
      "\r",
      " 24%|███████████████████████████████████████████████████████                                                                                                                                                                               | 586/2450 [00:13<00:46, 39.86it/s]"
     ]
    },
    {
     "name": "stderr",
     "output_type": "stream",
     "text": [
      "\r",
      " 24%|███████████████████████████████████████████████████████▌                                                                                                                                                                              | 592/2450 [00:13<00:42, 43.72it/s]"
     ]
    },
    {
     "name": "stderr",
     "output_type": "stream",
     "text": [
      "\r",
      " 24%|████████████████████████████████████████████████████████                                                                                                                                                                              | 597/2450 [00:13<00:41, 44.21it/s]"
     ]
    },
    {
     "name": "stderr",
     "output_type": "stream",
     "text": [
      "\r",
      " 25%|████████████████████████████████████████████████████████▌                                                                                                                                                                             | 602/2450 [00:13<00:49, 37.00it/s]"
     ]
    },
    {
     "name": "stderr",
     "output_type": "stream",
     "text": [
      "\r",
      " 25%|████████████████████████████████████████████████████████▉                                                                                                                                                                             | 607/2450 [00:13<00:55, 33.16it/s]"
     ]
    },
    {
     "name": "stderr",
     "output_type": "stream",
     "text": [
      "\r",
      " 25%|█████████████████████████████████████████████████████████▌                                                                                                                                                                            | 613/2450 [00:13<00:48, 37.82it/s]"
     ]
    },
    {
     "name": "stderr",
     "output_type": "stream",
     "text": [
      "\r",
      " 25%|██████████████████████████████████████████████████████████                                                                                                                                                                            | 619/2450 [00:13<00:44, 41.17it/s]"
     ]
    },
    {
     "name": "stderr",
     "output_type": "stream",
     "text": [
      "\r",
      " 25%|██████████████████████████████████████████████████████████▌                                                                                                                                                                           | 624/2450 [00:14<00:50, 36.11it/s]"
     ]
    },
    {
     "name": "stderr",
     "output_type": "stream",
     "text": [
      "\r",
      " 26%|███████████████████████████████████████████████████████████▏                                                                                                                                                                          | 630/2450 [00:14<00:45, 40.30it/s]"
     ]
    },
    {
     "name": "stderr",
     "output_type": "stream",
     "text": [
      "\r",
      " 26%|███████████████████████████████████████████████████████████▊                                                                                                                                                                          | 637/2450 [00:14<00:39, 45.41it/s]"
     ]
    },
    {
     "name": "stderr",
     "output_type": "stream",
     "text": [
      "\r",
      " 26%|████████████████████████████████████████████████████████████▎                                                                                                                                                                         | 642/2450 [00:14<00:39, 45.74it/s]"
     ]
    },
    {
     "name": "stderr",
     "output_type": "stream",
     "text": [
      "\r",
      " 26%|████████████████████████████████████████████████████████████▋                                                                                                                                                                         | 647/2450 [00:14<00:39, 45.90it/s]"
     ]
    },
    {
     "name": "stderr",
     "output_type": "stream",
     "text": [
      "\r",
      " 27%|█████████████████████████████████████████████████████████████▏                                                                                                                                                                        | 652/2450 [00:14<00:47, 38.02it/s]"
     ]
    },
    {
     "name": "stderr",
     "output_type": "stream",
     "text": [
      "\r",
      " 27%|█████████████████████████████████████████████████████████████▋                                                                                                                                                                        | 657/2450 [00:14<00:45, 39.78it/s]"
     ]
    },
    {
     "name": "stderr",
     "output_type": "stream",
     "text": [
      "\r",
      " 27%|██████████████████████████████████████████████████████████████▏                                                                                                                                                                       | 662/2450 [00:15<00:52, 34.05it/s]"
     ]
    },
    {
     "name": "stderr",
     "output_type": "stream",
     "text": [
      "\r",
      " 27%|██████████████████████████████████████████████████████████████▋                                                                                                                                                                       | 668/2450 [00:15<00:45, 39.05it/s]"
     ]
    },
    {
     "name": "stderr",
     "output_type": "stream",
     "text": [
      "\r",
      " 27%|███████████████████████████████████████████████████████████████▏                                                                                                                                                                      | 673/2450 [00:15<00:43, 40.88it/s]"
     ]
    },
    {
     "name": "stderr",
     "output_type": "stream",
     "text": [
      "\r",
      " 28%|███████████████████████████████████████████████████████████████▋                                                                                                                                                                      | 678/2450 [00:15<00:41, 42.78it/s]"
     ]
    },
    {
     "name": "stderr",
     "output_type": "stream",
     "text": [
      "\r",
      " 28%|████████████████████████████████████████████████████████████████▏                                                                                                                                                                     | 684/2450 [00:15<00:38, 45.76it/s]"
     ]
    },
    {
     "name": "stderr",
     "output_type": "stream",
     "text": [
      "\r",
      " 28%|████████████████████████████████████████████████████████████████▋                                                                                                                                                                     | 689/2450 [00:15<00:38, 46.11it/s]"
     ]
    },
    {
     "name": "stderr",
     "output_type": "stream",
     "text": [
      "\r",
      " 28%|█████████████████████████████████████████████████████████████████▏                                                                                                                                                                    | 694/2450 [00:15<00:45, 38.56it/s]"
     ]
    },
    {
     "name": "stderr",
     "output_type": "stream",
     "text": [
      "\r",
      " 29%|█████████████████████████████████████████████████████████████████▌                                                                                                                                                                    | 699/2450 [00:16<00:52, 33.51it/s]"
     ]
    },
    {
     "name": "stderr",
     "output_type": "stream",
     "text": [
      "\r",
      " 29%|██████████████████████████████████████████████████████████████████▏                                                                                                                                                                   | 705/2450 [00:16<00:44, 39.09it/s]"
     ]
    },
    {
     "name": "stderr",
     "output_type": "stream",
     "text": [
      "\r",
      " 29%|██████████████████████████████████████████████████████████████████▋                                                                                                                                                                   | 710/2450 [00:16<00:50, 34.64it/s]"
     ]
    },
    {
     "name": "stderr",
     "output_type": "stream",
     "text": [
      "\r",
      " 29%|███████████████████████████████████████████████████████████████████▏                                                                                                                                                                  | 716/2450 [00:16<00:52, 33.29it/s]"
     ]
    },
    {
     "name": "stderr",
     "output_type": "stream",
     "text": [
      "\r",
      " 29%|███████████████████████████████████████████████████████████████████▋                                                                                                                                                                  | 721/2450 [00:16<00:47, 36.62it/s]"
     ]
    },
    {
     "name": "stderr",
     "output_type": "stream",
     "text": [
      "\r",
      " 30%|████████████████████████████████████████████████████████████████████▏                                                                                                                                                                 | 727/2450 [00:16<00:43, 39.75it/s]"
     ]
    },
    {
     "name": "stderr",
     "output_type": "stream",
     "text": [
      "\r",
      " 30%|████████████████████████████████████████████████████████████████████▊                                                                                                                                                                 | 733/2450 [00:16<00:39, 43.71it/s]"
     ]
    },
    {
     "name": "stderr",
     "output_type": "stream",
     "text": [
      "\r",
      " 30%|█████████████████████████████████████████████████████████████████████▎                                                                                                                                                                | 738/2450 [00:16<00:39, 43.83it/s]"
     ]
    },
    {
     "name": "stderr",
     "output_type": "stream",
     "text": [
      "\r",
      " 30%|█████████████████████████████████████████████████████████████████████▉                                                                                                                                                                | 745/2450 [00:17<00:35, 48.71it/s]"
     ]
    },
    {
     "name": "stderr",
     "output_type": "stream",
     "text": [
      "\r",
      " 31%|██████████████████████████████████████████████████████████████████████▌                                                                                                                                                               | 751/2450 [00:17<00:34, 49.72it/s]"
     ]
    },
    {
     "name": "stderr",
     "output_type": "stream",
     "text": [
      "\r",
      " 31%|███████████████████████████████████████████████████████████████████████                                                                                                                                                               | 757/2450 [00:17<00:33, 50.42it/s]"
     ]
    },
    {
     "name": "stderr",
     "output_type": "stream",
     "text": [
      "\r",
      " 31%|███████████████████████████████████████████████████████████████████████▋                                                                                                                                                              | 763/2450 [00:17<00:41, 40.94it/s]"
     ]
    },
    {
     "name": "stderr",
     "output_type": "stream",
     "text": [
      "\r",
      " 31%|████████████████████████████████████████████████████████████████████████▏                                                                                                                                                             | 769/2450 [00:17<00:38, 43.32it/s]"
     ]
    },
    {
     "name": "stderr",
     "output_type": "stream",
     "text": [
      "\r",
      " 32%|████████████████████████████████████████████████████████████████████████▋                                                                                                                                                             | 774/2450 [00:17<00:47, 35.43it/s]"
     ]
    },
    {
     "name": "stderr",
     "output_type": "stream",
     "text": [
      "\r",
      " 32%|█████████████████████████████████████████████████████████████████████████▏                                                                                                                                                            | 780/2450 [00:17<00:42, 39.50it/s]"
     ]
    },
    {
     "name": "stderr",
     "output_type": "stream",
     "text": [
      "\r",
      " 32%|█████████████████████████████████████████████████████████████████████████▋                                                                                                                                                            | 785/2450 [00:18<00:47, 35.12it/s]"
     ]
    },
    {
     "name": "stderr",
     "output_type": "stream",
     "text": [
      "\r",
      " 32%|██████████████████████████████████████████████████████████████████████████▎                                                                                                                                                           | 791/2450 [00:18<00:42, 39.31it/s]"
     ]
    },
    {
     "name": "stderr",
     "output_type": "stream",
     "text": [
      "\r",
      " 33%|██████████████████████████████████████████████████████████████████████████▊                                                                                                                                                           | 797/2450 [00:18<00:38, 43.31it/s]"
     ]
    },
    {
     "name": "stderr",
     "output_type": "stream",
     "text": [
      "\r",
      " 33%|███████████████████████████████████████████████████████████████████████████▍                                                                                                                                                          | 803/2450 [00:18<00:36, 45.71it/s]"
     ]
    },
    {
     "name": "stderr",
     "output_type": "stream",
     "text": [
      "\r",
      " 33%|███████████████████████████████████████████████████████████████████████████▉                                                                                                                                                          | 809/2450 [00:18<00:35, 46.12it/s]"
     ]
    },
    {
     "name": "stderr",
     "output_type": "stream",
     "text": [
      "\r",
      " 33%|████████████████████████████████████████████████████████████████████████████▍                                                                                                                                                         | 814/2450 [00:18<00:35, 46.50it/s]"
     ]
    },
    {
     "name": "stderr",
     "output_type": "stream",
     "text": [
      "\r",
      " 33%|████████████████████████████████████████████████████████████████████████████▉                                                                                                                                                         | 820/2450 [00:18<00:33, 49.06it/s]"
     ]
    },
    {
     "name": "stderr",
     "output_type": "stream",
     "text": [
      "\r",
      " 34%|█████████████████████████████████████████████████████████████████████████████▋                                                                                                                                                        | 827/2450 [00:18<00:30, 53.04it/s]"
     ]
    },
    {
     "name": "stderr",
     "output_type": "stream",
     "text": [
      "\r",
      " 34%|██████████████████████████████████████████████████████████████████████████████▏                                                                                                                                                       | 833/2450 [00:19<00:38, 41.52it/s]"
     ]
    },
    {
     "name": "stderr",
     "output_type": "stream",
     "text": [
      "\r",
      " 34%|██████████████████████████████████████████████████████████████████████████████▊                                                                                                                                                       | 839/2450 [00:19<00:35, 44.90it/s]"
     ]
    },
    {
     "name": "stderr",
     "output_type": "stream",
     "text": [
      "\r",
      " 34%|███████████████████████████████████████████████████████████████████████████████▎                                                                                                                                                      | 845/2450 [00:19<00:33, 47.64it/s]"
     ]
    },
    {
     "name": "stderr",
     "output_type": "stream",
     "text": [
      "\r",
      " 35%|███████████████████████████████████████████████████████████████████████████████▉                                                                                                                                                      | 851/2450 [00:19<00:33, 48.21it/s]"
     ]
    },
    {
     "name": "stderr",
     "output_type": "stream",
     "text": [
      "\r",
      " 35%|████████████████████████████████████████████████████████████████████████████████▍                                                                                                                                                     | 857/2450 [00:19<00:38, 41.82it/s]"
     ]
    },
    {
     "name": "stderr",
     "output_type": "stream",
     "text": [
      "\r",
      " 35%|████████████████████████████████████████████████████████████████████████████████▉                                                                                                                                                     | 862/2450 [00:19<00:36, 43.49it/s]"
     ]
    },
    {
     "name": "stderr",
     "output_type": "stream",
     "text": [
      "\r",
      " 35%|█████████████████████████████████████████████████████████████████████████████████▍                                                                                                                                                    | 868/2450 [00:19<00:34, 46.13it/s]"
     ]
    },
    {
     "name": "stderr",
     "output_type": "stream",
     "text": [
      "\r",
      " 36%|█████████████████████████████████████████████████████████████████████████████████▉                                                                                                                                                    | 873/2450 [00:19<00:33, 46.41it/s]"
     ]
    },
    {
     "name": "stderr",
     "output_type": "stream",
     "text": [
      "\r",
      " 36%|██████████████████████████████████████████████████████████████████████████████████▌                                                                                                                                                   | 879/2450 [00:20<00:32, 48.44it/s]"
     ]
    },
    {
     "name": "stderr",
     "output_type": "stream",
     "text": [
      "\r",
      " 36%|███████████████████████████████████████████████████████████████████████████████████                                                                                                                                                   | 885/2450 [00:20<00:31, 50.48it/s]"
     ]
    },
    {
     "name": "stderr",
     "output_type": "stream",
     "text": [
      "\r",
      " 36%|███████████████████████████████████████████████████████████████████████████████████▋                                                                                                                                                  | 891/2450 [00:20<00:36, 42.18it/s]"
     ]
    },
    {
     "name": "stderr",
     "output_type": "stream",
     "text": [
      "\r",
      " 37%|████████████████████████████████████████████████████████████████████████████████████▏                                                                                                                                                 | 897/2450 [00:20<00:34, 45.07it/s]"
     ]
    },
    {
     "name": "stderr",
     "output_type": "stream",
     "text": [
      "\r",
      " 37%|████████████████████████████████████████████████████████████████████████████████████▊                                                                                                                                                 | 903/2450 [00:20<00:32, 47.58it/s]"
     ]
    },
    {
     "name": "stderr",
     "output_type": "stream",
     "text": [
      "\r",
      " 37%|█████████████████████████████████████████████████████████████████████████████████████▎                                                                                                                                                | 909/2450 [00:20<00:31, 48.97it/s]"
     ]
    },
    {
     "name": "stderr",
     "output_type": "stream",
     "text": [
      "\r",
      " 37%|█████████████████████████████████████████████████████████████████████████████████████▉                                                                                                                                                | 915/2450 [00:20<00:31, 49.24it/s]"
     ]
    },
    {
     "name": "stderr",
     "output_type": "stream",
     "text": [
      "\r",
      " 38%|██████████████████████████████████████████████████████████████████████████████████████▍                                                                                                                                               | 921/2450 [00:20<00:32, 47.34it/s]"
     ]
    },
    {
     "name": "stderr",
     "output_type": "stream",
     "text": [
      "\r",
      " 38%|██████████████████████████████████████████████████████████████████████████████████████▉                                                                                                                                               | 926/2450 [00:21<00:37, 40.29it/s]"
     ]
    },
    {
     "name": "stderr",
     "output_type": "stream",
     "text": [
      "\r",
      " 38%|███████████████████████████████████████████████████████████████████████████████████████▍                                                                                                                                              | 931/2450 [00:21<00:35, 42.38it/s]"
     ]
    },
    {
     "name": "stderr",
     "output_type": "stream",
     "text": [
      "\r",
      " 38%|███████████████████████████████████████████████████████████████████████████████████████▊                                                                                                                                              | 936/2450 [00:21<00:41, 36.45it/s]"
     ]
    },
    {
     "name": "stderr",
     "output_type": "stream",
     "text": [
      "\r",
      " 38%|████████████████████████████████████████████████████████████████████████████████████████▍                                                                                                                                             | 942/2450 [00:21<00:36, 40.85it/s]"
     ]
    },
    {
     "name": "stderr",
     "output_type": "stream",
     "text": [
      "\r",
      " 39%|████████████████████████████████████████████████████████████████████████████████████████▉                                                                                                                                             | 947/2450 [00:21<00:35, 42.50it/s]"
     ]
    },
    {
     "name": "stderr",
     "output_type": "stream",
     "text": [
      "\r",
      " 39%|█████████████████████████████████████████████████████████████████████████████████████████▎                                                                                                                                            | 952/2450 [00:21<00:37, 39.89it/s]"
     ]
    },
    {
     "name": "stderr",
     "output_type": "stream",
     "text": [
      "\r",
      " 39%|██████████████████████████████████████████████████████████████████████████████████████████                                                                                                                                            | 959/2450 [00:21<00:32, 45.70it/s]"
     ]
    },
    {
     "name": "stderr",
     "output_type": "stream",
     "text": [
      "\r",
      " 39%|██████████████████████████████████████████████████████████████████████████████████████████▌                                                                                                                                           | 965/2450 [00:22<00:31, 47.67it/s]"
     ]
    },
    {
     "name": "stderr",
     "output_type": "stream",
     "text": [
      "\r",
      " 40%|███████████████████████████████████████████████████████████████████████████████████████████▏                                                                                                                                          | 971/2450 [00:22<00:30, 49.24it/s]"
     ]
    },
    {
     "name": "stderr",
     "output_type": "stream",
     "text": [
      "\r",
      " 40%|███████████████████████████████████████████████████████████████████████████████████████████▊                                                                                                                                          | 978/2450 [00:22<00:28, 52.54it/s]"
     ]
    },
    {
     "name": "stderr",
     "output_type": "stream",
     "text": [
      "\r",
      " 40%|████████████████████████████████████████████████████████████████████████████████████████████▍                                                                                                                                         | 984/2450 [00:22<00:34, 42.52it/s]"
     ]
    },
    {
     "name": "stderr",
     "output_type": "stream",
     "text": [
      "\r",
      " 40%|████████████████████████████████████████████████████████████████████████████████████████████▉                                                                                                                                         | 990/2450 [00:22<00:32, 44.33it/s]"
     ]
    },
    {
     "name": "stderr",
     "output_type": "stream",
     "text": [
      "\r",
      " 41%|█████████████████████████████████████████████████████████████████████████████████████████████▌                                                                                                                                        | 996/2450 [00:22<00:31, 46.18it/s]"
     ]
    },
    {
     "name": "stderr",
     "output_type": "stream",
     "text": [
      "\r",
      " 41%|█████████████████████████████████████████████████████████████████████████████████████████████▌                                                                                                                                       | 1001/2450 [00:22<00:31, 46.48it/s]"
     ]
    },
    {
     "name": "stderr",
     "output_type": "stream",
     "text": [
      "\r",
      " 41%|██████████████████████████████████████████████████████████████████████████████████████████████                                                                                                                                       | 1007/2450 [00:22<00:30, 47.84it/s]"
     ]
    },
    {
     "name": "stderr",
     "output_type": "stream",
     "text": [
      "\r",
      " 41%|██████████████████████████████████████████████████████████████████████████████████████████████▌                                                                                                                                      | 1012/2450 [00:23<00:30, 47.00it/s]"
     ]
    },
    {
     "name": "stderr",
     "output_type": "stream",
     "text": [
      "\r",
      " 42%|███████████████████████████████████████████████████████████████████████████████████████████████                                                                                                                                      | 1017/2450 [00:23<00:37, 38.57it/s]"
     ]
    },
    {
     "name": "stderr",
     "output_type": "stream",
     "text": [
      "\r",
      " 42%|███████████████████████████████████████████████████████████████████████████████████████████████▌                                                                                                                                     | 1022/2450 [00:23<00:34, 41.11it/s]"
     ]
    },
    {
     "name": "stderr",
     "output_type": "stream",
     "text": [
      "\r",
      " 42%|████████████████████████████████████████████████████████████████████████████████████████████████                                                                                                                                     | 1028/2450 [00:23<00:32, 43.19it/s]"
     ]
    },
    {
     "name": "stderr",
     "output_type": "stream",
     "text": [
      "\r",
      " 42%|████████████████████████████████████████████████████████████████████████████████████████████████▌                                                                                                                                    | 1033/2450 [00:23<00:32, 43.19it/s]"
     ]
    },
    {
     "name": "stderr",
     "output_type": "stream",
     "text": [
      "\r",
      " 42%|█████████████████████████████████████████████████████████████████████████████████████████████████                                                                                                                                    | 1038/2450 [00:23<00:31, 44.26it/s]"
     ]
    },
    {
     "name": "stderr",
     "output_type": "stream",
     "text": [
      "\r",
      " 43%|█████████████████████████████████████████████████████████████████████████████████████████████████▍                                                                                                                                   | 1043/2450 [00:23<00:38, 37.00it/s]"
     ]
    },
    {
     "name": "stderr",
     "output_type": "stream",
     "text": [
      "\r",
      " 43%|█████████████████████████████████████████████████████████████████████████████████████████████████▉                                                                                                                                   | 1048/2450 [00:23<00:36, 38.40it/s]"
     ]
    },
    {
     "name": "stderr",
     "output_type": "stream",
     "text": [
      "\r",
      " 43%|██████████████████████████████████████████████████████████████████████████████████████████████████▍                                                                                                                                  | 1053/2450 [00:24<00:34, 40.81it/s]"
     ]
    },
    {
     "name": "stderr",
     "output_type": "stream",
     "text": [
      "\r",
      " 43%|██████████████████████████████████████████████████████████████████████████████████████████████████▉                                                                                                                                  | 1059/2450 [00:24<00:31, 44.40it/s]"
     ]
    },
    {
     "name": "stderr",
     "output_type": "stream",
     "text": [
      "\r",
      " 43%|███████████████████████████████████████████████████████████████████████████████████████████████████▌                                                                                                                                 | 1065/2450 [00:24<00:29, 47.15it/s]"
     ]
    },
    {
     "name": "stderr",
     "output_type": "stream",
     "text": [
      "\r",
      " 44%|████████████████████████████████████████████████████████████████████████████████████████████████████                                                                                                                                 | 1071/2450 [00:24<00:28, 48.54it/s]"
     ]
    },
    {
     "name": "stderr",
     "output_type": "stream",
     "text": [
      "\r",
      " 44%|████████████████████████████████████████████████████████████████████████████████████████████████████▌                                                                                                                                | 1076/2450 [00:24<00:34, 39.44it/s]"
     ]
    },
    {
     "name": "stderr",
     "output_type": "stream",
     "text": [
      "\r",
      " 44%|█████████████████████████████████████████████████████████████████████████████████████████████████████▏                                                                                                                               | 1082/2450 [00:24<00:32, 42.63it/s]"
     ]
    },
    {
     "name": "stderr",
     "output_type": "stream",
     "text": [
      "\r",
      " 44%|█████████████████████████████████████████████████████████████████████████████████████████████████████▋                                                                                                                               | 1088/2450 [00:24<00:30, 45.37it/s]"
     ]
    },
    {
     "name": "stderr",
     "output_type": "stream",
     "text": [
      "\r",
      " 45%|██████████████████████████████████████████████████████████████████████████████████████████████████████▎                                                                                                                              | 1094/2450 [00:24<00:28, 47.84it/s]"
     ]
    },
    {
     "name": "stderr",
     "output_type": "stream",
     "text": [
      "\r",
      " 45%|██████████████████████████████████████████████████████████████████████████████████████████████████████▋                                                                                                                              | 1099/2450 [00:25<00:28, 47.57it/s]"
     ]
    },
    {
     "name": "stderr",
     "output_type": "stream",
     "text": [
      "\r",
      " 45%|███████████████████████████████████████████████████████████████████████████████████████████████████████▎                                                                                                                             | 1105/2450 [00:25<00:27, 49.67it/s]"
     ]
    },
    {
     "name": "stderr",
     "output_type": "stream",
     "text": [
      "\r",
      " 45%|███████████████████████████████████████████████████████████████████████████████████████████████████████▊                                                                                                                             | 1111/2450 [00:25<00:26, 50.05it/s]"
     ]
    },
    {
     "name": "stderr",
     "output_type": "stream",
     "text": [
      "\r",
      " 46%|████████████████████████████████████████████████████████████████████████████████████████████████████████▍                                                                                                                            | 1117/2450 [00:25<00:32, 40.70it/s]"
     ]
    },
    {
     "name": "stderr",
     "output_type": "stream",
     "text": [
      "\r",
      " 46%|████████████████████████████████████████████████████████████████████████████████████████████████████████▊                                                                                                                            | 1122/2450 [00:25<00:32, 40.86it/s]"
     ]
    },
    {
     "name": "stderr",
     "output_type": "stream",
     "text": [
      "\r",
      " 46%|█████████████████████████████████████████████████████████████████████████████████████████████████████████▍                                                                                                                           | 1128/2450 [00:25<00:30, 43.55it/s]"
     ]
    },
    {
     "name": "stderr",
     "output_type": "stream",
     "text": [
      "\r",
      " 46%|█████████████████████████████████████████████████████████████████████████████████████████████████████████▉                                                                                                                           | 1133/2450 [00:25<00:29, 45.12it/s]"
     ]
    },
    {
     "name": "stderr",
     "output_type": "stream",
     "text": [
      "\r",
      " 46%|██████████████████████████████████████████████████████████████████████████████████████████████████████████▍                                                                                                                          | 1139/2450 [00:25<00:27, 48.26it/s]"
     ]
    },
    {
     "name": "stderr",
     "output_type": "stream",
     "text": [
      "\r",
      " 47%|██████████████████████████████████████████████████████████████████████████████████████████████████████████▉                                                                                                                          | 1144/2450 [00:26<00:38, 33.89it/s]"
     ]
    },
    {
     "name": "stderr",
     "output_type": "stream",
     "text": [
      "\r",
      " 47%|███████████████████████████████████████████████████████████████████████████████████████████████████████████▍                                                                                                                         | 1150/2450 [00:26<00:33, 38.47it/s]"
     ]
    },
    {
     "name": "stderr",
     "output_type": "stream",
     "text": [
      "\r",
      " 47%|████████████████████████████████████████████████████████████████████████████████████████████████████████████                                                                                                                         | 1156/2450 [00:26<00:30, 42.22it/s]"
     ]
    },
    {
     "name": "stderr",
     "output_type": "stream",
     "text": [
      "\r",
      " 47%|████████████████████████████████████████████████████████████████████████████████████████████████████████████▌                                                                                                                        | 1161/2450 [00:26<00:35, 36.35it/s]"
     ]
    },
    {
     "name": "stderr",
     "output_type": "stream",
     "text": [
      "\r",
      " 48%|████████████████████████████████████████████████████████████████████████████████████████████████████████████▉                                                                                                                        | 1166/2450 [00:26<00:38, 33.77it/s]"
     ]
    },
    {
     "name": "stderr",
     "output_type": "stream",
     "text": [
      "\r",
      " 48%|█████████████████████████████████████████████████████████████████████████████████████████████████████████████▌                                                                                                                       | 1172/2450 [00:26<00:33, 37.74it/s]"
     ]
    },
    {
     "name": "stderr",
     "output_type": "stream",
     "text": [
      "\r",
      " 48%|██████████████████████████████████████████████████████████████████████████████████████████████████████████████                                                                                                                       | 1177/2450 [00:27<00:31, 40.15it/s]"
     ]
    },
    {
     "name": "stderr",
     "output_type": "stream",
     "text": [
      "\r",
      " 48%|██████████████████████████████████████████████████████████████████████████████████████████████████████████████▍                                                                                                                      | 1182/2450 [00:27<00:30, 41.75it/s]"
     ]
    },
    {
     "name": "stderr",
     "output_type": "stream",
     "text": [
      "\r",
      " 48%|███████████████████████████████████████████████████████████████████████████████████████████████████████████████                                                                                                                      | 1188/2450 [00:27<00:28, 44.37it/s]"
     ]
    },
    {
     "name": "stderr",
     "output_type": "stream",
     "text": [
      "\r",
      " 49%|███████████████████████████████████████████████████████████████████████████████████████████████████████████████▌                                                                                                                     | 1193/2450 [00:27<00:27, 45.48it/s]"
     ]
    },
    {
     "name": "stderr",
     "output_type": "stream",
     "text": [
      "\r",
      " 49%|███████████████████████████████████████████████████████████████████████████████████████████████████████████████▉                                                                                                                     | 1198/2450 [00:27<00:33, 37.31it/s]"
     ]
    },
    {
     "name": "stderr",
     "output_type": "stream",
     "text": [
      "\r",
      " 49%|████████████████████████████████████████████████████████████████████████████████████████████████████████████████▌                                                                                                                    | 1204/2450 [00:27<00:29, 41.67it/s]"
     ]
    },
    {
     "name": "stderr",
     "output_type": "stream",
     "text": [
      "\r",
      " 49%|█████████████████████████████████████████████████████████████████████████████████████████████████████████████████                                                                                                                    | 1210/2450 [00:27<00:27, 44.38it/s]"
     ]
    },
    {
     "name": "stderr",
     "output_type": "stream",
     "text": [
      "\r",
      " 50%|█████████████████████████████████████████████████████████████████████████████████████████████████████████████████▌                                                                                                                   | 1215/2450 [00:27<00:27, 45.17it/s]"
     ]
    },
    {
     "name": "stderr",
     "output_type": "stream",
     "text": [
      "\r",
      " 50%|██████████████████████████████████████████████████████████████████████████████████████████████████████████████████                                                                                                                   | 1220/2450 [00:28<00:31, 38.53it/s]"
     ]
    },
    {
     "name": "stderr",
     "output_type": "stream",
     "text": [
      "\r",
      " 50%|██████████████████████████████████████████████████████████████████████████████████████████████████████████████████▌                                                                                                                  | 1226/2450 [00:28<00:29, 41.62it/s]"
     ]
    },
    {
     "name": "stderr",
     "output_type": "stream",
     "text": [
      "\r",
      " 50%|███████████████████████████████████████████████████████████████████████████████████████████████████████████████████▏                                                                                                                 | 1232/2450 [00:28<00:27, 44.95it/s]"
     ]
    },
    {
     "name": "stderr",
     "output_type": "stream",
     "text": [
      "\r",
      " 50%|███████████████████████████████████████████████████████████████████████████████████████████████████████████████████▌                                                                                                                 | 1237/2450 [00:28<00:31, 38.85it/s]"
     ]
    },
    {
     "name": "stderr",
     "output_type": "stream",
     "text": [
      "\r",
      " 51%|████████████████████████████████████████████████████████████████████████████████████████████████████████████████████                                                                                                                 | 1242/2450 [00:28<00:30, 39.23it/s]"
     ]
    },
    {
     "name": "stderr",
     "output_type": "stream",
     "text": [
      "\r",
      " 51%|████████████████████████████████████████████████████████████████████████████████████████████████████████████████████▌                                                                                                                | 1247/2450 [00:28<00:29, 41.46it/s]"
     ]
    },
    {
     "name": "stderr",
     "output_type": "stream",
     "text": [
      "\r",
      " 51%|█████████████████████████████████████████████████████████████████████████████████████████████████████████████████████                                                                                                                | 1253/2450 [00:28<00:26, 44.64it/s]"
     ]
    },
    {
     "name": "stderr",
     "output_type": "stream",
     "text": [
      "\r",
      " 51%|█████████████████████████████████████████████████████████████████████████████████████████████████████████████████████▋                                                                                                               | 1259/2450 [00:28<00:25, 47.22it/s]"
     ]
    },
    {
     "name": "stderr",
     "output_type": "stream",
     "text": [
      "\r",
      " 52%|██████████████████████████████████████████████████████████████████████████████████████████████████████████████████████▏                                                                                                              | 1264/2450 [00:29<00:36, 32.42it/s]"
     ]
    },
    {
     "name": "stderr",
     "output_type": "stream",
     "text": [
      "\r",
      " 52%|██████████████████████████████████████████████████████████████████████████████████████████████████████████████████████▌                                                                                                              | 1268/2450 [00:29<00:39, 29.84it/s]"
     ]
    },
    {
     "name": "stderr",
     "output_type": "stream",
     "text": [
      "\r",
      " 52%|███████████████████████████████████████████████████████████████████████████████████████████████████████████████████████                                                                                                              | 1274/2450 [00:29<00:34, 34.41it/s]"
     ]
    },
    {
     "name": "stderr",
     "output_type": "stream",
     "text": [
      "\r",
      " 52%|███████████████████████████████████████████████████████████████████████████████████████████████████████████████████████▋                                                                                                             | 1280/2450 [00:29<00:30, 38.44it/s]"
     ]
    },
    {
     "name": "stderr",
     "output_type": "stream",
     "text": [
      "\r",
      " 52%|████████████████████████████████████████████████████████████████████████████████████████████████████████████████████████▏                                                                                                            | 1286/2450 [00:29<00:28, 41.55it/s]"
     ]
    },
    {
     "name": "stderr",
     "output_type": "stream",
     "text": [
      "\r",
      " 53%|████████████████████████████████████████████████████████████████████████████████████████████████████████████████████████▋                                                                                                            | 1291/2450 [00:29<00:27, 42.73it/s]"
     ]
    },
    {
     "name": "stderr",
     "output_type": "stream",
     "text": [
      "\r",
      " 53%|█████████████████████████████████████████████████████████████████████████████████████████████████████████████████████████▏                                                                                                           | 1296/2450 [00:30<00:31, 37.20it/s]"
     ]
    },
    {
     "name": "stderr",
     "output_type": "stream",
     "text": [
      "\r",
      " 53%|█████████████████████████████████████████████████████████████████████████████████████████████████████████████████████████▌                                                                                                           | 1301/2450 [00:30<00:28, 39.75it/s]"
     ]
    },
    {
     "name": "stderr",
     "output_type": "stream",
     "text": [
      "\r",
      " 53%|██████████████████████████████████████████████████████████████████████████████████████████████████████████████████████████                                                                                                           | 1306/2450 [00:30<00:27, 41.16it/s]"
     ]
    },
    {
     "name": "stderr",
     "output_type": "stream",
     "text": [
      "\r",
      " 54%|██████████████████████████████████████████████████████████████████████████████████████████████████████████████████████████▋                                                                                                          | 1312/2450 [00:30<00:25, 45.10it/s]"
     ]
    },
    {
     "name": "stderr",
     "output_type": "stream",
     "text": [
      "\r",
      " 54%|███████████████████████████████████████████████████████████████████████████████████████████████████████████████████████████                                                                                                          | 1317/2450 [00:30<00:24, 45.41it/s]"
     ]
    },
    {
     "name": "stderr",
     "output_type": "stream",
     "text": [
      "\r",
      " 54%|███████████████████████████████████████████████████████████████████████████████████████████████████████████████████████████▌                                                                                                         | 1322/2450 [00:30<00:29, 38.20it/s]"
     ]
    },
    {
     "name": "stderr",
     "output_type": "stream",
     "text": [
      "\r",
      " 54%|████████████████████████████████████████████████████████████████████████████████████████████████████████████████████████████▏                                                                                                        | 1328/2450 [00:30<00:26, 42.95it/s]"
     ]
    },
    {
     "name": "stderr",
     "output_type": "stream",
     "text": [
      "\r",
      " 54%|████████████████████████████████████████████████████████████████████████████████████████████████████████████████████████████▌                                                                                                        | 1333/2450 [00:30<00:26, 42.25it/s]"
     ]
    },
    {
     "name": "stderr",
     "output_type": "stream",
     "text": [
      "\r",
      " 55%|█████████████████████████████████████████████████████████████████████████████████████████████████████████████████████████████                                                                                                        | 1338/2450 [00:31<00:30, 36.84it/s]"
     ]
    },
    {
     "name": "stderr",
     "output_type": "stream",
     "text": [
      "\r",
      " 55%|█████████████████████████████████████████████████████████████████████████████████████████████████████████████████████████████▌                                                                                                       | 1344/2450 [00:31<00:27, 40.80it/s]"
     ]
    },
    {
     "name": "stderr",
     "output_type": "stream",
     "text": [
      "\r",
      " 55%|██████████████████████████████████████████████████████████████████████████████████████████████████████████████████████████████▎                                                                                                      | 1351/2450 [00:31<00:23, 46.49it/s]"
     ]
    },
    {
     "name": "stderr",
     "output_type": "stream",
     "text": [
      "\r",
      " 55%|██████████████████████████████████████████████████████████████████████████████████████████████████████████████████████████████▋                                                                                                      | 1356/2450 [00:31<00:24, 45.56it/s]"
     ]
    },
    {
     "name": "stderr",
     "output_type": "stream",
     "text": [
      "\r",
      " 56%|███████████████████████████████████████████████████████████████████████████████████████████████████████████████████████████████▏                                                                                                     | 1361/2450 [00:31<00:24, 43.69it/s]"
     ]
    },
    {
     "name": "stderr",
     "output_type": "stream",
     "text": [
      "\r",
      " 56%|███████████████████████████████████████████████████████████████████████████████████████████████████████████████████████████████▋                                                                                                     | 1366/2450 [00:31<00:28, 38.71it/s]"
     ]
    },
    {
     "name": "stderr",
     "output_type": "stream",
     "text": [
      "\r",
      " 56%|████████████████████████████████████████████████████████████████████████████████████████████████████████████████████████████████▏                                                                                                    | 1371/2450 [00:31<00:26, 41.11it/s]"
     ]
    },
    {
     "name": "stderr",
     "output_type": "stream",
     "text": [
      "\r",
      " 56%|████████████████████████████████████████████████████████████████████████████████████████████████████████████████████████████████▌                                                                                                    | 1376/2450 [00:31<00:25, 41.71it/s]"
     ]
    },
    {
     "name": "stderr",
     "output_type": "stream",
     "text": [
      "\r",
      " 56%|█████████████████████████████████████████████████████████████████████████████████████████████████████████████████████████████████                                                                                                    | 1381/2450 [00:32<00:29, 36.37it/s]"
     ]
    },
    {
     "name": "stderr",
     "output_type": "stream",
     "text": [
      "\r",
      " 57%|█████████████████████████████████████████████████████████████████████████████████████████████████████████████████████████████████▋                                                                                                   | 1387/2450 [00:32<00:26, 39.95it/s]"
     ]
    },
    {
     "name": "stderr",
     "output_type": "stream",
     "text": [
      "\r",
      " 57%|██████████████████████████████████████████████████████████████████████████████████████████████████████████████████████████████████▏                                                                                                  | 1393/2450 [00:32<00:24, 43.09it/s]"
     ]
    },
    {
     "name": "stderr",
     "output_type": "stream",
     "text": [
      "\r",
      " 57%|██████████████████████████████████████████████████████████████████████████████████████████████████████████████████████████████████▊                                                                                                  | 1399/2450 [00:32<00:23, 45.42it/s]"
     ]
    },
    {
     "name": "stderr",
     "output_type": "stream",
     "text": [
      "\r",
      " 57%|███████████████████████████████████████████████████████████████████████████████████████████████████████████████████████████████████▏                                                                                                 | 1404/2450 [00:32<00:23, 44.72it/s]"
     ]
    },
    {
     "name": "stderr",
     "output_type": "stream",
     "text": [
      "\r",
      " 58%|███████████████████████████████████████████████████████████████████████████████████████████████████████████████████████████████████▊                                                                                                 | 1410/2450 [00:32<00:22, 46.59it/s]"
     ]
    },
    {
     "name": "stderr",
     "output_type": "stream",
     "text": [
      "\r",
      " 58%|████████████████████████████████████████████████████████████████████████████████████████████████████████████████████████████████████▎                                                                                                | 1415/2450 [00:32<00:31, 32.54it/s]"
     ]
    },
    {
     "name": "stderr",
     "output_type": "stream",
     "text": [
      "\r",
      " 58%|████████████████████████████████████████████████████████████████████████████████████████████████████████████████████████████████████▋                                                                                                | 1420/2450 [00:33<00:28, 35.71it/s]"
     ]
    },
    {
     "name": "stderr",
     "output_type": "stream",
     "text": [
      "\r",
      " 58%|█████████████████████████████████████████████████████████████████████████████████████████████████████████████████████████████████████▎                                                                                               | 1426/2450 [00:33<00:25, 40.57it/s]"
     ]
    },
    {
     "name": "stderr",
     "output_type": "stream",
     "text": [
      "\r",
      " 58%|█████████████████████████████████████████████████████████████████████████████████████████████████████████████████████████████████████▊                                                                                               | 1432/2450 [00:33<00:23, 43.47it/s]"
     ]
    },
    {
     "name": "stderr",
     "output_type": "stream",
     "text": [
      "\r",
      " 59%|██████████████████████████████████████████████████████████████████████████████████████████████████████████████████████████████████████▎                                                                                              | 1437/2450 [00:33<00:22, 44.44it/s]"
     ]
    },
    {
     "name": "stderr",
     "output_type": "stream",
     "text": [
      "\r",
      " 59%|██████████████████████████████████████████████████████████████████████████████████████████████████████████████████████████████████████▊                                                                                              | 1442/2450 [00:33<00:22, 45.72it/s]"
     ]
    },
    {
     "name": "stderr",
     "output_type": "stream",
     "text": [
      "\r",
      " 59%|███████████████████████████████████████████████████████████████████████████████████████████████████████████████████████████████████████▎                                                                                             | 1447/2450 [00:33<00:25, 39.27it/s]"
     ]
    },
    {
     "name": "stderr",
     "output_type": "stream",
     "text": [
      "\r",
      " 59%|███████████████████████████████████████████████████████████████████████████████████████████████████████████████████████████████████████▋                                                                                             | 1452/2450 [00:33<00:24, 41.14it/s]"
     ]
    },
    {
     "name": "stderr",
     "output_type": "stream",
     "text": [
      "\r",
      " 60%|████████████████████████████████████████████████████████████████████████████████████████████████████████████████████████████████████████▎                                                                                            | 1458/2450 [00:33<00:22, 44.30it/s]"
     ]
    },
    {
     "name": "stderr",
     "output_type": "stream",
     "text": [
      "\r",
      " 60%|████████████████████████████████████████████████████████████████████████████████████████████████████████████████████████████████████████▊                                                                                            | 1464/2450 [00:34<00:25, 38.84it/s]"
     ]
    },
    {
     "name": "stderr",
     "output_type": "stream",
     "text": [
      "\r",
      " 60%|█████████████████████████████████████████████████████████████████████████████████████████████████████████████████████████████████████████▍                                                                                           | 1471/2450 [00:34<00:21, 44.89it/s]"
     ]
    },
    {
     "name": "stderr",
     "output_type": "stream",
     "text": [
      "\r",
      " 60%|██████████████████████████████████████████████████████████████████████████████████████████████████████████████████████████████████████████▏                                                                                          | 1478/2450 [00:34<00:19, 49.81it/s]"
     ]
    },
    {
     "name": "stderr",
     "output_type": "stream",
     "text": [
      "\r",
      " 61%|██████████████████████████████████████████████████████████████████████████████████████████████████████████████████████████████████████████▋                                                                                          | 1484/2450 [00:34<00:18, 51.49it/s]"
     ]
    },
    {
     "name": "stderr",
     "output_type": "stream",
     "text": [
      "\r",
      " 61%|███████████████████████████████████████████████████████████████████████████████████████████████████████████████████████████████████████████▎                                                                                         | 1490/2450 [00:34<00:17, 53.60it/s]"
     ]
    },
    {
     "name": "stderr",
     "output_type": "stream",
     "text": [
      "\r",
      " 61%|████████████████████████████████████████████████████████████████████████████████████████████████████████████████████████████████████████████                                                                                         | 1498/2450 [00:34<00:16, 58.95it/s]"
     ]
    },
    {
     "name": "stderr",
     "output_type": "stream",
     "text": [
      "\r",
      " 61%|████████████████████████████████████████████████████████████████████████████████████████████████████████████████████████████████████████████▋                                                                                        | 1505/2450 [00:34<00:16, 56.51it/s]"
     ]
    },
    {
     "name": "stderr",
     "output_type": "stream",
     "text": [
      "\r",
      " 62%|█████████████████████████████████████████████████████████████████████████████████████████████████████████████████████████████████████████████▏                                                                                       | 1511/2450 [00:35<00:24, 38.53it/s]"
     ]
    },
    {
     "name": "stderr",
     "output_type": "stream",
     "text": [
      "\r",
      " 62%|█████████████████████████████████████████████████████████████████████████████████████████████████████████████████████████████████████████████▊                                                                                       | 1517/2450 [00:35<00:22, 42.32it/s]"
     ]
    },
    {
     "name": "stderr",
     "output_type": "stream",
     "text": [
      "\r",
      " 62%|██████████████████████████████████████████████████████████████████████████████████████████████████████████████████████████████████████████████▎                                                                                      | 1522/2450 [00:35<00:21, 44.01it/s]"
     ]
    },
    {
     "name": "stderr",
     "output_type": "stream",
     "text": [
      "\r",
      " 62%|██████████████████████████████████████████████████████████████████████████████████████████████████████████████████████████████████████████████▋                                                                                      | 1527/2450 [00:35<00:21, 43.19it/s]"
     ]
    },
    {
     "name": "stderr",
     "output_type": "stream",
     "text": [
      "\r",
      " 63%|███████████████████████████████████████████████████████████████████████████████████████████████████████████████████████████████████████████████▏                                                                                     | 1532/2450 [00:35<00:24, 36.90it/s]"
     ]
    },
    {
     "name": "stderr",
     "output_type": "stream",
     "text": [
      "\r",
      " 63%|███████████████████████████████████████████████████████████████████████████████████████████████████████████████████████████████████████████████▋                                                                                     | 1537/2450 [00:35<00:22, 39.80it/s]"
     ]
    },
    {
     "name": "stderr",
     "output_type": "stream",
     "text": [
      "\r",
      " 63%|████████████████████████████████████████████████████████████████████████████████████████████████████████████████████████████████████████████████▏                                                                                    | 1543/2450 [00:35<00:20, 44.63it/s]"
     ]
    },
    {
     "name": "stderr",
     "output_type": "stream",
     "text": [
      "\r",
      " 63%|████████████████████████████████████████████████████████████████████████████████████████████████████████████████████████████████████████████████▋                                                                                    | 1548/2450 [00:35<00:19, 45.20it/s]"
     ]
    },
    {
     "name": "stderr",
     "output_type": "stream",
     "text": [
      "\r",
      " 63%|█████████████████████████████████████████████████████████████████████████████████████████████████████████████████████████████████████████████████▎                                                                                   | 1554/2450 [00:35<00:18, 47.54it/s]"
     ]
    },
    {
     "name": "stderr",
     "output_type": "stream",
     "text": [
      "\r",
      " 64%|█████████████████████████████████████████████████████████████████████████████████████████████████████████████████████████████████████████████████▊                                                                                   | 1560/2450 [00:36<00:18, 48.97it/s]"
     ]
    },
    {
     "name": "stderr",
     "output_type": "stream",
     "text": [
      "\r",
      " 64%|██████████████████████████████████████████████████████████████████████████████████████████████████████████████████████████████████████████████████▎                                                                                  | 1566/2450 [00:36<00:17, 49.58it/s]"
     ]
    },
    {
     "name": "stderr",
     "output_type": "stream",
     "text": [
      "\r",
      " 64%|██████████████████████████████████████████████████████████████████████████████████████████████████████████████████████████████████████████████████▉                                                                                  | 1572/2450 [00:36<00:21, 41.56it/s]"
     ]
    },
    {
     "name": "stderr",
     "output_type": "stream",
     "text": [
      "\r",
      " 64%|███████████████████████████████████████████████████████████████████████████████████████████████████████████████████████████████████████████████████▍                                                                                 | 1578/2450 [00:36<00:19, 44.17it/s]"
     ]
    },
    {
     "name": "stderr",
     "output_type": "stream",
     "text": [
      "\r",
      " 65%|████████████████████████████████████████████████████████████████████████████████████████████████████████████████████████████████████████████████████                                                                                 | 1584/2450 [00:36<00:18, 47.27it/s]"
     ]
    },
    {
     "name": "stderr",
     "output_type": "stream",
     "text": [
      "\r",
      " 65%|████████████████████████████████████████████████████████████████████████████████████████████████████████████████████████████████████████████████████▌                                                                                | 1589/2450 [00:36<00:18, 47.53it/s]"
     ]
    },
    {
     "name": "stderr",
     "output_type": "stream",
     "text": [
      "\r",
      " 65%|█████████████████████████████████████████████████████████████████████████████████████████████████████████████████████████████████████████████████████                                                                                | 1595/2450 [00:36<00:17, 48.53it/s]"
     ]
    },
    {
     "name": "stderr",
     "output_type": "stream",
     "text": [
      "\r",
      " 65%|█████████████████████████████████████████████████████████████████████████████████████████████████████████████████████████████████████████████████████▋                                                                               | 1601/2450 [00:36<00:17, 49.38it/s]"
     ]
    },
    {
     "name": "stderr",
     "output_type": "stream",
     "text": [
      "\r",
      " 66%|██████████████████████████████████████████████████████████████████████████████████████████████████████████████████████████████████████████████████████▏                                                                              | 1607/2450 [00:37<00:20, 42.10it/s]"
     ]
    },
    {
     "name": "stderr",
     "output_type": "stream",
     "text": [
      "\r",
      " 66%|██████████████████████████████████████████████████████████████████████████████████████████████████████████████████████████████████████████████████████▊                                                                              | 1613/2450 [00:37<00:18, 44.09it/s]"
     ]
    },
    {
     "name": "stderr",
     "output_type": "stream",
     "text": [
      "\r",
      " 66%|███████████████████████████████████████████████████████████████████████████████████████████████████████████████████████████████████████████████████████▏                                                                             | 1618/2450 [00:37<00:21, 38.38it/s]"
     ]
    },
    {
     "name": "stderr",
     "output_type": "stream",
     "text": [
      "\r",
      " 66%|███████████████████████████████████████████████████████████████████████████████████████████████████████████████████████████████████████████████████████▊                                                                             | 1624/2450 [00:37<00:19, 42.61it/s]"
     ]
    },
    {
     "name": "stderr",
     "output_type": "stream",
     "text": [
      "\r",
      " 67%|████████████████████████████████████████████████████████████████████████████████████████████████████████████████████████████████████████████████████████▎                                                                            | 1630/2450 [00:37<00:18, 45.24it/s]"
     ]
    },
    {
     "name": "stderr",
     "output_type": "stream",
     "text": [
      "\r",
      " 67%|████████████████████████████████████████████████████████████████████████████████████████████████████████████████████████████████████████████████████████▉                                                                            | 1636/2450 [00:37<00:17, 47.61it/s]"
     ]
    },
    {
     "name": "stderr",
     "output_type": "stream",
     "text": [
      "\r",
      " 67%|█████████████████████████████████████████████████████████████████████████████████████████████████████████████████████████████████████████████████████████▍                                                                           | 1641/2450 [00:37<00:19, 42.52it/s]"
     ]
    },
    {
     "name": "stderr",
     "output_type": "stream",
     "text": [
      "\r",
      " 67%|█████████████████████████████████████████████████████████████████████████████████████████████████████████████████████████████████████████████████████████▊                                                                           | 1646/2450 [00:38<00:19, 42.07it/s]"
     ]
    },
    {
     "name": "stderr",
     "output_type": "stream",
     "text": [
      "\r",
      " 67%|██████████████████████████████████████████████████████████████████████████████████████████████████████████████████████████████████████████████████████████▍                                                                          | 1652/2450 [00:38<00:21, 37.80it/s]"
     ]
    },
    {
     "name": "stderr",
     "output_type": "stream",
     "text": [
      "\r",
      " 68%|██████████████████████████████████████████████████████████████████████████████████████████████████████████████████████████████████████████████████████████▉                                                                          | 1658/2450 [00:38<00:18, 42.64it/s]"
     ]
    },
    {
     "name": "stderr",
     "output_type": "stream",
     "text": [
      "\r",
      " 68%|███████████████████████████████████████████████████████████████████████████████████████████████████████████████████████████████████████████████████████████▌                                                                         | 1664/2450 [00:38<00:17, 46.01it/s]"
     ]
    },
    {
     "name": "stderr",
     "output_type": "stream",
     "text": [
      "\r",
      " 68%|████████████████████████████████████████████████████████████████████████████████████████████████████████████████████████████████████████████████████████████                                                                         | 1670/2450 [00:38<00:16, 46.43it/s]"
     ]
    },
    {
     "name": "stderr",
     "output_type": "stream",
     "text": [
      "\r",
      " 68%|████████████████████████████████████████████████████████████████████████████████████████████████████████████████████████████████████████████████████████████▋                                                                        | 1676/2450 [00:38<00:16, 48.11it/s]"
     ]
    },
    {
     "name": "stderr",
     "output_type": "stream",
     "text": [
      "\r",
      " 69%|█████████████████████████████████████████████████████████████████████████████████████████████████████████████████████████████████████████████████████████████                                                                        | 1681/2450 [00:38<00:18, 41.11it/s]"
     ]
    },
    {
     "name": "stderr",
     "output_type": "stream",
     "text": [
      "\r",
      " 69%|█████████████████████████████████████████████████████████████████████████████████████████████████████████████████████████████████████████████████████████████▋                                                                       | 1687/2450 [00:38<00:16, 45.14it/s]"
     ]
    },
    {
     "name": "stderr",
     "output_type": "stream",
     "text": [
      "\r",
      " 69%|██████████████████████████████████████████████████████████████████████████████████████████████████████████████████████████████████████████████████████████████▏                                                                      | 1693/2450 [00:39<00:15, 48.18it/s]"
     ]
    },
    {
     "name": "stderr",
     "output_type": "stream",
     "text": [
      "\r",
      " 69%|██████████████████████████████████████████████████████████████████████████████████████████████████████████████████████████████████████████████████████████████▊                                                                      | 1699/2450 [00:39<00:15, 47.19it/s]"
     ]
    },
    {
     "name": "stderr",
     "output_type": "stream",
     "text": [
      "\r",
      " 70%|███████████████████████████████████████████████████████████████████████████████████████████████████████████████████████████████████████████████████████████████▎                                                                     | 1704/2450 [00:39<00:15, 46.68it/s]"
     ]
    },
    {
     "name": "stderr",
     "output_type": "stream",
     "text": [
      "\r",
      " 70%|███████████████████████████████████████████████████████████████████████████████████████████████████████████████████████████████████████████████████████████████▉                                                                     | 1711/2450 [00:39<00:14, 50.89it/s]"
     ]
    },
    {
     "name": "stderr",
     "output_type": "stream",
     "text": [
      "\r",
      " 70%|████████████████████████████████████████████████████████████████████████████████████████████████████████████████████████████████████████████████████████████████▍                                                                    | 1717/2450 [00:39<00:14, 50.78it/s]"
     ]
    },
    {
     "name": "stderr",
     "output_type": "stream",
     "text": [
      "\r",
      " 70%|█████████████████████████████████████████████████████████████████████████████████████████████████████████████████████████████████████████████████████████████████                                                                    | 1723/2450 [00:39<00:14, 51.34it/s]"
     ]
    },
    {
     "name": "stderr",
     "output_type": "stream",
     "text": [
      "\r",
      " 71%|█████████████████████████████████████████████████████████████████████████████████████████████████████████████████████████████████████████████████████████████████▌                                                                   | 1729/2450 [00:39<00:14, 50.33it/s]"
     ]
    },
    {
     "name": "stderr",
     "output_type": "stream",
     "text": [
      "\r",
      " 71%|██████████████████████████████████████████████████████████████████████████████████████████████████████████████████████████████████████████████████████████████████▏                                                                  | 1735/2450 [00:39<00:14, 50.30it/s]"
     ]
    },
    {
     "name": "stderr",
     "output_type": "stream",
     "text": [
      "\r",
      " 71%|██████████████████████████████████████████████████████████████████████████████████████████████████████████████████████████████████████████████████████████████████▋                                                                  | 1741/2450 [00:40<00:13, 51.00it/s]"
     ]
    },
    {
     "name": "stderr",
     "output_type": "stream",
     "text": [
      "\r",
      " 71%|███████████████████████████████████████████████████████████████████████████████████████████████████████████████████████████████████████████████████████████████████▎                                                                 | 1747/2450 [00:40<00:13, 50.76it/s]"
     ]
    },
    {
     "name": "stderr",
     "output_type": "stream",
     "text": [
      "\r",
      " 72%|███████████████████████████████████████████████████████████████████████████████████████████████████████████████████████████████████████████████████████████████████▊                                                                 | 1753/2450 [00:40<00:16, 41.69it/s]"
     ]
    },
    {
     "name": "stderr",
     "output_type": "stream",
     "text": [
      "\r",
      " 72%|████████████████████████████████████████████████████████████████████████████████████████████████████████████████████████████████████████████████████████████████████▎                                                                | 1758/2450 [00:40<00:16, 42.16it/s]"
     ]
    },
    {
     "name": "stderr",
     "output_type": "stream",
     "text": [
      "\r",
      " 72%|████████████████████████████████████████████████████████████████████████████████████████████████████████████████████████████████████████████████████████████████████▉                                                                | 1764/2450 [00:40<00:15, 44.99it/s]"
     ]
    },
    {
     "name": "stderr",
     "output_type": "stream",
     "text": [
      "\r",
      " 72%|█████████████████████████████████████████████████████████████████████████████████████████████████████████████████████████████████████████████████████████████████████▍                                                               | 1770/2450 [00:40<00:14, 47.38it/s]"
     ]
    },
    {
     "name": "stderr",
     "output_type": "stream",
     "text": [
      "\r",
      " 72%|█████████████████████████████████████████████████████████████████████████████████████████████████████████████████████████████████████████████████████████████████████▉                                                               | 1775/2450 [00:40<00:18, 36.97it/s]"
     ]
    },
    {
     "name": "stderr",
     "output_type": "stream",
     "text": [
      "\r",
      " 73%|██████████████████████████████████████████████████████████████████████████████████████████████████████████████████████████████████████████████████████████████████████▍                                                              | 1781/2450 [00:40<00:16, 41.51it/s]"
     ]
    },
    {
     "name": "stderr",
     "output_type": "stream",
     "text": [
      "\r",
      " 73%|██████████████████████████████████████████████████████████████████████████████████████████████████████████████████████████████████████████████████████████████████████▉                                                              | 1786/2450 [00:41<00:15, 43.09it/s]"
     ]
    },
    {
     "name": "stderr",
     "output_type": "stream",
     "text": [
      "\r",
      " 73%|███████████████████████████████████████████████████████████████████████████████████████████████████████████████████████████████████████████████████████████████████████▍                                                             | 1792/2450 [00:41<00:14, 45.86it/s]"
     ]
    },
    {
     "name": "stderr",
     "output_type": "stream",
     "text": [
      "\r",
      " 73%|███████████████████████████████████████████████████████████████████████████████████████████████████████████████████████████████████████████████████████████████████████▉                                                             | 1797/2450 [00:41<00:18, 34.47it/s]"
     ]
    },
    {
     "name": "stderr",
     "output_type": "stream",
     "text": [
      "\r",
      " 74%|████████████████████████████████████████████████████████████████████████████████████████████████████████████████████████████████████████████████████████████████████████▍                                                            | 1802/2450 [00:41<00:17, 36.69it/s]"
     ]
    },
    {
     "name": "stderr",
     "output_type": "stream",
     "text": [
      "\r",
      " 74%|████████████████████████████████████████████████████████████████████████████████████████████████████████████████████████████████████████████████████████████████████████▉                                                            | 1808/2450 [00:41<00:15, 41.39it/s]"
     ]
    },
    {
     "name": "stderr",
     "output_type": "stream",
     "text": [
      "\r",
      " 74%|█████████████████████████████████████████████████████████████████████████████████████████████████████████████████████████████████████████████████████████████████████████▌                                                           | 1814/2450 [00:41<00:13, 45.84it/s]"
     ]
    },
    {
     "name": "stderr",
     "output_type": "stream",
     "text": [
      "\r",
      " 74%|██████████████████████████████████████████████████████████████████████████████████████████████████████████████████████████████████████████████████████████████████████████                                                           | 1819/2450 [00:41<00:15, 39.53it/s]"
     ]
    },
    {
     "name": "stderr",
     "output_type": "stream",
     "text": [
      "\r",
      " 74%|██████████████████████████████████████████████████████████████████████████████████████████████████████████████████████████████████████████████████████████████████████████▌                                                          | 1825/2450 [00:42<00:14, 42.50it/s]"
     ]
    },
    {
     "name": "stderr",
     "output_type": "stream",
     "text": [
      "\r",
      " 75%|███████████████████████████████████████████████████████████████████████████████████████████████████████████████████████████████████████████████████████████████████████████                                                          | 1830/2450 [00:42<00:16, 37.73it/s]"
     ]
    },
    {
     "name": "stderr",
     "output_type": "stream",
     "text": [
      "\r",
      " 75%|███████████████████████████████████████████████████████████████████████████████████████████████████████████████████████████████████████████████████████████████████████████▌                                                         | 1835/2450 [00:42<00:15, 40.26it/s]"
     ]
    },
    {
     "name": "stderr",
     "output_type": "stream",
     "text": [
      "\r",
      " 75%|███████████████████████████████████████████████████████████████████████████████████████████████████████████████████████████████████████████████████████████████████████████▉                                                         | 1840/2450 [00:42<00:14, 41.61it/s]"
     ]
    },
    {
     "name": "stderr",
     "output_type": "stream",
     "text": [
      "\r",
      " 75%|████████████████████████████████████████████████████████████████████████████████████████████████████████████████████████████████████████████████████████████████████████████▍                                                        | 1845/2450 [00:42<00:17, 34.20it/s]"
     ]
    },
    {
     "name": "stderr",
     "output_type": "stream",
     "text": [
      "\r",
      " 76%|████████████████████████████████████████████████████████████████████████████████████████████████████████████████████████████████████████████████████████████████████████████▉                                                        | 1850/2450 [00:42<00:16, 37.36it/s]"
     ]
    },
    {
     "name": "stderr",
     "output_type": "stream",
     "text": [
      "\r",
      " 76%|█████████████████████████████████████████████████████████████████████████████████████████████████████████████████████████████████████████████████████████████████████████████▍                                                       | 1855/2450 [00:42<00:14, 40.37it/s]"
     ]
    },
    {
     "name": "stderr",
     "output_type": "stream",
     "text": [
      "\r",
      " 76%|█████████████████████████████████████████████████████████████████████████████████████████████████████████████████████████████████████████████████████████████████████████████▊                                                       | 1860/2450 [00:42<00:13, 42.81it/s]"
     ]
    },
    {
     "name": "stderr",
     "output_type": "stream",
     "text": [
      "\r",
      " 76%|██████████████████████████████████████████████████████████████████████████████████████████████████████████████████████████████████████████████████████████████████████████████▍                                                      | 1866/2450 [00:43<00:12, 45.76it/s]"
     ]
    },
    {
     "name": "stderr",
     "output_type": "stream",
     "text": [
      "\r",
      " 76%|██████████████████████████████████████████████████████████████████████████████████████████████████████████████████████████████████████████████████████████████████████████████▉                                                      | 1872/2450 [00:43<00:11, 49.23it/s]"
     ]
    },
    {
     "name": "stderr",
     "output_type": "stream",
     "text": [
      "\r",
      " 77%|███████████████████████████████████████████████████████████████████████████████████████████████████████████████████████████████████████████████████████████████████████████████▌                                                     | 1878/2450 [00:43<00:13, 41.11it/s]"
     ]
    },
    {
     "name": "stderr",
     "output_type": "stream",
     "text": [
      "\r",
      " 77%|████████████████████████████████████████████████████████████████████████████████████████████████████████████████████████████████████████████████████████████████████████████████                                                     | 1884/2450 [00:43<00:12, 44.37it/s]"
     ]
    },
    {
     "name": "stderr",
     "output_type": "stream",
     "text": [
      "\r",
      " 77%|████████████████████████████████████████████████████████████████████████████████████████████████████████████████████████████████████████████████████████████████████████████████▋                                                    | 1890/2450 [00:43<00:11, 46.89it/s]"
     ]
    },
    {
     "name": "stderr",
     "output_type": "stream",
     "text": [
      "\r",
      " 77%|█████████████████████████████████████████████████████████████████████████████████████████████████████████████████████████████████████████████████████████████████████████████████▏                                                   | 1896/2450 [00:43<00:11, 49.26it/s]"
     ]
    },
    {
     "name": "stderr",
     "output_type": "stream",
     "text": [
      "\r",
      " 78%|█████████████████████████████████████████████████████████████████████████████████████████████████████████████████████████████████████████████████████████████████████████████████▊                                                   | 1902/2450 [00:43<00:13, 40.45it/s]"
     ]
    },
    {
     "name": "stderr",
     "output_type": "stream",
     "text": [
      "\r",
      " 78%|██████████████████████████████████████████████████████████████████████████████████████████████████████████████████████████████████████████████████████████████████████████████████▏                                                  | 1907/2450 [00:44<00:12, 41.78it/s]"
     ]
    },
    {
     "name": "stderr",
     "output_type": "stream",
     "text": [
      "\r",
      " 78%|██████████████████████████████████████████████████████████████████████████████████████████████████████████████████████████████████████████████████████████████████████████████████▋                                                  | 1912/2450 [00:44<00:12, 43.18it/s]"
     ]
    },
    {
     "name": "stderr",
     "output_type": "stream",
     "text": [
      "\r",
      " 78%|███████████████████████████████████████████████████████████████████████████████████████████████████████████████████████████████████████████████████████████████████████████████████▏                                                 | 1917/2450 [00:44<00:11, 44.81it/s]"
     ]
    },
    {
     "name": "stderr",
     "output_type": "stream",
     "text": [
      "\r",
      " 78%|███████████████████████████████████████████████████████████████████████████████████████████████████████████████████████████████████████████████████████████████████████████████████▋                                                 | 1922/2450 [00:44<00:11, 45.11it/s]"
     ]
    },
    {
     "name": "stderr",
     "output_type": "stream",
     "text": [
      "\r",
      " 79%|████████████████████████████████████████████████████████████████████████████████████████████████████████████████████████████████████████████████████████████████████████████████████▏                                                | 1928/2450 [00:44<00:13, 38.07it/s]"
     ]
    },
    {
     "name": "stderr",
     "output_type": "stream",
     "text": [
      "\r",
      " 79%|████████████████████████████████████████████████████████████████████████████████████████████████████████████████████████████████████████████████████████████████████████████████████▊                                                | 1934/2450 [00:44<00:12, 42.46it/s]"
     ]
    },
    {
     "name": "stderr",
     "output_type": "stream",
     "text": [
      "\r",
      " 79%|█████████████████████████████████████████████████████████████████████████████████████████████████████████████████████████████████████████████████████████████████████████████████████▏                                               | 1939/2450 [00:44<00:11, 43.22it/s]"
     ]
    },
    {
     "name": "stderr",
     "output_type": "stream",
     "text": [
      "\r",
      " 79%|█████████████████████████████████████████████████████████████████████████████████████████████████████████████████████████████████████████████████████████████████████████████████████▋                                               | 1944/2450 [00:44<00:11, 43.72it/s]"
     ]
    },
    {
     "name": "stderr",
     "output_type": "stream",
     "text": [
      "\r",
      " 80%|██████████████████████████████████████████████████████████████████████████████████████████████████████████████████████████████████████████████████████████████████████████████████████▏                                              | 1949/2450 [00:45<00:13, 37.28it/s]"
     ]
    },
    {
     "name": "stderr",
     "output_type": "stream",
     "text": [
      "\r",
      " 80%|██████████████████████████████████████████████████████████████████████████████████████████████████████████████████████████████████████████████████████████████████████████████████████▋                                              | 1954/2450 [00:45<00:14, 33.10it/s]"
     ]
    },
    {
     "name": "stderr",
     "output_type": "stream",
     "text": [
      "\r",
      " 80%|███████████████████████████████████████████████████████████████████████████████████████████████████████████████████████████████████████████████████████████████████████████████████████                                              | 1958/2450 [00:45<00:14, 34.57it/s]"
     ]
    },
    {
     "name": "stderr",
     "output_type": "stream",
     "text": [
      "\r",
      " 80%|███████████████████████████████████████████████████████████████████████████████████████████████████████████████████████████████████████████████████████████████████████████████████████▍                                             | 1963/2450 [00:45<00:13, 37.29it/s]"
     ]
    },
    {
     "name": "stderr",
     "output_type": "stream",
     "text": [
      "\r",
      " 80%|███████████████████████████████████████████████████████████████████████████████████████████████████████████████████████████████████████████████████████████████████████████████████████▉                                             | 1968/2450 [00:45<00:14, 34.37it/s]"
     ]
    },
    {
     "name": "stderr",
     "output_type": "stream",
     "text": [
      "\r",
      " 81%|████████████████████████████████████████████████████████████████████████████████████████████████████████████████████████████████████████████████████████████████████████████████████████▍                                            | 1973/2450 [00:45<00:13, 36.62it/s]"
     ]
    },
    {
     "name": "stderr",
     "output_type": "stream",
     "text": [
      "\r",
      " 81%|████████████████████████████████████████████████████████████████████████████████████████████████████████████████████████████████████████████████████████████████████████████████████████▉                                            | 1979/2450 [00:45<00:11, 41.34it/s]"
     ]
    },
    {
     "name": "stderr",
     "output_type": "stream",
     "text": [
      "\r",
      " 81%|█████████████████████████████████████████████████████████████████████████████████████████████████████████████████████████████████████████████████████████████████████████████████████████▍                                           | 1984/2450 [00:45<00:11, 42.23it/s]"
     ]
    },
    {
     "name": "stderr",
     "output_type": "stream",
     "text": [
      "\r",
      " 81%|█████████████████████████████████████████████████████████████████████████████████████████████████████████████████████████████████████████████████████████████████████████████████████████▉                                           | 1989/2450 [00:46<00:10, 43.41it/s]"
     ]
    },
    {
     "name": "stderr",
     "output_type": "stream",
     "text": [
      "\r",
      " 81%|██████████████████████████████████████████████████████████████████████████████████████████████████████████████████████████████████████████████████████████████████████████████████████████▍                                          | 1995/2450 [00:46<00:09, 46.15it/s]"
     ]
    },
    {
     "name": "stderr",
     "output_type": "stream",
     "text": [
      "\r",
      " 82%|██████████████████████████████████████████████████████████████████████████████████████████████████████████████████████████████████████████████████████████████████████████████████████████▉                                          | 2000/2450 [00:46<00:12, 36.23it/s]"
     ]
    },
    {
     "name": "stderr",
     "output_type": "stream",
     "text": [
      "\r",
      " 82%|███████████████████████████████████████████████████████████████████████████████████████████████████████████████████████████████████████████████████████████████████████████████████████████▎                                         | 2004/2450 [00:46<00:14, 31.74it/s]"
     ]
    },
    {
     "name": "stderr",
     "output_type": "stream",
     "text": [
      "\r",
      " 82%|███████████████████████████████████████████████████████████████████████████████████████████████████████████████████████████████████████████████████████████████████████████████████████████▊                                         | 2010/2450 [00:46<00:11, 37.80it/s]"
     ]
    },
    {
     "name": "stderr",
     "output_type": "stream",
     "text": [
      "\r",
      " 82%|████████████████████████████████████████████████████████████████████████████████████████████████████████████████████████████████████████████████████████████████████████████████████████████▎                                        | 2015/2450 [00:46<00:12, 34.45it/s]"
     ]
    },
    {
     "name": "stderr",
     "output_type": "stream",
     "text": [
      "\r",
      " 82%|████████████████████████████████████████████████████████████████████████████████████████████████████████████████████████████████████████████████████████████████████████████████████████████▋                                        | 2019/2450 [00:47<00:13, 31.64it/s]"
     ]
    },
    {
     "name": "stderr",
     "output_type": "stream",
     "text": [
      "\r",
      " 83%|█████████████████████████████████████████████████████████████████████████████████████████████████████████████████████████████████████████████████████████████████████████████████████████████▏                                       | 2024/2450 [00:47<00:11, 35.55it/s]"
     ]
    },
    {
     "name": "stderr",
     "output_type": "stream",
     "text": [
      "\r",
      " 83%|█████████████████████████████████████████████████████████████████████████████████████████████████████████████████████████████████████████████████████████████████████████████████████████████▋                                       | 2030/2450 [00:47<00:10, 38.90it/s]"
     ]
    },
    {
     "name": "stderr",
     "output_type": "stream",
     "text": [
      "\r",
      " 83%|██████████████████████████████████████████████████████████████████████████████████████████████████████████████████████████████████████████████████████████████████████████████████████████████▏                                      | 2035/2450 [00:47<00:10, 40.92it/s]"
     ]
    },
    {
     "name": "stderr",
     "output_type": "stream",
     "text": [
      "\r",
      " 83%|██████████████████████████████████████████████████████████████████████████████████████████████████████████████████████████████████████████████████████████████████████████████████████████████▋                                      | 2040/2450 [00:47<00:11, 36.28it/s]"
     ]
    },
    {
     "name": "stderr",
     "output_type": "stream",
     "text": [
      "\r",
      " 83%|███████████████████████████████████████████████████████████████████████████████████████████████████████████████████████████████████████████████████████████████████████████████████████████████                                      | 2044/2450 [00:47<00:11, 36.67it/s]"
     ]
    },
    {
     "name": "stderr",
     "output_type": "stream",
     "text": [
      "\r",
      " 84%|███████████████████████████████████████████████████████████████████████████████████████████████████████████████████████████████████████████████████████████████████████████████████████████████▌                                     | 2050/2450 [00:47<00:09, 40.72it/s]"
     ]
    },
    {
     "name": "stderr",
     "output_type": "stream",
     "text": [
      "\r",
      " 84%|████████████████████████████████████████████████████████████████████████████████████████████████████████████████████████████████████████████████████████████████████████████████████████████████                                     | 2055/2450 [00:47<00:10, 36.25it/s]"
     ]
    },
    {
     "name": "stderr",
     "output_type": "stream",
     "text": [
      "\r",
      " 84%|████████████████████████████████████████████████████████████████████████████████████████████████████████████████████████████████████████████████████████████████████████████████████████████████▍                                    | 2059/2450 [00:48<00:13, 29.98it/s]"
     ]
    },
    {
     "name": "stderr",
     "output_type": "stream",
     "text": [
      "\r",
      " 84%|████████████████████████████████████████████████████████████████████████████████████████████████████████████████████████████████████████████████████████████████████████████████████████████████▉                                    | 2064/2450 [00:48<00:11, 33.83it/s]"
     ]
    },
    {
     "name": "stderr",
     "output_type": "stream",
     "text": [
      "\r",
      " 84%|█████████████████████████████████████████████████████████████████████████████████████████████████████████████████████████████████████████████████████████████████████████████████████████████████▎                                   | 2068/2450 [00:48<00:10, 35.07it/s]"
     ]
    },
    {
     "name": "stderr",
     "output_type": "stream",
     "text": [
      "\r",
      " 85%|█████████████████████████████████████████████████████████████████████████████████████████████████████████████████████████████████████████████████████████████████████████████████████████████████▊                                   | 2074/2450 [00:48<00:09, 40.54it/s]"
     ]
    },
    {
     "name": "stderr",
     "output_type": "stream",
     "text": [
      "\r",
      " 85%|██████████████████████████████████████████████████████████████████████████████████████████████████████████████████████████████████████████████████████████████████████████████████████████████████▎                                  | 2079/2450 [00:48<00:08, 42.09it/s]"
     ]
    },
    {
     "name": "stderr",
     "output_type": "stream",
     "text": [
      "\r",
      " 85%|██████████████████████████████████████████████████████████████████████████████████████████████████████████████████████████████████████████████████████████████████████████████████████████████████▉                                  | 2085/2450 [00:48<00:08, 45.23it/s]"
     ]
    },
    {
     "name": "stderr",
     "output_type": "stream",
     "text": [
      "\r",
      " 85%|███████████████████████████████████████████████████████████████████████████████████████████████████████████████████████████████████████████████████████████████████████████████████████████████████▎                                 | 2090/2450 [00:48<00:08, 44.60it/s]"
     ]
    },
    {
     "name": "stderr",
     "output_type": "stream",
     "text": [
      "\r",
      " 86%|███████████████████████████████████████████████████████████████████████████████████████████████████████████████████████████████████████████████████████████████████████████████████████████████████▊                                 | 2095/2450 [00:48<00:07, 45.84it/s]"
     ]
    },
    {
     "name": "stderr",
     "output_type": "stream",
     "text": [
      "\r",
      " 86%|████████████████████████████████████████████████████████████████████████████████████████████████████████████████████████████████████████████████████████████████████████████████████████████████████▍                                | 2101/2450 [00:48<00:07, 47.79it/s]"
     ]
    },
    {
     "name": "stderr",
     "output_type": "stream",
     "text": [
      "\r",
      " 86%|████████████████████████████████████████████████████████████████████████████████████████████████████████████████████████████████████████████████████████████████████████████████████████████████████▊                                | 2106/2450 [00:49<00:08, 38.81it/s]"
     ]
    },
    {
     "name": "stderr",
     "output_type": "stream",
     "text": [
      "\r",
      " 86%|█████████████████████████████████████████████████████████████████████████████████████████████████████████████████████████████████████████████████████████████████████████████████████████████████████▎                               | 2111/2450 [00:49<00:08, 39.59it/s]"
     ]
    },
    {
     "name": "stderr",
     "output_type": "stream",
     "text": [
      "\r",
      " 86%|█████████████████████████████████████████████████████████████████████████████████████████████████████████████████████████████████████████████████████████████████████████████████████████████████████▊                               | 2117/2450 [00:49<00:07, 43.18it/s]"
     ]
    },
    {
     "name": "stderr",
     "output_type": "stream",
     "text": [
      "\r",
      " 87%|██████████████████████████████████████████████████████████████████████████████████████████████████████████████████████████████████████████████████████████████████████████████████████████████████████▎                              | 2122/2450 [00:49<00:08, 37.38it/s]"
     ]
    },
    {
     "name": "stderr",
     "output_type": "stream",
     "text": [
      "\r",
      " 87%|██████████████████████████████████████████████████████████████████████████████████████████████████████████████████████████████████████████████████████████████████████████████████████████████████████▊                              | 2127/2450 [00:49<00:08, 39.83it/s]"
     ]
    },
    {
     "name": "stderr",
     "output_type": "stream",
     "text": [
      "\r",
      " 87%|███████████████████████████████████████████████████████████████████████████████████████████████████████████████████████████████████████████████████████████████████████████████████████████████████████▎                             | 2132/2450 [00:49<00:07, 40.75it/s]"
     ]
    },
    {
     "name": "stderr",
     "output_type": "stream",
     "text": [
      "\r",
      " 87%|███████████████████████████████████████████████████████████████████████████████████████████████████████████████████████████████████████████████████████████████████████████████████████████████████████▋                             | 2137/2450 [00:49<00:07, 42.43it/s]"
     ]
    },
    {
     "name": "stderr",
     "output_type": "stream",
     "text": [
      "\r",
      " 87%|████████████████████████████████████████████████████████████████████████████████████████████████████████████████████████████████████████████████████████████████████████████████████████████████████████▏                            | 2142/2450 [00:50<00:07, 43.69it/s]"
     ]
    },
    {
     "name": "stderr",
     "output_type": "stream",
     "text": [
      "\r",
      " 88%|████████████████████████████████████████████████████████████████████████████████████████████████████████████████████████████████████████████████████████████████████████████████████████████████████████▋                            | 2147/2450 [00:50<00:06, 44.46it/s]"
     ]
    },
    {
     "name": "stderr",
     "output_type": "stream",
     "text": [
      "\r",
      " 88%|█████████████████████████████████████████████████████████████████████████████████████████████████████████████████████████████████████████████████████████████████████████████████████████████████████████▏                           | 2152/2450 [00:50<00:06, 45.73it/s]"
     ]
    },
    {
     "name": "stderr",
     "output_type": "stream",
     "text": [
      "\r",
      " 88%|█████████████████████████████████████████████████████████████████████████████████████████████████████████████████████████████████████████████████████████████████████████████████████████████████████████▌                           | 2157/2450 [00:50<00:07, 37.48it/s]"
     ]
    },
    {
     "name": "stderr",
     "output_type": "stream",
     "text": [
      "\r",
      " 88%|██████████████████████████████████████████████████████████████████████████████████████████████████████████████████████████████████████████████████████████████████████████████████████████████████████████                           | 2162/2450 [00:50<00:07, 40.34it/s]"
     ]
    },
    {
     "name": "stderr",
     "output_type": "stream",
     "text": [
      "\r",
      " 88%|██████████████████████████████████████████████████████████████████████████████████████████████████████████████████████████████████████████████████████████████████████████████████████████████████████████▌                          | 2167/2450 [00:50<00:08, 34.33it/s]"
     ]
    },
    {
     "name": "stderr",
     "output_type": "stream",
     "text": [
      "\r",
      " 89%|██████████████████████████████████████████████████████████████████████████████████████████████████████████████████████████████████████████████████████████████████████████████████████████████████████████▉                          | 2171/2450 [00:50<00:08, 34.68it/s]"
     ]
    },
    {
     "name": "stderr",
     "output_type": "stream",
     "text": [
      "\r",
      " 89%|███████████████████████████████████████████████████████████████████████████████████████████████████████████████████████████████████████████████████████████████████████████████████████████████████████████▍                         | 2176/2450 [00:50<00:07, 35.70it/s]"
     ]
    },
    {
     "name": "stderr",
     "output_type": "stream",
     "text": [
      "\r",
      " 89%|███████████████████████████████████████████████████████████████████████████████████████████████████████████████████████████████████████████████████████████████████████████████████████████████████████████▉                         | 2182/2450 [00:51<00:06, 40.61it/s]"
     ]
    },
    {
     "name": "stderr",
     "output_type": "stream",
     "text": [
      "\r",
      " 89%|████████████████████████████████████████████████████████████████████████████████████████████████████████████████████████████████████████████████████████████████████████████████████████████████████████████▍                        | 2187/2450 [00:51<00:07, 36.17it/s]"
     ]
    },
    {
     "name": "stderr",
     "output_type": "stream",
     "text": [
      "\r",
      " 90%|████████████████████████████████████████████████████████████████████████████████████████████████████████████████████████████████████████████████████████████████████████████████████████████████████████████▉                        | 2193/2450 [00:51<00:06, 40.29it/s]"
     ]
    },
    {
     "name": "stderr",
     "output_type": "stream",
     "text": [
      "\r",
      " 90%|█████████████████████████████████████████████████████████████████████████████████████████████████████████████████████████████████████████████████████████████████████████████████████████████████████████████▍                       | 2198/2450 [00:51<00:06, 39.38it/s]"
     ]
    },
    {
     "name": "stderr",
     "output_type": "stream",
     "text": [
      "\r",
      " 90%|█████████████████████████████████████████████████████████████████████████████████████████████████████████████████████████████████████████████████████████████████████████████████████████████████████████████▉                       | 2203/2450 [00:51<00:06, 35.50it/s]"
     ]
    },
    {
     "name": "stderr",
     "output_type": "stream",
     "text": [
      "\r",
      " 90%|██████████████████████████████████████████████████████████████████████████████████████████████████████████████████████████████████████████████████████████████████████████████████████████████████████████████▍                      | 2208/2450 [00:51<00:06, 38.32it/s]"
     ]
    },
    {
     "name": "stderr",
     "output_type": "stream",
     "text": [
      "\r",
      " 90%|██████████████████████████████████████████████████████████████████████████████████████████████████████████████████████████████████████████████████████████████████████████████████████████████████████████████▉                      | 2214/2450 [00:51<00:05, 41.98it/s]"
     ]
    },
    {
     "name": "stderr",
     "output_type": "stream",
     "text": [
      "\r",
      " 91%|███████████████████████████████████████████████████████████████████████████████████████████████████████████████████████████████████████████████████████████████████████████████████████████████████████████████▌                     | 2220/2450 [00:52<00:05, 45.11it/s]"
     ]
    },
    {
     "name": "stderr",
     "output_type": "stream",
     "text": [
      "\r",
      " 91%|████████████████████████████████████████████████████████████████████████████████████████████████████████████████████████████████████████████████████████████████████████████████████████████████████████████████▏                    | 2227/2450 [00:52<00:04, 49.04it/s]"
     ]
    },
    {
     "name": "stderr",
     "output_type": "stream",
     "text": [
      "\r",
      " 91%|████████████████████████████████████████████████████████████████████████████████████████████████████████████████████████████████████████████████████████████████████████████████████████████████████████████████▋                    | 2233/2450 [00:52<00:04, 49.06it/s]"
     ]
    },
    {
     "name": "stderr",
     "output_type": "stream",
     "text": [
      "\r",
      " 91%|█████████████████████████████████████████████████████████████████████████████████████████████████████████████████████████████████████████████████████████████████████████████████████████████████████████████████▏                   | 2238/2450 [00:52<00:04, 48.99it/s]"
     ]
    },
    {
     "name": "stderr",
     "output_type": "stream",
     "text": [
      "\r",
      " 92%|█████████████████████████████████████████████████████████████████████████████████████████████████████████████████████████████████████████████████████████████████████████████████████████████████████████████████▋                   | 2244/2450 [00:52<00:04, 51.18it/s]"
     ]
    },
    {
     "name": "stderr",
     "output_type": "stream",
     "text": [
      "\r",
      " 92%|██████████████████████████████████████████████████████████████████████████████████████████████████████████████████████████████████████████████████████████████████████████████████████████████████████████████████▎                  | 2250/2450 [00:52<00:03, 52.72it/s]"
     ]
    },
    {
     "name": "stderr",
     "output_type": "stream",
     "text": [
      "\r",
      " 92%|██████████████████████████████████████████████████████████████████████████████████████████████████████████████████████████████████████████████████████████████████████████████████████████████████████████████████▊                  | 2256/2450 [00:52<00:03, 52.61it/s]"
     ]
    },
    {
     "name": "stderr",
     "output_type": "stream",
     "text": [
      "\r",
      " 92%|███████████████████████████████████████████████████████████████████████████████████████████████████████████████████████████████████████████████████████████████████████████████████████████████████████████████████▍                 | 2262/2450 [00:52<00:03, 52.95it/s]"
     ]
    },
    {
     "name": "stderr",
     "output_type": "stream",
     "text": [
      "\r",
      " 93%|███████████████████████████████████████████████████████████████████████████████████████████████████████████████████████████████████████████████████████████████████████████████████████████████████████████████████▉                 | 2268/2450 [00:52<00:03, 52.61it/s]"
     ]
    },
    {
     "name": "stderr",
     "output_type": "stream",
     "text": [
      "\r",
      " 93%|████████████████████████████████████████████████████████████████████████████████████████████████████████████████████████████████████████████████████████████████████████████████████████████████████████████████████▌                | 2274/2450 [00:53<00:03, 51.68it/s]"
     ]
    },
    {
     "name": "stderr",
     "output_type": "stream",
     "text": [
      "\r",
      " 93%|█████████████████████████████████████████████████████████████████████████████████████████████████████████████████████████████████████████████████████████████████████████████████████████████████████████████████████                | 2280/2450 [00:53<00:03, 50.28it/s]"
     ]
    },
    {
     "name": "stderr",
     "output_type": "stream",
     "text": [
      "\r",
      " 93%|█████████████████████████████████████████████████████████████████████████████████████████████████████████████████████████████████████████████████████████████████████████████████████████████████████████████████████▋               | 2286/2450 [00:53<00:03, 51.47it/s]"
     ]
    },
    {
     "name": "stderr",
     "output_type": "stream",
     "text": [
      "\r",
      " 94%|██████████████████████████████████████████████████████████████████████████████████████████████████████████████████████████████████████████████████████████████████████████████████████████████████████████████████████▏              | 2292/2450 [00:53<00:03, 42.20it/s]"
     ]
    },
    {
     "name": "stderr",
     "output_type": "stream",
     "text": [
      "\r",
      " 94%|██████████████████████████████████████████████████████████████████████████████████████████████████████████████████████████████████████████████████████████████████████████████████████████████████████████████████████▋              | 2297/2450 [00:53<00:04, 36.72it/s]"
     ]
    },
    {
     "name": "stderr",
     "output_type": "stream",
     "text": [
      "\r",
      " 94%|███████████████████████████████████████████████████████████████████████████████████████████████████████████████████████████████████████████████████████████████████████████████████████████████████████████████████████▎             | 2303/2450 [00:53<00:03, 40.73it/s]"
     ]
    },
    {
     "name": "stderr",
     "output_type": "stream",
     "text": [
      "\r",
      " 94%|███████████████████████████████████████████████████████████████████████████████████████████████████████████████████████████████████████████████████████████████████████████████████████████████████████████████████████▋             | 2308/2450 [00:53<00:04, 35.49it/s]"
     ]
    },
    {
     "name": "stderr",
     "output_type": "stream",
     "text": [
      "\r",
      " 94%|████████████████████████████████████████████████████████████████████████████████████████████████████████████████████████████████████████████████████████████████████████████████████████████████████████████████████████▎            | 2314/2450 [00:54<00:04, 32.67it/s]"
     ]
    },
    {
     "name": "stderr",
     "output_type": "stream",
     "text": [
      "\r",
      " 95%|████████████████████████████████████████████████████████████████████████████████████████████████████████████████████████████████████████████████████████████████████████████████████████████████████████████████████████▊            | 2320/2450 [00:54<00:03, 37.81it/s]"
     ]
    },
    {
     "name": "stderr",
     "output_type": "stream",
     "text": [
      "\r",
      " 95%|█████████████████████████████████████████████████████████████████████████████████████████████████████████████████████████████████████████████████████████████████████████████████████████████████████████████████████████▌           | 2327/2450 [00:54<00:02, 43.31it/s]"
     ]
    },
    {
     "name": "stderr",
     "output_type": "stream",
     "text": [
      "\r",
      " 95%|██████████████████████████████████████████████████████████████████████████████████████████████████████████████████████████████████████████████████████████████████████████████████████████████████████████████████████████           | 2333/2450 [00:54<00:02, 45.30it/s]"
     ]
    },
    {
     "name": "stderr",
     "output_type": "stream",
     "text": [
      "\r",
      " 95%|██████████████████████████████████████████████████████████████████████████████████████████████████████████████████████████████████████████████████████████████████████████████████████████████████████████████████████████▌          | 2339/2450 [00:54<00:02, 47.50it/s]"
     ]
    },
    {
     "name": "stderr",
     "output_type": "stream",
     "text": [
      "\r",
      " 96%|███████████████████████████████████████████████████████████████████████████████████████████████████████████████████████████████████████████████████████████████████████████████████████████████████████████████████████████▏         | 2345/2450 [00:54<00:02, 38.75it/s]"
     ]
    },
    {
     "name": "stderr",
     "output_type": "stream",
     "text": [
      "\r",
      " 96%|███████████████████████████████████████████████████████████████████████████████████████████████████████████████████████████████████████████████████████████████████████████████████████████████████████████████████████████▋         | 2350/2450 [00:55<00:02, 35.00it/s]"
     ]
    },
    {
     "name": "stderr",
     "output_type": "stream",
     "text": [
      "\r",
      " 96%|████████████████████████████████████████████████████████████████████████████████████████████████████████████████████████████████████████████████████████████████████████████████████████████████████████████████████████████▏        | 2356/2450 [00:55<00:02, 39.66it/s]"
     ]
    },
    {
     "name": "stderr",
     "output_type": "stream",
     "text": [
      "\r",
      " 96%|████████████████████████████████████████████████████████████████████████████████████████████████████████████████████████████████████████████████████████████████████████████████████████████████████████████████████████████▋        | 2361/2450 [00:55<00:02, 41.81it/s]"
     ]
    },
    {
     "name": "stderr",
     "output_type": "stream",
     "text": [
      "\r",
      " 97%|█████████████████████████████████████████████████████████████████████████████████████████████████████████████████████████████████████████████████████████████████████████████████████████████████████████████████████████████▏       | 2366/2450 [00:55<00:02, 36.15it/s]"
     ]
    },
    {
     "name": "stderr",
     "output_type": "stream",
     "text": [
      "\r",
      " 97%|█████████████████████████████████████████████████████████████████████████████████████████████████████████████████████████████████████████████████████████████████████████████████████████████████████████████████████████████▌       | 2371/2450 [00:55<00:02, 38.58it/s]"
     ]
    },
    {
     "name": "stderr",
     "output_type": "stream",
     "text": [
      "\r",
      " 97%|██████████████████████████████████████████████████████████████████████████████████████████████████████████████████████████████████████████████████████████████████████████████████████████████████████████████████████████████       | 2376/2450 [00:55<00:02, 35.23it/s]"
     ]
    },
    {
     "name": "stderr",
     "output_type": "stream",
     "text": [
      "\r",
      " 97%|██████████████████████████████████████████████████████████████████████████████████████████████████████████████████████████████████████████████████████████████████████████████████████████████████████████████████████████████▋      | 2382/2450 [00:55<00:01, 39.87it/s]"
     ]
    },
    {
     "name": "stderr",
     "output_type": "stream",
     "text": [
      "\r",
      " 98%|███████████████████████████████████████████████████████████████████████████████████████████████████████████████████████████████████████████████████████████████████████████████████████████████████████████████████████████████▎     | 2389/2450 [00:55<00:01, 45.04it/s]"
     ]
    },
    {
     "name": "stderr",
     "output_type": "stream",
     "text": [
      "\r",
      " 98%|███████████████████████████████████████████████████████████████████████████████████████████████████████████████████████████████████████████████████████████████████████████████████████████████████████████████████████████████▉     | 2396/2450 [00:56<00:01, 42.64it/s]"
     ]
    },
    {
     "name": "stderr",
     "output_type": "stream",
     "text": [
      "\r",
      " 98%|████████████████████████████████████████████████████████████████████████████████████████████████████████████████████████████████████████████████████████████████████████████████████████████████████████████████████████████████▍    | 2401/2450 [00:56<00:01, 43.95it/s]"
     ]
    },
    {
     "name": "stderr",
     "output_type": "stream",
     "text": [
      "\r",
      " 98%|█████████████████████████████████████████████████████████████████████████████████████████████████████████████████████████████████████████████████████████████████████████████████████████████████████████████████████████████████    | 2408/2450 [00:56<00:00, 47.76it/s]"
     ]
    },
    {
     "name": "stderr",
     "output_type": "stream",
     "text": [
      "\r",
      " 98%|█████████████████████████████████████████████████████████████████████████████████████████████████████████████████████████████████████████████████████████████████████████████████████████████████████████████████████████████████▌   | 2413/2450 [00:56<00:00, 45.43it/s]"
     ]
    },
    {
     "name": "stderr",
     "output_type": "stream",
     "text": [
      "\r",
      " 99%|██████████████████████████████████████████████████████████████████████████████████████████████████████████████████████████████████████████████████████████████████████████████████████████████████████████████████████████████████   | 2419/2450 [00:56<00:00, 48.24it/s]"
     ]
    },
    {
     "name": "stderr",
     "output_type": "stream",
     "text": [
      "\r",
      " 99%|██████████████████████████████████████████████████████████████████████████████████████████████████████████████████████████████████████████████████████████████████████████████████████████████████████████████████████████████████▋  | 2425/2450 [00:56<00:00, 50.07it/s]"
     ]
    },
    {
     "name": "stderr",
     "output_type": "stream",
     "text": [
      "\r",
      " 99%|███████████████████████████████████████████████████████████████████████████████████████████████████████████████████████████████████████████████████████████████████████████████████████████████████████████████████████████████████▏ | 2431/2450 [00:56<00:00, 41.62it/s]"
     ]
    },
    {
     "name": "stderr",
     "output_type": "stream",
     "text": [
      "\r",
      " 99%|███████████████████████████████████████████████████████████████████████████████████████████████████████████████████████████████████████████████████████████████████████████████████████████████████████████████████████████████████▊ | 2437/2450 [00:56<00:00, 44.29it/s]"
     ]
    },
    {
     "name": "stderr",
     "output_type": "stream",
     "text": [
      "\r",
      "100%|████████████████████████████████████████████████████████████████████████████████████████████████████████████████████████████████████████████████████████████████████████████████████████████████████████████████████████████████████▎| 2442/2450 [00:57<00:00, 45.39it/s]"
     ]
    },
    {
     "name": "stderr",
     "output_type": "stream",
     "text": [
      "\r",
      "100%|████████████████████████████████████████████████████████████████████████████████████████████████████████████████████████████████████████████████████████████████████████████████████████████████████████████████████████████████████▊| 2448/2450 [00:57<00:00, 38.70it/s]"
     ]
    },
    {
     "name": "stderr",
     "output_type": "stream",
     "text": [
      "\r",
      "100%|█████████████████████████████████████████████████████████████████████████████████████████████████████████████████████████████████████████████████████████████████████████████████████████████████████████████████████████████████████| 2450/2450 [01:10<00:00, 38.70it/s]"
     ]
    },
    {
     "name": "stderr",
     "output_type": "stream",
     "text": [
      "\r",
      "100%|█████████████████████████████████████████████████████████████████████████████████████████████████████████████████████████████████████████████████████████████████████████████████████████████████████████████████████████████████████| 2450/2450 [01:23<00:00, 29.44it/s]"
     ]
    },
    {
     "name": "stderr",
     "output_type": "stream",
     "text": [
      "\n"
     ]
    }
   ],
   "source": [
    "output_df = expanded_ingredients_df.join(food_ids).progress_apply(get_ingredient_contents, args=(\n",
    "        duplicate_content_df[['concentration']],\n",
    "        non_duplicate_content_df[['concentration']],\n",
    "        all_compounds, \n",
    "        unique_orig_foods,), \n",
    "    axis=1)"
   ]
  },
  {
   "cell_type": "code",
   "execution_count": 73,
   "metadata": {
    "execution": {
     "iopub.execute_input": "2024-02-11T11:48:19.534081Z",
     "iopub.status.busy": "2024-02-11T11:48:19.533950Z",
     "iopub.status.idle": "2024-02-11T11:48:19.536366Z",
     "shell.execute_reply": "2024-02-11T11:48:19.536021Z"
    }
   },
   "outputs": [
    {
     "data": {
      "text/plain": [
       "Index([ 1598,  1599,  1600,  1601,  1602,  1603,  1713,  1714,  1715,  2804,\n",
       "       ...\n",
       "        7967,  7968, 12486, 16245, 16327, 17119, 21872,  1538,  1545, 13358],\n",
       "      dtype='int64', name='source_id', length=58826)"
      ]
     },
     "execution_count": 73,
     "metadata": {},
     "output_type": "execute_result"
    }
   ],
   "source": [
    "output_df.columns"
   ]
  },
  {
   "cell_type": "code",
   "execution_count": 74,
   "metadata": {
    "execution": {
     "iopub.execute_input": "2024-02-11T11:48:19.537516Z",
     "iopub.status.busy": "2024-02-11T11:48:19.537336Z",
     "iopub.status.idle": "2024-02-11T11:48:20.752456Z",
     "shell.execute_reply": "2024-02-11T11:48:20.752228Z"
    }
   },
   "outputs": [
    {
     "data": {
      "text/plain": [
       "Index([ 1598,  1599,  1600,  1601,  1602,  1603,  1713,  1714,  1715,  2804,\n",
       "       ...\n",
       "        7965,  7967,  7968, 12486, 16245, 16327, 17119, 21872,  1538,  1545],\n",
       "      dtype='int64', name='source_id', length=57469)"
      ]
     },
     "execution_count": 74,
     "metadata": {},
     "output_type": "execute_result"
    }
   ],
   "source": [
    "output_df.columns[output_df.isna().all()]"
   ]
  },
  {
   "cell_type": "markdown",
   "metadata": {},
   "source": [
    "For now lets drop the compounds which don't contain concentration info."
   ]
  },
  {
   "cell_type": "code",
   "execution_count": 75,
   "metadata": {
    "execution": {
     "iopub.execute_input": "2024-02-11T11:48:20.753840Z",
     "iopub.status.busy": "2024-02-11T11:48:20.753719Z",
     "iopub.status.idle": "2024-02-11T11:48:22.070852Z",
     "shell.execute_reply": "2024-02-11T11:48:22.070347Z"
    }
   },
   "outputs": [],
   "source": [
    "output_df = output_df.drop(output_df.columns[output_df.isna().all()], axis=1)"
   ]
  },
  {
   "cell_type": "code",
   "execution_count": 76,
   "metadata": {
    "execution": {
     "iopub.execute_input": "2024-02-11T11:48:22.072404Z",
     "iopub.status.busy": "2024-02-11T11:48:22.072314Z",
     "iopub.status.idle": "2024-02-11T11:48:22.081162Z",
     "shell.execute_reply": "2024-02-11T11:48:22.080894Z"
    }
   },
   "outputs": [
    {
     "data": {
      "text/html": [
       "<div>\n",
       "<style scoped>\n",
       "    .dataframe tbody tr th:only-of-type {\n",
       "        vertical-align: middle;\n",
       "    }\n",
       "\n",
       "    .dataframe tbody tr th {\n",
       "        vertical-align: top;\n",
       "    }\n",
       "\n",
       "    .dataframe thead th {\n",
       "        text-align: right;\n",
       "    }\n",
       "</style>\n",
       "<table border=\"1\" class=\"dataframe\">\n",
       "  <thead>\n",
       "    <tr style=\"text-align: right;\">\n",
       "      <th></th>\n",
       "      <th>source_id</th>\n",
       "      <th>12477</th>\n",
       "      <th>12664</th>\n",
       "      <th>236</th>\n",
       "      <th>316</th>\n",
       "      <th>446</th>\n",
       "      <th>474</th>\n",
       "      <th>484</th>\n",
       "      <th>556</th>\n",
       "      <th>565</th>\n",
       "      <th>567</th>\n",
       "      <th>...</th>\n",
       "      <th>15516</th>\n",
       "      <th>11709</th>\n",
       "      <th>13142</th>\n",
       "      <th>16670</th>\n",
       "      <th>234</th>\n",
       "      <th>20150</th>\n",
       "      <th>29802</th>\n",
       "      <th>9651</th>\n",
       "      <th>18378</th>\n",
       "      <th>13358</th>\n",
       "    </tr>\n",
       "    <tr>\n",
       "      <th>recipe</th>\n",
       "      <th>ingredient</th>\n",
       "      <th></th>\n",
       "      <th></th>\n",
       "      <th></th>\n",
       "      <th></th>\n",
       "      <th></th>\n",
       "      <th></th>\n",
       "      <th></th>\n",
       "      <th></th>\n",
       "      <th></th>\n",
       "      <th></th>\n",
       "      <th></th>\n",
       "      <th></th>\n",
       "      <th></th>\n",
       "      <th></th>\n",
       "      <th></th>\n",
       "      <th></th>\n",
       "      <th></th>\n",
       "      <th></th>\n",
       "      <th></th>\n",
       "      <th></th>\n",
       "      <th></th>\n",
       "    </tr>\n",
       "  </thead>\n",
       "  <tbody>\n",
       "    <tr>\n",
       "      <th rowspan=\"5\" valign=\"top\">1746116</th>\n",
       "      <th>0</th>\n",
       "      <td>&lt;NA&gt;</td>\n",
       "      <td>&lt;NA&gt;</td>\n",
       "      <td>&lt;NA&gt;</td>\n",
       "      <td>&lt;NA&gt;</td>\n",
       "      <td>27.666667</td>\n",
       "      <td>55.5</td>\n",
       "      <td>12.666667</td>\n",
       "      <td>20.333333</td>\n",
       "      <td>1.653333</td>\n",
       "      <td>&lt;NA&gt;</td>\n",
       "      <td>...</td>\n",
       "      <td>NaN</td>\n",
       "      <td>NaN</td>\n",
       "      <td>NaN</td>\n",
       "      <td>NaN</td>\n",
       "      <td>NaN</td>\n",
       "      <td>NaN</td>\n",
       "      <td>NaN</td>\n",
       "      <td>NaN</td>\n",
       "      <td>NaN</td>\n",
       "      <td>NaN</td>\n",
       "    </tr>\n",
       "    <tr>\n",
       "      <th>1</th>\n",
       "      <td>&lt;NA&gt;</td>\n",
       "      <td>&lt;NA&gt;</td>\n",
       "      <td>&lt;NA&gt;</td>\n",
       "      <td>&lt;NA&gt;</td>\n",
       "      <td>0.0</td>\n",
       "      <td>0.0</td>\n",
       "      <td>0.0</td>\n",
       "      <td>0.0</td>\n",
       "      <td>0.0</td>\n",
       "      <td>&lt;NA&gt;</td>\n",
       "      <td>...</td>\n",
       "      <td>NaN</td>\n",
       "      <td>NaN</td>\n",
       "      <td>NaN</td>\n",
       "      <td>NaN</td>\n",
       "      <td>NaN</td>\n",
       "      <td>NaN</td>\n",
       "      <td>NaN</td>\n",
       "      <td>NaN</td>\n",
       "      <td>NaN</td>\n",
       "      <td>NaN</td>\n",
       "    </tr>\n",
       "    <tr>\n",
       "      <th>2</th>\n",
       "      <td>&lt;NA&gt;</td>\n",
       "      <td>&lt;NA&gt;</td>\n",
       "      <td>&lt;NA&gt;</td>\n",
       "      <td>&lt;NA&gt;</td>\n",
       "      <td>539.666667</td>\n",
       "      <td>951.0</td>\n",
       "      <td>450.666667</td>\n",
       "      <td>771.666667</td>\n",
       "      <td>1.375</td>\n",
       "      <td>&lt;NA&gt;</td>\n",
       "      <td>...</td>\n",
       "      <td>NaN</td>\n",
       "      <td>NaN</td>\n",
       "      <td>NaN</td>\n",
       "      <td>NaN</td>\n",
       "      <td>NaN</td>\n",
       "      <td>NaN</td>\n",
       "      <td>NaN</td>\n",
       "      <td>NaN</td>\n",
       "      <td>NaN</td>\n",
       "      <td>NaN</td>\n",
       "    </tr>\n",
       "    <tr>\n",
       "      <th>3</th>\n",
       "      <td>&lt;NA&gt;</td>\n",
       "      <td>&lt;NA&gt;</td>\n",
       "      <td>&lt;NA&gt;</td>\n",
       "      <td>&lt;NA&gt;</td>\n",
       "      <td>&lt;NA&gt;</td>\n",
       "      <td>&lt;NA&gt;</td>\n",
       "      <td>&lt;NA&gt;</td>\n",
       "      <td>&lt;NA&gt;</td>\n",
       "      <td>0.0</td>\n",
       "      <td>&lt;NA&gt;</td>\n",
       "      <td>...</td>\n",
       "      <td>NaN</td>\n",
       "      <td>NaN</td>\n",
       "      <td>NaN</td>\n",
       "      <td>NaN</td>\n",
       "      <td>NaN</td>\n",
       "      <td>NaN</td>\n",
       "      <td>NaN</td>\n",
       "      <td>NaN</td>\n",
       "      <td>NaN</td>\n",
       "      <td>NaN</td>\n",
       "    </tr>\n",
       "    <tr>\n",
       "      <th>4</th>\n",
       "      <td>&lt;NA&gt;</td>\n",
       "      <td>&lt;NA&gt;</td>\n",
       "      <td>&lt;NA&gt;</td>\n",
       "      <td>&lt;NA&gt;</td>\n",
       "      <td>&lt;NA&gt;</td>\n",
       "      <td>&lt;NA&gt;</td>\n",
       "      <td>&lt;NA&gt;</td>\n",
       "      <td>&lt;NA&gt;</td>\n",
       "      <td>&lt;NA&gt;</td>\n",
       "      <td>&lt;NA&gt;</td>\n",
       "      <td>...</td>\n",
       "      <td>NaN</td>\n",
       "      <td>NaN</td>\n",
       "      <td>NaN</td>\n",
       "      <td>NaN</td>\n",
       "      <td>NaN</td>\n",
       "      <td>NaN</td>\n",
       "      <td>NaN</td>\n",
       "      <td>NaN</td>\n",
       "      <td>NaN</td>\n",
       "      <td>NaN</td>\n",
       "    </tr>\n",
       "    <tr>\n",
       "      <th>...</th>\n",
       "      <th>...</th>\n",
       "      <td>...</td>\n",
       "      <td>...</td>\n",
       "      <td>...</td>\n",
       "      <td>...</td>\n",
       "      <td>...</td>\n",
       "      <td>...</td>\n",
       "      <td>...</td>\n",
       "      <td>...</td>\n",
       "      <td>...</td>\n",
       "      <td>...</td>\n",
       "      <td>...</td>\n",
       "      <td>...</td>\n",
       "      <td>...</td>\n",
       "      <td>...</td>\n",
       "      <td>...</td>\n",
       "      <td>...</td>\n",
       "      <td>...</td>\n",
       "      <td>...</td>\n",
       "      <td>...</td>\n",
       "      <td>...</td>\n",
       "      <td>...</td>\n",
       "    </tr>\n",
       "    <tr>\n",
       "      <th rowspan=\"5\" valign=\"top\">931097</th>\n",
       "      <th>9</th>\n",
       "      <td>&lt;NA&gt;</td>\n",
       "      <td>&lt;NA&gt;</td>\n",
       "      <td>&lt;NA&gt;</td>\n",
       "      <td>&lt;NA&gt;</td>\n",
       "      <td>&lt;NA&gt;</td>\n",
       "      <td>&lt;NA&gt;</td>\n",
       "      <td>&lt;NA&gt;</td>\n",
       "      <td>&lt;NA&gt;</td>\n",
       "      <td>&lt;NA&gt;</td>\n",
       "      <td>&lt;NA&gt;</td>\n",
       "      <td>...</td>\n",
       "      <td>NaN</td>\n",
       "      <td>NaN</td>\n",
       "      <td>NaN</td>\n",
       "      <td>NaN</td>\n",
       "      <td>NaN</td>\n",
       "      <td>NaN</td>\n",
       "      <td>NaN</td>\n",
       "      <td>NaN</td>\n",
       "      <td>NaN</td>\n",
       "      <td>NaN</td>\n",
       "    </tr>\n",
       "    <tr>\n",
       "      <th>10</th>\n",
       "      <td>&lt;NA&gt;</td>\n",
       "      <td>&lt;NA&gt;</td>\n",
       "      <td>&lt;NA&gt;</td>\n",
       "      <td>&lt;NA&gt;</td>\n",
       "      <td>39.179093</td>\n",
       "      <td>93.339491</td>\n",
       "      <td>68.446891</td>\n",
       "      <td>98.856027</td>\n",
       "      <td>3.868571</td>\n",
       "      <td>0.157406</td>\n",
       "      <td>...</td>\n",
       "      <td>NaN</td>\n",
       "      <td>NaN</td>\n",
       "      <td>NaN</td>\n",
       "      <td>NaN</td>\n",
       "      <td>NaN</td>\n",
       "      <td>NaN</td>\n",
       "      <td>NaN</td>\n",
       "      <td>NaN</td>\n",
       "      <td>NaN</td>\n",
       "      <td>NaN</td>\n",
       "    </tr>\n",
       "    <tr>\n",
       "      <th>11</th>\n",
       "      <td>&lt;NA&gt;</td>\n",
       "      <td>&lt;NA&gt;</td>\n",
       "      <td>&lt;NA&gt;</td>\n",
       "      <td>&lt;NA&gt;</td>\n",
       "      <td>&lt;NA&gt;</td>\n",
       "      <td>&lt;NA&gt;</td>\n",
       "      <td>&lt;NA&gt;</td>\n",
       "      <td>391.0</td>\n",
       "      <td>&lt;NA&gt;</td>\n",
       "      <td>&lt;NA&gt;</td>\n",
       "      <td>...</td>\n",
       "      <td>NaN</td>\n",
       "      <td>NaN</td>\n",
       "      <td>NaN</td>\n",
       "      <td>NaN</td>\n",
       "      <td>NaN</td>\n",
       "      <td>NaN</td>\n",
       "      <td>NaN</td>\n",
       "      <td>NaN</td>\n",
       "      <td>NaN</td>\n",
       "      <td>NaN</td>\n",
       "    </tr>\n",
       "    <tr>\n",
       "      <th>12</th>\n",
       "      <td>&lt;NA&gt;</td>\n",
       "      <td>&lt;NA&gt;</td>\n",
       "      <td>&lt;NA&gt;</td>\n",
       "      <td>&lt;NA&gt;</td>\n",
       "      <td>620.714286</td>\n",
       "      <td>&lt;NA&gt;</td>\n",
       "      <td>1095.0</td>\n",
       "      <td>1092.857143</td>\n",
       "      <td>0.264286</td>\n",
       "      <td>&lt;NA&gt;</td>\n",
       "      <td>...</td>\n",
       "      <td>NaN</td>\n",
       "      <td>NaN</td>\n",
       "      <td>NaN</td>\n",
       "      <td>NaN</td>\n",
       "      <td>NaN</td>\n",
       "      <td>NaN</td>\n",
       "      <td>NaN</td>\n",
       "      <td>NaN</td>\n",
       "      <td>NaN</td>\n",
       "      <td>NaN</td>\n",
       "    </tr>\n",
       "    <tr>\n",
       "      <th>13</th>\n",
       "      <td>&lt;NA&gt;</td>\n",
       "      <td>&lt;NA&gt;</td>\n",
       "      <td>&lt;NA&gt;</td>\n",
       "      <td>&lt;NA&gt;</td>\n",
       "      <td>&lt;NA&gt;</td>\n",
       "      <td>&lt;NA&gt;</td>\n",
       "      <td>&lt;NA&gt;</td>\n",
       "      <td>&lt;NA&gt;</td>\n",
       "      <td>0.4</td>\n",
       "      <td>&lt;NA&gt;</td>\n",
       "      <td>...</td>\n",
       "      <td>NaN</td>\n",
       "      <td>NaN</td>\n",
       "      <td>NaN</td>\n",
       "      <td>NaN</td>\n",
       "      <td>NaN</td>\n",
       "      <td>NaN</td>\n",
       "      <td>NaN</td>\n",
       "      <td>NaN</td>\n",
       "      <td>NaN</td>\n",
       "      <td>NaN</td>\n",
       "    </tr>\n",
       "  </tbody>\n",
       "</table>\n",
       "<p>2450 rows × 1357 columns</p>\n",
       "</div>"
      ],
      "text/plain": [
       "source_id          12477 12664 236   316         446        474         484    \\\n",
       "recipe  ingredient                                                              \n",
       "1746116 0           <NA>  <NA>  <NA>  <NA>   27.666667       55.5   12.666667   \n",
       "        1           <NA>  <NA>  <NA>  <NA>         0.0        0.0         0.0   \n",
       "        2           <NA>  <NA>  <NA>  <NA>  539.666667      951.0  450.666667   \n",
       "        3           <NA>  <NA>  <NA>  <NA>        <NA>       <NA>        <NA>   \n",
       "        4           <NA>  <NA>  <NA>  <NA>        <NA>       <NA>        <NA>   \n",
       "...                  ...   ...   ...   ...         ...        ...         ...   \n",
       "931097  9           <NA>  <NA>  <NA>  <NA>        <NA>       <NA>        <NA>   \n",
       "        10          <NA>  <NA>  <NA>  <NA>   39.179093  93.339491   68.446891   \n",
       "        11          <NA>  <NA>  <NA>  <NA>        <NA>       <NA>        <NA>   \n",
       "        12          <NA>  <NA>  <NA>  <NA>  620.714286       <NA>      1095.0   \n",
       "        13          <NA>  <NA>  <NA>  <NA>        <NA>       <NA>        <NA>   \n",
       "\n",
       "source_id                 556       565       567    ... 15516 11709 13142  \\\n",
       "recipe  ingredient                                   ...                     \n",
       "1746116 0             20.333333  1.653333      <NA>  ...   NaN   NaN   NaN   \n",
       "        1                   0.0       0.0      <NA>  ...   NaN   NaN   NaN   \n",
       "        2            771.666667     1.375      <NA>  ...   NaN   NaN   NaN   \n",
       "        3                  <NA>       0.0      <NA>  ...   NaN   NaN   NaN   \n",
       "        4                  <NA>      <NA>      <NA>  ...   NaN   NaN   NaN   \n",
       "...                         ...       ...       ...  ...   ...   ...   ...   \n",
       "931097  9                  <NA>      <NA>      <NA>  ...   NaN   NaN   NaN   \n",
       "        10            98.856027  3.868571  0.157406  ...   NaN   NaN   NaN   \n",
       "        11                391.0      <NA>      <NA>  ...   NaN   NaN   NaN   \n",
       "        12          1092.857143  0.264286      <NA>  ...   NaN   NaN   NaN   \n",
       "        13                 <NA>       0.4      <NA>  ...   NaN   NaN   NaN   \n",
       "\n",
       "source_id          16670 234   20150 29802 9651  18378 13358  \n",
       "recipe  ingredient                                            \n",
       "1746116 0            NaN   NaN   NaN   NaN   NaN   NaN   NaN  \n",
       "        1            NaN   NaN   NaN   NaN   NaN   NaN   NaN  \n",
       "        2            NaN   NaN   NaN   NaN   NaN   NaN   NaN  \n",
       "        3            NaN   NaN   NaN   NaN   NaN   NaN   NaN  \n",
       "        4            NaN   NaN   NaN   NaN   NaN   NaN   NaN  \n",
       "...                  ...   ...   ...   ...   ...   ...   ...  \n",
       "931097  9            NaN   NaN   NaN   NaN   NaN   NaN   NaN  \n",
       "        10           NaN   NaN   NaN   NaN   NaN   NaN   NaN  \n",
       "        11           NaN   NaN   NaN   NaN   NaN   NaN   NaN  \n",
       "        12           NaN   NaN   NaN   NaN   NaN   NaN   NaN  \n",
       "        13           NaN   NaN   NaN   NaN   NaN   NaN   NaN  \n",
       "\n",
       "[2450 rows x 1357 columns]"
      ]
     },
     "execution_count": 76,
     "metadata": {},
     "output_type": "execute_result"
    }
   ],
   "source": [
    "output_df"
   ]
  },
  {
   "cell_type": "code",
   "execution_count": 77,
   "metadata": {
    "execution": {
     "iopub.execute_input": "2024-02-11T11:48:22.082352Z",
     "iopub.status.busy": "2024-02-11T11:48:22.082238Z",
     "iopub.status.idle": "2024-02-11T11:48:22.119272Z",
     "shell.execute_reply": "2024-02-11T11:48:22.118813Z"
    }
   },
   "outputs": [],
   "source": [
    "assert (output_df > 1e3/1e-2).sum().sum() == 0 "
   ]
  },
  {
   "cell_type": "markdown",
   "metadata": {},
   "source": [
    "## Converting"
   ]
  },
  {
   "cell_type": "markdown",
   "metadata": {},
   "source": [
    "These above are using the weight concentration ratio measured in mg/100g."
   ]
  },
  {
   "cell_type": "markdown",
   "metadata": {},
   "source": [
    "# Evaluating"
   ]
  },
  {
   "cell_type": "markdown",
   "metadata": {},
   "source": [
    "## Results"
   ]
  },
  {
   "cell_type": "markdown",
   "metadata": {},
   "source": [
    "### NA Values"
   ]
  },
  {
   "cell_type": "code",
   "execution_count": 78,
   "metadata": {
    "execution": {
     "iopub.execute_input": "2024-02-11T11:48:22.121092Z",
     "iopub.status.busy": "2024-02-11T11:48:22.120990Z",
     "iopub.status.idle": "2024-02-11T11:48:22.155398Z",
     "shell.execute_reply": "2024-02-11T11:48:22.155172Z"
    }
   },
   "outputs": [
    {
     "data": {
      "text/plain": [
       "source_id\n",
       "12477    2434\n",
       "12664    2434\n",
       "236      2420\n",
       "316      2442\n",
       "446       721\n",
       "         ... \n",
       "20150    2448\n",
       "29802    2448\n",
       "9651     2439\n",
       "18378    2441\n",
       "13358    2438\n",
       "Length: 1357, dtype: int64"
      ]
     },
     "execution_count": 78,
     "metadata": {},
     "output_type": "execute_result"
    }
   ],
   "source": [
    "output_df.isna().sum(axis=0)"
   ]
  },
  {
   "cell_type": "code",
   "execution_count": 79,
   "metadata": {
    "execution": {
     "iopub.execute_input": "2024-02-11T11:48:22.156711Z",
     "iopub.status.busy": "2024-02-11T11:48:22.156603Z",
     "iopub.status.idle": "2024-02-11T11:48:22.434131Z",
     "shell.execute_reply": "2024-02-11T11:48:22.433806Z"
    }
   },
   "outputs": [
    {
     "data": {
      "image/png": "[encoded data removed]",
      "text/plain": [
       "<Figure size 640x480 with 1 Axes>"
      ]
     },
     "metadata": {},
     "output_type": "display_data"
    }
   ],
   "source": [
    "plt.hist(output_df.isna().sum(axis=0), bins=500);"
   ]
  },
  {
   "cell_type": "markdown",
   "metadata": {},
   "source": [
    "Most of the compounds here are NA for most ingredients, which isn't necessarily a bad thing."
   ]
  },
  {
   "cell_type": "code",
   "execution_count": 80,
   "metadata": {
    "execution": {
     "iopub.execute_input": "2024-02-11T11:48:22.435525Z",
     "iopub.status.busy": "2024-02-11T11:48:22.435433Z",
     "iopub.status.idle": "2024-02-11T11:48:22.439357Z",
     "shell.execute_reply": "2024-02-11T11:48:22.439141Z"
    }
   },
   "outputs": [
    {
     "name": "stdout",
     "output_type": "stream",
     "text": [
      "<class 'pandas.core.frame.DataFrame'>\n",
      "MultiIndex: 4722448 entries, (1, 'KNAPSACK', nan, 1598) to (1026, 'MANUAL_HAND', nan, 15423)\n",
      "Data columns (total 6 columns):\n",
      " #   Column                 Dtype  \n",
      "---  ------                 -----  \n",
      " 0   food_name              string \n",
      " 1   source_name            string \n",
      " 2   concentration          Float64\n",
      " 3   orig_citation          string \n",
      " 4   orig_food_common_name  string \n",
      " 5   orig_food_part         string \n",
      "dtypes: Float64(1), string(5)\n",
      "memory usage: 268.3+ MB\n"
     ]
    }
   ],
   "source": [
    "content_df.info()"
   ]
  },
  {
   "cell_type": "markdown",
   "metadata": {},
   "source": [
    "Lets check which few compounds actually are measured in most of the ingredients."
   ]
  },
  {
   "cell_type": "code",
   "execution_count": 81,
   "metadata": {
    "execution": {
     "iopub.execute_input": "2024-02-11T11:48:22.440741Z",
     "iopub.status.busy": "2024-02-11T11:48:22.440599Z",
     "iopub.status.idle": "2024-02-11T11:48:22.475009Z",
     "shell.execute_reply": "2024-02-11T11:48:22.474787Z"
    }
   },
   "outputs": [
    {
     "data": {
      "text/plain": [
       "Index([  446,   484,   556,   565,   574,   753,  1014,  1131,  1145,  1946,\n",
       "        2257,  3011,  3522, 11859, 12002, 12030, 12163, 12742, 13272, 13900,\n",
       "       14537,  1193,  2890,  2928,  2942,  2943,  2953,  3004,  3103,  3337,\n",
       "        3513,  3524,  3583,  3637,  3716,  3730,  4288,  8052,  8323,  8425,\n",
       "       10035, 12065, 12360, 12531, 12533, 12566, 12636, 12735, 12814, 13267,\n",
       "       13393, 13403, 13831, 14507, 16258, 21594, 21595, 21596, 21981, 12022,\n",
       "         455, 13719],\n",
       "      dtype='int64', name='source_id')"
      ]
     },
     "execution_count": 81,
     "metadata": {},
     "output_type": "execute_result"
    }
   ],
   "source": [
    "output_df.columns[output_df.isna().sum(axis=0) < 750]"
   ]
  },
  {
   "cell_type": "code",
   "execution_count": 82,
   "metadata": {
    "execution": {
     "iopub.execute_input": "2024-02-11T11:48:22.476260Z",
     "iopub.status.busy": "2024-02-11T11:48:22.476172Z",
     "iopub.status.idle": "2024-02-11T11:48:22.593884Z",
     "shell.execute_reply": "2024-02-11T11:48:22.593519Z"
    }
   },
   "outputs": [
    {
     "data": {
      "text/plain": [
       "<StringArray>\n",
       "[]\n",
       "Length: 0, dtype: string"
      ]
     },
     "execution_count": 82,
     "metadata": {},
     "output_type": "execute_result"
    }
   ],
   "source": [
    "content_df['source_name'][content_df.index.get_level_values(1).isin(output_df.columns[output_df.isna().sum(axis=0) < 750])].unique()"
   ]
  },
  {
   "cell_type": "markdown",
   "metadata": {},
   "source": [
    "# Saving"
   ]
  },
  {
   "cell_type": "code",
   "execution_count": 83,
   "metadata": {
    "execution": {
     "iopub.execute_input": "2024-02-11T11:48:22.595297Z",
     "iopub.status.busy": "2024-02-11T11:48:22.595203Z",
     "iopub.status.idle": "2024-02-11T11:48:22.693468Z",
     "shell.execute_reply": "2024-02-11T11:48:22.693202Z"
    }
   },
   "outputs": [
    {
     "data": {
      "text/plain": [
       "(2450, 1357)"
      ]
     },
     "execution_count": 83,
     "metadata": {},
     "output_type": "execute_result"
    }
   ],
   "source": [
    "output_df.to_feather('../data/local/molecule/partial/compounds/0.feather')\n",
    "output_df.shape"
   ]
  },
  {
   "cell_type": "code",
   "execution_count": null,
   "metadata": {},
   "outputs": [],
   "source": []
  }
 ],
 "metadata": {
  "kernelspec": {
   "display_name": "recipes",
   "language": "python",
   "name": "python3"
  },
  "language_info": {
   "codemirror_mode": {
    "name": "ipython",
    "version": 3
   },
   "file_extension": ".py",
   "mimetype": "text/x-python",
   "name": "python",
   "nbconvert_exporter": "python",
   "pygments_lexer": "ipython3",
   "version": "3.10.13"
  }
 },
 "nbformat": 4,
 "nbformat_minor": 2
}
